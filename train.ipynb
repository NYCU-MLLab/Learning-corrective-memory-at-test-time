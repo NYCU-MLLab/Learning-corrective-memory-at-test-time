{
 "cells": [
  {
   "cell_type": "code",
   "execution_count": 1,
   "id": "e2caa902",
   "metadata": {},
   "outputs": [
    {
     "name": "stderr",
     "output_type": "stream",
     "text": [
      "/root/miniconda3/envs/longhorn/lib/python3.10/site-packages/tqdm/auto.py:21: TqdmWarning: IProgress not found. Please update jupyter and ipywidgets. See https://ipywidgets.readthedocs.io/en/stable/user_install.html\n",
      "  from .autonotebook import tqdm as notebook_tqdm\n"
     ]
    }
   ],
   "source": [
    "import os\n",
    "import time\n",
    "import inspect\n",
    "import math\n",
    "import pickle\n",
    "from tqdm import tqdm\n",
    "from contextlib import nullcontext\n",
    "import numpy as np\n",
    "import torch\n",
    "from torch.nn.parallel import DistributedDataParallel as DDP\n",
    "from torch.distributed import init_process_group, destroy_process_group\n",
    "from torch.nn import Linear as nnLinear\n",
    "import torch.nn as nn\n",
    "import torch.nn.functional as F\n",
    "\n",
    "from mamba_ssm.models.config_mamba import MambaConfig\n",
    "from models import *\n",
    "from models.ttt import TTTLinear, TTTConfig, TTTForCausalLM\n",
    "from models.PreCo import PreCoNewConfig, PreCoNewModel\n",
    "from models.preco_nogain import PreCoNoGainConfig, PreCoNoGainModel\n",
    "# import wandb"
   ]
  },
  {
   "cell_type": "code",
   "execution_count": 2,
   "id": "584d7c4f",
   "metadata": {},
   "outputs": [],
   "source": [
    "master_seed = 1337\n",
    "out_dir = 'results/slim_results'\n",
    "# 🚀 與 run.sh 實際訓練參數一致\n",
    "eval_interval = 200     # 評估間隔 (run.sh: --eval_interval=200)\n",
    "log_interval = 10       # 日誌間隔\n",
    "eval_iters = 50         # 評估迭代次數\n",
    "eval_only = False\n",
    "always_save_checkpoint = False"
   ]
  },
  {
   "cell_type": "code",
   "execution_count": 3,
   "id": "ccc7503b",
   "metadata": {},
   "outputs": [],
   "source": [
    "model_name = \"ttt\" # llama, gla, rwkv, retnet, mamba, longhorn, ttt, preco"
   ]
  },
  {
   "cell_type": "code",
   "execution_count": 4,
   "id": "444bd939",
   "metadata": {},
   "outputs": [],
   "source": [
    "dataset = 'Slim'\n",
    "do_eval = True\n",
    "gradient_accumulation_steps = 4   # 實際梯度累積步數 (run.sh: grad_accum=4)\n",
    "# 🚀 與 run.sh 實際訓練參數一致\n",
    "batch_size = 4          # 實際批次大小 (run.sh: batch_size=4)\n",
    "block_size = 2048       # 序列長度 (run.sh: block_size=2048)\n",
    "use_branch_losses = False  # 僅用 CE 端到端訓練兩分支（建議）\n",
    "branch_longhorn_weight = 1.0\n",
    "branch_ttt_weight = 1.0"
   ]
  },
  {
   "cell_type": "markdown",
   "id": "361a799c",
   "metadata": {},
   "source": [
    "### 工具函數"
   ]
  },
  {
   "cell_type": "code",
   "execution_count": 5,
   "id": "05ce5f2e",
   "metadata": {},
   "outputs": [],
   "source": [
    "def setup_distributed():\n",
    "    \"\"\"設置分布式訓練環境（單GPU優化版）\"\"\"\n",
    "    ddp = int(os.environ.get('RANK', -1)) != -1\n",
    "    if ddp:\n",
    "        # 多GPU分布式訓練設置\n",
    "        init_process_group(backend=backend)\n",
    "        ddp_rank = int(os.environ['RANK'])\n",
    "        ddp_local_rank = int(os.environ['LOCAL_RANK'])\n",
    "        ddp_world_size = int(os.environ['WORLD_SIZE'])\n",
    "        device_name = f'cuda:{ddp_local_rank}'\n",
    "        torch.cuda.set_device(device_name)\n",
    "        master_process = ddp_rank == 0\n",
    "        seed_offset = ddp_rank\n",
    "        return ddp, device_name, master_process, seed_offset, ddp_world_size, ddp_local_rank\n",
    "    else:\n",
    "        # 單GPU訓練設置（您的情況）\n",
    "        print(\"檢測到單GPU環境，使用標準訓練模式\")\n",
    "        return False, device, True, 0, 1, 0\n"
   ]
  },
  {
   "cell_type": "code",
   "execution_count": 6,
   "id": "206a53c0",
   "metadata": {},
   "outputs": [],
   "source": [
    "def load_data(dataset_name, block_size):\n",
    "    \"\"\"載入訓練數據\"\"\"\n",
    "    data_dir = os.path.join('data', dataset_name)\n",
    "    \n",
    "    print(f\"使用 PyTorch 原生數據載入方式\")\n",
    "    \n",
    "    # 載入數據\n",
    "    train_data = np.memmap(os.path.join(data_dir, 'train.bin'), dtype=np.uint16, mode='r')\n",
    "    val_data = np.memmap(os.path.join(data_dir, 'val.bin'), dtype=np.uint16, mode='r')\n",
    "    \n",
    "    print(f\" 載入數據:\")\n",
    "    print(f\" Train tokens: {len(train_data):,}\")\n",
    "    print(f\" Val tokens: {len(val_data):,}\")\n",
    "    print(f\" 序列長度: {block_size}\")\n",
    "    \n",
    "    # 載入詞彙表信息\n",
    "    meta_path = os.path.join(data_dir, 'meta.pkl')\n",
    "    if os.path.exists(meta_path):\n",
    "        with open(meta_path, 'rb') as f:\n",
    "            meta = pickle.load(f)\n",
    "        vocab_size = meta.get('vocab_size', 50257)\n",
    "        print(f\"載入meta資訊: vocab_size={vocab_size}\")\n",
    "    else:\n",
    "        vocab_size = 50257\n",
    "        print(f\"未找到meta.pkl，使用預設vocab_size={vocab_size}\")\n",
    "    \n",
    "    return train_data, val_data, vocab_size"
   ]
  },
  {
   "cell_type": "code",
   "execution_count": 7,
   "id": "148ba293",
   "metadata": {},
   "outputs": [],
   "source": [
    "def get_batch_fn(train_data, val_data, batch_size, block_size, device_type, device):\n",
    "    \"\"\"創建批次獲取函數\"\"\"\n",
    "    def get_batch(split):\n",
    "        data = train_data if split == 'train' else val_data\n",
    "        ix = torch.randint(len(data) - block_size, (batch_size,))\n",
    "        x = torch.stack([torch.from_numpy((data[i:i+block_size]).astype(np.int64)) for i in ix])\n",
    "        y = torch.stack([torch.from_numpy((data[i+1:i+1+block_size]).astype(np.int64)) for i in ix])\n",
    "        \n",
    "        if device_type == 'cuda':\n",
    "            x, y = x.pin_memory().to(device, non_blocking=True), y.pin_memory().to(device, non_blocking=True)\n",
    "        else:\n",
    "            x, y = x.to(device), y.to(device)\n",
    "        \n",
    "        return x, y\n",
    "    return get_batch\n",
    "\n",
    "def calculate_ppl(loss):\n",
    "    \"\"\"計算困惑度\"\"\"\n",
    "    if loss > 700:\n",
    "        return float('inf')\n",
    "    try:\n",
    "        return math.exp(loss)\n",
    "    except OverflowError:\n",
    "        return float('inf')"
   ]
  },
  {
   "cell_type": "markdown",
   "id": "94b83806",
   "metadata": {},
   "source": [
    "### 學習率調度器"
   ]
  },
  {
   "cell_type": "code",
   "execution_count": 8,
   "id": "6a418253",
   "metadata": {},
   "outputs": [],
   "source": [
    "def get_lr(iter_num, warmup_iters, lr_decay_iters, learning_rate, min_lr, decay_lr=True):\n",
    "    \"\"\"主學習率調度器 - 餘弦衰減 + warmup\"\"\"\n",
    "    if not decay_lr:\n",
    "        return learning_rate\n",
    "    \n",
    "    # 線性 warmup\n",
    "    if iter_num < warmup_iters:\n",
    "        return learning_rate * iter_num / warmup_iters\n",
    "    \n",
    "    # 達到衰減終點：固定最小學習率\n",
    "    if iter_num >= lr_decay_iters:\n",
    "        return min_lr\n",
    "    \n",
    "    # 餘弦衰減\n",
    "    decay_ratio = (iter_num - warmup_iters) / (lr_decay_iters - warmup_iters)\n",
    "    decay_ratio = max(0.0, min(1.0, decay_ratio))\n",
    "    coeff = 0.5 * (1.0 + math.cos(math.pi * decay_ratio))\n",
    "    return min_lr + coeff * (learning_rate - min_lr)\n",
    "\n",
    "def get_ttt_lr_mult(iter_num, lr_decay_iters):\n",
    "    \"\"\"TTT 學習率倍數調度器（僅用於 preco_nogain 和 ttt）\"\"\"\n",
    "    base_mult = 1.0\n",
    "    warmup_steps = 500\n",
    "    \n",
    "    if iter_num < warmup_steps:\n",
    "        # 餘弦 warmup: 0.1 → 1.0\n",
    "        progress = iter_num / warmup_steps\n",
    "        return 0.1 + 0.9 * (1.0 - math.cos(math.pi * progress)) / 2.0\n",
    "    elif iter_num < 2000:\n",
    "        return base_mult\n",
    "    elif iter_num >= 3000:\n",
    "        # 餘弦衰減: 1.0 → 0.3\n",
    "        decay_start = 3000\n",
    "        decay_ratio = (iter_num - decay_start) / (lr_decay_iters - decay_start)\n",
    "        decay_ratio = min(decay_ratio, 1.0)\n",
    "        min_ttt_mult = 0.3\n",
    "        coeff = 0.5 * (1.0 + math.cos(math.pi * decay_ratio))\n",
    "        return min_ttt_mult + coeff * (base_mult - min_ttt_mult)\n",
    "    else:\n",
    "        return base_mult"
   ]
  },
  {
   "cell_type": "markdown",
   "id": "67a6fd16",
   "metadata": {},
   "source": [
    "### 模型創建函數"
   ]
  },
  {
   "cell_type": "code",
   "execution_count": 9,
   "id": "d8842b68",
   "metadata": {},
   "outputs": [
    {
     "name": "stdout",
     "output_type": "stream",
     "text": [
      "  - loss 報告: total_loss\n",
      "  - ppl 計算: exp(ce_loss)\n"
     ]
    }
   ],
   "source": [
    "def create_estimate_loss_fn_corrected(model, model_name, get_batch, eval_iters, device_type):\n",
    "    \"\"\"🔧 修正後的損失評估函數 - 明確區分 total_loss 和 ce_loss\"\"\"\n",
    "    \n",
    "    @torch.no_grad()\n",
    "    def estimate_loss(iter_num=0):\n",
    "        out = {}\n",
    "        model.eval()\n",
    "        \n",
    "        for split in ['train', 'val']:\n",
    "            # 🎯 關鍵修正：明確區分 total_loss 和 ce_loss\n",
    "            total_losses_list = []    # 用於報告 loss (total_loss)\n",
    "            ce_losses_list = []       # 用於計算 perplexity (ce_loss)\n",
    "            \n",
    "            # PreCo 系列特定統計\n",
    "            if model_name == \"preco\":\n",
    "                longhorn_losses, ttt_losses = [], []\n",
    "                kalman_means, kalman_stds = [], []\n",
    "            \n",
    "            bad_batches = 0\n",
    "            \n",
    "            for k in range(eval_iters):\n",
    "                x, y = get_batch(split)\n",
    "                \n",
    "                # 評估時使用 FP32 以提高穩定性\n",
    "                with torch.cuda.amp.autocast(enabled=False):\n",
    "                    if model_name == \"ttt\":\n",
    "                        outputs = model(input_ids=x, labels=y)\n",
    "                        if isinstance(outputs, tuple):\n",
    "                            logits, loss = outputs[0], outputs[1]\n",
    "                        else:\n",
    "                            logits, loss = outputs.logits, outputs.loss\n",
    "                        \n",
    "                        loss_val = float(loss.item()) if hasattr(loss, 'item') else float(loss)\n",
    "                        if math.isfinite(loss_val):\n",
    "                            # TTT 模型：loss 就是 ce_loss\n",
    "                            total_losses_list.append(loss_val)\n",
    "                            ce_losses_list.append(loss_val)\n",
    "                        else:\n",
    "                            bad_batches += 1\n",
    "                            \n",
    "                    elif model_name == \"preco\":\n",
    "                        # PreCo 使用 TTT 原生自適應學習率\n",
    "                        logits, loss_dict = model(x, y, compute_branch_loss=False)\n",
    "                        \n",
    "                        # 轉換所有損失為 float\n",
    "                        for key in list(loss_dict.keys()):\n",
    "                            if hasattr(loss_dict[key], 'item'):\n",
    "                                loss_dict[key] = loss_dict[key].item()\n",
    "                            else:\n",
    "                                loss_dict[key] = float(loss_dict[key])\n",
    "                        \n",
    "                        total_loss_val = float(loss_dict.get('total_loss', float('nan')))\n",
    "                        ce_loss_val = float(loss_dict.get('ce_loss', float('nan')))\n",
    "                        \n",
    "                        if math.isfinite(total_loss_val) and math.isfinite(ce_loss_val):\n",
    "                            # 🎯 關鍵修正：明確區分用途\n",
    "                            total_losses_list.append(total_loss_val)  # 報告 total_loss\n",
    "                            ce_losses_list.append(ce_loss_val)        # 計算 perplexity\n",
    "                            \n",
    "                            longhorn_losses.append(float(loss_dict.get('longhorn_loss', 0.0)))\n",
    "                            ttt_losses.append(float(loss_dict.get('ttt_loss', 0.0)))\n",
    "                            kalman_means.append(float(loss_dict.get('kalman_mean', 0.0)))\n",
    "                            kalman_stds.append(float(loss_dict.get('kalman_std', 0.0)))\n",
    "                        else:\n",
    "                            bad_batches += 1\n",
    "                            \n",
    "                    else:\n",
    "                        # 其他模型 (longhorn, etc.)\n",
    "                        logits, loss = model(x, y)\n",
    "                        loss_val = float(loss.item()) if hasattr(loss, 'item') else float(loss)\n",
    "                        if math.isfinite(loss_val):\n",
    "                            # 其他模型：loss 就是 ce_loss\n",
    "                            total_losses_list.append(loss_val)\n",
    "                            ce_losses_list.append(loss_val)\n",
    "                        else:\n",
    "                            bad_batches += 1\n",
    "            \n",
    "            # 🎯 計算平均損失：明確區分用途\n",
    "            mean_total_loss = (sum(total_losses_list) / len(total_losses_list)) if len(total_losses_list) > 0 else float('inf')\n",
    "            mean_ce_loss = (sum(ce_losses_list) / len(ce_losses_list)) if len(ce_losses_list) > 0 else float('inf')\n",
    "            \n",
    "            result = {\n",
    "                'loss': float(mean_total_loss),           # 報告 total_loss\n",
    "                'ppl': calculate_ppl(float(mean_ce_loss)) # 基於 ce_loss 計算 perplexity ✅\n",
    "            }\n",
    "            \n",
    "            # 添加 PreCo 統計\n",
    "            if model_name == \"preco\":\n",
    "                result.update({\n",
    "                    'ce_loss': float(mean_ce_loss),  # 明確報告 ce_loss\n",
    "                    'longhorn_loss': float(sum(longhorn_losses)/len(longhorn_losses)) if len(longhorn_losses)>0 else float('inf'),\n",
    "                    'ttt_loss': float(sum(ttt_losses)/len(ttt_losses)) if len(ttt_losses)>0 else float('inf'),\n",
    "                    'kalman_mean': float(sum(kalman_means)/len(kalman_means)) if len(kalman_means)>0 else 0.0,\n",
    "                    'kalman_std': float(sum(kalman_stds)/len(kalman_stds)) if len(kalman_stds)>0 else 0.0,\n",
    "                    'dropped_batches': bad_batches,\n",
    "                })\n",
    "            \n",
    "            out[split] = result\n",
    "        \n",
    "        model.train()\n",
    "        return out\n",
    "    \n",
    "    return estimate_loss\n",
    "\n",
    "print(\"  - loss 報告: total_loss\")\n",
    "print(\"  - ppl 計算: exp(ce_loss)\")"
   ]
  },
  {
   "cell_type": "markdown",
   "id": "0b2b53ee",
   "metadata": {},
   "source": [
    "### 修正說明和使用示例\n"
   ]
  },
  {
   "cell_type": "code",
   "execution_count": 10,
   "id": "8c7930f3",
   "metadata": {},
   "outputs": [],
   "source": [
    "# # 📊 修正說明：Loss vs Perplexity 的正確計算\n",
    "\n",
    "# print(\"🔧 問題分析:\")\n",
    "# print(\"  原始代碼問題：\")\n",
    "# print(\"    - losses_list 存儲的是 total_loss (可能包含 longhorn/ttt loss)\")\n",
    "# print(\"    - 但用 total_loss 計算 perplexity 是錯誤的\")\n",
    "# print(\"    - perplexity 應該基於 ce_loss 計算\")\n",
    "# print()\n",
    "\n",
    "# print(\"✅ 修正方案:\")\n",
    "# print(\"  明確區分兩個用途：\")\n",
    "# print(\"    - loss 報告: total_loss (完整的訓練損失)\")\n",
    "# print(\"    - ppl 計算: exp(ce_loss) (語言模型的困惑度)\")\n",
    "# print()\n",
    "\n",
    "# print(\"📈 不同模型的處理:\")\n",
    "# print(\"  TTT/Longhorn 模型:\")\n",
    "# print(\"    - loss = ce_loss (單純的交叉熵)\")\n",
    "# print(\"    - ppl = exp(ce_loss)\")\n",
    "# print()\n",
    "# print(\"  PreCo 模型:\")\n",
    "# print(\"    - loss = total_loss (可能包含分支損失)\")\n",
    "# print(\"    - ppl = exp(ce_loss) (僅基於交叉熵)\")\n",
    "# print(\"    - 額外報告: ce_loss, longhorn_loss, ttt_loss\")\n",
    "# print()\n",
    "\n",
    "# # 使用示例\n",
    "# print(\"🚀 使用修正後的評估函數:\")\n",
    "# print(\"# 替換原來的評估函數\")\n",
    "# print(\"estimate_loss_corrected = create_estimate_loss_fn_corrected(model, model_name, get_batch, eval_iters, device_type)\")\n",
    "# print()\n",
    "# print(\"# 評估結果示例 (PreCo 模型):\")\n",
    "# print(\"losses = estimate_loss_corrected()\")\n",
    "# print(\"print(f'Loss: {losses[\\\"train\\\"][\\\"loss\\\"]:.4f}')      # total_loss\")\n",
    "# print(\"print(f'PPL: {losses[\\\"train\\\"][\\\"ppl\\\"]:.2f}')        # exp(ce_loss)\")\n",
    "# print(\"print(f'CE Loss: {losses[\\\"train\\\"][\\\"ce_loss\\\"]:.4f}') # ce_loss\")\n"
   ]
  },
  {
   "cell_type": "code",
   "execution_count": 11,
   "id": "f6df45f8",
   "metadata": {},
   "outputs": [
    {
     "name": "stdout",
     "output_type": "stream",
     "text": [
      "🚀 創建 Longhorn 模型 - 實際訓練配置\n",
      "Longhorn 模型參數量: 128.5M\n",
      "🚀 創建 TTT 模型 - 125M 配置\n",
      "TTT 模型參數量: 124.4M\n",
      "創建 PreCo 模型 - 127M 配置\n"
     ]
    }
   ],
   "source": [
    "# 🚀 修正後的模型創建 - 與實際訓練參數一致\n",
    "\n",
    "from models.longhorn import LonghornLM, LonghornConfig\n",
    "from models.ttt import TTTLinear, TTTConfig, TTTForCausalLM\n",
    "from models.PreCo import PreCoNewConfig, PreCoNewModel\n",
    "\n",
    "# ========================================\n",
    "# 1. Longhorn 模型 (與 run.sh 和 train.py 一致)\n",
    "# ========================================\n",
    "print(\"🚀 創建 Longhorn 模型 - 實際訓練配置\")\n",
    "\n",
    "Longhorn_model = LonghornLM(\n",
    "    LonghornConfig(\n",
    "        vocab_size=50257,   # 實際詞彙表大小 (與 train.py 一致)\n",
    "        d_model=768,        # 模型維度 (run.sh: --n_embd=768)\n",
    "        n_layer=12,         # 層數 (run.sh: --n_layer=12)\n",
    "        ssm_cfg={\n",
    "            'd_state': 16,  # SSM 狀態維度 (train.py 實際配置)\n",
    "            'd_conv': 4,    # 卷積核大小 (train.py 實際配置)\n",
    "            'expand': 4     # 內部維度擴展倍數 (train.py: 4×768=3072)\n",
    "        },\n",
    "        # 其他配置與 train.py 一致\n",
    "        rms_norm=True,\n",
    "        residual_in_fp32=True,\n",
    "        fused_add_norm=True,\n",
    "        tie_embeddings=True\n",
    "    )\n",
    ")\n",
    "\n",
    "print(f\"Longhorn 模型參數量: {sum(p.numel() for p in Longhorn_model.parameters())/1e6:.1f}M\")\n",
    "\n",
    "# ========================================\n",
    "# 2. TTT 模型 (與 run.sh 一致)\n",
    "# ========================================\n",
    "print(\"🚀 創建 TTT 模型 - 125M 配置\")\n",
    "\n",
    "TTT_model = TTTForCausalLM(\n",
    "    TTTConfig(\n",
    "        vocab_size=50257,                    # 實際詞彙表大小\n",
    "        hidden_size=768,                     # 隱藏層維度 (run.sh: --n_embd=768)\n",
    "        intermediate_size=2048,              # MLP 中間層維度 (768*2.67≈2048)\n",
    "        num_hidden_layers=12,                # Transformer 層數 (run.sh: --n_layer=12)\n",
    "        num_attention_heads=12,              # 注意力頭數 (run.sh: --n_head=12)\n",
    "        max_position_embeddings=2048,        # 最大位置編碼 (run.sh: --block_size=2048)\n",
    "        \n",
    "        # TTT 特定參數 (與 run.sh 一致)\n",
    "        ttt_base_lr=1.0,                     # TTT 基礎學習率\n",
    "        mini_batch_size=16,                  # 小批次大小\n",
    "        use_gate=False,                      # 門控機制 (run.sh: --use_gate=False)\n",
    "        share_qk=False,                      # Q/K 共享 (run.sh: --share_qk=False)\n",
    "        ttt_layer_type=\"linear\",             # TTT 層類型\n",
    "        pre_conv=True,                       # 預卷積 (run.sh: --pre_conv=True)\n",
    "        conv_kernel=4,                       # 卷積核大小 (run.sh: --conv_kernel=4)\n",
    "        scan_checkpoint_group_size=0,        # 梯度檢查點\n",
    "        \n",
    "        # 標準參數\n",
    "        dropout=0.0,                         # Dropout (run.sh: --dropout=0.0)\n",
    "        pad_token_id=0,\n",
    "        bos_token_id=2,\n",
    "        eos_token_id=3,\n",
    "        tie_word_embeddings=True,\n",
    "    )\n",
    ")\n",
    "\n",
    "print(f\"TTT 模型參數量: {sum(p.numel() for p in TTT_model.parameters())/1e6:.1f}M\")\n",
    "\n",
    "# ========================================\n",
    "# 3. PreCo 模型 (與 run.sh 一致)\n",
    "# ========================================\n",
    "print(\"創建 PreCo 模型 - 127M 配置\")\n",
    "\n",
    "PreCo_model = PreCoNewModel(\n",
    "    PreCoNewConfig(\n",
    "        vocab_size=50257,                    # 實際詞彙表大小\n",
    "        d_model=512,                         # 模型維度 (run.sh: --longhorn_d_model=512)\n",
    "        n_layer=12,                          # 層數 (run.sh: --longhorn_n_layer=12)\n",
    "        \n",
    "        # Longhorn 配置 (與 run.sh 一致)\n",
    "        d_state=8,                           # SSM 狀態維度 (run.sh: --longhorn_d_state=8)\n",
    "        d_conv=3,                            # 卷積核大小 (固定為3)\n",
    "        expand=6,                            # SSM 擴展倍數 (run.sh: --longhorn_ssm_expand=6)\n",
    "        \n",
    "        # TTT 配置 (與 run.sh 一致)\n",
    "        ttt_num_heads=8,                     # TTT 頭數 (run.sh: --ttt_num_heads=8)\n",
    "        ttt_num_layers=1,                    # TTT 層數 (run.sh: --ttt_num_layers=1)\n",
    "        mini_batch_size=16,                  # 小批次大小 (run.sh: --mini_batch_size=16)\n",
    "        \n",
    "        # 其他參數\n",
    "        dropout=0.1,                         # Dropout (run.sh: --dropout=0.1)\n",
    "    )\n",
    ")\n"
   ]
  },
  {
   "cell_type": "code",
   "execution_count": 12,
   "id": "8065687d",
   "metadata": {},
   "outputs": [
    {
     "name": "stdout",
     "output_type": "stream",
     "text": [
      "TTTForCausalLM(\n",
      "  (model): TTTModel(\n",
      "    (embed_tokens): Embedding(50257, 768, padding_idx=0)\n",
      "    (layers): ModuleList(\n",
      "      (0-11): 12 x Block(\n",
      "        (seq_modeling_block): TTTLinear(\n",
      "          (q_proj): Linear(in_features=768, out_features=768, bias=False)\n",
      "          (k_proj): Linear(in_features=768, out_features=768, bias=False)\n",
      "          (v_proj): Linear(in_features=768, out_features=768, bias=False)\n",
      "          (o_proj): Linear(in_features=768, out_features=768, bias=False)\n",
      "          (rotary_emb): RotaryEmbedding()\n",
      "          (post_norm): LayerNorm((768,), eps=1e-06, elementwise_affine=True)\n",
      "        )\n",
      "        (mlp): SwiGluMLP(\n",
      "          (gate_proj): Linear(in_features=768, out_features=2048, bias=False)\n",
      "          (up_proj): Linear(in_features=768, out_features=2048, bias=False)\n",
      "          (down_proj): Linear(in_features=2048, out_features=768, bias=False)\n",
      "          (act_fn): SiLU()\n",
      "        )\n",
      "        (conv): Conv(\n",
      "          (norm): RMSNorm()\n",
      "          (conv): Conv1d(768, 768, kernel_size=(4,), stride=(1,), padding=(3,), groups=768)\n",
      "        )\n",
      "        (seq_norm): RMSNorm()\n",
      "        (ffn_norm): RMSNorm()\n",
      "      )\n",
      "    )\n",
      "    (norm): RMSNorm()\n",
      "  )\n",
      "  (lm_head): Linear(in_features=768, out_features=50257, bias=False)\n",
      ")\n"
     ]
    }
   ],
   "source": [
    "print(TTT_model)"
   ]
  },
  {
   "cell_type": "markdown",
   "id": "5c157704",
   "metadata": {},
   "source": [
    "### 評估函數"
   ]
  },
  {
   "cell_type": "code",
   "execution_count": 13,
   "id": "233bdb70",
   "metadata": {},
   "outputs": [],
   "source": [
    "def create_estimate_loss_fn(model, model_name, get_batch, eval_iters, device_type):\n",
    "    \"\"\"創建損失評估函數\"\"\"\n",
    "    \n",
    "    @torch.no_grad()\n",
    "    def estimate_loss(iter_num=0):\n",
    "        out = {}\n",
    "        model.eval()\n",
    "        \n",
    "        for split in ['train', 'val']:\n",
    "            losses_list = []\n",
    "            ppl_losses_list = []\n",
    "            \n",
    "            # PreCo 系列特定統計\n",
    "            if model_name == \"preco\":\n",
    "                ce_losses, longhorn_losses, ttt_losses = [], [], []\n",
    "                kalman_means, kalman_stds = [], []\n",
    "            \n",
    "            bad_batches = 0\n",
    "            \n",
    "            for k in range(eval_iters):\n",
    "                x, y = get_batch(split)\n",
    "                \n",
    "                # 評估時使用 FP32 以提高穩定性\n",
    "                with torch.cuda.amp.autocast(enabled=False):\n",
    "                    if model_name == \"ttt\":\n",
    "                        outputs = model(input_ids=x, labels=y)\n",
    "                        if isinstance(outputs, tuple):\n",
    "                            logits, loss = outputs[0], outputs[1]\n",
    "                        else:\n",
    "                            logits, loss = outputs.logits, outputs.loss\n",
    "                        \n",
    "                        loss_val = float(loss.item()) if hasattr(loss, 'item') else float(loss)\n",
    "                        if math.isfinite(loss_val):\n",
    "                            losses_list.append(loss_val)\n",
    "                            ppl_losses_list.append(loss_val)\n",
    "                        else:\n",
    "                            bad_batches += 1\n",
    "                            \n",
    "                    elif model_name == \"preco\":\n",
    "                        # PreCo 使用 TTT 原生自適應學習率\n",
    "                        logits, loss_dict = model(x, y, compute_branch_loss=False)\n",
    "                        \n",
    "                        # 轉換所有損失為 float\n",
    "                        for key in list(loss_dict.keys()):\n",
    "                            if hasattr(loss_dict[key], 'item'):\n",
    "                                loss_dict[key] = loss_dict[key].item()\n",
    "                            else:\n",
    "                                loss_dict[key] = float(loss_dict[key])\n",
    "                        \n",
    "                        total_loss_val = float(loss_dict.get('total_loss', float('nan')))\n",
    "                        ce_loss_val = float(loss_dict.get('ce_loss', float('nan')))\n",
    "                        \n",
    "                        if math.isfinite(total_loss_val) and math.isfinite(ce_loss_val):\n",
    "                            losses_list.append(total_loss_val)\n",
    "                            ppl_losses_list.append(ce_loss_val)\n",
    "                            \n",
    "                            ce_losses.append(ce_loss_val)\n",
    "                            longhorn_losses.append(float(loss_dict.get('longhorn_loss', 0.0)))\n",
    "                            ttt_losses.append(float(loss_dict.get('ttt_loss', 0.0)))\n",
    "                            kalman_means.append(float(loss_dict.get('kalman_mean', 0.0)))\n",
    "                            kalman_stds.append(float(loss_dict.get('kalman_std', 0.0)))\n",
    "                        else:\n",
    "                            bad_batches += 1\n",
    "                            \n",
    "                    else:\n",
    "                        logits, loss = model(x, y)\n",
    "                        loss_val = float(loss.item()) if hasattr(loss, 'item') else float(loss)\n",
    "                        if math.isfinite(loss_val):\n",
    "                            losses_list.append(loss_val)\n",
    "                            ppl_losses_list.append(loss_val)\n",
    "                        else:\n",
    "                            bad_batches += 1\n",
    "            \n",
    "            # 計算平均損失\n",
    "            mean_loss = (sum(losses_list) / len(losses_list)) if len(losses_list) > 0 else float('inf')\n",
    "            mean_ppl_loss = (sum(ppl_losses_list) / len(ppl_losses_list)) if len(ppl_losses_list) > 0 else float('inf')\n",
    "            \n",
    "            result = {\n",
    "                'loss': float(mean_loss),\n",
    "                'ppl': calculate_ppl(float(mean_ppl_loss)),\n",
    "                'dropped_batches': bad_batches\n",
    "            }\n",
    "            \n",
    "            # 添加 PreCo 統計\n",
    "            if model_name == \"preco\":\n",
    "                result.update({\n",
    "                    'ce_loss': float(sum(ce_losses)/len(ce_losses)) if len(ce_losses)>0 else float('inf'),\n",
    "                    'longhorn_loss': float(sum(longhorn_losses)/len(longhorn_losses)) if len(longhorn_losses)>0 else float('inf'),\n",
    "                    'ttt_loss': float(sum(ttt_losses)/len(ttt_losses)) if len(ttt_losses)>0 else float('inf'),\n",
    "                    'kalman_mean': float(sum(kalman_means)/len(kalman_means)) if len(kalman_means)>0 else 0.0,\n",
    "                    'kalman_std': float(sum(kalman_stds)/len(kalman_stds)) if len(kalman_stds)>0 else 0.0,\n",
    "                })\n",
    "            \n",
    "            out[split] = result\n",
    "        \n",
    "        model.train()\n",
    "        return out\n",
    "    \n",
    "    return estimate_loss"
   ]
  },
  {
   "cell_type": "markdown",
   "id": "d1e02a59",
   "metadata": {},
   "source": [
    "### 主訓練函數"
   ]
  },
  {
   "cell_type": "code",
   "execution_count": 14,
   "id": "14fd732a",
   "metadata": {},
   "outputs": [
    {
     "name": "stdout",
     "output_type": "stream",
     "text": [
      "訓練循環函數已定義\n"
     ]
    }
   ],
   "source": [
    "# 🚀 訓練循環函數\n",
    "\n",
    "def train_loop(model, optimizer, scaler, ctx, estimate_loss, tokens_per_iter, use_wandb=False):\n",
    "    \"\"\"主訓練循環\"\"\"\n",
    "    \n",
    "    # 訓練參數\n",
    "    learning_rate = 1e-3\n",
    "    max_iters = 9600\n",
    "    warmup_iters = 960\n",
    "    lr_decay_iters = max_iters\n",
    "    min_lr = 1e-5\n",
    "    grad_clip = 1.0\n",
    "    \n",
    "    # 統計變量\n",
    "    iter_num = 0\n",
    "    best_val_loss = 1e9\n",
    "    t0 = time.time()\n",
    "    \n",
    "    # 預取第一個批次\n",
    "    x, y = get_batch('train')\n",
    "    \n",
    "    print(\"開始訓練循環...\")\n",
    "    print(f\"總迭代次數: {max_iters}\")\n",
    "    print(f\"評估間隔: {eval_interval}\")\n",
    "    print(f\"每次迭代處理 tokens: {tokens_per_iter:,}\")\n",
    "    \n",
    "    # ========================================\n",
    "    # 主訓練循環\n",
    "    # ========================================\n",
    "    while True:\n",
    "        \n",
    "        # ========================================\n",
    "        # 1. 設置學習率\n",
    "        # ========================================\n",
    "        lr = get_lr(iter_num, warmup_iters, lr_decay_iters, learning_rate, min_lr, decay_lr=True)\n",
    "        for param_group in optimizer.param_groups:\n",
    "            param_group['lr'] = lr\n",
    "        \n",
    "        # ========================================\n",
    "        # 2. 評估和檢查點保存\n",
    "        # ========================================\n",
    "        if iter_num % eval_interval == 0:\n",
    "            losses = estimate_loss(iter_num)\n",
    "            train_loss = losses['train']['loss']\n",
    "            val_loss = losses['val']['loss']\n",
    "            \n",
    "            print(f\"step {iter_num}: train loss {train_loss:.4f}, val loss {val_loss:.4f}\")\n",
    "            print(f\"train ppl {losses['train']['ppl']:.2f}, val ppl {losses['val']['ppl']:.2f}\")\n",
    "            \n",
    "            # Train/Val gap 監控\n",
    "            gap = val_loss - train_loss\n",
    "            gap_ratio = gap / train_loss if train_loss > 0 else 0\n",
    "            print(f\"📈 Train/Val Gap: {gap:.4f} ({gap_ratio*100:.2f}%)\")\n",
    "            \n",
    "            # PreCo 詳細統計\n",
    "            if model_name == \"preco\":\n",
    "                print(f\"  📊 PRECO 詳細統計:\")\n",
    "                print(f\"    CE Loss: {losses['train']['ce_loss']:.4f} / {losses['val']['ce_loss']:.4f}\")\n",
    "                print(f\"    Kalman 統計: mean={losses['train']['kalman_mean']:.4f}, std={losses['train']['kalman_std']:.4f}\")\n",
    "            \n",
    "            # wandb 記錄\n",
    "            if use_wandb:\n",
    "                log_data = {\n",
    "                    \"train/loss\": train_loss, \"val/loss\": val_loss,\n",
    "                    \"train/ppl\": losses['train']['ppl'], \"val/ppl\": losses['val']['ppl'],\n",
    "                    \"learning_rate\": lr, \"iter\": iter_num,\n",
    "                }\n",
    "                \n",
    "                if model_name == \"preco\":\n",
    "                    log_data.update({\n",
    "                        \"preco/adaptive_ttt_lr\": \"native\",\n",
    "                        \"preco/kalman_mean\": losses['train']['kalman_mean'],\n",
    "                        \"preco/kalman_std\": losses['train']['kalman_std'],\n",
    "                    })\n",
    "                \n",
    "                wandb.log(log_data)\n",
    "            \n",
    "            # 保存最佳檢查點\n",
    "            if val_loss < best_val_loss:\n",
    "                best_val_loss = val_loss\n",
    "                print(f\"新的最佳驗證損失: {best_val_loss:.4f}\")\n",
    "        \n",
    "        # ========================================\n",
    "        # 3. 前向和反向傳播\n",
    "        # ========================================\n",
    "        for micro_step in range(gradient_accumulation_steps):\n",
    "            with ctx:\n",
    "                if model_name == \"ttt\":\n",
    "                    outputs = model(input_ids=x, labels=y)\n",
    "                    if isinstance(outputs, tuple):\n",
    "                        logits, loss = outputs[0], outputs[1]\n",
    "                    else:\n",
    "                        logits, loss = outputs.logits, outputs.loss\n",
    "                    loss = loss / gradient_accumulation_steps\n",
    "                    \n",
    "                elif model_name == \"preco\":\n",
    "                    logits, loss_dict = model(x, y, compute_branch_loss=False)\n",
    "                    loss = loss_dict['total_loss'] / gradient_accumulation_steps\n",
    "                    \n",
    "                else:\n",
    "                    logits, loss = model(x, y)\n",
    "                    loss = loss / gradient_accumulation_steps\n",
    "            \n",
    "            # 異步預取下一個批次\n",
    "            x, y = get_batch('train')\n",
    "            scaler.scale(loss).backward()\n",
    "        \n",
    "        # ========================================\n",
    "        # 4. 梯度裁剪和優化器步驟\n",
    "        # ========================================\n",
    "        if grad_clip != 0.0:\n",
    "            scaler.unscale_(optimizer)\n",
    "            torch.nn.utils.clip_grad_norm_(model.parameters(), grad_clip)\n",
    "        \n",
    "        scaler.step(optimizer)\n",
    "        scaler.update()\n",
    "        optimizer.zero_grad(set_to_none=True)\n",
    "        \n",
    "        # ========================================\n",
    "        # 5. 日誌記錄\n",
    "        # ========================================\n",
    "        t1 = time.time()\n",
    "        dt = t1 - t0\n",
    "        t0 = t1\n",
    "        \n",
    "        if iter_num % (log_interval * 2) == 0:\n",
    "            lossf = loss.item() * gradient_accumulation_steps\n",
    "            print(f\"iter {iter_num}: loss {lossf:.4f}, time {dt*1000:.2f}ms\")\n",
    "            \n",
    "            if model_name == \"preco\":\n",
    "                print(f\"TTT 自適應學習率: 原生機制\")\n",
    "        \n",
    "        iter_num += 1\n",
    "        \n",
    "        # ========================================\n",
    "        # 6. 終止條件\n",
    "        # ========================================\n",
    "        if iter_num > max_iters:\n",
    "            break\n",
    "    \n",
    "    # 清理\n",
    "    if use_wandb:\n",
    "        wandb.finish()\n",
    "    \n",
    "    print(\"🎉 訓練完成！\")\n",
    "    return model, best_val_loss\n",
    "\n",
    "print(\"訓練循環函數已定義\")\n"
   ]
  },
  {
   "cell_type": "markdown",
   "id": "bb969aa7",
   "metadata": {},
   "source": [
    "### 開始訓練"
   ]
  },
  {
   "cell_type": "code",
   "execution_count": 15,
   "id": "320090e1",
   "metadata": {},
   "outputs": [
    {
     "name": "stdout",
     "output_type": "stream",
     "text": [
      "使用 PyTorch 原生數據載入方式\n",
      " 載入數據:\n",
      " Train tokens: 943,635,020\n",
      " Val tokens: 9,101,108\n",
      " 序列長度: 2048\n",
      "載入meta資訊: vocab_size=50257\n",
      "創建模型: ttt\n",
      "模型參數總量: 124.4M\n",
      "使用融合 AdamW: True\n",
      "wandb 初始化失敗，跳過在線記錄\n",
      "每次迭代處理 tokens: 32,768\n",
      "初始化完成，準備開始訓練！\n"
     ]
    }
   ],
   "source": [
    "# ========================================\n",
    "# 1. 基本配置設置\n",
    "# ========================================\n",
    "\n",
    "# 訓練參數 (與 run.sh 一致)\n",
    "learning_rate = 1e-3      # run.sh: lr=2.5e-3\n",
    "weight_decay = 0.1          # run.sh: wd=0.1\n",
    "max_iters = 9600            # run.sh: max_iters=9600\n",
    "warmup_iters = 960          # run.sh: warmup=960\n",
    "lr_decay_iters = max_iters  # run.sh: --lr_decay_iters=$max_iters\n",
    "min_lr = 1e-5               # 最小學習率\n",
    "beta1, beta2 = 0.9, 0.95    # Adam 參數\n",
    "grad_clip = 1.0             # 梯度裁剪\n",
    "\n",
    "# 設備和精度配置\n",
    "device = 'cuda' if torch.cuda.is_available() else 'cpu'\n",
    "device_type = 'cuda' if 'cuda' in device else 'cpu'\n",
    "dtype = 'bfloat16' if torch.cuda.is_available() and torch.cuda.is_bf16_supported() else 'float16'\n",
    "ptdtype = {'float32': torch.float32, 'bfloat16': torch.bfloat16, 'float16': torch.float16}[dtype]\n",
    "ctx = nullcontext() if device_type == 'cpu' else torch.amp.autocast(device_type=device_type, dtype=ptdtype)\n",
    "\n",
    "# print(f\"🚀 訓練配置:\")\n",
    "# print(f\"  - 設備: {device}\")\n",
    "# print(f\"  - 精度: {dtype}\")\n",
    "# print(f\"  - 學習率: {learning_rate}\")\n",
    "# print(f\"  - 最大迭代: {max_iters}\")\n",
    "# print(f\"  - 批次大小: {batch_size}\")\n",
    "# print(f\"  - 序列長度: {block_size}\")\n",
    "\n",
    "# ========================================\n",
    "# 2. 數據載入\n",
    "# ========================================\n",
    "train_data, val_data, vocab_size = load_data(dataset, block_size)\n",
    "get_batch = get_batch_fn(train_data, val_data, batch_size, block_size, device_type, device)\n",
    "# ========================================\n",
    "# 3. 模型選擇和初始化\n",
    "# ========================================\n",
    "print(f\"創建模型: {model_name}\")\n",
    "\n",
    "if model_name == \"longhorn\":\n",
    "    model = Longhorn_model\n",
    "elif model_name == \"ttt\":\n",
    "    model = TTT_model\n",
    "elif model_name == \"preco\":\n",
    "    model = PreCo_model\n",
    "else:\n",
    "    raise ValueError(f\"不支持的模型類型: {model_name}\")\n",
    "\n",
    "model.to(device)\n",
    "\n",
    "# 僅 TTT 模型需要轉換精度\n",
    "if model_name == \"ttt\":\n",
    "    model = model.to(ptdtype)\n",
    "\n",
    "# ========================================\n",
    "# 4. 優化器設置\n",
    "# ========================================\n",
    "param_dict = {pn: p for pn, p in model.named_parameters() if p.requires_grad}\n",
    "decay_params = [p for n, p in param_dict.items() if p.dim() >= 2]\n",
    "nodecay_params = [p for n, p in param_dict.items() if p.dim() < 2]\n",
    "\n",
    "optim_groups = [\n",
    "    {'params': decay_params, 'weight_decay': weight_decay},\n",
    "    {'params': nodecay_params, 'weight_decay': 0.0}\n",
    "]\n",
    "\n",
    "total_params = sum(p.numel() for p in decay_params) + sum(p.numel() for p in nodecay_params)\n",
    "print(f\"模型參數總量: {total_params/1e6:.1f}M\")\n",
    "\n",
    "# 創建優化器\n",
    "fused_available = 'fused' in inspect.signature(torch.optim.AdamW).parameters\n",
    "use_fused = fused_available and device_type == 'cuda'\n",
    "extra_args = dict(fused=True) if use_fused else dict()\n",
    "\n",
    "optimizer = torch.optim.AdamW(optim_groups, lr=learning_rate, \n",
    "                             betas=(beta1, beta2), weight_decay=weight_decay, **extra_args)\n",
    "print(f\"使用融合 AdamW: {use_fused}\")\n",
    "\n",
    "# 設置梯度縮放器\n",
    "scaler = torch.cuda.amp.GradScaler(enabled=(dtype == 'float16'))\n",
    "\n",
    "# ========================================\n",
    "# 5. 初始化 wandb (可選)\n",
    "# ========================================\n",
    "experiment_name = f\"{dataset}_{block_size * batch_size * gradient_accumulation_steps * max_iters / 1e9:.1f}_block{block_size}_{model_name}\"\n",
    "\n",
    "wandb_config = {\n",
    "    \"model_name\": model_name, \"dataset\": dataset, \"block_size\": block_size,\n",
    "    \"batch_size\": batch_size, \"gradient_accumulation_steps\": gradient_accumulation_steps,\n",
    "    \"learning_rate\": learning_rate, \"max_iters\": max_iters,\n",
    "    \"vocab_size\": vocab_size, \"total_params\": total_params,\n",
    "}\n",
    "\n",
    "# 添加模型特定配置\n",
    "if model_name == \"preco\":\n",
    "    wandb_config.update({\n",
    "        \"longhorn_d_model\": 512,\n",
    "        \"ttt_num_heads\": 8,\n",
    "        \"training_objective\": \"end_to_end_cross_entropy\",\n",
    "    })\n",
    "\n",
    "try:\n",
    "    wandb.init(project=\"2048\", name=experiment_name, config=wandb_config)\n",
    "    use_wandb = True\n",
    "    print(\"wandb 初始化成功\")\n",
    "except:\n",
    "    use_wandb = False\n",
    "    print(\"wandb 初始化失敗，跳過在線記錄\")\n",
    "\n",
    "# ========================================\n",
    "# 6. 創建評估函數\n",
    "# ========================================\n",
    "estimate_loss = create_estimate_loss_fn(model, model_name, get_batch, eval_iters, device_type)\n",
    "\n",
    "# 訓練統計\n",
    "tokens_per_iter = gradient_accumulation_steps * batch_size * block_size\n",
    "print(f\"每次迭代處理 tokens: {tokens_per_iter:,}\")\n",
    "\n",
    "print(\"初始化完成，準備開始訓練！\")\n"
   ]
  },
  {
   "cell_type": "code",
   "execution_count": 16,
   "id": "0dc1a177",
   "metadata": {},
   "outputs": [
    {
     "name": "stdout",
     "output_type": "stream",
     "text": [
      "\\n🚀 開始訓練循環...\n",
      "總迭代次數: 9600\n",
      "評估間隔: 200\n",
      "每次迭代處理 tokens: 32,768\n",
      "step 0: train loss 10.9541, val loss 10.9543\n",
      "train ppl 57189.97, val ppl 57201.75\n",
      "📈 Train/Val Gap: 0.0002 (0.00%)\n",
      "✅ 新的最佳驗證損失: 10.9543\n"
     ]
    },
    {
     "name": "stderr",
     "output_type": "stream",
     "text": [
      "100%|██████████| 4/4 [00:16<00:00,  4.02s/it]\n"
     ]
    },
    {
     "name": "stdout",
     "output_type": "stream",
     "text": [
      "iter 0: loss 10.9652, time 108140.81ms\n"
     ]
    },
    {
     "name": "stderr",
     "output_type": "stream",
     "text": [
      "100%|██████████| 4/4 [00:16<00:00,  4.01s/it]\n",
      "100%|██████████| 4/4 [00:16<00:00,  4.06s/it]\n",
      "100%|██████████| 4/4 [00:16<00:00,  4.07s/it]\n",
      "100%|██████████| 4/4 [00:16<00:00,  4.07s/it]\n",
      "100%|██████████| 4/4 [00:16<00:00,  4.07s/it]\n",
      "100%|██████████| 4/4 [00:16<00:00,  4.09s/it]\n",
      "100%|██████████| 4/4 [00:16<00:00,  4.08s/it]\n",
      "100%|██████████| 4/4 [00:16<00:00,  4.08s/it]\n",
      "100%|██████████| 4/4 [00:16<00:00,  4.08s/it]\n",
      "100%|██████████| 4/4 [00:16<00:00,  4.07s/it]\n",
      "100%|██████████| 4/4 [00:16<00:00,  4.06s/it]\n",
      "100%|██████████| 4/4 [00:16<00:00,  4.06s/it]\n",
      "100%|██████████| 4/4 [00:16<00:00,  4.06s/it]\n",
      "100%|██████████| 4/4 [00:16<00:00,  4.08s/it]\n",
      "100%|██████████| 4/4 [00:16<00:00,  4.06s/it]\n",
      "100%|██████████| 4/4 [00:16<00:00,  4.06s/it]\n",
      "100%|██████████| 4/4 [00:16<00:00,  4.04s/it]\n",
      "100%|██████████| 4/4 [00:16<00:00,  4.01s/it]\n",
      "100%|██████████| 4/4 [00:16<00:00,  4.02s/it]\n",
      "100%|██████████| 4/4 [00:16<00:00,  4.02s/it]\n"
     ]
    },
    {
     "name": "stdout",
     "output_type": "stream",
     "text": [
      "iter 20: loss 10.6862, time 16099.57ms\n"
     ]
    },
    {
     "name": "stderr",
     "output_type": "stream",
     "text": [
      "100%|██████████| 4/4 [00:16<00:00,  4.01s/it]\n",
      "100%|██████████| 4/4 [00:16<00:00,  4.02s/it]\n",
      "100%|██████████| 4/4 [00:16<00:00,  4.02s/it]\n",
      "100%|██████████| 4/4 [00:16<00:00,  4.02s/it]\n",
      "100%|██████████| 4/4 [00:16<00:00,  4.02s/it]\n",
      "100%|██████████| 4/4 [00:16<00:00,  4.02s/it]\n",
      "100%|██████████| 4/4 [00:16<00:00,  4.02s/it]\n",
      "100%|██████████| 4/4 [00:16<00:00,  4.02s/it]\n",
      "100%|██████████| 4/4 [00:16<00:00,  4.02s/it]\n",
      "100%|██████████| 4/4 [00:16<00:00,  4.02s/it]\n",
      "100%|██████████| 4/4 [00:16<00:00,  4.02s/it]\n",
      "100%|██████████| 4/4 [00:16<00:00,  4.03s/it]\n",
      "100%|██████████| 4/4 [00:16<00:00,  4.02s/it]\n",
      "100%|██████████| 4/4 [00:16<00:00,  4.02s/it]\n",
      "100%|██████████| 4/4 [00:16<00:00,  4.02s/it]\n",
      "100%|██████████| 4/4 [00:16<00:00,  4.02s/it]\n",
      "100%|██████████| 4/4 [00:16<00:00,  4.02s/it]\n",
      "100%|██████████| 4/4 [00:16<00:00,  4.02s/it]\n",
      "100%|██████████| 4/4 [00:16<00:00,  4.02s/it]\n",
      "100%|██████████| 4/4 [00:16<00:00,  4.02s/it]\n"
     ]
    },
    {
     "name": "stdout",
     "output_type": "stream",
     "text": [
      "iter 40: loss 9.8822, time 16119.67ms\n"
     ]
    },
    {
     "name": "stderr",
     "output_type": "stream",
     "text": [
      "100%|██████████| 4/4 [00:16<00:00,  4.01s/it]\n",
      "100%|██████████| 4/4 [00:16<00:00,  4.02s/it]\n",
      "100%|██████████| 4/4 [00:16<00:00,  4.02s/it]\n",
      "100%|██████████| 4/4 [00:15<00:00,  3.96s/it]\n",
      "100%|██████████| 4/4 [00:15<00:00,  3.96s/it]\n",
      "100%|██████████| 4/4 [00:15<00:00,  3.96s/it]\n",
      "100%|██████████| 4/4 [00:15<00:00,  3.96s/it]\n",
      "100%|██████████| 4/4 [00:15<00:00,  3.96s/it]\n",
      "100%|██████████| 4/4 [00:15<00:00,  3.96s/it]\n",
      "100%|██████████| 4/4 [00:15<00:00,  3.96s/it]\n",
      "100%|██████████| 4/4 [00:15<00:00,  3.96s/it]\n",
      "100%|██████████| 4/4 [00:15<00:00,  3.96s/it]\n",
      "100%|██████████| 4/4 [00:15<00:00,  3.96s/it]\n",
      "100%|██████████| 4/4 [00:15<00:00,  3.96s/it]\n",
      "100%|██████████| 4/4 [00:15<00:00,  3.96s/it]\n",
      "100%|██████████| 4/4 [00:15<00:00,  3.96s/it]\n",
      "100%|██████████| 4/4 [00:15<00:00,  3.96s/it]\n",
      "100%|██████████| 4/4 [00:15<00:00,  3.96s/it]\n",
      "100%|██████████| 4/4 [00:15<00:00,  3.96s/it]\n",
      "100%|██████████| 4/4 [00:15<00:00,  3.96s/it]\n"
     ]
    },
    {
     "name": "stdout",
     "output_type": "stream",
     "text": [
      "iter 60: loss 9.2872, time 15864.54ms\n"
     ]
    },
    {
     "name": "stderr",
     "output_type": "stream",
     "text": [
      "100%|██████████| 4/4 [00:15<00:00,  3.95s/it]\n",
      "100%|██████████| 4/4 [00:15<00:00,  3.96s/it]\n",
      "100%|██████████| 4/4 [00:15<00:00,  3.96s/it]\n",
      "100%|██████████| 4/4 [00:15<00:00,  3.96s/it]\n",
      "100%|██████████| 4/4 [00:15<00:00,  3.96s/it]\n",
      "100%|██████████| 4/4 [00:15<00:00,  3.96s/it]\n",
      "100%|██████████| 4/4 [00:15<00:00,  3.96s/it]\n",
      "100%|██████████| 4/4 [00:15<00:00,  3.96s/it]\n",
      "100%|██████████| 4/4 [00:15<00:00,  3.96s/it]\n",
      "100%|██████████| 4/4 [00:15<00:00,  3.96s/it]\n",
      "100%|██████████| 4/4 [00:15<00:00,  3.96s/it]\n",
      "100%|██████████| 4/4 [00:15<00:00,  3.96s/it]\n",
      "100%|██████████| 4/4 [00:15<00:00,  3.96s/it]\n",
      "100%|██████████| 4/4 [00:15<00:00,  3.96s/it]\n",
      "100%|██████████| 4/4 [00:15<00:00,  3.96s/it]\n",
      "100%|██████████| 4/4 [00:15<00:00,  3.96s/it]\n",
      "100%|██████████| 4/4 [00:15<00:00,  3.96s/it]\n",
      "100%|██████████| 4/4 [00:15<00:00,  3.96s/it]\n",
      "100%|██████████| 4/4 [00:15<00:00,  3.96s/it]\n",
      "100%|██████████| 4/4 [00:16<00:00,  4.00s/it]\n"
     ]
    },
    {
     "name": "stdout",
     "output_type": "stream",
     "text": [
      "iter 80: loss 8.5172, time 16040.32ms\n"
     ]
    },
    {
     "name": "stderr",
     "output_type": "stream",
     "text": [
      "100%|██████████| 4/4 [00:15<00:00,  4.00s/it]\n",
      "100%|██████████| 4/4 [00:16<00:00,  4.00s/it]\n",
      "100%|██████████| 4/4 [00:16<00:00,  4.00s/it]\n",
      "100%|██████████| 4/4 [00:16<00:00,  4.00s/it]\n",
      "100%|██████████| 4/4 [00:16<00:00,  4.00s/it]\n",
      "100%|██████████| 4/4 [00:16<00:00,  4.00s/it]\n",
      "100%|██████████| 4/4 [00:16<00:00,  4.00s/it]\n",
      "100%|██████████| 4/4 [00:16<00:00,  4.00s/it]\n",
      "100%|██████████| 4/4 [00:16<00:00,  4.00s/it]\n",
      "100%|██████████| 4/4 [00:16<00:00,  4.00s/it]\n",
      "100%|██████████| 4/4 [00:16<00:00,  4.00s/it]\n",
      "100%|██████████| 4/4 [00:16<00:00,  4.00s/it]\n",
      "100%|██████████| 4/4 [00:16<00:00,  4.00s/it]\n",
      "100%|██████████| 4/4 [00:15<00:00,  3.95s/it]\n",
      "100%|██████████| 4/4 [00:15<00:00,  3.81s/it]\n",
      "100%|██████████| 4/4 [00:15<00:00,  3.92s/it]\n",
      "100%|██████████| 4/4 [00:15<00:00,  3.97s/it]\n",
      "100%|██████████| 4/4 [00:15<00:00,  3.97s/it]\n",
      "100%|██████████| 4/4 [00:15<00:00,  3.97s/it]\n",
      "100%|██████████| 4/4 [00:15<00:00,  3.97s/it]\n"
     ]
    },
    {
     "name": "stdout",
     "output_type": "stream",
     "text": [
      "iter 100: loss 8.1979, time 15919.87ms\n"
     ]
    },
    {
     "name": "stderr",
     "output_type": "stream",
     "text": [
      "100%|██████████| 4/4 [00:15<00:00,  3.96s/it]\n",
      "100%|██████████| 4/4 [00:15<00:00,  3.97s/it]\n",
      "100%|██████████| 4/4 [00:15<00:00,  3.98s/it]\n",
      "100%|██████████| 4/4 [00:15<00:00,  3.97s/it]\n",
      "100%|██████████| 4/4 [00:15<00:00,  3.97s/it]\n",
      "100%|██████████| 4/4 [00:15<00:00,  3.97s/it]\n",
      "100%|██████████| 4/4 [00:15<00:00,  3.98s/it]\n",
      "100%|██████████| 4/4 [00:15<00:00,  3.97s/it]\n",
      "100%|██████████| 4/4 [00:15<00:00,  3.98s/it]\n",
      "100%|██████████| 4/4 [00:15<00:00,  3.97s/it]\n",
      "100%|██████████| 4/4 [00:15<00:00,  3.98s/it]\n",
      "100%|██████████| 4/4 [00:15<00:00,  3.97s/it]\n",
      "100%|██████████| 4/4 [00:15<00:00,  3.97s/it]\n",
      "100%|██████████| 4/4 [00:15<00:00,  3.97s/it]\n",
      "100%|██████████| 4/4 [00:15<00:00,  3.97s/it]\n",
      "100%|██████████| 4/4 [00:15<00:00,  3.97s/it]\n",
      "100%|██████████| 4/4 [00:15<00:00,  3.97s/it]\n",
      "100%|██████████| 4/4 [00:15<00:00,  3.97s/it]\n",
      "100%|██████████| 4/4 [00:15<00:00,  3.97s/it]\n",
      "100%|██████████| 4/4 [00:15<00:00,  3.97s/it]\n"
     ]
    },
    {
     "name": "stdout",
     "output_type": "stream",
     "text": [
      "iter 120: loss 7.8115, time 15901.73ms\n"
     ]
    },
    {
     "name": "stderr",
     "output_type": "stream",
     "text": [
      "100%|██████████| 4/4 [00:15<00:00,  3.96s/it]\n",
      "100%|██████████| 4/4 [00:15<00:00,  3.97s/it]\n",
      "100%|██████████| 4/4 [00:15<00:00,  3.97s/it]\n",
      "100%|██████████| 4/4 [00:16<00:00,  4.03s/it]\n",
      "100%|██████████| 4/4 [00:16<00:00,  4.04s/it]\n",
      "100%|██████████| 4/4 [00:16<00:00,  4.04s/it]\n",
      "100%|██████████| 4/4 [00:16<00:00,  4.03s/it]\n",
      "100%|██████████| 4/4 [00:16<00:00,  4.03s/it]\n",
      "100%|██████████| 4/4 [00:16<00:00,  4.04s/it]\n",
      "100%|██████████| 4/4 [00:16<00:00,  4.03s/it]\n",
      "100%|██████████| 4/4 [00:16<00:00,  4.03s/it]\n",
      "100%|██████████| 4/4 [00:16<00:00,  4.04s/it]\n",
      "100%|██████████| 4/4 [00:16<00:00,  4.04s/it]\n",
      "100%|██████████| 4/4 [00:16<00:00,  4.03s/it]\n",
      "100%|██████████| 4/4 [00:16<00:00,  4.03s/it]\n",
      "100%|██████████| 4/4 [00:16<00:00,  4.03s/it]\n",
      "100%|██████████| 4/4 [00:16<00:00,  4.04s/it]\n",
      "100%|██████████| 4/4 [00:16<00:00,  4.04s/it]\n",
      "100%|██████████| 4/4 [00:16<00:00,  4.03s/it]\n",
      "100%|██████████| 4/4 [00:16<00:00,  4.03s/it]\n"
     ]
    },
    {
     "name": "stdout",
     "output_type": "stream",
     "text": [
      "iter 140: loss 7.7183, time 16148.68ms\n"
     ]
    },
    {
     "name": "stderr",
     "output_type": "stream",
     "text": [
      "100%|██████████| 4/4 [00:16<00:00,  4.03s/it]\n",
      "100%|██████████| 4/4 [00:16<00:00,  4.03s/it]\n",
      "100%|██████████| 4/4 [00:16<00:00,  4.03s/it]\n",
      "100%|██████████| 4/4 [00:16<00:00,  4.03s/it]\n",
      "100%|██████████| 4/4 [00:16<00:00,  4.03s/it]\n",
      "100%|██████████| 4/4 [00:16<00:00,  4.03s/it]\n",
      "100%|██████████| 4/4 [00:16<00:00,  4.03s/it]\n",
      "100%|██████████| 4/4 [00:16<00:00,  4.03s/it]\n",
      "100%|██████████| 4/4 [00:16<00:00,  4.03s/it]\n",
      "100%|██████████| 4/4 [00:16<00:00,  4.03s/it]\n",
      "100%|██████████| 4/4 [00:16<00:00,  4.03s/it]\n",
      "100%|██████████| 4/4 [00:16<00:00,  4.03s/it]\n",
      "100%|██████████| 4/4 [00:16<00:00,  4.03s/it]\n",
      "100%|██████████| 4/4 [00:16<00:00,  4.03s/it]\n",
      "100%|██████████| 4/4 [00:16<00:00,  4.03s/it]\n",
      "100%|██████████| 4/4 [00:16<00:00,  4.03s/it]\n",
      "100%|██████████| 4/4 [00:16<00:00,  4.03s/it]\n",
      "100%|██████████| 4/4 [00:16<00:00,  4.03s/it]\n",
      "100%|██████████| 4/4 [00:16<00:00,  4.04s/it]\n",
      "100%|██████████| 4/4 [00:16<00:00,  4.03s/it]\n"
     ]
    },
    {
     "name": "stdout",
     "output_type": "stream",
     "text": [
      "iter 160: loss 7.7637, time 16156.72ms\n"
     ]
    },
    {
     "name": "stderr",
     "output_type": "stream",
     "text": [
      "100%|██████████| 4/4 [00:16<00:00,  4.03s/it]\n",
      "100%|██████████| 4/4 [00:16<00:00,  4.04s/it]\n",
      "100%|██████████| 4/4 [00:16<00:00,  4.03s/it]\n",
      "100%|██████████| 4/4 [00:16<00:00,  4.03s/it]\n",
      "100%|██████████| 4/4 [00:16<00:00,  4.03s/it]\n",
      "100%|██████████| 4/4 [00:16<00:00,  4.03s/it]\n",
      "100%|██████████| 4/4 [00:16<00:00,  4.04s/it]\n",
      "100%|██████████| 4/4 [00:16<00:00,  4.03s/it]\n",
      "100%|██████████| 4/4 [00:16<00:00,  4.03s/it]\n",
      "100%|██████████| 4/4 [00:16<00:00,  4.03s/it]\n",
      "100%|██████████| 4/4 [00:16<00:00,  4.03s/it]\n",
      "100%|██████████| 4/4 [00:16<00:00,  4.03s/it]\n",
      "100%|██████████| 4/4 [00:16<00:00,  4.03s/it]\n",
      "100%|██████████| 4/4 [00:16<00:00,  4.03s/it]\n",
      "100%|██████████| 4/4 [00:16<00:00,  4.03s/it]\n",
      "100%|██████████| 4/4 [00:16<00:00,  4.03s/it]\n",
      "100%|██████████| 4/4 [00:16<00:00,  4.03s/it]\n",
      "100%|██████████| 4/4 [00:16<00:00,  4.03s/it]\n",
      "100%|██████████| 4/4 [00:16<00:00,  4.03s/it]\n",
      "100%|██████████| 4/4 [00:16<00:00,  4.03s/it]\n"
     ]
    },
    {
     "name": "stdout",
     "output_type": "stream",
     "text": [
      "iter 180: loss 7.8173, time 16162.77ms\n"
     ]
    },
    {
     "name": "stderr",
     "output_type": "stream",
     "text": [
      "100%|██████████| 4/4 [00:16<00:00,  4.03s/it]\n",
      "100%|██████████| 4/4 [00:16<00:00,  4.03s/it]\n",
      "100%|██████████| 4/4 [00:16<00:00,  4.03s/it]\n",
      "100%|██████████| 4/4 [00:16<00:00,  4.04s/it]\n",
      "100%|██████████| 4/4 [00:16<00:00,  4.04s/it]\n",
      "100%|██████████| 4/4 [00:16<00:00,  4.03s/it]\n",
      "100%|██████████| 4/4 [00:16<00:00,  4.03s/it]\n",
      "100%|██████████| 4/4 [00:16<00:00,  4.03s/it]\n",
      "100%|██████████| 4/4 [00:16<00:00,  4.04s/it]\n",
      "100%|██████████| 4/4 [00:16<00:00,  4.03s/it]\n",
      "100%|██████████| 4/4 [00:16<00:00,  4.03s/it]\n",
      "100%|██████████| 4/4 [00:16<00:00,  4.03s/it]\n",
      "100%|██████████| 4/4 [00:16<00:00,  4.04s/it]\n",
      "100%|██████████| 4/4 [00:16<00:00,  4.03s/it]\n",
      "100%|██████████| 4/4 [00:16<00:00,  4.03s/it]\n",
      "100%|██████████| 4/4 [00:16<00:00,  4.03s/it]\n",
      "100%|██████████| 4/4 [00:16<00:00,  4.03s/it]\n",
      "100%|██████████| 4/4 [00:16<00:00,  4.06s/it]\n",
      "100%|██████████| 4/4 [00:16<00:00,  4.03s/it]\n"
     ]
    },
    {
     "name": "stdout",
     "output_type": "stream",
     "text": [
      "step 200: train loss 7.6533, val loss 7.7148\n",
      "train ppl 2107.58, val ppl 2241.19\n",
      "📈 Train/Val Gap: 0.0615 (0.80%)\n",
      "✅ 新的最佳驗證損失: 7.7148\n"
     ]
    },
    {
     "name": "stderr",
     "output_type": "stream",
     "text": [
      "100%|██████████| 4/4 [00:16<00:00,  4.03s/it]\n"
     ]
    },
    {
     "name": "stdout",
     "output_type": "stream",
     "text": [
      "iter 200: loss 7.5518, time 111601.34ms\n"
     ]
    },
    {
     "name": "stderr",
     "output_type": "stream",
     "text": [
      "100%|██████████| 4/4 [00:16<00:00,  4.03s/it]\n",
      "100%|██████████| 4/4 [00:16<00:00,  4.03s/it]\n",
      "100%|██████████| 4/4 [00:16<00:00,  4.03s/it]\n",
      "100%|██████████| 4/4 [00:16<00:00,  4.03s/it]\n",
      "100%|██████████| 4/4 [00:16<00:00,  4.03s/it]\n",
      "100%|██████████| 4/4 [00:16<00:00,  4.03s/it]\n",
      "100%|██████████| 4/4 [00:16<00:00,  4.03s/it]\n",
      "100%|██████████| 4/4 [00:16<00:00,  4.03s/it]\n",
      "100%|██████████| 4/4 [00:16<00:00,  4.03s/it]\n",
      "100%|██████████| 4/4 [00:16<00:00,  4.04s/it]\n",
      "100%|██████████| 4/4 [00:16<00:00,  4.03s/it]\n",
      "100%|██████████| 4/4 [00:16<00:00,  4.03s/it]\n",
      "100%|██████████| 4/4 [00:16<00:00,  4.03s/it]\n",
      "100%|██████████| 4/4 [00:16<00:00,  4.05s/it]\n",
      "100%|██████████| 4/4 [00:16<00:00,  4.03s/it]\n",
      "100%|██████████| 4/4 [00:16<00:00,  4.03s/it]\n",
      "100%|██████████| 4/4 [00:15<00:00,  3.94s/it]\n",
      "100%|██████████| 4/4 [00:15<00:00,  3.93s/it]\n",
      "100%|██████████| 4/4 [00:15<00:00,  3.93s/it]\n",
      "100%|██████████| 4/4 [00:15<00:00,  3.94s/it]\n"
     ]
    },
    {
     "name": "stdout",
     "output_type": "stream",
     "text": [
      "iter 220: loss 7.6178, time 15772.34ms\n"
     ]
    },
    {
     "name": "stderr",
     "output_type": "stream",
     "text": [
      "100%|██████████| 4/4 [00:15<00:00,  3.93s/it]\n",
      "100%|██████████| 4/4 [00:15<00:00,  3.93s/it]\n",
      "100%|██████████| 4/4 [00:15<00:00,  3.93s/it]\n",
      "100%|██████████| 4/4 [00:15<00:00,  3.94s/it]\n",
      "100%|██████████| 4/4 [00:15<00:00,  3.94s/it]\n",
      "100%|██████████| 4/4 [00:15<00:00,  3.96s/it]\n",
      "100%|██████████| 4/4 [00:15<00:00,  3.93s/it]\n",
      "100%|██████████| 4/4 [00:15<00:00,  3.94s/it]\n",
      "100%|██████████| 4/4 [00:15<00:00,  3.93s/it]\n",
      "100%|██████████| 4/4 [00:15<00:00,  3.93s/it]\n",
      "100%|██████████| 4/4 [00:15<00:00,  3.93s/it]\n",
      "100%|██████████| 4/4 [00:15<00:00,  3.94s/it]\n",
      "100%|██████████| 4/4 [00:15<00:00,  3.94s/it]\n",
      "100%|██████████| 4/4 [00:15<00:00,  3.93s/it]\n",
      "100%|██████████| 4/4 [00:15<00:00,  3.93s/it]\n",
      "100%|██████████| 4/4 [00:15<00:00,  3.94s/it]\n",
      "100%|██████████| 4/4 [00:15<00:00,  3.93s/it]\n",
      "100%|██████████| 4/4 [00:15<00:00,  3.94s/it]\n",
      "100%|██████████| 4/4 [00:15<00:00,  3.94s/it]\n",
      "100%|██████████| 4/4 [00:15<00:00,  3.93s/it]\n"
     ]
    },
    {
     "name": "stdout",
     "output_type": "stream",
     "text": [
      "iter 240: loss 7.3625, time 15754.16ms\n"
     ]
    },
    {
     "name": "stderr",
     "output_type": "stream",
     "text": [
      "100%|██████████| 4/4 [00:15<00:00,  3.93s/it]\n",
      "100%|██████████| 4/4 [00:15<00:00,  3.96s/it]\n",
      "100%|██████████| 4/4 [00:15<00:00,  3.94s/it]\n",
      "100%|██████████| 4/4 [00:15<00:00,  3.94s/it]\n",
      "100%|██████████| 4/4 [00:15<00:00,  3.94s/it]\n",
      "100%|██████████| 4/4 [00:15<00:00,  3.94s/it]\n",
      "100%|██████████| 4/4 [00:15<00:00,  3.94s/it]\n",
      "100%|██████████| 4/4 [00:15<00:00,  3.93s/it]\n",
      "100%|██████████| 4/4 [00:15<00:00,  3.94s/it]\n",
      "100%|██████████| 4/4 [00:15<00:00,  3.94s/it]\n",
      "100%|██████████| 4/4 [00:15<00:00,  3.94s/it]\n",
      "100%|██████████| 4/4 [00:15<00:00,  3.93s/it]\n",
      "100%|██████████| 4/4 [00:15<00:00,  3.94s/it]\n",
      "100%|██████████| 4/4 [00:15<00:00,  3.94s/it]\n",
      "100%|██████████| 4/4 [00:15<00:00,  3.94s/it]\n",
      "100%|██████████| 4/4 [00:15<00:00,  3.94s/it]\n",
      "100%|██████████| 4/4 [00:15<00:00,  3.94s/it]\n",
      "100%|██████████| 4/4 [00:15<00:00,  3.94s/it]\n",
      "100%|██████████| 4/4 [00:15<00:00,  3.94s/it]\n",
      "100%|██████████| 4/4 [00:15<00:00,  3.94s/it]\n"
     ]
    },
    {
     "name": "stdout",
     "output_type": "stream",
     "text": [
      "iter 260: loss 7.4465, time 15765.89ms\n"
     ]
    },
    {
     "name": "stderr",
     "output_type": "stream",
     "text": [
      "100%|██████████| 4/4 [00:15<00:00,  3.93s/it]\n",
      "100%|██████████| 4/4 [00:15<00:00,  3.94s/it]\n",
      "100%|██████████| 4/4 [00:15<00:00,  3.94s/it]\n",
      "100%|██████████| 4/4 [00:15<00:00,  3.94s/it]\n",
      "100%|██████████| 4/4 [00:15<00:00,  3.94s/it]\n",
      "100%|██████████| 4/4 [00:15<00:00,  3.94s/it]\n",
      "100%|██████████| 4/4 [00:15<00:00,  3.94s/it]\n",
      "100%|██████████| 4/4 [00:15<00:00,  3.94s/it]\n",
      "100%|██████████| 4/4 [00:15<00:00,  3.94s/it]\n",
      "100%|██████████| 4/4 [00:15<00:00,  3.94s/it]\n",
      "100%|██████████| 4/4 [00:15<00:00,  3.94s/it]\n",
      "100%|██████████| 4/4 [00:15<00:00,  3.95s/it]\n",
      "100%|██████████| 4/4 [00:15<00:00,  3.94s/it]\n",
      "100%|██████████| 4/4 [00:15<00:00,  3.94s/it]\n",
      "100%|██████████| 4/4 [00:15<00:00,  3.94s/it]\n",
      "100%|██████████| 4/4 [00:15<00:00,  3.94s/it]\n",
      "100%|██████████| 4/4 [00:15<00:00,  3.94s/it]\n",
      "100%|██████████| 4/4 [00:15<00:00,  3.94s/it]\n",
      "100%|██████████| 4/4 [00:15<00:00,  3.94s/it]\n",
      "100%|██████████| 4/4 [00:15<00:00,  3.94s/it]\n"
     ]
    },
    {
     "name": "stdout",
     "output_type": "stream",
     "text": [
      "iter 280: loss 7.2218, time 15769.90ms\n"
     ]
    },
    {
     "name": "stderr",
     "output_type": "stream",
     "text": [
      "100%|██████████| 4/4 [00:15<00:00,  3.93s/it]\n",
      "100%|██████████| 4/4 [00:15<00:00,  3.94s/it]\n",
      "100%|██████████| 4/4 [00:15<00:00,  3.93s/it]\n",
      "100%|██████████| 4/4 [00:15<00:00,  3.93s/it]\n",
      "100%|██████████| 4/4 [00:15<00:00,  3.94s/it]\n",
      "100%|██████████| 4/4 [00:15<00:00,  3.94s/it]\n",
      "100%|██████████| 4/4 [00:15<00:00,  3.93s/it]\n",
      "100%|██████████| 4/4 [00:15<00:00,  3.93s/it]\n",
      "100%|██████████| 4/4 [00:15<00:00,  3.94s/it]\n",
      "100%|██████████| 4/4 [00:15<00:00,  3.93s/it]\n",
      "100%|██████████| 4/4 [00:15<00:00,  3.94s/it]\n",
      "100%|██████████| 4/4 [00:15<00:00,  3.93s/it]\n",
      "100%|██████████| 4/4 [00:15<00:00,  3.94s/it]\n",
      "100%|██████████| 4/4 [00:15<00:00,  3.94s/it]\n",
      "100%|██████████| 4/4 [00:15<00:00,  3.93s/it]\n",
      "100%|██████████| 4/4 [00:15<00:00,  3.93s/it]\n",
      "100%|██████████| 4/4 [00:15<00:00,  3.93s/it]\n",
      "100%|██████████| 4/4 [00:15<00:00,  3.93s/it]\n",
      "100%|██████████| 4/4 [00:15<00:00,  3.93s/it]\n",
      "100%|██████████| 4/4 [00:15<00:00,  3.94s/it]\n"
     ]
    },
    {
     "name": "stdout",
     "output_type": "stream",
     "text": [
      "iter 300: loss 6.9354, time 15768.58ms\n"
     ]
    },
    {
     "name": "stderr",
     "output_type": "stream",
     "text": [
      "100%|██████████| 4/4 [00:15<00:00,  3.92s/it]\n",
      "100%|██████████| 4/4 [00:15<00:00,  3.93s/it]\n",
      "100%|██████████| 4/4 [00:15<00:00,  3.94s/it]\n",
      "100%|██████████| 4/4 [00:15<00:00,  3.98s/it]\n",
      "100%|██████████| 4/4 [00:16<00:00,  4.02s/it]\n",
      "100%|██████████| 4/4 [00:16<00:00,  4.02s/it]\n",
      "100%|██████████| 4/4 [00:16<00:00,  4.03s/it]\n",
      "100%|██████████| 4/4 [00:16<00:00,  4.03s/it]\n",
      "100%|██████████| 4/4 [00:16<00:00,  4.02s/it]\n",
      "100%|██████████| 4/4 [00:16<00:00,  4.02s/it]\n",
      "100%|██████████| 4/4 [00:16<00:00,  4.02s/it]\n",
      "100%|██████████| 4/4 [00:16<00:00,  4.02s/it]\n",
      "100%|██████████| 4/4 [00:16<00:00,  4.02s/it]\n",
      "100%|██████████| 4/4 [00:16<00:00,  4.02s/it]\n",
      "100%|██████████| 4/4 [00:16<00:00,  4.02s/it]\n",
      "100%|██████████| 4/4 [00:16<00:00,  4.03s/it]\n",
      "100%|██████████| 4/4 [00:16<00:00,  4.02s/it]\n",
      "100%|██████████| 4/4 [00:16<00:00,  4.02s/it]\n",
      "100%|██████████| 4/4 [00:16<00:00,  4.02s/it]\n",
      "100%|██████████| 4/4 [00:16<00:00,  4.02s/it]\n"
     ]
    },
    {
     "name": "stdout",
     "output_type": "stream",
     "text": [
      "iter 320: loss 7.4519, time 16099.07ms\n"
     ]
    },
    {
     "name": "stderr",
     "output_type": "stream",
     "text": [
      "100%|██████████| 4/4 [00:16<00:00,  4.02s/it]\n",
      "100%|██████████| 4/4 [00:16<00:00,  4.02s/it]\n",
      "100%|██████████| 4/4 [00:15<00:00,  3.94s/it]\n",
      "100%|██████████| 4/4 [00:15<00:00,  3.94s/it]\n",
      "100%|██████████| 4/4 [00:15<00:00,  3.94s/it]\n",
      "100%|██████████| 4/4 [00:15<00:00,  3.93s/it]\n",
      "100%|██████████| 4/4 [00:15<00:00,  3.93s/it]\n",
      "100%|██████████| 4/4 [00:15<00:00,  3.94s/it]\n",
      "100%|██████████| 4/4 [00:15<00:00,  3.93s/it]\n",
      "100%|██████████| 4/4 [00:15<00:00,  3.94s/it]\n",
      "100%|██████████| 4/4 [00:15<00:00,  3.94s/it]\n",
      "100%|██████████| 4/4 [00:15<00:00,  3.93s/it]\n",
      "100%|██████████| 4/4 [00:15<00:00,  3.94s/it]\n",
      "100%|██████████| 4/4 [00:15<00:00,  3.94s/it]\n",
      "100%|██████████| 4/4 [00:15<00:00,  3.93s/it]\n",
      "100%|██████████| 4/4 [00:15<00:00,  3.93s/it]\n",
      "100%|██████████| 4/4 [00:15<00:00,  3.93s/it]\n",
      "100%|██████████| 4/4 [00:15<00:00,  3.94s/it]\n",
      "100%|██████████| 4/4 [00:15<00:00,  3.93s/it]\n",
      "100%|██████████| 4/4 [00:15<00:00,  3.93s/it]\n"
     ]
    },
    {
     "name": "stdout",
     "output_type": "stream",
     "text": [
      "iter 340: loss 7.2291, time 15756.43ms\n"
     ]
    },
    {
     "name": "stderr",
     "output_type": "stream",
     "text": [
      "100%|██████████| 4/4 [00:15<00:00,  3.93s/it]\n",
      "100%|██████████| 4/4 [00:15<00:00,  3.94s/it]\n",
      "100%|██████████| 4/4 [00:15<00:00,  3.93s/it]\n",
      "100%|██████████| 4/4 [00:15<00:00,  3.93s/it]\n",
      "100%|██████████| 4/4 [00:15<00:00,  3.94s/it]\n",
      "100%|██████████| 4/4 [00:15<00:00,  3.94s/it]\n",
      "100%|██████████| 4/4 [00:15<00:00,  3.94s/it]\n",
      "100%|██████████| 4/4 [00:15<00:00,  3.93s/it]\n",
      "100%|██████████| 4/4 [00:15<00:00,  3.94s/it]\n",
      "100%|██████████| 4/4 [00:15<00:00,  3.94s/it]\n",
      "100%|██████████| 4/4 [00:15<00:00,  3.93s/it]\n",
      "100%|██████████| 4/4 [00:15<00:00,  3.94s/it]\n",
      "100%|██████████| 4/4 [00:15<00:00,  3.94s/it]\n",
      "100%|██████████| 4/4 [00:15<00:00,  3.94s/it]\n",
      "100%|██████████| 4/4 [00:15<00:00,  3.94s/it]\n",
      "100%|██████████| 4/4 [00:15<00:00,  3.94s/it]\n",
      "100%|██████████| 4/4 [00:15<00:00,  3.94s/it]\n",
      "100%|██████████| 4/4 [00:15<00:00,  3.94s/it]\n",
      "100%|██████████| 4/4 [00:15<00:00,  3.93s/it]\n",
      "100%|██████████| 4/4 [00:15<00:00,  3.93s/it]\n"
     ]
    },
    {
     "name": "stdout",
     "output_type": "stream",
     "text": [
      "iter 360: loss 7.4587, time 15766.05ms\n"
     ]
    },
    {
     "name": "stderr",
     "output_type": "stream",
     "text": [
      "100%|██████████| 4/4 [00:15<00:00,  3.93s/it]\n",
      "100%|██████████| 4/4 [00:15<00:00,  3.93s/it]\n",
      "100%|██████████| 4/4 [00:15<00:00,  3.93s/it]\n",
      "100%|██████████| 4/4 [00:15<00:00,  3.92s/it]\n",
      "100%|██████████| 4/4 [00:15<00:00,  3.93s/it]\n",
      "100%|██████████| 4/4 [00:15<00:00,  3.92s/it]\n",
      "100%|██████████| 4/4 [00:15<00:00,  3.92s/it]\n",
      "100%|██████████| 4/4 [00:15<00:00,  3.92s/it]\n",
      "100%|██████████| 4/4 [00:15<00:00,  3.92s/it]\n",
      "100%|██████████| 4/4 [00:15<00:00,  3.92s/it]\n",
      "100%|██████████| 4/4 [00:15<00:00,  3.92s/it]\n",
      "100%|██████████| 4/4 [00:15<00:00,  3.92s/it]\n",
      "100%|██████████| 4/4 [00:15<00:00,  3.92s/it]\n",
      "100%|██████████| 4/4 [00:15<00:00,  3.92s/it]\n",
      "100%|██████████| 4/4 [00:15<00:00,  3.92s/it]\n",
      "100%|██████████| 4/4 [00:15<00:00,  3.93s/it]\n",
      "100%|██████████| 4/4 [00:15<00:00,  3.92s/it]\n",
      "100%|██████████| 4/4 [00:15<00:00,  3.93s/it]\n",
      "100%|██████████| 4/4 [00:15<00:00,  3.92s/it]\n",
      "100%|██████████| 4/4 [00:15<00:00,  3.92s/it]\n"
     ]
    },
    {
     "name": "stdout",
     "output_type": "stream",
     "text": [
      "iter 380: loss 7.1775, time 15719.02ms\n"
     ]
    },
    {
     "name": "stderr",
     "output_type": "stream",
     "text": [
      "100%|██████████| 4/4 [00:15<00:00,  3.92s/it]\n",
      "100%|██████████| 4/4 [00:15<00:00,  3.92s/it]\n",
      "100%|██████████| 4/4 [00:15<00:00,  3.93s/it]\n",
      "100%|██████████| 4/4 [00:15<00:00,  3.92s/it]\n",
      "100%|██████████| 4/4 [00:15<00:00,  3.92s/it]\n",
      "100%|██████████| 4/4 [00:15<00:00,  3.92s/it]\n",
      "100%|██████████| 4/4 [00:15<00:00,  3.92s/it]\n",
      "100%|██████████| 4/4 [00:15<00:00,  3.92s/it]\n",
      "100%|██████████| 4/4 [00:15<00:00,  3.92s/it]\n",
      "100%|██████████| 4/4 [00:15<00:00,  3.92s/it]\n",
      "100%|██████████| 4/4 [00:15<00:00,  3.92s/it]\n",
      "100%|██████████| 4/4 [00:15<00:00,  3.92s/it]\n",
      "100%|██████████| 4/4 [00:15<00:00,  3.92s/it]\n",
      "100%|██████████| 4/4 [00:15<00:00,  3.92s/it]\n",
      "100%|██████████| 4/4 [00:15<00:00,  3.93s/it]\n",
      "100%|██████████| 4/4 [00:15<00:00,  3.92s/it]\n",
      "100%|██████████| 4/4 [00:15<00:00,  3.92s/it]\n",
      "100%|██████████| 4/4 [00:15<00:00,  3.92s/it]\n",
      "100%|██████████| 4/4 [00:15<00:00,  3.92s/it]\n"
     ]
    },
    {
     "name": "stdout",
     "output_type": "stream",
     "text": [
      "step 400: train loss 7.2521, val loss 7.2463\n",
      "train ppl 1411.04, val ppl 1402.84\n",
      "📈 Train/Val Gap: -0.0058 (-0.08%)\n",
      "✅ 新的最佳驗證損失: 7.2463\n"
     ]
    },
    {
     "name": "stderr",
     "output_type": "stream",
     "text": [
      "100%|██████████| 4/4 [00:15<00:00,  3.92s/it]\n"
     ]
    },
    {
     "name": "stdout",
     "output_type": "stream",
     "text": [
      "iter 400: loss 7.5290, time 110782.56ms\n"
     ]
    },
    {
     "name": "stderr",
     "output_type": "stream",
     "text": [
      "100%|██████████| 4/4 [00:15<00:00,  3.92s/it]\n",
      "100%|██████████| 4/4 [00:15<00:00,  3.92s/it]\n",
      "100%|██████████| 4/4 [00:15<00:00,  3.92s/it]\n",
      "100%|██████████| 4/4 [00:15<00:00,  3.93s/it]\n",
      "100%|██████████| 4/4 [00:15<00:00,  3.92s/it]\n",
      "100%|██████████| 4/4 [00:15<00:00,  3.92s/it]\n",
      "100%|██████████| 4/4 [00:15<00:00,  3.92s/it]\n",
      "100%|██████████| 4/4 [00:15<00:00,  3.93s/it]\n",
      "100%|██████████| 4/4 [00:15<00:00,  3.92s/it]\n",
      "100%|██████████| 4/4 [00:15<00:00,  3.92s/it]\n",
      "100%|██████████| 4/4 [00:15<00:00,  3.92s/it]\n",
      "100%|██████████| 4/4 [00:15<00:00,  3.92s/it]\n",
      "100%|██████████| 4/4 [00:15<00:00,  3.92s/it]\n",
      "100%|██████████| 4/4 [00:15<00:00,  3.92s/it]\n",
      "100%|██████████| 4/4 [00:15<00:00,  3.94s/it]\n",
      "100%|██████████| 4/4 [00:15<00:00,  3.93s/it]\n",
      "100%|██████████| 4/4 [00:15<00:00,  3.92s/it]\n",
      "100%|██████████| 4/4 [00:15<00:00,  3.92s/it]\n",
      "100%|██████████| 4/4 [00:15<00:00,  3.92s/it]\n",
      "100%|██████████| 4/4 [00:15<00:00,  3.92s/it]\n"
     ]
    },
    {
     "name": "stdout",
     "output_type": "stream",
     "text": [
      "iter 420: loss 7.2707, time 15716.54ms\n"
     ]
    },
    {
     "name": "stderr",
     "output_type": "stream",
     "text": [
      "100%|██████████| 4/4 [00:15<00:00,  3.92s/it]\n",
      "100%|██████████| 4/4 [00:15<00:00,  3.92s/it]\n",
      "100%|██████████| 4/4 [00:15<00:00,  3.92s/it]\n",
      "100%|██████████| 4/4 [00:15<00:00,  3.92s/it]\n",
      "100%|██████████| 4/4 [00:15<00:00,  3.92s/it]\n",
      "100%|██████████| 4/4 [00:15<00:00,  3.92s/it]\n",
      "100%|██████████| 4/4 [00:15<00:00,  3.94s/it]\n",
      "100%|██████████| 4/4 [00:15<00:00,  3.92s/it]\n",
      "100%|██████████| 4/4 [00:15<00:00,  3.92s/it]\n",
      "100%|██████████| 4/4 [00:15<00:00,  3.94s/it]\n",
      "100%|██████████| 4/4 [00:15<00:00,  3.93s/it]\n",
      "100%|██████████| 4/4 [00:15<00:00,  3.93s/it]\n",
      "100%|██████████| 4/4 [00:15<00:00,  3.93s/it]\n",
      "100%|██████████| 4/4 [00:15<00:00,  3.94s/it]\n",
      "100%|██████████| 4/4 [00:15<00:00,  3.93s/it]\n",
      "100%|██████████| 4/4 [00:15<00:00,  3.94s/it]\n",
      "100%|██████████| 4/4 [00:15<00:00,  3.93s/it]\n",
      "100%|██████████| 4/4 [00:15<00:00,  3.93s/it]\n",
      "100%|██████████| 4/4 [00:15<00:00,  3.93s/it]\n",
      "100%|██████████| 4/4 [00:15<00:00,  3.94s/it]\n"
     ]
    },
    {
     "name": "stdout",
     "output_type": "stream",
     "text": [
      "iter 440: loss 7.0560, time 15769.95ms\n"
     ]
    },
    {
     "name": "stderr",
     "output_type": "stream",
     "text": [
      "100%|██████████| 4/4 [00:15<00:00,  3.93s/it]\n",
      "100%|██████████| 4/4 [00:15<00:00,  3.94s/it]\n",
      "100%|██████████| 4/4 [00:15<00:00,  3.95s/it]\n",
      "100%|██████████| 4/4 [00:15<00:00,  3.93s/it]\n",
      "100%|██████████| 4/4 [00:15<00:00,  3.93s/it]\n",
      "100%|██████████| 4/4 [00:15<00:00,  3.93s/it]\n",
      "100%|██████████| 4/4 [00:15<00:00,  3.93s/it]\n",
      "100%|██████████| 4/4 [00:15<00:00,  3.93s/it]\n",
      "100%|██████████| 4/4 [00:15<00:00,  3.94s/it]\n",
      "100%|██████████| 4/4 [00:15<00:00,  3.94s/it]\n",
      "100%|██████████| 4/4 [00:15<00:00,  3.93s/it]\n",
      "100%|██████████| 4/4 [00:15<00:00,  3.94s/it]\n",
      "100%|██████████| 4/4 [00:15<00:00,  3.93s/it]\n",
      "100%|██████████| 4/4 [00:15<00:00,  3.93s/it]\n",
      "100%|██████████| 4/4 [00:15<00:00,  3.93s/it]\n",
      "100%|██████████| 4/4 [00:15<00:00,  3.93s/it]\n",
      "100%|██████████| 4/4 [00:15<00:00,  3.93s/it]\n",
      "100%|██████████| 4/4 [00:15<00:00,  3.94s/it]\n",
      "100%|██████████| 4/4 [00:15<00:00,  3.94s/it]\n",
      "100%|██████████| 4/4 [00:15<00:00,  3.94s/it]\n"
     ]
    },
    {
     "name": "stdout",
     "output_type": "stream",
     "text": [
      "iter 460: loss 7.3213, time 15769.31ms\n"
     ]
    },
    {
     "name": "stderr",
     "output_type": "stream",
     "text": [
      "100%|██████████| 4/4 [00:15<00:00,  3.93s/it]\n",
      "100%|██████████| 4/4 [00:15<00:00,  3.93s/it]\n",
      "100%|██████████| 4/4 [00:15<00:00,  3.93s/it]\n",
      "100%|██████████| 4/4 [00:15<00:00,  3.94s/it]\n",
      "100%|██████████| 4/4 [00:15<00:00,  3.94s/it]\n",
      "100%|██████████| 4/4 [00:15<00:00,  3.93s/it]\n",
      "100%|██████████| 4/4 [00:15<00:00,  3.93s/it]\n",
      "100%|██████████| 4/4 [00:15<00:00,  3.93s/it]\n",
      "100%|██████████| 4/4 [00:15<00:00,  3.93s/it]\n",
      "100%|██████████| 4/4 [00:15<00:00,  3.93s/it]\n",
      "100%|██████████| 4/4 [00:15<00:00,  3.93s/it]\n",
      "100%|██████████| 4/4 [00:15<00:00,  3.93s/it]\n",
      "100%|██████████| 4/4 [00:15<00:00,  3.94s/it]\n",
      "100%|██████████| 4/4 [00:15<00:00,  3.94s/it]\n",
      "100%|██████████| 4/4 [00:15<00:00,  3.94s/it]\n",
      "100%|██████████| 4/4 [00:15<00:00,  3.94s/it]\n",
      "100%|██████████| 4/4 [00:15<00:00,  3.93s/it]\n",
      "100%|██████████| 4/4 [00:15<00:00,  3.93s/it]\n",
      "100%|██████████| 4/4 [00:15<00:00,  3.93s/it]\n",
      "100%|██████████| 4/4 [00:15<00:00,  3.93s/it]\n"
     ]
    },
    {
     "name": "stdout",
     "output_type": "stream",
     "text": [
      "iter 480: loss 7.0003, time 15751.53ms\n"
     ]
    },
    {
     "name": "stderr",
     "output_type": "stream",
     "text": [
      "100%|██████████| 4/4 [00:15<00:00,  3.93s/it]\n",
      "100%|██████████| 4/4 [00:15<00:00,  3.93s/it]\n",
      "100%|██████████| 4/4 [00:15<00:00,  3.93s/it]\n",
      "100%|██████████| 4/4 [00:15<00:00,  3.94s/it]\n",
      "100%|██████████| 4/4 [00:15<00:00,  3.94s/it]\n",
      "100%|██████████| 4/4 [00:15<00:00,  3.93s/it]\n",
      "100%|██████████| 4/4 [00:15<00:00,  3.93s/it]\n",
      "100%|██████████| 4/4 [00:15<00:00,  3.94s/it]\n",
      "100%|██████████| 4/4 [00:15<00:00,  3.94s/it]\n",
      "100%|██████████| 4/4 [00:15<00:00,  3.93s/it]\n",
      "100%|██████████| 4/4 [00:15<00:00,  3.93s/it]\n",
      "100%|██████████| 4/4 [00:15<00:00,  3.94s/it]\n",
      "100%|██████████| 4/4 [00:15<00:00,  3.93s/it]\n",
      "100%|██████████| 4/4 [00:15<00:00,  3.93s/it]\n",
      "100%|██████████| 4/4 [00:15<00:00,  3.94s/it]\n",
      "100%|██████████| 4/4 [00:15<00:00,  3.94s/it]\n",
      "100%|██████████| 4/4 [00:15<00:00,  3.93s/it]\n",
      "100%|██████████| 4/4 [00:15<00:00,  3.94s/it]\n",
      "100%|██████████| 4/4 [00:15<00:00,  3.93s/it]\n",
      "100%|██████████| 4/4 [00:15<00:00,  3.94s/it]\n"
     ]
    },
    {
     "name": "stdout",
     "output_type": "stream",
     "text": [
      "iter 500: loss 6.6653, time 15768.01ms\n"
     ]
    },
    {
     "name": "stderr",
     "output_type": "stream",
     "text": [
      "100%|██████████| 4/4 [00:15<00:00,  3.93s/it]\n",
      "100%|██████████| 4/4 [00:15<00:00,  3.93s/it]\n",
      "100%|██████████| 4/4 [00:15<00:00,  3.93s/it]\n",
      "100%|██████████| 4/4 [00:15<00:00,  3.93s/it]\n",
      "100%|██████████| 4/4 [00:15<00:00,  3.93s/it]\n",
      "100%|██████████| 4/4 [00:15<00:00,  3.93s/it]\n",
      "100%|██████████| 4/4 [00:15<00:00,  3.93s/it]\n",
      "100%|██████████| 4/4 [00:15<00:00,  3.93s/it]\n",
      "100%|██████████| 4/4 [00:15<00:00,  3.93s/it]\n",
      "100%|██████████| 4/4 [00:15<00:00,  3.93s/it]\n",
      "100%|██████████| 4/4 [00:15<00:00,  3.93s/it]\n",
      "100%|██████████| 4/4 [00:15<00:00,  3.93s/it]\n",
      "100%|██████████| 4/4 [00:15<00:00,  3.94s/it]\n",
      "100%|██████████| 4/4 [00:15<00:00,  3.93s/it]\n",
      "100%|██████████| 4/4 [00:15<00:00,  3.94s/it]\n",
      "100%|██████████| 4/4 [00:15<00:00,  3.93s/it]\n",
      "100%|██████████| 4/4 [00:15<00:00,  3.93s/it]\n",
      "100%|██████████| 4/4 [00:15<00:00,  3.93s/it]\n",
      "100%|██████████| 4/4 [00:15<00:00,  3.94s/it]\n",
      "100%|██████████| 4/4 [00:15<00:00,  3.93s/it]\n"
     ]
    },
    {
     "name": "stdout",
     "output_type": "stream",
     "text": [
      "iter 520: loss 7.3619, time 15763.40ms\n"
     ]
    },
    {
     "name": "stderr",
     "output_type": "stream",
     "text": [
      "100%|██████████| 4/4 [00:15<00:00,  3.93s/it]\n",
      "100%|██████████| 4/4 [00:15<00:00,  3.94s/it]\n",
      "100%|██████████| 4/4 [00:15<00:00,  3.94s/it]\n",
      "100%|██████████| 4/4 [00:15<00:00,  3.94s/it]\n",
      "100%|██████████| 4/4 [00:15<00:00,  3.94s/it]\n",
      "100%|██████████| 4/4 [00:15<00:00,  3.94s/it]\n",
      "100%|██████████| 4/4 [00:15<00:00,  3.94s/it]\n",
      "100%|██████████| 4/4 [00:15<00:00,  3.94s/it]\n",
      "100%|██████████| 4/4 [00:15<00:00,  3.93s/it]\n",
      "100%|██████████| 4/4 [00:15<00:00,  3.93s/it]\n",
      "100%|██████████| 4/4 [00:15<00:00,  3.93s/it]\n",
      "100%|██████████| 4/4 [00:15<00:00,  3.94s/it]\n",
      "100%|██████████| 4/4 [00:15<00:00,  3.94s/it]\n",
      "100%|██████████| 4/4 [00:15<00:00,  3.94s/it]\n",
      "100%|██████████| 4/4 [00:15<00:00,  3.93s/it]\n",
      "100%|██████████| 4/4 [00:15<00:00,  3.94s/it]\n",
      "100%|██████████| 4/4 [00:15<00:00,  3.93s/it]\n",
      "100%|██████████| 4/4 [00:15<00:00,  3.93s/it]\n",
      "100%|██████████| 4/4 [00:15<00:00,  3.94s/it]\n",
      "100%|██████████| 4/4 [00:15<00:00,  3.94s/it]\n"
     ]
    },
    {
     "name": "stdout",
     "output_type": "stream",
     "text": [
      "iter 540: loss 7.1213, time 15767.63ms\n"
     ]
    },
    {
     "name": "stderr",
     "output_type": "stream",
     "text": [
      "100%|██████████| 4/4 [00:15<00:00,  3.93s/it]\n",
      "100%|██████████| 4/4 [00:15<00:00,  3.94s/it]\n",
      "100%|██████████| 4/4 [00:15<00:00,  3.94s/it]\n",
      "100%|██████████| 4/4 [00:15<00:00,  3.94s/it]\n",
      "100%|██████████| 4/4 [00:15<00:00,  3.94s/it]\n",
      "100%|██████████| 4/4 [00:15<00:00,  3.94s/it]\n",
      "100%|██████████| 4/4 [00:15<00:00,  3.94s/it]\n",
      "100%|██████████| 4/4 [00:15<00:00,  3.93s/it]\n",
      "100%|██████████| 4/4 [00:15<00:00,  3.94s/it]\n",
      "100%|██████████| 4/4 [00:15<00:00,  3.93s/it]\n",
      "100%|██████████| 4/4 [00:15<00:00,  3.94s/it]\n",
      "100%|██████████| 4/4 [00:15<00:00,  3.93s/it]\n",
      "100%|██████████| 4/4 [00:15<00:00,  3.94s/it]\n",
      "100%|██████████| 4/4 [00:15<00:00,  3.93s/it]\n",
      "100%|██████████| 4/4 [00:15<00:00,  3.94s/it]\n",
      "100%|██████████| 4/4 [00:15<00:00,  3.93s/it]\n",
      "100%|██████████| 4/4 [00:15<00:00,  3.93s/it]\n",
      "100%|██████████| 4/4 [00:15<00:00,  3.93s/it]\n",
      "100%|██████████| 4/4 [00:15<00:00,  3.93s/it]\n",
      "100%|██████████| 4/4 [00:15<00:00,  3.93s/it]\n"
     ]
    },
    {
     "name": "stdout",
     "output_type": "stream",
     "text": [
      "iter 560: loss 7.3305, time 15763.29ms\n"
     ]
    },
    {
     "name": "stderr",
     "output_type": "stream",
     "text": [
      "100%|██████████| 4/4 [00:15<00:00,  3.93s/it]\n",
      "100%|██████████| 4/4 [00:15<00:00,  3.94s/it]\n",
      "100%|██████████| 4/4 [00:15<00:00,  3.93s/it]\n",
      "100%|██████████| 4/4 [00:15<00:00,  3.94s/it]\n",
      "100%|██████████| 4/4 [00:15<00:00,  3.93s/it]\n",
      "100%|██████████| 4/4 [00:15<00:00,  3.93s/it]\n",
      "100%|██████████| 4/4 [00:15<00:00,  3.93s/it]\n",
      "100%|██████████| 4/4 [00:15<00:00,  3.94s/it]\n",
      "100%|██████████| 4/4 [00:15<00:00,  3.94s/it]\n",
      "100%|██████████| 4/4 [00:15<00:00,  3.93s/it]\n",
      "100%|██████████| 4/4 [00:15<00:00,  3.94s/it]\n",
      "100%|██████████| 4/4 [00:15<00:00,  3.94s/it]\n",
      "100%|██████████| 4/4 [00:15<00:00,  3.93s/it]\n",
      "100%|██████████| 4/4 [00:15<00:00,  3.94s/it]\n",
      "100%|██████████| 4/4 [00:15<00:00,  3.93s/it]\n",
      "100%|██████████| 4/4 [00:15<00:00,  3.94s/it]\n",
      "100%|██████████| 4/4 [00:15<00:00,  3.94s/it]\n",
      "100%|██████████| 4/4 [00:15<00:00,  3.93s/it]\n",
      "100%|██████████| 4/4 [00:15<00:00,  3.93s/it]\n",
      "100%|██████████| 4/4 [00:15<00:00,  3.93s/it]\n"
     ]
    },
    {
     "name": "stdout",
     "output_type": "stream",
     "text": [
      "iter 580: loss 7.0252, time 15764.56ms\n"
     ]
    },
    {
     "name": "stderr",
     "output_type": "stream",
     "text": [
      "100%|██████████| 4/4 [00:15<00:00,  3.93s/it]\n",
      "100%|██████████| 4/4 [00:15<00:00,  3.94s/it]\n",
      "100%|██████████| 4/4 [00:15<00:00,  3.94s/it]\n",
      "100%|██████████| 4/4 [00:15<00:00,  3.94s/it]\n",
      "100%|██████████| 4/4 [00:15<00:00,  3.93s/it]\n",
      "100%|██████████| 4/4 [00:15<00:00,  3.93s/it]\n",
      "100%|██████████| 4/4 [00:15<00:00,  3.94s/it]\n",
      "100%|██████████| 4/4 [00:15<00:00,  3.94s/it]\n",
      "100%|██████████| 4/4 [00:15<00:00,  3.94s/it]\n",
      "100%|██████████| 4/4 [00:15<00:00,  3.94s/it]\n",
      "100%|██████████| 4/4 [00:15<00:00,  3.94s/it]\n",
      "100%|██████████| 4/4 [00:15<00:00,  3.93s/it]\n",
      "100%|██████████| 4/4 [00:15<00:00,  3.93s/it]\n",
      "100%|██████████| 4/4 [00:15<00:00,  3.94s/it]\n",
      "100%|██████████| 4/4 [00:15<00:00,  3.94s/it]\n",
      "100%|██████████| 4/4 [00:15<00:00,  3.94s/it]\n",
      "100%|██████████| 4/4 [00:15<00:00,  3.93s/it]\n",
      "100%|██████████| 4/4 [00:15<00:00,  3.94s/it]\n",
      "100%|██████████| 4/4 [00:15<00:00,  3.94s/it]\n"
     ]
    },
    {
     "name": "stdout",
     "output_type": "stream",
     "text": [
      "step 600: train loss 6.9816, val loss 6.9723\n",
      "train ppl 1076.60, val ppl 1066.72\n",
      "📈 Train/Val Gap: -0.0092 (-0.13%)\n",
      "✅ 新的最佳驗證損失: 6.9723\n"
     ]
    },
    {
     "name": "stderr",
     "output_type": "stream",
     "text": [
      "100%|██████████| 4/4 [00:15<00:00,  3.93s/it]\n"
     ]
    },
    {
     "name": "stdout",
     "output_type": "stream",
     "text": [
      "iter 600: loss 7.1145, time 111357.42ms\n"
     ]
    },
    {
     "name": "stderr",
     "output_type": "stream",
     "text": [
      "100%|██████████| 4/4 [00:15<00:00,  3.93s/it]\n",
      "100%|██████████| 4/4 [00:15<00:00,  3.93s/it]\n",
      "100%|██████████| 4/4 [00:15<00:00,  3.93s/it]\n",
      "100%|██████████| 4/4 [00:15<00:00,  3.94s/it]\n",
      "100%|██████████| 4/4 [00:15<00:00,  3.93s/it]\n",
      "100%|██████████| 4/4 [00:15<00:00,  3.93s/it]\n",
      "100%|██████████| 4/4 [00:15<00:00,  3.93s/it]\n",
      "100%|██████████| 4/4 [00:15<00:00,  3.93s/it]\n",
      "100%|██████████| 4/4 [00:15<00:00,  3.94s/it]\n",
      "100%|██████████| 4/4 [00:15<00:00,  3.94s/it]\n",
      "100%|██████████| 4/4 [00:15<00:00,  3.94s/it]\n",
      "100%|██████████| 4/4 [00:15<00:00,  3.93s/it]\n",
      "100%|██████████| 4/4 [00:15<00:00,  3.93s/it]\n",
      "100%|██████████| 4/4 [00:15<00:00,  3.94s/it]\n",
      "100%|██████████| 4/4 [00:15<00:00,  3.94s/it]\n",
      "100%|██████████| 4/4 [00:15<00:00,  3.95s/it]\n",
      "100%|██████████| 4/4 [00:15<00:00,  3.93s/it]\n",
      "100%|██████████| 4/4 [00:15<00:00,  3.94s/it]\n",
      "100%|██████████| 4/4 [00:15<00:00,  3.94s/it]\n",
      "100%|██████████| 4/4 [00:15<00:00,  3.93s/it]\n"
     ]
    },
    {
     "name": "stdout",
     "output_type": "stream",
     "text": [
      "iter 620: loss 6.5837, time 15760.43ms\n"
     ]
    },
    {
     "name": "stderr",
     "output_type": "stream",
     "text": [
      "100%|██████████| 4/4 [00:15<00:00,  3.93s/it]\n",
      "100%|██████████| 4/4 [00:15<00:00,  3.93s/it]\n",
      "100%|██████████| 4/4 [00:15<00:00,  3.94s/it]\n",
      "100%|██████████| 4/4 [00:15<00:00,  3.94s/it]\n",
      "100%|██████████| 4/4 [00:15<00:00,  3.94s/it]\n",
      "100%|██████████| 4/4 [00:15<00:00,  3.93s/it]\n",
      "100%|██████████| 4/4 [00:15<00:00,  3.93s/it]\n",
      "100%|██████████| 4/4 [00:15<00:00,  3.96s/it]\n",
      "100%|██████████| 4/4 [00:15<00:00,  3.93s/it]\n",
      "100%|██████████| 4/4 [00:15<00:00,  3.93s/it]\n",
      "100%|██████████| 4/4 [00:15<00:00,  3.93s/it]\n",
      "100%|██████████| 4/4 [00:15<00:00,  3.93s/it]\n",
      "100%|██████████| 4/4 [00:15<00:00,  3.93s/it]\n",
      "100%|██████████| 4/4 [00:15<00:00,  3.96s/it]\n",
      "100%|██████████| 4/4 [00:15<00:00,  3.96s/it]\n",
      "100%|██████████| 4/4 [00:15<00:00,  3.98s/it]\n",
      "100%|██████████| 4/4 [00:15<00:00,  3.95s/it]\n",
      "100%|██████████| 4/4 [00:15<00:00,  3.94s/it]\n",
      "100%|██████████| 4/4 [00:15<00:00,  3.94s/it]\n",
      "100%|██████████| 4/4 [00:15<00:00,  3.94s/it]\n"
     ]
    },
    {
     "name": "stdout",
     "output_type": "stream",
     "text": [
      "iter 640: loss 6.8013, time 15765.74ms\n"
     ]
    },
    {
     "name": "stderr",
     "output_type": "stream",
     "text": [
      "100%|██████████| 4/4 [00:15<00:00,  3.93s/it]\n",
      "100%|██████████| 4/4 [00:15<00:00,  3.94s/it]\n",
      "100%|██████████| 4/4 [00:15<00:00,  3.93s/it]\n",
      "100%|██████████| 4/4 [00:15<00:00,  3.96s/it]\n",
      "100%|██████████| 4/4 [00:15<00:00,  3.94s/it]\n",
      "100%|██████████| 4/4 [00:15<00:00,  3.93s/it]\n",
      "100%|██████████| 4/4 [00:15<00:00,  3.93s/it]\n",
      "100%|██████████| 4/4 [00:15<00:00,  3.93s/it]\n",
      "100%|██████████| 4/4 [00:15<00:00,  3.94s/it]\n",
      "100%|██████████| 4/4 [00:15<00:00,  3.93s/it]\n",
      "100%|██████████| 4/4 [00:15<00:00,  3.94s/it]\n",
      "100%|██████████| 4/4 [00:15<00:00,  4.00s/it]\n",
      "100%|██████████| 4/4 [00:16<00:00,  4.02s/it]\n",
      "100%|██████████| 4/4 [00:16<00:00,  4.02s/it]\n",
      "100%|██████████| 4/4 [00:16<00:00,  4.02s/it]\n",
      "100%|██████████| 4/4 [00:16<00:00,  4.02s/it]\n",
      "100%|██████████| 4/4 [00:16<00:00,  4.02s/it]\n",
      "100%|██████████| 4/4 [00:16<00:00,  4.02s/it]\n",
      "100%|██████████| 4/4 [00:16<00:00,  4.02s/it]\n",
      "100%|██████████| 4/4 [00:16<00:00,  4.02s/it]\n"
     ]
    },
    {
     "name": "stdout",
     "output_type": "stream",
     "text": [
      "iter 660: loss 6.8658, time 16110.18ms\n"
     ]
    },
    {
     "name": "stderr",
     "output_type": "stream",
     "text": [
      "100%|██████████| 4/4 [00:16<00:00,  4.02s/it]\n",
      "100%|██████████| 4/4 [00:16<00:00,  4.02s/it]\n",
      "100%|██████████| 4/4 [00:16<00:00,  4.02s/it]\n",
      "100%|██████████| 4/4 [00:16<00:00,  4.02s/it]\n",
      "100%|██████████| 4/4 [00:16<00:00,  4.02s/it]\n",
      "100%|██████████| 4/4 [00:16<00:00,  4.02s/it]\n",
      "100%|██████████| 4/4 [00:16<00:00,  4.02s/it]\n",
      "100%|██████████| 4/4 [00:16<00:00,  4.02s/it]\n",
      "100%|██████████| 4/4 [00:16<00:00,  4.02s/it]\n",
      "100%|██████████| 4/4 [00:16<00:00,  4.02s/it]\n",
      "100%|██████████| 4/4 [00:16<00:00,  4.02s/it]\n",
      "100%|██████████| 4/4 [00:16<00:00,  4.03s/it]\n",
      "100%|██████████| 4/4 [00:16<00:00,  4.02s/it]\n",
      "100%|██████████| 4/4 [00:16<00:00,  4.02s/it]\n",
      "100%|██████████| 4/4 [00:16<00:00,  4.02s/it]\n",
      "100%|██████████| 4/4 [00:16<00:00,  4.03s/it]\n",
      "100%|██████████| 4/4 [00:16<00:00,  4.02s/it]\n",
      "100%|██████████| 4/4 [00:16<00:00,  4.02s/it]\n",
      "100%|██████████| 4/4 [00:16<00:00,  4.03s/it]\n",
      "100%|██████████| 4/4 [00:16<00:00,  4.02s/it]\n"
     ]
    },
    {
     "name": "stdout",
     "output_type": "stream",
     "text": [
      "iter 680: loss 6.8905, time 16096.72ms\n"
     ]
    },
    {
     "name": "stderr",
     "output_type": "stream",
     "text": [
      "100%|██████████| 4/4 [00:16<00:00,  4.02s/it]\n",
      "100%|██████████| 4/4 [00:16<00:00,  4.02s/it]\n",
      "100%|██████████| 4/4 [00:16<00:00,  4.02s/it]\n",
      "100%|██████████| 4/4 [00:16<00:00,  4.02s/it]\n",
      "100%|██████████| 4/4 [00:16<00:00,  4.02s/it]\n",
      "100%|██████████| 4/4 [00:16<00:00,  4.02s/it]\n",
      "100%|██████████| 4/4 [00:16<00:00,  4.03s/it]\n",
      "100%|██████████| 4/4 [00:16<00:00,  4.02s/it]\n",
      "100%|██████████| 4/4 [00:16<00:00,  4.02s/it]\n",
      "100%|██████████| 4/4 [00:16<00:00,  4.03s/it]\n",
      "100%|██████████| 4/4 [00:16<00:00,  4.02s/it]\n",
      "100%|██████████| 4/4 [00:16<00:00,  4.02s/it]\n",
      "100%|██████████| 4/4 [00:16<00:00,  4.02s/it]\n",
      "100%|██████████| 4/4 [00:16<00:00,  4.03s/it]\n",
      "100%|██████████| 4/4 [00:16<00:00,  4.02s/it]\n",
      "100%|██████████| 4/4 [00:16<00:00,  4.02s/it]\n",
      "100%|██████████| 4/4 [00:16<00:00,  4.02s/it]\n",
      "100%|██████████| 4/4 [00:16<00:00,  4.02s/it]\n",
      "100%|██████████| 4/4 [00:16<00:00,  4.02s/it]\n",
      "100%|██████████| 4/4 [00:16<00:00,  4.02s/it]\n"
     ]
    },
    {
     "name": "stdout",
     "output_type": "stream",
     "text": [
      "iter 700: loss 7.0616, time 16111.97ms\n"
     ]
    },
    {
     "name": "stderr",
     "output_type": "stream",
     "text": [
      "100%|██████████| 4/4 [00:16<00:00,  4.02s/it]\n",
      "100%|██████████| 4/4 [00:16<00:00,  4.03s/it]\n",
      "100%|██████████| 4/4 [00:16<00:00,  4.02s/it]\n",
      "100%|██████████| 4/4 [00:16<00:00,  4.02s/it]\n",
      "100%|██████████| 4/4 [00:16<00:00,  4.03s/it]\n",
      "100%|██████████| 4/4 [00:16<00:00,  4.03s/it]\n",
      "100%|██████████| 4/4 [00:16<00:00,  4.02s/it]\n",
      "100%|██████████| 4/4 [00:16<00:00,  4.02s/it]\n",
      "100%|██████████| 4/4 [00:16<00:00,  4.03s/it]\n",
      "100%|██████████| 4/4 [00:16<00:00,  4.02s/it]\n",
      "100%|██████████| 4/4 [00:16<00:00,  4.02s/it]\n",
      "100%|██████████| 4/4 [00:16<00:00,  4.02s/it]\n",
      "100%|██████████| 4/4 [00:16<00:00,  4.02s/it]\n",
      "100%|██████████| 4/4 [00:16<00:00,  4.02s/it]\n",
      "100%|██████████| 4/4 [00:16<00:00,  4.02s/it]\n",
      "100%|██████████| 4/4 [00:16<00:00,  4.02s/it]\n",
      "100%|██████████| 4/4 [00:16<00:00,  4.02s/it]\n",
      "100%|██████████| 4/4 [00:16<00:00,  4.02s/it]\n",
      "100%|██████████| 4/4 [00:16<00:00,  4.02s/it]\n",
      "100%|██████████| 4/4 [00:16<00:00,  4.02s/it]\n"
     ]
    },
    {
     "name": "stdout",
     "output_type": "stream",
     "text": [
      "iter 720: loss 6.8853, time 16120.23ms\n"
     ]
    },
    {
     "name": "stderr",
     "output_type": "stream",
     "text": [
      "100%|██████████| 4/4 [00:16<00:00,  4.01s/it]\n",
      "100%|██████████| 4/4 [00:16<00:00,  4.03s/it]\n",
      "100%|██████████| 4/4 [00:16<00:00,  4.02s/it]\n",
      "100%|██████████| 4/4 [00:16<00:00,  4.02s/it]\n",
      "100%|██████████| 4/4 [00:16<00:00,  4.02s/it]\n",
      "100%|██████████| 4/4 [00:16<00:00,  4.02s/it]\n",
      "100%|██████████| 4/4 [00:16<00:00,  4.02s/it]\n",
      "100%|██████████| 4/4 [00:16<00:00,  4.04s/it]\n",
      "100%|██████████| 4/4 [00:16<00:00,  4.03s/it]\n",
      "100%|██████████| 4/4 [00:16<00:00,  4.03s/it]\n",
      "100%|██████████| 4/4 [00:16<00:00,  4.04s/it]\n",
      "100%|██████████| 4/4 [00:16<00:00,  4.03s/it]\n",
      "100%|██████████| 4/4 [00:16<00:00,  4.03s/it]\n",
      "100%|██████████| 4/4 [00:16<00:00,  4.03s/it]\n",
      "100%|██████████| 4/4 [00:16<00:00,  4.03s/it]\n",
      "100%|██████████| 4/4 [00:16<00:00,  4.03s/it]\n",
      "100%|██████████| 4/4 [00:16<00:00,  4.04s/it]\n",
      "100%|██████████| 4/4 [00:16<00:00,  4.03s/it]\n",
      "100%|██████████| 4/4 [00:16<00:00,  4.03s/it]\n",
      "100%|██████████| 4/4 [00:16<00:00,  4.03s/it]\n"
     ]
    },
    {
     "name": "stdout",
     "output_type": "stream",
     "text": [
      "iter 740: loss 7.2581, time 16155.39ms\n"
     ]
    },
    {
     "name": "stderr",
     "output_type": "stream",
     "text": [
      "100%|██████████| 4/4 [00:16<00:00,  4.03s/it]\n",
      "100%|██████████| 4/4 [00:16<00:00,  4.03s/it]\n",
      "100%|██████████| 4/4 [00:16<00:00,  4.03s/it]\n",
      "100%|██████████| 4/4 [00:16<00:00,  4.04s/it]\n",
      "100%|██████████| 4/4 [00:16<00:00,  4.03s/it]\n",
      "100%|██████████| 4/4 [00:16<00:00,  4.03s/it]\n",
      "100%|██████████| 4/4 [00:16<00:00,  4.03s/it]\n",
      "100%|██████████| 4/4 [00:16<00:00,  4.03s/it]\n",
      "100%|██████████| 4/4 [00:16<00:00,  4.04s/it]\n",
      "100%|██████████| 4/4 [00:16<00:00,  4.04s/it]\n",
      "100%|██████████| 4/4 [00:16<00:00,  4.03s/it]\n",
      "100%|██████████| 4/4 [00:16<00:00,  4.03s/it]\n",
      "100%|██████████| 4/4 [00:16<00:00,  4.03s/it]\n",
      "100%|██████████| 4/4 [00:16<00:00,  4.04s/it]\n",
      "100%|██████████| 4/4 [00:16<00:00,  4.03s/it]\n",
      "100%|██████████| 4/4 [00:16<00:00,  4.03s/it]\n",
      "100%|██████████| 4/4 [00:16<00:00,  4.04s/it]\n",
      "100%|██████████| 4/4 [00:16<00:00,  4.04s/it]\n",
      "100%|██████████| 4/4 [00:16<00:00,  4.03s/it]\n",
      "100%|██████████| 4/4 [00:16<00:00,  4.03s/it]\n"
     ]
    },
    {
     "name": "stdout",
     "output_type": "stream",
     "text": [
      "iter 760: loss 7.0125, time 16153.81ms\n"
     ]
    },
    {
     "name": "stderr",
     "output_type": "stream",
     "text": [
      "100%|██████████| 4/4 [00:16<00:00,  4.03s/it]\n",
      "100%|██████████| 4/4 [00:16<00:00,  4.03s/it]\n",
      "100%|██████████| 4/4 [00:16<00:00,  4.03s/it]\n",
      "100%|██████████| 4/4 [00:16<00:00,  4.03s/it]\n",
      "100%|██████████| 4/4 [00:16<00:00,  4.04s/it]\n",
      "100%|██████████| 4/4 [00:16<00:00,  4.03s/it]\n",
      "100%|██████████| 4/4 [00:16<00:00,  4.04s/it]\n",
      "100%|██████████| 4/4 [00:16<00:00,  4.03s/it]\n",
      "100%|██████████| 4/4 [00:16<00:00,  4.04s/it]\n",
      "100%|██████████| 4/4 [00:16<00:00,  4.03s/it]\n",
      "100%|██████████| 4/4 [00:16<00:00,  4.03s/it]\n",
      "100%|██████████| 4/4 [00:16<00:00,  4.04s/it]\n",
      "100%|██████████| 4/4 [00:16<00:00,  4.04s/it]\n",
      "100%|██████████| 4/4 [00:16<00:00,  4.03s/it]\n",
      "100%|██████████| 4/4 [00:16<00:00,  4.03s/it]\n",
      "100%|██████████| 4/4 [00:16<00:00,  4.04s/it]\n",
      "100%|██████████| 4/4 [00:16<00:00,  4.04s/it]\n",
      "100%|██████████| 4/4 [00:16<00:00,  4.03s/it]\n",
      "100%|██████████| 4/4 [00:16<00:00,  4.03s/it]\n",
      "100%|██████████| 4/4 [00:16<00:00,  4.03s/it]\n"
     ]
    },
    {
     "name": "stdout",
     "output_type": "stream",
     "text": [
      "iter 780: loss 6.8102, time 16151.72ms\n"
     ]
    },
    {
     "name": "stderr",
     "output_type": "stream",
     "text": [
      "100%|██████████| 4/4 [00:16<00:00,  4.03s/it]\n",
      "100%|██████████| 4/4 [00:16<00:00,  4.03s/it]\n",
      "100%|██████████| 4/4 [00:16<00:00,  4.04s/it]\n",
      "100%|██████████| 4/4 [00:16<00:00,  4.03s/it]\n",
      "100%|██████████| 4/4 [00:16<00:00,  4.03s/it]\n",
      "100%|██████████| 4/4 [00:16<00:00,  4.04s/it]\n",
      "100%|██████████| 4/4 [00:16<00:00,  4.04s/it]\n",
      "100%|██████████| 4/4 [00:16<00:00,  4.03s/it]\n",
      "100%|██████████| 4/4 [00:16<00:00,  4.03s/it]\n",
      "100%|██████████| 4/4 [00:16<00:00,  4.04s/it]\n",
      "100%|██████████| 4/4 [00:16<00:00,  4.04s/it]\n",
      "100%|██████████| 4/4 [00:16<00:00,  4.03s/it]\n",
      "100%|██████████| 4/4 [00:16<00:00,  4.03s/it]\n",
      "100%|██████████| 4/4 [00:16<00:00,  4.03s/it]\n",
      "100%|██████████| 4/4 [00:16<00:00,  4.03s/it]\n",
      "100%|██████████| 4/4 [00:16<00:00,  4.03s/it]\n",
      "100%|██████████| 4/4 [00:16<00:00,  4.03s/it]\n",
      "100%|██████████| 4/4 [00:16<00:00,  4.03s/it]\n",
      "100%|██████████| 4/4 [00:16<00:00,  4.03s/it]\n"
     ]
    },
    {
     "name": "stdout",
     "output_type": "stream",
     "text": [
      "step 800: train loss 6.8392, val loss 6.8415\n",
      "train ppl 933.70, val ppl 935.94\n",
      "📈 Train/Val Gap: 0.0024 (0.03%)\n",
      "✅ 新的最佳驗證損失: 6.8415\n"
     ]
    },
    {
     "name": "stderr",
     "output_type": "stream",
     "text": [
      "100%|██████████| 4/4 [00:16<00:00,  4.02s/it]\n"
     ]
    },
    {
     "name": "stdout",
     "output_type": "stream",
     "text": [
      "iter 800: loss 7.0394, time 111475.61ms\n"
     ]
    },
    {
     "name": "stderr",
     "output_type": "stream",
     "text": [
      "100%|██████████| 4/4 [00:16<00:00,  4.01s/it]\n",
      "100%|██████████| 4/4 [00:16<00:00,  4.02s/it]\n",
      "100%|██████████| 4/4 [00:16<00:00,  4.02s/it]\n",
      "100%|██████████| 4/4 [00:16<00:00,  4.02s/it]\n",
      "100%|██████████| 4/4 [00:16<00:00,  4.03s/it]\n",
      "100%|██████████| 4/4 [00:16<00:00,  4.02s/it]\n",
      "100%|██████████| 4/4 [00:16<00:00,  4.02s/it]\n",
      "100%|██████████| 4/4 [00:16<00:00,  4.02s/it]\n",
      "100%|██████████| 4/4 [00:16<00:00,  4.02s/it]\n",
      "100%|██████████| 4/4 [00:16<00:00,  4.02s/it]\n",
      "100%|██████████| 4/4 [00:16<00:00,  4.02s/it]\n",
      "100%|██████████| 4/4 [00:16<00:00,  4.02s/it]\n",
      "100%|██████████| 4/4 [00:16<00:00,  4.02s/it]\n",
      "100%|██████████| 4/4 [00:16<00:00,  4.04s/it]\n",
      "100%|██████████| 4/4 [00:16<00:00,  4.03s/it]\n",
      "100%|██████████| 4/4 [00:16<00:00,  4.02s/it]\n",
      "100%|██████████| 4/4 [00:16<00:00,  4.02s/it]\n",
      "100%|██████████| 4/4 [00:16<00:00,  4.02s/it]\n",
      "100%|██████████| 4/4 [00:16<00:00,  4.02s/it]\n",
      "100%|██████████| 4/4 [00:16<00:00,  4.02s/it]\n"
     ]
    },
    {
     "name": "stdout",
     "output_type": "stream",
     "text": [
      "iter 820: loss 6.6769, time 16110.59ms\n"
     ]
    },
    {
     "name": "stderr",
     "output_type": "stream",
     "text": [
      "100%|██████████| 4/4 [00:16<00:00,  4.01s/it]\n",
      "100%|██████████| 4/4 [00:16<00:00,  4.02s/it]\n",
      "100%|██████████| 4/4 [00:16<00:00,  4.02s/it]\n",
      "100%|██████████| 4/4 [00:16<00:00,  4.02s/it]\n",
      "100%|██████████| 4/4 [00:16<00:00,  4.02s/it]\n",
      "100%|██████████| 4/4 [00:16<00:00,  4.04s/it]\n",
      "100%|██████████| 4/4 [00:16<00:00,  4.02s/it]\n",
      "100%|██████████| 4/4 [00:15<00:00,  3.96s/it]\n",
      "100%|██████████| 4/4 [00:15<00:00,  3.91s/it]\n",
      "100%|██████████| 4/4 [00:15<00:00,  3.92s/it]\n",
      "100%|██████████| 4/4 [00:15<00:00,  3.91s/it]\n",
      "100%|██████████| 4/4 [00:15<00:00,  3.91s/it]\n",
      "100%|██████████| 4/4 [00:15<00:00,  3.92s/it]\n",
      "100%|██████████| 4/4 [00:15<00:00,  3.91s/it]\n",
      "100%|██████████| 4/4 [00:15<00:00,  3.91s/it]\n",
      "100%|██████████| 4/4 [00:15<00:00,  3.91s/it]\n",
      "100%|██████████| 4/4 [00:15<00:00,  3.92s/it]\n",
      "100%|██████████| 4/4 [00:15<00:00,  3.91s/it]\n",
      "100%|██████████| 4/4 [00:15<00:00,  3.92s/it]\n",
      "100%|██████████| 4/4 [00:15<00:00,  3.91s/it]\n"
     ]
    },
    {
     "name": "stdout",
     "output_type": "stream",
     "text": [
      "iter 840: loss 6.5802, time 15659.52ms\n"
     ]
    },
    {
     "name": "stderr",
     "output_type": "stream",
     "text": [
      "100%|██████████| 4/4 [00:15<00:00,  3.91s/it]\n",
      "100%|██████████| 4/4 [00:15<00:00,  3.93s/it]\n",
      "100%|██████████| 4/4 [00:15<00:00,  3.91s/it]\n",
      "100%|██████████| 4/4 [00:15<00:00,  3.91s/it]\n",
      "100%|██████████| 4/4 [00:15<00:00,  3.91s/it]\n",
      "100%|██████████| 4/4 [00:15<00:00,  3.91s/it]\n",
      "100%|██████████| 4/4 [00:15<00:00,  3.91s/it]\n",
      "100%|██████████| 4/4 [00:15<00:00,  3.91s/it]\n",
      "100%|██████████| 4/4 [00:15<00:00,  3.92s/it]\n",
      "100%|██████████| 4/4 [00:15<00:00,  3.91s/it]\n",
      "100%|██████████| 4/4 [00:15<00:00,  3.92s/it]\n",
      "100%|██████████| 4/4 [00:15<00:00,  3.91s/it]\n",
      "100%|██████████| 4/4 [00:15<00:00,  3.92s/it]\n",
      "100%|██████████| 4/4 [00:15<00:00,  3.91s/it]\n",
      "100%|██████████| 4/4 [00:15<00:00,  3.92s/it]\n",
      "100%|██████████| 4/4 [00:15<00:00,  3.91s/it]\n",
      "100%|██████████| 4/4 [00:15<00:00,  3.91s/it]\n",
      "100%|██████████| 4/4 [00:15<00:00,  3.91s/it]\n",
      "100%|██████████| 4/4 [00:15<00:00,  3.92s/it]\n",
      "100%|██████████| 4/4 [00:15<00:00,  3.92s/it]\n"
     ]
    },
    {
     "name": "stdout",
     "output_type": "stream",
     "text": [
      "iter 860: loss 6.7221, time 15700.27ms\n"
     ]
    },
    {
     "name": "stderr",
     "output_type": "stream",
     "text": [
      "100%|██████████| 4/4 [00:15<00:00,  3.91s/it]\n",
      "100%|██████████| 4/4 [00:15<00:00,  3.91s/it]\n",
      "100%|██████████| 4/4 [00:15<00:00,  3.91s/it]\n",
      "100%|██████████| 4/4 [00:15<00:00,  3.92s/it]\n",
      "100%|██████████| 4/4 [00:15<00:00,  3.91s/it]\n",
      "100%|██████████| 4/4 [00:15<00:00,  3.92s/it]\n",
      "100%|██████████| 4/4 [00:15<00:00,  3.92s/it]\n",
      "100%|██████████| 4/4 [00:15<00:00,  3.92s/it]\n",
      "100%|██████████| 4/4 [00:15<00:00,  3.91s/it]\n",
      "100%|██████████| 4/4 [00:15<00:00,  3.92s/it]\n",
      "100%|██████████| 4/4 [00:15<00:00,  3.92s/it]\n",
      "100%|██████████| 4/4 [00:15<00:00,  3.92s/it]\n",
      "100%|██████████| 4/4 [00:15<00:00,  3.91s/it]\n",
      "100%|██████████| 4/4 [00:15<00:00,  3.92s/it]\n",
      "100%|██████████| 4/4 [00:15<00:00,  3.91s/it]\n",
      "100%|██████████| 4/4 [00:15<00:00,  3.91s/it]\n",
      "100%|██████████| 4/4 [00:15<00:00,  3.91s/it]\n",
      "100%|██████████| 4/4 [00:15<00:00,  3.91s/it]\n",
      "100%|██████████| 4/4 [00:15<00:00,  3.92s/it]\n",
      "100%|██████████| 4/4 [00:15<00:00,  3.91s/it]\n"
     ]
    },
    {
     "name": "stdout",
     "output_type": "stream",
     "text": [
      "iter 880: loss 6.5069, time 15675.07ms\n"
     ]
    },
    {
     "name": "stderr",
     "output_type": "stream",
     "text": [
      "100%|██████████| 4/4 [00:15<00:00,  3.91s/it]\n",
      "100%|██████████| 4/4 [00:15<00:00,  3.91s/it]\n",
      "100%|██████████| 4/4 [00:15<00:00,  3.92s/it]\n",
      "100%|██████████| 4/4 [00:15<00:00,  3.91s/it]\n",
      "100%|██████████| 4/4 [00:15<00:00,  3.91s/it]\n",
      "100%|██████████| 4/4 [00:15<00:00,  3.91s/it]\n",
      "100%|██████████| 4/4 [00:15<00:00,  3.92s/it]\n",
      "100%|██████████| 4/4 [00:15<00:00,  3.91s/it]\n",
      "100%|██████████| 4/4 [00:15<00:00,  3.91s/it]\n",
      "100%|██████████| 4/4 [00:15<00:00,  3.91s/it]\n",
      "100%|██████████| 4/4 [00:15<00:00,  3.92s/it]\n",
      "100%|██████████| 4/4 [00:15<00:00,  3.91s/it]\n",
      "100%|██████████| 4/4 [00:15<00:00,  3.91s/it]\n",
      "100%|██████████| 4/4 [00:15<00:00,  3.91s/it]\n",
      "100%|██████████| 4/4 [00:15<00:00,  3.92s/it]\n",
      "100%|██████████| 4/4 [00:15<00:00,  3.91s/it]\n",
      "100%|██████████| 4/4 [00:15<00:00,  3.91s/it]\n",
      "100%|██████████| 4/4 [00:15<00:00,  3.92s/it]\n",
      "100%|██████████| 4/4 [00:15<00:00,  3.91s/it]\n",
      "100%|██████████| 4/4 [00:15<00:00,  3.92s/it]\n"
     ]
    },
    {
     "name": "stdout",
     "output_type": "stream",
     "text": [
      "iter 900: loss 6.9779, time 15689.26ms\n"
     ]
    },
    {
     "name": "stderr",
     "output_type": "stream",
     "text": [
      "100%|██████████| 4/4 [00:15<00:00,  3.91s/it]\n",
      "100%|██████████| 4/4 [00:15<00:00,  3.91s/it]\n",
      "100%|██████████| 4/4 [00:15<00:00,  3.91s/it]\n",
      "100%|██████████| 4/4 [00:15<00:00,  3.91s/it]\n",
      "100%|██████████| 4/4 [00:15<00:00,  3.91s/it]\n",
      "100%|██████████| 4/4 [00:15<00:00,  3.91s/it]\n",
      "100%|██████████| 4/4 [00:15<00:00,  3.91s/it]\n",
      "100%|██████████| 4/4 [00:15<00:00,  3.91s/it]\n",
      "100%|██████████| 4/4 [00:15<00:00,  3.91s/it]\n",
      "100%|██████████| 4/4 [00:15<00:00,  3.91s/it]\n",
      "100%|██████████| 4/4 [00:15<00:00,  3.91s/it]\n",
      "100%|██████████| 4/4 [00:15<00:00,  3.92s/it]\n",
      "100%|██████████| 4/4 [00:15<00:00,  3.91s/it]\n",
      "100%|██████████| 4/4 [00:15<00:00,  3.92s/it]\n",
      "100%|██████████| 4/4 [00:15<00:00,  3.91s/it]\n",
      "100%|██████████| 4/4 [00:15<00:00,  3.92s/it]\n",
      "100%|██████████| 4/4 [00:15<00:00,  3.92s/it]\n",
      "100%|██████████| 4/4 [00:15<00:00,  3.92s/it]\n",
      "100%|██████████| 4/4 [00:15<00:00,  3.91s/it]\n",
      "100%|██████████| 4/4 [00:15<00:00,  3.91s/it]\n"
     ]
    },
    {
     "name": "stdout",
     "output_type": "stream",
     "text": [
      "iter 920: loss 6.5570, time 15682.43ms\n"
     ]
    },
    {
     "name": "stderr",
     "output_type": "stream",
     "text": [
      "100%|██████████| 4/4 [00:15<00:00,  3.91s/it]\n",
      "100%|██████████| 4/4 [00:15<00:00,  3.91s/it]\n",
      "100%|██████████| 4/4 [00:15<00:00,  3.91s/it]\n",
      "100%|██████████| 4/4 [00:15<00:00,  3.92s/it]\n",
      "100%|██████████| 4/4 [00:15<00:00,  3.92s/it]\n",
      "100%|██████████| 4/4 [00:15<00:00,  3.91s/it]\n",
      "100%|██████████| 4/4 [00:15<00:00,  3.91s/it]\n",
      "100%|██████████| 4/4 [00:15<00:00,  3.92s/it]\n",
      "100%|██████████| 4/4 [00:15<00:00,  3.92s/it]\n",
      "100%|██████████| 4/4 [00:15<00:00,  3.92s/it]\n",
      "100%|██████████| 4/4 [00:15<00:00,  3.91s/it]\n",
      "100%|██████████| 4/4 [00:15<00:00,  3.92s/it]\n",
      "100%|██████████| 4/4 [00:15<00:00,  3.91s/it]\n",
      "100%|██████████| 4/4 [00:15<00:00,  3.91s/it]\n",
      "100%|██████████| 4/4 [00:15<00:00,  3.91s/it]\n",
      "100%|██████████| 4/4 [00:15<00:00,  3.91s/it]\n",
      "100%|██████████| 4/4 [00:15<00:00,  3.92s/it]\n",
      "100%|██████████| 4/4 [00:15<00:00,  3.91s/it]\n",
      "100%|██████████| 4/4 [00:15<00:00,  3.91s/it]\n",
      "100%|██████████| 4/4 [00:15<00:00,  3.91s/it]\n"
     ]
    },
    {
     "name": "stdout",
     "output_type": "stream",
     "text": [
      "iter 940: loss 6.6994, time 15679.36ms\n"
     ]
    },
    {
     "name": "stderr",
     "output_type": "stream",
     "text": [
      "100%|██████████| 4/4 [00:15<00:00,  3.91s/it]\n",
      "100%|██████████| 4/4 [00:15<00:00,  3.91s/it]\n",
      "100%|██████████| 4/4 [00:15<00:00,  3.91s/it]\n",
      "100%|██████████| 4/4 [00:15<00:00,  3.92s/it]\n",
      "100%|██████████| 4/4 [00:15<00:00,  3.91s/it]\n",
      "100%|██████████| 4/4 [00:15<00:00,  3.91s/it]\n",
      "100%|██████████| 4/4 [00:15<00:00,  3.91s/it]\n",
      "100%|██████████| 4/4 [00:15<00:00,  3.92s/it]\n",
      "100%|██████████| 4/4 [00:15<00:00,  3.91s/it]\n",
      "100%|██████████| 4/4 [00:15<00:00,  3.91s/it]\n",
      "100%|██████████| 4/4 [00:15<00:00,  3.91s/it]\n",
      "100%|██████████| 4/4 [00:15<00:00,  3.92s/it]\n",
      "100%|██████████| 4/4 [00:15<00:00,  3.91s/it]\n",
      "100%|██████████| 4/4 [00:15<00:00,  3.91s/it]\n",
      "100%|██████████| 4/4 [00:15<00:00,  3.91s/it]\n",
      "100%|██████████| 4/4 [00:15<00:00,  3.92s/it]\n",
      "100%|██████████| 4/4 [00:15<00:00,  3.92s/it]\n",
      "100%|██████████| 4/4 [00:15<00:00,  3.91s/it]\n",
      "100%|██████████| 4/4 [00:15<00:00,  3.91s/it]\n",
      "100%|██████████| 4/4 [00:15<00:00,  3.92s/it]\n"
     ]
    },
    {
     "name": "stdout",
     "output_type": "stream",
     "text": [
      "iter 960: loss 6.7365, time 15696.66ms\n"
     ]
    },
    {
     "name": "stderr",
     "output_type": "stream",
     "text": [
      "100%|██████████| 4/4 [00:15<00:00,  3.90s/it]\n",
      "100%|██████████| 4/4 [00:15<00:00,  3.91s/it]\n",
      "100%|██████████| 4/4 [00:15<00:00,  3.91s/it]\n",
      "100%|██████████| 4/4 [00:15<00:00,  3.92s/it]\n",
      "100%|██████████| 4/4 [00:15<00:00,  3.91s/it]\n",
      "100%|██████████| 4/4 [00:15<00:00,  3.92s/it]\n",
      "100%|██████████| 4/4 [00:15<00:00,  3.92s/it]\n",
      "100%|██████████| 4/4 [00:15<00:00,  3.91s/it]\n",
      "100%|██████████| 4/4 [00:15<00:00,  3.91s/it]\n",
      "100%|██████████| 4/4 [00:15<00:00,  3.91s/it]\n",
      "100%|██████████| 4/4 [00:15<00:00,  3.92s/it]\n",
      "100%|██████████| 4/4 [00:15<00:00,  3.91s/it]\n",
      "100%|██████████| 4/4 [00:15<00:00,  3.91s/it]\n",
      "100%|██████████| 4/4 [00:15<00:00,  3.91s/it]\n",
      "100%|██████████| 4/4 [00:15<00:00,  3.91s/it]\n",
      "100%|██████████| 4/4 [00:15<00:00,  3.92s/it]\n",
      "100%|██████████| 4/4 [00:15<00:00,  3.91s/it]\n",
      "100%|██████████| 4/4 [00:15<00:00,  3.91s/it]\n",
      "100%|██████████| 4/4 [00:15<00:00,  3.92s/it]\n",
      "100%|██████████| 4/4 [00:15<00:00,  3.91s/it]\n"
     ]
    },
    {
     "name": "stdout",
     "output_type": "stream",
     "text": [
      "iter 980: loss 6.4125, time 15684.29ms\n"
     ]
    },
    {
     "name": "stderr",
     "output_type": "stream",
     "text": [
      "100%|██████████| 4/4 [00:15<00:00,  3.91s/it]\n",
      "100%|██████████| 4/4 [00:15<00:00,  3.91s/it]\n",
      "100%|██████████| 4/4 [00:15<00:00,  3.91s/it]\n",
      "100%|██████████| 4/4 [00:15<00:00,  3.91s/it]\n",
      "100%|██████████| 4/4 [00:15<00:00,  3.91s/it]\n",
      "100%|██████████| 4/4 [00:15<00:00,  3.91s/it]\n",
      "100%|██████████| 4/4 [00:15<00:00,  3.91s/it]\n",
      "100%|██████████| 4/4 [00:15<00:00,  3.92s/it]\n",
      "100%|██████████| 4/4 [00:15<00:00,  3.91s/it]\n",
      "100%|██████████| 4/4 [00:15<00:00,  3.92s/it]\n",
      "100%|██████████| 4/4 [00:15<00:00,  3.92s/it]\n",
      "100%|██████████| 4/4 [00:15<00:00,  3.92s/it]\n",
      "100%|██████████| 4/4 [00:15<00:00,  3.91s/it]\n",
      "100%|██████████| 4/4 [00:15<00:00,  3.91s/it]\n",
      "100%|██████████| 4/4 [00:15<00:00,  3.91s/it]\n",
      "100%|██████████| 4/4 [00:15<00:00,  3.91s/it]\n",
      "100%|██████████| 4/4 [00:15<00:00,  3.91s/it]\n",
      "100%|██████████| 4/4 [00:15<00:00,  3.91s/it]\n",
      "100%|██████████| 4/4 [00:15<00:00,  3.91s/it]\n"
     ]
    },
    {
     "name": "stdout",
     "output_type": "stream",
     "text": [
      "step 1000: train loss 6.7078, val loss 6.6995\n",
      "train ppl 818.75, val ppl 812.01\n",
      "📈 Train/Val Gap: -0.0083 (-0.12%)\n",
      "✅ 新的最佳驗證損失: 6.6995\n"
     ]
    },
    {
     "name": "stderr",
     "output_type": "stream",
     "text": [
      "100%|██████████| 4/4 [00:15<00:00,  3.91s/it]\n"
     ]
    },
    {
     "name": "stdout",
     "output_type": "stream",
     "text": [
      "iter 1000: loss 6.1864, time 103002.85ms\n"
     ]
    },
    {
     "name": "stderr",
     "output_type": "stream",
     "text": [
      "100%|██████████| 4/4 [00:15<00:00,  3.91s/it]\n",
      "100%|██████████| 4/4 [00:15<00:00,  3.91s/it]\n",
      "100%|██████████| 4/4 [00:15<00:00,  3.91s/it]\n",
      "100%|██████████| 4/4 [00:15<00:00,  3.92s/it]\n",
      "100%|██████████| 4/4 [00:15<00:00,  3.91s/it]\n",
      "100%|██████████| 4/4 [00:15<00:00,  3.91s/it]\n",
      "100%|██████████| 4/4 [00:15<00:00,  3.91s/it]\n",
      "100%|██████████| 4/4 [00:15<00:00,  3.92s/it]\n",
      "100%|██████████| 4/4 [00:15<00:00,  3.91s/it]\n",
      "100%|██████████| 4/4 [00:15<00:00,  3.91s/it]\n",
      "100%|██████████| 4/4 [00:15<00:00,  3.91s/it]\n",
      "100%|██████████| 4/4 [00:15<00:00,  3.91s/it]\n",
      "100%|██████████| 4/4 [00:15<00:00,  3.91s/it]\n",
      "100%|██████████| 4/4 [00:15<00:00,  3.91s/it]\n",
      "100%|██████████| 4/4 [00:15<00:00,  3.94s/it]\n",
      "100%|██████████| 4/4 [00:15<00:00,  3.91s/it]\n",
      "100%|██████████| 4/4 [00:15<00:00,  3.91s/it]\n",
      "100%|██████████| 4/4 [00:15<00:00,  3.91s/it]\n",
      "100%|██████████| 4/4 [00:15<00:00,  3.91s/it]\n",
      "100%|██████████| 4/4 [00:15<00:00,  3.91s/it]\n"
     ]
    },
    {
     "name": "stdout",
     "output_type": "stream",
     "text": [
      "iter 1020: loss 6.2809, time 15672.89ms\n"
     ]
    },
    {
     "name": "stderr",
     "output_type": "stream",
     "text": [
      "100%|██████████| 4/4 [00:15<00:00,  3.91s/it]\n",
      "100%|██████████| 4/4 [00:15<00:00,  3.91s/it]\n",
      "100%|██████████| 4/4 [00:15<00:00,  3.91s/it]\n",
      "100%|██████████| 4/4 [00:15<00:00,  3.91s/it]\n",
      "100%|██████████| 4/4 [00:15<00:00,  3.91s/it]\n",
      "100%|██████████| 4/4 [00:15<00:00,  3.92s/it]\n",
      "100%|██████████| 4/4 [00:15<00:00,  3.94s/it]\n",
      "100%|██████████| 4/4 [00:15<00:00,  3.93s/it]\n",
      "100%|██████████| 4/4 [00:15<00:00,  3.91s/it]\n",
      "100%|██████████| 4/4 [00:15<00:00,  3.91s/it]\n",
      "100%|██████████| 4/4 [00:15<00:00,  3.92s/it]\n",
      "100%|██████████| 4/4 [00:15<00:00,  3.91s/it]\n",
      "100%|██████████| 4/4 [00:15<00:00,  3.91s/it]\n",
      "100%|██████████| 4/4 [00:15<00:00,  3.92s/it]\n",
      "100%|██████████| 4/4 [00:15<00:00,  3.91s/it]\n",
      "100%|██████████| 4/4 [00:15<00:00,  3.91s/it]\n",
      "100%|██████████| 4/4 [00:15<00:00,  3.91s/it]\n",
      "100%|██████████| 4/4 [00:15<00:00,  3.92s/it]\n",
      "100%|██████████| 4/4 [00:15<00:00,  3.91s/it]\n",
      "100%|██████████| 4/4 [00:15<00:00,  3.91s/it]\n"
     ]
    },
    {
     "name": "stdout",
     "output_type": "stream",
     "text": [
      "iter 1040: loss 6.8519, time 15673.73ms\n"
     ]
    },
    {
     "name": "stderr",
     "output_type": "stream",
     "text": [
      "100%|██████████| 4/4 [00:15<00:00,  3.90s/it]\n",
      "100%|██████████| 4/4 [00:15<00:00,  3.91s/it]\n",
      "100%|██████████| 4/4 [00:15<00:00,  3.93s/it]\n",
      "100%|██████████| 4/4 [00:15<00:00,  3.91s/it]\n",
      "100%|██████████| 4/4 [00:15<00:00,  3.91s/it]\n",
      "100%|██████████| 4/4 [00:15<00:00,  3.91s/it]\n",
      "100%|██████████| 4/4 [00:15<00:00,  3.91s/it]\n",
      "100%|██████████| 4/4 [00:15<00:00,  3.91s/it]\n",
      "100%|██████████| 4/4 [00:15<00:00,  3.91s/it]\n",
      "100%|██████████| 4/4 [00:15<00:00,  3.91s/it]\n",
      "100%|██████████| 4/4 [00:15<00:00,  3.91s/it]\n",
      "100%|██████████| 4/4 [00:15<00:00,  3.91s/it]\n",
      "100%|██████████| 4/4 [00:15<00:00,  3.91s/it]\n",
      "100%|██████████| 4/4 [00:15<00:00,  3.92s/it]\n",
      "100%|██████████| 4/4 [00:15<00:00,  3.91s/it]\n",
      "100%|██████████| 4/4 [00:15<00:00,  3.91s/it]\n",
      "100%|██████████| 4/4 [00:15<00:00,  3.92s/it]\n",
      "100%|██████████| 4/4 [00:15<00:00,  3.91s/it]\n",
      "100%|██████████| 4/4 [00:15<00:00,  3.92s/it]\n",
      "100%|██████████| 4/4 [00:15<00:00,  3.91s/it]\n"
     ]
    },
    {
     "name": "stdout",
     "output_type": "stream",
     "text": [
      "iter 1060: loss 6.4986, time 15672.77ms\n"
     ]
    },
    {
     "name": "stderr",
     "output_type": "stream",
     "text": [
      "100%|██████████| 4/4 [00:15<00:00,  3.91s/it]\n",
      "100%|██████████| 4/4 [00:15<00:00,  3.91s/it]\n",
      "100%|██████████| 4/4 [00:15<00:00,  3.92s/it]\n",
      "100%|██████████| 4/4 [00:15<00:00,  3.91s/it]\n",
      "100%|██████████| 4/4 [00:15<00:00,  3.92s/it]\n",
      "100%|██████████| 4/4 [00:15<00:00,  3.91s/it]\n",
      "100%|██████████| 4/4 [00:15<00:00,  3.91s/it]\n",
      "100%|██████████| 4/4 [00:15<00:00,  3.91s/it]\n",
      "100%|██████████| 4/4 [00:15<00:00,  3.91s/it]\n",
      "100%|██████████| 4/4 [00:15<00:00,  3.91s/it]\n",
      "100%|██████████| 4/4 [00:15<00:00,  3.91s/it]\n",
      "100%|██████████| 4/4 [00:15<00:00,  3.91s/it]\n",
      "100%|██████████| 4/4 [00:15<00:00,  3.91s/it]\n",
      "100%|██████████| 4/4 [00:15<00:00,  3.91s/it]\n",
      "100%|██████████| 4/4 [00:15<00:00,  3.91s/it]\n",
      "100%|██████████| 4/4 [00:15<00:00,  3.91s/it]\n",
      "100%|██████████| 4/4 [00:15<00:00,  3.92s/it]\n",
      "100%|██████████| 4/4 [00:15<00:00,  3.91s/it]\n",
      "100%|██████████| 4/4 [00:15<00:00,  3.91s/it]\n",
      "100%|██████████| 4/4 [00:15<00:00,  3.92s/it]\n"
     ]
    },
    {
     "name": "stdout",
     "output_type": "stream",
     "text": [
      "iter 1080: loss 6.7525, time 15691.47ms\n"
     ]
    },
    {
     "name": "stderr",
     "output_type": "stream",
     "text": [
      "100%|██████████| 4/4 [00:15<00:00,  3.91s/it]\n",
      "100%|██████████| 4/4 [00:15<00:00,  3.91s/it]\n",
      "100%|██████████| 4/4 [00:15<00:00,  3.92s/it]\n",
      "100%|██████████| 4/4 [00:15<00:00,  3.91s/it]\n",
      "100%|██████████| 4/4 [00:15<00:00,  3.91s/it]\n",
      "100%|██████████| 4/4 [00:15<00:00,  3.91s/it]\n",
      "100%|██████████| 4/4 [00:15<00:00,  3.91s/it]\n",
      "100%|██████████| 4/4 [00:15<00:00,  3.92s/it]\n",
      "100%|██████████| 4/4 [00:15<00:00,  3.91s/it]\n",
      "100%|██████████| 4/4 [00:15<00:00,  3.91s/it]\n",
      "100%|██████████| 4/4 [00:15<00:00,  3.91s/it]\n",
      "100%|██████████| 4/4 [00:15<00:00,  3.92s/it]\n",
      "100%|██████████| 4/4 [00:15<00:00,  3.91s/it]\n",
      "100%|██████████| 4/4 [00:15<00:00,  3.91s/it]\n",
      "100%|██████████| 4/4 [00:15<00:00,  3.91s/it]\n",
      "100%|██████████| 4/4 [00:15<00:00,  3.92s/it]\n",
      "100%|██████████| 4/4 [00:15<00:00,  3.91s/it]\n",
      "100%|██████████| 4/4 [00:15<00:00,  3.91s/it]\n",
      "100%|██████████| 4/4 [00:15<00:00,  3.91s/it]\n",
      "100%|██████████| 4/4 [00:15<00:00,  3.92s/it]\n"
     ]
    },
    {
     "name": "stdout",
     "output_type": "stream",
     "text": [
      "iter 1100: loss 6.4358, time 15694.15ms\n"
     ]
    },
    {
     "name": "stderr",
     "output_type": "stream",
     "text": [
      "100%|██████████| 4/4 [00:15<00:00,  3.91s/it]\n",
      "100%|██████████| 4/4 [00:15<00:00,  3.91s/it]\n",
      "100%|██████████| 4/4 [00:15<00:00,  3.92s/it]\n",
      "100%|██████████| 4/4 [00:15<00:00,  3.91s/it]\n",
      "100%|██████████| 4/4 [00:15<00:00,  3.91s/it]\n",
      "100%|██████████| 4/4 [00:15<00:00,  3.91s/it]\n",
      "100%|██████████| 4/4 [00:15<00:00,  3.92s/it]\n",
      "100%|██████████| 4/4 [00:15<00:00,  3.91s/it]\n",
      "100%|██████████| 4/4 [00:15<00:00,  3.91s/it]\n",
      "100%|██████████| 4/4 [00:15<00:00,  3.91s/it]\n",
      "100%|██████████| 4/4 [00:15<00:00,  3.92s/it]\n",
      "100%|██████████| 4/4 [00:15<00:00,  3.91s/it]\n",
      "100%|██████████| 4/4 [00:15<00:00,  3.91s/it]\n",
      "100%|██████████| 4/4 [00:15<00:00,  3.91s/it]\n",
      "100%|██████████| 4/4 [00:15<00:00,  3.92s/it]\n",
      "100%|██████████| 4/4 [00:15<00:00,  3.91s/it]\n",
      "100%|██████████| 4/4 [00:15<00:00,  3.91s/it]\n",
      "100%|██████████| 4/4 [00:15<00:00,  3.91s/it]\n",
      "100%|██████████| 4/4 [00:15<00:00,  3.91s/it]\n",
      "100%|██████████| 4/4 [00:15<00:00,  3.91s/it]\n"
     ]
    },
    {
     "name": "stdout",
     "output_type": "stream",
     "text": [
      "iter 1120: loss 6.4127, time 15675.53ms\n"
     ]
    },
    {
     "name": "stderr",
     "output_type": "stream",
     "text": [
      "100%|██████████| 4/4 [00:15<00:00,  3.90s/it]\n",
      "100%|██████████| 4/4 [00:15<00:00,  3.91s/it]\n",
      "100%|██████████| 4/4 [00:15<00:00,  3.91s/it]\n",
      "100%|██████████| 4/4 [00:15<00:00,  3.91s/it]\n",
      "100%|██████████| 4/4 [00:15<00:00,  3.91s/it]\n",
      "100%|██████████| 4/4 [00:15<00:00,  3.92s/it]\n",
      "100%|██████████| 4/4 [00:15<00:00,  3.92s/it]\n",
      "100%|██████████| 4/4 [00:15<00:00,  3.92s/it]\n",
      "100%|██████████| 4/4 [00:15<00:00,  3.91s/it]\n",
      "100%|██████████| 4/4 [00:15<00:00,  3.91s/it]\n",
      "100%|██████████| 4/4 [00:15<00:00,  3.91s/it]\n",
      "100%|██████████| 4/4 [00:15<00:00,  3.91s/it]\n",
      "100%|██████████| 4/4 [00:15<00:00,  3.92s/it]\n",
      "100%|██████████| 4/4 [00:15<00:00,  3.92s/it]\n",
      "100%|██████████| 4/4 [00:15<00:00,  3.91s/it]\n",
      "100%|██████████| 4/4 [00:15<00:00,  3.91s/it]\n",
      "100%|██████████| 4/4 [00:15<00:00,  3.91s/it]\n",
      "100%|██████████| 4/4 [00:15<00:00,  3.92s/it]\n",
      "100%|██████████| 4/4 [00:15<00:00,  3.91s/it]\n",
      "100%|██████████| 4/4 [00:15<00:00,  3.91s/it]\n"
     ]
    },
    {
     "name": "stdout",
     "output_type": "stream",
     "text": [
      "iter 1140: loss 6.7191, time 15672.38ms\n"
     ]
    },
    {
     "name": "stderr",
     "output_type": "stream",
     "text": [
      "100%|██████████| 4/4 [00:15<00:00,  3.91s/it]\n",
      "100%|██████████| 4/4 [00:15<00:00,  3.92s/it]\n",
      "100%|██████████| 4/4 [00:15<00:00,  3.91s/it]\n",
      "100%|██████████| 4/4 [00:15<00:00,  3.91s/it]\n",
      "100%|██████████| 4/4 [00:15<00:00,  3.91s/it]\n",
      "100%|██████████| 4/4 [00:15<00:00,  3.91s/it]\n",
      "100%|██████████| 4/4 [00:15<00:00,  3.91s/it]\n",
      "100%|██████████| 4/4 [00:15<00:00,  3.91s/it]\n",
      "100%|██████████| 4/4 [00:15<00:00,  3.92s/it]\n",
      "100%|██████████| 4/4 [00:15<00:00,  3.91s/it]\n",
      "100%|██████████| 4/4 [00:15<00:00,  3.91s/it]\n",
      "100%|██████████| 4/4 [00:15<00:00,  3.91s/it]\n",
      "100%|██████████| 4/4 [00:15<00:00,  3.92s/it]\n",
      "100%|██████████| 4/4 [00:15<00:00,  3.91s/it]\n",
      "100%|██████████| 4/4 [00:15<00:00,  3.91s/it]\n",
      "100%|██████████| 4/4 [00:15<00:00,  3.91s/it]\n",
      "100%|██████████| 4/4 [00:15<00:00,  3.91s/it]\n",
      "100%|██████████| 4/4 [00:15<00:00,  3.91s/it]\n",
      "100%|██████████| 4/4 [00:15<00:00,  3.91s/it]\n",
      "100%|██████████| 4/4 [00:15<00:00,  3.91s/it]\n"
     ]
    },
    {
     "name": "stdout",
     "output_type": "stream",
     "text": [
      "iter 1160: loss 6.6972, time 15672.50ms\n"
     ]
    },
    {
     "name": "stderr",
     "output_type": "stream",
     "text": [
      "100%|██████████| 4/4 [00:15<00:00,  3.91s/it]\n",
      "100%|██████████| 4/4 [00:15<00:00,  3.91s/it]\n",
      "100%|██████████| 4/4 [00:15<00:00,  3.91s/it]\n",
      "100%|██████████| 4/4 [00:15<00:00,  3.91s/it]\n",
      "100%|██████████| 4/4 [00:15<00:00,  3.91s/it]\n",
      "100%|██████████| 4/4 [00:15<00:00,  3.91s/it]\n",
      "100%|██████████| 4/4 [00:15<00:00,  3.91s/it]\n",
      "100%|██████████| 4/4 [00:15<00:00,  3.92s/it]\n",
      "100%|██████████| 4/4 [00:15<00:00,  3.91s/it]\n",
      "100%|██████████| 4/4 [00:15<00:00,  3.92s/it]\n",
      "100%|██████████| 4/4 [00:15<00:00,  3.91s/it]\n",
      "100%|██████████| 4/4 [00:15<00:00,  3.91s/it]\n",
      "100%|██████████| 4/4 [00:15<00:00,  3.91s/it]\n",
      "100%|██████████| 4/4 [00:15<00:00,  3.92s/it]\n",
      "100%|██████████| 4/4 [00:15<00:00,  3.91s/it]\n",
      "100%|██████████| 4/4 [00:15<00:00,  3.92s/it]\n",
      "100%|██████████| 4/4 [00:15<00:00,  3.91s/it]\n",
      "100%|██████████| 4/4 [00:15<00:00,  3.91s/it]\n",
      "100%|██████████| 4/4 [00:15<00:00,  3.91s/it]\n",
      "100%|██████████| 4/4 [00:15<00:00,  3.92s/it]\n"
     ]
    },
    {
     "name": "stdout",
     "output_type": "stream",
     "text": [
      "iter 1180: loss 6.5424, time 15698.58ms\n"
     ]
    },
    {
     "name": "stderr",
     "output_type": "stream",
     "text": [
      "100%|██████████| 4/4 [00:15<00:00,  3.91s/it]\n",
      "100%|██████████| 4/4 [00:15<00:00,  3.91s/it]\n",
      "100%|██████████| 4/4 [00:15<00:00,  3.92s/it]\n",
      "100%|██████████| 4/4 [00:15<00:00,  3.91s/it]\n",
      "100%|██████████| 4/4 [00:15<00:00,  3.91s/it]\n",
      "100%|██████████| 4/4 [00:15<00:00,  3.91s/it]\n",
      "100%|██████████| 4/4 [00:15<00:00,  3.91s/it]\n",
      "100%|██████████| 4/4 [00:15<00:00,  3.92s/it]\n",
      "100%|██████████| 4/4 [00:15<00:00,  3.91s/it]\n",
      "100%|██████████| 4/4 [00:15<00:00,  3.91s/it]\n",
      "100%|██████████| 4/4 [00:15<00:00,  3.92s/it]\n",
      "100%|██████████| 4/4 [00:15<00:00,  3.91s/it]\n",
      "100%|██████████| 4/4 [00:15<00:00,  3.91s/it]\n",
      "100%|██████████| 4/4 [00:15<00:00,  3.91s/it]\n",
      "100%|██████████| 4/4 [00:15<00:00,  3.91s/it]\n",
      "100%|██████████| 4/4 [00:15<00:00,  3.87s/it]\n",
      "100%|██████████| 4/4 [00:15<00:00,  3.81s/it]\n",
      "100%|██████████| 4/4 [00:15<00:00,  3.81s/it]\n",
      "100%|██████████| 4/4 [00:15<00:00,  3.82s/it]\n"
     ]
    },
    {
     "name": "stdout",
     "output_type": "stream",
     "text": [
      "step 1200: train loss 6.5716, val loss 6.6152\n",
      "train ppl 714.51, val ppl 746.32\n",
      "📈 Train/Val Gap: 0.0436 (0.66%)\n",
      "✅ 新的最佳驗證損失: 6.6152\n"
     ]
    },
    {
     "name": "stderr",
     "output_type": "stream",
     "text": [
      "100%|██████████| 4/4 [00:15<00:00,  3.81s/it]\n"
     ]
    },
    {
     "name": "stdout",
     "output_type": "stream",
     "text": [
      "iter 1200: loss 6.6385, time 102821.30ms\n"
     ]
    },
    {
     "name": "stderr",
     "output_type": "stream",
     "text": [
      "100%|██████████| 4/4 [00:15<00:00,  3.81s/it]\n",
      "100%|██████████| 4/4 [00:15<00:00,  3.82s/it]\n",
      "100%|██████████| 4/4 [00:15<00:00,  3.82s/it]\n",
      "100%|██████████| 4/4 [00:15<00:00,  3.81s/it]\n",
      "100%|██████████| 4/4 [00:15<00:00,  3.82s/it]\n",
      "100%|██████████| 4/4 [00:15<00:00,  3.82s/it]\n",
      "100%|██████████| 4/4 [00:15<00:00,  3.81s/it]\n",
      "100%|██████████| 4/4 [00:15<00:00,  3.81s/it]\n",
      "100%|██████████| 4/4 [00:15<00:00,  3.82s/it]\n",
      "100%|██████████| 4/4 [00:15<00:00,  3.81s/it]\n",
      "100%|██████████| 4/4 [00:15<00:00,  3.82s/it]\n",
      "100%|██████████| 4/4 [00:15<00:00,  3.81s/it]\n",
      "100%|██████████| 4/4 [00:15<00:00,  3.82s/it]\n",
      "100%|██████████| 4/4 [00:15<00:00,  3.82s/it]\n",
      "100%|██████████| 4/4 [00:15<00:00,  3.81s/it]\n",
      "100%|██████████| 4/4 [00:15<00:00,  3.84s/it]\n",
      "100%|██████████| 4/4 [00:15<00:00,  3.82s/it]\n",
      "100%|██████████| 4/4 [00:15<00:00,  3.81s/it]\n",
      "100%|██████████| 4/4 [00:15<00:00,  3.82s/it]\n",
      "100%|██████████| 4/4 [00:15<00:00,  3.81s/it]\n"
     ]
    },
    {
     "name": "stdout",
     "output_type": "stream",
     "text": [
      "iter 1220: loss 6.8314, time 15284.03ms\n"
     ]
    },
    {
     "name": "stderr",
     "output_type": "stream",
     "text": [
      "100%|██████████| 4/4 [00:15<00:00,  3.81s/it]\n",
      "100%|██████████| 4/4 [00:15<00:00,  3.81s/it]\n",
      "100%|██████████| 4/4 [00:15<00:00,  3.93s/it]\n",
      "100%|██████████| 4/4 [00:15<00:00,  3.93s/it]\n",
      "100%|██████████| 4/4 [00:15<00:00,  3.94s/it]\n",
      "100%|██████████| 4/4 [00:15<00:00,  3.94s/it]\n",
      "100%|██████████| 4/4 [00:15<00:00,  3.93s/it]\n",
      "100%|██████████| 4/4 [00:15<00:00,  3.96s/it]\n",
      "100%|██████████| 4/4 [00:15<00:00,  3.93s/it]\n",
      "100%|██████████| 4/4 [00:15<00:00,  3.93s/it]\n",
      "100%|██████████| 4/4 [00:15<00:00,  3.93s/it]\n",
      "100%|██████████| 4/4 [00:15<00:00,  3.94s/it]\n",
      "100%|██████████| 4/4 [00:15<00:00,  3.93s/it]\n",
      "100%|██████████| 4/4 [00:15<00:00,  3.93s/it]\n",
      "100%|██████████| 4/4 [00:15<00:00,  3.93s/it]\n",
      "100%|██████████| 4/4 [00:15<00:00,  3.94s/it]\n",
      "100%|██████████| 4/4 [00:15<00:00,  3.93s/it]\n",
      "100%|██████████| 4/4 [00:15<00:00,  3.93s/it]\n",
      "100%|██████████| 4/4 [00:15<00:00,  3.93s/it]\n",
      "100%|██████████| 4/4 [00:15<00:00,  3.94s/it]\n"
     ]
    },
    {
     "name": "stdout",
     "output_type": "stream",
     "text": [
      "iter 1240: loss 6.3912, time 15770.48ms\n"
     ]
    },
    {
     "name": "stderr",
     "output_type": "stream",
     "text": [
      "100%|██████████| 4/4 [00:15<00:00,  3.93s/it]\n",
      "100%|██████████| 4/4 [00:15<00:00,  3.93s/it]\n",
      "100%|██████████| 4/4 [00:15<00:00,  3.94s/it]\n",
      "100%|██████████| 4/4 [00:15<00:00,  3.95s/it]\n",
      "100%|██████████| 4/4 [00:15<00:00,  3.93s/it]\n",
      "100%|██████████| 4/4 [00:15<00:00,  3.93s/it]\n",
      "100%|██████████| 4/4 [00:15<00:00,  3.94s/it]\n",
      "100%|██████████| 4/4 [00:15<00:00,  3.93s/it]\n",
      "100%|██████████| 4/4 [00:15<00:00,  3.93s/it]\n",
      "100%|██████████| 4/4 [00:15<00:00,  3.93s/it]\n",
      "100%|██████████| 4/4 [00:15<00:00,  3.94s/it]\n",
      "100%|██████████| 4/4 [00:15<00:00,  3.93s/it]\n",
      "100%|██████████| 4/4 [00:15<00:00,  3.94s/it]\n",
      "100%|██████████| 4/4 [00:15<00:00,  3.93s/it]\n",
      "100%|██████████| 4/4 [00:15<00:00,  3.94s/it]\n",
      "100%|██████████| 4/4 [00:15<00:00,  3.94s/it]\n",
      "100%|██████████| 4/4 [00:15<00:00,  3.93s/it]\n",
      "100%|██████████| 4/4 [00:15<00:00,  3.94s/it]\n",
      "100%|██████████| 4/4 [00:15<00:00,  3.94s/it]\n",
      "100%|██████████| 4/4 [00:15<00:00,  3.93s/it]\n"
     ]
    },
    {
     "name": "stdout",
     "output_type": "stream",
     "text": [
      "iter 1260: loss 6.6049, time 15764.21ms\n"
     ]
    },
    {
     "name": "stderr",
     "output_type": "stream",
     "text": [
      "100%|██████████| 4/4 [00:15<00:00,  3.93s/it]\n",
      "100%|██████████| 4/4 [00:15<00:00,  3.93s/it]\n",
      "100%|██████████| 4/4 [00:15<00:00,  3.94s/it]\n",
      "100%|██████████| 4/4 [00:15<00:00,  3.93s/it]\n",
      "100%|██████████| 4/4 [00:15<00:00,  3.93s/it]\n",
      "100%|██████████| 4/4 [00:15<00:00,  3.94s/it]\n",
      "100%|██████████| 4/4 [00:15<00:00,  3.94s/it]\n",
      "100%|██████████| 4/4 [00:15<00:00,  3.94s/it]\n",
      "100%|██████████| 4/4 [00:15<00:00,  3.94s/it]\n",
      "100%|██████████| 4/4 [00:15<00:00,  3.94s/it]\n",
      "100%|██████████| 4/4 [00:15<00:00,  3.94s/it]\n",
      "100%|██████████| 4/4 [00:15<00:00,  3.93s/it]\n",
      "100%|██████████| 4/4 [00:15<00:00,  3.93s/it]\n",
      "100%|██████████| 4/4 [00:15<00:00,  3.94s/it]\n",
      "100%|██████████| 4/4 [00:15<00:00,  3.93s/it]\n",
      "100%|██████████| 4/4 [00:15<00:00,  3.93s/it]\n",
      "100%|██████████| 4/4 [00:15<00:00,  3.94s/it]\n",
      "100%|██████████| 4/4 [00:15<00:00,  3.94s/it]\n",
      "100%|██████████| 4/4 [00:15<00:00,  3.93s/it]\n",
      "100%|██████████| 4/4 [00:15<00:00,  3.93s/it]\n"
     ]
    },
    {
     "name": "stdout",
     "output_type": "stream",
     "text": [
      "iter 1280: loss 6.7771, time 15758.11ms\n"
     ]
    },
    {
     "name": "stderr",
     "output_type": "stream",
     "text": [
      "100%|██████████| 4/4 [00:15<00:00,  3.93s/it]\n",
      "100%|██████████| 4/4 [00:15<00:00,  3.94s/it]\n",
      "100%|██████████| 4/4 [00:15<00:00,  3.93s/it]\n",
      "100%|██████████| 4/4 [00:15<00:00,  3.93s/it]\n",
      "100%|██████████| 4/4 [00:15<00:00,  3.93s/it]\n",
      "100%|██████████| 4/4 [00:15<00:00,  3.94s/it]\n",
      "100%|██████████| 4/4 [00:15<00:00,  3.94s/it]\n",
      "100%|██████████| 4/4 [00:15<00:00,  3.93s/it]\n",
      "100%|██████████| 4/4 [00:15<00:00,  3.93s/it]\n",
      "100%|██████████| 4/4 [00:15<00:00,  3.93s/it]\n",
      "100%|██████████| 4/4 [00:15<00:00,  3.94s/it]\n",
      "100%|██████████| 4/4 [00:15<00:00,  3.93s/it]\n",
      "100%|██████████| 4/4 [00:15<00:00,  3.94s/it]\n",
      "100%|██████████| 4/4 [00:15<00:00,  3.94s/it]\n",
      "100%|██████████| 4/4 [00:15<00:00,  3.93s/it]\n",
      "100%|██████████| 4/4 [00:15<00:00,  3.93s/it]\n",
      "100%|██████████| 4/4 [00:15<00:00,  3.93s/it]\n",
      "100%|██████████| 4/4 [00:15<00:00,  3.94s/it]\n",
      "100%|██████████| 4/4 [00:15<00:00,  3.94s/it]\n",
      "100%|██████████| 4/4 [00:15<00:00,  3.94s/it]\n"
     ]
    },
    {
     "name": "stdout",
     "output_type": "stream",
     "text": [
      "iter 1300: loss 6.2479, time 15767.84ms\n"
     ]
    },
    {
     "name": "stderr",
     "output_type": "stream",
     "text": [
      "100%|██████████| 4/4 [00:15<00:00,  3.93s/it]\n",
      "100%|██████████| 4/4 [00:15<00:00,  3.82s/it]\n",
      "100%|██████████| 4/4 [00:15<00:00,  3.81s/it]\n",
      "100%|██████████| 4/4 [00:15<00:00,  3.81s/it]\n",
      "100%|██████████| 4/4 [00:15<00:00,  3.82s/it]\n",
      "100%|██████████| 4/4 [00:15<00:00,  3.82s/it]\n",
      "100%|██████████| 4/4 [00:15<00:00,  3.82s/it]\n",
      "100%|██████████| 4/4 [00:15<00:00,  3.81s/it]\n",
      "100%|██████████| 4/4 [00:15<00:00,  3.82s/it]\n",
      "100%|██████████| 4/4 [00:15<00:00,  3.81s/it]\n",
      "100%|██████████| 4/4 [00:15<00:00,  3.82s/it]\n",
      "100%|██████████| 4/4 [00:15<00:00,  3.81s/it]\n",
      "100%|██████████| 4/4 [00:15<00:00,  3.82s/it]\n",
      "100%|██████████| 4/4 [00:15<00:00,  3.81s/it]\n",
      "100%|██████████| 4/4 [00:15<00:00,  3.81s/it]\n",
      "100%|██████████| 4/4 [00:15<00:00,  3.82s/it]\n",
      "100%|██████████| 4/4 [00:15<00:00,  3.81s/it]\n",
      "100%|██████████| 4/4 [00:15<00:00,  3.81s/it]\n",
      "100%|██████████| 4/4 [00:15<00:00,  3.82s/it]\n",
      "100%|██████████| 4/4 [00:15<00:00,  3.81s/it]\n"
     ]
    },
    {
     "name": "stdout",
     "output_type": "stream",
     "text": [
      "iter 1320: loss 6.7328, time 15277.70ms\n"
     ]
    },
    {
     "name": "stderr",
     "output_type": "stream",
     "text": [
      "100%|██████████| 4/4 [00:15<00:00,  3.81s/it]\n",
      "100%|██████████| 4/4 [00:15<00:00,  3.82s/it]\n",
      "100%|██████████| 4/4 [00:15<00:00,  3.81s/it]\n",
      "100%|██████████| 4/4 [00:15<00:00,  3.82s/it]\n",
      "100%|██████████| 4/4 [00:15<00:00,  3.81s/it]\n",
      "100%|██████████| 4/4 [00:15<00:00,  3.81s/it]\n",
      "100%|██████████| 4/4 [00:15<00:00,  3.82s/it]\n",
      "100%|██████████| 4/4 [00:15<00:00,  3.82s/it]\n",
      "100%|██████████| 4/4 [00:15<00:00,  3.82s/it]\n",
      "100%|██████████| 4/4 [00:15<00:00,  3.81s/it]\n",
      "100%|██████████| 4/4 [00:15<00:00,  3.81s/it]\n",
      "100%|██████████| 4/4 [00:15<00:00,  3.82s/it]\n",
      "100%|██████████| 4/4 [00:15<00:00,  3.81s/it]\n",
      "100%|██████████| 4/4 [00:15<00:00,  3.81s/it]\n",
      "100%|██████████| 4/4 [00:15<00:00,  3.81s/it]\n",
      "100%|██████████| 4/4 [00:15<00:00,  3.86s/it]\n",
      "100%|██████████| 4/4 [00:15<00:00,  3.93s/it]\n",
      "100%|██████████| 4/4 [00:15<00:00,  3.93s/it]\n",
      "100%|██████████| 4/4 [00:15<00:00,  3.93s/it]\n",
      "100%|██████████| 4/4 [00:15<00:00,  3.94s/it]\n"
     ]
    },
    {
     "name": "stdout",
     "output_type": "stream",
     "text": [
      "iter 1340: loss 6.8734, time 15773.79ms\n"
     ]
    },
    {
     "name": "stderr",
     "output_type": "stream",
     "text": [
      "100%|██████████| 4/4 [00:15<00:00,  3.92s/it]\n",
      "100%|██████████| 4/4 [00:15<00:00,  3.94s/it]\n",
      "100%|██████████| 4/4 [00:15<00:00,  3.93s/it]\n",
      "100%|██████████| 4/4 [00:15<00:00,  3.94s/it]\n",
      "100%|██████████| 4/4 [00:15<00:00,  3.94s/it]\n",
      "100%|██████████| 4/4 [00:15<00:00,  3.93s/it]\n",
      "100%|██████████| 4/4 [00:15<00:00,  3.93s/it]\n",
      "100%|██████████| 4/4 [00:15<00:00,  3.93s/it]\n",
      "100%|██████████| 4/4 [00:15<00:00,  3.93s/it]\n",
      "100%|██████████| 4/4 [00:15<00:00,  3.94s/it]\n",
      "100%|██████████| 4/4 [00:15<00:00,  3.94s/it]\n",
      "100%|██████████| 4/4 [00:15<00:00,  3.93s/it]\n",
      "100%|██████████| 4/4 [00:15<00:00,  3.93s/it]\n",
      "100%|██████████| 4/4 [00:15<00:00,  3.93s/it]\n",
      "100%|██████████| 4/4 [00:15<00:00,  3.94s/it]\n",
      "100%|██████████| 4/4 [00:15<00:00,  3.93s/it]\n",
      "100%|██████████| 4/4 [00:15<00:00,  3.94s/it]\n",
      "100%|██████████| 4/4 [00:15<00:00,  3.93s/it]\n",
      "100%|██████████| 4/4 [00:15<00:00,  3.94s/it]\n",
      "100%|██████████| 4/4 [00:15<00:00,  3.93s/it]\n"
     ]
    },
    {
     "name": "stdout",
     "output_type": "stream",
     "text": [
      "iter 1360: loss 6.4185, time 15748.08ms\n"
     ]
    },
    {
     "name": "stderr",
     "output_type": "stream",
     "text": [
      "100%|██████████| 4/4 [00:15<00:00,  3.93s/it]\n",
      "100%|██████████| 4/4 [00:15<00:00,  3.93s/it]\n",
      "100%|██████████| 4/4 [00:15<00:00,  3.93s/it]\n",
      "100%|██████████| 4/4 [00:15<00:00,  3.93s/it]\n",
      "100%|██████████| 4/4 [00:15<00:00,  3.93s/it]\n",
      "100%|██████████| 4/4 [00:15<00:00,  3.94s/it]\n",
      "100%|██████████| 4/4 [00:15<00:00,  3.94s/it]\n",
      "100%|██████████| 4/4 [00:15<00:00,  3.93s/it]\n",
      "100%|██████████| 4/4 [00:15<00:00,  3.93s/it]\n",
      "100%|██████████| 4/4 [00:15<00:00,  3.93s/it]\n",
      "100%|██████████| 4/4 [00:15<00:00,  3.93s/it]\n",
      "100%|██████████| 4/4 [00:15<00:00,  3.93s/it]\n",
      "100%|██████████| 4/4 [00:15<00:00,  3.94s/it]\n",
      "100%|██████████| 4/4 [00:15<00:00,  3.93s/it]\n",
      "100%|██████████| 4/4 [00:15<00:00,  3.94s/it]\n",
      "100%|██████████| 4/4 [00:15<00:00,  3.94s/it]\n",
      "100%|██████████| 4/4 [00:15<00:00,  3.93s/it]\n",
      "100%|██████████| 4/4 [00:15<00:00,  3.94s/it]\n",
      "100%|██████████| 4/4 [00:15<00:00,  3.94s/it]\n",
      "100%|██████████| 4/4 [00:15<00:00,  3.93s/it]\n"
     ]
    },
    {
     "name": "stdout",
     "output_type": "stream",
     "text": [
      "iter 1380: loss 6.1745, time 15760.09ms\n"
     ]
    },
    {
     "name": "stderr",
     "output_type": "stream",
     "text": [
      "100%|██████████| 4/4 [00:15<00:00,  3.93s/it]\n",
      "100%|██████████| 4/4 [00:15<00:00,  3.94s/it]\n",
      "100%|██████████| 4/4 [00:15<00:00,  3.93s/it]\n",
      "100%|██████████| 4/4 [00:15<00:00,  3.94s/it]\n",
      "100%|██████████| 4/4 [00:15<00:00,  3.93s/it]\n",
      "100%|██████████| 4/4 [00:15<00:00,  3.94s/it]\n",
      "100%|██████████| 4/4 [00:15<00:00,  3.94s/it]\n",
      "100%|██████████| 4/4 [00:15<00:00,  3.93s/it]\n",
      "100%|██████████| 4/4 [00:15<00:00,  3.94s/it]\n",
      "100%|██████████| 4/4 [00:15<00:00,  3.93s/it]\n",
      "100%|██████████| 4/4 [00:15<00:00,  3.94s/it]\n",
      "100%|██████████| 4/4 [00:15<00:00,  3.93s/it]\n",
      "100%|██████████| 4/4 [00:15<00:00,  3.94s/it]\n",
      "100%|██████████| 4/4 [00:15<00:00,  3.94s/it]\n",
      "100%|██████████| 4/4 [00:15<00:00,  3.93s/it]\n",
      "100%|██████████| 4/4 [00:15<00:00,  3.93s/it]\n",
      "100%|██████████| 4/4 [00:15<00:00,  3.93s/it]\n",
      "100%|██████████| 4/4 [00:15<00:00,  3.93s/it]\n",
      "100%|██████████| 4/4 [00:15<00:00,  3.93s/it]\n"
     ]
    },
    {
     "name": "stdout",
     "output_type": "stream",
     "text": [
      "step 1400: train loss 6.5118, val loss 6.5025\n",
      "train ppl 673.00, val ppl 666.81\n",
      "📈 Train/Val Gap: -0.0092 (-0.14%)\n",
      "✅ 新的最佳驗證損失: 6.5025\n"
     ]
    },
    {
     "name": "stderr",
     "output_type": "stream",
     "text": [
      "100%|██████████| 4/4 [00:15<00:00,  3.93s/it]\n"
     ]
    },
    {
     "name": "stdout",
     "output_type": "stream",
     "text": [
      "iter 1400: loss 6.3333, time 111369.09ms\n"
     ]
    },
    {
     "name": "stderr",
     "output_type": "stream",
     "text": [
      "100%|██████████| 4/4 [00:15<00:00,  3.93s/it]\n",
      "100%|██████████| 4/4 [00:15<00:00,  3.93s/it]\n",
      "100%|██████████| 4/4 [00:15<00:00,  3.98s/it]\n",
      "100%|██████████| 4/4 [00:16<00:00,  4.03s/it]\n",
      "100%|██████████| 4/4 [00:16<00:00,  4.03s/it]\n",
      "100%|██████████| 4/4 [00:16<00:00,  4.03s/it]\n",
      "100%|██████████| 4/4 [00:16<00:00,  4.04s/it]\n",
      "100%|██████████| 4/4 [00:16<00:00,  4.03s/it]\n",
      "100%|██████████| 4/4 [00:16<00:00,  4.03s/it]\n",
      "100%|██████████| 4/4 [00:16<00:00,  4.04s/it]\n",
      "100%|██████████| 4/4 [00:16<00:00,  4.03s/it]\n",
      "100%|██████████| 4/4 [00:16<00:00,  4.03s/it]\n",
      "100%|██████████| 4/4 [00:16<00:00,  4.04s/it]\n",
      "100%|██████████| 4/4 [00:16<00:00,  4.05s/it]\n",
      "100%|██████████| 4/4 [00:16<00:00,  4.03s/it]\n",
      "100%|██████████| 4/4 [00:16<00:00,  4.03s/it]\n",
      "100%|██████████| 4/4 [00:16<00:00,  4.04s/it]\n",
      "100%|██████████| 4/4 [00:16<00:00,  4.03s/it]\n",
      "100%|██████████| 4/4 [00:16<00:00,  4.03s/it]\n",
      "100%|██████████| 4/4 [00:16<00:00,  4.03s/it]\n"
     ]
    },
    {
     "name": "stdout",
     "output_type": "stream",
     "text": [
      "iter 1420: loss 6.6158, time 16146.95ms\n"
     ]
    },
    {
     "name": "stderr",
     "output_type": "stream",
     "text": [
      "100%|██████████| 4/4 [00:16<00:00,  4.03s/it]\n",
      "100%|██████████| 4/4 [00:16<00:00,  4.03s/it]\n",
      "100%|██████████| 4/4 [00:16<00:00,  4.03s/it]\n",
      "100%|██████████| 4/4 [00:16<00:00,  4.03s/it]\n",
      "100%|██████████| 4/4 [00:16<00:00,  4.03s/it]\n",
      "100%|██████████| 4/4 [00:16<00:00,  4.05s/it]\n",
      "100%|██████████| 4/4 [00:16<00:00,  4.04s/it]\n",
      "100%|██████████| 4/4 [00:16<00:00,  4.04s/it]\n",
      "100%|██████████| 4/4 [00:16<00:00,  4.03s/it]\n",
      "100%|██████████| 4/4 [00:16<00:00,  4.03s/it]\n",
      "100%|██████████| 4/4 [00:16<00:00,  4.03s/it]\n",
      "100%|██████████| 4/4 [00:16<00:00,  4.03s/it]\n",
      "100%|██████████| 4/4 [00:16<00:00,  4.03s/it]\n",
      "100%|██████████| 4/4 [00:16<00:00,  4.04s/it]\n",
      "100%|██████████| 4/4 [00:16<00:00,  4.03s/it]\n",
      "100%|██████████| 4/4 [00:16<00:00,  4.03s/it]\n",
      "100%|██████████| 4/4 [00:16<00:00,  4.03s/it]\n",
      "100%|██████████| 4/4 [00:16<00:00,  4.03s/it]\n",
      "100%|██████████| 4/4 [00:16<00:00,  4.03s/it]\n",
      "100%|██████████| 4/4 [00:16<00:00,  4.03s/it]\n"
     ]
    },
    {
     "name": "stdout",
     "output_type": "stream",
     "text": [
      "iter 1440: loss 6.5986, time 16136.27ms\n"
     ]
    },
    {
     "name": "stderr",
     "output_type": "stream",
     "text": [
      "100%|██████████| 4/4 [00:16<00:00,  4.03s/it]\n",
      "100%|██████████| 4/4 [00:16<00:00,  4.05s/it]\n",
      "100%|██████████| 4/4 [00:16<00:00,  4.03s/it]\n",
      "100%|██████████| 4/4 [00:16<00:00,  4.03s/it]\n",
      "100%|██████████| 4/4 [00:16<00:00,  4.03s/it]\n",
      "100%|██████████| 4/4 [00:16<00:00,  4.03s/it]\n",
      "100%|██████████| 4/4 [00:16<00:00,  4.04s/it]\n",
      "100%|██████████| 4/4 [00:16<00:00,  4.03s/it]\n",
      "100%|██████████| 4/4 [00:16<00:00,  4.03s/it]\n",
      "100%|██████████| 4/4 [00:16<00:00,  4.03s/it]\n",
      "100%|██████████| 4/4 [00:16<00:00,  4.04s/it]\n",
      "100%|██████████| 4/4 [00:16<00:00,  4.04s/it]\n",
      "100%|██████████| 4/4 [00:16<00:00,  4.03s/it]\n",
      "100%|██████████| 4/4 [00:16<00:00,  4.04s/it]\n",
      "100%|██████████| 4/4 [00:16<00:00,  4.03s/it]\n",
      "100%|██████████| 4/4 [00:16<00:00,  4.03s/it]\n",
      "100%|██████████| 4/4 [00:16<00:00,  4.03s/it]\n",
      "100%|██████████| 4/4 [00:16<00:00,  4.04s/it]\n",
      "100%|██████████| 4/4 [00:16<00:00,  4.03s/it]\n",
      "100%|██████████| 4/4 [00:16<00:00,  4.03s/it]\n"
     ]
    },
    {
     "name": "stdout",
     "output_type": "stream",
     "text": [
      "iter 1460: loss 6.3862, time 16161.88ms\n"
     ]
    },
    {
     "name": "stderr",
     "output_type": "stream",
     "text": [
      "100%|██████████| 4/4 [00:16<00:00,  4.03s/it]\n",
      "100%|██████████| 4/4 [00:16<00:00,  4.03s/it]\n",
      "100%|██████████| 4/4 [00:16<00:00,  4.03s/it]\n",
      "100%|██████████| 4/4 [00:16<00:00,  4.03s/it]\n",
      "100%|██████████| 4/4 [00:16<00:00,  4.03s/it]\n",
      "100%|██████████| 4/4 [00:16<00:00,  4.03s/it]\n",
      "100%|██████████| 4/4 [00:16<00:00,  4.03s/it]\n",
      "100%|██████████| 4/4 [00:16<00:00,  4.04s/it]\n",
      "100%|██████████| 4/4 [00:16<00:00,  4.03s/it]\n",
      "100%|██████████| 4/4 [00:16<00:00,  4.03s/it]\n",
      "100%|██████████| 4/4 [00:16<00:00,  4.04s/it]\n",
      "100%|██████████| 4/4 [00:16<00:00,  4.03s/it]\n",
      "100%|██████████| 4/4 [00:16<00:00,  4.04s/it]\n",
      "100%|██████████| 4/4 [00:16<00:00,  4.03s/it]\n",
      "100%|██████████| 4/4 [00:16<00:00,  4.04s/it]\n",
      "100%|██████████| 4/4 [00:16<00:00,  4.03s/it]\n",
      "100%|██████████| 4/4 [00:16<00:00,  4.04s/it]\n",
      "100%|██████████| 4/4 [00:16<00:00,  4.03s/it]\n",
      "100%|██████████| 4/4 [00:16<00:00,  4.04s/it]\n",
      "100%|██████████| 4/4 [00:16<00:00,  4.04s/it]\n"
     ]
    },
    {
     "name": "stdout",
     "output_type": "stream",
     "text": [
      "iter 1480: loss 6.3904, time 16179.61ms\n"
     ]
    },
    {
     "name": "stderr",
     "output_type": "stream",
     "text": [
      "100%|██████████| 4/4 [00:16<00:00,  4.03s/it]\n",
      "100%|██████████| 4/4 [00:16<00:00,  4.04s/it]\n",
      "100%|██████████| 4/4 [00:16<00:00,  4.03s/it]\n",
      "100%|██████████| 4/4 [00:16<00:00,  4.03s/it]\n",
      "100%|██████████| 4/4 [00:16<00:00,  4.03s/it]\n",
      "100%|██████████| 4/4 [00:16<00:00,  4.04s/it]\n",
      "100%|██████████| 4/4 [00:16<00:00,  4.04s/it]\n",
      "100%|██████████| 4/4 [00:16<00:00,  4.03s/it]\n",
      "100%|██████████| 4/4 [00:16<00:00,  4.03s/it]\n",
      "100%|██████████| 4/4 [00:16<00:00,  4.03s/it]\n",
      "100%|██████████| 4/4 [00:16<00:00,  4.04s/it]\n",
      "100%|██████████| 4/4 [00:16<00:00,  4.04s/it]\n",
      "100%|██████████| 4/4 [00:16<00:00,  4.03s/it]\n",
      "100%|██████████| 4/4 [00:16<00:00,  4.03s/it]\n",
      "100%|██████████| 4/4 [00:16<00:00,  4.04s/it]\n",
      "100%|██████████| 4/4 [00:16<00:00,  4.04s/it]\n",
      "100%|██████████| 4/4 [00:16<00:00,  4.04s/it]\n",
      "100%|██████████| 4/4 [00:16<00:00,  4.04s/it]\n",
      "100%|██████████| 4/4 [00:16<00:00,  4.04s/it]\n",
      "100%|██████████| 4/4 [00:16<00:00,  4.03s/it]\n"
     ]
    },
    {
     "name": "stdout",
     "output_type": "stream",
     "text": [
      "iter 1500: loss 6.6508, time 16156.78ms\n"
     ]
    },
    {
     "name": "stderr",
     "output_type": "stream",
     "text": [
      "100%|██████████| 4/4 [00:16<00:00,  4.03s/it]\n",
      "100%|██████████| 4/4 [00:16<00:00,  4.04s/it]\n",
      "100%|██████████| 4/4 [00:16<00:00,  4.04s/it]\n",
      "100%|██████████| 4/4 [00:16<00:00,  4.04s/it]\n",
      "100%|██████████| 4/4 [00:16<00:00,  4.03s/it]\n",
      "100%|██████████| 4/4 [00:16<00:00,  4.04s/it]\n",
      "100%|██████████| 4/4 [00:16<00:00,  4.03s/it]\n",
      "100%|██████████| 4/4 [00:16<00:00,  4.03s/it]\n",
      "100%|██████████| 4/4 [00:16<00:00,  4.03s/it]\n",
      "100%|██████████| 4/4 [00:16<00:00,  4.04s/it]\n",
      "100%|██████████| 4/4 [00:16<00:00,  4.04s/it]\n",
      "100%|██████████| 4/4 [00:16<00:00,  4.03s/it]\n",
      "100%|██████████| 4/4 [00:16<00:00,  4.03s/it]\n",
      "100%|██████████| 4/4 [00:16<00:00,  4.04s/it]\n",
      "100%|██████████| 4/4 [00:16<00:00,  4.03s/it]\n",
      "100%|██████████| 4/4 [00:16<00:00,  4.04s/it]\n",
      "100%|██████████| 4/4 [00:16<00:00,  4.03s/it]\n",
      "100%|██████████| 4/4 [00:16<00:00,  4.04s/it]\n",
      "100%|██████████| 4/4 [00:16<00:00,  4.03s/it]\n",
      "100%|██████████| 4/4 [00:16<00:00,  4.03s/it]\n"
     ]
    },
    {
     "name": "stdout",
     "output_type": "stream",
     "text": [
      "iter 1520: loss 6.4057, time 16161.46ms\n"
     ]
    },
    {
     "name": "stderr",
     "output_type": "stream",
     "text": [
      "100%|██████████| 4/4 [00:16<00:00,  4.03s/it]\n",
      "100%|██████████| 4/4 [00:16<00:00,  4.03s/it]\n",
      "100%|██████████| 4/4 [00:16<00:00,  4.03s/it]\n",
      "100%|██████████| 4/4 [00:16<00:00,  4.03s/it]\n",
      "100%|██████████| 4/4 [00:16<00:00,  4.04s/it]\n",
      "100%|██████████| 4/4 [00:16<00:00,  4.04s/it]\n",
      "100%|██████████| 4/4 [00:16<00:00,  4.03s/it]\n",
      "100%|██████████| 4/4 [00:16<00:00,  4.03s/it]\n",
      "100%|██████████| 4/4 [00:16<00:00,  4.04s/it]\n",
      "100%|██████████| 4/4 [00:16<00:00,  4.03s/it]\n",
      "100%|██████████| 4/4 [00:16<00:00,  4.01s/it]\n",
      "100%|██████████| 4/4 [00:15<00:00,  3.97s/it]\n",
      "100%|██████████| 4/4 [00:15<00:00,  3.97s/it]\n",
      "100%|██████████| 4/4 [00:15<00:00,  3.97s/it]\n",
      "100%|██████████| 4/4 [00:15<00:00,  3.97s/it]\n",
      "100%|██████████| 4/4 [00:15<00:00,  3.97s/it]\n",
      "100%|██████████| 4/4 [00:15<00:00,  3.97s/it]\n",
      "100%|██████████| 4/4 [00:15<00:00,  3.97s/it]\n",
      "100%|██████████| 4/4 [00:15<00:00,  3.97s/it]\n",
      "100%|██████████| 4/4 [00:15<00:00,  3.97s/it]\n"
     ]
    },
    {
     "name": "stdout",
     "output_type": "stream",
     "text": [
      "iter 1540: loss 6.4570, time 15895.48ms\n"
     ]
    },
    {
     "name": "stderr",
     "output_type": "stream",
     "text": [
      "100%|██████████| 4/4 [00:15<00:00,  3.96s/it]\n",
      "100%|██████████| 4/4 [00:15<00:00,  3.96s/it]\n",
      "100%|██████████| 4/4 [00:15<00:00,  3.97s/it]\n",
      "100%|██████████| 4/4 [00:15<00:00,  3.97s/it]\n",
      "100%|██████████| 4/4 [00:15<00:00,  3.97s/it]\n",
      "100%|██████████| 4/4 [00:15<00:00,  3.96s/it]\n",
      "100%|██████████| 4/4 [00:15<00:00,  3.97s/it]\n",
      "100%|██████████| 4/4 [00:15<00:00,  3.97s/it]\n",
      "100%|██████████| 4/4 [00:15<00:00,  3.97s/it]\n",
      "100%|██████████| 4/4 [00:15<00:00,  3.97s/it]\n",
      "100%|██████████| 4/4 [00:15<00:00,  3.97s/it]\n",
      "100%|██████████| 4/4 [00:15<00:00,  3.97s/it]\n",
      "100%|██████████| 4/4 [00:15<00:00,  3.97s/it]\n",
      "100%|██████████| 4/4 [00:15<00:00,  3.97s/it]\n",
      "100%|██████████| 4/4 [00:15<00:00,  3.97s/it]\n",
      "100%|██████████| 4/4 [00:15<00:00,  3.97s/it]\n",
      "100%|██████████| 4/4 [00:15<00:00,  3.97s/it]\n",
      "100%|██████████| 4/4 [00:15<00:00,  3.97s/it]\n",
      "100%|██████████| 4/4 [00:15<00:00,  3.97s/it]\n",
      "100%|██████████| 4/4 [00:15<00:00,  3.97s/it]\n"
     ]
    },
    {
     "name": "stdout",
     "output_type": "stream",
     "text": [
      "iter 1560: loss 6.6470, time 15890.49ms\n"
     ]
    },
    {
     "name": "stderr",
     "output_type": "stream",
     "text": [
      "100%|██████████| 4/4 [00:15<00:00,  3.96s/it]\n",
      "100%|██████████| 4/4 [00:15<00:00,  3.97s/it]\n",
      "100%|██████████| 4/4 [00:15<00:00,  3.97s/it]\n",
      "100%|██████████| 4/4 [00:15<00:00,  3.97s/it]\n",
      "100%|██████████| 4/4 [00:15<00:00,  3.97s/it]\n",
      "100%|██████████| 4/4 [00:15<00:00,  3.97s/it]\n",
      "100%|██████████| 4/4 [00:15<00:00,  3.97s/it]\n",
      "100%|██████████| 4/4 [00:15<00:00,  3.97s/it]\n",
      "100%|██████████| 4/4 [00:15<00:00,  3.97s/it]\n",
      "100%|██████████| 4/4 [00:15<00:00,  3.97s/it]\n",
      "100%|██████████| 4/4 [00:15<00:00,  3.97s/it]\n",
      "100%|██████████| 4/4 [00:15<00:00,  3.97s/it]\n",
      "100%|██████████| 4/4 [00:15<00:00,  3.97s/it]\n",
      "100%|██████████| 4/4 [00:15<00:00,  3.97s/it]\n",
      "100%|██████████| 4/4 [00:15<00:00,  3.97s/it]\n",
      "100%|██████████| 4/4 [00:15<00:00,  3.97s/it]\n",
      "100%|██████████| 4/4 [00:15<00:00,  3.97s/it]\n",
      "100%|██████████| 4/4 [00:15<00:00,  3.97s/it]\n",
      "100%|██████████| 4/4 [00:15<00:00,  3.97s/it]\n",
      "100%|██████████| 4/4 [00:15<00:00,  3.97s/it]\n"
     ]
    },
    {
     "name": "stdout",
     "output_type": "stream",
     "text": [
      "iter 1580: loss 6.2627, time 15898.04ms\n"
     ]
    },
    {
     "name": "stderr",
     "output_type": "stream",
     "text": [
      "100%|██████████| 4/4 [00:15<00:00,  3.97s/it]\n",
      "100%|██████████| 4/4 [00:15<00:00,  3.97s/it]\n",
      "100%|██████████| 4/4 [00:15<00:00,  3.97s/it]\n",
      "100%|██████████| 4/4 [00:15<00:00,  3.97s/it]\n",
      "100%|██████████| 4/4 [00:15<00:00,  3.97s/it]\n",
      "100%|██████████| 4/4 [00:15<00:00,  3.97s/it]\n",
      "100%|██████████| 4/4 [00:15<00:00,  3.96s/it]\n",
      "100%|██████████| 4/4 [00:15<00:00,  3.97s/it]\n",
      "100%|██████████| 4/4 [00:15<00:00,  3.98s/it]\n",
      "100%|██████████| 4/4 [00:15<00:00,  3.97s/it]\n",
      "100%|██████████| 4/4 [00:15<00:00,  3.97s/it]\n",
      "100%|██████████| 4/4 [00:15<00:00,  3.97s/it]\n",
      "100%|██████████| 4/4 [00:15<00:00,  3.97s/it]\n",
      "100%|██████████| 4/4 [00:15<00:00,  3.97s/it]\n",
      "100%|██████████| 4/4 [00:15<00:00,  3.97s/it]\n",
      "100%|██████████| 4/4 [00:15<00:00,  3.98s/it]\n",
      "100%|██████████| 4/4 [00:15<00:00,  3.97s/it]\n",
      "100%|██████████| 4/4 [00:15<00:00,  3.97s/it]\n",
      "100%|██████████| 4/4 [00:15<00:00,  3.97s/it]\n"
     ]
    },
    {
     "name": "stdout",
     "output_type": "stream",
     "text": [
      "step 1600: train loss 6.3806, val loss 6.4371\n",
      "train ppl 590.28, val ppl 624.57\n",
      "📈 Train/Val Gap: 0.0565 (0.88%)\n",
      "✅ 新的最佳驗證損失: 6.4371\n"
     ]
    },
    {
     "name": "stderr",
     "output_type": "stream",
     "text": [
      "100%|██████████| 4/4 [00:15<00:00,  3.97s/it]\n"
     ]
    },
    {
     "name": "stdout",
     "output_type": "stream",
     "text": [
      "iter 1600: loss 6.0148, time 111488.31ms\n"
     ]
    },
    {
     "name": "stderr",
     "output_type": "stream",
     "text": [
      "100%|██████████| 4/4 [00:15<00:00,  3.96s/it]\n",
      "100%|██████████| 4/4 [00:15<00:00,  3.97s/it]\n",
      "100%|██████████| 4/4 [00:15<00:00,  3.97s/it]\n",
      "100%|██████████| 4/4 [00:15<00:00,  3.97s/it]\n",
      "100%|██████████| 4/4 [00:15<00:00,  3.97s/it]\n",
      "100%|██████████| 4/4 [00:15<00:00,  3.97s/it]\n",
      "100%|██████████| 4/4 [00:15<00:00,  3.97s/it]\n",
      "100%|██████████| 4/4 [00:15<00:00,  3.97s/it]\n",
      "100%|██████████| 4/4 [00:15<00:00,  3.97s/it]\n",
      "100%|██████████| 4/4 [00:15<00:00,  3.97s/it]\n",
      "100%|██████████| 4/4 [00:15<00:00,  3.97s/it]\n",
      "100%|██████████| 4/4 [00:15<00:00,  3.97s/it]\n",
      "100%|██████████| 4/4 [00:15<00:00,  3.97s/it]\n",
      "100%|██████████| 4/4 [00:15<00:00,  3.97s/it]\n",
      "100%|██████████| 4/4 [00:15<00:00,  3.99s/it]\n",
      "100%|██████████| 4/4 [00:15<00:00,  3.97s/it]\n",
      "100%|██████████| 4/4 [00:15<00:00,  3.97s/it]\n",
      "100%|██████████| 4/4 [00:15<00:00,  3.97s/it]\n",
      "100%|██████████| 4/4 [00:15<00:00,  3.97s/it]\n",
      "100%|██████████| 4/4 [00:15<00:00,  3.97s/it]\n"
     ]
    },
    {
     "name": "stdout",
     "output_type": "stream",
     "text": [
      "iter 1620: loss 6.7012, time 15917.96ms\n"
     ]
    },
    {
     "name": "stderr",
     "output_type": "stream",
     "text": [
      "100%|██████████| 4/4 [00:15<00:00,  3.97s/it]\n",
      "100%|██████████| 4/4 [00:15<00:00,  3.97s/it]\n",
      "100%|██████████| 4/4 [00:15<00:00,  3.97s/it]\n",
      "100%|██████████| 4/4 [00:15<00:00,  3.97s/it]\n",
      "100%|██████████| 4/4 [00:15<00:00,  3.97s/it]\n",
      "100%|██████████| 4/4 [00:15<00:00,  3.97s/it]\n",
      "100%|██████████| 4/4 [00:15<00:00,  3.99s/it]\n",
      "100%|██████████| 4/4 [00:15<00:00,  3.97s/it]\n",
      "100%|██████████| 4/4 [00:15<00:00,  3.96s/it]\n",
      "100%|██████████| 4/4 [00:15<00:00,  3.97s/it]\n",
      "100%|██████████| 4/4 [00:15<00:00,  3.97s/it]\n",
      "100%|██████████| 4/4 [00:15<00:00,  3.97s/it]\n",
      "100%|██████████| 4/4 [00:15<00:00,  3.97s/it]\n",
      "100%|██████████| 4/4 [00:15<00:00,  3.97s/it]\n",
      "100%|██████████| 4/4 [00:15<00:00,  3.97s/it]\n",
      "100%|██████████| 4/4 [00:15<00:00,  3.97s/it]\n",
      "100%|██████████| 4/4 [00:15<00:00,  3.97s/it]\n",
      "100%|██████████| 4/4 [00:15<00:00,  3.97s/it]\n",
      "100%|██████████| 4/4 [00:15<00:00,  3.97s/it]\n",
      "100%|██████████| 4/4 [00:15<00:00,  3.97s/it]\n"
     ]
    },
    {
     "name": "stdout",
     "output_type": "stream",
     "text": [
      "iter 1640: loss 6.5715, time 15893.27ms\n"
     ]
    },
    {
     "name": "stderr",
     "output_type": "stream",
     "text": [
      "100%|██████████| 4/4 [00:15<00:00,  3.96s/it]\n",
      "100%|██████████| 4/4 [00:15<00:00,  3.97s/it]\n",
      "100%|██████████| 4/4 [00:15<00:00,  3.99s/it]\n",
      "100%|██████████| 4/4 [00:15<00:00,  3.97s/it]\n",
      "100%|██████████| 4/4 [00:15<00:00,  3.97s/it]\n",
      "100%|██████████| 4/4 [00:15<00:00,  3.97s/it]\n",
      "100%|██████████| 4/4 [00:15<00:00,  3.97s/it]\n",
      "100%|██████████| 4/4 [00:15<00:00,  3.97s/it]\n",
      "100%|██████████| 4/4 [00:15<00:00,  3.96s/it]\n",
      "100%|██████████| 4/4 [00:15<00:00,  3.97s/it]\n",
      "100%|██████████| 4/4 [00:15<00:00,  3.97s/it]\n",
      "100%|██████████| 4/4 [00:15<00:00,  3.97s/it]\n",
      "100%|██████████| 4/4 [00:15<00:00,  3.97s/it]\n",
      "100%|██████████| 4/4 [00:15<00:00,  3.98s/it]\n",
      "100%|██████████| 4/4 [00:15<00:00,  3.98s/it]\n",
      "100%|██████████| 4/4 [00:15<00:00,  3.97s/it]\n",
      "100%|██████████| 4/4 [00:15<00:00,  3.97s/it]\n",
      "100%|██████████| 4/4 [00:15<00:00,  3.97s/it]\n",
      "100%|██████████| 4/4 [00:15<00:00,  3.97s/it]\n",
      "100%|██████████| 4/4 [00:15<00:00,  3.97s/it]\n"
     ]
    },
    {
     "name": "stdout",
     "output_type": "stream",
     "text": [
      "iter 1660: loss 6.2890, time 15899.15ms\n"
     ]
    },
    {
     "name": "stderr",
     "output_type": "stream",
     "text": [
      "100%|██████████| 4/4 [00:15<00:00,  3.96s/it]\n",
      "100%|██████████| 4/4 [00:15<00:00,  3.97s/it]\n",
      "100%|██████████| 4/4 [00:15<00:00,  3.97s/it]\n",
      "100%|██████████| 4/4 [00:15<00:00,  3.97s/it]\n",
      "100%|██████████| 4/4 [00:15<00:00,  3.97s/it]\n",
      "100%|██████████| 4/4 [00:15<00:00,  3.97s/it]\n",
      "100%|██████████| 4/4 [00:15<00:00,  3.97s/it]\n",
      "100%|██████████| 4/4 [00:15<00:00,  3.97s/it]\n",
      "100%|██████████| 4/4 [00:15<00:00,  3.97s/it]\n",
      "100%|██████████| 4/4 [00:15<00:00,  3.97s/it]\n",
      "100%|██████████| 4/4 [00:15<00:00,  3.97s/it]\n",
      "100%|██████████| 4/4 [00:15<00:00,  3.97s/it]\n",
      "100%|██████████| 4/4 [00:15<00:00,  3.97s/it]\n",
      "100%|██████████| 4/4 [00:15<00:00,  3.97s/it]\n",
      "100%|██████████| 4/4 [00:15<00:00,  3.97s/it]\n",
      "100%|██████████| 4/4 [00:15<00:00,  3.97s/it]\n",
      "100%|██████████| 4/4 [00:15<00:00,  3.97s/it]\n",
      "100%|██████████| 4/4 [00:15<00:00,  3.97s/it]\n",
      "100%|██████████| 4/4 [00:15<00:00,  3.97s/it]\n",
      "100%|██████████| 4/4 [00:15<00:00,  3.97s/it]\n"
     ]
    },
    {
     "name": "stdout",
     "output_type": "stream",
     "text": [
      "iter 1680: loss 6.3485, time 15907.32ms\n"
     ]
    },
    {
     "name": "stderr",
     "output_type": "stream",
     "text": [
      "100%|██████████| 4/4 [00:15<00:00,  3.96s/it]\n",
      "100%|██████████| 4/4 [00:15<00:00,  3.97s/it]\n",
      "100%|██████████| 4/4 [00:15<00:00,  3.97s/it]\n",
      "100%|██████████| 4/4 [00:15<00:00,  3.97s/it]\n",
      "100%|██████████| 4/4 [00:15<00:00,  3.97s/it]\n",
      "100%|██████████| 4/4 [00:15<00:00,  3.97s/it]\n",
      "100%|██████████| 4/4 [00:15<00:00,  3.97s/it]\n",
      "100%|██████████| 4/4 [00:15<00:00,  3.97s/it]\n",
      "100%|██████████| 4/4 [00:15<00:00,  3.97s/it]\n",
      "100%|██████████| 4/4 [00:15<00:00,  3.97s/it]\n",
      "100%|██████████| 4/4 [00:15<00:00,  3.97s/it]\n",
      "100%|██████████| 4/4 [00:15<00:00,  3.97s/it]\n",
      "100%|██████████| 4/4 [00:15<00:00,  3.97s/it]\n",
      "100%|██████████| 4/4 [00:15<00:00,  3.97s/it]\n",
      "100%|██████████| 4/4 [00:15<00:00,  3.97s/it]\n",
      "100%|██████████| 4/4 [00:15<00:00,  3.97s/it]\n",
      "100%|██████████| 4/4 [00:15<00:00,  3.97s/it]\n",
      "100%|██████████| 4/4 [00:15<00:00,  3.97s/it]\n",
      "100%|██████████| 4/4 [00:15<00:00,  3.97s/it]\n",
      "100%|██████████| 4/4 [00:15<00:00,  3.97s/it]\n"
     ]
    },
    {
     "name": "stdout",
     "output_type": "stream",
     "text": [
      "iter 1700: loss 6.4042, time 15905.48ms\n"
     ]
    },
    {
     "name": "stderr",
     "output_type": "stream",
     "text": [
      "100%|██████████| 4/4 [00:15<00:00,  3.96s/it]\n",
      "100%|██████████| 4/4 [00:15<00:00,  3.97s/it]\n",
      "100%|██████████| 4/4 [00:15<00:00,  3.97s/it]\n",
      "100%|██████████| 4/4 [00:15<00:00,  3.97s/it]\n",
      "100%|██████████| 4/4 [00:15<00:00,  3.97s/it]\n",
      "100%|██████████| 4/4 [00:15<00:00,  3.97s/it]\n",
      "100%|██████████| 4/4 [00:15<00:00,  3.97s/it]\n",
      "100%|██████████| 4/4 [00:15<00:00,  3.97s/it]\n",
      "100%|██████████| 4/4 [00:15<00:00,  3.97s/it]\n",
      "100%|██████████| 4/4 [00:15<00:00,  3.97s/it]\n",
      "100%|██████████| 4/4 [00:15<00:00,  3.97s/it]\n",
      "100%|██████████| 4/4 [00:15<00:00,  3.97s/it]\n",
      "100%|██████████| 4/4 [00:15<00:00,  3.97s/it]\n",
      "100%|██████████| 4/4 [00:15<00:00,  3.97s/it]\n",
      "100%|██████████| 4/4 [00:15<00:00,  3.98s/it]\n",
      "100%|██████████| 4/4 [00:15<00:00,  3.97s/it]\n",
      "100%|██████████| 4/4 [00:15<00:00,  3.97s/it]\n",
      "100%|██████████| 4/4 [00:15<00:00,  3.97s/it]\n",
      "100%|██████████| 4/4 [00:15<00:00,  3.97s/it]\n",
      "100%|██████████| 4/4 [00:15<00:00,  3.97s/it]\n"
     ]
    },
    {
     "name": "stdout",
     "output_type": "stream",
     "text": [
      "iter 1720: loss 6.4019, time 15903.20ms\n"
     ]
    },
    {
     "name": "stderr",
     "output_type": "stream",
     "text": [
      "100%|██████████| 4/4 [00:15<00:00,  3.96s/it]\n",
      "100%|██████████| 4/4 [00:15<00:00,  3.97s/it]\n",
      "100%|██████████| 4/4 [00:15<00:00,  3.97s/it]\n",
      "100%|██████████| 4/4 [00:15<00:00,  3.97s/it]\n",
      "100%|██████████| 4/4 [00:15<00:00,  3.97s/it]\n",
      "100%|██████████| 4/4 [00:15<00:00,  3.97s/it]\n",
      "100%|██████████| 4/4 [00:15<00:00,  3.97s/it]\n",
      "100%|██████████| 4/4 [00:15<00:00,  3.97s/it]\n",
      "100%|██████████| 4/4 [00:15<00:00,  3.97s/it]\n",
      "100%|██████████| 4/4 [00:15<00:00,  3.97s/it]\n",
      "100%|██████████| 4/4 [00:15<00:00,  3.96s/it]\n",
      "100%|██████████| 4/4 [00:15<00:00,  3.97s/it]\n",
      "100%|██████████| 4/4 [00:15<00:00,  3.97s/it]\n",
      "100%|██████████| 4/4 [00:15<00:00,  3.97s/it]\n",
      "100%|██████████| 4/4 [00:15<00:00,  3.97s/it]\n",
      "100%|██████████| 4/4 [00:15<00:00,  3.97s/it]\n",
      "100%|██████████| 4/4 [00:15<00:00,  3.97s/it]\n",
      "100%|██████████| 4/4 [00:15<00:00,  3.98s/it]\n",
      "100%|██████████| 4/4 [00:15<00:00,  3.97s/it]\n",
      "100%|██████████| 4/4 [00:15<00:00,  3.96s/it]\n"
     ]
    },
    {
     "name": "stdout",
     "output_type": "stream",
     "text": [
      "iter 1740: loss 5.9140, time 15885.18ms\n"
     ]
    },
    {
     "name": "stderr",
     "output_type": "stream",
     "text": [
      "100%|██████████| 4/4 [00:15<00:00,  3.96s/it]\n",
      "100%|██████████| 4/4 [00:15<00:00,  3.97s/it]\n",
      "100%|██████████| 4/4 [00:15<00:00,  3.97s/it]\n",
      "100%|██████████| 4/4 [00:15<00:00,  3.97s/it]\n",
      "100%|██████████| 4/4 [00:15<00:00,  3.97s/it]\n",
      "100%|██████████| 4/4 [00:15<00:00,  3.97s/it]\n",
      "100%|██████████| 4/4 [00:15<00:00,  3.97s/it]\n",
      "100%|██████████| 4/4 [00:15<00:00,  3.97s/it]\n",
      "100%|██████████| 4/4 [00:15<00:00,  3.97s/it]\n",
      "100%|██████████| 4/4 [00:15<00:00,  3.97s/it]\n",
      "100%|██████████| 4/4 [00:15<00:00,  3.97s/it]\n",
      "100%|██████████| 4/4 [00:15<00:00,  3.97s/it]\n",
      "100%|██████████| 4/4 [00:15<00:00,  3.97s/it]\n",
      "100%|██████████| 4/4 [00:15<00:00,  3.97s/it]\n",
      "100%|██████████| 4/4 [00:15<00:00,  3.97s/it]\n",
      "100%|██████████| 4/4 [00:15<00:00,  3.97s/it]\n",
      "100%|██████████| 4/4 [00:15<00:00,  3.97s/it]\n",
      "100%|██████████| 4/4 [00:15<00:00,  3.97s/it]\n",
      "100%|██████████| 4/4 [00:15<00:00,  3.97s/it]\n",
      "100%|██████████| 4/4 [00:15<00:00,  3.97s/it]\n"
     ]
    },
    {
     "name": "stdout",
     "output_type": "stream",
     "text": [
      "iter 1760: loss 6.6776, time 15910.41ms\n"
     ]
    },
    {
     "name": "stderr",
     "output_type": "stream",
     "text": [
      "100%|██████████| 4/4 [00:15<00:00,  3.96s/it]\n",
      "100%|██████████| 4/4 [00:15<00:00,  3.97s/it]\n",
      "100%|██████████| 4/4 [00:15<00:00,  3.97s/it]\n",
      "100%|██████████| 4/4 [00:15<00:00,  3.97s/it]\n",
      "100%|██████████| 4/4 [00:15<00:00,  3.97s/it]\n",
      "100%|██████████| 4/4 [00:15<00:00,  3.97s/it]\n",
      "100%|██████████| 4/4 [00:15<00:00,  3.97s/it]\n",
      "100%|██████████| 4/4 [00:15<00:00,  3.97s/it]\n",
      "100%|██████████| 4/4 [00:15<00:00,  3.97s/it]\n",
      "100%|██████████| 4/4 [00:15<00:00,  3.97s/it]\n",
      "100%|██████████| 4/4 [00:15<00:00,  3.97s/it]\n",
      "100%|██████████| 4/4 [00:15<00:00,  3.96s/it]\n",
      "100%|██████████| 4/4 [00:15<00:00,  3.97s/it]\n",
      "100%|██████████| 4/4 [00:15<00:00,  3.97s/it]\n",
      "100%|██████████| 4/4 [00:15<00:00,  3.97s/it]\n",
      "100%|██████████| 4/4 [00:15<00:00,  3.97s/it]\n",
      "100%|██████████| 4/4 [00:15<00:00,  3.97s/it]\n",
      "100%|██████████| 4/4 [00:15<00:00,  3.97s/it]\n",
      "100%|██████████| 4/4 [00:15<00:00,  3.97s/it]\n",
      "100%|██████████| 4/4 [00:15<00:00,  3.97s/it]\n"
     ]
    },
    {
     "name": "stdout",
     "output_type": "stream",
     "text": [
      "iter 1780: loss 6.5664, time 15897.98ms\n"
     ]
    },
    {
     "name": "stderr",
     "output_type": "stream",
     "text": [
      "100%|██████████| 4/4 [00:15<00:00,  3.96s/it]\n",
      "100%|██████████| 4/4 [00:15<00:00,  3.97s/it]\n",
      "100%|██████████| 4/4 [00:15<00:00,  3.97s/it]\n",
      "100%|██████████| 4/4 [00:15<00:00,  3.97s/it]\n",
      "100%|██████████| 4/4 [00:15<00:00,  3.97s/it]\n",
      "100%|██████████| 4/4 [00:15<00:00,  3.97s/it]\n",
      "100%|██████████| 4/4 [00:15<00:00,  3.97s/it]\n",
      "100%|██████████| 4/4 [00:15<00:00,  3.97s/it]\n",
      "100%|██████████| 4/4 [00:15<00:00,  3.97s/it]\n",
      "100%|██████████| 4/4 [00:15<00:00,  3.97s/it]\n",
      "100%|██████████| 4/4 [00:15<00:00,  3.97s/it]\n",
      "100%|██████████| 4/4 [00:15<00:00,  3.97s/it]\n",
      "100%|██████████| 4/4 [00:15<00:00,  3.97s/it]\n",
      "100%|██████████| 4/4 [00:15<00:00,  3.97s/it]\n",
      "100%|██████████| 4/4 [00:15<00:00,  3.97s/it]\n",
      "100%|██████████| 4/4 [00:15<00:00,  3.97s/it]\n",
      "100%|██████████| 4/4 [00:15<00:00,  3.97s/it]\n",
      "100%|██████████| 4/4 [00:15<00:00,  3.98s/it]\n",
      "100%|██████████| 4/4 [00:15<00:00,  3.97s/it]\n"
     ]
    },
    {
     "name": "stdout",
     "output_type": "stream",
     "text": [
      "step 1800: train loss 6.3767, val loss 6.3563\n",
      "train ppl 588.01, val ppl 576.10\n",
      "📈 Train/Val Gap: -0.0205 (-0.32%)\n",
      "✅ 新的最佳驗證損失: 6.3563\n"
     ]
    },
    {
     "name": "stderr",
     "output_type": "stream",
     "text": [
      "100%|██████████| 4/4 [00:15<00:00,  3.97s/it]\n"
     ]
    },
    {
     "name": "stdout",
     "output_type": "stream",
     "text": [
      "iter 1800: loss 6.3617, time 111588.51ms\n"
     ]
    },
    {
     "name": "stderr",
     "output_type": "stream",
     "text": [
      "100%|██████████| 4/4 [00:15<00:00,  3.96s/it]\n",
      "100%|██████████| 4/4 [00:15<00:00,  3.97s/it]\n",
      "100%|██████████| 4/4 [00:15<00:00,  3.97s/it]\n",
      "100%|██████████| 4/4 [00:15<00:00,  3.97s/it]\n",
      "100%|██████████| 4/4 [00:15<00:00,  3.97s/it]\n",
      "100%|██████████| 4/4 [00:15<00:00,  3.97s/it]\n",
      "100%|██████████| 4/4 [00:15<00:00,  3.97s/it]\n",
      "100%|██████████| 4/4 [00:15<00:00,  3.96s/it]\n",
      "100%|██████████| 4/4 [00:15<00:00,  3.97s/it]\n",
      "100%|██████████| 4/4 [00:15<00:00,  3.97s/it]\n",
      "100%|██████████| 4/4 [00:15<00:00,  3.97s/it]\n",
      "100%|██████████| 4/4 [00:15<00:00,  3.97s/it]\n",
      "100%|██████████| 4/4 [00:15<00:00,  3.97s/it]\n",
      "100%|██████████| 4/4 [00:15<00:00,  3.97s/it]\n",
      "100%|██████████| 4/4 [00:15<00:00,  3.97s/it]\n",
      "100%|██████████| 4/4 [00:15<00:00,  3.99s/it]\n",
      "100%|██████████| 4/4 [00:15<00:00,  3.97s/it]\n",
      "100%|██████████| 4/4 [00:15<00:00,  3.97s/it]\n",
      "100%|██████████| 4/4 [00:15<00:00,  3.97s/it]\n",
      "100%|██████████| 4/4 [00:15<00:00,  3.93s/it]\n"
     ]
    },
    {
     "name": "stdout",
     "output_type": "stream",
     "text": [
      "iter 1820: loss 6.2642, time 15760.86ms\n"
     ]
    },
    {
     "name": "stderr",
     "output_type": "stream",
     "text": [
      "100%|██████████| 4/4 [00:15<00:00,  3.93s/it]\n",
      "100%|██████████| 4/4 [00:15<00:00,  3.94s/it]\n",
      "100%|██████████| 4/4 [00:15<00:00,  3.94s/it]\n",
      "100%|██████████| 4/4 [00:15<00:00,  3.94s/it]\n",
      "100%|██████████| 4/4 [00:15<00:00,  3.93s/it]\n",
      "100%|██████████| 4/4 [00:15<00:00,  3.94s/it]\n",
      "100%|██████████| 4/4 [00:15<00:00,  3.93s/it]\n",
      "100%|██████████| 4/4 [00:15<00:00,  3.96s/it]\n",
      "100%|██████████| 4/4 [00:15<00:00,  3.94s/it]\n",
      "100%|██████████| 4/4 [00:15<00:00,  3.94s/it]\n",
      "100%|██████████| 4/4 [00:15<00:00,  3.93s/it]\n",
      "100%|██████████| 4/4 [00:15<00:00,  3.93s/it]\n",
      "100%|██████████| 4/4 [00:15<00:00,  3.94s/it]\n",
      "100%|██████████| 4/4 [00:15<00:00,  3.93s/it]\n",
      "100%|██████████| 4/4 [00:15<00:00,  3.94s/it]\n",
      "100%|██████████| 4/4 [00:15<00:00,  3.93s/it]\n",
      "100%|██████████| 4/4 [00:15<00:00,  3.94s/it]\n",
      "100%|██████████| 4/4 [00:15<00:00,  3.94s/it]\n",
      "100%|██████████| 4/4 [00:15<00:00,  3.93s/it]\n",
      "100%|██████████| 4/4 [00:15<00:00,  3.93s/it]\n"
     ]
    },
    {
     "name": "stdout",
     "output_type": "stream",
     "text": [
      "iter 1840: loss 6.6279, time 15762.74ms\n"
     ]
    },
    {
     "name": "stderr",
     "output_type": "stream",
     "text": [
      "100%|██████████| 4/4 [00:15<00:00,  3.93s/it]\n",
      "100%|██████████| 4/4 [00:15<00:00,  3.94s/it]\n",
      "100%|██████████| 4/4 [00:15<00:00,  3.93s/it]\n",
      "100%|██████████| 4/4 [00:15<00:00,  3.96s/it]\n",
      "100%|██████████| 4/4 [00:15<00:00,  3.94s/it]\n",
      "100%|██████████| 4/4 [00:15<00:00,  3.93s/it]\n",
      "100%|██████████| 4/4 [00:15<00:00,  3.94s/it]\n",
      "100%|██████████| 4/4 [00:15<00:00,  3.94s/it]\n",
      "100%|██████████| 4/4 [00:15<00:00,  3.93s/it]\n",
      "100%|██████████| 4/4 [00:15<00:00,  3.93s/it]\n",
      "100%|██████████| 4/4 [00:15<00:00,  3.94s/it]\n",
      "100%|██████████| 4/4 [00:15<00:00,  3.93s/it]\n",
      "100%|██████████| 4/4 [00:15<00:00,  3.94s/it]\n",
      "100%|██████████| 4/4 [00:15<00:00,  3.94s/it]\n",
      "100%|██████████| 4/4 [00:15<00:00,  3.94s/it]\n",
      "100%|██████████| 4/4 [00:15<00:00,  3.94s/it]\n",
      "100%|██████████| 4/4 [00:15<00:00,  3.94s/it]\n",
      "100%|██████████| 4/4 [00:15<00:00,  3.94s/it]\n",
      "100%|██████████| 4/4 [00:15<00:00,  3.94s/it]\n",
      "100%|██████████| 4/4 [00:15<00:00,  3.94s/it]\n"
     ]
    },
    {
     "name": "stdout",
     "output_type": "stream",
     "text": [
      "iter 1860: loss 6.4486, time 15774.01ms\n"
     ]
    },
    {
     "name": "stderr",
     "output_type": "stream",
     "text": [
      "100%|██████████| 4/4 [00:15<00:00,  3.93s/it]\n",
      "100%|██████████| 4/4 [00:15<00:00,  3.94s/it]\n",
      "100%|██████████| 4/4 [00:15<00:00,  3.94s/it]\n",
      "100%|██████████| 4/4 [00:15<00:00,  3.94s/it]\n",
      "100%|██████████| 4/4 [00:15<00:00,  3.94s/it]\n",
      "100%|██████████| 4/4 [00:15<00:00,  3.94s/it]\n",
      "100%|██████████| 4/4 [00:15<00:00,  3.93s/it]\n",
      "100%|██████████| 4/4 [00:15<00:00,  3.94s/it]\n",
      "100%|██████████| 4/4 [00:15<00:00,  3.94s/it]\n",
      "100%|██████████| 4/4 [00:15<00:00,  3.93s/it]\n",
      "100%|██████████| 4/4 [00:15<00:00,  3.94s/it]\n",
      "100%|██████████| 4/4 [00:15<00:00,  3.94s/it]\n",
      "100%|██████████| 4/4 [00:15<00:00,  3.93s/it]\n",
      "100%|██████████| 4/4 [00:15<00:00,  3.93s/it]\n",
      "100%|██████████| 4/4 [00:15<00:00,  3.94s/it]\n",
      "100%|██████████| 4/4 [00:15<00:00,  3.93s/it]\n",
      "100%|██████████| 4/4 [00:15<00:00,  3.94s/it]\n",
      "100%|██████████| 4/4 [00:15<00:00,  3.94s/it]\n",
      "100%|██████████| 4/4 [00:15<00:00,  3.94s/it]\n",
      "100%|██████████| 4/4 [00:15<00:00,  3.94s/it]\n"
     ]
    },
    {
     "name": "stdout",
     "output_type": "stream",
     "text": [
      "iter 1880: loss 6.3205, time 15778.68ms\n"
     ]
    },
    {
     "name": "stderr",
     "output_type": "stream",
     "text": [
      "100%|██████████| 4/4 [00:15<00:00,  3.93s/it]\n",
      "100%|██████████| 4/4 [00:15<00:00,  3.93s/it]\n",
      "100%|██████████| 4/4 [00:15<00:00,  3.94s/it]\n",
      "100%|██████████| 4/4 [00:15<00:00,  3.94s/it]\n",
      "100%|██████████| 4/4 [00:15<00:00,  3.93s/it]\n",
      "100%|██████████| 4/4 [00:15<00:00,  3.94s/it]\n",
      "100%|██████████| 4/4 [00:15<00:00,  3.94s/it]\n",
      "100%|██████████| 4/4 [00:15<00:00,  3.94s/it]\n",
      "100%|██████████| 4/4 [00:15<00:00,  3.93s/it]\n",
      "100%|██████████| 4/4 [00:15<00:00,  3.94s/it]\n",
      "100%|██████████| 4/4 [00:15<00:00,  3.94s/it]\n",
      "100%|██████████| 4/4 [00:15<00:00,  3.93s/it]\n",
      "100%|██████████| 4/4 [00:15<00:00,  3.93s/it]\n",
      "100%|██████████| 4/4 [00:15<00:00,  3.94s/it]\n",
      "100%|██████████| 4/4 [00:15<00:00,  3.93s/it]\n",
      "100%|██████████| 4/4 [00:15<00:00,  3.94s/it]\n",
      "100%|██████████| 4/4 [00:15<00:00,  3.93s/it]\n",
      "100%|██████████| 4/4 [00:15<00:00,  3.94s/it]\n",
      "100%|██████████| 4/4 [00:15<00:00,  3.93s/it]\n",
      "100%|██████████| 4/4 [00:15<00:00,  3.94s/it]\n"
     ]
    },
    {
     "name": "stdout",
     "output_type": "stream",
     "text": [
      "iter 1900: loss 6.3159, time 15766.20ms\n"
     ]
    },
    {
     "name": "stderr",
     "output_type": "stream",
     "text": [
      "100%|██████████| 4/4 [00:15<00:00,  3.93s/it]\n",
      "100%|██████████| 4/4 [00:15<00:00,  3.93s/it]\n",
      "100%|██████████| 4/4 [00:15<00:00,  3.93s/it]\n",
      "100%|██████████| 4/4 [00:15<00:00,  3.93s/it]\n",
      "100%|██████████| 4/4 [00:15<00:00,  3.94s/it]\n",
      "100%|██████████| 4/4 [00:15<00:00,  3.94s/it]\n",
      "100%|██████████| 4/4 [00:15<00:00,  3.94s/it]\n",
      "100%|██████████| 4/4 [00:15<00:00,  3.93s/it]\n",
      "100%|██████████| 4/4 [00:15<00:00,  3.93s/it]\n",
      "100%|██████████| 4/4 [00:15<00:00,  3.94s/it]\n",
      "100%|██████████| 4/4 [00:15<00:00,  3.93s/it]\n",
      "100%|██████████| 4/4 [00:15<00:00,  3.93s/it]\n",
      "100%|██████████| 4/4 [00:15<00:00,  3.94s/it]\n",
      "100%|██████████| 4/4 [00:15<00:00,  3.94s/it]\n",
      "100%|██████████| 4/4 [00:15<00:00,  3.94s/it]\n",
      "100%|██████████| 4/4 [00:15<00:00,  3.93s/it]\n",
      "100%|██████████| 4/4 [00:15<00:00,  3.94s/it]\n",
      "100%|██████████| 4/4 [00:15<00:00,  3.93s/it]\n",
      "100%|██████████| 4/4 [00:15<00:00,  3.93s/it]\n",
      "100%|██████████| 4/4 [00:15<00:00,  3.93s/it]\n"
     ]
    },
    {
     "name": "stdout",
     "output_type": "stream",
     "text": [
      "iter 1920: loss 6.4698, time 15763.67ms\n"
     ]
    },
    {
     "name": "stderr",
     "output_type": "stream",
     "text": [
      "100%|██████████| 4/4 [00:15<00:00,  3.93s/it]\n",
      "100%|██████████| 4/4 [00:15<00:00,  3.93s/it]\n",
      "100%|██████████| 4/4 [00:15<00:00,  3.94s/it]\n",
      "100%|██████████| 4/4 [00:15<00:00,  3.93s/it]\n",
      "100%|██████████| 4/4 [00:15<00:00,  3.94s/it]\n",
      "100%|██████████| 4/4 [00:15<00:00,  3.93s/it]\n",
      "100%|██████████| 4/4 [00:15<00:00,  3.93s/it]\n",
      "100%|██████████| 4/4 [00:15<00:00,  3.93s/it]\n",
      "100%|██████████| 4/4 [00:15<00:00,  3.94s/it]\n",
      "100%|██████████| 4/4 [00:15<00:00,  3.93s/it]\n",
      "100%|██████████| 4/4 [00:15<00:00,  3.94s/it]\n",
      "100%|██████████| 4/4 [00:15<00:00,  3.94s/it]\n",
      "100%|██████████| 4/4 [00:15<00:00,  3.93s/it]\n",
      "100%|██████████| 4/4 [00:15<00:00,  3.93s/it]\n",
      "100%|██████████| 4/4 [00:15<00:00,  3.94s/it]\n",
      "100%|██████████| 4/4 [00:15<00:00,  3.94s/it]\n",
      "100%|██████████| 4/4 [00:15<00:00,  3.93s/it]\n",
      "100%|██████████| 4/4 [00:15<00:00,  3.93s/it]\n",
      "100%|██████████| 4/4 [00:15<00:00,  3.93s/it]\n",
      "100%|██████████| 4/4 [00:15<00:00,  3.95s/it]\n"
     ]
    },
    {
     "name": "stdout",
     "output_type": "stream",
     "text": [
      "iter 1940: loss 6.2408, time 15808.71ms\n"
     ]
    },
    {
     "name": "stderr",
     "output_type": "stream",
     "text": [
      "100%|██████████| 4/4 [00:15<00:00,  3.93s/it]\n",
      "100%|██████████| 4/4 [00:15<00:00,  3.94s/it]\n",
      "100%|██████████| 4/4 [00:15<00:00,  3.93s/it]\n",
      "100%|██████████| 4/4 [00:15<00:00,  3.94s/it]\n",
      "100%|██████████| 4/4 [00:15<00:00,  3.93s/it]\n",
      "100%|██████████| 4/4 [00:15<00:00,  3.94s/it]\n",
      "100%|██████████| 4/4 [00:15<00:00,  3.94s/it]\n",
      "100%|██████████| 4/4 [00:15<00:00,  3.94s/it]\n",
      "100%|██████████| 4/4 [00:15<00:00,  3.93s/it]\n",
      "100%|██████████| 4/4 [00:15<00:00,  3.93s/it]\n",
      "100%|██████████| 4/4 [00:15<00:00,  3.93s/it]\n",
      "100%|██████████| 4/4 [00:15<00:00,  3.94s/it]\n",
      "100%|██████████| 4/4 [00:15<00:00,  3.93s/it]\n",
      "100%|██████████| 4/4 [00:15<00:00,  3.93s/it]\n",
      "100%|██████████| 4/4 [00:15<00:00,  3.94s/it]\n",
      "100%|██████████| 4/4 [00:15<00:00,  3.93s/it]\n",
      "100%|██████████| 4/4 [00:15<00:00,  3.93s/it]\n",
      "100%|██████████| 4/4 [00:15<00:00,  3.93s/it]\n",
      "100%|██████████| 4/4 [00:15<00:00,  3.94s/it]\n",
      "100%|██████████| 4/4 [00:15<00:00,  3.93s/it]\n"
     ]
    },
    {
     "name": "stdout",
     "output_type": "stream",
     "text": [
      "iter 1960: loss 6.5753, time 15758.11ms\n"
     ]
    },
    {
     "name": "stderr",
     "output_type": "stream",
     "text": [
      "100%|██████████| 4/4 [00:15<00:00,  3.93s/it]\n",
      "100%|██████████| 4/4 [00:15<00:00,  3.93s/it]\n",
      "100%|██████████| 4/4 [00:15<00:00,  3.94s/it]\n",
      "100%|██████████| 4/4 [00:15<00:00,  3.98s/it]\n",
      "100%|██████████| 4/4 [00:15<00:00,  3.93s/it]\n",
      "100%|██████████| 4/4 [00:15<00:00,  3.94s/it]\n",
      "100%|██████████| 4/4 [00:15<00:00,  3.94s/it]\n",
      "100%|██████████| 4/4 [00:15<00:00,  3.94s/it]\n",
      "100%|██████████| 4/4 [00:15<00:00,  3.92s/it]\n",
      "100%|██████████| 4/4 [00:15<00:00,  3.92s/it]\n",
      "100%|██████████| 4/4 [00:15<00:00,  3.92s/it]\n",
      "100%|██████████| 4/4 [00:15<00:00,  3.92s/it]\n",
      "100%|██████████| 4/4 [00:15<00:00,  3.92s/it]\n",
      "100%|██████████| 4/4 [00:15<00:00,  3.93s/it]\n",
      "100%|██████████| 4/4 [00:15<00:00,  3.92s/it]\n",
      "100%|██████████| 4/4 [00:15<00:00,  3.92s/it]\n",
      "100%|██████████| 4/4 [00:15<00:00,  3.92s/it]\n",
      "100%|██████████| 4/4 [00:15<00:00,  3.93s/it]\n",
      "100%|██████████| 4/4 [00:15<00:00,  3.92s/it]\n",
      "100%|██████████| 4/4 [00:15<00:00,  3.92s/it]\n"
     ]
    },
    {
     "name": "stdout",
     "output_type": "stream",
     "text": [
      "iter 1980: loss 6.2177, time 15713.43ms\n"
     ]
    },
    {
     "name": "stderr",
     "output_type": "stream",
     "text": [
      "100%|██████████| 4/4 [00:15<00:00,  3.93s/it]\n",
      "100%|██████████| 4/4 [00:15<00:00,  3.94s/it]\n",
      "100%|██████████| 4/4 [00:15<00:00,  3.94s/it]\n",
      "100%|██████████| 4/4 [00:15<00:00,  3.93s/it]\n",
      "100%|██████████| 4/4 [00:15<00:00,  3.93s/it]\n",
      "100%|██████████| 4/4 [00:15<00:00,  3.93s/it]\n",
      "100%|██████████| 4/4 [00:15<00:00,  3.94s/it]\n",
      "100%|██████████| 4/4 [00:15<00:00,  3.93s/it]\n",
      "100%|██████████| 4/4 [00:15<00:00,  3.94s/it]\n",
      "100%|██████████| 4/4 [00:15<00:00,  3.94s/it]\n",
      "100%|██████████| 4/4 [00:15<00:00,  3.93s/it]\n",
      "100%|██████████| 4/4 [00:15<00:00,  3.93s/it]\n",
      "100%|██████████| 4/4 [00:15<00:00,  3.94s/it]\n",
      "100%|██████████| 4/4 [00:15<00:00,  3.93s/it]\n",
      "100%|██████████| 4/4 [00:15<00:00,  3.93s/it]\n",
      "100%|██████████| 4/4 [00:15<00:00,  3.93s/it]\n",
      "100%|██████████| 4/4 [00:15<00:00,  3.94s/it]\n",
      "100%|██████████| 4/4 [00:15<00:00,  3.93s/it]\n",
      "100%|██████████| 4/4 [00:15<00:00,  3.94s/it]\n"
     ]
    },
    {
     "name": "stdout",
     "output_type": "stream",
     "text": [
      "step 2000: train loss 6.2972, val loss 6.2942\n",
      "train ppl 543.07, val ppl 541.43\n",
      "📈 Train/Val Gap: -0.0030 (-0.05%)\n",
      "✅ 新的最佳驗證損失: 6.2942\n"
     ]
    },
    {
     "name": "stderr",
     "output_type": "stream",
     "text": [
      "100%|██████████| 4/4 [00:15<00:00,  3.93s/it]\n"
     ]
    },
    {
     "name": "stdout",
     "output_type": "stream",
     "text": [
      "iter 2000: loss 6.9975, time 111301.48ms\n"
     ]
    },
    {
     "name": "stderr",
     "output_type": "stream",
     "text": [
      "100%|██████████| 4/4 [00:15<00:00,  3.93s/it]\n",
      "100%|██████████| 4/4 [00:15<00:00,  3.93s/it]\n",
      "100%|██████████| 4/4 [00:15<00:00,  3.93s/it]\n",
      "100%|██████████| 4/4 [00:15<00:00,  3.94s/it]\n",
      "100%|██████████| 4/4 [00:15<00:00,  3.94s/it]\n",
      "100%|██████████| 4/4 [00:15<00:00,  3.94s/it]\n",
      "100%|██████████| 4/4 [00:15<00:00,  3.94s/it]\n",
      "100%|██████████| 4/4 [00:15<00:00,  3.94s/it]\n",
      "100%|██████████| 4/4 [00:15<00:00,  3.93s/it]\n",
      "100%|██████████| 4/4 [00:15<00:00,  3.93s/it]\n",
      "100%|██████████| 4/4 [00:15<00:00,  3.93s/it]\n",
      "100%|██████████| 4/4 [00:15<00:00,  3.93s/it]\n",
      "100%|██████████| 4/4 [00:15<00:00,  3.93s/it]\n",
      "100%|██████████| 4/4 [00:15<00:00,  3.96s/it]\n",
      "100%|██████████| 4/4 [00:15<00:00,  3.93s/it]\n",
      "100%|██████████| 4/4 [00:15<00:00,  3.93s/it]\n",
      "100%|██████████| 4/4 [00:15<00:00,  3.94s/it]\n",
      "100%|██████████| 4/4 [00:15<00:00,  3.94s/it]\n",
      "100%|██████████| 4/4 [00:15<00:00,  3.93s/it]\n",
      "100%|██████████| 4/4 [00:15<00:00,  3.93s/it]\n"
     ]
    },
    {
     "name": "stdout",
     "output_type": "stream",
     "text": [
      "iter 2020: loss 6.4140, time 15761.22ms\n"
     ]
    },
    {
     "name": "stderr",
     "output_type": "stream",
     "text": [
      "100%|██████████| 4/4 [00:15<00:00,  3.93s/it]\n",
      "100%|██████████| 4/4 [00:15<00:00,  3.93s/it]\n",
      "100%|██████████| 4/4 [00:15<00:00,  3.94s/it]\n",
      "100%|██████████| 4/4 [00:15<00:00,  3.93s/it]\n",
      "100%|██████████| 4/4 [00:15<00:00,  3.94s/it]\n",
      "100%|██████████| 4/4 [00:15<00:00,  3.96s/it]\n",
      "100%|██████████| 4/4 [00:15<00:00,  3.93s/it]\n",
      "100%|██████████| 4/4 [00:15<00:00,  3.94s/it]\n",
      "100%|██████████| 4/4 [00:15<00:00,  3.94s/it]\n",
      "100%|██████████| 4/4 [00:15<00:00,  3.94s/it]\n",
      "100%|██████████| 4/4 [00:15<00:00,  3.93s/it]\n",
      "100%|██████████| 4/4 [00:15<00:00,  3.94s/it]\n",
      "100%|██████████| 4/4 [00:15<00:00,  3.94s/it]\n",
      "100%|██████████| 4/4 [00:15<00:00,  3.93s/it]\n",
      "100%|██████████| 4/4 [00:15<00:00,  3.93s/it]\n",
      "100%|██████████| 4/4 [00:15<00:00,  3.92s/it]\n",
      "100%|██████████| 4/4 [00:15<00:00,  3.92s/it]\n",
      "100%|██████████| 4/4 [00:15<00:00,  3.92s/it]\n",
      "100%|██████████| 4/4 [00:15<00:00,  3.92s/it]\n",
      "100%|██████████| 4/4 [00:15<00:00,  3.92s/it]\n"
     ]
    },
    {
     "name": "stdout",
     "output_type": "stream",
     "text": [
      "iter 2040: loss 5.7661, time 15706.90ms\n"
     ]
    },
    {
     "name": "stderr",
     "output_type": "stream",
     "text": [
      "100%|██████████| 4/4 [00:15<00:00,  3.92s/it]\n",
      "100%|██████████| 4/4 [00:15<00:00,  3.94s/it]\n",
      "100%|██████████| 4/4 [00:15<00:00,  3.92s/it]\n",
      "100%|██████████| 4/4 [00:15<00:00,  3.92s/it]\n",
      "100%|██████████| 4/4 [00:15<00:00,  3.92s/it]\n",
      "100%|██████████| 4/4 [00:16<00:00,  4.00s/it]\n",
      "100%|██████████| 4/4 [00:16<00:00,  4.00s/it]\n",
      "100%|██████████| 4/4 [00:15<00:00,  3.94s/it]\n",
      "100%|██████████| 4/4 [00:15<00:00,  3.93s/it]\n",
      "100%|██████████| 4/4 [00:15<00:00,  3.93s/it]\n",
      "100%|██████████| 4/4 [00:15<00:00,  3.94s/it]\n",
      "100%|██████████| 4/4 [00:15<00:00,  3.94s/it]\n",
      "100%|██████████| 4/4 [00:15<00:00,  3.93s/it]\n",
      "100%|██████████| 4/4 [00:15<00:00,  3.93s/it]\n",
      "100%|██████████| 4/4 [00:15<00:00,  3.93s/it]\n",
      "100%|██████████| 4/4 [00:15<00:00,  3.94s/it]\n",
      "100%|██████████| 4/4 [00:15<00:00,  3.94s/it]\n",
      "100%|██████████| 4/4 [00:15<00:00,  3.93s/it]\n",
      "100%|██████████| 4/4 [00:15<00:00,  3.93s/it]\n",
      "100%|██████████| 4/4 [00:15<00:00,  3.94s/it]\n"
     ]
    },
    {
     "name": "stdout",
     "output_type": "stream",
     "text": [
      "iter 2060: loss 6.6033, time 15782.08ms\n"
     ]
    },
    {
     "name": "stderr",
     "output_type": "stream",
     "text": [
      "100%|██████████| 4/4 [00:15<00:00,  3.93s/it]\n",
      "100%|██████████| 4/4 [00:15<00:00,  3.93s/it]\n",
      "100%|██████████| 4/4 [00:15<00:00,  3.94s/it]\n",
      "100%|██████████| 4/4 [00:15<00:00,  3.93s/it]\n",
      "100%|██████████| 4/4 [00:15<00:00,  3.94s/it]\n",
      "100%|██████████| 4/4 [00:15<00:00,  3.93s/it]\n",
      "100%|██████████| 4/4 [00:15<00:00,  3.94s/it]\n",
      "100%|██████████| 4/4 [00:15<00:00,  3.93s/it]\n",
      "100%|██████████| 4/4 [00:15<00:00,  3.94s/it]\n",
      "100%|██████████| 4/4 [00:15<00:00,  3.93s/it]\n",
      "100%|██████████| 4/4 [00:15<00:00,  3.94s/it]\n",
      "100%|██████████| 4/4 [00:15<00:00,  3.93s/it]\n",
      "100%|██████████| 4/4 [00:15<00:00,  3.94s/it]\n",
      "100%|██████████| 4/4 [00:15<00:00,  3.94s/it]\n",
      "100%|██████████| 4/4 [00:15<00:00,  3.94s/it]\n",
      "100%|██████████| 4/4 [00:15<00:00,  3.93s/it]\n",
      "100%|██████████| 4/4 [00:15<00:00,  3.93s/it]\n",
      "100%|██████████| 4/4 [00:15<00:00,  3.94s/it]\n",
      "100%|██████████| 4/4 [00:15<00:00,  3.94s/it]\n",
      "100%|██████████| 4/4 [00:15<00:00,  3.94s/it]\n"
     ]
    },
    {
     "name": "stdout",
     "output_type": "stream",
     "text": [
      "iter 2080: loss 6.5736, time 15769.84ms\n"
     ]
    },
    {
     "name": "stderr",
     "output_type": "stream",
     "text": [
      "100%|██████████| 4/4 [00:15<00:00,  3.93s/it]\n",
      "100%|██████████| 4/4 [00:15<00:00,  3.94s/it]\n",
      "100%|██████████| 4/4 [00:15<00:00,  3.94s/it]\n",
      "100%|██████████| 4/4 [00:15<00:00,  3.93s/it]\n",
      "100%|██████████| 4/4 [00:15<00:00,  3.93s/it]\n",
      "100%|██████████| 4/4 [00:15<00:00,  3.93s/it]\n",
      "100%|██████████| 4/4 [00:15<00:00,  3.93s/it]\n",
      "100%|██████████| 4/4 [00:15<00:00,  3.93s/it]\n",
      "100%|██████████| 4/4 [00:15<00:00,  3.93s/it]\n",
      "100%|██████████| 4/4 [00:15<00:00,  3.94s/it]\n",
      "100%|██████████| 4/4 [00:15<00:00,  3.93s/it]\n",
      "100%|██████████| 4/4 [00:15<00:00,  3.93s/it]\n",
      "100%|██████████| 4/4 [00:15<00:00,  3.93s/it]\n",
      "100%|██████████| 4/4 [00:15<00:00,  3.94s/it]\n",
      "100%|██████████| 4/4 [00:15<00:00,  3.93s/it]\n",
      "100%|██████████| 4/4 [00:15<00:00,  3.93s/it]\n",
      "100%|██████████| 4/4 [00:15<00:00,  3.93s/it]\n",
      "100%|██████████| 4/4 [00:15<00:00,  3.94s/it]\n",
      "100%|██████████| 4/4 [00:15<00:00,  3.94s/it]\n",
      "100%|██████████| 4/4 [00:15<00:00,  3.93s/it]\n"
     ]
    },
    {
     "name": "stdout",
     "output_type": "stream",
     "text": [
      "iter 2100: loss 6.2598, time 15754.88ms\n"
     ]
    },
    {
     "name": "stderr",
     "output_type": "stream",
     "text": [
      "100%|██████████| 4/4 [00:15<00:00,  3.93s/it]\n",
      "100%|██████████| 4/4 [00:15<00:00,  3.94s/it]\n",
      "100%|██████████| 4/4 [00:15<00:00,  3.93s/it]\n",
      "100%|██████████| 4/4 [00:15<00:00,  3.93s/it]\n",
      "100%|██████████| 4/4 [00:15<00:00,  3.94s/it]\n",
      "100%|██████████| 4/4 [00:15<00:00,  3.93s/it]\n",
      "100%|██████████| 4/4 [00:15<00:00,  3.93s/it]\n",
      "100%|██████████| 4/4 [00:15<00:00,  3.93s/it]\n",
      "100%|██████████| 4/4 [00:15<00:00,  3.94s/it]\n",
      "100%|██████████| 4/4 [00:15<00:00,  3.93s/it]\n",
      "100%|██████████| 4/4 [00:15<00:00,  3.93s/it]\n",
      "100%|██████████| 4/4 [00:15<00:00,  3.97s/it]\n",
      "100%|██████████| 4/4 [00:15<00:00,  3.97s/it]\n",
      "100%|██████████| 4/4 [00:15<00:00,  3.97s/it]\n",
      "100%|██████████| 4/4 [00:15<00:00,  3.97s/it]\n",
      "100%|██████████| 4/4 [00:15<00:00,  3.97s/it]\n",
      "100%|██████████| 4/4 [00:15<00:00,  3.97s/it]\n",
      "100%|██████████| 4/4 [00:15<00:00,  3.97s/it]\n",
      "100%|██████████| 4/4 [00:15<00:00,  3.97s/it]\n",
      "100%|██████████| 4/4 [00:15<00:00,  3.97s/it]\n"
     ]
    },
    {
     "name": "stdout",
     "output_type": "stream",
     "text": [
      "iter 2120: loss 6.5209, time 15914.46ms\n"
     ]
    },
    {
     "name": "stderr",
     "output_type": "stream",
     "text": [
      "100%|██████████| 4/4 [00:15<00:00,  3.96s/it]\n",
      "100%|██████████| 4/4 [00:15<00:00,  3.97s/it]\n",
      "100%|██████████| 4/4 [00:15<00:00,  3.97s/it]\n",
      "100%|██████████| 4/4 [00:15<00:00,  3.97s/it]\n",
      "100%|██████████| 4/4 [00:15<00:00,  3.96s/it]\n",
      "100%|██████████| 4/4 [00:15<00:00,  3.97s/it]\n",
      "100%|██████████| 4/4 [00:15<00:00,  3.96s/it]\n",
      "100%|██████████| 4/4 [00:15<00:00,  3.97s/it]\n",
      "100%|██████████| 4/4 [00:15<00:00,  3.97s/it]\n",
      "100%|██████████| 4/4 [00:15<00:00,  3.97s/it]\n",
      "100%|██████████| 4/4 [00:15<00:00,  3.97s/it]\n",
      "100%|██████████| 4/4 [00:15<00:00,  3.97s/it]\n",
      "100%|██████████| 4/4 [00:15<00:00,  3.97s/it]\n",
      "100%|██████████| 4/4 [00:15<00:00,  3.97s/it]\n",
      "100%|██████████| 4/4 [00:15<00:00,  3.97s/it]\n",
      "100%|██████████| 4/4 [00:15<00:00,  3.97s/it]\n",
      "100%|██████████| 4/4 [00:15<00:00,  3.97s/it]\n",
      "100%|██████████| 4/4 [00:15<00:00,  3.97s/it]\n",
      "100%|██████████| 4/4 [00:15<00:00,  3.97s/it]\n",
      "100%|██████████| 4/4 [00:15<00:00,  3.97s/it]\n"
     ]
    },
    {
     "name": "stdout",
     "output_type": "stream",
     "text": [
      "iter 2140: loss 6.4913, time 15908.34ms\n"
     ]
    },
    {
     "name": "stderr",
     "output_type": "stream",
     "text": [
      "100%|██████████| 4/4 [00:15<00:00,  3.96s/it]\n",
      "100%|██████████| 4/4 [00:15<00:00,  3.97s/it]\n",
      "100%|██████████| 4/4 [00:15<00:00,  3.97s/it]\n",
      "100%|██████████| 4/4 [00:15<00:00,  3.97s/it]\n",
      "100%|██████████| 4/4 [00:15<00:00,  3.97s/it]\n",
      "100%|██████████| 4/4 [00:15<00:00,  3.97s/it]\n",
      "100%|██████████| 4/4 [00:15<00:00,  3.98s/it]\n",
      "100%|██████████| 4/4 [00:15<00:00,  3.97s/it]\n",
      "100%|██████████| 4/4 [00:15<00:00,  3.97s/it]\n",
      "100%|██████████| 4/4 [00:15<00:00,  3.97s/it]\n",
      "100%|██████████| 4/4 [00:15<00:00,  3.97s/it]\n",
      "100%|██████████| 4/4 [00:15<00:00,  3.97s/it]\n",
      "100%|██████████| 4/4 [00:15<00:00,  3.97s/it]\n",
      "100%|██████████| 4/4 [00:15<00:00,  3.97s/it]\n",
      "100%|██████████| 4/4 [00:15<00:00,  3.97s/it]\n",
      "100%|██████████| 4/4 [00:15<00:00,  3.97s/it]\n",
      "100%|██████████| 4/4 [00:15<00:00,  3.97s/it]\n",
      "100%|██████████| 4/4 [00:15<00:00,  3.97s/it]\n",
      "100%|██████████| 4/4 [00:15<00:00,  3.96s/it]\n",
      "100%|██████████| 4/4 [00:15<00:00,  3.96s/it]\n"
     ]
    },
    {
     "name": "stdout",
     "output_type": "stream",
     "text": [
      "iter 2160: loss 6.4890, time 15858.25ms\n"
     ]
    },
    {
     "name": "stderr",
     "output_type": "stream",
     "text": [
      "100%|██████████| 4/4 [00:15<00:00,  3.95s/it]\n",
      "100%|██████████| 4/4 [00:15<00:00,  3.96s/it]\n",
      "100%|██████████| 4/4 [00:15<00:00,  3.96s/it]\n",
      "100%|██████████| 4/4 [00:15<00:00,  3.96s/it]\n",
      "100%|██████████| 4/4 [00:15<00:00,  3.96s/it]\n",
      "100%|██████████| 4/4 [00:15<00:00,  3.96s/it]\n",
      "100%|██████████| 4/4 [00:15<00:00,  3.96s/it]\n",
      "100%|██████████| 4/4 [00:15<00:00,  3.96s/it]\n",
      "100%|██████████| 4/4 [00:15<00:00,  3.96s/it]\n",
      "100%|██████████| 4/4 [00:15<00:00,  3.96s/it]\n",
      "100%|██████████| 4/4 [00:15<00:00,  3.96s/it]\n",
      "100%|██████████| 4/4 [00:15<00:00,  3.96s/it]\n",
      "100%|██████████| 4/4 [00:15<00:00,  3.96s/it]\n",
      "100%|██████████| 4/4 [00:15<00:00,  3.96s/it]\n",
      "100%|██████████| 4/4 [00:15<00:00,  3.96s/it]\n",
      "100%|██████████| 4/4 [00:15<00:00,  3.96s/it]\n",
      "100%|██████████| 4/4 [00:15<00:00,  3.96s/it]\n",
      "100%|██████████| 4/4 [00:15<00:00,  3.96s/it]\n",
      "100%|██████████| 4/4 [00:15<00:00,  3.96s/it]\n",
      "100%|██████████| 4/4 [00:15<00:00,  3.96s/it]\n"
     ]
    },
    {
     "name": "stdout",
     "output_type": "stream",
     "text": [
      "iter 2180: loss 6.6929, time 15865.89ms\n"
     ]
    },
    {
     "name": "stderr",
     "output_type": "stream",
     "text": [
      "100%|██████████| 4/4 [00:15<00:00,  3.96s/it]\n",
      "100%|██████████| 4/4 [00:15<00:00,  3.96s/it]\n",
      "100%|██████████| 4/4 [00:15<00:00,  3.96s/it]\n",
      "100%|██████████| 4/4 [00:15<00:00,  3.96s/it]\n",
      "100%|██████████| 4/4 [00:15<00:00,  3.96s/it]\n",
      "100%|██████████| 4/4 [00:15<00:00,  3.95s/it]\n",
      "100%|██████████| 4/4 [00:15<00:00,  3.96s/it]\n",
      "100%|██████████| 4/4 [00:15<00:00,  3.96s/it]\n",
      "100%|██████████| 4/4 [00:15<00:00,  3.96s/it]\n",
      "100%|██████████| 4/4 [00:15<00:00,  3.96s/it]\n",
      "100%|██████████| 4/4 [00:15<00:00,  3.96s/it]\n",
      "100%|██████████| 4/4 [00:15<00:00,  3.96s/it]\n",
      "100%|██████████| 4/4 [00:15<00:00,  3.96s/it]\n",
      "100%|██████████| 4/4 [00:15<00:00,  3.96s/it]\n",
      "100%|██████████| 4/4 [00:15<00:00,  3.96s/it]\n",
      "100%|██████████| 4/4 [00:15<00:00,  3.96s/it]\n",
      "100%|██████████| 4/4 [00:15<00:00,  3.96s/it]\n",
      "100%|██████████| 4/4 [00:15<00:00,  3.96s/it]\n",
      "100%|██████████| 4/4 [00:15<00:00,  3.96s/it]\n"
     ]
    },
    {
     "name": "stdout",
     "output_type": "stream",
     "text": [
      "step 2200: train loss 6.2046, val loss 6.2727\n",
      "train ppl 495.03, val ppl 529.92\n",
      "📈 Train/Val Gap: 0.0681 (1.10%)\n",
      "✅ 新的最佳驗證損失: 6.2727\n"
     ]
    },
    {
     "name": "stderr",
     "output_type": "stream",
     "text": [
      "100%|██████████| 4/4 [00:15<00:00,  3.95s/it]\n"
     ]
    },
    {
     "name": "stdout",
     "output_type": "stream",
     "text": [
      "iter 2200: loss 6.2327, time 111132.24ms\n"
     ]
    },
    {
     "name": "stderr",
     "output_type": "stream",
     "text": [
      "100%|██████████| 4/4 [00:15<00:00,  3.95s/it]\n",
      "100%|██████████| 4/4 [00:15<00:00,  3.96s/it]\n",
      "100%|██████████| 4/4 [00:15<00:00,  3.96s/it]\n",
      "100%|██████████| 4/4 [00:15<00:00,  3.96s/it]\n",
      "100%|██████████| 4/4 [00:15<00:00,  3.96s/it]\n",
      "100%|██████████| 4/4 [00:15<00:00,  3.96s/it]\n",
      "100%|██████████| 4/4 [00:15<00:00,  3.96s/it]\n",
      "100%|██████████| 4/4 [00:15<00:00,  3.96s/it]\n",
      "100%|██████████| 4/4 [00:15<00:00,  3.96s/it]\n",
      "100%|██████████| 4/4 [00:15<00:00,  3.96s/it]\n",
      "100%|██████████| 4/4 [00:15<00:00,  3.96s/it]\n",
      "100%|██████████| 4/4 [00:15<00:00,  3.96s/it]\n",
      "100%|██████████| 4/4 [00:15<00:00,  3.96s/it]\n",
      "100%|██████████| 4/4 [00:15<00:00,  3.96s/it]\n",
      "100%|██████████| 4/4 [00:15<00:00,  3.97s/it]\n",
      "100%|██████████| 4/4 [00:15<00:00,  3.96s/it]\n",
      "100%|██████████| 4/4 [00:15<00:00,  3.96s/it]\n",
      "100%|██████████| 4/4 [00:15<00:00,  3.96s/it]\n",
      "100%|██████████| 4/4 [00:15<00:00,  3.96s/it]\n",
      "100%|██████████| 4/4 [00:15<00:00,  3.96s/it]\n"
     ]
    },
    {
     "name": "stdout",
     "output_type": "stream",
     "text": [
      "iter 2220: loss 6.1467, time 15856.57ms\n"
     ]
    },
    {
     "name": "stderr",
     "output_type": "stream",
     "text": [
      "100%|██████████| 4/4 [00:15<00:00,  3.95s/it]\n",
      "100%|██████████| 4/4 [00:15<00:00,  3.96s/it]\n",
      "100%|██████████| 4/4 [00:15<00:00,  3.96s/it]\n",
      "100%|██████████| 4/4 [00:15<00:00,  3.96s/it]\n",
      "100%|██████████| 4/4 [00:15<00:00,  3.96s/it]\n",
      "100%|██████████| 4/4 [00:15<00:00,  3.96s/it]\n",
      "100%|██████████| 4/4 [00:15<00:00,  3.98s/it]\n",
      "100%|██████████| 4/4 [00:15<00:00,  3.96s/it]\n",
      "100%|██████████| 4/4 [00:15<00:00,  3.96s/it]\n",
      "100%|██████████| 4/4 [00:15<00:00,  3.96s/it]\n",
      "100%|██████████| 4/4 [00:15<00:00,  3.96s/it]\n",
      "100%|██████████| 4/4 [00:15<00:00,  3.96s/it]\n",
      "100%|██████████| 4/4 [00:15<00:00,  3.96s/it]\n",
      "100%|██████████| 4/4 [00:15<00:00,  3.95s/it]\n",
      "100%|██████████| 4/4 [00:15<00:00,  3.96s/it]\n",
      "100%|██████████| 4/4 [00:15<00:00,  3.97s/it]\n",
      "100%|██████████| 4/4 [00:16<00:00,  4.06s/it]\n",
      "100%|██████████| 4/4 [00:15<00:00,  3.97s/it]\n",
      "100%|██████████| 4/4 [00:15<00:00,  3.97s/it]\n",
      "100%|██████████| 4/4 [00:15<00:00,  3.96s/it]\n"
     ]
    },
    {
     "name": "stdout",
     "output_type": "stream",
     "text": [
      "iter 2240: loss 6.0063, time 15851.48ms\n"
     ]
    },
    {
     "name": "stderr",
     "output_type": "stream",
     "text": [
      "100%|██████████| 4/4 [00:15<00:00,  3.95s/it]\n",
      "100%|██████████| 4/4 [00:15<00:00,  3.96s/it]\n",
      "100%|██████████| 4/4 [00:15<00:00,  3.98s/it]\n",
      "100%|██████████| 4/4 [00:15<00:00,  3.95s/it]\n",
      "100%|██████████| 4/4 [00:15<00:00,  3.96s/it]\n",
      "100%|██████████| 4/4 [00:15<00:00,  3.96s/it]\n",
      "100%|██████████| 4/4 [00:15<00:00,  3.96s/it]\n",
      "100%|██████████| 4/4 [00:15<00:00,  3.96s/it]\n",
      "100%|██████████| 4/4 [00:15<00:00,  3.96s/it]\n",
      "100%|██████████| 4/4 [00:15<00:00,  3.96s/it]\n",
      "100%|██████████| 4/4 [00:15<00:00,  3.96s/it]\n",
      "100%|██████████| 4/4 [00:15<00:00,  3.96s/it]\n",
      "100%|██████████| 4/4 [00:15<00:00,  3.96s/it]\n",
      "100%|██████████| 4/4 [00:15<00:00,  3.96s/it]\n",
      "100%|██████████| 4/4 [00:15<00:00,  3.95s/it]\n",
      "100%|██████████| 4/4 [00:15<00:00,  3.96s/it]\n",
      "100%|██████████| 4/4 [00:15<00:00,  3.96s/it]\n",
      "100%|██████████| 4/4 [00:15<00:00,  3.96s/it]\n",
      "100%|██████████| 4/4 [00:15<00:00,  3.95s/it]\n",
      "100%|██████████| 4/4 [00:15<00:00,  3.95s/it]\n"
     ]
    },
    {
     "name": "stdout",
     "output_type": "stream",
     "text": [
      "iter 2260: loss 5.9096, time 15836.14ms\n"
     ]
    },
    {
     "name": "stderr",
     "output_type": "stream",
     "text": [
      "100%|██████████| 4/4 [00:15<00:00,  3.95s/it]\n",
      "100%|██████████| 4/4 [00:15<00:00,  3.97s/it]\n",
      "100%|██████████| 4/4 [00:15<00:00,  3.97s/it]\n",
      "100%|██████████| 4/4 [00:15<00:00,  3.97s/it]\n",
      "100%|██████████| 4/4 [00:15<00:00,  3.97s/it]\n",
      "100%|██████████| 4/4 [00:15<00:00,  3.98s/it]\n",
      "100%|██████████| 4/4 [00:15<00:00,  3.97s/it]\n",
      "100%|██████████| 4/4 [00:15<00:00,  3.97s/it]\n",
      "100%|██████████| 4/4 [00:15<00:00,  3.97s/it]\n",
      "100%|██████████| 4/4 [00:15<00:00,  3.97s/it]\n",
      "100%|██████████| 4/4 [00:15<00:00,  3.97s/it]\n",
      "100%|██████████| 4/4 [00:15<00:00,  3.97s/it]\n",
      "100%|██████████| 4/4 [00:15<00:00,  3.97s/it]\n",
      "100%|██████████| 4/4 [00:15<00:00,  3.97s/it]\n",
      "100%|██████████| 4/4 [00:15<00:00,  3.97s/it]\n",
      "100%|██████████| 4/4 [00:15<00:00,  3.97s/it]\n",
      "100%|██████████| 4/4 [00:15<00:00,  3.97s/it]\n",
      "100%|██████████| 4/4 [00:15<00:00,  3.97s/it]\n",
      "100%|██████████| 4/4 [00:15<00:00,  3.97s/it]\n",
      "100%|██████████| 4/4 [00:15<00:00,  3.96s/it]\n"
     ]
    },
    {
     "name": "stdout",
     "output_type": "stream",
     "text": [
      "iter 2280: loss 6.2416, time 15882.88ms\n"
     ]
    },
    {
     "name": "stderr",
     "output_type": "stream",
     "text": [
      "100%|██████████| 4/4 [00:15<00:00,  3.97s/it]\n",
      "100%|██████████| 4/4 [00:15<00:00,  3.97s/it]\n",
      "100%|██████████| 4/4 [00:15<00:00,  3.97s/it]\n",
      "100%|██████████| 4/4 [00:15<00:00,  3.97s/it]\n",
      "100%|██████████| 4/4 [00:15<00:00,  3.97s/it]\n",
      "100%|██████████| 4/4 [00:15<00:00,  3.97s/it]\n",
      "100%|██████████| 4/4 [00:15<00:00,  3.97s/it]\n",
      "100%|██████████| 4/4 [00:15<00:00,  3.97s/it]\n",
      "100%|██████████| 4/4 [00:15<00:00,  3.97s/it]\n",
      "100%|██████████| 4/4 [00:15<00:00,  3.97s/it]\n",
      "100%|██████████| 4/4 [00:15<00:00,  3.97s/it]\n",
      "100%|██████████| 4/4 [00:15<00:00,  3.97s/it]\n",
      "100%|██████████| 4/4 [00:15<00:00,  3.97s/it]\n",
      "100%|██████████| 4/4 [00:15<00:00,  3.97s/it]\n",
      "100%|██████████| 4/4 [00:15<00:00,  3.97s/it]\n",
      "100%|██████████| 4/4 [00:15<00:00,  3.97s/it]\n",
      "100%|██████████| 4/4 [00:15<00:00,  3.96s/it]\n",
      "100%|██████████| 4/4 [00:15<00:00,  3.97s/it]\n",
      "100%|██████████| 4/4 [00:15<00:00,  3.98s/it]\n",
      "100%|██████████| 4/4 [00:15<00:00,  3.97s/it]\n"
     ]
    },
    {
     "name": "stdout",
     "output_type": "stream",
     "text": [
      "iter 2300: loss 6.1128, time 15902.83ms\n"
     ]
    },
    {
     "name": "stderr",
     "output_type": "stream",
     "text": [
      "100%|██████████| 4/4 [00:15<00:00,  3.96s/it]\n",
      "100%|██████████| 4/4 [00:15<00:00,  3.97s/it]\n",
      "100%|██████████| 4/4 [00:15<00:00,  3.97s/it]\n",
      "100%|██████████| 4/4 [00:15<00:00,  3.97s/it]\n",
      "100%|██████████| 4/4 [00:15<00:00,  3.97s/it]\n",
      "100%|██████████| 4/4 [00:15<00:00,  3.97s/it]\n",
      "100%|██████████| 4/4 [00:15<00:00,  3.97s/it]\n",
      "100%|██████████| 4/4 [00:15<00:00,  3.97s/it]\n",
      "100%|██████████| 4/4 [00:15<00:00,  3.97s/it]\n",
      "100%|██████████| 4/4 [00:15<00:00,  3.97s/it]\n",
      "100%|██████████| 4/4 [00:15<00:00,  3.98s/it]\n",
      "100%|██████████| 4/4 [00:15<00:00,  3.97s/it]\n",
      "100%|██████████| 4/4 [00:15<00:00,  3.97s/it]\n",
      "100%|██████████| 4/4 [00:15<00:00,  3.97s/it]\n",
      "100%|██████████| 4/4 [00:15<00:00,  3.97s/it]\n",
      "100%|██████████| 4/4 [00:15<00:00,  3.97s/it]\n",
      "100%|██████████| 4/4 [00:15<00:00,  3.97s/it]\n",
      "100%|██████████| 4/4 [00:15<00:00,  3.97s/it]\n",
      "100%|██████████| 4/4 [00:15<00:00,  3.97s/it]\n",
      "100%|██████████| 4/4 [00:15<00:00,  3.97s/it]\n"
     ]
    },
    {
     "name": "stdout",
     "output_type": "stream",
     "text": [
      "iter 2320: loss 6.5131, time 15895.71ms\n"
     ]
    },
    {
     "name": "stderr",
     "output_type": "stream",
     "text": [
      "100%|██████████| 4/4 [00:15<00:00,  3.96s/it]\n",
      "100%|██████████| 4/4 [00:15<00:00,  3.97s/it]\n",
      "100%|██████████| 4/4 [00:15<00:00,  3.97s/it]\n",
      "100%|██████████| 4/4 [00:15<00:00,  3.97s/it]\n",
      "100%|██████████| 4/4 [00:15<00:00,  3.97s/it]\n",
      "100%|██████████| 4/4 [00:15<00:00,  3.97s/it]\n",
      "100%|██████████| 4/4 [00:15<00:00,  3.97s/it]\n",
      "100%|██████████| 4/4 [00:15<00:00,  3.97s/it]\n",
      "100%|██████████| 4/4 [00:15<00:00,  3.97s/it]\n",
      "100%|██████████| 4/4 [00:15<00:00,  3.97s/it]\n",
      "100%|██████████| 4/4 [00:15<00:00,  3.97s/it]\n",
      "100%|██████████| 4/4 [00:15<00:00,  3.97s/it]\n",
      "100%|██████████| 4/4 [00:15<00:00,  3.97s/it]\n",
      "100%|██████████| 4/4 [00:15<00:00,  3.96s/it]\n",
      "100%|██████████| 4/4 [00:15<00:00,  3.97s/it]\n",
      "100%|██████████| 4/4 [00:15<00:00,  3.97s/it]\n",
      "100%|██████████| 4/4 [00:15<00:00,  3.97s/it]\n",
      "100%|██████████| 4/4 [00:15<00:00,  3.97s/it]\n",
      "100%|██████████| 4/4 [00:15<00:00,  3.96s/it]\n",
      "100%|██████████| 4/4 [00:15<00:00,  3.97s/it]\n"
     ]
    },
    {
     "name": "stdout",
     "output_type": "stream",
     "text": [
      "iter 2340: loss 6.4275, time 15898.78ms\n"
     ]
    },
    {
     "name": "stderr",
     "output_type": "stream",
     "text": [
      "100%|██████████| 4/4 [00:15<00:00,  3.97s/it]\n",
      "100%|██████████| 4/4 [00:15<00:00,  3.97s/it]\n",
      "100%|██████████| 4/4 [00:15<00:00,  3.96s/it]\n",
      "100%|██████████| 4/4 [00:15<00:00,  3.97s/it]\n",
      "100%|██████████| 4/4 [00:15<00:00,  3.97s/it]\n",
      "100%|██████████| 4/4 [00:15<00:00,  3.97s/it]\n",
      "100%|██████████| 4/4 [00:15<00:00,  3.97s/it]\n",
      "100%|██████████| 4/4 [00:15<00:00,  3.97s/it]\n",
      "100%|██████████| 4/4 [00:15<00:00,  3.97s/it]\n",
      "100%|██████████| 4/4 [00:15<00:00,  3.97s/it]\n",
      "100%|██████████| 4/4 [00:15<00:00,  3.97s/it]\n",
      "100%|██████████| 4/4 [00:15<00:00,  3.97s/it]\n",
      "100%|██████████| 4/4 [00:15<00:00,  3.97s/it]\n",
      "100%|██████████| 4/4 [00:15<00:00,  3.97s/it]\n",
      "100%|██████████| 4/4 [00:15<00:00,  3.97s/it]\n",
      "100%|██████████| 4/4 [00:15<00:00,  3.97s/it]\n",
      "100%|██████████| 4/4 [00:15<00:00,  3.97s/it]\n",
      "100%|██████████| 4/4 [00:15<00:00,  3.97s/it]\n",
      "100%|██████████| 4/4 [00:15<00:00,  3.97s/it]\n",
      "100%|██████████| 4/4 [00:15<00:00,  3.97s/it]\n"
     ]
    },
    {
     "name": "stdout",
     "output_type": "stream",
     "text": [
      "iter 2360: loss 5.9667, time 15911.24ms\n"
     ]
    },
    {
     "name": "stderr",
     "output_type": "stream",
     "text": [
      "100%|██████████| 4/4 [00:15<00:00,  3.96s/it]\n",
      "100%|██████████| 4/4 [00:15<00:00,  3.97s/it]\n",
      "100%|██████████| 4/4 [00:15<00:00,  3.97s/it]\n",
      "100%|██████████| 4/4 [00:15<00:00,  3.97s/it]\n",
      "100%|██████████| 4/4 [00:15<00:00,  3.96s/it]\n",
      "100%|██████████| 4/4 [00:15<00:00,  3.97s/it]\n",
      "100%|██████████| 4/4 [00:15<00:00,  3.97s/it]\n",
      "100%|██████████| 4/4 [00:15<00:00,  3.97s/it]\n",
      "100%|██████████| 4/4 [00:15<00:00,  3.96s/it]\n",
      "100%|██████████| 4/4 [00:15<00:00,  3.97s/it]\n",
      "100%|██████████| 4/4 [00:15<00:00,  3.97s/it]\n",
      "100%|██████████| 4/4 [00:15<00:00,  3.97s/it]\n",
      "100%|██████████| 4/4 [00:15<00:00,  3.97s/it]\n",
      "100%|██████████| 4/4 [00:15<00:00,  3.97s/it]\n",
      "100%|██████████| 4/4 [00:15<00:00,  3.97s/it]\n",
      "100%|██████████| 4/4 [00:15<00:00,  3.97s/it]\n",
      "100%|██████████| 4/4 [00:15<00:00,  3.97s/it]\n",
      "100%|██████████| 4/4 [00:15<00:00,  3.97s/it]\n",
      "100%|██████████| 4/4 [00:15<00:00,  3.97s/it]\n",
      "100%|██████████| 4/4 [00:15<00:00,  3.97s/it]\n"
     ]
    },
    {
     "name": "stdout",
     "output_type": "stream",
     "text": [
      "iter 2380: loss 5.8666, time 15904.96ms\n"
     ]
    },
    {
     "name": "stderr",
     "output_type": "stream",
     "text": [
      "100%|██████████| 4/4 [00:15<00:00,  3.96s/it]\n",
      "100%|██████████| 4/4 [00:15<00:00,  3.97s/it]\n",
      "100%|██████████| 4/4 [00:15<00:00,  3.97s/it]\n",
      "100%|██████████| 4/4 [00:15<00:00,  3.97s/it]\n",
      "100%|██████████| 4/4 [00:15<00:00,  3.97s/it]\n",
      "100%|██████████| 4/4 [00:15<00:00,  3.97s/it]\n",
      "100%|██████████| 4/4 [00:15<00:00,  3.97s/it]\n",
      "100%|██████████| 4/4 [00:15<00:00,  3.97s/it]\n",
      "100%|██████████| 4/4 [00:15<00:00,  3.97s/it]\n",
      "100%|██████████| 4/4 [00:15<00:00,  3.97s/it]\n",
      "100%|██████████| 4/4 [00:15<00:00,  3.97s/it]\n",
      "100%|██████████| 4/4 [00:15<00:00,  3.97s/it]\n",
      "100%|██████████| 4/4 [00:15<00:00,  3.97s/it]\n",
      "100%|██████████| 4/4 [00:15<00:00,  3.97s/it]\n",
      "100%|██████████| 4/4 [00:15<00:00,  3.96s/it]\n",
      "100%|██████████| 4/4 [00:15<00:00,  3.97s/it]\n",
      "100%|██████████| 4/4 [00:15<00:00,  3.97s/it]\n",
      "100%|██████████| 4/4 [00:15<00:00,  3.97s/it]\n",
      "100%|██████████| 4/4 [00:15<00:00,  3.97s/it]\n"
     ]
    },
    {
     "name": "stdout",
     "output_type": "stream",
     "text": [
      "step 2400: train loss 6.2577, val loss 6.2334\n",
      "train ppl 522.02, val ppl 509.50\n",
      "📈 Train/Val Gap: -0.0243 (-0.39%)\n",
      "✅ 新的最佳驗證損失: 6.2334\n"
     ]
    },
    {
     "name": "stderr",
     "output_type": "stream",
     "text": [
      "100%|██████████| 4/4 [00:15<00:00,  3.96s/it]\n"
     ]
    },
    {
     "name": "stdout",
     "output_type": "stream",
     "text": [
      "iter 2400: loss 6.2147, time 111338.97ms\n"
     ]
    },
    {
     "name": "stderr",
     "output_type": "stream",
     "text": [
      "100%|██████████| 4/4 [00:15<00:00,  3.96s/it]\n",
      "100%|██████████| 4/4 [00:15<00:00,  3.97s/it]\n",
      "100%|██████████| 4/4 [00:15<00:00,  3.97s/it]\n",
      "100%|██████████| 4/4 [00:15<00:00,  3.97s/it]\n",
      "100%|██████████| 4/4 [00:15<00:00,  3.97s/it]\n",
      "100%|██████████| 4/4 [00:15<00:00,  3.97s/it]\n",
      "100%|██████████| 4/4 [00:15<00:00,  3.98s/it]\n",
      "100%|██████████| 4/4 [00:15<00:00,  3.97s/it]\n",
      "100%|██████████| 4/4 [00:15<00:00,  3.97s/it]\n",
      "100%|██████████| 4/4 [00:15<00:00,  3.97s/it]\n",
      "100%|██████████| 4/4 [00:15<00:00,  3.97s/it]\n",
      "100%|██████████| 4/4 [00:15<00:00,  3.97s/it]\n",
      "100%|██████████| 4/4 [00:15<00:00,  3.97s/it]\n",
      "100%|██████████| 4/4 [00:15<00:00,  3.97s/it]\n",
      "100%|██████████| 4/4 [00:15<00:00,  3.97s/it]\n",
      "100%|██████████| 4/4 [00:15<00:00,  3.99s/it]\n",
      "100%|██████████| 4/4 [00:15<00:00,  3.97s/it]\n",
      "100%|██████████| 4/4 [00:15<00:00,  3.98s/it]\n",
      "100%|██████████| 4/4 [00:15<00:00,  3.97s/it]\n",
      "100%|██████████| 4/4 [00:15<00:00,  3.97s/it]\n"
     ]
    },
    {
     "name": "stdout",
     "output_type": "stream",
     "text": [
      "iter 2420: loss 6.1322, time 15911.51ms\n"
     ]
    },
    {
     "name": "stderr",
     "output_type": "stream",
     "text": [
      "100%|██████████| 4/4 [00:15<00:00,  3.96s/it]\n",
      "100%|██████████| 4/4 [00:15<00:00,  3.98s/it]\n",
      "100%|██████████| 4/4 [00:15<00:00,  3.97s/it]\n",
      "100%|██████████| 4/4 [00:15<00:00,  3.97s/it]\n",
      "100%|██████████| 4/4 [00:15<00:00,  3.97s/it]\n",
      "100%|██████████| 4/4 [00:15<00:00,  3.98s/it]\n",
      "100%|██████████| 4/4 [00:15<00:00,  3.97s/it]\n",
      "100%|██████████| 4/4 [00:15<00:00,  3.99s/it]\n",
      "100%|██████████| 4/4 [00:15<00:00,  3.97s/it]\n",
      "100%|██████████| 4/4 [00:15<00:00,  3.97s/it]\n",
      "100%|██████████| 4/4 [00:15<00:00,  3.97s/it]\n",
      "100%|██████████| 4/4 [00:15<00:00,  3.97s/it]\n",
      "100%|██████████| 4/4 [00:15<00:00,  3.97s/it]\n",
      "100%|██████████| 4/4 [00:15<00:00,  3.97s/it]\n",
      "100%|██████████| 4/4 [00:15<00:00,  3.97s/it]\n",
      "100%|██████████| 4/4 [00:15<00:00,  3.97s/it]\n",
      "100%|██████████| 4/4 [00:15<00:00,  3.97s/it]\n",
      "100%|██████████| 4/4 [00:15<00:00,  3.97s/it]\n",
      "100%|██████████| 4/4 [00:15<00:00,  3.97s/it]\n",
      "100%|██████████| 4/4 [00:15<00:00,  3.96s/it]\n"
     ]
    },
    {
     "name": "stdout",
     "output_type": "stream",
     "text": [
      "iter 2440: loss 6.1150, time 15882.14ms\n"
     ]
    },
    {
     "name": "stderr",
     "output_type": "stream",
     "text": [
      "100%|██████████| 4/4 [00:15<00:00,  3.98s/it]\n",
      "100%|██████████| 4/4 [00:15<00:00,  3.97s/it]\n",
      "100%|██████████| 4/4 [00:15<00:00,  3.97s/it]\n",
      "100%|██████████| 4/4 [00:15<00:00,  3.99s/it]\n",
      "100%|██████████| 4/4 [00:15<00:00,  3.97s/it]\n",
      "100%|██████████| 4/4 [00:15<00:00,  3.97s/it]\n",
      "100%|██████████| 4/4 [00:15<00:00,  3.97s/it]\n",
      "100%|██████████| 4/4 [00:15<00:00,  3.97s/it]\n",
      "100%|██████████| 4/4 [00:15<00:00,  3.96s/it]\n",
      "100%|██████████| 4/4 [00:15<00:00,  3.97s/it]\n",
      "100%|██████████| 4/4 [00:15<00:00,  3.97s/it]\n",
      "100%|██████████| 4/4 [00:15<00:00,  3.97s/it]\n",
      "100%|██████████| 4/4 [00:15<00:00,  3.97s/it]\n",
      "100%|██████████| 4/4 [00:15<00:00,  3.97s/it]\n",
      "100%|██████████| 4/4 [00:15<00:00,  3.97s/it]\n",
      "100%|██████████| 4/4 [00:15<00:00,  3.97s/it]\n",
      "100%|██████████| 4/4 [00:15<00:00,  3.97s/it]\n",
      "100%|██████████| 4/4 [00:15<00:00,  3.97s/it]\n",
      "100%|██████████| 4/4 [00:15<00:00,  3.97s/it]\n",
      "100%|██████████| 4/4 [00:15<00:00,  3.97s/it]\n"
     ]
    },
    {
     "name": "stdout",
     "output_type": "stream",
     "text": [
      "iter 2460: loss 6.2065, time 15888.29ms\n"
     ]
    },
    {
     "name": "stderr",
     "output_type": "stream",
     "text": [
      "100%|██████████| 4/4 [00:15<00:00,  3.96s/it]\n",
      "100%|██████████| 4/4 [00:15<00:00,  3.96s/it]\n",
      "100%|██████████| 4/4 [00:15<00:00,  3.97s/it]\n",
      "100%|██████████| 4/4 [00:15<00:00,  3.97s/it]\n",
      "100%|██████████| 4/4 [00:15<00:00,  3.97s/it]\n",
      "100%|██████████| 4/4 [00:15<00:00,  3.97s/it]\n",
      "100%|██████████| 4/4 [00:15<00:00,  3.97s/it]\n",
      "100%|██████████| 4/4 [00:15<00:00,  3.97s/it]\n",
      "100%|██████████| 4/4 [00:15<00:00,  3.97s/it]\n",
      "100%|██████████| 4/4 [00:15<00:00,  3.97s/it]\n",
      "100%|██████████| 4/4 [00:15<00:00,  3.97s/it]\n",
      "100%|██████████| 4/4 [00:15<00:00,  3.97s/it]\n",
      "100%|██████████| 4/4 [00:15<00:00,  3.97s/it]\n",
      "100%|██████████| 4/4 [00:15<00:00,  3.97s/it]\n",
      "100%|██████████| 4/4 [00:15<00:00,  3.97s/it]\n",
      "100%|██████████| 4/4 [00:15<00:00,  3.97s/it]\n",
      "100%|██████████| 4/4 [00:15<00:00,  3.97s/it]\n",
      "100%|██████████| 4/4 [00:15<00:00,  3.98s/it]\n",
      "100%|██████████| 4/4 [00:15<00:00,  3.97s/it]\n",
      "100%|██████████| 4/4 [00:15<00:00,  3.97s/it]\n"
     ]
    },
    {
     "name": "stdout",
     "output_type": "stream",
     "text": [
      "iter 2480: loss 6.1018, time 15891.51ms\n"
     ]
    },
    {
     "name": "stderr",
     "output_type": "stream",
     "text": [
      "100%|██████████| 4/4 [00:15<00:00,  3.96s/it]\n",
      "100%|██████████| 4/4 [00:15<00:00,  3.97s/it]\n",
      "100%|██████████| 4/4 [00:15<00:00,  3.97s/it]\n",
      "100%|██████████| 4/4 [00:15<00:00,  3.97s/it]\n",
      "100%|██████████| 4/4 [00:15<00:00,  3.97s/it]\n",
      "100%|██████████| 4/4 [00:15<00:00,  3.97s/it]\n",
      "100%|██████████| 4/4 [00:15<00:00,  3.97s/it]\n",
      "100%|██████████| 4/4 [00:15<00:00,  3.97s/it]\n",
      "100%|██████████| 4/4 [00:15<00:00,  3.97s/it]\n",
      "100%|██████████| 4/4 [00:15<00:00,  3.97s/it]\n",
      "100%|██████████| 4/4 [00:15<00:00,  3.97s/it]\n",
      "100%|██████████| 4/4 [00:15<00:00,  3.97s/it]\n",
      "100%|██████████| 4/4 [00:15<00:00,  3.98s/it]\n",
      "100%|██████████| 4/4 [00:15<00:00,  3.97s/it]\n",
      "100%|██████████| 4/4 [00:15<00:00,  3.97s/it]\n",
      "100%|██████████| 4/4 [00:15<00:00,  3.97s/it]\n",
      "100%|██████████| 4/4 [00:15<00:00,  3.97s/it]\n",
      "100%|██████████| 4/4 [00:15<00:00,  3.96s/it]\n",
      "100%|██████████| 4/4 [00:15<00:00,  3.97s/it]\n",
      "100%|██████████| 4/4 [00:15<00:00,  3.97s/it]\n"
     ]
    },
    {
     "name": "stdout",
     "output_type": "stream",
     "text": [
      "iter 2500: loss 5.6498, time 15893.98ms\n"
     ]
    },
    {
     "name": "stderr",
     "output_type": "stream",
     "text": [
      "100%|██████████| 4/4 [00:15<00:00,  3.97s/it]\n",
      "100%|██████████| 4/4 [00:15<00:00,  3.97s/it]\n",
      "100%|██████████| 4/4 [00:15<00:00,  3.97s/it]\n",
      "100%|██████████| 4/4 [00:15<00:00,  3.97s/it]\n",
      "100%|██████████| 4/4 [00:15<00:00,  3.97s/it]\n",
      "100%|██████████| 4/4 [00:15<00:00,  3.97s/it]\n",
      "100%|██████████| 4/4 [00:15<00:00,  3.97s/it]\n",
      "100%|██████████| 4/4 [00:15<00:00,  3.98s/it]\n",
      "100%|██████████| 4/4 [00:15<00:00,  3.98s/it]\n",
      "100%|██████████| 4/4 [00:15<00:00,  3.97s/it]\n",
      "100%|██████████| 4/4 [00:15<00:00,  3.97s/it]\n",
      "100%|██████████| 4/4 [00:15<00:00,  3.97s/it]\n",
      "100%|██████████| 4/4 [00:15<00:00,  3.97s/it]\n",
      "100%|██████████| 4/4 [00:15<00:00,  3.97s/it]\n",
      "100%|██████████| 4/4 [00:15<00:00,  3.97s/it]\n",
      "100%|██████████| 4/4 [00:15<00:00,  3.97s/it]\n",
      "100%|██████████| 4/4 [00:15<00:00,  3.97s/it]\n",
      "100%|██████████| 4/4 [00:15<00:00,  3.97s/it]\n",
      "100%|██████████| 4/4 [00:15<00:00,  3.97s/it]\n",
      "100%|██████████| 4/4 [00:15<00:00,  3.97s/it]\n"
     ]
    },
    {
     "name": "stdout",
     "output_type": "stream",
     "text": [
      "iter 2520: loss 6.2781, time 15916.60ms\n"
     ]
    },
    {
     "name": "stderr",
     "output_type": "stream",
     "text": [
      "100%|██████████| 4/4 [00:15<00:00,  3.96s/it]\n",
      "100%|██████████| 4/4 [00:15<00:00,  3.97s/it]\n",
      "100%|██████████| 4/4 [00:15<00:00,  3.97s/it]\n",
      "100%|██████████| 4/4 [00:15<00:00,  3.97s/it]\n",
      "100%|██████████| 4/4 [00:15<00:00,  3.97s/it]\n",
      "100%|██████████| 4/4 [00:15<00:00,  3.97s/it]\n",
      "100%|██████████| 4/4 [00:15<00:00,  3.98s/it]\n",
      "100%|██████████| 4/4 [00:15<00:00,  3.97s/it]\n",
      "100%|██████████| 4/4 [00:15<00:00,  3.97s/it]\n",
      "100%|██████████| 4/4 [00:15<00:00,  3.97s/it]\n",
      "100%|██████████| 4/4 [00:15<00:00,  3.97s/it]\n",
      "100%|██████████| 4/4 [00:15<00:00,  3.97s/it]\n",
      "100%|██████████| 4/4 [00:15<00:00,  3.97s/it]\n",
      "100%|██████████| 4/4 [00:15<00:00,  3.97s/it]\n",
      "100%|██████████| 4/4 [00:15<00:00,  3.97s/it]\n",
      "100%|██████████| 4/4 [00:15<00:00,  3.97s/it]\n",
      "100%|██████████| 4/4 [00:15<00:00,  3.97s/it]\n",
      "100%|██████████| 4/4 [00:15<00:00,  3.97s/it]\n",
      "100%|██████████| 4/4 [00:15<00:00,  3.97s/it]\n",
      "100%|██████████| 4/4 [00:15<00:00,  3.97s/it]\n"
     ]
    },
    {
     "name": "stdout",
     "output_type": "stream",
     "text": [
      "iter 2540: loss 6.3228, time 15891.10ms\n"
     ]
    },
    {
     "name": "stderr",
     "output_type": "stream",
     "text": [
      "100%|██████████| 4/4 [00:15<00:00,  3.96s/it]\n",
      "100%|██████████| 4/4 [00:15<00:00,  3.97s/it]\n",
      "100%|██████████| 4/4 [00:15<00:00,  3.97s/it]\n",
      "100%|██████████| 4/4 [00:15<00:00,  3.97s/it]\n",
      "100%|██████████| 4/4 [00:15<00:00,  3.97s/it]\n",
      "100%|██████████| 4/4 [00:15<00:00,  3.97s/it]\n",
      "100%|██████████| 4/4 [00:15<00:00,  3.97s/it]\n",
      "100%|██████████| 4/4 [00:15<00:00,  3.97s/it]\n",
      "100%|██████████| 4/4 [00:15<00:00,  3.97s/it]\n",
      "100%|██████████| 4/4 [00:15<00:00,  3.97s/it]\n",
      "100%|██████████| 4/4 [00:15<00:00,  3.97s/it]\n",
      "100%|██████████| 4/4 [00:15<00:00,  3.97s/it]\n",
      "100%|██████████| 4/4 [00:15<00:00,  3.97s/it]\n",
      "100%|██████████| 4/4 [00:15<00:00,  3.97s/it]\n",
      "100%|██████████| 4/4 [00:15<00:00,  3.97s/it]\n",
      "100%|██████████| 4/4 [00:15<00:00,  3.97s/it]\n",
      "100%|██████████| 4/4 [00:15<00:00,  3.97s/it]\n",
      "100%|██████████| 4/4 [00:15<00:00,  3.98s/it]\n",
      "100%|██████████| 4/4 [00:15<00:00,  3.97s/it]\n",
      "100%|██████████| 4/4 [00:15<00:00,  3.98s/it]\n"
     ]
    },
    {
     "name": "stdout",
     "output_type": "stream",
     "text": [
      "iter 2560: loss 6.1556, time 15928.31ms\n"
     ]
    },
    {
     "name": "stderr",
     "output_type": "stream",
     "text": [
      "100%|██████████| 4/4 [00:15<00:00,  3.97s/it]\n",
      "100%|██████████| 4/4 [00:15<00:00,  3.97s/it]\n",
      "100%|██████████| 4/4 [00:15<00:00,  3.97s/it]\n",
      "100%|██████████| 4/4 [00:15<00:00,  3.97s/it]\n",
      "100%|██████████| 4/4 [00:15<00:00,  3.97s/it]\n",
      "100%|██████████| 4/4 [00:15<00:00,  3.97s/it]\n",
      "100%|██████████| 4/4 [00:15<00:00,  3.97s/it]\n",
      "100%|██████████| 4/4 [00:15<00:00,  3.97s/it]\n",
      "100%|██████████| 4/4 [00:15<00:00,  3.98s/it]\n",
      "100%|██████████| 4/4 [00:15<00:00,  3.97s/it]\n",
      "100%|██████████| 4/4 [00:15<00:00,  3.97s/it]\n",
      "100%|██████████| 4/4 [00:15<00:00,  3.97s/it]\n",
      "100%|██████████| 4/4 [00:15<00:00,  3.98s/it]\n",
      "100%|██████████| 4/4 [00:15<00:00,  3.97s/it]\n",
      "100%|██████████| 4/4 [00:15<00:00,  3.97s/it]\n",
      "100%|██████████| 4/4 [00:15<00:00,  3.97s/it]\n",
      "100%|██████████| 4/4 [00:15<00:00,  3.97s/it]\n",
      "100%|██████████| 4/4 [00:15<00:00,  3.97s/it]\n",
      "100%|██████████| 4/4 [00:15<00:00,  3.97s/it]\n",
      "100%|██████████| 4/4 [00:15<00:00,  3.98s/it]\n"
     ]
    },
    {
     "name": "stdout",
     "output_type": "stream",
     "text": [
      "iter 2580: loss 6.5414, time 15936.43ms\n"
     ]
    },
    {
     "name": "stderr",
     "output_type": "stream",
     "text": [
      "100%|██████████| 4/4 [00:15<00:00,  3.96s/it]\n",
      "100%|██████████| 4/4 [00:15<00:00,  3.97s/it]\n",
      "100%|██████████| 4/4 [00:15<00:00,  3.97s/it]\n",
      "100%|██████████| 4/4 [00:15<00:00,  3.97s/it]\n",
      "100%|██████████| 4/4 [00:15<00:00,  3.97s/it]\n",
      "100%|██████████| 4/4 [00:15<00:00,  3.97s/it]\n",
      "100%|██████████| 4/4 [00:15<00:00,  3.97s/it]\n",
      "100%|██████████| 4/4 [00:15<00:00,  3.97s/it]\n",
      "100%|██████████| 4/4 [00:15<00:00,  3.97s/it]\n",
      "100%|██████████| 4/4 [00:15<00:00,  3.97s/it]\n",
      "100%|██████████| 4/4 [00:15<00:00,  3.98s/it]\n",
      "100%|██████████| 4/4 [00:15<00:00,  3.97s/it]\n",
      "100%|██████████| 4/4 [00:15<00:00,  3.97s/it]\n",
      "100%|██████████| 4/4 [00:15<00:00,  3.97s/it]\n",
      "100%|██████████| 4/4 [00:15<00:00,  3.98s/it]\n",
      "100%|██████████| 4/4 [00:15<00:00,  3.97s/it]\n",
      "100%|██████████| 4/4 [00:15<00:00,  3.97s/it]\n",
      "100%|██████████| 4/4 [00:15<00:00,  3.97s/it]\n",
      "100%|██████████| 4/4 [00:15<00:00,  3.98s/it]\n"
     ]
    },
    {
     "name": "stdout",
     "output_type": "stream",
     "text": [
      "step 2600: train loss 6.1243, val loss 6.1294\n",
      "train ppl 456.84, val ppl 459.16\n",
      "📈 Train/Val Gap: 0.0051 (0.08%)\n",
      "✅ 新的最佳驗證損失: 6.1294\n"
     ]
    },
    {
     "name": "stderr",
     "output_type": "stream",
     "text": [
      "100%|██████████| 4/4 [00:15<00:00,  3.96s/it]\n"
     ]
    },
    {
     "name": "stdout",
     "output_type": "stream",
     "text": [
      "iter 2600: loss 6.0919, time 111398.10ms\n"
     ]
    },
    {
     "name": "stderr",
     "output_type": "stream",
     "text": [
      "100%|██████████| 4/4 [00:15<00:00,  3.96s/it]\n",
      "100%|██████████| 4/4 [00:15<00:00,  3.97s/it]\n",
      "100%|██████████| 4/4 [00:15<00:00,  3.97s/it]\n",
      "100%|██████████| 4/4 [00:15<00:00,  3.97s/it]\n",
      "100%|██████████| 4/4 [00:15<00:00,  3.97s/it]\n",
      "100%|██████████| 4/4 [00:15<00:00,  3.97s/it]\n",
      "100%|██████████| 4/4 [00:15<00:00,  3.97s/it]\n",
      "100%|██████████| 4/4 [00:15<00:00,  3.97s/it]\n",
      "100%|██████████| 4/4 [00:15<00:00,  3.96s/it]\n",
      "100%|██████████| 4/4 [00:15<00:00,  3.97s/it]\n",
      "100%|██████████| 4/4 [00:15<00:00,  3.97s/it]\n",
      "100%|██████████| 4/4 [00:15<00:00,  3.97s/it]\n",
      "100%|██████████| 4/4 [00:15<00:00,  3.96s/it]\n",
      "100%|██████████| 4/4 [00:15<00:00,  3.99s/it]\n",
      "100%|██████████| 4/4 [00:15<00:00,  3.97s/it]\n",
      "100%|██████████| 4/4 [00:15<00:00,  3.97s/it]\n",
      "100%|██████████| 4/4 [00:15<00:00,  3.97s/it]\n",
      "100%|██████████| 4/4 [00:15<00:00,  3.97s/it]\n",
      "100%|██████████| 4/4 [00:15<00:00,  3.97s/it]\n",
      "100%|██████████| 4/4 [00:15<00:00,  3.97s/it]\n"
     ]
    },
    {
     "name": "stdout",
     "output_type": "stream",
     "text": [
      "iter 2620: loss 6.3552, time 15901.15ms\n"
     ]
    },
    {
     "name": "stderr",
     "output_type": "stream",
     "text": [
      "100%|██████████| 4/4 [00:15<00:00,  3.96s/it]\n",
      "100%|██████████| 4/4 [00:15<00:00,  3.97s/it]\n",
      "100%|██████████| 4/4 [00:15<00:00,  3.97s/it]\n",
      "100%|██████████| 4/4 [00:15<00:00,  3.97s/it]\n",
      "100%|██████████| 4/4 [00:15<00:00,  3.96s/it]\n",
      "100%|██████████| 4/4 [00:15<00:00,  3.99s/it]\n",
      "100%|██████████| 4/4 [00:15<00:00,  3.97s/it]\n",
      "100%|██████████| 4/4 [00:15<00:00,  3.96s/it]\n",
      "100%|██████████| 4/4 [00:15<00:00,  3.88s/it]\n",
      "100%|██████████| 4/4 [00:15<00:00,  3.89s/it]\n",
      "100%|██████████| 4/4 [00:15<00:00,  3.89s/it]\n",
      "100%|██████████| 4/4 [00:15<00:00,  3.89s/it]\n",
      "100%|██████████| 4/4 [00:15<00:00,  3.89s/it]\n",
      "100%|██████████| 4/4 [00:15<00:00,  3.88s/it]\n",
      "100%|██████████| 4/4 [00:15<00:00,  3.89s/it]\n",
      "100%|██████████| 4/4 [00:15<00:00,  3.89s/it]\n",
      "100%|██████████| 4/4 [00:15<00:00,  3.89s/it]\n",
      "100%|██████████| 4/4 [00:15<00:00,  3.89s/it]\n",
      "100%|██████████| 4/4 [00:15<00:00,  3.89s/it]\n",
      "100%|██████████| 4/4 [00:15<00:00,  3.89s/it]\n"
     ]
    },
    {
     "name": "stdout",
     "output_type": "stream",
     "text": [
      "iter 2640: loss 6.3670, time 15584.53ms\n"
     ]
    },
    {
     "name": "stderr",
     "output_type": "stream",
     "text": [
      "100%|██████████| 4/4 [00:15<00:00,  3.88s/it]\n",
      "100%|██████████| 4/4 [00:15<00:00,  3.91s/it]\n",
      "100%|██████████| 4/4 [00:15<00:00,  3.88s/it]\n",
      "100%|██████████| 4/4 [00:15<00:00,  3.88s/it]\n",
      "100%|██████████| 4/4 [00:15<00:00,  3.88s/it]\n",
      "100%|██████████| 4/4 [00:15<00:00,  3.89s/it]\n",
      "100%|██████████| 4/4 [00:15<00:00,  3.89s/it]\n",
      "100%|██████████| 4/4 [00:15<00:00,  3.89s/it]\n",
      "100%|██████████| 4/4 [00:15<00:00,  3.89s/it]\n",
      "100%|██████████| 4/4 [00:15<00:00,  3.89s/it]\n",
      "100%|██████████| 4/4 [00:15<00:00,  3.89s/it]\n",
      "100%|██████████| 4/4 [00:15<00:00,  3.89s/it]\n",
      "100%|██████████| 4/4 [00:15<00:00,  3.88s/it]\n",
      "100%|██████████| 4/4 [00:15<00:00,  3.89s/it]\n",
      "100%|██████████| 4/4 [00:15<00:00,  3.89s/it]\n",
      "100%|██████████| 4/4 [00:15<00:00,  3.89s/it]\n",
      "100%|██████████| 4/4 [00:15<00:00,  3.88s/it]\n",
      "100%|██████████| 4/4 [00:15<00:00,  3.89s/it]\n",
      "100%|██████████| 4/4 [00:15<00:00,  3.88s/it]\n",
      "100%|██████████| 4/4 [00:15<00:00,  3.89s/it]\n"
     ]
    },
    {
     "name": "stdout",
     "output_type": "stream",
     "text": [
      "iter 2660: loss 6.3134, time 15569.08ms\n"
     ]
    },
    {
     "name": "stderr",
     "output_type": "stream",
     "text": [
      "100%|██████████| 4/4 [00:15<00:00,  3.88s/it]\n",
      "100%|██████████| 4/4 [00:15<00:00,  3.89s/it]\n",
      "100%|██████████| 4/4 [00:15<00:00,  3.88s/it]\n",
      "100%|██████████| 4/4 [00:15<00:00,  3.88s/it]\n",
      "100%|██████████| 4/4 [00:15<00:00,  3.89s/it]\n",
      "100%|██████████| 4/4 [00:15<00:00,  3.89s/it]\n",
      "100%|██████████| 4/4 [00:15<00:00,  3.88s/it]\n",
      "100%|██████████| 4/4 [00:15<00:00,  3.88s/it]\n",
      "100%|██████████| 4/4 [00:15<00:00,  3.89s/it]\n",
      "100%|██████████| 4/4 [00:15<00:00,  3.88s/it]\n",
      "100%|██████████| 4/4 [00:15<00:00,  3.88s/it]\n",
      "100%|██████████| 4/4 [00:15<00:00,  3.89s/it]\n",
      "100%|██████████| 4/4 [00:15<00:00,  3.88s/it]\n",
      "100%|██████████| 4/4 [00:15<00:00,  3.88s/it]\n",
      "100%|██████████| 4/4 [00:15<00:00,  3.89s/it]\n",
      "100%|██████████| 4/4 [00:15<00:00,  3.89s/it]\n",
      "100%|██████████| 4/4 [00:15<00:00,  3.89s/it]\n",
      "100%|██████████| 4/4 [00:15<00:00,  3.89s/it]\n",
      "100%|██████████| 4/4 [00:15<00:00,  3.88s/it]\n",
      "100%|██████████| 4/4 [00:15<00:00,  3.88s/it]\n"
     ]
    },
    {
     "name": "stdout",
     "output_type": "stream",
     "text": [
      "iter 2680: loss 5.8030, time 15561.04ms\n"
     ]
    },
    {
     "name": "stderr",
     "output_type": "stream",
     "text": [
      "100%|██████████| 4/4 [00:15<00:00,  3.88s/it]\n",
      "100%|██████████| 4/4 [00:15<00:00,  3.89s/it]\n",
      "100%|██████████| 4/4 [00:15<00:00,  3.88s/it]\n",
      "100%|██████████| 4/4 [00:15<00:00,  3.89s/it]\n",
      "100%|██████████| 4/4 [00:15<00:00,  3.89s/it]\n",
      "100%|██████████| 4/4 [00:15<00:00,  3.89s/it]\n",
      "100%|██████████| 4/4 [00:15<00:00,  3.88s/it]\n",
      "100%|██████████| 4/4 [00:15<00:00,  3.89s/it]\n",
      "100%|██████████| 4/4 [00:15<00:00,  3.89s/it]\n",
      "100%|██████████| 4/4 [00:15<00:00,  3.88s/it]\n",
      "100%|██████████| 4/4 [00:15<00:00,  3.88s/it]\n",
      "100%|██████████| 4/4 [00:15<00:00,  3.89s/it]\n",
      "100%|██████████| 4/4 [00:15<00:00,  3.89s/it]\n",
      "100%|██████████| 4/4 [00:15<00:00,  3.89s/it]\n",
      "100%|██████████| 4/4 [00:15<00:00,  3.88s/it]\n",
      "100%|██████████| 4/4 [00:15<00:00,  3.89s/it]\n",
      "100%|██████████| 4/4 [00:15<00:00,  3.88s/it]\n",
      "100%|██████████| 4/4 [00:15<00:00,  3.89s/it]\n",
      "100%|██████████| 4/4 [00:15<00:00,  3.89s/it]\n",
      "100%|██████████| 4/4 [00:15<00:00,  3.89s/it]\n"
     ]
    },
    {
     "name": "stdout",
     "output_type": "stream",
     "text": [
      "iter 2700: loss 6.1043, time 15575.95ms\n"
     ]
    },
    {
     "name": "stderr",
     "output_type": "stream",
     "text": [
      "100%|██████████| 4/4 [00:15<00:00,  3.88s/it]\n",
      "100%|██████████| 4/4 [00:15<00:00,  3.88s/it]\n",
      "100%|██████████| 4/4 [00:15<00:00,  3.88s/it]\n",
      "100%|██████████| 4/4 [00:15<00:00,  3.89s/it]\n",
      "100%|██████████| 4/4 [00:15<00:00,  3.88s/it]\n",
      "100%|██████████| 4/4 [00:15<00:00,  3.89s/it]\n",
      "100%|██████████| 4/4 [00:15<00:00,  3.88s/it]\n",
      "100%|██████████| 4/4 [00:15<00:00,  3.89s/it]\n",
      "100%|██████████| 4/4 [00:15<00:00,  3.88s/it]\n",
      "100%|██████████| 4/4 [00:15<00:00,  3.88s/it]\n",
      "100%|██████████| 4/4 [00:15<00:00,  3.89s/it]\n",
      "100%|██████████| 4/4 [00:15<00:00,  3.89s/it]\n",
      "100%|██████████| 4/4 [00:15<00:00,  3.88s/it]\n",
      "100%|██████████| 4/4 [00:15<00:00,  3.89s/it]\n",
      "100%|██████████| 4/4 [00:15<00:00,  3.89s/it]\n",
      "100%|██████████| 4/4 [00:15<00:00,  3.89s/it]\n",
      "100%|██████████| 4/4 [00:15<00:00,  3.88s/it]\n",
      "100%|██████████| 4/4 [00:15<00:00,  3.89s/it]\n",
      "100%|██████████| 4/4 [00:15<00:00,  3.90s/it]\n",
      "100%|██████████| 4/4 [00:15<00:00,  3.96s/it]\n"
     ]
    },
    {
     "name": "stdout",
     "output_type": "stream",
     "text": [
      "iter 2720: loss 6.6389, time 15848.86ms\n"
     ]
    },
    {
     "name": "stderr",
     "output_type": "stream",
     "text": [
      "100%|██████████| 4/4 [00:15<00:00,  3.95s/it]\n",
      "100%|██████████| 4/4 [00:15<00:00,  3.96s/it]\n",
      "100%|██████████| 4/4 [00:15<00:00,  3.96s/it]\n",
      "100%|██████████| 4/4 [00:15<00:00,  3.96s/it]\n",
      "100%|██████████| 4/4 [00:15<00:00,  3.96s/it]\n",
      "100%|██████████| 4/4 [00:15<00:00,  3.96s/it]\n",
      "100%|██████████| 4/4 [00:15<00:00,  3.96s/it]\n",
      "100%|██████████| 4/4 [00:15<00:00,  3.96s/it]\n",
      "100%|██████████| 4/4 [00:15<00:00,  3.96s/it]\n",
      "100%|██████████| 4/4 [00:15<00:00,  3.96s/it]\n",
      "100%|██████████| 4/4 [00:15<00:00,  3.96s/it]\n",
      "100%|██████████| 4/4 [00:15<00:00,  3.96s/it]\n",
      "100%|██████████| 4/4 [00:15<00:00,  3.96s/it]\n",
      "100%|██████████| 4/4 [00:15<00:00,  3.95s/it]\n",
      "100%|██████████| 4/4 [00:15<00:00,  3.96s/it]\n",
      "100%|██████████| 4/4 [00:15<00:00,  3.96s/it]\n",
      "100%|██████████| 4/4 [00:15<00:00,  3.96s/it]\n",
      "100%|██████████| 4/4 [00:15<00:00,  3.96s/it]\n",
      "100%|██████████| 4/4 [00:15<00:00,  3.95s/it]\n",
      "100%|██████████| 4/4 [00:15<00:00,  3.95s/it]\n"
     ]
    },
    {
     "name": "stdout",
     "output_type": "stream",
     "text": [
      "iter 2740: loss 6.1456, time 15838.90ms\n"
     ]
    },
    {
     "name": "stderr",
     "output_type": "stream",
     "text": [
      "100%|██████████| 4/4 [00:15<00:00,  3.95s/it]\n",
      "100%|██████████| 4/4 [00:15<00:00,  3.96s/it]\n",
      "100%|██████████| 4/4 [00:15<00:00,  3.95s/it]\n",
      "100%|██████████| 4/4 [00:15<00:00,  3.94s/it]\n",
      "100%|██████████| 4/4 [00:15<00:00,  3.92s/it]\n",
      "100%|██████████| 4/4 [00:15<00:00,  3.93s/it]\n",
      "100%|██████████| 4/4 [00:15<00:00,  3.92s/it]\n",
      "100%|██████████| 4/4 [00:15<00:00,  3.92s/it]\n",
      "100%|██████████| 4/4 [00:15<00:00,  3.92s/it]\n",
      "100%|██████████| 4/4 [00:15<00:00,  3.93s/it]\n",
      "100%|██████████| 4/4 [00:15<00:00,  3.92s/it]\n",
      "100%|██████████| 4/4 [00:15<00:00,  3.92s/it]\n",
      "100%|██████████| 4/4 [00:15<00:00,  3.92s/it]\n",
      "100%|██████████| 4/4 [00:15<00:00,  3.93s/it]\n",
      "100%|██████████| 4/4 [00:15<00:00,  3.92s/it]\n",
      "100%|██████████| 4/4 [00:15<00:00,  3.92s/it]\n",
      "100%|██████████| 4/4 [00:15<00:00,  3.92s/it]\n",
      "100%|██████████| 4/4 [00:15<00:00,  3.93s/it]\n",
      "100%|██████████| 4/4 [00:15<00:00,  3.92s/it]\n",
      "100%|██████████| 4/4 [00:15<00:00,  3.92s/it]\n"
     ]
    },
    {
     "name": "stdout",
     "output_type": "stream",
     "text": [
      "iter 2760: loss 6.0592, time 15703.21ms\n"
     ]
    },
    {
     "name": "stderr",
     "output_type": "stream",
     "text": [
      "100%|██████████| 4/4 [00:15<00:00,  3.91s/it]\n",
      "100%|██████████| 4/4 [00:15<00:00,  3.92s/it]\n",
      "100%|██████████| 4/4 [00:15<00:00,  3.92s/it]\n",
      "100%|██████████| 4/4 [00:15<00:00,  3.92s/it]\n",
      "100%|██████████| 4/4 [00:15<00:00,  3.93s/it]\n",
      "100%|██████████| 4/4 [00:15<00:00,  3.92s/it]\n",
      "100%|██████████| 4/4 [00:15<00:00,  3.92s/it]\n",
      "100%|██████████| 4/4 [00:15<00:00,  3.92s/it]\n",
      "100%|██████████| 4/4 [00:15<00:00,  3.93s/it]\n",
      "100%|██████████| 4/4 [00:15<00:00,  3.92s/it]\n",
      "100%|██████████| 4/4 [00:15<00:00,  3.92s/it]\n",
      "100%|██████████| 4/4 [00:15<00:00,  3.92s/it]\n",
      "100%|██████████| 4/4 [00:15<00:00,  3.93s/it]\n",
      "100%|██████████| 4/4 [00:15<00:00,  3.92s/it]\n",
      "100%|██████████| 4/4 [00:15<00:00,  3.92s/it]\n",
      "100%|██████████| 4/4 [00:15<00:00,  3.93s/it]\n",
      "100%|██████████| 4/4 [00:15<00:00,  3.92s/it]\n",
      "100%|██████████| 4/4 [00:15<00:00,  3.92s/it]\n",
      "100%|██████████| 4/4 [00:15<00:00,  3.92s/it]\n",
      "100%|██████████| 4/4 [00:15<00:00,  3.93s/it]\n"
     ]
    },
    {
     "name": "stdout",
     "output_type": "stream",
     "text": [
      "iter 2780: loss 6.3840, time 15726.11ms\n"
     ]
    },
    {
     "name": "stderr",
     "output_type": "stream",
     "text": [
      "100%|██████████| 4/4 [00:15<00:00,  3.92s/it]\n",
      "100%|██████████| 4/4 [00:15<00:00,  3.92s/it]\n",
      "100%|██████████| 4/4 [00:15<00:00,  3.92s/it]\n",
      "100%|██████████| 4/4 [00:15<00:00,  3.92s/it]\n",
      "100%|██████████| 4/4 [00:15<00:00,  3.92s/it]\n",
      "100%|██████████| 4/4 [00:15<00:00,  3.92s/it]\n",
      "100%|██████████| 4/4 [00:15<00:00,  3.92s/it]\n",
      "100%|██████████| 4/4 [00:15<00:00,  3.92s/it]\n",
      "100%|██████████| 4/4 [00:15<00:00,  3.92s/it]\n",
      "100%|██████████| 4/4 [00:15<00:00,  3.92s/it]\n",
      "100%|██████████| 4/4 [00:15<00:00,  3.92s/it]\n",
      "100%|██████████| 4/4 [00:15<00:00,  3.92s/it]\n",
      "100%|██████████| 4/4 [00:15<00:00,  3.92s/it]\n",
      "100%|██████████| 4/4 [00:15<00:00,  3.92s/it]\n",
      "100%|██████████| 4/4 [00:15<00:00,  3.92s/it]\n",
      "100%|██████████| 4/4 [00:15<00:00,  3.92s/it]\n",
      "100%|██████████| 4/4 [00:15<00:00,  3.92s/it]\n",
      "100%|██████████| 4/4 [00:15<00:00,  3.93s/it]\n",
      "100%|██████████| 4/4 [00:15<00:00,  3.92s/it]\n"
     ]
    },
    {
     "name": "stdout",
     "output_type": "stream",
     "text": [
      "step 2800: train loss 6.0965, val loss 6.1478\n",
      "train ppl 444.30, val ppl 467.68\n",
      "📈 Train/Val Gap: 0.0513 (0.84%)\n"
     ]
    },
    {
     "name": "stderr",
     "output_type": "stream",
     "text": [
      "100%|██████████| 4/4 [00:15<00:00,  3.92s/it]\n"
     ]
    },
    {
     "name": "stdout",
     "output_type": "stream",
     "text": [
      "iter 2800: loss 5.9921, time 110983.20ms\n"
     ]
    },
    {
     "name": "stderr",
     "output_type": "stream",
     "text": [
      "100%|██████████| 4/4 [00:15<00:00,  3.92s/it]\n",
      "100%|██████████| 4/4 [00:15<00:00,  3.92s/it]\n",
      "100%|██████████| 4/4 [00:15<00:00,  3.92s/it]\n",
      "100%|██████████| 4/4 [00:15<00:00,  3.92s/it]\n",
      "100%|██████████| 4/4 [00:15<00:00,  3.93s/it]\n",
      "100%|██████████| 4/4 [00:15<00:00,  3.92s/it]\n",
      "100%|██████████| 4/4 [00:15<00:00,  3.92s/it]\n",
      "100%|██████████| 4/4 [00:15<00:00,  3.92s/it]\n",
      "100%|██████████| 4/4 [00:15<00:00,  3.92s/it]\n",
      "100%|██████████| 4/4 [00:15<00:00,  3.92s/it]\n",
      "100%|██████████| 4/4 [00:15<00:00,  3.92s/it]\n",
      "100%|██████████| 4/4 [00:15<00:00,  3.92s/it]\n",
      "100%|██████████| 4/4 [00:15<00:00,  3.92s/it]\n",
      "100%|██████████| 4/4 [00:15<00:00,  3.92s/it]\n",
      "100%|██████████| 4/4 [00:15<00:00,  3.94s/it]\n",
      "100%|██████████| 4/4 [00:15<00:00,  3.92s/it]\n",
      "100%|██████████| 4/4 [00:15<00:00,  3.92s/it]\n",
      "100%|██████████| 4/4 [00:15<00:00,  3.92s/it]\n",
      "100%|██████████| 4/4 [00:15<00:00,  3.92s/it]\n",
      "100%|██████████| 4/4 [00:15<00:00,  3.92s/it]\n"
     ]
    },
    {
     "name": "stdout",
     "output_type": "stream",
     "text": [
      "iter 2820: loss 5.6553, time 15711.39ms\n"
     ]
    },
    {
     "name": "stderr",
     "output_type": "stream",
     "text": [
      "100%|██████████| 4/4 [00:15<00:00,  3.91s/it]\n",
      "100%|██████████| 4/4 [00:15<00:00,  3.92s/it]\n",
      "100%|██████████| 4/4 [00:15<00:00,  3.92s/it]\n",
      "100%|██████████| 4/4 [00:15<00:00,  3.92s/it]\n",
      "100%|██████████| 4/4 [00:15<00:00,  3.92s/it]\n",
      "100%|██████████| 4/4 [00:15<00:00,  3.92s/it]\n",
      "100%|██████████| 4/4 [00:15<00:00,  3.94s/it]\n",
      "100%|██████████| 4/4 [00:15<00:00,  3.92s/it]\n",
      "100%|██████████| 4/4 [00:15<00:00,  3.92s/it]\n",
      "100%|██████████| 4/4 [00:15<00:00,  3.92s/it]\n",
      "100%|██████████| 4/4 [00:15<00:00,  3.92s/it]\n",
      "100%|██████████| 4/4 [00:15<00:00,  3.92s/it]\n",
      "100%|██████████| 4/4 [00:15<00:00,  3.92s/it]\n",
      "100%|██████████| 4/4 [00:15<00:00,  3.92s/it]\n",
      "100%|██████████| 4/4 [00:15<00:00,  3.93s/it]\n",
      "100%|██████████| 4/4 [00:15<00:00,  3.92s/it]\n",
      "100%|██████████| 4/4 [00:15<00:00,  3.92s/it]\n",
      "100%|██████████| 4/4 [00:15<00:00,  3.92s/it]\n",
      "100%|██████████| 4/4 [00:15<00:00,  3.92s/it]\n",
      "100%|██████████| 4/4 [00:15<00:00,  3.92s/it]\n"
     ]
    },
    {
     "name": "stdout",
     "output_type": "stream",
     "text": [
      "iter 2840: loss 6.1797, time 15719.24ms\n"
     ]
    },
    {
     "name": "stderr",
     "output_type": "stream",
     "text": [
      "100%|██████████| 4/4 [00:15<00:00,  3.92s/it]\n",
      "100%|██████████| 4/4 [00:15<00:00,  3.92s/it]\n",
      "100%|██████████| 4/4 [00:15<00:00,  3.94s/it]\n",
      "100%|██████████| 4/4 [00:15<00:00,  3.92s/it]\n",
      "100%|██████████| 4/4 [00:15<00:00,  3.92s/it]\n",
      "100%|██████████| 4/4 [00:15<00:00,  3.90s/it]\n",
      "100%|██████████| 4/4 [00:15<00:00,  3.85s/it]\n",
      "100%|██████████| 4/4 [00:15<00:00,  3.85s/it]\n",
      "100%|██████████| 4/4 [00:15<00:00,  3.85s/it]\n",
      "100%|██████████| 4/4 [00:15<00:00,  3.85s/it]\n",
      "100%|██████████| 4/4 [00:15<00:00,  3.85s/it]\n",
      "100%|██████████| 4/4 [00:15<00:00,  3.85s/it]\n",
      "100%|██████████| 4/4 [00:15<00:00,  3.89s/it]\n",
      "100%|██████████| 4/4 [00:15<00:00,  3.92s/it]\n",
      "100%|██████████| 4/4 [00:15<00:00,  3.92s/it]\n",
      "100%|██████████| 4/4 [00:15<00:00,  3.92s/it]\n",
      "100%|██████████| 4/4 [00:15<00:00,  3.92s/it]\n",
      "100%|██████████| 4/4 [00:15<00:00,  3.92s/it]\n",
      "100%|██████████| 4/4 [00:15<00:00,  3.92s/it]\n",
      "100%|██████████| 4/4 [00:15<00:00,  3.92s/it]\n"
     ]
    },
    {
     "name": "stdout",
     "output_type": "stream",
     "text": [
      "iter 2860: loss 6.2865, time 15706.10ms\n"
     ]
    },
    {
     "name": "stderr",
     "output_type": "stream",
     "text": [
      "100%|██████████| 4/4 [00:15<00:00,  3.92s/it]\n",
      "100%|██████████| 4/4 [00:15<00:00,  3.93s/it]\n",
      "100%|██████████| 4/4 [00:15<00:00,  3.92s/it]\n",
      "100%|██████████| 4/4 [00:15<00:00,  3.92s/it]\n",
      "100%|██████████| 4/4 [00:15<00:00,  3.92s/it]\n",
      "100%|██████████| 4/4 [00:15<00:00,  3.92s/it]\n",
      "100%|██████████| 4/4 [00:15<00:00,  3.92s/it]\n",
      "100%|██████████| 4/4 [00:15<00:00,  3.92s/it]\n",
      "100%|██████████| 4/4 [00:15<00:00,  3.92s/it]\n",
      "100%|██████████| 4/4 [00:15<00:00,  3.93s/it]\n",
      "100%|██████████| 4/4 [00:15<00:00,  3.92s/it]\n",
      "100%|██████████| 4/4 [00:15<00:00,  3.92s/it]\n",
      "100%|██████████| 4/4 [00:15<00:00,  3.92s/it]\n",
      "100%|██████████| 4/4 [00:15<00:00,  3.92s/it]\n",
      "100%|██████████| 4/4 [00:15<00:00,  3.92s/it]\n",
      "100%|██████████| 4/4 [00:15<00:00,  3.92s/it]\n",
      "100%|██████████| 4/4 [00:15<00:00,  3.92s/it]\n",
      "100%|██████████| 4/4 [00:15<00:00,  3.92s/it]\n",
      "100%|██████████| 4/4 [00:15<00:00,  3.92s/it]\n",
      "100%|██████████| 4/4 [00:15<00:00,  3.92s/it]\n"
     ]
    },
    {
     "name": "stdout",
     "output_type": "stream",
     "text": [
      "iter 2880: loss 6.0737, time 15720.77ms\n"
     ]
    },
    {
     "name": "stderr",
     "output_type": "stream",
     "text": [
      "100%|██████████| 4/4 [00:15<00:00,  3.92s/it]\n",
      "100%|██████████| 4/4 [00:15<00:00,  3.92s/it]\n",
      "100%|██████████| 4/4 [00:15<00:00,  3.92s/it]\n",
      "100%|██████████| 4/4 [00:15<00:00,  3.92s/it]\n",
      "100%|██████████| 4/4 [00:15<00:00,  3.92s/it]\n",
      "100%|██████████| 4/4 [00:15<00:00,  3.92s/it]\n",
      "100%|██████████| 4/4 [00:15<00:00,  3.92s/it]\n",
      "100%|██████████| 4/4 [00:15<00:00,  3.92s/it]\n",
      "100%|██████████| 4/4 [00:15<00:00,  3.93s/it]\n",
      "100%|██████████| 4/4 [00:15<00:00,  3.92s/it]\n",
      "100%|██████████| 4/4 [00:15<00:00,  3.92s/it]\n",
      "100%|██████████| 4/4 [00:15<00:00,  3.92s/it]\n",
      "100%|██████████| 4/4 [00:15<00:00,  3.93s/it]\n",
      "100%|██████████| 4/4 [00:15<00:00,  3.92s/it]\n",
      "100%|██████████| 4/4 [00:15<00:00,  3.92s/it]\n",
      "100%|██████████| 4/4 [00:15<00:00,  3.92s/it]\n",
      "100%|██████████| 4/4 [00:15<00:00,  3.93s/it]\n",
      "100%|██████████| 4/4 [00:15<00:00,  3.92s/it]\n",
      "100%|██████████| 4/4 [00:15<00:00,  3.92s/it]\n",
      "100%|██████████| 4/4 [00:15<00:00,  3.93s/it]\n"
     ]
    },
    {
     "name": "stdout",
     "output_type": "stream",
     "text": [
      "iter 2900: loss 5.7284, time 15747.84ms\n"
     ]
    },
    {
     "name": "stderr",
     "output_type": "stream",
     "text": [
      "100%|██████████| 4/4 [00:15<00:00,  3.92s/it]\n",
      "100%|██████████| 4/4 [00:15<00:00,  3.93s/it]\n",
      "100%|██████████| 4/4 [00:15<00:00,  3.93s/it]\n",
      "100%|██████████| 4/4 [00:15<00:00,  3.93s/it]\n",
      "100%|██████████| 4/4 [00:15<00:00,  3.92s/it]\n",
      "100%|██████████| 4/4 [00:15<00:00,  3.92s/it]\n",
      "100%|██████████| 4/4 [00:15<00:00,  3.92s/it]\n",
      "100%|██████████| 4/4 [00:15<00:00,  3.93s/it]\n",
      "100%|██████████| 4/4 [00:15<00:00,  3.92s/it]\n",
      "100%|██████████| 4/4 [00:15<00:00,  3.92s/it]\n",
      "100%|██████████| 4/4 [00:15<00:00,  3.92s/it]\n",
      "100%|██████████| 4/4 [00:15<00:00,  3.93s/it]\n",
      "100%|██████████| 4/4 [00:15<00:00,  3.92s/it]\n",
      "100%|██████████| 4/4 [00:15<00:00,  3.92s/it]\n",
      "100%|██████████| 4/4 [00:15<00:00,  3.92s/it]\n",
      "100%|██████████| 4/4 [00:15<00:00,  3.93s/it]\n",
      "100%|██████████| 4/4 [00:15<00:00,  3.92s/it]\n",
      "100%|██████████| 4/4 [00:15<00:00,  3.92s/it]\n",
      "100%|██████████| 4/4 [00:15<00:00,  3.92s/it]\n",
      "100%|██████████| 4/4 [00:15<00:00,  3.92s/it]\n"
     ]
    },
    {
     "name": "stdout",
     "output_type": "stream",
     "text": [
      "iter 2920: loss 6.1116, time 15714.45ms\n"
     ]
    },
    {
     "name": "stderr",
     "output_type": "stream",
     "text": [
      "100%|██████████| 4/4 [00:15<00:00,  3.92s/it]\n",
      "100%|██████████| 4/4 [00:15<00:00,  3.92s/it]\n",
      "100%|██████████| 4/4 [00:15<00:00,  3.92s/it]\n",
      "100%|██████████| 4/4 [00:15<00:00,  3.92s/it]\n",
      "100%|██████████| 4/4 [00:15<00:00,  3.91s/it]\n",
      "100%|██████████| 4/4 [00:15<00:00,  3.86s/it]\n",
      "100%|██████████| 4/4 [00:15<00:00,  3.87s/it]\n",
      "100%|██████████| 4/4 [00:15<00:00,  3.86s/it]\n",
      "100%|██████████| 4/4 [00:15<00:00,  3.86s/it]\n",
      "100%|██████████| 4/4 [00:15<00:00,  3.86s/it]\n",
      "100%|██████████| 4/4 [00:15<00:00,  3.86s/it]\n",
      "100%|██████████| 4/4 [00:15<00:00,  3.86s/it]\n",
      "100%|██████████| 4/4 [00:15<00:00,  3.87s/it]\n",
      "100%|██████████| 4/4 [00:15<00:00,  3.86s/it]\n",
      "100%|██████████| 4/4 [00:15<00:00,  3.86s/it]\n",
      "100%|██████████| 4/4 [00:15<00:00,  3.86s/it]\n",
      "100%|██████████| 4/4 [00:15<00:00,  3.87s/it]\n",
      "100%|██████████| 4/4 [00:15<00:00,  3.90s/it]\n",
      "100%|██████████| 4/4 [00:15<00:00,  3.90s/it]\n",
      "100%|██████████| 4/4 [00:15<00:00,  3.90s/it]\n"
     ]
    },
    {
     "name": "stdout",
     "output_type": "stream",
     "text": [
      "iter 2940: loss 6.3310, time 15609.96ms\n"
     ]
    },
    {
     "name": "stderr",
     "output_type": "stream",
     "text": [
      "100%|██████████| 4/4 [00:15<00:00,  3.89s/it]\n",
      "100%|██████████| 4/4 [00:15<00:00,  3.90s/it]\n",
      "100%|██████████| 4/4 [00:15<00:00,  3.90s/it]\n",
      "100%|██████████| 4/4 [00:15<00:00,  3.90s/it]\n",
      "100%|██████████| 4/4 [00:15<00:00,  3.90s/it]\n",
      "100%|██████████| 4/4 [00:15<00:00,  3.91s/it]\n",
      "100%|██████████| 4/4 [00:15<00:00,  3.90s/it]\n",
      "100%|██████████| 4/4 [00:15<00:00,  3.90s/it]\n",
      "100%|██████████| 4/4 [00:15<00:00,  3.90s/it]\n",
      "100%|██████████| 4/4 [00:15<00:00,  3.90s/it]\n",
      "100%|██████████| 4/4 [00:15<00:00,  3.90s/it]\n",
      "100%|██████████| 4/4 [00:15<00:00,  3.90s/it]\n",
      "100%|██████████| 4/4 [00:15<00:00,  3.90s/it]\n",
      "100%|██████████| 4/4 [00:15<00:00,  3.90s/it]\n",
      "100%|██████████| 4/4 [00:15<00:00,  3.90s/it]\n",
      "100%|██████████| 4/4 [00:15<00:00,  3.90s/it]\n",
      "100%|██████████| 4/4 [00:15<00:00,  3.90s/it]\n",
      "100%|██████████| 4/4 [00:15<00:00,  3.90s/it]\n",
      "100%|██████████| 4/4 [00:15<00:00,  3.90s/it]\n",
      "100%|██████████| 4/4 [00:15<00:00,  3.90s/it]\n"
     ]
    },
    {
     "name": "stdout",
     "output_type": "stream",
     "text": [
      "iter 2960: loss 6.0348, time 15619.84ms\n"
     ]
    },
    {
     "name": "stderr",
     "output_type": "stream",
     "text": [
      "100%|██████████| 4/4 [00:15<00:00,  3.90s/it]\n",
      "100%|██████████| 4/4 [00:15<00:00,  3.90s/it]\n",
      "100%|██████████| 4/4 [00:15<00:00,  3.89s/it]\n",
      "100%|██████████| 4/4 [00:15<00:00,  3.90s/it]\n",
      "100%|██████████| 4/4 [00:15<00:00,  3.89s/it]\n",
      "100%|██████████| 4/4 [00:15<00:00,  3.90s/it]\n",
      "100%|██████████| 4/4 [00:15<00:00,  3.90s/it]\n",
      "100%|██████████| 4/4 [00:15<00:00,  3.90s/it]\n",
      "100%|██████████| 4/4 [00:15<00:00,  3.90s/it]\n",
      "100%|██████████| 4/4 [00:15<00:00,  3.90s/it]\n",
      "100%|██████████| 4/4 [00:15<00:00,  3.90s/it]\n",
      "100%|██████████| 4/4 [00:15<00:00,  3.90s/it]\n",
      "100%|██████████| 4/4 [00:15<00:00,  3.90s/it]\n",
      "100%|██████████| 4/4 [00:15<00:00,  3.90s/it]\n",
      "100%|██████████| 4/4 [00:15<00:00,  3.89s/it]\n",
      "100%|██████████| 4/4 [00:15<00:00,  3.90s/it]\n",
      "100%|██████████| 4/4 [00:15<00:00,  3.90s/it]\n",
      "100%|██████████| 4/4 [00:15<00:00,  3.90s/it]\n",
      "100%|██████████| 4/4 [00:15<00:00,  3.90s/it]\n",
      "100%|██████████| 4/4 [00:15<00:00,  3.90s/it]\n"
     ]
    },
    {
     "name": "stdout",
     "output_type": "stream",
     "text": [
      "iter 2980: loss 5.7535, time 15620.66ms\n"
     ]
    },
    {
     "name": "stderr",
     "output_type": "stream",
     "text": [
      "100%|██████████| 4/4 [00:15<00:00,  3.89s/it]\n",
      "100%|██████████| 4/4 [00:15<00:00,  3.90s/it]\n",
      "100%|██████████| 4/4 [00:15<00:00,  3.89s/it]\n",
      "100%|██████████| 4/4 [00:15<00:00,  3.90s/it]\n",
      "100%|██████████| 4/4 [00:15<00:00,  3.91s/it]\n",
      "100%|██████████| 4/4 [00:15<00:00,  3.90s/it]\n",
      "100%|██████████| 4/4 [00:15<00:00,  3.89s/it]\n",
      "100%|██████████| 4/4 [00:15<00:00,  3.90s/it]\n",
      "100%|██████████| 4/4 [00:15<00:00,  3.90s/it]\n",
      "100%|██████████| 4/4 [00:15<00:00,  3.90s/it]\n",
      "100%|██████████| 4/4 [00:15<00:00,  3.89s/it]\n",
      "100%|██████████| 4/4 [00:15<00:00,  3.90s/it]\n",
      "100%|██████████| 4/4 [00:15<00:00,  3.90s/it]\n",
      "100%|██████████| 4/4 [00:15<00:00,  3.90s/it]\n",
      "100%|██████████| 4/4 [00:15<00:00,  3.90s/it]\n",
      "100%|██████████| 4/4 [00:15<00:00,  3.90s/it]\n",
      "100%|██████████| 4/4 [00:15<00:00,  3.90s/it]\n",
      "100%|██████████| 4/4 [00:15<00:00,  3.90s/it]\n",
      "100%|██████████| 4/4 [00:15<00:00,  3.90s/it]\n"
     ]
    },
    {
     "name": "stdout",
     "output_type": "stream",
     "text": [
      "step 3000: train loss 6.1138, val loss 6.0605\n",
      "train ppl 452.05, val ppl 428.61\n",
      "📈 Train/Val Gap: -0.0532 (-0.87%)\n",
      "✅ 新的最佳驗證損失: 6.0605\n"
     ]
    },
    {
     "name": "stderr",
     "output_type": "stream",
     "text": [
      "100%|██████████| 4/4 [00:15<00:00,  3.90s/it]\n"
     ]
    },
    {
     "name": "stdout",
     "output_type": "stream",
     "text": [
      "iter 3000: loss 5.9563, time 106419.29ms\n"
     ]
    },
    {
     "name": "stderr",
     "output_type": "stream",
     "text": [
      "100%|██████████| 4/4 [00:15<00:00,  3.89s/it]\n",
      "100%|██████████| 4/4 [00:15<00:00,  3.90s/it]\n",
      "100%|██████████| 4/4 [00:15<00:00,  3.89s/it]\n",
      "100%|██████████| 4/4 [00:15<00:00,  3.90s/it]\n",
      "100%|██████████| 4/4 [00:15<00:00,  3.90s/it]\n",
      "100%|██████████| 4/4 [00:15<00:00,  3.90s/it]\n",
      "100%|██████████| 4/4 [00:15<00:00,  3.90s/it]\n",
      "100%|██████████| 4/4 [00:15<00:00,  3.90s/it]\n",
      "100%|██████████| 4/4 [00:15<00:00,  3.90s/it]\n",
      "100%|██████████| 4/4 [00:15<00:00,  3.90s/it]\n",
      "100%|██████████| 4/4 [00:15<00:00,  3.90s/it]\n",
      "100%|██████████| 4/4 [00:15<00:00,  3.90s/it]\n",
      "100%|██████████| 4/4 [00:15<00:00,  3.90s/it]\n",
      "100%|██████████| 4/4 [00:15<00:00,  3.90s/it]\n",
      "100%|██████████| 4/4 [00:15<00:00,  3.90s/it]\n",
      "100%|██████████| 4/4 [00:15<00:00,  3.92s/it]\n",
      "100%|██████████| 4/4 [00:15<00:00,  3.90s/it]\n",
      "100%|██████████| 4/4 [00:15<00:00,  3.90s/it]\n",
      "100%|██████████| 4/4 [00:15<00:00,  3.89s/it]\n",
      "100%|██████████| 4/4 [00:15<00:00,  3.90s/it]\n"
     ]
    },
    {
     "name": "stdout",
     "output_type": "stream",
     "text": [
      "iter 3020: loss 6.1065, time 15620.87ms\n"
     ]
    },
    {
     "name": "stderr",
     "output_type": "stream",
     "text": [
      "100%|██████████| 4/4 [00:15<00:00,  3.90s/it]\n",
      "100%|██████████| 4/4 [00:15<00:00,  3.90s/it]\n",
      "100%|██████████| 4/4 [00:15<00:00,  3.90s/it]\n",
      "100%|██████████| 4/4 [00:15<00:00,  3.90s/it]\n",
      "100%|██████████| 4/4 [00:15<00:00,  3.90s/it]\n",
      "100%|██████████| 4/4 [00:15<00:00,  3.90s/it]\n",
      "100%|██████████| 4/4 [00:15<00:00,  3.90s/it]\n",
      "100%|██████████| 4/4 [00:15<00:00,  3.92s/it]\n",
      "100%|██████████| 4/4 [00:15<00:00,  3.90s/it]\n",
      "100%|██████████| 4/4 [00:15<00:00,  3.90s/it]\n",
      "100%|██████████| 4/4 [00:15<00:00,  3.90s/it]\n",
      "100%|██████████| 4/4 [00:15<00:00,  3.90s/it]\n",
      "100%|██████████| 4/4 [00:15<00:00,  3.90s/it]\n",
      "100%|██████████| 4/4 [00:15<00:00,  3.90s/it]\n",
      "100%|██████████| 4/4 [00:15<00:00,  3.90s/it]\n",
      "100%|██████████| 4/4 [00:15<00:00,  3.90s/it]\n",
      "100%|██████████| 4/4 [00:15<00:00,  3.90s/it]\n",
      "100%|██████████| 4/4 [00:15<00:00,  3.90s/it]\n",
      "100%|██████████| 4/4 [00:15<00:00,  3.90s/it]\n",
      "100%|██████████| 4/4 [00:15<00:00,  3.91s/it]\n"
     ]
    },
    {
     "name": "stdout",
     "output_type": "stream",
     "text": [
      "iter 3040: loss 6.3552, time 15652.59ms\n"
     ]
    },
    {
     "name": "stderr",
     "output_type": "stream",
     "text": [
      "100%|██████████| 4/4 [00:15<00:00,  3.89s/it]\n",
      "100%|██████████| 4/4 [00:15<00:00,  3.90s/it]\n",
      "100%|██████████| 4/4 [00:15<00:00,  3.90s/it]\n",
      "100%|██████████| 4/4 [00:15<00:00,  3.92s/it]\n",
      "100%|██████████| 4/4 [00:15<00:00,  3.90s/it]\n",
      "100%|██████████| 4/4 [00:15<00:00,  3.91s/it]\n",
      "100%|██████████| 4/4 [00:15<00:00,  3.90s/it]\n",
      "100%|██████████| 4/4 [00:15<00:00,  3.90s/it]\n",
      "100%|██████████| 4/4 [00:15<00:00,  3.90s/it]\n",
      "100%|██████████| 4/4 [00:15<00:00,  3.90s/it]\n",
      "100%|██████████| 4/4 [00:15<00:00,  3.90s/it]\n",
      "100%|██████████| 4/4 [00:15<00:00,  3.90s/it]\n",
      "100%|██████████| 4/4 [00:15<00:00,  3.90s/it]\n",
      "100%|██████████| 4/4 [00:15<00:00,  3.90s/it]\n",
      "100%|██████████| 4/4 [00:15<00:00,  3.90s/it]\n",
      "100%|██████████| 4/4 [00:15<00:00,  3.91s/it]\n",
      "100%|██████████| 4/4 [00:15<00:00,  3.89s/it]\n",
      "100%|██████████| 4/4 [00:15<00:00,  3.89s/it]\n",
      "100%|██████████| 4/4 [00:15<00:00,  3.90s/it]\n",
      "100%|██████████| 4/4 [00:15<00:00,  3.90s/it]\n"
     ]
    },
    {
     "name": "stdout",
     "output_type": "stream",
     "text": [
      "iter 3060: loss 6.0808, time 15636.42ms\n"
     ]
    },
    {
     "name": "stderr",
     "output_type": "stream",
     "text": [
      "100%|██████████| 4/4 [00:15<00:00,  3.89s/it]\n",
      "100%|██████████| 4/4 [00:15<00:00,  3.90s/it]\n",
      "100%|██████████| 4/4 [00:15<00:00,  3.90s/it]\n",
      "100%|██████████| 4/4 [00:15<00:00,  3.90s/it]\n",
      "100%|██████████| 4/4 [00:15<00:00,  3.90s/it]\n",
      "100%|██████████| 4/4 [00:15<00:00,  3.90s/it]\n",
      "100%|██████████| 4/4 [00:15<00:00,  3.90s/it]\n",
      "100%|██████████| 4/4 [00:15<00:00,  3.90s/it]\n",
      "100%|██████████| 4/4 [00:15<00:00,  3.90s/it]\n",
      "100%|██████████| 4/4 [00:15<00:00,  3.89s/it]\n",
      "100%|██████████| 4/4 [00:15<00:00,  3.90s/it]\n",
      "100%|██████████| 4/4 [00:15<00:00,  3.89s/it]\n",
      "100%|██████████| 4/4 [00:15<00:00,  3.90s/it]\n",
      "100%|██████████| 4/4 [00:15<00:00,  3.90s/it]\n",
      "100%|██████████| 4/4 [00:15<00:00,  3.90s/it]\n",
      "100%|██████████| 4/4 [00:15<00:00,  3.90s/it]\n",
      "100%|██████████| 4/4 [00:15<00:00,  3.90s/it]\n",
      "100%|██████████| 4/4 [00:15<00:00,  3.90s/it]\n",
      "100%|██████████| 4/4 [00:15<00:00,  3.87s/it]\n",
      "100%|██████████| 4/4 [00:15<00:00,  3.87s/it]\n"
     ]
    },
    {
     "name": "stdout",
     "output_type": "stream",
     "text": [
      "iter 3080: loss 6.3979, time 15485.93ms\n"
     ]
    },
    {
     "name": "stderr",
     "output_type": "stream",
     "text": [
      "100%|██████████| 4/4 [00:15<00:00,  3.86s/it]\n",
      "100%|██████████| 4/4 [00:15<00:00,  3.86s/it]\n",
      "100%|██████████| 4/4 [00:15<00:00,  3.87s/it]\n",
      "100%|██████████| 4/4 [00:15<00:00,  3.86s/it]\n",
      "100%|██████████| 4/4 [00:15<00:00,  3.86s/it]\n",
      "100%|██████████| 4/4 [00:15<00:00,  3.85s/it]\n",
      "100%|██████████| 4/4 [00:15<00:00,  3.88s/it]\n",
      "100%|██████████| 4/4 [00:15<00:00,  3.86s/it]\n",
      "100%|██████████| 4/4 [00:15<00:00,  3.86s/it]\n",
      "100%|██████████| 4/4 [00:15<00:00,  3.86s/it]\n",
      "100%|██████████| 4/4 [00:15<00:00,  3.87s/it]\n",
      "100%|██████████| 4/4 [00:15<00:00,  3.86s/it]\n",
      "100%|██████████| 4/4 [00:15<00:00,  3.87s/it]\n",
      "100%|██████████| 4/4 [00:15<00:00,  3.87s/it]\n",
      "100%|██████████| 4/4 [00:15<00:00,  3.86s/it]\n",
      "100%|██████████| 4/4 [00:15<00:00,  3.86s/it]\n",
      "100%|██████████| 4/4 [00:15<00:00,  3.86s/it]\n",
      "100%|██████████| 4/4 [00:15<00:00,  3.87s/it]\n",
      "100%|██████████| 4/4 [00:15<00:00,  3.86s/it]\n",
      "100%|██████████| 4/4 [00:15<00:00,  3.86s/it]\n"
     ]
    },
    {
     "name": "stdout",
     "output_type": "stream",
     "text": [
      "iter 3100: loss 6.5091, time 15475.96ms\n"
     ]
    },
    {
     "name": "stderr",
     "output_type": "stream",
     "text": [
      "100%|██████████| 4/4 [00:15<00:00,  3.86s/it]\n",
      "100%|██████████| 4/4 [00:15<00:00,  3.87s/it]\n",
      "100%|██████████| 4/4 [00:15<00:00,  3.86s/it]\n",
      "100%|██████████| 4/4 [00:15<00:00,  3.86s/it]\n",
      "100%|██████████| 4/4 [00:15<00:00,  3.87s/it]\n",
      "100%|██████████| 4/4 [00:15<00:00,  3.87s/it]\n",
      "100%|██████████| 4/4 [00:15<00:00,  3.91s/it]\n",
      "100%|██████████| 4/4 [00:15<00:00,  3.86s/it]\n",
      "100%|██████████| 4/4 [00:15<00:00,  3.86s/it]\n",
      "100%|██████████| 4/4 [00:15<00:00,  3.86s/it]\n",
      "100%|██████████| 4/4 [00:15<00:00,  3.86s/it]\n",
      "100%|██████████| 4/4 [00:15<00:00,  3.86s/it]\n",
      "100%|██████████| 4/4 [00:15<00:00,  3.86s/it]\n",
      "100%|██████████| 4/4 [00:15<00:00,  3.86s/it]\n",
      "100%|██████████| 4/4 [00:15<00:00,  3.86s/it]\n",
      "100%|██████████| 4/4 [00:15<00:00,  3.86s/it]\n",
      "100%|██████████| 4/4 [00:15<00:00,  3.87s/it]\n",
      "100%|██████████| 4/4 [00:15<00:00,  3.87s/it]\n",
      "100%|██████████| 4/4 [00:15<00:00,  3.86s/it]\n",
      "100%|██████████| 4/4 [00:15<00:00,  3.87s/it]\n"
     ]
    },
    {
     "name": "stdout",
     "output_type": "stream",
     "text": [
      "iter 3120: loss 6.1551, time 15487.88ms\n"
     ]
    },
    {
     "name": "stderr",
     "output_type": "stream",
     "text": [
      "100%|██████████| 4/4 [00:15<00:00,  3.86s/it]\n",
      "100%|██████████| 4/4 [00:15<00:00,  3.86s/it]\n",
      "100%|██████████| 4/4 [00:15<00:00,  3.86s/it]\n",
      "100%|██████████| 4/4 [00:15<00:00,  3.86s/it]\n",
      "100%|██████████| 4/4 [00:15<00:00,  3.87s/it]\n",
      "100%|██████████| 4/4 [00:15<00:00,  3.86s/it]\n",
      "100%|██████████| 4/4 [00:15<00:00,  3.86s/it]\n",
      "100%|██████████| 4/4 [00:15<00:00,  3.86s/it]\n",
      "100%|██████████| 4/4 [00:15<00:00,  3.86s/it]\n",
      "100%|██████████| 4/4 [00:15<00:00,  3.86s/it]\n",
      "100%|██████████| 4/4 [00:15<00:00,  3.86s/it]\n",
      "100%|██████████| 4/4 [00:15<00:00,  3.86s/it]\n",
      "100%|██████████| 4/4 [00:15<00:00,  3.88s/it]\n",
      "100%|██████████| 4/4 [00:15<00:00,  3.87s/it]\n",
      "100%|██████████| 4/4 [00:15<00:00,  3.86s/it]\n",
      "100%|██████████| 4/4 [00:15<00:00,  3.87s/it]\n",
      "100%|██████████| 4/4 [00:15<00:00,  3.86s/it]\n",
      "100%|██████████| 4/4 [00:15<00:00,  3.87s/it]\n",
      "100%|██████████| 4/4 [00:15<00:00,  3.86s/it]\n",
      "100%|██████████| 4/4 [00:15<00:00,  3.86s/it]\n"
     ]
    },
    {
     "name": "stdout",
     "output_type": "stream",
     "text": [
      "iter 3140: loss 5.8287, time 15461.16ms\n"
     ]
    },
    {
     "name": "stderr",
     "output_type": "stream",
     "text": [
      "100%|██████████| 4/4 [00:15<00:00,  3.86s/it]\n",
      "100%|██████████| 4/4 [00:15<00:00,  3.86s/it]\n",
      "100%|██████████| 4/4 [00:15<00:00,  3.86s/it]\n",
      "100%|██████████| 4/4 [00:15<00:00,  3.87s/it]\n",
      "100%|██████████| 4/4 [00:15<00:00,  3.86s/it]\n",
      "100%|██████████| 4/4 [00:15<00:00,  3.87s/it]\n",
      "100%|██████████| 4/4 [00:15<00:00,  3.86s/it]\n",
      "100%|██████████| 4/4 [00:15<00:00,  3.86s/it]\n",
      "100%|██████████| 4/4 [00:15<00:00,  3.87s/it]\n",
      "100%|██████████| 4/4 [00:15<00:00,  3.87s/it]\n",
      "100%|██████████| 4/4 [00:15<00:00,  3.86s/it]\n",
      "100%|██████████| 4/4 [00:15<00:00,  3.87s/it]\n",
      "100%|██████████| 4/4 [00:15<00:00,  3.87s/it]\n",
      "100%|██████████| 4/4 [00:15<00:00,  3.87s/it]\n",
      "100%|██████████| 4/4 [00:15<00:00,  3.86s/it]\n",
      "100%|██████████| 4/4 [00:15<00:00,  3.87s/it]\n",
      "100%|██████████| 4/4 [00:15<00:00,  3.87s/it]\n",
      "100%|██████████| 4/4 [00:15<00:00,  3.87s/it]\n",
      "100%|██████████| 4/4 [00:15<00:00,  3.86s/it]\n",
      "100%|██████████| 4/4 [00:15<00:00,  3.86s/it]\n"
     ]
    },
    {
     "name": "stdout",
     "output_type": "stream",
     "text": [
      "iter 3160: loss 5.9815, time 15482.53ms\n"
     ]
    },
    {
     "name": "stderr",
     "output_type": "stream",
     "text": [
      "100%|██████████| 4/4 [00:15<00:00,  3.86s/it]\n",
      "100%|██████████| 4/4 [00:15<00:00,  3.86s/it]\n",
      "100%|██████████| 4/4 [00:15<00:00,  3.87s/it]\n",
      "100%|██████████| 4/4 [00:15<00:00,  3.87s/it]\n",
      "100%|██████████| 4/4 [00:15<00:00,  3.86s/it]\n",
      "100%|██████████| 4/4 [00:15<00:00,  3.86s/it]\n",
      "100%|██████████| 4/4 [00:15<00:00,  3.86s/it]\n",
      "100%|██████████| 4/4 [00:15<00:00,  3.86s/it]\n",
      "100%|██████████| 4/4 [00:15<00:00,  3.86s/it]\n",
      "100%|██████████| 4/4 [00:15<00:00,  3.86s/it]\n",
      "100%|██████████| 4/4 [00:15<00:00,  3.86s/it]\n",
      "100%|██████████| 4/4 [00:15<00:00,  3.87s/it]\n",
      "100%|██████████| 4/4 [00:15<00:00,  3.86s/it]\n",
      "100%|██████████| 4/4 [00:15<00:00,  3.87s/it]\n",
      "100%|██████████| 4/4 [00:15<00:00,  3.86s/it]\n",
      "100%|██████████| 4/4 [00:15<00:00,  3.86s/it]\n",
      "100%|██████████| 4/4 [00:15<00:00,  3.86s/it]\n",
      "100%|██████████| 4/4 [00:15<00:00,  3.86s/it]\n",
      "100%|██████████| 4/4 [00:15<00:00,  3.86s/it]\n",
      "100%|██████████| 4/4 [00:15<00:00,  3.87s/it]\n"
     ]
    },
    {
     "name": "stdout",
     "output_type": "stream",
     "text": [
      "iter 3180: loss 5.9488, time 15496.40ms\n"
     ]
    },
    {
     "name": "stderr",
     "output_type": "stream",
     "text": [
      "100%|██████████| 4/4 [00:15<00:00,  3.86s/it]\n",
      "100%|██████████| 4/4 [00:15<00:00,  3.87s/it]\n",
      "100%|██████████| 4/4 [00:15<00:00,  3.87s/it]\n",
      "100%|██████████| 4/4 [00:15<00:00,  3.86s/it]\n",
      "100%|██████████| 4/4 [00:15<00:00,  3.86s/it]\n",
      "100%|██████████| 4/4 [00:15<00:00,  3.87s/it]\n",
      "100%|██████████| 4/4 [00:15<00:00,  3.86s/it]\n",
      "100%|██████████| 4/4 [00:15<00:00,  3.86s/it]\n",
      "100%|██████████| 4/4 [00:15<00:00,  3.86s/it]\n",
      "100%|██████████| 4/4 [00:15<00:00,  3.86s/it]\n",
      "100%|██████████| 4/4 [00:15<00:00,  3.87s/it]\n",
      "100%|██████████| 4/4 [00:15<00:00,  3.87s/it]\n",
      "100%|██████████| 4/4 [00:15<00:00,  3.86s/it]\n",
      "100%|██████████| 4/4 [00:15<00:00,  3.86s/it]\n",
      "100%|██████████| 4/4 [00:15<00:00,  3.86s/it]\n",
      "100%|██████████| 4/4 [00:15<00:00,  3.86s/it]\n",
      "100%|██████████| 4/4 [00:15<00:00,  3.86s/it]\n",
      "100%|██████████| 4/4 [00:15<00:00,  3.87s/it]\n",
      "100%|██████████| 4/4 [00:15<00:00,  3.86s/it]\n"
     ]
    },
    {
     "name": "stdout",
     "output_type": "stream",
     "text": [
      "step 3200: train loss 6.0558, val loss 6.0877\n",
      "train ppl 426.60, val ppl 440.42\n",
      "📈 Train/Val Gap: 0.0319 (0.53%)\n"
     ]
    },
    {
     "name": "stderr",
     "output_type": "stream",
     "text": [
      "100%|██████████| 4/4 [00:15<00:00,  3.86s/it]\n"
     ]
    },
    {
     "name": "stdout",
     "output_type": "stream",
     "text": [
      "iter 3200: loss 5.5599, time 106338.00ms\n"
     ]
    },
    {
     "name": "stderr",
     "output_type": "stream",
     "text": [
      "100%|██████████| 4/4 [00:15<00:00,  3.86s/it]\n",
      "100%|██████████| 4/4 [00:15<00:00,  3.86s/it]\n",
      "100%|██████████| 4/4 [00:15<00:00,  3.86s/it]\n",
      "100%|██████████| 4/4 [00:15<00:00,  3.86s/it]\n",
      "100%|██████████| 4/4 [00:15<00:00,  3.87s/it]\n",
      "100%|██████████| 4/4 [00:15<00:00,  3.86s/it]\n",
      "100%|██████████| 4/4 [00:15<00:00,  3.86s/it]\n",
      "100%|██████████| 4/4 [00:15<00:00,  3.86s/it]\n",
      "100%|██████████| 4/4 [00:15<00:00,  3.87s/it]\n",
      "100%|██████████| 4/4 [00:15<00:00,  3.88s/it]\n",
      "100%|██████████| 4/4 [00:15<00:00,  3.90s/it]\n",
      "100%|██████████| 4/4 [00:15<00:00,  3.90s/it]\n",
      "100%|██████████| 4/4 [00:15<00:00,  3.90s/it]\n",
      "100%|██████████| 4/4 [00:15<00:00,  3.92s/it]\n",
      "100%|██████████| 4/4 [00:15<00:00,  3.90s/it]\n",
      "100%|██████████| 4/4 [00:15<00:00,  3.90s/it]\n",
      "100%|██████████| 4/4 [00:15<00:00,  3.90s/it]\n",
      "100%|██████████| 4/4 [00:15<00:00,  3.90s/it]\n",
      "100%|██████████| 4/4 [00:15<00:00,  3.90s/it]\n",
      "100%|██████████| 4/4 [00:15<00:00,  3.90s/it]\n"
     ]
    },
    {
     "name": "stdout",
     "output_type": "stream",
     "text": [
      "iter 3220: loss 5.8718, time 15626.06ms\n"
     ]
    },
    {
     "name": "stderr",
     "output_type": "stream",
     "text": [
      "100%|██████████| 4/4 [00:15<00:00,  3.89s/it]\n",
      "100%|██████████| 4/4 [00:15<00:00,  3.90s/it]\n",
      "100%|██████████| 4/4 [00:15<00:00,  3.90s/it]\n",
      "100%|██████████| 4/4 [00:15<00:00,  3.91s/it]\n",
      "100%|██████████| 4/4 [00:15<00:00,  3.90s/it]\n",
      "100%|██████████| 4/4 [00:15<00:00,  3.92s/it]\n",
      "100%|██████████| 4/4 [00:15<00:00,  3.90s/it]\n",
      "100%|██████████| 4/4 [00:15<00:00,  3.89s/it]\n",
      "100%|██████████| 4/4 [00:15<00:00,  3.87s/it]\n",
      "100%|██████████| 4/4 [00:15<00:00,  3.87s/it]\n",
      "100%|██████████| 4/4 [00:15<00:00,  3.87s/it]\n",
      "100%|██████████| 4/4 [00:15<00:00,  3.87s/it]\n",
      "100%|██████████| 4/4 [00:15<00:00,  3.87s/it]\n",
      "100%|██████████| 4/4 [00:15<00:00,  3.87s/it]\n",
      "100%|██████████| 4/4 [00:15<00:00,  3.87s/it]\n",
      "100%|██████████| 4/4 [00:15<00:00,  3.87s/it]\n",
      "100%|██████████| 4/4 [00:15<00:00,  3.87s/it]\n",
      "100%|██████████| 4/4 [00:15<00:00,  3.87s/it]\n",
      "100%|██████████| 4/4 [00:15<00:00,  3.88s/it]\n",
      "100%|██████████| 4/4 [00:15<00:00,  3.87s/it]\n"
     ]
    },
    {
     "name": "stdout",
     "output_type": "stream",
     "text": [
      "iter 3240: loss 6.0744, time 15505.30ms\n"
     ]
    },
    {
     "name": "stderr",
     "output_type": "stream",
     "text": [
      "100%|██████████| 4/4 [00:15<00:00,  3.87s/it]\n",
      "100%|██████████| 4/4 [00:15<00:00,  3.89s/it]\n",
      "100%|██████████| 4/4 [00:15<00:00,  3.88s/it]\n",
      "100%|██████████| 4/4 [00:15<00:00,  3.87s/it]\n",
      "100%|██████████| 4/4 [00:15<00:00,  3.87s/it]\n",
      "100%|██████████| 4/4 [00:15<00:00,  3.87s/it]\n",
      "100%|██████████| 4/4 [00:15<00:00,  3.88s/it]\n",
      "100%|██████████| 4/4 [00:15<00:00,  3.87s/it]\n",
      "100%|██████████| 4/4 [00:15<00:00,  3.87s/it]\n",
      "100%|██████████| 4/4 [00:15<00:00,  3.87s/it]\n",
      "100%|██████████| 4/4 [00:15<00:00,  3.88s/it]\n",
      "100%|██████████| 4/4 [00:15<00:00,  3.87s/it]\n",
      "100%|██████████| 4/4 [00:15<00:00,  3.87s/it]\n",
      "100%|██████████| 4/4 [00:15<00:00,  3.87s/it]\n",
      "100%|██████████| 4/4 [00:15<00:00,  3.88s/it]\n",
      "100%|██████████| 4/4 [00:15<00:00,  3.87s/it]\n",
      "100%|██████████| 4/4 [00:15<00:00,  3.87s/it]\n",
      "100%|██████████| 4/4 [00:15<00:00,  3.87s/it]\n",
      "100%|██████████| 4/4 [00:15<00:00,  3.88s/it]\n",
      "100%|██████████| 4/4 [00:15<00:00,  3.87s/it]\n"
     ]
    },
    {
     "name": "stdout",
     "output_type": "stream",
     "text": [
      "iter 3260: loss 5.9520, time 15523.93ms\n"
     ]
    },
    {
     "name": "stderr",
     "output_type": "stream",
     "text": [
      "100%|██████████| 4/4 [00:15<00:00,  3.87s/it]\n",
      "100%|██████████| 4/4 [00:15<00:00,  3.88s/it]\n",
      "100%|██████████| 4/4 [00:15<00:00,  3.87s/it]\n",
      "100%|██████████| 4/4 [00:15<00:00,  3.87s/it]\n",
      "100%|██████████| 4/4 [00:15<00:00,  3.87s/it]\n",
      "100%|██████████| 4/4 [00:15<00:00,  3.88s/it]\n",
      "100%|██████████| 4/4 [00:15<00:00,  3.87s/it]\n",
      "100%|██████████| 4/4 [00:15<00:00,  3.87s/it]\n",
      "100%|██████████| 4/4 [00:15<00:00,  3.87s/it]\n",
      "100%|██████████| 4/4 [00:15<00:00,  3.89s/it]\n",
      "100%|██████████| 4/4 [00:15<00:00,  3.91s/it]\n",
      "100%|██████████| 4/4 [00:15<00:00,  3.91s/it]\n",
      "100%|██████████| 4/4 [00:15<00:00,  3.91s/it]\n",
      "100%|██████████| 4/4 [00:15<00:00,  3.91s/it]\n",
      "100%|██████████| 4/4 [00:15<00:00,  3.91s/it]\n",
      "100%|██████████| 4/4 [00:15<00:00,  3.91s/it]\n",
      "100%|██████████| 4/4 [00:15<00:00,  3.91s/it]\n",
      "100%|██████████| 4/4 [00:15<00:00,  3.92s/it]\n",
      "100%|██████████| 4/4 [00:15<00:00,  3.91s/it]\n",
      "100%|██████████| 4/4 [00:15<00:00,  3.91s/it]\n"
     ]
    },
    {
     "name": "stdout",
     "output_type": "stream",
     "text": [
      "iter 3280: loss 6.2099, time 15678.41ms\n"
     ]
    },
    {
     "name": "stderr",
     "output_type": "stream",
     "text": [
      "100%|██████████| 4/4 [00:15<00:00,  3.91s/it]\n",
      "100%|██████████| 4/4 [00:15<00:00,  3.91s/it]\n",
      "100%|██████████| 4/4 [00:15<00:00,  3.91s/it]\n",
      "100%|██████████| 4/4 [00:15<00:00,  3.91s/it]\n",
      "100%|██████████| 4/4 [00:15<00:00,  3.91s/it]\n",
      "100%|██████████| 4/4 [00:15<00:00,  3.91s/it]\n",
      "100%|██████████| 4/4 [00:15<00:00,  3.90s/it]\n",
      "100%|██████████| 4/4 [00:15<00:00,  3.91s/it]\n",
      "100%|██████████| 4/4 [00:15<00:00,  3.91s/it]\n",
      "100%|██████████| 4/4 [00:15<00:00,  3.91s/it]\n",
      "100%|██████████| 4/4 [00:15<00:00,  3.91s/it]\n",
      "100%|██████████| 4/4 [00:15<00:00,  3.91s/it]\n",
      "100%|██████████| 4/4 [00:15<00:00,  3.91s/it]\n",
      "100%|██████████| 4/4 [00:15<00:00,  3.91s/it]\n",
      "100%|██████████| 4/4 [00:15<00:00,  3.91s/it]\n",
      "100%|██████████| 4/4 [00:15<00:00,  3.91s/it]\n",
      "100%|██████████| 4/4 [00:15<00:00,  3.91s/it]\n",
      "100%|██████████| 4/4 [00:15<00:00,  3.91s/it]\n",
      "100%|██████████| 4/4 [00:15<00:00,  3.91s/it]\n",
      "100%|██████████| 4/4 [00:15<00:00,  3.91s/it]\n"
     ]
    },
    {
     "name": "stdout",
     "output_type": "stream",
     "text": [
      "iter 3300: loss 5.9882, time 15671.67ms\n"
     ]
    },
    {
     "name": "stderr",
     "output_type": "stream",
     "text": [
      "100%|██████████| 4/4 [00:15<00:00,  3.91s/it]\n",
      "100%|██████████| 4/4 [00:15<00:00,  3.91s/it]\n",
      "100%|██████████| 4/4 [00:15<00:00,  3.91s/it]\n",
      "100%|██████████| 4/4 [00:15<00:00,  3.91s/it]\n",
      "100%|██████████| 4/4 [00:15<00:00,  3.91s/it]\n",
      "100%|██████████| 4/4 [00:15<00:00,  3.91s/it]\n",
      "100%|██████████| 4/4 [00:15<00:00,  3.89s/it]\n",
      "100%|██████████| 4/4 [00:15<00:00,  3.89s/it]\n",
      "100%|██████████| 4/4 [00:15<00:00,  3.90s/it]\n",
      "100%|██████████| 4/4 [00:15<00:00,  3.89s/it]\n",
      "100%|██████████| 4/4 [00:15<00:00,  3.88s/it]\n",
      "100%|██████████| 4/4 [00:15<00:00,  3.89s/it]\n",
      "100%|██████████| 4/4 [00:15<00:00,  3.89s/it]\n",
      "100%|██████████| 4/4 [00:15<00:00,  3.89s/it]\n",
      "100%|██████████| 4/4 [00:15<00:00,  3.89s/it]\n",
      "100%|██████████| 4/4 [00:15<00:00,  3.89s/it]\n",
      "100%|██████████| 4/4 [00:15<00:00,  3.88s/it]\n",
      "100%|██████████| 4/4 [00:15<00:00,  3.89s/it]\n",
      "100%|██████████| 4/4 [00:15<00:00,  3.89s/it]\n",
      "100%|██████████| 4/4 [00:15<00:00,  3.89s/it]\n"
     ]
    },
    {
     "name": "stdout",
     "output_type": "stream",
     "text": [
      "iter 3320: loss 6.1623, time 15566.70ms\n"
     ]
    },
    {
     "name": "stderr",
     "output_type": "stream",
     "text": [
      "100%|██████████| 4/4 [00:15<00:00,  3.88s/it]\n",
      "100%|██████████| 4/4 [00:15<00:00,  3.89s/it]\n",
      "100%|██████████| 4/4 [00:15<00:00,  3.89s/it]\n",
      "100%|██████████| 4/4 [00:15<00:00,  3.89s/it]\n",
      "100%|██████████| 4/4 [00:15<00:00,  3.89s/it]\n",
      "100%|██████████| 4/4 [00:15<00:00,  3.89s/it]\n",
      "100%|██████████| 4/4 [00:15<00:00,  3.89s/it]\n",
      "100%|██████████| 4/4 [00:15<00:00,  3.88s/it]\n",
      "100%|██████████| 4/4 [00:15<00:00,  3.88s/it]\n",
      "100%|██████████| 4/4 [00:15<00:00,  3.89s/it]\n",
      "100%|██████████| 4/4 [00:15<00:00,  3.88s/it]\n",
      "100%|██████████| 4/4 [00:15<00:00,  3.89s/it]\n",
      "100%|██████████| 4/4 [00:15<00:00,  3.89s/it]\n",
      "100%|██████████| 4/4 [00:15<00:00,  3.89s/it]\n",
      "100%|██████████| 4/4 [00:15<00:00,  3.88s/it]\n",
      "100%|██████████| 4/4 [00:15<00:00,  3.89s/it]\n",
      "100%|██████████| 4/4 [00:15<00:00,  3.88s/it]\n",
      "100%|██████████| 4/4 [00:15<00:00,  3.89s/it]\n",
      "100%|██████████| 4/4 [00:15<00:00,  3.88s/it]\n",
      "100%|██████████| 4/4 [00:15<00:00,  3.88s/it]\n"
     ]
    },
    {
     "name": "stdout",
     "output_type": "stream",
     "text": [
      "iter 3340: loss 5.9925, time 15552.37ms\n"
     ]
    },
    {
     "name": "stderr",
     "output_type": "stream",
     "text": [
      "100%|██████████| 4/4 [00:15<00:00,  3.88s/it]\n",
      "100%|██████████| 4/4 [00:15<00:00,  3.89s/it]\n",
      "100%|██████████| 4/4 [00:15<00:00,  3.89s/it]\n",
      "100%|██████████| 4/4 [00:15<00:00,  3.88s/it]\n",
      "100%|██████████| 4/4 [00:15<00:00,  3.88s/it]\n",
      "100%|██████████| 4/4 [00:15<00:00,  3.88s/it]\n",
      "100%|██████████| 4/4 [00:15<00:00,  3.92s/it]\n",
      "100%|██████████| 4/4 [00:15<00:00,  3.95s/it]\n",
      "100%|██████████| 4/4 [00:15<00:00,  3.95s/it]\n",
      "100%|██████████| 4/4 [00:15<00:00,  3.95s/it]\n",
      "100%|██████████| 4/4 [00:15<00:00,  3.95s/it]\n",
      "100%|██████████| 4/4 [00:15<00:00,  3.95s/it]\n",
      "100%|██████████| 4/4 [00:15<00:00,  3.95s/it]\n",
      "100%|██████████| 4/4 [00:15<00:00,  3.95s/it]\n",
      "100%|██████████| 4/4 [00:15<00:00,  3.95s/it]\n",
      "100%|██████████| 4/4 [00:15<00:00,  3.95s/it]\n",
      "100%|██████████| 4/4 [00:15<00:00,  3.95s/it]\n",
      "100%|██████████| 4/4 [00:15<00:00,  3.95s/it]\n",
      "100%|██████████| 4/4 [00:15<00:00,  3.95s/it]\n",
      "100%|██████████| 4/4 [00:15<00:00,  3.95s/it]\n"
     ]
    },
    {
     "name": "stdout",
     "output_type": "stream",
     "text": [
      "iter 3360: loss 5.6256, time 15812.52ms\n"
     ]
    },
    {
     "name": "stderr",
     "output_type": "stream",
     "text": [
      "100%|██████████| 4/4 [00:15<00:00,  3.94s/it]\n",
      "100%|██████████| 4/4 [00:15<00:00,  3.95s/it]\n",
      "100%|██████████| 4/4 [00:15<00:00,  3.95s/it]\n",
      "100%|██████████| 4/4 [00:15<00:00,  3.95s/it]\n",
      "100%|██████████| 4/4 [00:15<00:00,  3.95s/it]\n",
      "100%|██████████| 4/4 [00:15<00:00,  3.95s/it]\n",
      "100%|██████████| 4/4 [00:15<00:00,  3.95s/it]\n",
      "100%|██████████| 4/4 [00:15<00:00,  3.95s/it]\n",
      "100%|██████████| 4/4 [00:15<00:00,  3.95s/it]\n",
      "100%|██████████| 4/4 [00:15<00:00,  3.95s/it]\n",
      "100%|██████████| 4/4 [00:15<00:00,  3.95s/it]\n",
      "100%|██████████| 4/4 [00:15<00:00,  3.94s/it]\n",
      "100%|██████████| 4/4 [00:15<00:00,  3.95s/it]\n",
      "100%|██████████| 4/4 [00:15<00:00,  3.95s/it]\n",
      "100%|██████████| 4/4 [00:15<00:00,  3.95s/it]\n",
      "100%|██████████| 4/4 [00:15<00:00,  3.95s/it]\n",
      "100%|██████████| 4/4 [00:15<00:00,  3.95s/it]\n",
      "100%|██████████| 4/4 [00:15<00:00,  3.95s/it]\n",
      "100%|██████████| 4/4 [00:15<00:00,  3.95s/it]\n",
      "100%|██████████| 4/4 [00:15<00:00,  3.95s/it]\n"
     ]
    },
    {
     "name": "stdout",
     "output_type": "stream",
     "text": [
      "iter 3380: loss 6.1372, time 15818.16ms\n"
     ]
    },
    {
     "name": "stderr",
     "output_type": "stream",
     "text": [
      "100%|██████████| 4/4 [00:15<00:00,  3.95s/it]\n",
      "100%|██████████| 4/4 [00:15<00:00,  3.95s/it]\n",
      "100%|██████████| 4/4 [00:15<00:00,  3.95s/it]\n",
      "100%|██████████| 4/4 [00:15<00:00,  3.95s/it]\n",
      "100%|██████████| 4/4 [00:15<00:00,  3.95s/it]\n",
      "100%|██████████| 4/4 [00:15<00:00,  3.95s/it]\n",
      "100%|██████████| 4/4 [00:15<00:00,  3.95s/it]\n",
      "100%|██████████| 4/4 [00:15<00:00,  3.95s/it]\n",
      "100%|██████████| 4/4 [00:15<00:00,  3.95s/it]\n",
      "100%|██████████| 4/4 [00:15<00:00,  3.95s/it]\n",
      "100%|██████████| 4/4 [00:15<00:00,  3.95s/it]\n",
      "100%|██████████| 4/4 [00:15<00:00,  3.95s/it]\n",
      "100%|██████████| 4/4 [00:15<00:00,  3.95s/it]\n",
      "100%|██████████| 4/4 [00:15<00:00,  3.95s/it]\n",
      "100%|██████████| 4/4 [00:15<00:00,  3.95s/it]\n",
      "100%|██████████| 4/4 [00:15<00:00,  3.94s/it]\n",
      "100%|██████████| 4/4 [00:15<00:00,  3.92s/it]\n",
      "100%|██████████| 4/4 [00:15<00:00,  3.91s/it]\n",
      "100%|██████████| 4/4 [00:15<00:00,  3.91s/it]\n"
     ]
    },
    {
     "name": "stdout",
     "output_type": "stream",
     "text": [
      "step 3400: train loss 5.9590, val loss 6.1039\n",
      "train ppl 387.22, val ppl 447.58\n",
      "📈 Train/Val Gap: 0.1449 (2.43%)\n"
     ]
    },
    {
     "name": "stderr",
     "output_type": "stream",
     "text": [
      "100%|██████████| 4/4 [00:15<00:00,  3.91s/it]\n"
     ]
    },
    {
     "name": "stdout",
     "output_type": "stream",
     "text": [
      "iter 3400: loss 6.2265, time 103086.18ms\n"
     ]
    },
    {
     "name": "stderr",
     "output_type": "stream",
     "text": [
      "100%|██████████| 4/4 [00:15<00:00,  3.91s/it]\n",
      "100%|██████████| 4/4 [00:15<00:00,  3.91s/it]\n",
      "100%|██████████| 4/4 [00:15<00:00,  3.91s/it]\n",
      "100%|██████████| 4/4 [00:15<00:00,  3.91s/it]\n",
      "100%|██████████| 4/4 [00:15<00:00,  3.91s/it]\n",
      "100%|██████████| 4/4 [00:15<00:00,  3.91s/it]\n",
      "100%|██████████| 4/4 [00:15<00:00,  3.91s/it]\n",
      "100%|██████████| 4/4 [00:15<00:00,  3.91s/it]\n",
      "100%|██████████| 4/4 [00:15<00:00,  3.92s/it]\n",
      "100%|██████████| 4/4 [00:15<00:00,  3.92s/it]\n",
      "100%|██████████| 4/4 [00:15<00:00,  3.91s/it]\n",
      "100%|██████████| 4/4 [00:15<00:00,  3.91s/it]\n",
      "100%|██████████| 4/4 [00:15<00:00,  3.92s/it]\n",
      "100%|██████████| 4/4 [00:15<00:00,  3.95s/it]\n",
      "100%|██████████| 4/4 [00:15<00:00,  3.97s/it]\n",
      "100%|██████████| 4/4 [00:15<00:00,  3.95s/it]\n",
      "100%|██████████| 4/4 [00:15<00:00,  3.95s/it]\n",
      "100%|██████████| 4/4 [00:15<00:00,  3.95s/it]\n",
      "100%|██████████| 4/4 [00:15<00:00,  3.95s/it]\n",
      "100%|██████████| 4/4 [00:15<00:00,  3.94s/it]\n"
     ]
    },
    {
     "name": "stdout",
     "output_type": "stream",
     "text": [
      "iter 3420: loss 6.2257, time 15803.34ms\n"
     ]
    },
    {
     "name": "stderr",
     "output_type": "stream",
     "text": [
      "100%|██████████| 4/4 [00:15<00:00,  3.94s/it]\n",
      "100%|██████████| 4/4 [00:15<00:00,  3.95s/it]\n",
      "100%|██████████| 4/4 [00:15<00:00,  3.95s/it]\n",
      "100%|██████████| 4/4 [00:15<00:00,  3.95s/it]\n",
      "100%|██████████| 4/4 [00:15<00:00,  3.95s/it]\n",
      "100%|██████████| 4/4 [00:15<00:00,  3.95s/it]\n",
      "100%|██████████| 4/4 [00:15<00:00,  3.97s/it]\n",
      "100%|██████████| 4/4 [00:15<00:00,  3.95s/it]\n",
      "100%|██████████| 4/4 [00:15<00:00,  3.96s/it]\n",
      "100%|██████████| 4/4 [00:15<00:00,  3.95s/it]\n",
      "100%|██████████| 4/4 [00:15<00:00,  3.95s/it]\n",
      "100%|██████████| 4/4 [00:15<00:00,  3.95s/it]\n",
      "100%|██████████| 4/4 [00:15<00:00,  3.96s/it]\n",
      "100%|██████████| 4/4 [00:15<00:00,  3.95s/it]\n",
      "100%|██████████| 4/4 [00:15<00:00,  3.95s/it]\n",
      "100%|██████████| 4/4 [00:15<00:00,  3.95s/it]\n",
      "100%|██████████| 4/4 [00:15<00:00,  3.95s/it]\n",
      "100%|██████████| 4/4 [00:15<00:00,  3.95s/it]\n",
      "100%|██████████| 4/4 [00:15<00:00,  3.95s/it]\n",
      "100%|██████████| 4/4 [00:15<00:00,  3.95s/it]\n"
     ]
    },
    {
     "name": "stdout",
     "output_type": "stream",
     "text": [
      "iter 3440: loss 5.6932, time 15836.89ms\n"
     ]
    },
    {
     "name": "stderr",
     "output_type": "stream",
     "text": [
      "100%|██████████| 4/4 [00:15<00:00,  3.94s/it]\n",
      "100%|██████████| 4/4 [00:15<00:00,  3.95s/it]\n",
      "100%|██████████| 4/4 [00:15<00:00,  3.97s/it]\n",
      "100%|██████████| 4/4 [00:15<00:00,  3.95s/it]\n",
      "100%|██████████| 4/4 [00:15<00:00,  3.94s/it]\n",
      "100%|██████████| 4/4 [00:15<00:00,  3.95s/it]\n",
      "100%|██████████| 4/4 [00:15<00:00,  3.95s/it]\n",
      "100%|██████████| 4/4 [00:15<00:00,  3.95s/it]\n",
      "100%|██████████| 4/4 [00:15<00:00,  3.95s/it]\n",
      "100%|██████████| 4/4 [00:15<00:00,  3.95s/it]\n",
      "100%|██████████| 4/4 [00:15<00:00,  3.94s/it]\n",
      "100%|██████████| 4/4 [00:15<00:00,  3.95s/it]\n",
      "100%|██████████| 4/4 [00:15<00:00,  3.95s/it]\n",
      "100%|██████████| 4/4 [00:15<00:00,  3.95s/it]\n",
      "100%|██████████| 4/4 [00:15<00:00,  3.95s/it]\n",
      "100%|██████████| 4/4 [00:15<00:00,  3.95s/it]\n",
      "100%|██████████| 4/4 [00:15<00:00,  3.95s/it]\n",
      "100%|██████████| 4/4 [00:15<00:00,  3.95s/it]\n",
      "100%|██████████| 4/4 [00:15<00:00,  3.95s/it]\n",
      "100%|██████████| 4/4 [00:15<00:00,  3.95s/it]\n"
     ]
    },
    {
     "name": "stdout",
     "output_type": "stream",
     "text": [
      "iter 3460: loss 6.1359, time 15822.10ms\n"
     ]
    },
    {
     "name": "stderr",
     "output_type": "stream",
     "text": [
      "100%|██████████| 4/4 [00:15<00:00,  3.95s/it]\n",
      "100%|██████████| 4/4 [00:15<00:00,  3.95s/it]\n",
      "100%|██████████| 4/4 [00:15<00:00,  3.95s/it]\n",
      "100%|██████████| 4/4 [00:15<00:00,  3.95s/it]\n",
      "100%|██████████| 4/4 [00:15<00:00,  3.95s/it]\n",
      "100%|██████████| 4/4 [00:15<00:00,  3.95s/it]\n",
      "100%|██████████| 4/4 [00:15<00:00,  3.96s/it]\n",
      "100%|██████████| 4/4 [00:15<00:00,  3.95s/it]\n",
      "100%|██████████| 4/4 [00:15<00:00,  3.95s/it]\n",
      "100%|██████████| 4/4 [00:15<00:00,  3.95s/it]\n",
      "100%|██████████| 4/4 [00:15<00:00,  3.95s/it]\n",
      "100%|██████████| 4/4 [00:15<00:00,  3.95s/it]\n",
      "100%|██████████| 4/4 [00:15<00:00,  3.95s/it]\n",
      "100%|██████████| 4/4 [00:15<00:00,  3.95s/it]\n",
      "100%|██████████| 4/4 [00:15<00:00,  3.95s/it]\n",
      "100%|██████████| 4/4 [00:15<00:00,  3.95s/it]\n",
      "100%|██████████| 4/4 [00:15<00:00,  3.95s/it]\n",
      "100%|██████████| 4/4 [00:15<00:00,  3.96s/it]\n",
      "100%|██████████| 4/4 [00:15<00:00,  3.95s/it]\n",
      "100%|██████████| 4/4 [00:15<00:00,  3.95s/it]\n"
     ]
    },
    {
     "name": "stdout",
     "output_type": "stream",
     "text": [
      "iter 3480: loss 5.9700, time 15824.28ms\n"
     ]
    },
    {
     "name": "stderr",
     "output_type": "stream",
     "text": [
      "100%|██████████| 4/4 [00:15<00:00,  3.94s/it]\n",
      "100%|██████████| 4/4 [00:15<00:00,  3.95s/it]\n",
      "100%|██████████| 4/4 [00:15<00:00,  3.95s/it]\n",
      "100%|██████████| 4/4 [00:15<00:00,  3.95s/it]\n",
      "100%|██████████| 4/4 [00:15<00:00,  3.95s/it]\n",
      "100%|██████████| 4/4 [00:15<00:00,  3.95s/it]\n",
      "100%|██████████| 4/4 [00:15<00:00,  3.95s/it]\n",
      "100%|██████████| 4/4 [00:15<00:00,  3.95s/it]\n",
      "100%|██████████| 4/4 [00:15<00:00,  3.95s/it]\n",
      "100%|██████████| 4/4 [00:15<00:00,  3.95s/it]\n",
      "100%|██████████| 4/4 [00:15<00:00,  3.95s/it]\n",
      "100%|██████████| 4/4 [00:15<00:00,  3.95s/it]\n",
      "100%|██████████| 4/4 [00:15<00:00,  3.95s/it]\n",
      "100%|██████████| 4/4 [00:15<00:00,  3.95s/it]\n",
      "100%|██████████| 4/4 [00:15<00:00,  3.95s/it]\n",
      "100%|██████████| 4/4 [00:15<00:00,  3.95s/it]\n",
      "100%|██████████| 4/4 [00:15<00:00,  3.96s/it]\n",
      "100%|██████████| 4/4 [00:15<00:00,  3.95s/it]\n",
      "100%|██████████| 4/4 [00:15<00:00,  3.95s/it]\n",
      "100%|██████████| 4/4 [00:15<00:00,  3.94s/it]\n"
     ]
    },
    {
     "name": "stdout",
     "output_type": "stream",
     "text": [
      "iter 3500: loss 6.1355, time 15801.71ms\n"
     ]
    },
    {
     "name": "stderr",
     "output_type": "stream",
     "text": [
      "100%|██████████| 4/4 [00:15<00:00,  3.95s/it]\n",
      "100%|██████████| 4/4 [00:15<00:00,  3.95s/it]\n",
      "100%|██████████| 4/4 [00:15<00:00,  3.95s/it]\n",
      "100%|██████████| 4/4 [00:15<00:00,  3.95s/it]\n",
      "100%|██████████| 4/4 [00:15<00:00,  3.95s/it]\n",
      "100%|██████████| 4/4 [00:15<00:00,  3.95s/it]\n",
      "100%|██████████| 4/4 [00:15<00:00,  3.95s/it]\n",
      "100%|██████████| 4/4 [00:15<00:00,  3.95s/it]\n",
      "100%|██████████| 4/4 [00:15<00:00,  3.95s/it]\n",
      "100%|██████████| 4/4 [00:15<00:00,  3.95s/it]\n",
      "100%|██████████| 4/4 [00:15<00:00,  3.95s/it]\n",
      "100%|██████████| 4/4 [00:15<00:00,  3.95s/it]\n",
      "100%|██████████| 4/4 [00:15<00:00,  3.95s/it]\n",
      "100%|██████████| 4/4 [00:15<00:00,  3.95s/it]\n",
      "100%|██████████| 4/4 [00:15<00:00,  3.95s/it]\n",
      "100%|██████████| 4/4 [00:15<00:00,  3.95s/it]\n",
      "100%|██████████| 4/4 [00:15<00:00,  3.95s/it]\n",
      "100%|██████████| 4/4 [00:15<00:00,  3.95s/it]\n",
      "100%|██████████| 4/4 [00:15<00:00,  3.95s/it]\n",
      "100%|██████████| 4/4 [00:15<00:00,  3.95s/it]\n"
     ]
    },
    {
     "name": "stdout",
     "output_type": "stream",
     "text": [
      "iter 3520: loss 6.3472, time 15836.80ms\n"
     ]
    },
    {
     "name": "stderr",
     "output_type": "stream",
     "text": [
      "100%|██████████| 4/4 [00:15<00:00,  3.95s/it]\n",
      "100%|██████████| 4/4 [00:15<00:00,  3.95s/it]\n",
      "100%|██████████| 4/4 [00:15<00:00,  3.95s/it]\n",
      "100%|██████████| 4/4 [00:15<00:00,  3.96s/it]\n",
      "100%|██████████| 4/4 [00:15<00:00,  3.95s/it]\n",
      "100%|██████████| 4/4 [00:15<00:00,  3.95s/it]\n",
      "100%|██████████| 4/4 [00:15<00:00,  3.95s/it]\n",
      "100%|██████████| 4/4 [00:15<00:00,  3.96s/it]\n",
      "100%|██████████| 4/4 [00:15<00:00,  3.95s/it]\n",
      "100%|██████████| 4/4 [00:15<00:00,  3.95s/it]\n",
      "100%|██████████| 4/4 [00:15<00:00,  3.95s/it]\n",
      "100%|██████████| 4/4 [00:15<00:00,  3.95s/it]\n",
      "100%|██████████| 4/4 [00:15<00:00,  3.95s/it]\n",
      "100%|██████████| 4/4 [00:15<00:00,  3.95s/it]\n",
      "100%|██████████| 4/4 [00:15<00:00,  3.95s/it]\n",
      "100%|██████████| 4/4 [00:15<00:00,  3.95s/it]\n",
      "100%|██████████| 4/4 [00:15<00:00,  3.95s/it]\n",
      "100%|██████████| 4/4 [00:15<00:00,  3.95s/it]\n",
      "100%|██████████| 4/4 [00:15<00:00,  3.95s/it]\n",
      "100%|██████████| 4/4 [00:15<00:00,  3.94s/it]\n"
     ]
    },
    {
     "name": "stdout",
     "output_type": "stream",
     "text": [
      "iter 3540: loss 6.1553, time 15798.46ms\n"
     ]
    },
    {
     "name": "stderr",
     "output_type": "stream",
     "text": [
      "100%|██████████| 4/4 [00:15<00:00,  3.94s/it]\n",
      "100%|██████████| 4/4 [00:15<00:00,  3.95s/it]\n",
      "100%|██████████| 4/4 [00:15<00:00,  3.95s/it]\n",
      "100%|██████████| 4/4 [00:15<00:00,  3.95s/it]\n",
      "100%|██████████| 4/4 [00:15<00:00,  3.95s/it]\n",
      "100%|██████████| 4/4 [00:15<00:00,  3.95s/it]\n",
      "100%|██████████| 4/4 [00:15<00:00,  3.95s/it]\n",
      "100%|██████████| 4/4 [00:15<00:00,  3.95s/it]\n",
      "100%|██████████| 4/4 [00:15<00:00,  3.95s/it]\n",
      "100%|██████████| 4/4 [00:15<00:00,  3.96s/it]\n",
      "100%|██████████| 4/4 [00:15<00:00,  3.95s/it]\n",
      "100%|██████████| 4/4 [00:15<00:00,  3.95s/it]\n",
      "100%|██████████| 4/4 [00:15<00:00,  3.95s/it]\n",
      "100%|██████████| 4/4 [00:15<00:00,  3.95s/it]\n",
      "100%|██████████| 4/4 [00:15<00:00,  3.95s/it]\n",
      "100%|██████████| 4/4 [00:15<00:00,  3.95s/it]\n",
      "100%|██████████| 4/4 [00:15<00:00,  3.95s/it]\n",
      "100%|██████████| 4/4 [00:15<00:00,  3.95s/it]\n",
      "100%|██████████| 4/4 [00:15<00:00,  3.95s/it]\n",
      "100%|██████████| 4/4 [00:15<00:00,  3.95s/it]\n"
     ]
    },
    {
     "name": "stdout",
     "output_type": "stream",
     "text": [
      "iter 3560: loss 5.8825, time 15820.44ms\n"
     ]
    },
    {
     "name": "stderr",
     "output_type": "stream",
     "text": [
      "100%|██████████| 4/4 [00:15<00:00,  3.94s/it]\n",
      "100%|██████████| 4/4 [00:15<00:00,  3.95s/it]\n",
      "100%|██████████| 4/4 [00:15<00:00,  3.95s/it]\n",
      "100%|██████████| 4/4 [00:15<00:00,  3.95s/it]\n",
      "100%|██████████| 4/4 [00:15<00:00,  3.95s/it]\n",
      "100%|██████████| 4/4 [00:15<00:00,  3.95s/it]\n",
      "100%|██████████| 4/4 [00:15<00:00,  3.95s/it]\n",
      "100%|██████████| 4/4 [00:15<00:00,  3.95s/it]\n",
      "100%|██████████| 4/4 [00:15<00:00,  3.95s/it]\n",
      "100%|██████████| 4/4 [00:15<00:00,  3.94s/it]\n",
      "100%|██████████| 4/4 [00:15<00:00,  3.94s/it]\n",
      "100%|██████████| 4/4 [00:15<00:00,  3.94s/it]\n",
      "100%|██████████| 4/4 [00:15<00:00,  3.94s/it]\n",
      "100%|██████████| 4/4 [00:15<00:00,  3.94s/it]\n",
      "100%|██████████| 4/4 [00:15<00:00,  3.93s/it]\n",
      "100%|██████████| 4/4 [00:15<00:00,  3.94s/it]\n",
      "100%|██████████| 4/4 [00:15<00:00,  3.94s/it]\n",
      "100%|██████████| 4/4 [00:15<00:00,  3.93s/it]\n",
      "100%|██████████| 4/4 [00:15<00:00,  3.94s/it]\n",
      "100%|██████████| 4/4 [00:15<00:00,  3.94s/it]\n"
     ]
    },
    {
     "name": "stdout",
     "output_type": "stream",
     "text": [
      "iter 3580: loss 6.2156, time 15791.89ms\n"
     ]
    },
    {
     "name": "stderr",
     "output_type": "stream",
     "text": [
      "100%|██████████| 4/4 [00:15<00:00,  3.93s/it]\n",
      "100%|██████████| 4/4 [00:15<00:00,  3.94s/it]\n",
      "100%|██████████| 4/4 [00:15<00:00,  3.94s/it]\n",
      "100%|██████████| 4/4 [00:15<00:00,  3.94s/it]\n",
      "100%|██████████| 4/4 [00:15<00:00,  3.94s/it]\n",
      "100%|██████████| 4/4 [00:15<00:00,  3.94s/it]\n",
      "100%|██████████| 4/4 [00:15<00:00,  3.94s/it]\n",
      "100%|██████████| 4/4 [00:15<00:00,  3.92s/it]\n",
      "100%|██████████| 4/4 [00:15<00:00,  3.82s/it]\n",
      "100%|██████████| 4/4 [00:15<00:00,  3.81s/it]\n",
      "100%|██████████| 4/4 [00:15<00:00,  3.82s/it]\n",
      "100%|██████████| 4/4 [00:15<00:00,  3.82s/it]\n",
      "100%|██████████| 4/4 [00:15<00:00,  3.82s/it]\n",
      "100%|██████████| 4/4 [00:15<00:00,  3.81s/it]\n",
      "100%|██████████| 4/4 [00:15<00:00,  3.81s/it]\n",
      "100%|██████████| 4/4 [00:15<00:00,  3.82s/it]\n",
      "100%|██████████| 4/4 [00:15<00:00,  3.81s/it]\n",
      "100%|██████████| 4/4 [00:15<00:00,  3.81s/it]\n",
      "100%|██████████| 4/4 [00:15<00:00,  3.81s/it]\n"
     ]
    },
    {
     "name": "stdout",
     "output_type": "stream",
     "text": [
      "step 3600: train loss 5.9617, val loss 6.0428\n",
      "train ppl 388.25, val ppl 421.09\n",
      "📈 Train/Val Gap: 0.0812 (1.36%)\n",
      "✅ 新的最佳驗證損失: 6.0428\n"
     ]
    },
    {
     "name": "stderr",
     "output_type": "stream",
     "text": [
      "100%|██████████| 4/4 [00:15<00:00,  3.81s/it]\n"
     ]
    },
    {
     "name": "stdout",
     "output_type": "stream",
     "text": [
      "iter 3600: loss 6.1778, time 102531.98ms\n"
     ]
    },
    {
     "name": "stderr",
     "output_type": "stream",
     "text": [
      "100%|██████████| 4/4 [00:15<00:00,  3.81s/it]\n",
      "100%|██████████| 4/4 [00:15<00:00,  3.82s/it]\n",
      "100%|██████████| 4/4 [00:15<00:00,  3.81s/it]\n",
      "100%|██████████| 4/4 [00:15<00:00,  3.81s/it]\n",
      "100%|██████████| 4/4 [00:15<00:00,  3.81s/it]\n",
      "100%|██████████| 4/4 [00:15<00:00,  3.86s/it]\n",
      "100%|██████████| 4/4 [00:15<00:00,  3.91s/it]\n",
      "100%|██████████| 4/4 [00:15<00:00,  3.91s/it]\n",
      "100%|██████████| 4/4 [00:15<00:00,  3.91s/it]\n",
      "100%|██████████| 4/4 [00:15<00:00,  3.91s/it]\n",
      "100%|██████████| 4/4 [00:15<00:00,  3.91s/it]\n",
      "100%|██████████| 4/4 [00:15<00:00,  3.91s/it]\n",
      "100%|██████████| 4/4 [00:15<00:00,  3.91s/it]\n",
      "100%|██████████| 4/4 [00:15<00:00,  3.91s/it]\n",
      "100%|██████████| 4/4 [00:15<00:00,  3.91s/it]\n",
      "100%|██████████| 4/4 [00:15<00:00,  3.93s/it]\n",
      "100%|██████████| 4/4 [00:15<00:00,  3.91s/it]\n",
      "100%|██████████| 4/4 [00:15<00:00,  3.91s/it]\n",
      "100%|██████████| 4/4 [00:15<00:00,  3.91s/it]\n",
      "100%|██████████| 4/4 [00:15<00:00,  3.91s/it]\n"
     ]
    },
    {
     "name": "stdout",
     "output_type": "stream",
     "text": [
      "iter 3620: loss 6.1810, time 15671.98ms\n"
     ]
    },
    {
     "name": "stderr",
     "output_type": "stream",
     "text": [
      "100%|██████████| 4/4 [00:15<00:00,  3.91s/it]\n",
      "100%|██████████| 4/4 [00:15<00:00,  3.91s/it]\n",
      "100%|██████████| 4/4 [00:15<00:00,  3.91s/it]\n",
      "100%|██████████| 4/4 [00:15<00:00,  3.91s/it]\n",
      "100%|██████████| 4/4 [00:15<00:00,  3.92s/it]\n",
      "100%|██████████| 4/4 [00:15<00:00,  3.91s/it]\n",
      "100%|██████████| 4/4 [00:15<00:00,  3.91s/it]\n",
      "100%|██████████| 4/4 [00:15<00:00,  3.93s/it]\n",
      "100%|██████████| 4/4 [00:15<00:00,  3.91s/it]\n",
      "100%|██████████| 4/4 [00:15<00:00,  3.91s/it]\n",
      "100%|██████████| 4/4 [00:15<00:00,  3.91s/it]\n",
      "100%|██████████| 4/4 [00:15<00:00,  3.91s/it]\n",
      "100%|██████████| 4/4 [00:15<00:00,  3.91s/it]\n",
      "100%|██████████| 4/4 [00:15<00:00,  3.91s/it]\n",
      "100%|██████████| 4/4 [00:15<00:00,  3.91s/it]\n",
      "100%|██████████| 4/4 [00:15<00:00,  3.91s/it]\n",
      "100%|██████████| 4/4 [00:15<00:00,  3.91s/it]\n",
      "100%|██████████| 4/4 [00:15<00:00,  3.91s/it]\n",
      "100%|██████████| 4/4 [00:15<00:00,  3.91s/it]\n",
      "100%|██████████| 4/4 [00:15<00:00,  3.91s/it]\n"
     ]
    },
    {
     "name": "stdout",
     "output_type": "stream",
     "text": [
      "iter 3640: loss 5.3467, time 15668.55ms\n"
     ]
    },
    {
     "name": "stderr",
     "output_type": "stream",
     "text": [
      "100%|██████████| 4/4 [00:15<00:00,  3.90s/it]\n",
      "100%|██████████| 4/4 [00:15<00:00,  3.91s/it]\n",
      "100%|██████████| 4/4 [00:15<00:00,  3.91s/it]\n",
      "100%|██████████| 4/4 [00:15<00:00,  3.94s/it]\n",
      "100%|██████████| 4/4 [00:15<00:00,  3.91s/it]\n",
      "100%|██████████| 4/4 [00:15<00:00,  3.91s/it]\n",
      "100%|██████████| 4/4 [00:15<00:00,  3.91s/it]\n",
      "100%|██████████| 4/4 [00:15<00:00,  3.91s/it]\n",
      "100%|██████████| 4/4 [00:15<00:00,  3.91s/it]\n",
      "100%|██████████| 4/4 [00:15<00:00,  3.91s/it]\n",
      "100%|██████████| 4/4 [00:15<00:00,  3.91s/it]\n",
      "100%|██████████| 4/4 [00:15<00:00,  3.91s/it]\n",
      "100%|██████████| 4/4 [00:15<00:00,  3.91s/it]\n",
      "100%|██████████| 4/4 [00:15<00:00,  3.91s/it]\n",
      "100%|██████████| 4/4 [00:15<00:00,  3.91s/it]\n",
      "100%|██████████| 4/4 [00:15<00:00,  3.92s/it]\n",
      "100%|██████████| 4/4 [00:15<00:00,  3.91s/it]\n",
      "100%|██████████| 4/4 [00:15<00:00,  3.91s/it]\n",
      "100%|██████████| 4/4 [00:15<00:00,  3.91s/it]\n",
      "100%|██████████| 4/4 [00:15<00:00,  3.91s/it]\n"
     ]
    },
    {
     "name": "stdout",
     "output_type": "stream",
     "text": [
      "iter 3660: loss 5.5373, time 15665.58ms\n"
     ]
    },
    {
     "name": "stderr",
     "output_type": "stream",
     "text": [
      "100%|██████████| 4/4 [00:15<00:00,  3.90s/it]\n",
      "100%|██████████| 4/4 [00:15<00:00,  3.91s/it]\n",
      "100%|██████████| 4/4 [00:15<00:00,  3.91s/it]\n",
      "100%|██████████| 4/4 [00:15<00:00,  3.91s/it]\n",
      "100%|██████████| 4/4 [00:15<00:00,  3.91s/it]\n",
      "100%|██████████| 4/4 [00:15<00:00,  3.91s/it]\n",
      "100%|██████████| 4/4 [00:15<00:00,  3.91s/it]\n",
      "100%|██████████| 4/4 [00:15<00:00,  3.91s/it]\n",
      "100%|██████████| 4/4 [00:15<00:00,  3.91s/it]\n",
      "100%|██████████| 4/4 [00:15<00:00,  3.91s/it]\n",
      "100%|██████████| 4/4 [00:15<00:00,  3.92s/it]\n",
      "100%|██████████| 4/4 [00:15<00:00,  3.91s/it]\n",
      "100%|██████████| 4/4 [00:15<00:00,  3.91s/it]\n",
      "100%|██████████| 4/4 [00:15<00:00,  3.91s/it]\n",
      "100%|██████████| 4/4 [00:15<00:00,  3.91s/it]\n",
      "100%|██████████| 4/4 [00:15<00:00,  3.91s/it]\n",
      "100%|██████████| 4/4 [00:15<00:00,  3.91s/it]\n",
      "100%|██████████| 4/4 [00:15<00:00,  3.91s/it]\n",
      "100%|██████████| 4/4 [00:15<00:00,  3.91s/it]\n",
      "100%|██████████| 4/4 [00:15<00:00,  3.91s/it]\n"
     ]
    },
    {
     "name": "stdout",
     "output_type": "stream",
     "text": [
      "iter 3680: loss 6.0197, time 15664.84ms\n"
     ]
    },
    {
     "name": "stderr",
     "output_type": "stream",
     "text": [
      "100%|██████████| 4/4 [00:15<00:00,  3.91s/it]\n",
      "100%|██████████| 4/4 [00:15<00:00,  3.91s/it]\n",
      "100%|██████████| 4/4 [00:15<00:00,  3.91s/it]\n",
      "100%|██████████| 4/4 [00:15<00:00,  3.91s/it]\n",
      "100%|██████████| 4/4 [00:15<00:00,  3.91s/it]\n",
      "100%|██████████| 4/4 [00:15<00:00,  3.91s/it]\n",
      "100%|██████████| 4/4 [00:15<00:00,  3.91s/it]\n",
      "100%|██████████| 4/4 [00:15<00:00,  3.91s/it]\n",
      "100%|██████████| 4/4 [00:15<00:00,  3.91s/it]\n",
      "100%|██████████| 4/4 [00:15<00:00,  3.91s/it]\n",
      "100%|██████████| 4/4 [00:15<00:00,  3.91s/it]\n",
      "100%|██████████| 4/4 [00:15<00:00,  3.91s/it]\n",
      "100%|██████████| 4/4 [00:15<00:00,  3.91s/it]\n",
      "100%|██████████| 4/4 [00:15<00:00,  3.91s/it]\n",
      "100%|██████████| 4/4 [00:15<00:00,  3.91s/it]\n",
      "100%|██████████| 4/4 [00:15<00:00,  3.91s/it]\n",
      "100%|██████████| 4/4 [00:15<00:00,  3.91s/it]\n",
      "100%|██████████| 4/4 [00:15<00:00,  3.91s/it]\n",
      "100%|██████████| 4/4 [00:15<00:00,  3.91s/it]\n",
      "100%|██████████| 4/4 [00:15<00:00,  3.91s/it]\n"
     ]
    },
    {
     "name": "stdout",
     "output_type": "stream",
     "text": [
      "iter 3700: loss 5.5654, time 15664.81ms\n"
     ]
    },
    {
     "name": "stderr",
     "output_type": "stream",
     "text": [
      "100%|██████████| 4/4 [00:15<00:00,  3.90s/it]\n",
      "100%|██████████| 4/4 [00:15<00:00,  3.94s/it]\n",
      "100%|██████████| 4/4 [00:15<00:00,  3.93s/it]\n",
      "100%|██████████| 4/4 [00:15<00:00,  3.93s/it]\n",
      "100%|██████████| 4/4 [00:15<00:00,  3.94s/it]\n",
      "100%|██████████| 4/4 [00:15<00:00,  3.94s/it]\n",
      "100%|██████████| 4/4 [00:15<00:00,  3.93s/it]\n",
      "100%|██████████| 4/4 [00:15<00:00,  3.93s/it]\n",
      "100%|██████████| 4/4 [00:15<00:00,  3.94s/it]\n",
      "100%|██████████| 4/4 [00:15<00:00,  3.93s/it]\n",
      "100%|██████████| 4/4 [00:15<00:00,  3.93s/it]\n",
      "100%|██████████| 4/4 [00:15<00:00,  3.93s/it]\n",
      "100%|██████████| 4/4 [00:15<00:00,  3.94s/it]\n",
      "100%|██████████| 4/4 [00:15<00:00,  3.94s/it]\n",
      "100%|██████████| 4/4 [00:15<00:00,  3.93s/it]\n",
      "100%|██████████| 4/4 [00:15<00:00,  3.93s/it]\n",
      "100%|██████████| 4/4 [00:15<00:00,  3.94s/it]\n",
      "100%|██████████| 4/4 [00:15<00:00,  3.93s/it]\n",
      "100%|██████████| 4/4 [00:15<00:00,  3.93s/it]\n",
      "100%|██████████| 4/4 [00:15<00:00,  3.93s/it]\n"
     ]
    },
    {
     "name": "stdout",
     "output_type": "stream",
     "text": [
      "iter 3720: loss 6.1644, time 15756.84ms\n"
     ]
    },
    {
     "name": "stderr",
     "output_type": "stream",
     "text": [
      "100%|██████████| 4/4 [00:15<00:00,  3.93s/it]\n",
      "100%|██████████| 4/4 [00:15<00:00,  3.94s/it]\n",
      "100%|██████████| 4/4 [00:15<00:00,  3.93s/it]\n",
      "100%|██████████| 4/4 [00:15<00:00,  3.94s/it]\n",
      "100%|██████████| 4/4 [00:15<00:00,  3.93s/it]\n",
      "100%|██████████| 4/4 [00:15<00:00,  3.93s/it]\n",
      "100%|██████████| 4/4 [00:15<00:00,  3.94s/it]\n",
      "100%|██████████| 4/4 [00:15<00:00,  3.94s/it]\n",
      "100%|██████████| 4/4 [00:15<00:00,  3.93s/it]\n",
      "100%|██████████| 4/4 [00:15<00:00,  3.93s/it]\n",
      "100%|██████████| 4/4 [00:15<00:00,  3.94s/it]\n",
      "100%|██████████| 4/4 [00:15<00:00,  3.94s/it]\n",
      "100%|██████████| 4/4 [00:15<00:00,  3.94s/it]\n",
      "100%|██████████| 4/4 [00:15<00:00,  3.93s/it]\n",
      "100%|██████████| 4/4 [00:15<00:00,  3.94s/it]\n",
      "100%|██████████| 4/4 [00:15<00:00,  3.94s/it]\n",
      "100%|██████████| 4/4 [00:15<00:00,  3.93s/it]\n",
      "100%|██████████| 4/4 [00:15<00:00,  3.93s/it]\n",
      "100%|██████████| 4/4 [00:15<00:00,  3.94s/it]\n",
      "100%|██████████| 4/4 [00:15<00:00,  3.94s/it]\n"
     ]
    },
    {
     "name": "stdout",
     "output_type": "stream",
     "text": [
      "iter 3740: loss 6.0262, time 15775.18ms\n"
     ]
    },
    {
     "name": "stderr",
     "output_type": "stream",
     "text": [
      "100%|██████████| 4/4 [00:15<00:00,  3.93s/it]\n",
      "100%|██████████| 4/4 [00:15<00:00,  3.93s/it]\n",
      "100%|██████████| 4/4 [00:15<00:00,  3.94s/it]\n",
      "100%|██████████| 4/4 [00:15<00:00,  3.94s/it]\n",
      "100%|██████████| 4/4 [00:15<00:00,  3.94s/it]\n",
      "100%|██████████| 4/4 [00:15<00:00,  3.94s/it]\n",
      "100%|██████████| 4/4 [00:15<00:00,  3.94s/it]\n",
      "100%|██████████| 4/4 [00:15<00:00,  3.93s/it]\n",
      "100%|██████████| 4/4 [00:15<00:00,  3.94s/it]\n",
      "100%|██████████| 4/4 [00:15<00:00,  3.94s/it]\n",
      "100%|██████████| 4/4 [00:15<00:00,  3.94s/it]\n",
      "100%|██████████| 4/4 [00:15<00:00,  3.93s/it]\n",
      "100%|██████████| 4/4 [00:15<00:00,  3.94s/it]\n",
      "100%|██████████| 4/4 [00:15<00:00,  3.94s/it]\n",
      "100%|██████████| 4/4 [00:15<00:00,  3.94s/it]\n",
      "100%|██████████| 4/4 [00:15<00:00,  3.93s/it]\n",
      "100%|██████████| 4/4 [00:15<00:00,  3.94s/it]\n",
      "100%|██████████| 4/4 [00:15<00:00,  3.93s/it]\n",
      "100%|██████████| 4/4 [00:15<00:00,  3.94s/it]\n",
      "100%|██████████| 4/4 [00:15<00:00,  3.93s/it]\n"
     ]
    },
    {
     "name": "stdout",
     "output_type": "stream",
     "text": [
      "iter 3760: loss 5.6009, time 15751.47ms\n"
     ]
    },
    {
     "name": "stderr",
     "output_type": "stream",
     "text": [
      "100%|██████████| 4/4 [00:15<00:00,  3.93s/it]\n",
      "100%|██████████| 4/4 [00:15<00:00,  3.93s/it]\n",
      "100%|██████████| 4/4 [00:15<00:00,  3.94s/it]\n",
      "100%|██████████| 4/4 [00:15<00:00,  3.93s/it]\n",
      "100%|██████████| 4/4 [00:15<00:00,  3.93s/it]\n",
      "100%|██████████| 4/4 [00:15<00:00,  3.93s/it]\n",
      "100%|██████████| 4/4 [00:15<00:00,  3.93s/it]\n",
      "100%|██████████| 4/4 [00:15<00:00,  3.94s/it]\n",
      "100%|██████████| 4/4 [00:15<00:00,  3.93s/it]\n",
      "100%|██████████| 4/4 [00:15<00:00,  3.94s/it]\n",
      "100%|██████████| 4/4 [00:15<00:00,  3.94s/it]\n",
      "100%|██████████| 4/4 [00:15<00:00,  3.93s/it]\n",
      "100%|██████████| 4/4 [00:15<00:00,  3.93s/it]\n",
      "100%|██████████| 4/4 [00:15<00:00,  3.94s/it]\n",
      "100%|██████████| 4/4 [00:15<00:00,  3.93s/it]\n",
      "100%|██████████| 4/4 [00:15<00:00,  3.93s/it]\n",
      "100%|██████████| 4/4 [00:15<00:00,  3.94s/it]\n",
      "100%|██████████| 4/4 [00:15<00:00,  3.94s/it]\n",
      "100%|██████████| 4/4 [00:15<00:00,  3.93s/it]\n",
      "100%|██████████| 4/4 [00:15<00:00,  3.93s/it]\n"
     ]
    },
    {
     "name": "stdout",
     "output_type": "stream",
     "text": [
      "iter 3780: loss 6.1376, time 15757.86ms\n"
     ]
    },
    {
     "name": "stderr",
     "output_type": "stream",
     "text": [
      "100%|██████████| 4/4 [00:15<00:00,  3.93s/it]\n",
      "100%|██████████| 4/4 [00:15<00:00,  3.93s/it]\n",
      "100%|██████████| 4/4 [00:15<00:00,  3.93s/it]\n",
      "100%|██████████| 4/4 [00:15<00:00,  3.93s/it]\n",
      "100%|██████████| 4/4 [00:15<00:00,  3.94s/it]\n",
      "100%|██████████| 4/4 [00:15<00:00,  3.93s/it]\n",
      "100%|██████████| 4/4 [00:15<00:00,  3.94s/it]\n",
      "100%|██████████| 4/4 [00:15<00:00,  3.97s/it]\n",
      "100%|██████████| 4/4 [00:15<00:00,  3.97s/it]\n",
      "100%|██████████| 4/4 [00:15<00:00,  3.97s/it]\n",
      "100%|██████████| 4/4 [00:15<00:00,  3.97s/it]\n",
      "100%|██████████| 4/4 [00:15<00:00,  3.97s/it]\n",
      "100%|██████████| 4/4 [00:15<00:00,  3.97s/it]\n",
      "100%|██████████| 4/4 [00:15<00:00,  3.97s/it]\n",
      "100%|██████████| 4/4 [00:15<00:00,  3.97s/it]\n",
      "100%|██████████| 4/4 [00:15<00:00,  3.97s/it]\n",
      "100%|██████████| 4/4 [00:15<00:00,  3.97s/it]\n",
      "100%|██████████| 4/4 [00:15<00:00,  3.97s/it]\n",
      "100%|██████████| 4/4 [00:15<00:00,  3.97s/it]\n"
     ]
    },
    {
     "name": "stdout",
     "output_type": "stream",
     "text": [
      "step 3800: train loss 5.9372, val loss 6.0073\n",
      "train ppl 378.87, val ppl 406.40\n",
      "📈 Train/Val Gap: 0.0701 (1.18%)\n",
      "✅ 新的最佳驗證損失: 6.0073\n"
     ]
    },
    {
     "name": "stderr",
     "output_type": "stream",
     "text": [
      "100%|██████████| 4/4 [00:15<00:00,  3.96s/it]\n"
     ]
    },
    {
     "name": "stdout",
     "output_type": "stream",
     "text": [
      "iter 3800: loss 6.0470, time 111615.09ms\n"
     ]
    },
    {
     "name": "stderr",
     "output_type": "stream",
     "text": [
      "100%|██████████| 4/4 [00:15<00:00,  3.96s/it]\n",
      "100%|██████████| 4/4 [00:15<00:00,  3.97s/it]\n",
      "100%|██████████| 4/4 [00:15<00:00,  3.97s/it]\n",
      "100%|██████████| 4/4 [00:15<00:00,  3.97s/it]\n",
      "100%|██████████| 4/4 [00:15<00:00,  3.97s/it]\n",
      "100%|██████████| 4/4 [00:15<00:00,  3.97s/it]\n",
      "100%|██████████| 4/4 [00:15<00:00,  3.97s/it]\n",
      "100%|██████████| 4/4 [00:15<00:00,  3.96s/it]\n",
      "100%|██████████| 4/4 [00:15<00:00,  3.97s/it]\n",
      "100%|██████████| 4/4 [00:15<00:00,  3.97s/it]\n",
      "100%|██████████| 4/4 [00:15<00:00,  3.97s/it]\n",
      "100%|██████████| 4/4 [00:15<00:00,  3.97s/it]\n",
      "100%|██████████| 4/4 [00:15<00:00,  3.97s/it]\n",
      "100%|██████████| 4/4 [00:15<00:00,  3.99s/it]\n",
      "100%|██████████| 4/4 [00:15<00:00,  3.97s/it]\n",
      "100%|██████████| 4/4 [00:15<00:00,  3.97s/it]\n",
      "100%|██████████| 4/4 [00:15<00:00,  3.98s/it]\n",
      "100%|██████████| 4/4 [00:15<00:00,  3.97s/it]\n",
      "100%|██████████| 4/4 [00:15<00:00,  3.97s/it]\n",
      "100%|██████████| 4/4 [00:15<00:00,  3.97s/it]\n"
     ]
    },
    {
     "name": "stdout",
     "output_type": "stream",
     "text": [
      "iter 3820: loss 5.9435, time 15895.73ms\n"
     ]
    },
    {
     "name": "stderr",
     "output_type": "stream",
     "text": [
      "100%|██████████| 4/4 [00:15<00:00,  3.97s/it]\n",
      "100%|██████████| 4/4 [00:15<00:00,  3.97s/it]\n",
      "100%|██████████| 4/4 [00:15<00:00,  3.97s/it]\n",
      "100%|██████████| 4/4 [00:15<00:00,  3.97s/it]\n",
      "100%|██████████| 4/4 [00:15<00:00,  3.97s/it]\n",
      "100%|██████████| 4/4 [00:15<00:00,  3.99s/it]\n",
      "100%|██████████| 4/4 [00:15<00:00,  3.97s/it]\n",
      "100%|██████████| 4/4 [00:15<00:00,  3.97s/it]\n",
      "100%|██████████| 4/4 [00:15<00:00,  3.97s/it]\n",
      "100%|██████████| 4/4 [00:15<00:00,  3.97s/it]\n",
      "100%|██████████| 4/4 [00:15<00:00,  3.97s/it]\n",
      "100%|██████████| 4/4 [00:15<00:00,  3.97s/it]\n",
      "100%|██████████| 4/4 [00:15<00:00,  3.97s/it]\n",
      "100%|██████████| 4/4 [00:15<00:00,  3.97s/it]\n",
      "100%|██████████| 4/4 [00:15<00:00,  3.96s/it]\n",
      "100%|██████████| 4/4 [00:15<00:00,  3.97s/it]\n",
      "100%|██████████| 4/4 [00:15<00:00,  3.97s/it]\n",
      "100%|██████████| 4/4 [00:15<00:00,  3.97s/it]\n",
      "100%|██████████| 4/4 [00:15<00:00,  3.97s/it]\n",
      "100%|██████████| 4/4 [00:15<00:00,  3.97s/it]\n"
     ]
    },
    {
     "name": "stdout",
     "output_type": "stream",
     "text": [
      "iter 3840: loss 6.1363, time 15917.12ms\n"
     ]
    },
    {
     "name": "stderr",
     "output_type": "stream",
     "text": [
      "100%|██████████| 4/4 [00:15<00:00,  3.96s/it]\n",
      "100%|██████████| 4/4 [00:15<00:00,  3.99s/it]\n",
      "100%|██████████| 4/4 [00:15<00:00,  3.97s/it]\n",
      "100%|██████████| 4/4 [00:15<00:00,  3.97s/it]\n",
      "100%|██████████| 4/4 [00:15<00:00,  3.97s/it]\n",
      "100%|██████████| 4/4 [00:15<00:00,  3.97s/it]\n",
      "100%|██████████| 4/4 [00:15<00:00,  3.97s/it]\n",
      "100%|██████████| 4/4 [00:15<00:00,  3.97s/it]\n",
      "100%|██████████| 4/4 [00:15<00:00,  3.97s/it]\n",
      "100%|██████████| 4/4 [00:15<00:00,  3.97s/it]\n",
      "100%|██████████| 4/4 [00:15<00:00,  3.97s/it]\n",
      "100%|██████████| 4/4 [00:15<00:00,  3.97s/it]\n",
      "100%|██████████| 4/4 [00:15<00:00,  3.97s/it]\n",
      "100%|██████████| 4/4 [00:15<00:00,  3.97s/it]\n",
      "100%|██████████| 4/4 [00:15<00:00,  3.97s/it]\n",
      "100%|██████████| 4/4 [00:15<00:00,  3.97s/it]\n",
      "100%|██████████| 4/4 [00:15<00:00,  3.97s/it]\n",
      "100%|██████████| 4/4 [00:15<00:00,  3.97s/it]\n",
      "100%|██████████| 4/4 [00:15<00:00,  3.97s/it]\n",
      "100%|██████████| 4/4 [00:15<00:00,  3.97s/it]\n"
     ]
    },
    {
     "name": "stdout",
     "output_type": "stream",
     "text": [
      "iter 3860: loss 5.7236, time 15909.36ms\n"
     ]
    },
    {
     "name": "stderr",
     "output_type": "stream",
     "text": [
      "100%|██████████| 4/4 [00:15<00:00,  3.96s/it]\n",
      "100%|██████████| 4/4 [00:15<00:00,  3.97s/it]\n",
      "100%|██████████| 4/4 [00:15<00:00,  3.97s/it]\n",
      "100%|██████████| 4/4 [00:15<00:00,  3.97s/it]\n",
      "100%|██████████| 4/4 [00:15<00:00,  3.97s/it]\n",
      "100%|██████████| 4/4 [00:15<00:00,  3.97s/it]\n",
      "100%|██████████| 4/4 [00:15<00:00,  3.97s/it]\n",
      "100%|██████████| 4/4 [00:15<00:00,  3.97s/it]\n",
      "100%|██████████| 4/4 [00:15<00:00,  3.97s/it]\n",
      "100%|██████████| 4/4 [00:15<00:00,  3.98s/it]\n",
      "100%|██████████| 4/4 [00:15<00:00,  3.97s/it]\n",
      "100%|██████████| 4/4 [00:15<00:00,  3.97s/it]\n",
      "100%|██████████| 4/4 [00:15<00:00,  3.97s/it]\n",
      "100%|██████████| 4/4 [00:15<00:00,  3.97s/it]\n",
      "100%|██████████| 4/4 [00:15<00:00,  3.97s/it]\n",
      "100%|██████████| 4/4 [00:15<00:00,  3.97s/it]\n",
      "100%|██████████| 4/4 [00:15<00:00,  3.97s/it]\n",
      "100%|██████████| 4/4 [00:15<00:00,  3.97s/it]\n",
      "100%|██████████| 4/4 [00:15<00:00,  3.97s/it]\n",
      "100%|██████████| 4/4 [00:15<00:00,  3.97s/it]\n"
     ]
    },
    {
     "name": "stdout",
     "output_type": "stream",
     "text": [
      "iter 3880: loss 5.7700, time 15902.37ms\n"
     ]
    },
    {
     "name": "stderr",
     "output_type": "stream",
     "text": [
      "100%|██████████| 4/4 [00:15<00:00,  3.96s/it]\n",
      "100%|██████████| 4/4 [00:15<00:00,  3.97s/it]\n",
      "100%|██████████| 4/4 [00:15<00:00,  3.97s/it]\n",
      "100%|██████████| 4/4 [00:15<00:00,  3.97s/it]\n",
      "100%|██████████| 4/4 [00:15<00:00,  3.97s/it]\n",
      "100%|██████████| 4/4 [00:15<00:00,  3.96s/it]\n",
      "100%|██████████| 4/4 [00:15<00:00,  3.97s/it]\n",
      "100%|██████████| 4/4 [00:15<00:00,  3.97s/it]\n",
      "100%|██████████| 4/4 [00:15<00:00,  3.97s/it]\n",
      "100%|██████████| 4/4 [00:15<00:00,  3.96s/it]\n",
      "100%|██████████| 4/4 [00:15<00:00,  3.97s/it]\n",
      "100%|██████████| 4/4 [00:15<00:00,  3.97s/it]\n",
      "100%|██████████| 4/4 [00:15<00:00,  3.97s/it]\n",
      "100%|██████████| 4/4 [00:15<00:00,  3.97s/it]\n",
      "100%|██████████| 4/4 [00:15<00:00,  3.97s/it]\n",
      "100%|██████████| 4/4 [00:15<00:00,  3.97s/it]\n",
      "100%|██████████| 4/4 [00:15<00:00,  3.97s/it]\n",
      "100%|██████████| 4/4 [00:15<00:00,  3.97s/it]\n",
      "100%|██████████| 4/4 [00:15<00:00,  3.97s/it]\n",
      "100%|██████████| 4/4 [00:15<00:00,  3.98s/it]\n"
     ]
    },
    {
     "name": "stdout",
     "output_type": "stream",
     "text": [
      "iter 3900: loss 6.1048, time 15928.35ms\n"
     ]
    },
    {
     "name": "stderr",
     "output_type": "stream",
     "text": [
      "100%|██████████| 4/4 [00:15<00:00,  3.97s/it]\n",
      "100%|██████████| 4/4 [00:15<00:00,  3.97s/it]\n",
      "100%|██████████| 4/4 [00:15<00:00,  3.97s/it]\n",
      "100%|██████████| 4/4 [00:15<00:00,  3.97s/it]\n",
      "100%|██████████| 4/4 [00:15<00:00,  3.97s/it]\n",
      "100%|██████████| 4/4 [00:15<00:00,  3.96s/it]\n",
      "100%|██████████| 4/4 [00:15<00:00,  3.94s/it]\n",
      "100%|██████████| 4/4 [00:15<00:00,  3.95s/it]\n",
      "100%|██████████| 4/4 [00:15<00:00,  3.94s/it]\n",
      "100%|██████████| 4/4 [00:15<00:00,  3.94s/it]\n",
      "100%|██████████| 4/4 [00:15<00:00,  3.94s/it]\n",
      "100%|██████████| 4/4 [00:15<00:00,  3.95s/it]\n",
      "100%|██████████| 4/4 [00:15<00:00,  3.94s/it]\n",
      "100%|██████████| 4/4 [00:15<00:00,  3.94s/it]\n",
      "100%|██████████| 4/4 [00:15<00:00,  3.95s/it]\n",
      "100%|██████████| 4/4 [00:15<00:00,  3.95s/it]\n",
      "100%|██████████| 4/4 [00:15<00:00,  3.94s/it]\n",
      "100%|██████████| 4/4 [00:15<00:00,  3.94s/it]\n",
      "100%|██████████| 4/4 [00:15<00:00,  3.94s/it]\n",
      "100%|██████████| 4/4 [00:15<00:00,  3.94s/it]\n"
     ]
    },
    {
     "name": "stdout",
     "output_type": "stream",
     "text": [
      "iter 3920: loss 6.0159, time 15790.79ms\n"
     ]
    },
    {
     "name": "stderr",
     "output_type": "stream",
     "text": [
      "100%|██████████| 4/4 [00:15<00:00,  3.94s/it]\n",
      "100%|██████████| 4/4 [00:15<00:00,  3.94s/it]\n",
      "100%|██████████| 4/4 [00:15<00:00,  3.95s/it]\n",
      "100%|██████████| 4/4 [00:15<00:00,  3.95s/it]\n",
      "100%|██████████| 4/4 [00:15<00:00,  3.95s/it]\n",
      "100%|██████████| 4/4 [00:15<00:00,  3.95s/it]\n",
      "100%|██████████| 4/4 [00:15<00:00,  3.95s/it]\n",
      "100%|██████████| 4/4 [00:15<00:00,  3.95s/it]\n",
      "100%|██████████| 4/4 [00:15<00:00,  3.94s/it]\n",
      "100%|██████████| 4/4 [00:15<00:00,  3.94s/it]\n",
      "100%|██████████| 4/4 [00:15<00:00,  3.95s/it]\n",
      "100%|██████████| 4/4 [00:15<00:00,  3.95s/it]\n",
      "100%|██████████| 4/4 [00:15<00:00,  3.94s/it]\n",
      "100%|██████████| 4/4 [00:15<00:00,  3.95s/it]\n",
      "100%|██████████| 4/4 [00:15<00:00,  3.94s/it]\n",
      "100%|██████████| 4/4 [00:15<00:00,  3.94s/it]\n",
      "100%|██████████| 4/4 [00:15<00:00,  3.95s/it]\n",
      "100%|██████████| 4/4 [00:15<00:00,  3.94s/it]\n",
      "100%|██████████| 4/4 [00:15<00:00,  3.94s/it]\n",
      "100%|██████████| 4/4 [00:15<00:00,  3.94s/it]\n"
     ]
    },
    {
     "name": "stdout",
     "output_type": "stream",
     "text": [
      "iter 3940: loss 5.6257, time 15805.05ms\n"
     ]
    },
    {
     "name": "stderr",
     "output_type": "stream",
     "text": [
      "100%|██████████| 4/4 [00:15<00:00,  3.93s/it]\n",
      "100%|██████████| 4/4 [00:15<00:00,  3.95s/it]\n",
      "100%|██████████| 4/4 [00:15<00:00,  3.95s/it]\n",
      "100%|██████████| 4/4 [00:15<00:00,  3.95s/it]\n",
      "100%|██████████| 4/4 [00:15<00:00,  3.94s/it]\n",
      "100%|██████████| 4/4 [00:15<00:00,  3.95s/it]\n",
      "100%|██████████| 4/4 [00:15<00:00,  3.94s/it]\n",
      "100%|██████████| 4/4 [00:15<00:00,  3.95s/it]\n",
      "100%|██████████| 4/4 [00:15<00:00,  3.95s/it]\n",
      "100%|██████████| 4/4 [00:15<00:00,  3.95s/it]\n",
      "100%|██████████| 4/4 [00:15<00:00,  3.94s/it]\n",
      "100%|██████████| 4/4 [00:15<00:00,  3.94s/it]\n",
      "100%|██████████| 4/4 [00:15<00:00,  3.95s/it]\n",
      "100%|██████████| 4/4 [00:15<00:00,  3.95s/it]\n",
      "100%|██████████| 4/4 [00:15<00:00,  3.95s/it]\n",
      "100%|██████████| 4/4 [00:15<00:00,  3.94s/it]\n",
      "100%|██████████| 4/4 [00:15<00:00,  3.95s/it]\n",
      "100%|██████████| 4/4 [00:15<00:00,  3.94s/it]\n",
      "100%|██████████| 4/4 [00:15<00:00,  3.94s/it]\n",
      "100%|██████████| 4/4 [00:15<00:00,  3.94s/it]\n"
     ]
    },
    {
     "name": "stdout",
     "output_type": "stream",
     "text": [
      "iter 3960: loss 6.0917, time 15797.97ms\n"
     ]
    },
    {
     "name": "stderr",
     "output_type": "stream",
     "text": [
      "100%|██████████| 4/4 [00:15<00:00,  3.94s/it]\n",
      "100%|██████████| 4/4 [00:15<00:00,  3.94s/it]\n",
      "100%|██████████| 4/4 [00:15<00:00,  3.94s/it]\n",
      "100%|██████████| 4/4 [00:15<00:00,  3.94s/it]\n",
      "100%|██████████| 4/4 [00:15<00:00,  3.95s/it]\n",
      "100%|██████████| 4/4 [00:15<00:00,  3.94s/it]\n",
      "100%|██████████| 4/4 [00:15<00:00,  3.94s/it]\n",
      "100%|██████████| 4/4 [00:15<00:00,  3.95s/it]\n",
      "100%|██████████| 4/4 [00:15<00:00,  3.95s/it]\n",
      "100%|██████████| 4/4 [00:15<00:00,  3.94s/it]\n",
      "100%|██████████| 4/4 [00:15<00:00,  3.94s/it]\n",
      "100%|██████████| 4/4 [00:15<00:00,  3.95s/it]\n",
      "100%|██████████| 4/4 [00:15<00:00,  3.94s/it]\n",
      "100%|██████████| 4/4 [00:15<00:00,  3.94s/it]\n",
      "100%|██████████| 4/4 [00:15<00:00,  3.94s/it]\n",
      "100%|██████████| 4/4 [00:15<00:00,  3.94s/it]\n",
      "100%|██████████| 4/4 [00:15<00:00,  3.94s/it]\n",
      "100%|██████████| 4/4 [00:15<00:00,  3.94s/it]\n",
      "100%|██████████| 4/4 [00:15<00:00,  3.95s/it]\n",
      "100%|██████████| 4/4 [00:15<00:00,  3.95s/it]\n"
     ]
    },
    {
     "name": "stdout",
     "output_type": "stream",
     "text": [
      "iter 3980: loss 6.0447, time 15815.32ms\n"
     ]
    },
    {
     "name": "stderr",
     "output_type": "stream",
     "text": [
      "100%|██████████| 4/4 [00:15<00:00,  3.94s/it]\n",
      "100%|██████████| 4/4 [00:15<00:00,  3.94s/it]\n",
      "100%|██████████| 4/4 [00:15<00:00,  3.94s/it]\n",
      "100%|██████████| 4/4 [00:15<00:00,  3.95s/it]\n",
      "100%|██████████| 4/4 [00:15<00:00,  3.94s/it]\n",
      "100%|██████████| 4/4 [00:15<00:00,  3.95s/it]\n",
      "100%|██████████| 4/4 [00:15<00:00,  3.95s/it]\n",
      "100%|██████████| 4/4 [00:15<00:00,  3.94s/it]\n",
      "100%|██████████| 4/4 [00:15<00:00,  3.94s/it]\n",
      "100%|██████████| 4/4 [00:15<00:00,  3.94s/it]\n",
      "100%|██████████| 4/4 [00:15<00:00,  3.95s/it]\n",
      "100%|██████████| 4/4 [00:15<00:00,  3.95s/it]\n",
      "100%|██████████| 4/4 [00:15<00:00,  3.94s/it]\n",
      "100%|██████████| 4/4 [00:15<00:00,  3.94s/it]\n",
      "100%|██████████| 4/4 [00:15<00:00,  3.95s/it]\n",
      "100%|██████████| 4/4 [00:15<00:00,  3.94s/it]\n",
      "100%|██████████| 4/4 [00:15<00:00,  3.94s/it]\n",
      "100%|██████████| 4/4 [00:15<00:00,  3.94s/it]\n",
      "100%|██████████| 4/4 [00:15<00:00,  3.94s/it]\n"
     ]
    },
    {
     "name": "stdout",
     "output_type": "stream",
     "text": [
      "step 4000: train loss 5.9643, val loss 6.0411\n",
      "train ppl 389.27, val ppl 420.34\n",
      "📈 Train/Val Gap: 0.0768 (1.29%)\n"
     ]
    },
    {
     "name": "stderr",
     "output_type": "stream",
     "text": [
      "100%|██████████| 4/4 [00:15<00:00,  3.94s/it]\n"
     ]
    },
    {
     "name": "stdout",
     "output_type": "stream",
     "text": [
      "iter 4000: loss 5.9948, time 109791.48ms\n"
     ]
    },
    {
     "name": "stderr",
     "output_type": "stream",
     "text": [
      "100%|██████████| 4/4 [00:15<00:00,  3.94s/it]\n",
      "100%|██████████| 4/4 [00:15<00:00,  3.94s/it]\n",
      "100%|██████████| 4/4 [00:15<00:00,  3.95s/it]\n",
      "100%|██████████| 4/4 [00:15<00:00,  3.95s/it]\n",
      "100%|██████████| 4/4 [00:15<00:00,  3.94s/it]\n",
      "100%|██████████| 4/4 [00:15<00:00,  3.94s/it]\n",
      "100%|██████████| 4/4 [00:15<00:00,  3.94s/it]\n",
      "100%|██████████| 4/4 [00:15<00:00,  3.95s/it]\n",
      "100%|██████████| 4/4 [00:15<00:00,  3.94s/it]\n",
      "100%|██████████| 4/4 [00:15<00:00,  3.95s/it]\n",
      "100%|██████████| 4/4 [00:15<00:00,  3.94s/it]\n",
      "100%|██████████| 4/4 [00:15<00:00,  3.94s/it]\n",
      "100%|██████████| 4/4 [00:15<00:00,  3.94s/it]\n",
      "100%|██████████| 4/4 [00:15<00:00,  3.95s/it]\n",
      "100%|██████████| 4/4 [00:15<00:00,  3.96s/it]\n",
      "100%|██████████| 4/4 [00:15<00:00,  3.95s/it]\n",
      "100%|██████████| 4/4 [00:15<00:00,  3.94s/it]\n",
      "100%|██████████| 4/4 [00:15<00:00,  3.94s/it]\n",
      "100%|██████████| 4/4 [00:15<00:00,  3.95s/it]\n",
      "100%|██████████| 4/4 [00:15<00:00,  3.94s/it]\n"
     ]
    },
    {
     "name": "stdout",
     "output_type": "stream",
     "text": [
      "iter 4020: loss 5.9998, time 15797.61ms\n"
     ]
    },
    {
     "name": "stderr",
     "output_type": "stream",
     "text": [
      "100%|██████████| 4/4 [00:15<00:00,  3.94s/it]\n",
      "100%|██████████| 4/4 [00:15<00:00,  3.95s/it]\n",
      "100%|██████████| 4/4 [00:15<00:00,  3.95s/it]\n",
      "100%|██████████| 4/4 [00:15<00:00,  3.94s/it]\n",
      "100%|██████████| 4/4 [00:15<00:00,  3.94s/it]\n",
      "100%|██████████| 4/4 [00:15<00:00,  3.94s/it]\n",
      "100%|██████████| 4/4 [00:15<00:00,  3.96s/it]\n",
      "100%|██████████| 4/4 [00:15<00:00,  3.94s/it]\n",
      "100%|██████████| 4/4 [00:15<00:00,  3.94s/it]\n",
      "100%|██████████| 4/4 [00:15<00:00,  3.94s/it]\n",
      "100%|██████████| 4/4 [00:15<00:00,  3.95s/it]\n",
      "100%|██████████| 4/4 [00:15<00:00,  3.97s/it]\n",
      "100%|██████████| 4/4 [00:15<00:00,  3.97s/it]\n",
      "100%|██████████| 4/4 [00:15<00:00,  3.97s/it]\n",
      "100%|██████████| 4/4 [00:15<00:00,  3.97s/it]\n",
      "100%|██████████| 4/4 [00:15<00:00,  3.97s/it]\n",
      "100%|██████████| 4/4 [00:15<00:00,  3.97s/it]\n",
      "100%|██████████| 4/4 [00:15<00:00,  3.98s/it]\n",
      "100%|██████████| 4/4 [00:15<00:00,  3.97s/it]\n",
      "100%|██████████| 4/4 [00:15<00:00,  3.97s/it]\n"
     ]
    },
    {
     "name": "stdout",
     "output_type": "stream",
     "text": [
      "iter 4040: loss 6.3492, time 15903.13ms\n"
     ]
    },
    {
     "name": "stderr",
     "output_type": "stream",
     "text": [
      "100%|██████████| 4/4 [00:15<00:00,  3.96s/it]\n",
      "100%|██████████| 4/4 [00:15<00:00,  3.98s/it]\n",
      "100%|██████████| 4/4 [00:15<00:00,  3.99s/it]\n",
      "100%|██████████| 4/4 [00:15<00:00,  3.97s/it]\n",
      "100%|██████████| 4/4 [00:15<00:00,  3.97s/it]\n",
      "100%|██████████| 4/4 [00:15<00:00,  3.97s/it]\n",
      "100%|██████████| 4/4 [00:15<00:00,  3.97s/it]\n",
      "100%|██████████| 4/4 [00:15<00:00,  3.97s/it]\n",
      "100%|██████████| 4/4 [00:15<00:00,  3.97s/it]\n",
      "100%|██████████| 4/4 [00:15<00:00,  3.97s/it]\n",
      "100%|██████████| 4/4 [00:15<00:00,  3.97s/it]\n",
      "100%|██████████| 4/4 [00:15<00:00,  3.97s/it]\n",
      "100%|██████████| 4/4 [00:15<00:00,  3.97s/it]\n",
      "100%|██████████| 4/4 [00:15<00:00,  3.97s/it]\n",
      "100%|██████████| 4/4 [00:15<00:00,  3.97s/it]\n",
      "100%|██████████| 4/4 [00:15<00:00,  3.97s/it]\n",
      "100%|██████████| 4/4 [00:15<00:00,  3.97s/it]\n",
      "100%|██████████| 4/4 [00:15<00:00,  3.97s/it]\n",
      "100%|██████████| 4/4 [00:15<00:00,  3.97s/it]\n",
      "100%|██████████| 4/4 [00:15<00:00,  3.98s/it]\n"
     ]
    },
    {
     "name": "stdout",
     "output_type": "stream",
     "text": [
      "iter 4060: loss 6.0030, time 15928.80ms\n"
     ]
    },
    {
     "name": "stderr",
     "output_type": "stream",
     "text": [
      "100%|██████████| 4/4 [00:15<00:00,  3.97s/it]\n",
      "100%|██████████| 4/4 [00:15<00:00,  3.97s/it]\n",
      "100%|██████████| 4/4 [00:15<00:00,  3.97s/it]\n",
      "100%|██████████| 4/4 [00:15<00:00,  3.97s/it]\n",
      "100%|██████████| 4/4 [00:15<00:00,  3.97s/it]\n",
      "100%|██████████| 4/4 [00:15<00:00,  3.97s/it]\n",
      "100%|██████████| 4/4 [00:15<00:00,  3.97s/it]\n",
      "100%|██████████| 4/4 [00:15<00:00,  3.97s/it]\n",
      "100%|██████████| 4/4 [00:15<00:00,  3.97s/it]\n",
      "100%|██████████| 4/4 [00:15<00:00,  3.97s/it]\n",
      "100%|██████████| 4/4 [00:15<00:00,  3.97s/it]\n",
      "100%|██████████| 4/4 [00:15<00:00,  3.97s/it]\n",
      "100%|██████████| 4/4 [00:15<00:00,  3.97s/it]\n",
      "100%|██████████| 4/4 [00:15<00:00,  3.97s/it]\n",
      "100%|██████████| 4/4 [00:15<00:00,  3.97s/it]\n",
      "100%|██████████| 4/4 [00:15<00:00,  3.97s/it]\n",
      "100%|██████████| 4/4 [00:15<00:00,  3.97s/it]\n",
      "100%|██████████| 4/4 [00:15<00:00,  3.97s/it]\n",
      "100%|██████████| 4/4 [00:15<00:00,  3.97s/it]\n",
      "100%|██████████| 4/4 [00:15<00:00,  3.97s/it]\n"
     ]
    },
    {
     "name": "stdout",
     "output_type": "stream",
     "text": [
      "iter 4080: loss 5.2970, time 15917.60ms\n"
     ]
    },
    {
     "name": "stderr",
     "output_type": "stream",
     "text": [
      "100%|██████████| 4/4 [00:15<00:00,  3.97s/it]\n",
      "100%|██████████| 4/4 [00:15<00:00,  3.97s/it]\n",
      "100%|██████████| 4/4 [00:15<00:00,  3.97s/it]\n",
      "100%|██████████| 4/4 [00:15<00:00,  3.97s/it]\n",
      "100%|██████████| 4/4 [00:15<00:00,  3.97s/it]\n",
      "100%|██████████| 4/4 [00:15<00:00,  3.97s/it]\n",
      "100%|██████████| 4/4 [00:15<00:00,  3.97s/it]\n",
      "100%|██████████| 4/4 [00:15<00:00,  3.97s/it]\n",
      "100%|██████████| 4/4 [00:15<00:00,  3.97s/it]\n",
      "100%|██████████| 4/4 [00:15<00:00,  3.97s/it]\n",
      "100%|██████████| 4/4 [00:15<00:00,  3.97s/it]\n",
      "100%|██████████| 4/4 [00:15<00:00,  3.97s/it]\n",
      "100%|██████████| 4/4 [00:15<00:00,  3.97s/it]\n",
      "100%|██████████| 4/4 [00:15<00:00,  3.97s/it]\n",
      "100%|██████████| 4/4 [00:15<00:00,  3.97s/it]\n",
      "100%|██████████| 4/4 [00:15<00:00,  3.97s/it]\n",
      "100%|██████████| 4/4 [00:15<00:00,  3.97s/it]\n",
      "100%|██████████| 4/4 [00:15<00:00,  3.97s/it]\n",
      "100%|██████████| 4/4 [00:15<00:00,  3.97s/it]\n",
      "100%|██████████| 4/4 [00:15<00:00,  3.97s/it]\n"
     ]
    },
    {
     "name": "stdout",
     "output_type": "stream",
     "text": [
      "iter 4100: loss 5.4980, time 15902.94ms\n"
     ]
    },
    {
     "name": "stderr",
     "output_type": "stream",
     "text": [
      "100%|██████████| 4/4 [00:15<00:00,  3.96s/it]\n",
      "100%|██████████| 4/4 [00:15<00:00,  3.97s/it]\n",
      "100%|██████████| 4/4 [00:15<00:00,  3.97s/it]\n",
      "100%|██████████| 4/4 [00:15<00:00,  3.97s/it]\n",
      "100%|██████████| 4/4 [00:15<00:00,  3.97s/it]\n",
      "100%|██████████| 4/4 [00:15<00:00,  3.97s/it]\n",
      "100%|██████████| 4/4 [00:15<00:00,  3.97s/it]\n",
      "100%|██████████| 4/4 [00:15<00:00,  3.94s/it]\n",
      "100%|██████████| 4/4 [00:15<00:00,  3.95s/it]\n",
      "100%|██████████| 4/4 [00:15<00:00,  3.92s/it]\n",
      "100%|██████████| 4/4 [00:15<00:00,  3.91s/it]\n",
      "100%|██████████| 4/4 [00:15<00:00,  3.91s/it]\n",
      "100%|██████████| 4/4 [00:15<00:00,  3.91s/it]\n",
      "100%|██████████| 4/4 [00:15<00:00,  3.91s/it]\n",
      "100%|██████████| 4/4 [00:15<00:00,  3.91s/it]\n",
      "100%|██████████| 4/4 [00:15<00:00,  3.91s/it]\n",
      "100%|██████████| 4/4 [00:15<00:00,  3.91s/it]\n",
      "100%|██████████| 4/4 [00:15<00:00,  3.92s/it]\n",
      "100%|██████████| 4/4 [00:15<00:00,  3.91s/it]\n",
      "100%|██████████| 4/4 [00:15<00:00,  3.91s/it]\n"
     ]
    },
    {
     "name": "stdout",
     "output_type": "stream",
     "text": [
      "iter 4120: loss 6.2163, time 15668.45ms\n"
     ]
    },
    {
     "name": "stderr",
     "output_type": "stream",
     "text": [
      "100%|██████████| 4/4 [00:15<00:00,  3.90s/it]\n",
      "100%|██████████| 4/4 [00:15<00:00,  3.91s/it]\n",
      "100%|██████████| 4/4 [00:15<00:00,  3.91s/it]\n",
      "100%|██████████| 4/4 [00:15<00:00,  3.91s/it]\n",
      "100%|██████████| 4/4 [00:15<00:00,  3.91s/it]\n",
      "100%|██████████| 4/4 [00:15<00:00,  3.91s/it]\n",
      "100%|██████████| 4/4 [00:15<00:00,  3.91s/it]\n",
      "100%|██████████| 4/4 [00:15<00:00,  3.91s/it]\n",
      "100%|██████████| 4/4 [00:15<00:00,  3.92s/it]\n",
      "100%|██████████| 4/4 [00:15<00:00,  3.91s/it]\n",
      "100%|██████████| 4/4 [00:15<00:00,  3.91s/it]\n",
      "100%|██████████| 4/4 [00:15<00:00,  3.91s/it]\n",
      "100%|██████████| 4/4 [00:15<00:00,  3.92s/it]\n",
      "100%|██████████| 4/4 [00:15<00:00,  3.91s/it]\n",
      "100%|██████████| 4/4 [00:15<00:00,  3.91s/it]\n",
      "100%|██████████| 4/4 [00:15<00:00,  3.91s/it]\n",
      "100%|██████████| 4/4 [00:15<00:00,  3.91s/it]\n",
      "100%|██████████| 4/4 [00:15<00:00,  3.91s/it]\n",
      "100%|██████████| 4/4 [00:15<00:00,  3.91s/it]\n",
      "100%|██████████| 4/4 [00:15<00:00,  3.91s/it]\n"
     ]
    },
    {
     "name": "stdout",
     "output_type": "stream",
     "text": [
      "iter 4140: loss 6.0015, time 15682.46ms\n"
     ]
    },
    {
     "name": "stderr",
     "output_type": "stream",
     "text": [
      "100%|██████████| 4/4 [00:15<00:00,  3.93s/it]\n",
      "100%|██████████| 4/4 [00:15<00:00,  3.93s/it]\n",
      "100%|██████████| 4/4 [00:15<00:00,  3.93s/it]\n",
      "100%|██████████| 4/4 [00:15<00:00,  3.94s/it]\n",
      "100%|██████████| 4/4 [00:15<00:00,  3.94s/it]\n",
      "100%|██████████| 4/4 [00:15<00:00,  3.94s/it]\n",
      "100%|██████████| 4/4 [00:15<00:00,  3.93s/it]\n",
      "100%|██████████| 4/4 [00:15<00:00,  3.94s/it]\n",
      "100%|██████████| 4/4 [00:15<00:00,  3.93s/it]\n",
      "100%|██████████| 4/4 [00:15<00:00,  3.93s/it]\n",
      "100%|██████████| 4/4 [00:15<00:00,  3.93s/it]\n",
      "100%|██████████| 4/4 [00:15<00:00,  3.94s/it]\n",
      "100%|██████████| 4/4 [00:15<00:00,  3.93s/it]\n",
      "100%|██████████| 4/4 [00:15<00:00,  3.93s/it]\n",
      "100%|██████████| 4/4 [00:15<00:00,  3.93s/it]\n",
      "100%|██████████| 4/4 [00:15<00:00,  3.94s/it]\n",
      "100%|██████████| 4/4 [00:15<00:00,  3.94s/it]\n",
      "100%|██████████| 4/4 [00:15<00:00,  3.93s/it]\n",
      "100%|██████████| 4/4 [00:15<00:00,  3.94s/it]\n",
      "100%|██████████| 4/4 [00:15<00:00,  3.94s/it]\n"
     ]
    },
    {
     "name": "stdout",
     "output_type": "stream",
     "text": [
      "iter 4160: loss 5.4546, time 15794.83ms\n"
     ]
    },
    {
     "name": "stderr",
     "output_type": "stream",
     "text": [
      "100%|██████████| 4/4 [00:15<00:00,  3.93s/it]\n",
      "100%|██████████| 4/4 [00:15<00:00,  3.93s/it]\n",
      "100%|██████████| 4/4 [00:15<00:00,  3.94s/it]\n",
      "100%|██████████| 4/4 [00:15<00:00,  3.94s/it]\n",
      "100%|██████████| 4/4 [00:15<00:00,  3.94s/it]\n",
      "100%|██████████| 4/4 [00:15<00:00,  3.94s/it]\n",
      "100%|██████████| 4/4 [00:15<00:00,  3.93s/it]\n",
      "100%|██████████| 4/4 [00:15<00:00,  3.93s/it]\n",
      "100%|██████████| 4/4 [00:15<00:00,  3.93s/it]\n",
      "100%|██████████| 4/4 [00:15<00:00,  3.94s/it]\n",
      "100%|██████████| 4/4 [00:15<00:00,  3.93s/it]\n",
      "100%|██████████| 4/4 [00:15<00:00,  3.93s/it]\n",
      "100%|██████████| 4/4 [00:15<00:00,  3.94s/it]\n",
      "100%|██████████| 4/4 [00:15<00:00,  3.93s/it]\n",
      "100%|██████████| 4/4 [00:15<00:00,  3.94s/it]\n",
      "100%|██████████| 4/4 [00:15<00:00,  3.94s/it]\n",
      "100%|██████████| 4/4 [00:15<00:00,  3.94s/it]\n",
      "100%|██████████| 4/4 [00:15<00:00,  3.94s/it]\n",
      "100%|██████████| 4/4 [00:15<00:00,  3.94s/it]\n",
      "100%|██████████| 4/4 [00:15<00:00,  3.94s/it]\n"
     ]
    },
    {
     "name": "stdout",
     "output_type": "stream",
     "text": [
      "iter 4180: loss 6.0139, time 15771.49ms\n"
     ]
    },
    {
     "name": "stderr",
     "output_type": "stream",
     "text": [
      "100%|██████████| 4/4 [00:15<00:00,  3.93s/it]\n",
      "100%|██████████| 4/4 [00:15<00:00,  3.94s/it]\n",
      "100%|██████████| 4/4 [00:15<00:00,  3.94s/it]\n",
      "100%|██████████| 4/4 [00:15<00:00,  3.93s/it]\n",
      "100%|██████████| 4/4 [00:15<00:00,  3.93s/it]\n",
      "100%|██████████| 4/4 [00:15<00:00,  3.93s/it]\n",
      "100%|██████████| 4/4 [00:15<00:00,  3.93s/it]\n",
      "100%|██████████| 4/4 [00:15<00:00,  3.93s/it]\n",
      "100%|██████████| 4/4 [00:15<00:00,  3.93s/it]\n",
      "100%|██████████| 4/4 [00:15<00:00,  3.94s/it]\n",
      "100%|██████████| 4/4 [00:15<00:00,  3.94s/it]\n",
      "100%|██████████| 4/4 [00:15<00:00,  3.93s/it]\n",
      "100%|██████████| 4/4 [00:15<00:00,  3.93s/it]\n",
      "100%|██████████| 4/4 [00:15<00:00,  3.94s/it]\n",
      "100%|██████████| 4/4 [00:15<00:00,  3.93s/it]\n",
      "100%|██████████| 4/4 [00:15<00:00,  3.94s/it]\n",
      "100%|██████████| 4/4 [00:15<00:00,  3.94s/it]\n",
      "100%|██████████| 4/4 [00:15<00:00,  3.94s/it]\n",
      "100%|██████████| 4/4 [00:15<00:00,  3.93s/it]\n"
     ]
    },
    {
     "name": "stdout",
     "output_type": "stream",
     "text": [
      "step 4200: train loss 5.9119, val loss 5.9696\n",
      "train ppl 369.42, val ppl 391.36\n",
      "📈 Train/Val Gap: 0.0577 (0.98%)\n",
      "✅ 新的最佳驗證損失: 5.9696\n"
     ]
    },
    {
     "name": "stderr",
     "output_type": "stream",
     "text": [
      "100%|██████████| 4/4 [00:15<00:00,  3.93s/it]\n"
     ]
    },
    {
     "name": "stdout",
     "output_type": "stream",
     "text": [
      "iter 4200: loss 5.7219, time 111462.29ms\n"
     ]
    },
    {
     "name": "stderr",
     "output_type": "stream",
     "text": [
      "100%|██████████| 4/4 [00:15<00:00,  3.93s/it]\n",
      "100%|██████████| 4/4 [00:15<00:00,  3.93s/it]\n",
      "100%|██████████| 4/4 [00:15<00:00,  3.94s/it]\n",
      "100%|██████████| 4/4 [00:15<00:00,  3.93s/it]\n",
      "100%|██████████| 4/4 [00:15<00:00,  3.93s/it]\n",
      "100%|██████████| 4/4 [00:15<00:00,  3.93s/it]\n",
      "100%|██████████| 4/4 [00:15<00:00,  3.94s/it]\n",
      "100%|██████████| 4/4 [00:15<00:00,  3.93s/it]\n",
      "100%|██████████| 4/4 [00:15<00:00,  3.94s/it]\n",
      "100%|██████████| 4/4 [00:15<00:00,  3.94s/it]\n",
      "100%|██████████| 4/4 [00:15<00:00,  3.93s/it]\n",
      "100%|██████████| 4/4 [00:15<00:00,  3.93s/it]\n",
      "100%|██████████| 4/4 [00:15<00:00,  3.93s/it]\n",
      "100%|██████████| 4/4 [00:15<00:00,  3.93s/it]\n",
      "100%|██████████| 4/4 [00:15<00:00,  3.94s/it]\n",
      "100%|██████████| 4/4 [00:15<00:00,  3.96s/it]\n",
      "100%|██████████| 4/4 [00:15<00:00,  3.93s/it]\n",
      "100%|██████████| 4/4 [00:15<00:00,  3.94s/it]\n",
      "100%|██████████| 4/4 [00:15<00:00,  3.93s/it]\n",
      "100%|██████████| 4/4 [00:15<00:00,  3.93s/it]\n"
     ]
    },
    {
     "name": "stdout",
     "output_type": "stream",
     "text": [
      "iter 4220: loss 6.0915, time 15739.82ms\n"
     ]
    },
    {
     "name": "stderr",
     "output_type": "stream",
     "text": [
      "100%|██████████| 4/4 [00:15<00:00,  3.93s/it]\n",
      "100%|██████████| 4/4 [00:15<00:00,  3.94s/it]\n",
      "100%|██████████| 4/4 [00:15<00:00,  3.93s/it]\n",
      "100%|██████████| 4/4 [00:15<00:00,  3.93s/it]\n",
      "100%|██████████| 4/4 [00:15<00:00,  3.93s/it]\n",
      "100%|██████████| 4/4 [00:15<00:00,  3.94s/it]\n",
      "100%|██████████| 4/4 [00:15<00:00,  3.94s/it]\n",
      "100%|██████████| 4/4 [00:15<00:00,  3.95s/it]\n",
      "100%|██████████| 4/4 [00:15<00:00,  3.93s/it]\n",
      "100%|██████████| 4/4 [00:15<00:00,  3.94s/it]\n",
      "100%|██████████| 4/4 [00:15<00:00,  3.93s/it]\n",
      "100%|██████████| 4/4 [00:15<00:00,  3.93s/it]\n",
      "100%|██████████| 4/4 [00:15<00:00,  3.93s/it]\n",
      "100%|██████████| 4/4 [00:15<00:00,  3.94s/it]\n",
      "100%|██████████| 4/4 [00:15<00:00,  3.93s/it]\n",
      "100%|██████████| 4/4 [00:15<00:00,  3.93s/it]\n",
      "100%|██████████| 4/4 [00:15<00:00,  3.94s/it]\n",
      "100%|██████████| 4/4 [00:15<00:00,  3.93s/it]\n",
      "100%|██████████| 4/4 [00:15<00:00,  3.93s/it]\n",
      "100%|██████████| 4/4 [00:15<00:00,  3.93s/it]\n"
     ]
    },
    {
     "name": "stdout",
     "output_type": "stream",
     "text": [
      "iter 4240: loss 6.1990, time 15762.11ms\n"
     ]
    },
    {
     "name": "stderr",
     "output_type": "stream",
     "text": [
      "100%|██████████| 4/4 [00:15<00:00,  3.93s/it]\n",
      "100%|██████████| 4/4 [00:15<00:00,  3.93s/it]\n",
      "100%|██████████| 4/4 [00:15<00:00,  3.94s/it]\n",
      "100%|██████████| 4/4 [00:15<00:00,  3.95s/it]\n",
      "100%|██████████| 4/4 [00:15<00:00,  3.94s/it]\n",
      "100%|██████████| 4/4 [00:15<00:00,  3.94s/it]\n",
      "100%|██████████| 4/4 [00:15<00:00,  3.94s/it]\n",
      "100%|██████████| 4/4 [00:15<00:00,  3.94s/it]\n",
      "100%|██████████| 4/4 [00:15<00:00,  3.94s/it]\n",
      "100%|██████████| 4/4 [00:15<00:00,  3.93s/it]\n",
      "100%|██████████| 4/4 [00:15<00:00,  3.93s/it]\n",
      "100%|██████████| 4/4 [00:15<00:00,  3.93s/it]\n",
      "100%|██████████| 4/4 [00:15<00:00,  3.93s/it]\n",
      "100%|██████████| 4/4 [00:15<00:00,  3.94s/it]\n",
      "100%|██████████| 4/4 [00:15<00:00,  3.94s/it]\n",
      "100%|██████████| 4/4 [00:15<00:00,  3.94s/it]\n",
      "100%|██████████| 4/4 [00:15<00:00,  3.93s/it]\n",
      "100%|██████████| 4/4 [00:15<00:00,  3.94s/it]\n",
      "100%|██████████| 4/4 [00:15<00:00,  3.94s/it]\n",
      "100%|██████████| 4/4 [00:15<00:00,  3.94s/it]\n"
     ]
    },
    {
     "name": "stdout",
     "output_type": "stream",
     "text": [
      "iter 4260: loss 6.1937, time 15772.50ms\n"
     ]
    },
    {
     "name": "stderr",
     "output_type": "stream",
     "text": [
      "100%|██████████| 4/4 [00:15<00:00,  3.93s/it]\n",
      "100%|██████████| 4/4 [00:15<00:00,  3.94s/it]\n",
      "100%|██████████| 4/4 [00:15<00:00,  3.93s/it]\n",
      "100%|██████████| 4/4 [00:15<00:00,  3.94s/it]\n",
      "100%|██████████| 4/4 [00:15<00:00,  3.93s/it]\n",
      "100%|██████████| 4/4 [00:15<00:00,  3.94s/it]\n",
      "100%|██████████| 4/4 [00:15<00:00,  3.94s/it]\n",
      "100%|██████████| 4/4 [00:15<00:00,  3.94s/it]\n",
      "100%|██████████| 4/4 [00:15<00:00,  3.93s/it]\n",
      "100%|██████████| 4/4 [00:15<00:00,  3.93s/it]\n",
      "100%|██████████| 4/4 [00:15<00:00,  3.93s/it]\n",
      "100%|██████████| 4/4 [00:15<00:00,  3.94s/it]\n",
      "100%|██████████| 4/4 [00:15<00:00,  3.93s/it]\n",
      "100%|██████████| 4/4 [00:15<00:00,  3.93s/it]\n",
      "100%|██████████| 4/4 [00:15<00:00,  3.94s/it]\n",
      "100%|██████████| 4/4 [00:15<00:00,  3.94s/it]\n",
      "100%|██████████| 4/4 [00:15<00:00,  3.93s/it]\n",
      "100%|██████████| 4/4 [00:15<00:00,  3.93s/it]\n",
      "100%|██████████| 4/4 [00:15<00:00,  3.94s/it]\n",
      "100%|██████████| 4/4 [00:15<00:00,  3.94s/it]\n"
     ]
    },
    {
     "name": "stdout",
     "output_type": "stream",
     "text": [
      "iter 4280: loss 5.9830, time 15785.60ms\n"
     ]
    },
    {
     "name": "stderr",
     "output_type": "stream",
     "text": [
      "100%|██████████| 4/4 [00:15<00:00,  3.93s/it]\n",
      "100%|██████████| 4/4 [00:15<00:00,  3.94s/it]\n",
      "100%|██████████| 4/4 [00:15<00:00,  3.94s/it]\n",
      "100%|██████████| 4/4 [00:15<00:00,  3.94s/it]\n",
      "100%|██████████| 4/4 [00:15<00:00,  3.94s/it]\n",
      "100%|██████████| 4/4 [00:15<00:00,  3.94s/it]\n",
      "100%|██████████| 4/4 [00:15<00:00,  3.94s/it]\n",
      "100%|██████████| 4/4 [00:15<00:00,  3.93s/it]\n",
      "100%|██████████| 4/4 [00:15<00:00,  3.93s/it]\n",
      "100%|██████████| 4/4 [00:15<00:00,  3.93s/it]\n",
      "100%|██████████| 4/4 [00:15<00:00,  3.94s/it]\n",
      "100%|██████████| 4/4 [00:15<00:00,  3.94s/it]\n",
      "100%|██████████| 4/4 [00:15<00:00,  3.93s/it]\n",
      "100%|██████████| 4/4 [00:15<00:00,  3.94s/it]\n",
      "100%|██████████| 4/4 [00:15<00:00,  3.94s/it]\n",
      "100%|██████████| 4/4 [00:15<00:00,  3.93s/it]\n",
      "100%|██████████| 4/4 [00:15<00:00,  3.94s/it]\n",
      "100%|██████████| 4/4 [00:15<00:00,  3.94s/it]\n",
      "100%|██████████| 4/4 [00:15<00:00,  3.93s/it]\n",
      "100%|██████████| 4/4 [00:15<00:00,  3.94s/it]\n"
     ]
    },
    {
     "name": "stdout",
     "output_type": "stream",
     "text": [
      "iter 4300: loss 6.0023, time 15766.47ms\n"
     ]
    },
    {
     "name": "stderr",
     "output_type": "stream",
     "text": [
      "100%|██████████| 4/4 [00:15<00:00,  3.93s/it]\n",
      "100%|██████████| 4/4 [00:15<00:00,  3.94s/it]\n",
      "100%|██████████| 4/4 [00:15<00:00,  3.93s/it]\n",
      "100%|██████████| 4/4 [00:15<00:00,  3.93s/it]\n",
      "100%|██████████| 4/4 [00:15<00:00,  3.94s/it]\n",
      "100%|██████████| 4/4 [00:15<00:00,  3.94s/it]\n",
      "100%|██████████| 4/4 [00:15<00:00,  3.93s/it]\n",
      "100%|██████████| 4/4 [00:15<00:00,  3.93s/it]\n",
      "100%|██████████| 4/4 [00:15<00:00,  3.93s/it]\n",
      "100%|██████████| 4/4 [00:15<00:00,  3.94s/it]\n",
      "100%|██████████| 4/4 [00:15<00:00,  3.94s/it]\n",
      "100%|██████████| 4/4 [00:15<00:00,  3.94s/it]\n",
      "100%|██████████| 4/4 [00:15<00:00,  3.94s/it]\n",
      "100%|██████████| 4/4 [00:15<00:00,  3.94s/it]\n",
      "100%|██████████| 4/4 [00:15<00:00,  3.94s/it]\n",
      "100%|██████████| 4/4 [00:15<00:00,  3.93s/it]\n",
      "100%|██████████| 4/4 [00:15<00:00,  3.94s/it]\n",
      "100%|██████████| 4/4 [00:15<00:00,  3.94s/it]\n",
      "100%|██████████| 4/4 [00:15<00:00,  3.94s/it]\n",
      "100%|██████████| 4/4 [00:15<00:00,  3.93s/it]\n"
     ]
    },
    {
     "name": "stdout",
     "output_type": "stream",
     "text": [
      "iter 4320: loss 6.2153, time 15754.97ms\n"
     ]
    },
    {
     "name": "stderr",
     "output_type": "stream",
     "text": [
      "100%|██████████| 4/4 [00:15<00:00,  3.93s/it]\n",
      "100%|██████████| 4/4 [00:15<00:00,  3.93s/it]\n",
      "100%|██████████| 4/4 [00:15<00:00,  3.93s/it]\n",
      "100%|██████████| 4/4 [00:15<00:00,  3.97s/it]\n",
      "100%|██████████| 4/4 [00:15<00:00,  3.94s/it]\n",
      "100%|██████████| 4/4 [00:15<00:00,  3.93s/it]\n",
      "100%|██████████| 4/4 [00:15<00:00,  3.94s/it]\n",
      "100%|██████████| 4/4 [00:15<00:00,  3.94s/it]\n",
      "100%|██████████| 4/4 [00:15<00:00,  3.93s/it]\n",
      "100%|██████████| 4/4 [00:15<00:00,  3.94s/it]\n",
      "100%|██████████| 4/4 [00:15<00:00,  3.93s/it]\n",
      "100%|██████████| 4/4 [00:15<00:00,  3.98s/it]\n",
      "100%|██████████| 4/4 [00:15<00:00,  3.93s/it]\n",
      "100%|██████████| 4/4 [00:15<00:00,  3.93s/it]\n",
      "100%|██████████| 4/4 [00:15<00:00,  3.93s/it]\n",
      "100%|██████████| 4/4 [00:15<00:00,  3.94s/it]\n",
      "100%|██████████| 4/4 [00:15<00:00,  3.93s/it]\n",
      "100%|██████████| 4/4 [00:15<00:00,  3.93s/it]\n",
      "100%|██████████| 4/4 [00:15<00:00,  3.93s/it]\n",
      "100%|██████████| 4/4 [00:15<00:00,  3.94s/it]\n"
     ]
    },
    {
     "name": "stdout",
     "output_type": "stream",
     "text": [
      "iter 4340: loss 5.7905, time 15768.05ms\n"
     ]
    },
    {
     "name": "stderr",
     "output_type": "stream",
     "text": [
      "100%|██████████| 4/4 [00:15<00:00,  3.93s/it]\n",
      "100%|██████████| 4/4 [00:15<00:00,  3.93s/it]\n",
      "100%|██████████| 4/4 [00:15<00:00,  3.93s/it]\n",
      "100%|██████████| 4/4 [00:15<00:00,  3.93s/it]\n",
      "100%|██████████| 4/4 [00:15<00:00,  3.93s/it]\n",
      "100%|██████████| 4/4 [00:15<00:00,  3.93s/it]\n",
      "100%|██████████| 4/4 [00:15<00:00,  3.93s/it]\n",
      "100%|██████████| 4/4 [00:15<00:00,  3.93s/it]\n",
      "100%|██████████| 4/4 [00:15<00:00,  3.93s/it]\n",
      "100%|██████████| 4/4 [00:15<00:00,  3.93s/it]\n",
      "100%|██████████| 4/4 [00:15<00:00,  3.93s/it]\n",
      "100%|██████████| 4/4 [00:15<00:00,  3.93s/it]\n",
      "100%|██████████| 4/4 [00:15<00:00,  3.93s/it]\n",
      "100%|██████████| 4/4 [00:15<00:00,  3.93s/it]\n",
      "100%|██████████| 4/4 [00:15<00:00,  3.93s/it]\n",
      "100%|██████████| 4/4 [00:15<00:00,  3.93s/it]\n",
      "100%|██████████| 4/4 [00:15<00:00,  3.93s/it]\n",
      "100%|██████████| 4/4 [00:15<00:00,  3.93s/it]\n",
      "100%|██████████| 4/4 [00:15<00:00,  3.93s/it]\n",
      "100%|██████████| 4/4 [00:15<00:00,  3.93s/it]\n"
     ]
    },
    {
     "name": "stdout",
     "output_type": "stream",
     "text": [
      "iter 4360: loss 5.8381, time 15752.71ms\n"
     ]
    },
    {
     "name": "stderr",
     "output_type": "stream",
     "text": [
      "100%|██████████| 4/4 [00:15<00:00,  3.93s/it]\n",
      "100%|██████████| 4/4 [00:15<00:00,  3.93s/it]\n",
      "100%|██████████| 4/4 [00:15<00:00,  3.93s/it]\n",
      "100%|██████████| 4/4 [00:15<00:00,  3.94s/it]\n",
      "100%|██████████| 4/4 [00:15<00:00,  3.93s/it]\n",
      "100%|██████████| 4/4 [00:15<00:00,  3.93s/it]\n",
      "100%|██████████| 4/4 [00:15<00:00,  3.94s/it]\n",
      "100%|██████████| 4/4 [00:15<00:00,  3.93s/it]\n",
      "100%|██████████| 4/4 [00:15<00:00,  3.93s/it]\n",
      "100%|██████████| 4/4 [00:15<00:00,  3.93s/it]\n",
      "100%|██████████| 4/4 [00:15<00:00,  3.96s/it]\n",
      "100%|██████████| 4/4 [00:15<00:00,  3.97s/it]\n",
      "100%|██████████| 4/4 [00:15<00:00,  3.97s/it]\n",
      "100%|██████████| 4/4 [00:15<00:00,  3.97s/it]\n",
      "100%|██████████| 4/4 [00:15<00:00,  3.97s/it]\n",
      "100%|██████████| 4/4 [00:15<00:00,  3.97s/it]\n",
      "100%|██████████| 4/4 [00:15<00:00,  3.97s/it]\n",
      "100%|██████████| 4/4 [00:15<00:00,  3.97s/it]\n",
      "100%|██████████| 4/4 [00:15<00:00,  3.96s/it]\n",
      "100%|██████████| 4/4 [00:15<00:00,  3.97s/it]\n"
     ]
    },
    {
     "name": "stdout",
     "output_type": "stream",
     "text": [
      "iter 4380: loss 6.2888, time 15892.45ms\n"
     ]
    },
    {
     "name": "stderr",
     "output_type": "stream",
     "text": [
      "100%|██████████| 4/4 [00:15<00:00,  3.96s/it]\n",
      "100%|██████████| 4/4 [00:15<00:00,  3.97s/it]\n",
      "100%|██████████| 4/4 [00:15<00:00,  3.97s/it]\n",
      "100%|██████████| 4/4 [00:15<00:00,  3.97s/it]\n",
      "100%|██████████| 4/4 [00:15<00:00,  3.97s/it]\n",
      "100%|██████████| 4/4 [00:15<00:00,  3.97s/it]\n",
      "100%|██████████| 4/4 [00:15<00:00,  3.96s/it]\n",
      "100%|██████████| 4/4 [00:15<00:00,  3.97s/it]\n",
      "100%|██████████| 4/4 [00:15<00:00,  3.97s/it]\n",
      "100%|██████████| 4/4 [00:15<00:00,  3.97s/it]\n",
      "100%|██████████| 4/4 [00:15<00:00,  3.97s/it]\n",
      "100%|██████████| 4/4 [00:15<00:00,  3.97s/it]\n",
      "100%|██████████| 4/4 [00:15<00:00,  3.97s/it]\n",
      "100%|██████████| 4/4 [00:15<00:00,  3.97s/it]\n",
      "100%|██████████| 4/4 [00:15<00:00,  3.97s/it]\n",
      "100%|██████████| 4/4 [00:15<00:00,  3.97s/it]\n",
      "100%|██████████| 4/4 [00:15<00:00,  3.97s/it]\n",
      "100%|██████████| 4/4 [00:15<00:00,  3.97s/it]\n",
      "100%|██████████| 4/4 [00:15<00:00,  3.96s/it]\n"
     ]
    },
    {
     "name": "stdout",
     "output_type": "stream",
     "text": [
      "step 4400: train loss 5.8115, val loss 5.8644\n",
      "train ppl 334.13, val ppl 352.25\n",
      "📈 Train/Val Gap: 0.0528 (0.91%)\n",
      "✅ 新的最佳驗證損失: 5.8644\n"
     ]
    },
    {
     "name": "stderr",
     "output_type": "stream",
     "text": [
      "100%|██████████| 4/4 [00:15<00:00,  3.96s/it]\n"
     ]
    },
    {
     "name": "stdout",
     "output_type": "stream",
     "text": [
      "iter 4400: loss 5.7271, time 111303.05ms\n"
     ]
    },
    {
     "name": "stderr",
     "output_type": "stream",
     "text": [
      "100%|██████████| 4/4 [00:15<00:00,  3.96s/it]\n",
      "100%|██████████| 4/4 [00:15<00:00,  3.97s/it]\n",
      "100%|██████████| 4/4 [00:15<00:00,  3.97s/it]\n",
      "100%|██████████| 4/4 [00:15<00:00,  3.97s/it]\n",
      "100%|██████████| 4/4 [00:15<00:00,  3.97s/it]\n",
      "100%|██████████| 4/4 [00:15<00:00,  3.97s/it]\n",
      "100%|██████████| 4/4 [00:15<00:00,  3.97s/it]\n",
      "100%|██████████| 4/4 [00:15<00:00,  3.97s/it]\n",
      "100%|██████████| 4/4 [00:15<00:00,  3.97s/it]\n",
      "100%|██████████| 4/4 [00:15<00:00,  3.97s/it]\n",
      "100%|██████████| 4/4 [00:15<00:00,  3.97s/it]\n",
      "100%|██████████| 4/4 [00:15<00:00,  3.97s/it]\n",
      "100%|██████████| 4/4 [00:15<00:00,  3.97s/it]\n",
      "100%|██████████| 4/4 [00:15<00:00,  3.99s/it]\n",
      "100%|██████████| 4/4 [00:15<00:00,  3.97s/it]\n",
      "100%|██████████| 4/4 [00:15<00:00,  3.97s/it]\n",
      "100%|██████████| 4/4 [00:15<00:00,  3.97s/it]\n",
      "100%|██████████| 4/4 [00:15<00:00,  3.97s/it]\n",
      "100%|██████████| 4/4 [00:15<00:00,  3.96s/it]\n",
      "100%|██████████| 4/4 [00:15<00:00,  3.97s/it]\n"
     ]
    },
    {
     "name": "stdout",
     "output_type": "stream",
     "text": [
      "iter 4420: loss 6.1511, time 15905.77ms\n"
     ]
    },
    {
     "name": "stderr",
     "output_type": "stream",
     "text": [
      "100%|██████████| 4/4 [00:15<00:00,  3.97s/it]\n",
      "100%|██████████| 4/4 [00:15<00:00,  3.97s/it]\n",
      "100%|██████████| 4/4 [00:15<00:00,  3.97s/it]\n",
      "100%|██████████| 4/4 [00:15<00:00,  3.97s/it]\n",
      "100%|██████████| 4/4 [00:15<00:00,  3.97s/it]\n",
      "100%|██████████| 4/4 [00:15<00:00,  3.99s/it]\n",
      "100%|██████████| 4/4 [00:15<00:00,  3.97s/it]\n",
      "100%|██████████| 4/4 [00:15<00:00,  3.97s/it]\n",
      "100%|██████████| 4/4 [00:15<00:00,  3.97s/it]\n",
      "100%|██████████| 4/4 [00:15<00:00,  3.96s/it]\n",
      "100%|██████████| 4/4 [00:15<00:00,  3.95s/it]\n",
      "100%|██████████| 4/4 [00:15<00:00,  3.95s/it]\n",
      "100%|██████████| 4/4 [00:15<00:00,  3.95s/it]\n",
      "100%|██████████| 4/4 [00:15<00:00,  3.95s/it]\n",
      "100%|██████████| 4/4 [00:15<00:00,  3.94s/it]\n",
      "100%|██████████| 4/4 [00:15<00:00,  3.95s/it]\n",
      "100%|██████████| 4/4 [00:15<00:00,  3.95s/it]\n",
      "100%|██████████| 4/4 [00:15<00:00,  3.94s/it]\n",
      "100%|██████████| 4/4 [00:15<00:00,  3.95s/it]\n",
      "100%|██████████| 4/4 [00:15<00:00,  3.95s/it]\n"
     ]
    },
    {
     "name": "stdout",
     "output_type": "stream",
     "text": [
      "iter 4440: loss 6.1942, time 15813.52ms\n"
     ]
    },
    {
     "name": "stderr",
     "output_type": "stream",
     "text": [
      "100%|██████████| 4/4 [00:15<00:00,  3.94s/it]\n",
      "100%|██████████| 4/4 [00:15<00:00,  3.96s/it]\n",
      "100%|██████████| 4/4 [00:15<00:00,  3.94s/it]\n",
      "100%|██████████| 4/4 [00:15<00:00,  3.95s/it]\n",
      "100%|██████████| 4/4 [00:15<00:00,  3.94s/it]\n",
      "100%|██████████| 4/4 [00:15<00:00,  3.95s/it]\n",
      "100%|██████████| 4/4 [00:15<00:00,  3.94s/it]\n",
      "100%|██████████| 4/4 [00:15<00:00,  3.95s/it]\n",
      "100%|██████████| 4/4 [00:15<00:00,  3.94s/it]\n",
      "100%|██████████| 4/4 [00:15<00:00,  3.94s/it]\n",
      "100%|██████████| 4/4 [00:15<00:00,  3.95s/it]\n",
      "100%|██████████| 4/4 [00:15<00:00,  3.94s/it]\n",
      "100%|██████████| 4/4 [00:15<00:00,  3.94s/it]\n",
      "100%|██████████| 4/4 [00:15<00:00,  3.94s/it]\n",
      "100%|██████████| 4/4 [00:15<00:00,  3.94s/it]\n",
      "100%|██████████| 4/4 [00:15<00:00,  3.94s/it]\n",
      "100%|██████████| 4/4 [00:15<00:00,  3.94s/it]\n",
      "100%|██████████| 4/4 [00:15<00:00,  3.94s/it]\n",
      "100%|██████████| 4/4 [00:15<00:00,  3.94s/it]\n",
      "100%|██████████| 4/4 [00:15<00:00,  3.94s/it]\n"
     ]
    },
    {
     "name": "stdout",
     "output_type": "stream",
     "text": [
      "iter 4460: loss 5.7366, time 15799.91ms\n"
     ]
    },
    {
     "name": "stderr",
     "output_type": "stream",
     "text": [
      "100%|██████████| 4/4 [00:15<00:00,  3.94s/it]\n",
      "100%|██████████| 4/4 [00:15<00:00,  3.94s/it]\n",
      "100%|██████████| 4/4 [00:15<00:00,  3.94s/it]\n",
      "100%|██████████| 4/4 [00:15<00:00,  3.94s/it]\n",
      "100%|██████████| 4/4 [00:15<00:00,  3.94s/it]\n",
      "100%|██████████| 4/4 [00:15<00:00,  3.94s/it]\n",
      "100%|██████████| 4/4 [00:15<00:00,  3.95s/it]\n",
      "100%|██████████| 4/4 [00:15<00:00,  3.95s/it]\n",
      "100%|██████████| 4/4 [00:15<00:00,  3.95s/it]\n",
      "100%|██████████| 4/4 [00:15<00:00,  3.95s/it]\n",
      "100%|██████████| 4/4 [00:15<00:00,  3.94s/it]\n",
      "100%|██████████| 4/4 [00:15<00:00,  3.95s/it]\n",
      "100%|██████████| 4/4 [00:15<00:00,  3.94s/it]\n",
      "100%|██████████| 4/4 [00:15<00:00,  3.95s/it]\n",
      "100%|██████████| 4/4 [00:15<00:00,  3.94s/it]\n",
      "100%|██████████| 4/4 [00:15<00:00,  3.94s/it]\n",
      "100%|██████████| 4/4 [00:15<00:00,  3.95s/it]\n",
      "100%|██████████| 4/4 [00:15<00:00,  3.95s/it]\n",
      "100%|██████████| 4/4 [00:15<00:00,  3.94s/it]\n",
      "100%|██████████| 4/4 [00:15<00:00,  3.94s/it]\n"
     ]
    },
    {
     "name": "stdout",
     "output_type": "stream",
     "text": [
      "iter 4480: loss 6.0591, time 15804.27ms\n"
     ]
    },
    {
     "name": "stderr",
     "output_type": "stream",
     "text": [
      "100%|██████████| 4/4 [00:15<00:00,  3.94s/it]\n",
      "100%|██████████| 4/4 [00:15<00:00,  3.95s/it]\n",
      "100%|██████████| 4/4 [00:15<00:00,  3.94s/it]\n",
      "100%|██████████| 4/4 [00:15<00:00,  3.95s/it]\n",
      "100%|██████████| 4/4 [00:15<00:00,  3.94s/it]\n",
      "100%|██████████| 4/4 [00:15<00:00,  3.94s/it]\n",
      "100%|██████████| 4/4 [00:15<00:00,  3.94s/it]\n",
      "100%|██████████| 4/4 [00:15<00:00,  3.94s/it]\n",
      "100%|██████████| 4/4 [00:15<00:00,  3.95s/it]\n",
      "100%|██████████| 4/4 [00:15<00:00,  3.95s/it]\n",
      "100%|██████████| 4/4 [00:15<00:00,  3.94s/it]\n",
      "100%|██████████| 4/4 [00:15<00:00,  3.95s/it]\n",
      "100%|██████████| 4/4 [00:15<00:00,  3.95s/it]\n",
      "100%|██████████| 4/4 [00:15<00:00,  3.94s/it]\n",
      "100%|██████████| 4/4 [00:15<00:00,  3.94s/it]\n",
      "100%|██████████| 4/4 [00:15<00:00,  3.95s/it]\n",
      "100%|██████████| 4/4 [00:15<00:00,  3.94s/it]\n",
      "100%|██████████| 4/4 [00:15<00:00,  3.94s/it]\n",
      "100%|██████████| 4/4 [00:15<00:00,  3.95s/it]\n",
      "100%|██████████| 4/4 [00:15<00:00,  3.95s/it]\n"
     ]
    },
    {
     "name": "stdout",
     "output_type": "stream",
     "text": [
      "iter 4500: loss 6.1439, time 15812.46ms\n"
     ]
    },
    {
     "name": "stderr",
     "output_type": "stream",
     "text": [
      "100%|██████████| 4/4 [00:15<00:00,  3.95s/it]\n",
      "100%|██████████| 4/4 [00:15<00:00,  3.94s/it]\n",
      "100%|██████████| 4/4 [00:15<00:00,  3.94s/it]\n",
      "100%|██████████| 4/4 [00:15<00:00,  3.94s/it]\n",
      "100%|██████████| 4/4 [00:15<00:00,  3.94s/it]\n",
      "100%|██████████| 4/4 [00:15<00:00,  3.94s/it]\n",
      "100%|██████████| 4/4 [00:15<00:00,  3.94s/it]\n",
      "100%|██████████| 4/4 [00:15<00:00,  3.95s/it]\n",
      "100%|██████████| 4/4 [00:15<00:00,  3.94s/it]\n",
      "100%|██████████| 4/4 [00:15<00:00,  3.94s/it]\n",
      "100%|██████████| 4/4 [00:15<00:00,  3.94s/it]\n",
      "100%|██████████| 4/4 [00:15<00:00,  3.95s/it]\n",
      "100%|██████████| 4/4 [00:15<00:00,  3.94s/it]\n",
      "100%|██████████| 4/4 [00:15<00:00,  3.94s/it]\n",
      "100%|██████████| 4/4 [00:15<00:00,  3.94s/it]\n",
      "100%|██████████| 4/4 [00:15<00:00,  3.95s/it]\n",
      "100%|██████████| 4/4 [00:15<00:00,  3.94s/it]\n",
      "100%|██████████| 4/4 [00:15<00:00,  3.94s/it]\n",
      "100%|██████████| 4/4 [00:15<00:00,  3.94s/it]\n",
      "100%|██████████| 4/4 [00:15<00:00,  3.95s/it]\n"
     ]
    },
    {
     "name": "stdout",
     "output_type": "stream",
     "text": [
      "iter 4520: loss 5.9318, time 15823.07ms\n"
     ]
    },
    {
     "name": "stderr",
     "output_type": "stream",
     "text": [
      "100%|██████████| 4/4 [00:15<00:00,  3.94s/it]\n",
      "100%|██████████| 4/4 [00:15<00:00,  3.94s/it]\n",
      "100%|██████████| 4/4 [00:15<00:00,  3.94s/it]\n",
      "100%|██████████| 4/4 [00:15<00:00,  3.95s/it]\n",
      "100%|██████████| 4/4 [00:15<00:00,  3.94s/it]\n",
      "100%|██████████| 4/4 [00:15<00:00,  3.95s/it]\n",
      "100%|██████████| 4/4 [00:15<00:00,  3.95s/it]\n",
      "100%|██████████| 4/4 [00:15<00:00,  3.95s/it]\n",
      "100%|██████████| 4/4 [00:15<00:00,  3.94s/it]\n",
      "100%|██████████| 4/4 [00:15<00:00,  3.94s/it]\n",
      "100%|██████████| 4/4 [00:15<00:00,  3.94s/it]\n",
      "100%|██████████| 4/4 [00:15<00:00,  3.94s/it]\n",
      "100%|██████████| 4/4 [00:15<00:00,  3.94s/it]\n",
      "100%|██████████| 4/4 [00:15<00:00,  3.94s/it]\n",
      "100%|██████████| 4/4 [00:15<00:00,  3.95s/it]\n",
      "100%|██████████| 4/4 [00:15<00:00,  3.94s/it]\n",
      "100%|██████████| 4/4 [00:15<00:00,  3.94s/it]\n",
      "100%|██████████| 4/4 [00:15<00:00,  3.95s/it]\n",
      "100%|██████████| 4/4 [00:15<00:00,  3.95s/it]\n",
      "100%|██████████| 4/4 [00:15<00:00,  3.95s/it]\n"
     ]
    },
    {
     "name": "stdout",
     "output_type": "stream",
     "text": [
      "iter 4540: loss 6.2822, time 15817.53ms\n"
     ]
    },
    {
     "name": "stderr",
     "output_type": "stream",
     "text": [
      "100%|██████████| 4/4 [00:15<00:00,  3.94s/it]\n",
      "100%|██████████| 4/4 [00:15<00:00,  3.95s/it]\n",
      "100%|██████████| 4/4 [00:15<00:00,  3.95s/it]\n",
      "100%|██████████| 4/4 [00:15<00:00,  3.95s/it]\n",
      "100%|██████████| 4/4 [00:15<00:00,  3.94s/it]\n",
      "100%|██████████| 4/4 [00:15<00:00,  3.95s/it]\n",
      "100%|██████████| 4/4 [00:15<00:00,  3.94s/it]\n",
      "100%|██████████| 4/4 [00:15<00:00,  3.95s/it]\n",
      "100%|██████████| 4/4 [00:15<00:00,  3.95s/it]\n",
      "100%|██████████| 4/4 [00:15<00:00,  3.95s/it]\n",
      "100%|██████████| 4/4 [00:15<00:00,  3.95s/it]\n",
      "100%|██████████| 4/4 [00:15<00:00,  3.94s/it]\n",
      "100%|██████████| 4/4 [00:15<00:00,  3.95s/it]\n",
      "100%|██████████| 4/4 [00:15<00:00,  3.95s/it]\n",
      "100%|██████████| 4/4 [00:15<00:00,  3.94s/it]\n",
      "100%|██████████| 4/4 [00:15<00:00,  3.95s/it]\n",
      "100%|██████████| 4/4 [00:15<00:00,  3.95s/it]\n",
      "100%|██████████| 4/4 [00:15<00:00,  3.95s/it]\n",
      "100%|██████████| 4/4 [00:15<00:00,  3.94s/it]\n",
      "100%|██████████| 4/4 [00:15<00:00,  3.95s/it]\n"
     ]
    },
    {
     "name": "stdout",
     "output_type": "stream",
     "text": [
      "iter 4560: loss 5.4870, time 15807.63ms\n"
     ]
    },
    {
     "name": "stderr",
     "output_type": "stream",
     "text": [
      "100%|██████████| 4/4 [00:15<00:00,  3.94s/it]\n",
      "100%|██████████| 4/4 [00:15<00:00,  3.95s/it]\n",
      "100%|██████████| 4/4 [00:15<00:00,  3.95s/it]\n",
      "100%|██████████| 4/4 [00:15<00:00,  3.95s/it]\n",
      "100%|██████████| 4/4 [00:15<00:00,  3.95s/it]\n",
      "100%|██████████| 4/4 [00:15<00:00,  3.95s/it]\n",
      "100%|██████████| 4/4 [00:15<00:00,  3.95s/it]\n",
      "100%|██████████| 4/4 [00:15<00:00,  3.94s/it]\n",
      "100%|██████████| 4/4 [00:15<00:00,  3.94s/it]\n",
      "100%|██████████| 4/4 [00:15<00:00,  3.94s/it]\n",
      "100%|██████████| 4/4 [00:15<00:00,  3.94s/it]\n",
      "100%|██████████| 4/4 [00:15<00:00,  3.95s/it]\n",
      "100%|██████████| 4/4 [00:15<00:00,  3.95s/it]\n",
      "100%|██████████| 4/4 [00:15<00:00,  3.95s/it]\n",
      "100%|██████████| 4/4 [00:15<00:00,  3.95s/it]\n",
      "100%|██████████| 4/4 [00:15<00:00,  3.94s/it]\n",
      "100%|██████████| 4/4 [00:15<00:00,  3.95s/it]\n",
      "100%|██████████| 4/4 [00:15<00:00,  3.94s/it]\n",
      "100%|██████████| 4/4 [00:15<00:00,  3.94s/it]\n",
      "100%|██████████| 4/4 [00:15<00:00,  3.95s/it]\n"
     ]
    },
    {
     "name": "stdout",
     "output_type": "stream",
     "text": [
      "iter 4580: loss 6.0140, time 15829.81ms\n"
     ]
    },
    {
     "name": "stderr",
     "output_type": "stream",
     "text": [
      "100%|██████████| 4/4 [00:15<00:00,  3.90s/it]\n",
      "100%|██████████| 4/4 [00:15<00:00,  3.90s/it]\n",
      "100%|██████████| 4/4 [00:15<00:00,  3.90s/it]\n",
      "100%|██████████| 4/4 [00:15<00:00,  3.92s/it]\n",
      "100%|██████████| 4/4 [00:15<00:00,  3.90s/it]\n",
      "100%|██████████| 4/4 [00:15<00:00,  3.90s/it]\n",
      "100%|██████████| 4/4 [00:15<00:00,  3.90s/it]\n",
      "100%|██████████| 4/4 [00:15<00:00,  3.90s/it]\n",
      "100%|██████████| 4/4 [00:15<00:00,  3.90s/it]\n",
      "100%|██████████| 4/4 [00:15<00:00,  3.90s/it]\n",
      "100%|██████████| 4/4 [00:15<00:00,  3.90s/it]\n",
      "100%|██████████| 4/4 [00:15<00:00,  3.90s/it]\n",
      "100%|██████████| 4/4 [00:15<00:00,  3.90s/it]\n",
      "100%|██████████| 4/4 [00:15<00:00,  3.90s/it]\n",
      "100%|██████████| 4/4 [00:15<00:00,  3.90s/it]\n",
      "100%|██████████| 4/4 [00:15<00:00,  3.96s/it]\n",
      "100%|██████████| 4/4 [00:15<00:00,  3.96s/it]\n",
      "100%|██████████| 4/4 [00:15<00:00,  3.96s/it]\n",
      "100%|██████████| 4/4 [00:15<00:00,  3.95s/it]\n"
     ]
    },
    {
     "name": "stdout",
     "output_type": "stream",
     "text": [
      "step 4600: train loss 5.8441, val loss 5.8469\n",
      "train ppl 345.19, val ppl 346.16\n",
      "📈 Train/Val Gap: 0.0028 (0.05%)\n",
      "✅ 新的最佳驗證損失: 5.8469\n"
     ]
    },
    {
     "name": "stderr",
     "output_type": "stream",
     "text": [
      "100%|██████████| 4/4 [00:15<00:00,  3.95s/it]\n"
     ]
    },
    {
     "name": "stdout",
     "output_type": "stream",
     "text": [
      "iter 4600: loss 5.9412, time 111094.05ms\n"
     ]
    },
    {
     "name": "stderr",
     "output_type": "stream",
     "text": [
      "100%|██████████| 4/4 [00:15<00:00,  3.95s/it]\n",
      "100%|██████████| 4/4 [00:15<00:00,  3.96s/it]\n",
      "100%|██████████| 4/4 [00:15<00:00,  3.96s/it]\n",
      "100%|██████████| 4/4 [00:15<00:00,  3.95s/it]\n",
      "100%|██████████| 4/4 [00:15<00:00,  3.96s/it]\n",
      "100%|██████████| 4/4 [00:15<00:00,  3.96s/it]\n",
      "100%|██████████| 4/4 [00:15<00:00,  3.96s/it]\n",
      "100%|██████████| 4/4 [00:15<00:00,  3.96s/it]\n",
      "100%|██████████| 4/4 [00:15<00:00,  3.96s/it]\n",
      "100%|██████████| 4/4 [00:15<00:00,  3.95s/it]\n",
      "100%|██████████| 4/4 [00:15<00:00,  3.96s/it]\n",
      "100%|██████████| 4/4 [00:15<00:00,  3.95s/it]\n",
      "100%|██████████| 4/4 [00:15<00:00,  3.96s/it]\n",
      "100%|██████████| 4/4 [00:15<00:00,  3.96s/it]\n",
      "100%|██████████| 4/4 [00:15<00:00,  3.97s/it]\n",
      "100%|██████████| 4/4 [00:15<00:00,  3.96s/it]\n",
      "100%|██████████| 4/4 [00:15<00:00,  3.95s/it]\n",
      "100%|██████████| 4/4 [00:15<00:00,  3.95s/it]\n",
      "100%|██████████| 4/4 [00:15<00:00,  3.96s/it]\n",
      "100%|██████████| 4/4 [00:15<00:00,  3.95s/it]\n"
     ]
    },
    {
     "name": "stdout",
     "output_type": "stream",
     "text": [
      "iter 4620: loss 5.1430, time 15843.43ms\n"
     ]
    },
    {
     "name": "stderr",
     "output_type": "stream",
     "text": [
      "100%|██████████| 4/4 [00:15<00:00,  3.95s/it]\n",
      "100%|██████████| 4/4 [00:15<00:00,  3.95s/it]\n",
      "100%|██████████| 4/4 [00:15<00:00,  3.96s/it]\n",
      "100%|██████████| 4/4 [00:15<00:00,  3.96s/it]\n",
      "100%|██████████| 4/4 [00:15<00:00,  3.96s/it]\n",
      "100%|██████████| 4/4 [00:15<00:00,  3.96s/it]\n",
      "100%|██████████| 4/4 [00:15<00:00,  3.97s/it]\n",
      "100%|██████████| 4/4 [00:15<00:00,  3.96s/it]\n",
      "100%|██████████| 4/4 [00:15<00:00,  3.95s/it]\n",
      "100%|██████████| 4/4 [00:15<00:00,  3.96s/it]\n",
      "100%|██████████| 4/4 [00:15<00:00,  3.96s/it]\n",
      "100%|██████████| 4/4 [00:15<00:00,  3.96s/it]\n",
      "100%|██████████| 4/4 [00:15<00:00,  3.96s/it]\n",
      "100%|██████████| 4/4 [00:15<00:00,  3.96s/it]\n",
      "100%|██████████| 4/4 [00:15<00:00,  3.97s/it]\n",
      "100%|██████████| 4/4 [00:15<00:00,  3.95s/it]\n",
      "100%|██████████| 4/4 [00:15<00:00,  3.96s/it]\n",
      "100%|██████████| 4/4 [00:15<00:00,  3.96s/it]\n",
      "100%|██████████| 4/4 [00:15<00:00,  3.96s/it]\n",
      "100%|██████████| 4/4 [00:15<00:00,  3.96s/it]\n"
     ]
    },
    {
     "name": "stdout",
     "output_type": "stream",
     "text": [
      "iter 4640: loss 5.7681, time 15848.80ms\n"
     ]
    },
    {
     "name": "stderr",
     "output_type": "stream",
     "text": [
      "100%|██████████| 4/4 [00:15<00:00,  3.95s/it]\n",
      "100%|██████████| 4/4 [00:15<00:00,  3.95s/it]\n",
      "100%|██████████| 4/4 [00:15<00:00,  3.98s/it]\n",
      "100%|██████████| 4/4 [00:15<00:00,  3.96s/it]\n",
      "100%|██████████| 4/4 [00:15<00:00,  3.96s/it]\n",
      "100%|██████████| 4/4 [00:15<00:00,  3.93s/it]\n",
      "100%|██████████| 4/4 [00:15<00:00,  3.90s/it]\n",
      "100%|██████████| 4/4 [00:15<00:00,  3.90s/it]\n",
      "100%|██████████| 4/4 [00:15<00:00,  3.90s/it]\n",
      "100%|██████████| 4/4 [00:15<00:00,  3.90s/it]\n",
      "100%|██████████| 4/4 [00:15<00:00,  3.90s/it]\n",
      "100%|██████████| 4/4 [00:15<00:00,  3.90s/it]\n",
      "100%|██████████| 4/4 [00:15<00:00,  3.90s/it]\n",
      "100%|██████████| 4/4 [00:15<00:00,  3.90s/it]\n",
      "100%|██████████| 4/4 [00:15<00:00,  3.89s/it]\n",
      "100%|██████████| 4/4 [00:15<00:00,  3.90s/it]\n",
      "100%|██████████| 4/4 [00:15<00:00,  3.90s/it]\n",
      "100%|██████████| 4/4 [00:15<00:00,  3.90s/it]\n",
      "100%|██████████| 4/4 [00:15<00:00,  3.90s/it]\n",
      "100%|██████████| 4/4 [00:15<00:00,  3.90s/it]\n"
     ]
    },
    {
     "name": "stdout",
     "output_type": "stream",
     "text": [
      "iter 4660: loss 5.8778, time 15611.61ms\n"
     ]
    },
    {
     "name": "stderr",
     "output_type": "stream",
     "text": [
      "100%|██████████| 4/4 [00:15<00:00,  3.89s/it]\n",
      "100%|██████████| 4/4 [00:15<00:00,  3.90s/it]\n",
      "100%|██████████| 4/4 [00:15<00:00,  3.89s/it]\n",
      "100%|██████████| 4/4 [00:15<00:00,  3.90s/it]\n",
      "100%|██████████| 4/4 [00:15<00:00,  3.90s/it]\n",
      "100%|██████████| 4/4 [00:15<00:00,  3.90s/it]\n",
      "100%|██████████| 4/4 [00:15<00:00,  3.90s/it]\n",
      "100%|██████████| 4/4 [00:15<00:00,  3.90s/it]\n",
      "100%|██████████| 4/4 [00:15<00:00,  3.90s/it]\n",
      "100%|██████████| 4/4 [00:15<00:00,  3.91s/it]\n",
      "100%|██████████| 4/4 [00:15<00:00,  3.90s/it]\n",
      "100%|██████████| 4/4 [00:15<00:00,  3.90s/it]\n",
      "100%|██████████| 4/4 [00:15<00:00,  3.91s/it]\n",
      "100%|██████████| 4/4 [00:15<00:00,  3.90s/it]\n",
      "100%|██████████| 4/4 [00:15<00:00,  3.90s/it]\n",
      "100%|██████████| 4/4 [00:15<00:00,  3.90s/it]\n",
      "100%|██████████| 4/4 [00:15<00:00,  3.91s/it]\n",
      "100%|██████████| 4/4 [00:15<00:00,  3.90s/it]\n",
      "100%|██████████| 4/4 [00:15<00:00,  3.90s/it]\n",
      "100%|██████████| 4/4 [00:15<00:00,  3.90s/it]\n"
     ]
    },
    {
     "name": "stdout",
     "output_type": "stream",
     "text": [
      "iter 4680: loss 6.0894, time 15626.74ms\n"
     ]
    },
    {
     "name": "stderr",
     "output_type": "stream",
     "text": [
      "100%|██████████| 4/4 [00:15<00:00,  3.90s/it]\n",
      "100%|██████████| 4/4 [00:15<00:00,  3.90s/it]\n",
      "100%|██████████| 4/4 [00:15<00:00,  3.90s/it]\n",
      "100%|██████████| 4/4 [00:15<00:00,  3.90s/it]\n",
      "100%|██████████| 4/4 [00:15<00:00,  3.90s/it]\n",
      "100%|██████████| 4/4 [00:15<00:00,  3.90s/it]\n",
      "100%|██████████| 4/4 [00:15<00:00,  3.90s/it]\n",
      "100%|██████████| 4/4 [00:15<00:00,  3.90s/it]\n",
      "100%|██████████| 4/4 [00:15<00:00,  3.90s/it]\n",
      "100%|██████████| 4/4 [00:15<00:00,  3.90s/it]\n",
      "100%|██████████| 4/4 [00:15<00:00,  3.90s/it]\n",
      "100%|██████████| 4/4 [00:15<00:00,  3.90s/it]\n",
      "100%|██████████| 4/4 [00:15<00:00,  3.90s/it]\n",
      "100%|██████████| 4/4 [00:15<00:00,  3.90s/it]\n",
      "100%|██████████| 4/4 [00:15<00:00,  3.90s/it]\n",
      "100%|██████████| 4/4 [00:15<00:00,  3.90s/it]\n",
      "100%|██████████| 4/4 [00:15<00:00,  3.91s/it]\n",
      "100%|██████████| 4/4 [00:15<00:00,  3.90s/it]\n",
      "100%|██████████| 4/4 [00:15<00:00,  3.90s/it]\n",
      "100%|██████████| 4/4 [00:15<00:00,  3.91s/it]\n"
     ]
    },
    {
     "name": "stdout",
     "output_type": "stream",
     "text": [
      "iter 4700: loss 5.7167, time 15644.64ms\n"
     ]
    },
    {
     "name": "stderr",
     "output_type": "stream",
     "text": [
      "100%|██████████| 4/4 [00:15<00:00,  3.90s/it]\n",
      "100%|██████████| 4/4 [00:15<00:00,  3.90s/it]\n",
      "100%|██████████| 4/4 [00:15<00:00,  3.90s/it]\n",
      "100%|██████████| 4/4 [00:15<00:00,  3.91s/it]\n",
      "100%|██████████| 4/4 [00:15<00:00,  3.90s/it]\n",
      "100%|██████████| 4/4 [00:15<00:00,  3.90s/it]\n",
      "100%|██████████| 4/4 [00:15<00:00,  3.90s/it]\n",
      "100%|██████████| 4/4 [00:15<00:00,  3.90s/it]\n",
      "100%|██████████| 4/4 [00:15<00:00,  3.89s/it]\n",
      "100%|██████████| 4/4 [00:15<00:00,  3.90s/it]\n",
      "100%|██████████| 4/4 [00:15<00:00,  3.90s/it]\n",
      "100%|██████████| 4/4 [00:15<00:00,  3.90s/it]\n",
      "100%|██████████| 4/4 [00:15<00:00,  3.90s/it]\n",
      "100%|██████████| 4/4 [00:15<00:00,  3.90s/it]\n",
      "100%|██████████| 4/4 [00:15<00:00,  3.90s/it]\n",
      "100%|██████████| 4/4 [00:15<00:00,  3.90s/it]\n",
      "100%|██████████| 4/4 [00:15<00:00,  3.90s/it]\n",
      "100%|██████████| 4/4 [00:15<00:00,  3.90s/it]\n",
      "100%|██████████| 4/4 [00:15<00:00,  3.90s/it]\n",
      "100%|██████████| 4/4 [00:15<00:00,  3.90s/it]\n"
     ]
    },
    {
     "name": "stdout",
     "output_type": "stream",
     "text": [
      "iter 4720: loss 5.5966, time 15621.73ms\n"
     ]
    },
    {
     "name": "stderr",
     "output_type": "stream",
     "text": [
      "100%|██████████| 4/4 [00:15<00:00,  3.89s/it]\n",
      "100%|██████████| 4/4 [00:15<00:00,  3.90s/it]\n",
      "100%|██████████| 4/4 [00:15<00:00,  3.90s/it]\n",
      "100%|██████████| 4/4 [00:15<00:00,  3.90s/it]\n",
      "100%|██████████| 4/4 [00:15<00:00,  3.90s/it]\n",
      "100%|██████████| 4/4 [00:15<00:00,  3.90s/it]\n",
      "100%|██████████| 4/4 [00:15<00:00,  3.91s/it]\n",
      "100%|██████████| 4/4 [00:15<00:00,  3.90s/it]\n",
      "100%|██████████| 4/4 [00:15<00:00,  3.90s/it]\n",
      "100%|██████████| 4/4 [00:15<00:00,  3.90s/it]\n",
      "100%|██████████| 4/4 [00:15<00:00,  3.90s/it]\n",
      "100%|██████████| 4/4 [00:15<00:00,  3.90s/it]\n",
      "100%|██████████| 4/4 [00:15<00:00,  3.90s/it]\n",
      "100%|██████████| 4/4 [00:15<00:00,  3.90s/it]\n",
      "100%|██████████| 4/4 [00:15<00:00,  3.90s/it]\n",
      "100%|██████████| 4/4 [00:15<00:00,  3.90s/it]\n",
      "100%|██████████| 4/4 [00:15<00:00,  3.90s/it]\n",
      "100%|██████████| 4/4 [00:15<00:00,  3.90s/it]\n",
      "100%|██████████| 4/4 [00:15<00:00,  3.90s/it]\n",
      "100%|██████████| 4/4 [00:15<00:00,  3.90s/it]\n"
     ]
    },
    {
     "name": "stdout",
     "output_type": "stream",
     "text": [
      "iter 4740: loss 6.1155, time 15617.79ms\n"
     ]
    },
    {
     "name": "stderr",
     "output_type": "stream",
     "text": [
      "100%|██████████| 4/4 [00:15<00:00,  3.89s/it]\n",
      "100%|██████████| 4/4 [00:15<00:00,  3.90s/it]\n",
      "100%|██████████| 4/4 [00:15<00:00,  3.90s/it]\n",
      "100%|██████████| 4/4 [00:15<00:00,  3.90s/it]\n",
      "100%|██████████| 4/4 [00:15<00:00,  3.90s/it]\n",
      "100%|██████████| 4/4 [00:15<00:00,  3.90s/it]\n",
      "100%|██████████| 4/4 [00:15<00:00,  3.90s/it]\n",
      "100%|██████████| 4/4 [00:15<00:00,  3.90s/it]\n",
      "100%|██████████| 4/4 [00:15<00:00,  3.90s/it]\n",
      "100%|██████████| 4/4 [00:15<00:00,  3.90s/it]\n",
      "100%|██████████| 4/4 [00:15<00:00,  3.90s/it]\n",
      "100%|██████████| 4/4 [00:15<00:00,  3.90s/it]\n",
      "100%|██████████| 4/4 [00:15<00:00,  3.90s/it]\n",
      "100%|██████████| 4/4 [00:15<00:00,  3.91s/it]\n",
      "100%|██████████| 4/4 [00:15<00:00,  3.90s/it]\n",
      "100%|██████████| 4/4 [00:15<00:00,  3.90s/it]\n",
      "100%|██████████| 4/4 [00:15<00:00,  3.90s/it]\n",
      "100%|██████████| 4/4 [00:15<00:00,  3.90s/it]\n",
      "100%|██████████| 4/4 [00:15<00:00,  3.90s/it]\n",
      "100%|██████████| 4/4 [00:15<00:00,  3.90s/it]\n"
     ]
    },
    {
     "name": "stdout",
     "output_type": "stream",
     "text": [
      "iter 4760: loss 5.7952, time 15616.48ms\n"
     ]
    },
    {
     "name": "stderr",
     "output_type": "stream",
     "text": [
      "100%|██████████| 4/4 [00:15<00:00,  3.89s/it]\n",
      "100%|██████████| 4/4 [00:15<00:00,  3.90s/it]\n",
      "100%|██████████| 4/4 [00:15<00:00,  3.90s/it]\n",
      "100%|██████████| 4/4 [00:15<00:00,  3.90s/it]\n",
      "100%|██████████| 4/4 [00:15<00:00,  3.90s/it]\n",
      "100%|██████████| 4/4 [00:15<00:00,  3.90s/it]\n",
      "100%|██████████| 4/4 [00:15<00:00,  3.90s/it]\n",
      "100%|██████████| 4/4 [00:15<00:00,  3.90s/it]\n",
      "100%|██████████| 4/4 [00:15<00:00,  3.90s/it]\n",
      "100%|██████████| 4/4 [00:15<00:00,  3.90s/it]\n",
      "100%|██████████| 4/4 [00:15<00:00,  3.90s/it]\n",
      "100%|██████████| 4/4 [00:15<00:00,  3.90s/it]\n",
      "100%|██████████| 4/4 [00:15<00:00,  3.90s/it]\n",
      "100%|██████████| 4/4 [00:15<00:00,  3.90s/it]\n",
      "100%|██████████| 4/4 [00:15<00:00,  3.90s/it]\n",
      "100%|██████████| 4/4 [00:15<00:00,  3.89s/it]\n",
      "100%|██████████| 4/4 [00:15<00:00,  3.90s/it]\n",
      "100%|██████████| 4/4 [00:15<00:00,  3.90s/it]\n",
      "100%|██████████| 4/4 [00:15<00:00,  3.90s/it]\n",
      "100%|██████████| 4/4 [00:15<00:00,  3.90s/it]\n"
     ]
    },
    {
     "name": "stdout",
     "output_type": "stream",
     "text": [
      "iter 4780: loss 5.7280, time 15623.22ms\n"
     ]
    },
    {
     "name": "stderr",
     "output_type": "stream",
     "text": [
      "100%|██████████| 4/4 [00:15<00:00,  3.90s/it]\n",
      "100%|██████████| 4/4 [00:15<00:00,  3.90s/it]\n",
      "100%|██████████| 4/4 [00:15<00:00,  3.90s/it]\n",
      "100%|██████████| 4/4 [00:15<00:00,  3.90s/it]\n",
      "100%|██████████| 4/4 [00:15<00:00,  3.90s/it]\n",
      "100%|██████████| 4/4 [00:15<00:00,  3.90s/it]\n",
      "100%|██████████| 4/4 [00:15<00:00,  3.90s/it]\n",
      "100%|██████████| 4/4 [00:15<00:00,  3.90s/it]\n",
      "100%|██████████| 4/4 [00:15<00:00,  3.90s/it]\n",
      "100%|██████████| 4/4 [00:15<00:00,  3.90s/it]\n",
      "100%|██████████| 4/4 [00:15<00:00,  3.90s/it]\n",
      "100%|██████████| 4/4 [00:15<00:00,  3.90s/it]\n",
      "100%|██████████| 4/4 [00:15<00:00,  3.90s/it]\n",
      "100%|██████████| 4/4 [00:15<00:00,  3.90s/it]\n",
      "100%|██████████| 4/4 [00:15<00:00,  3.90s/it]\n",
      "100%|██████████| 4/4 [00:15<00:00,  3.90s/it]\n",
      "100%|██████████| 4/4 [00:15<00:00,  3.90s/it]\n",
      "100%|██████████| 4/4 [00:15<00:00,  3.90s/it]\n",
      "100%|██████████| 4/4 [00:15<00:00,  3.90s/it]\n"
     ]
    },
    {
     "name": "stdout",
     "output_type": "stream",
     "text": [
      "step 4800: train loss 5.8318, val loss 5.8646\n",
      "train ppl 340.99, val ppl 352.35\n",
      "📈 Train/Val Gap: 0.0328 (0.56%)\n"
     ]
    },
    {
     "name": "stderr",
     "output_type": "stream",
     "text": [
      "100%|██████████| 4/4 [00:15<00:00,  3.89s/it]\n"
     ]
    },
    {
     "name": "stdout",
     "output_type": "stream",
     "text": [
      "iter 4800: loss 6.3957, time 106370.99ms\n"
     ]
    },
    {
     "name": "stderr",
     "output_type": "stream",
     "text": [
      "100%|██████████| 4/4 [00:15<00:00,  3.89s/it]\n",
      "100%|██████████| 4/4 [00:15<00:00,  3.90s/it]\n",
      "100%|██████████| 4/4 [00:15<00:00,  3.89s/it]\n",
      "100%|██████████| 4/4 [00:15<00:00,  3.90s/it]\n",
      "100%|██████████| 4/4 [00:15<00:00,  3.86s/it]\n",
      "100%|██████████| 4/4 [00:15<00:00,  3.86s/it]\n",
      "100%|██████████| 4/4 [00:15<00:00,  3.86s/it]\n",
      "100%|██████████| 4/4 [00:15<00:00,  3.86s/it]\n",
      "100%|██████████| 4/4 [00:15<00:00,  3.86s/it]\n",
      "100%|██████████| 4/4 [00:15<00:00,  3.86s/it]\n",
      "100%|██████████| 4/4 [00:15<00:00,  3.86s/it]\n",
      "100%|██████████| 4/4 [00:15<00:00,  3.86s/it]\n",
      "100%|██████████| 4/4 [00:15<00:00,  3.86s/it]\n",
      "100%|██████████| 4/4 [00:15<00:00,  3.87s/it]\n",
      "100%|██████████| 4/4 [00:15<00:00,  3.86s/it]\n",
      "100%|██████████| 4/4 [00:15<00:00,  3.89s/it]\n",
      "100%|██████████| 4/4 [00:15<00:00,  3.86s/it]\n",
      "100%|██████████| 4/4 [00:15<00:00,  3.86s/it]\n",
      "100%|██████████| 4/4 [00:15<00:00,  3.86s/it]\n",
      "100%|██████████| 4/4 [00:15<00:00,  3.86s/it]\n"
     ]
    },
    {
     "name": "stdout",
     "output_type": "stream",
     "text": [
      "iter 4820: loss 5.7878, time 15478.43ms\n"
     ]
    },
    {
     "name": "stderr",
     "output_type": "stream",
     "text": [
      "100%|██████████| 4/4 [00:15<00:00,  3.86s/it]\n",
      "100%|██████████| 4/4 [00:15<00:00,  3.86s/it]\n",
      "100%|██████████| 4/4 [00:15<00:00,  3.86s/it]\n",
      "100%|██████████| 4/4 [00:15<00:00,  3.86s/it]\n",
      "100%|██████████| 4/4 [00:15<00:00,  3.86s/it]\n",
      "100%|██████████| 4/4 [00:15<00:00,  3.86s/it]\n",
      "100%|██████████| 4/4 [00:15<00:00,  3.86s/it]\n",
      "100%|██████████| 4/4 [00:15<00:00,  3.88s/it]\n",
      "100%|██████████| 4/4 [00:15<00:00,  3.87s/it]\n",
      "100%|██████████| 4/4 [00:15<00:00,  3.86s/it]\n",
      "100%|██████████| 4/4 [00:15<00:00,  3.86s/it]\n",
      "100%|██████████| 4/4 [00:15<00:00,  3.86s/it]\n",
      "100%|██████████| 4/4 [00:15<00:00,  3.87s/it]\n",
      "100%|██████████| 4/4 [00:15<00:00,  3.86s/it]\n",
      "100%|██████████| 4/4 [00:15<00:00,  3.86s/it]\n",
      "100%|██████████| 4/4 [00:15<00:00,  3.86s/it]\n",
      "100%|██████████| 4/4 [00:15<00:00,  3.87s/it]\n",
      "100%|██████████| 4/4 [00:15<00:00,  3.86s/it]\n",
      "100%|██████████| 4/4 [00:15<00:00,  3.86s/it]\n",
      "100%|██████████| 4/4 [00:15<00:00,  3.87s/it]\n"
     ]
    },
    {
     "name": "stdout",
     "output_type": "stream",
     "text": [
      "iter 4840: loss 5.6361, time 15492.75ms\n"
     ]
    },
    {
     "name": "stderr",
     "output_type": "stream",
     "text": [
      "100%|██████████| 4/4 [00:15<00:00,  3.86s/it]\n",
      "100%|██████████| 4/4 [00:15<00:00,  3.86s/it]\n",
      "100%|██████████| 4/4 [00:15<00:00,  3.87s/it]\n",
      "100%|██████████| 4/4 [00:15<00:00,  3.88s/it]\n",
      "100%|██████████| 4/4 [00:15<00:00,  3.87s/it]\n",
      "100%|██████████| 4/4 [00:15<00:00,  3.87s/it]\n",
      "100%|██████████| 4/4 [00:15<00:00,  3.86s/it]\n",
      "100%|██████████| 4/4 [00:15<00:00,  3.86s/it]\n",
      "100%|██████████| 4/4 [00:15<00:00,  3.87s/it]\n",
      "100%|██████████| 4/4 [00:15<00:00,  3.86s/it]\n",
      "100%|██████████| 4/4 [00:15<00:00,  3.86s/it]\n",
      "100%|██████████| 4/4 [00:15<00:00,  3.87s/it]\n",
      "100%|██████████| 4/4 [00:15<00:00,  3.86s/it]\n",
      "100%|██████████| 4/4 [00:15<00:00,  3.87s/it]\n",
      "100%|██████████| 4/4 [00:15<00:00,  3.86s/it]\n",
      "100%|██████████| 4/4 [00:15<00:00,  3.87s/it]\n",
      "100%|██████████| 4/4 [00:15<00:00,  3.86s/it]\n",
      "100%|██████████| 4/4 [00:15<00:00,  3.86s/it]\n",
      "100%|██████████| 4/4 [00:15<00:00,  3.87s/it]\n",
      "100%|██████████| 4/4 [00:15<00:00,  3.87s/it]\n"
     ]
    },
    {
     "name": "stdout",
     "output_type": "stream",
     "text": [
      "iter 4860: loss 5.6085, time 15484.45ms\n"
     ]
    },
    {
     "name": "stderr",
     "output_type": "stream",
     "text": [
      "100%|██████████| 4/4 [00:15<00:00,  3.86s/it]\n",
      "100%|██████████| 4/4 [00:15<00:00,  3.87s/it]\n",
      "100%|██████████| 4/4 [00:15<00:00,  3.86s/it]\n",
      "100%|██████████| 4/4 [00:15<00:00,  3.86s/it]\n",
      "100%|██████████| 4/4 [00:15<00:00,  3.86s/it]\n",
      "100%|██████████| 4/4 [00:15<00:00,  3.87s/it]\n",
      "100%|██████████| 4/4 [00:15<00:00,  3.86s/it]\n",
      "100%|██████████| 4/4 [00:15<00:00,  3.87s/it]\n",
      "100%|██████████| 4/4 [00:15<00:00,  3.86s/it]\n",
      "100%|██████████| 4/4 [00:15<00:00,  3.87s/it]\n",
      "100%|██████████| 4/4 [00:15<00:00,  3.86s/it]\n",
      "100%|██████████| 4/4 [00:15<00:00,  3.87s/it]\n",
      "100%|██████████| 4/4 [00:15<00:00,  3.86s/it]\n",
      "100%|██████████| 4/4 [00:15<00:00,  3.86s/it]\n",
      "100%|██████████| 4/4 [00:15<00:00,  3.86s/it]\n",
      "100%|██████████| 4/4 [00:15<00:00,  3.87s/it]\n",
      "100%|██████████| 4/4 [00:15<00:00,  3.86s/it]\n",
      "100%|██████████| 4/4 [00:15<00:00,  3.86s/it]\n",
      "100%|██████████| 4/4 [00:15<00:00,  3.86s/it]\n",
      "100%|██████████| 4/4 [00:15<00:00,  3.86s/it]\n"
     ]
    },
    {
     "name": "stdout",
     "output_type": "stream",
     "text": [
      "iter 4880: loss 5.8004, time 15484.09ms\n"
     ]
    },
    {
     "name": "stderr",
     "output_type": "stream",
     "text": [
      "100%|██████████| 4/4 [00:15<00:00,  3.86s/it]\n",
      "100%|██████████| 4/4 [00:15<00:00,  3.86s/it]\n",
      "100%|██████████| 4/4 [00:15<00:00,  3.86s/it]\n",
      "100%|██████████| 4/4 [00:15<00:00,  3.86s/it]\n",
      "100%|██████████| 4/4 [00:15<00:00,  3.87s/it]\n",
      "100%|██████████| 4/4 [00:15<00:00,  3.87s/it]\n",
      "100%|██████████| 4/4 [00:15<00:00,  3.87s/it]\n",
      "100%|██████████| 4/4 [00:15<00:00,  3.86s/it]\n",
      "100%|██████████| 4/4 [00:15<00:00,  3.86s/it]\n",
      "100%|██████████| 4/4 [00:15<00:00,  3.86s/it]\n",
      "100%|██████████| 4/4 [00:15<00:00,  3.87s/it]\n",
      "100%|██████████| 4/4 [00:15<00:00,  3.87s/it]\n",
      "100%|██████████| 4/4 [00:15<00:00,  3.86s/it]\n",
      "100%|██████████| 4/4 [00:15<00:00,  3.86s/it]\n",
      "100%|██████████| 4/4 [00:15<00:00,  3.87s/it]\n",
      "100%|██████████| 4/4 [00:15<00:00,  3.86s/it]\n",
      "100%|██████████| 4/4 [00:15<00:00,  3.86s/it]\n",
      "100%|██████████| 4/4 [00:15<00:00,  3.86s/it]\n",
      "100%|██████████| 4/4 [00:15<00:00,  3.86s/it]\n",
      "100%|██████████| 4/4 [00:15<00:00,  3.87s/it]\n"
     ]
    },
    {
     "name": "stdout",
     "output_type": "stream",
     "text": [
      "iter 4900: loss 5.7110, time 15486.84ms\n"
     ]
    },
    {
     "name": "stderr",
     "output_type": "stream",
     "text": [
      "100%|██████████| 4/4 [00:15<00:00,  3.86s/it]\n",
      "100%|██████████| 4/4 [00:15<00:00,  3.86s/it]\n",
      "100%|██████████| 4/4 [00:15<00:00,  3.86s/it]\n",
      "100%|██████████| 4/4 [00:15<00:00,  3.87s/it]\n",
      "100%|██████████| 4/4 [00:15<00:00,  3.87s/it]\n",
      "100%|██████████| 4/4 [00:15<00:00,  3.86s/it]\n",
      "100%|██████████| 4/4 [00:15<00:00,  3.87s/it]\n",
      "100%|██████████| 4/4 [00:15<00:00,  3.86s/it]\n",
      "100%|██████████| 4/4 [00:15<00:00,  3.86s/it]\n",
      "100%|██████████| 4/4 [00:15<00:00,  3.86s/it]\n",
      "100%|██████████| 4/4 [00:15<00:00,  3.86s/it]\n",
      "100%|██████████| 4/4 [00:15<00:00,  3.86s/it]\n",
      "100%|██████████| 4/4 [00:15<00:00,  3.86s/it]\n",
      "100%|██████████| 4/4 [00:15<00:00,  3.87s/it]\n",
      "100%|██████████| 4/4 [00:15<00:00,  3.86s/it]\n",
      "100%|██████████| 4/4 [00:15<00:00,  3.87s/it]\n",
      "100%|██████████| 4/4 [00:15<00:00,  3.86s/it]\n",
      "100%|██████████| 4/4 [00:15<00:00,  3.87s/it]\n",
      "100%|██████████| 4/4 [00:15<00:00,  3.86s/it]\n",
      "100%|██████████| 4/4 [00:15<00:00,  3.86s/it]\n"
     ]
    },
    {
     "name": "stdout",
     "output_type": "stream",
     "text": [
      "iter 4920: loss 6.0577, time 15467.08ms\n"
     ]
    },
    {
     "name": "stderr",
     "output_type": "stream",
     "text": [
      "100%|██████████| 4/4 [00:15<00:00,  3.86s/it]\n",
      "100%|██████████| 4/4 [00:15<00:00,  3.87s/it]\n",
      "100%|██████████| 4/4 [00:15<00:00,  3.86s/it]\n",
      "100%|██████████| 4/4 [00:15<00:00,  3.86s/it]\n",
      "100%|██████████| 4/4 [00:15<00:00,  3.86s/it]\n",
      "100%|██████████| 4/4 [00:15<00:00,  3.86s/it]\n",
      "100%|██████████| 4/4 [00:15<00:00,  3.86s/it]\n",
      "100%|██████████| 4/4 [00:15<00:00,  3.86s/it]\n",
      "100%|██████████| 4/4 [00:15<00:00,  3.86s/it]\n",
      "100%|██████████| 4/4 [00:15<00:00,  3.86s/it]\n",
      "100%|██████████| 4/4 [00:15<00:00,  3.86s/it]\n",
      "100%|██████████| 4/4 [00:15<00:00,  3.86s/it]\n",
      "100%|██████████| 4/4 [00:15<00:00,  3.86s/it]\n",
      "100%|██████████| 4/4 [00:15<00:00,  3.86s/it]\n",
      "100%|██████████| 4/4 [00:15<00:00,  3.87s/it]\n",
      "100%|██████████| 4/4 [00:15<00:00,  3.86s/it]\n",
      "100%|██████████| 4/4 [00:15<00:00,  3.87s/it]\n",
      "100%|██████████| 4/4 [00:15<00:00,  3.87s/it]\n",
      "100%|██████████| 4/4 [00:15<00:00,  3.86s/it]\n",
      "100%|██████████| 4/4 [00:15<00:00,  3.86s/it]\n"
     ]
    },
    {
     "name": "stdout",
     "output_type": "stream",
     "text": [
      "iter 4940: loss 5.9572, time 15476.15ms\n"
     ]
    },
    {
     "name": "stderr",
     "output_type": "stream",
     "text": [
      "100%|██████████| 4/4 [00:15<00:00,  3.86s/it]\n",
      "100%|██████████| 4/4 [00:15<00:00,  3.87s/it]\n",
      "100%|██████████| 4/4 [00:15<00:00,  3.86s/it]\n",
      "100%|██████████| 4/4 [00:15<00:00,  3.86s/it]\n",
      "100%|██████████| 4/4 [00:15<00:00,  3.86s/it]\n",
      "100%|██████████| 4/4 [00:15<00:00,  3.87s/it]\n",
      "100%|██████████| 4/4 [00:15<00:00,  3.86s/it]\n",
      "100%|██████████| 4/4 [00:15<00:00,  3.86s/it]\n",
      "100%|██████████| 4/4 [00:15<00:00,  3.86s/it]\n",
      "100%|██████████| 4/4 [00:15<00:00,  3.86s/it]\n",
      "100%|██████████| 4/4 [00:15<00:00,  3.87s/it]\n",
      "100%|██████████| 4/4 [00:15<00:00,  3.87s/it]\n",
      "100%|██████████| 4/4 [00:15<00:00,  3.87s/it]\n",
      "100%|██████████| 4/4 [00:15<00:00,  3.86s/it]\n",
      "100%|██████████| 4/4 [00:15<00:00,  3.86s/it]\n",
      "100%|██████████| 4/4 [00:15<00:00,  3.86s/it]\n",
      "100%|██████████| 4/4 [00:15<00:00,  3.86s/it]\n",
      "100%|██████████| 4/4 [00:15<00:00,  3.86s/it]\n",
      "100%|██████████| 4/4 [00:15<00:00,  3.86s/it]\n",
      "100%|██████████| 4/4 [00:15<00:00,  3.86s/it]\n"
     ]
    },
    {
     "name": "stdout",
     "output_type": "stream",
     "text": [
      "iter 4960: loss 6.0868, time 15471.84ms\n"
     ]
    },
    {
     "name": "stderr",
     "output_type": "stream",
     "text": [
      "100%|██████████| 4/4 [00:15<00:00,  3.86s/it]\n",
      "100%|██████████| 4/4 [00:15<00:00,  3.86s/it]\n",
      "100%|██████████| 4/4 [00:15<00:00,  3.86s/it]\n",
      "100%|██████████| 4/4 [00:15<00:00,  3.86s/it]\n",
      "100%|██████████| 4/4 [00:15<00:00,  3.86s/it]\n",
      "100%|██████████| 4/4 [00:15<00:00,  3.86s/it]\n",
      "100%|██████████| 4/4 [00:15<00:00,  3.87s/it]\n",
      "100%|██████████| 4/4 [00:15<00:00,  3.86s/it]\n",
      "100%|██████████| 4/4 [00:15<00:00,  3.87s/it]\n",
      "100%|██████████| 4/4 [00:15<00:00,  3.86s/it]\n",
      "100%|██████████| 4/4 [00:15<00:00,  3.86s/it]\n",
      "100%|██████████| 4/4 [00:15<00:00,  3.86s/it]\n",
      "100%|██████████| 4/4 [00:15<00:00,  3.86s/it]\n",
      "100%|██████████| 4/4 [00:15<00:00,  3.86s/it]\n",
      "100%|██████████| 4/4 [00:15<00:00,  3.87s/it]\n",
      "100%|██████████| 4/4 [00:15<00:00,  3.87s/it]\n",
      "100%|██████████| 4/4 [00:15<00:00,  3.87s/it]\n",
      "100%|██████████| 4/4 [00:15<00:00,  3.86s/it]\n",
      "100%|██████████| 4/4 [00:15<00:00,  3.87s/it]\n",
      "100%|██████████| 4/4 [00:15<00:00,  3.87s/it]\n"
     ]
    },
    {
     "name": "stdout",
     "output_type": "stream",
     "text": [
      "iter 4980: loss 5.6704, time 15513.86ms\n"
     ]
    },
    {
     "name": "stderr",
     "output_type": "stream",
     "text": [
      "100%|██████████| 4/4 [00:15<00:00,  3.86s/it]\n",
      "100%|██████████| 4/4 [00:15<00:00,  3.87s/it]\n",
      "100%|██████████| 4/4 [00:15<00:00,  3.86s/it]\n",
      "100%|██████████| 4/4 [00:15<00:00,  3.87s/it]\n",
      "100%|██████████| 4/4 [00:15<00:00,  3.86s/it]\n",
      "100%|██████████| 4/4 [00:15<00:00,  3.86s/it]\n",
      "100%|██████████| 4/4 [00:15<00:00,  3.86s/it]\n",
      "100%|██████████| 4/4 [00:15<00:00,  3.87s/it]\n",
      "100%|██████████| 4/4 [00:15<00:00,  3.86s/it]\n",
      "100%|██████████| 4/4 [00:15<00:00,  3.86s/it]\n",
      "100%|██████████| 4/4 [00:15<00:00,  3.86s/it]\n",
      "100%|██████████| 4/4 [00:15<00:00,  3.87s/it]\n",
      "100%|██████████| 4/4 [00:15<00:00,  3.86s/it]\n",
      "100%|██████████| 4/4 [00:15<00:00,  3.86s/it]\n",
      "100%|██████████| 4/4 [00:15<00:00,  3.86s/it]\n",
      "100%|██████████| 4/4 [00:15<00:00,  3.87s/it]\n",
      "100%|██████████| 4/4 [00:15<00:00,  3.87s/it]\n",
      "100%|██████████| 4/4 [00:15<00:00,  3.86s/it]\n",
      "100%|██████████| 4/4 [00:15<00:00,  3.87s/it]\n"
     ]
    },
    {
     "name": "stdout",
     "output_type": "stream",
     "text": [
      "step 5000: train loss 5.7512, val loss 5.7315\n",
      "train ppl 314.56, val ppl 308.44\n",
      "📈 Train/Val Gap: -0.0196 (-0.34%)\n",
      "✅ 新的最佳驗證損失: 5.7315\n"
     ]
    },
    {
     "name": "stderr",
     "output_type": "stream",
     "text": [
      "100%|██████████| 4/4 [00:15<00:00,  3.86s/it]\n"
     ]
    },
    {
     "name": "stdout",
     "output_type": "stream",
     "text": [
      "iter 5000: loss 5.0139, time 106275.65ms\n"
     ]
    },
    {
     "name": "stderr",
     "output_type": "stream",
     "text": [
      "100%|██████████| 4/4 [00:15<00:00,  3.86s/it]\n",
      "100%|██████████| 4/4 [00:15<00:00,  3.87s/it]\n",
      "100%|██████████| 4/4 [00:15<00:00,  3.86s/it]\n",
      "100%|██████████| 4/4 [00:15<00:00,  3.86s/it]\n",
      "100%|██████████| 4/4 [00:15<00:00,  3.86s/it]\n",
      "100%|██████████| 4/4 [00:15<00:00,  3.86s/it]\n",
      "100%|██████████| 4/4 [00:15<00:00,  3.86s/it]\n",
      "100%|██████████| 4/4 [00:15<00:00,  3.86s/it]\n",
      "100%|██████████| 4/4 [00:15<00:00,  3.86s/it]\n",
      "100%|██████████| 4/4 [00:15<00:00,  3.86s/it]\n",
      "100%|██████████| 4/4 [00:15<00:00,  3.86s/it]\n",
      "100%|██████████| 4/4 [00:15<00:00,  3.86s/it]\n",
      "100%|██████████| 4/4 [00:15<00:00,  3.87s/it]\n",
      "100%|██████████| 4/4 [00:15<00:00,  3.88s/it]\n",
      "100%|██████████| 4/4 [00:15<00:00,  3.86s/it]\n",
      "100%|██████████| 4/4 [00:15<00:00,  3.86s/it]\n",
      "100%|██████████| 4/4 [00:15<00:00,  3.86s/it]\n",
      "100%|██████████| 4/4 [00:15<00:00,  3.86s/it]\n",
      "100%|██████████| 4/4 [00:15<00:00,  3.86s/it]\n",
      "100%|██████████| 4/4 [00:15<00:00,  3.87s/it]\n"
     ]
    },
    {
     "name": "stdout",
     "output_type": "stream",
     "text": [
      "iter 5020: loss 5.8510, time 15491.95ms\n"
     ]
    },
    {
     "name": "stderr",
     "output_type": "stream",
     "text": [
      "100%|██████████| 4/4 [00:15<00:00,  3.86s/it]\n",
      "100%|██████████| 4/4 [00:15<00:00,  3.87s/it]\n",
      "100%|██████████| 4/4 [00:15<00:00,  3.86s/it]\n",
      "100%|██████████| 4/4 [00:15<00:00,  3.86s/it]\n",
      "100%|██████████| 4/4 [00:15<00:00,  3.90s/it]\n",
      "100%|██████████| 4/4 [00:15<00:00,  3.94s/it]\n",
      "100%|██████████| 4/4 [00:15<00:00,  3.92s/it]\n",
      "100%|██████████| 4/4 [00:15<00:00,  3.92s/it]\n",
      "100%|██████████| 4/4 [00:15<00:00,  3.93s/it]\n",
      "100%|██████████| 4/4 [00:15<00:00,  3.92s/it]\n",
      "100%|██████████| 4/4 [00:15<00:00,  3.92s/it]\n",
      "100%|██████████| 4/4 [00:15<00:00,  3.93s/it]\n",
      "100%|██████████| 4/4 [00:15<00:00,  3.89s/it]\n",
      "100%|██████████| 4/4 [00:15<00:00,  3.86s/it]\n",
      "100%|██████████| 4/4 [00:15<00:00,  3.86s/it]\n",
      "100%|██████████| 4/4 [00:15<00:00,  3.86s/it]\n",
      "100%|██████████| 4/4 [00:15<00:00,  3.85s/it]\n",
      "100%|██████████| 4/4 [00:15<00:00,  3.86s/it]\n",
      "100%|██████████| 4/4 [00:15<00:00,  3.85s/it]\n",
      "100%|██████████| 4/4 [00:15<00:00,  3.86s/it]\n"
     ]
    },
    {
     "name": "stdout",
     "output_type": "stream",
     "text": [
      "iter 5040: loss 5.9947, time 15471.66ms\n"
     ]
    },
    {
     "name": "stderr",
     "output_type": "stream",
     "text": [
      "100%|██████████| 4/4 [00:15<00:00,  3.85s/it]\n",
      "100%|██████████| 4/4 [00:15<00:00,  3.88s/it]\n",
      "100%|██████████| 4/4 [00:15<00:00,  3.86s/it]\n",
      "100%|██████████| 4/4 [00:15<00:00,  3.86s/it]\n",
      "100%|██████████| 4/4 [00:15<00:00,  3.86s/it]\n",
      "100%|██████████| 4/4 [00:15<00:00,  3.86s/it]\n",
      "100%|██████████| 4/4 [00:15<00:00,  3.86s/it]\n",
      "100%|██████████| 4/4 [00:15<00:00,  3.86s/it]\n",
      "100%|██████████| 4/4 [00:15<00:00,  3.85s/it]\n",
      "100%|██████████| 4/4 [00:15<00:00,  3.85s/it]\n",
      "100%|██████████| 4/4 [00:15<00:00,  3.86s/it]\n",
      "100%|██████████| 4/4 [00:15<00:00,  3.86s/it]\n",
      "100%|██████████| 4/4 [00:15<00:00,  3.85s/it]\n",
      "100%|██████████| 4/4 [00:15<00:00,  3.85s/it]\n",
      "100%|██████████| 4/4 [00:15<00:00,  3.86s/it]\n",
      "100%|██████████| 4/4 [00:15<00:00,  3.86s/it]\n",
      "100%|██████████| 4/4 [00:15<00:00,  3.86s/it]\n",
      "100%|██████████| 4/4 [00:15<00:00,  3.85s/it]\n",
      "100%|██████████| 4/4 [00:15<00:00,  3.86s/it]\n",
      "100%|██████████| 4/4 [00:15<00:00,  3.86s/it]\n"
     ]
    },
    {
     "name": "stdout",
     "output_type": "stream",
     "text": [
      "iter 5060: loss 5.5010, time 15471.80ms\n"
     ]
    },
    {
     "name": "stderr",
     "output_type": "stream",
     "text": [
      "100%|██████████| 4/4 [00:15<00:00,  3.85s/it]\n",
      "100%|██████████| 4/4 [00:15<00:00,  3.86s/it]\n",
      "100%|██████████| 4/4 [00:15<00:00,  3.86s/it]\n",
      "100%|██████████| 4/4 [00:15<00:00,  3.86s/it]\n",
      "100%|██████████| 4/4 [00:15<00:00,  3.85s/it]\n",
      "100%|██████████| 4/4 [00:15<00:00,  3.86s/it]\n",
      "100%|██████████| 4/4 [00:15<00:00,  3.86s/it]\n",
      "100%|██████████| 4/4 [00:15<00:00,  3.86s/it]\n",
      "100%|██████████| 4/4 [00:15<00:00,  3.85s/it]\n",
      "100%|██████████| 4/4 [00:15<00:00,  3.85s/it]\n",
      "100%|██████████| 4/4 [00:15<00:00,  3.86s/it]\n",
      "100%|██████████| 4/4 [00:15<00:00,  3.85s/it]\n",
      "100%|██████████| 4/4 [00:15<00:00,  3.85s/it]\n",
      "100%|██████████| 4/4 [00:15<00:00,  3.85s/it]\n",
      "100%|██████████| 4/4 [00:15<00:00,  3.86s/it]\n",
      "100%|██████████| 4/4 [00:15<00:00,  3.85s/it]\n",
      "100%|██████████| 4/4 [00:15<00:00,  3.85s/it]\n",
      "100%|██████████| 4/4 [00:15<00:00,  3.86s/it]\n",
      "100%|██████████| 4/4 [00:15<00:00,  3.86s/it]\n",
      "100%|██████████| 4/4 [00:15<00:00,  3.85s/it]\n"
     ]
    },
    {
     "name": "stdout",
     "output_type": "stream",
     "text": [
      "iter 5080: loss 5.8796, time 15442.98ms\n"
     ]
    },
    {
     "name": "stderr",
     "output_type": "stream",
     "text": [
      "100%|██████████| 4/4 [00:15<00:00,  3.85s/it]\n",
      "100%|██████████| 4/4 [00:15<00:00,  3.86s/it]\n",
      "100%|██████████| 4/4 [00:15<00:00,  3.86s/it]\n",
      "100%|██████████| 4/4 [00:15<00:00,  3.86s/it]\n",
      "100%|██████████| 4/4 [00:15<00:00,  3.85s/it]\n",
      "100%|██████████| 4/4 [00:15<00:00,  3.86s/it]\n",
      "100%|██████████| 4/4 [00:15<00:00,  3.86s/it]\n",
      "100%|██████████| 4/4 [00:15<00:00,  3.86s/it]\n",
      "100%|██████████| 4/4 [00:15<00:00,  3.85s/it]\n",
      "100%|██████████| 4/4 [00:15<00:00,  3.85s/it]\n",
      "100%|██████████| 4/4 [00:15<00:00,  3.86s/it]\n",
      "100%|██████████| 4/4 [00:15<00:00,  3.86s/it]\n",
      "100%|██████████| 4/4 [00:15<00:00,  3.85s/it]\n",
      "100%|██████████| 4/4 [00:15<00:00,  3.85s/it]\n",
      "100%|██████████| 4/4 [00:15<00:00,  3.87s/it]\n",
      "100%|██████████| 4/4 [00:15<00:00,  3.86s/it]\n",
      "100%|██████████| 4/4 [00:15<00:00,  3.86s/it]\n",
      "100%|██████████| 4/4 [00:15<00:00,  3.86s/it]\n",
      "100%|██████████| 4/4 [00:15<00:00,  3.86s/it]\n",
      "100%|██████████| 4/4 [00:15<00:00,  3.86s/it]\n"
     ]
    },
    {
     "name": "stdout",
     "output_type": "stream",
     "text": [
      "iter 5100: loss 6.0343, time 15458.58ms\n"
     ]
    },
    {
     "name": "stderr",
     "output_type": "stream",
     "text": [
      "100%|██████████| 4/4 [00:15<00:00,  3.85s/it]\n",
      "100%|██████████| 4/4 [00:15<00:00,  3.86s/it]\n",
      "100%|██████████| 4/4 [00:15<00:00,  3.85s/it]\n",
      "100%|██████████| 4/4 [00:15<00:00,  3.85s/it]\n",
      "100%|██████████| 4/4 [00:15<00:00,  3.85s/it]\n",
      "100%|██████████| 4/4 [00:15<00:00,  3.86s/it]\n",
      "100%|██████████| 4/4 [00:15<00:00,  3.85s/it]\n",
      "100%|██████████| 4/4 [00:15<00:00,  3.86s/it]\n",
      "100%|██████████| 4/4 [00:15<00:00,  3.86s/it]\n",
      "100%|██████████| 4/4 [00:15<00:00,  3.86s/it]\n",
      "100%|██████████| 4/4 [00:15<00:00,  3.86s/it]\n",
      "100%|██████████| 4/4 [00:15<00:00,  3.79s/it]\n",
      "100%|██████████| 4/4 [00:15<00:00,  3.79s/it]\n",
      "100%|██████████| 4/4 [00:15<00:00,  3.79s/it]\n",
      "100%|██████████| 4/4 [00:15<00:00,  3.78s/it]\n",
      "100%|██████████| 4/4 [00:15<00:00,  3.78s/it]\n",
      "100%|██████████| 4/4 [00:15<00:00,  3.78s/it]\n",
      "100%|██████████| 4/4 [00:15<00:00,  3.79s/it]\n",
      "100%|██████████| 4/4 [00:15<00:00,  3.79s/it]\n",
      "100%|██████████| 4/4 [00:15<00:00,  3.78s/it]\n"
     ]
    },
    {
     "name": "stdout",
     "output_type": "stream",
     "text": [
      "iter 5120: loss 5.0457, time 15158.55ms\n"
     ]
    },
    {
     "name": "stderr",
     "output_type": "stream",
     "text": [
      "100%|██████████| 4/4 [00:15<00:00,  3.78s/it]\n",
      "100%|██████████| 4/4 [00:15<00:00,  3.79s/it]\n",
      "100%|██████████| 4/4 [00:15<00:00,  3.78s/it]\n",
      "100%|██████████| 4/4 [00:15<00:00,  3.78s/it]\n",
      "100%|██████████| 4/4 [00:15<00:00,  3.78s/it]\n",
      "100%|██████████| 4/4 [00:15<00:00,  3.79s/it]\n",
      "100%|██████████| 4/4 [00:15<00:00,  3.79s/it]\n",
      "100%|██████████| 4/4 [00:15<00:00,  3.79s/it]\n",
      "100%|██████████| 4/4 [00:15<00:00,  3.78s/it]\n",
      "100%|██████████| 4/4 [00:15<00:00,  3.80s/it]\n",
      "100%|██████████| 4/4 [00:15<00:00,  3.79s/it]\n",
      "100%|██████████| 4/4 [00:15<00:00,  3.78s/it]\n",
      "100%|██████████| 4/4 [00:15<00:00,  3.79s/it]\n",
      "100%|██████████| 4/4 [00:15<00:00,  3.85s/it]\n",
      "100%|██████████| 4/4 [00:15<00:00,  3.85s/it]\n",
      "100%|██████████| 4/4 [00:15<00:00,  3.85s/it]\n",
      "100%|██████████| 4/4 [00:15<00:00,  3.86s/it]\n",
      "100%|██████████| 4/4 [00:15<00:00,  3.85s/it]\n",
      "100%|██████████| 4/4 [00:15<00:00,  3.85s/it]\n",
      "100%|██████████| 4/4 [00:15<00:00,  3.85s/it]\n"
     ]
    },
    {
     "name": "stdout",
     "output_type": "stream",
     "text": [
      "iter 5140: loss 5.0893, time 15428.02ms\n"
     ]
    },
    {
     "name": "stderr",
     "output_type": "stream",
     "text": [
      "100%|██████████| 4/4 [00:15<00:00,  3.84s/it]\n",
      "100%|██████████| 4/4 [00:15<00:00,  3.85s/it]\n",
      "100%|██████████| 4/4 [00:15<00:00,  3.85s/it]\n",
      "100%|██████████| 4/4 [00:15<00:00,  3.85s/it]\n",
      "100%|██████████| 4/4 [00:15<00:00,  3.85s/it]\n",
      "100%|██████████| 4/4 [00:15<00:00,  3.85s/it]\n",
      "100%|██████████| 4/4 [00:15<00:00,  3.85s/it]\n",
      "100%|██████████| 4/4 [00:15<00:00,  3.85s/it]\n",
      "100%|██████████| 4/4 [00:15<00:00,  3.86s/it]\n",
      "100%|██████████| 4/4 [00:15<00:00,  3.86s/it]\n",
      "100%|██████████| 4/4 [00:15<00:00,  3.85s/it]\n",
      "100%|██████████| 4/4 [00:15<00:00,  3.85s/it]\n",
      "100%|██████████| 4/4 [00:15<00:00,  3.86s/it]\n",
      "100%|██████████| 4/4 [00:15<00:00,  3.85s/it]\n",
      "100%|██████████| 4/4 [00:15<00:00,  3.85s/it]\n",
      "100%|██████████| 4/4 [00:15<00:00,  3.85s/it]\n",
      "100%|██████████| 4/4 [00:15<00:00,  3.86s/it]\n",
      "100%|██████████| 4/4 [00:15<00:00,  3.85s/it]\n",
      "100%|██████████| 4/4 [00:15<00:00,  3.85s/it]\n",
      "100%|██████████| 4/4 [00:15<00:00,  3.85s/it]\n"
     ]
    },
    {
     "name": "stdout",
     "output_type": "stream",
     "text": [
      "iter 5160: loss 5.6403, time 15433.81ms\n"
     ]
    },
    {
     "name": "stderr",
     "output_type": "stream",
     "text": [
      "100%|██████████| 4/4 [00:15<00:00,  3.85s/it]\n",
      "100%|██████████| 4/4 [00:15<00:00,  3.85s/it]\n",
      "100%|██████████| 4/4 [00:15<00:00,  3.85s/it]\n",
      "100%|██████████| 4/4 [00:15<00:00,  3.85s/it]\n",
      "100%|██████████| 4/4 [00:15<00:00,  3.86s/it]\n",
      "100%|██████████| 4/4 [00:15<00:00,  3.86s/it]\n",
      "100%|██████████| 4/4 [00:15<00:00,  3.85s/it]\n",
      "100%|██████████| 4/4 [00:15<00:00,  3.85s/it]\n",
      "100%|██████████| 4/4 [00:15<00:00,  3.86s/it]\n",
      "100%|██████████| 4/4 [00:15<00:00,  3.85s/it]\n",
      "100%|██████████| 4/4 [00:15<00:00,  3.85s/it]\n",
      "100%|██████████| 4/4 [00:15<00:00,  3.85s/it]\n",
      "100%|██████████| 4/4 [00:15<00:00,  3.86s/it]\n",
      "100%|██████████| 4/4 [00:15<00:00,  3.85s/it]\n",
      "100%|██████████| 4/4 [00:15<00:00,  3.85s/it]\n",
      "100%|██████████| 4/4 [00:15<00:00,  3.85s/it]\n",
      "100%|██████████| 4/4 [00:15<00:00,  3.86s/it]\n",
      "100%|██████████| 4/4 [00:15<00:00,  3.85s/it]\n",
      "100%|██████████| 4/4 [00:15<00:00,  3.85s/it]\n",
      "100%|██████████| 4/4 [00:15<00:00,  3.85s/it]\n"
     ]
    },
    {
     "name": "stdout",
     "output_type": "stream",
     "text": [
      "iter 5180: loss 5.9327, time 15434.67ms\n"
     ]
    },
    {
     "name": "stderr",
     "output_type": "stream",
     "text": [
      "100%|██████████| 4/4 [00:15<00:00,  3.85s/it]\n",
      "100%|██████████| 4/4 [00:15<00:00,  3.96s/it]\n",
      "100%|██████████| 4/4 [00:15<00:00,  3.95s/it]\n",
      "100%|██████████| 4/4 [00:15<00:00,  3.96s/it]\n",
      "100%|██████████| 4/4 [00:15<00:00,  3.85s/it]\n",
      "100%|██████████| 4/4 [00:15<00:00,  3.85s/it]\n",
      "100%|██████████| 4/4 [00:15<00:00,  3.85s/it]\n",
      "100%|██████████| 4/4 [00:15<00:00,  3.85s/it]\n",
      "100%|██████████| 4/4 [00:15<00:00,  3.85s/it]\n",
      "100%|██████████| 4/4 [00:15<00:00,  3.85s/it]\n",
      "100%|██████████| 4/4 [00:15<00:00,  3.85s/it]\n",
      "100%|██████████| 4/4 [00:15<00:00,  3.85s/it]\n",
      "100%|██████████| 4/4 [00:15<00:00,  3.85s/it]\n",
      "100%|██████████| 4/4 [00:15<00:00,  3.85s/it]\n",
      "100%|██████████| 4/4 [00:15<00:00,  3.85s/it]\n",
      "100%|██████████| 4/4 [00:15<00:00,  3.85s/it]\n",
      "100%|██████████| 4/4 [00:15<00:00,  3.85s/it]\n",
      "100%|██████████| 4/4 [00:15<00:00,  3.85s/it]\n",
      "100%|██████████| 4/4 [00:15<00:00,  3.85s/it]\n"
     ]
    },
    {
     "name": "stdout",
     "output_type": "stream",
     "text": [
      "step 5200: train loss 5.8563, val loss 5.7643\n",
      "train ppl 349.44, val ppl 318.71\n",
      "📈 Train/Val Gap: -0.0920 (-1.57%)\n"
     ]
    },
    {
     "name": "stderr",
     "output_type": "stream",
     "text": [
      "100%|██████████| 4/4 [00:15<00:00,  3.84s/it]\n"
     ]
    },
    {
     "name": "stdout",
     "output_type": "stream",
     "text": [
      "iter 5200: loss 6.1779, time 102877.07ms\n"
     ]
    },
    {
     "name": "stderr",
     "output_type": "stream",
     "text": [
      "100%|██████████| 4/4 [00:15<00:00,  3.85s/it]\n",
      "100%|██████████| 4/4 [00:15<00:00,  3.86s/it]\n",
      "100%|██████████| 4/4 [00:15<00:00,  3.85s/it]\n",
      "100%|██████████| 4/4 [00:15<00:00,  3.85s/it]\n",
      "100%|██████████| 4/4 [00:15<00:00,  3.85s/it]\n",
      "100%|██████████| 4/4 [00:15<00:00,  3.92s/it]\n",
      "100%|██████████| 4/4 [00:15<00:00,  3.96s/it]\n",
      "100%|██████████| 4/4 [00:15<00:00,  3.97s/it]\n",
      "100%|██████████| 4/4 [00:15<00:00,  3.97s/it]\n",
      "100%|██████████| 4/4 [00:15<00:00,  3.97s/it]\n",
      "100%|██████████| 4/4 [00:15<00:00,  3.97s/it]\n",
      "100%|██████████| 4/4 [00:15<00:00,  3.97s/it]\n",
      "100%|██████████| 4/4 [00:15<00:00,  3.97s/it]\n",
      "100%|██████████| 4/4 [00:15<00:00,  3.97s/it]\n",
      "100%|██████████| 4/4 [00:15<00:00,  3.98s/it]\n",
      "100%|██████████| 4/4 [00:15<00:00,  3.96s/it]\n",
      "100%|██████████| 4/4 [00:15<00:00,  3.96s/it]\n",
      "100%|██████████| 4/4 [00:15<00:00,  3.97s/it]\n",
      "100%|██████████| 4/4 [00:15<00:00,  3.97s/it]\n",
      "100%|██████████| 4/4 [00:15<00:00,  3.97s/it]\n"
     ]
    },
    {
     "name": "stdout",
     "output_type": "stream",
     "text": [
      "iter 5220: loss 5.9411, time 15886.01ms\n"
     ]
    },
    {
     "name": "stderr",
     "output_type": "stream",
     "text": [
      "100%|██████████| 4/4 [00:15<00:00,  3.97s/it]\n",
      "100%|██████████| 4/4 [00:15<00:00,  3.97s/it]\n",
      "100%|██████████| 4/4 [00:15<00:00,  3.97s/it]\n",
      "100%|██████████| 4/4 [00:15<00:00,  3.96s/it]\n",
      "100%|██████████| 4/4 [00:15<00:00,  3.97s/it]\n",
      "100%|██████████| 4/4 [00:15<00:00,  3.97s/it]\n",
      "100%|██████████| 4/4 [00:15<00:00,  3.99s/it]\n",
      "100%|██████████| 4/4 [00:16<00:00,  4.01s/it]\n",
      "100%|██████████| 4/4 [00:15<00:00,  3.97s/it]\n",
      "100%|██████████| 4/4 [00:15<00:00,  3.97s/it]\n",
      "100%|██████████| 4/4 [00:15<00:00,  3.97s/it]\n",
      "100%|██████████| 4/4 [00:15<00:00,  3.97s/it]\n",
      "100%|██████████| 4/4 [00:15<00:00,  3.97s/it]\n",
      "100%|██████████| 4/4 [00:15<00:00,  3.97s/it]\n",
      "100%|██████████| 4/4 [00:15<00:00,  3.96s/it]\n",
      "100%|██████████| 4/4 [00:15<00:00,  3.97s/it]\n",
      "100%|██████████| 4/4 [00:15<00:00,  3.96s/it]\n",
      "100%|██████████| 4/4 [00:15<00:00,  3.97s/it]\n",
      "100%|██████████| 4/4 [00:15<00:00,  3.97s/it]\n",
      "100%|██████████| 4/4 [00:15<00:00,  3.98s/it]\n"
     ]
    },
    {
     "name": "stdout",
     "output_type": "stream",
     "text": [
      "iter 5240: loss 5.8985, time 15934.99ms\n"
     ]
    },
    {
     "name": "stderr",
     "output_type": "stream",
     "text": [
      "100%|██████████| 4/4 [00:15<00:00,  3.96s/it]\n",
      "100%|██████████| 4/4 [00:15<00:00,  3.97s/it]\n",
      "100%|██████████| 4/4 [00:15<00:00,  3.98s/it]\n",
      "100%|██████████| 4/4 [00:15<00:00,  3.97s/it]\n",
      "100%|██████████| 4/4 [00:15<00:00,  3.97s/it]\n",
      "100%|██████████| 4/4 [00:15<00:00,  3.97s/it]\n",
      "100%|██████████| 4/4 [00:15<00:00,  3.97s/it]\n",
      "100%|██████████| 4/4 [00:15<00:00,  3.96s/it]\n",
      "100%|██████████| 4/4 [00:15<00:00,  3.97s/it]\n",
      "100%|██████████| 4/4 [00:15<00:00,  3.97s/it]\n",
      "100%|██████████| 4/4 [00:15<00:00,  3.97s/it]\n",
      "100%|██████████| 4/4 [00:15<00:00,  3.97s/it]\n",
      "100%|██████████| 4/4 [00:15<00:00,  3.97s/it]\n",
      "100%|██████████| 4/4 [00:15<00:00,  3.96s/it]\n",
      "100%|██████████| 4/4 [00:15<00:00,  3.97s/it]\n",
      "100%|██████████| 4/4 [00:15<00:00,  3.97s/it]\n",
      "100%|██████████| 4/4 [00:15<00:00,  3.97s/it]\n",
      "100%|██████████| 4/4 [00:15<00:00,  3.97s/it]\n",
      "100%|██████████| 4/4 [00:15<00:00,  3.98s/it]\n",
      "100%|██████████| 4/4 [00:15<00:00,  3.97s/it]\n"
     ]
    },
    {
     "name": "stdout",
     "output_type": "stream",
     "text": [
      "iter 5260: loss 5.8752, time 15904.39ms\n"
     ]
    },
    {
     "name": "stderr",
     "output_type": "stream",
     "text": [
      "100%|██████████| 4/4 [00:15<00:00,  3.96s/it]\n",
      "100%|██████████| 4/4 [00:15<00:00,  3.97s/it]\n",
      "100%|██████████| 4/4 [00:15<00:00,  3.97s/it]\n",
      "100%|██████████| 4/4 [00:15<00:00,  3.97s/it]\n",
      "100%|██████████| 4/4 [00:15<00:00,  3.97s/it]\n",
      "100%|██████████| 4/4 [00:15<00:00,  3.97s/it]\n",
      "100%|██████████| 4/4 [00:15<00:00,  3.96s/it]\n",
      "100%|██████████| 4/4 [00:15<00:00,  3.97s/it]\n",
      "100%|██████████| 4/4 [00:15<00:00,  3.97s/it]\n",
      "100%|██████████| 4/4 [00:15<00:00,  3.98s/it]\n",
      "100%|██████████| 4/4 [00:15<00:00,  3.97s/it]\n",
      "100%|██████████| 4/4 [00:15<00:00,  3.97s/it]\n",
      "100%|██████████| 4/4 [00:15<00:00,  3.97s/it]\n",
      "100%|██████████| 4/4 [00:15<00:00,  3.97s/it]\n",
      "100%|██████████| 4/4 [00:15<00:00,  3.97s/it]\n",
      "100%|██████████| 4/4 [00:15<00:00,  3.97s/it]\n",
      "100%|██████████| 4/4 [00:15<00:00,  3.97s/it]\n",
      "100%|██████████| 4/4 [00:15<00:00,  3.97s/it]\n",
      "100%|██████████| 4/4 [00:15<00:00,  3.97s/it]\n",
      "100%|██████████| 4/4 [00:15<00:00,  3.97s/it]\n"
     ]
    },
    {
     "name": "stdout",
     "output_type": "stream",
     "text": [
      "iter 5280: loss 5.0747, time 15913.94ms\n"
     ]
    },
    {
     "name": "stderr",
     "output_type": "stream",
     "text": [
      "100%|██████████| 4/4 [00:15<00:00,  3.97s/it]\n",
      "100%|██████████| 4/4 [00:15<00:00,  3.97s/it]\n",
      "100%|██████████| 4/4 [00:15<00:00,  3.97s/it]\n",
      "100%|██████████| 4/4 [00:15<00:00,  3.97s/it]\n",
      "100%|██████████| 4/4 [00:15<00:00,  3.97s/it]\n",
      "100%|██████████| 4/4 [00:15<00:00,  3.97s/it]\n",
      "100%|██████████| 4/4 [00:15<00:00,  3.97s/it]\n",
      "100%|██████████| 4/4 [00:15<00:00,  3.97s/it]\n",
      "100%|██████████| 4/4 [00:15<00:00,  3.97s/it]\n",
      "100%|██████████| 4/4 [00:15<00:00,  3.96s/it]\n",
      "100%|██████████| 4/4 [00:15<00:00,  3.96s/it]\n",
      "100%|██████████| 4/4 [00:15<00:00,  3.97s/it]\n",
      "100%|██████████| 4/4 [00:15<00:00,  3.97s/it]\n",
      "100%|██████████| 4/4 [00:15<00:00,  3.97s/it]\n",
      "100%|██████████| 4/4 [00:15<00:00,  3.97s/it]\n",
      "100%|██████████| 4/4 [00:15<00:00,  3.97s/it]\n",
      "100%|██████████| 4/4 [00:15<00:00,  3.97s/it]\n",
      "100%|██████████| 4/4 [00:15<00:00,  3.97s/it]\n",
      "100%|██████████| 4/4 [00:15<00:00,  3.98s/it]\n",
      "100%|██████████| 4/4 [00:15<00:00,  4.00s/it]\n"
     ]
    },
    {
     "name": "stdout",
     "output_type": "stream",
     "text": [
      "iter 5300: loss 6.0744, time 16025.40ms\n"
     ]
    },
    {
     "name": "stderr",
     "output_type": "stream",
     "text": [
      "100%|██████████| 4/4 [00:15<00:00,  3.98s/it]\n",
      "100%|██████████| 4/4 [00:15<00:00,  3.97s/it]\n",
      "100%|██████████| 4/4 [00:15<00:00,  3.97s/it]\n",
      "100%|██████████| 4/4 [00:15<00:00,  3.97s/it]\n",
      "100%|██████████| 4/4 [00:15<00:00,  3.98s/it]\n",
      "100%|██████████| 4/4 [00:15<00:00,  3.97s/it]\n",
      "100%|██████████| 4/4 [00:15<00:00,  3.97s/it]\n",
      "100%|██████████| 4/4 [00:15<00:00,  3.98s/it]\n",
      "100%|██████████| 4/4 [00:15<00:00,  3.97s/it]\n",
      "100%|██████████| 4/4 [00:15<00:00,  3.97s/it]\n",
      "100%|██████████| 4/4 [00:15<00:00,  3.97s/it]\n",
      "100%|██████████| 4/4 [00:15<00:00,  3.97s/it]\n",
      "100%|██████████| 4/4 [00:15<00:00,  3.98s/it]\n",
      "100%|██████████| 4/4 [00:15<00:00,  3.97s/it]\n",
      "100%|██████████| 4/4 [00:15<00:00,  3.97s/it]\n",
      "100%|██████████| 4/4 [00:15<00:00,  3.97s/it]\n",
      "100%|██████████| 4/4 [00:15<00:00,  3.97s/it]\n",
      "100%|██████████| 4/4 [00:15<00:00,  3.97s/it]\n",
      "100%|██████████| 4/4 [00:15<00:00,  3.97s/it]\n",
      "100%|██████████| 4/4 [00:15<00:00,  3.97s/it]\n"
     ]
    },
    {
     "name": "stdout",
     "output_type": "stream",
     "text": [
      "iter 5320: loss 5.9490, time 15895.56ms\n"
     ]
    },
    {
     "name": "stderr",
     "output_type": "stream",
     "text": [
      "100%|██████████| 4/4 [00:15<00:00,  3.96s/it]\n",
      "100%|██████████| 4/4 [00:15<00:00,  3.97s/it]\n",
      "100%|██████████| 4/4 [00:15<00:00,  3.97s/it]\n",
      "100%|██████████| 4/4 [00:15<00:00,  3.97s/it]\n",
      "100%|██████████| 4/4 [00:15<00:00,  3.97s/it]\n",
      "100%|██████████| 4/4 [00:15<00:00,  3.97s/it]\n",
      "100%|██████████| 4/4 [00:15<00:00,  3.97s/it]\n",
      "100%|██████████| 4/4 [00:15<00:00,  3.97s/it]\n",
      "100%|██████████| 4/4 [00:15<00:00,  3.97s/it]\n",
      "100%|██████████| 4/4 [00:15<00:00,  3.97s/it]\n",
      "100%|██████████| 4/4 [00:15<00:00,  3.97s/it]\n",
      "100%|██████████| 4/4 [00:15<00:00,  3.97s/it]\n",
      "100%|██████████| 4/4 [00:15<00:00,  3.97s/it]\n",
      "100%|██████████| 4/4 [00:15<00:00,  3.97s/it]\n",
      "100%|██████████| 4/4 [00:15<00:00,  3.97s/it]\n",
      "100%|██████████| 4/4 [00:15<00:00,  3.97s/it]\n",
      "100%|██████████| 4/4 [00:15<00:00,  3.97s/it]\n",
      "100%|██████████| 4/4 [00:15<00:00,  3.97s/it]\n",
      "100%|██████████| 4/4 [00:15<00:00,  3.97s/it]\n",
      "100%|██████████| 4/4 [00:15<00:00,  3.96s/it]\n"
     ]
    },
    {
     "name": "stdout",
     "output_type": "stream",
     "text": [
      "iter 5340: loss 5.9243, time 15882.93ms\n"
     ]
    },
    {
     "name": "stderr",
     "output_type": "stream",
     "text": [
      "100%|██████████| 4/4 [00:15<00:00,  3.96s/it]\n",
      "100%|██████████| 4/4 [00:15<00:00,  3.97s/it]\n",
      "100%|██████████| 4/4 [00:15<00:00,  3.97s/it]\n",
      "100%|██████████| 4/4 [00:15<00:00,  3.97s/it]\n",
      "100%|██████████| 4/4 [00:15<00:00,  3.97s/it]\n",
      "100%|██████████| 4/4 [00:15<00:00,  3.97s/it]\n",
      "100%|██████████| 4/4 [00:15<00:00,  3.97s/it]\n",
      "100%|██████████| 4/4 [00:15<00:00,  3.97s/it]\n",
      "100%|██████████| 4/4 [00:15<00:00,  3.97s/it]\n",
      "100%|██████████| 4/4 [00:15<00:00,  3.97s/it]\n",
      "100%|██████████| 4/4 [00:15<00:00,  3.97s/it]\n",
      "100%|██████████| 4/4 [00:15<00:00,  3.97s/it]\n",
      "100%|██████████| 4/4 [00:15<00:00,  3.97s/it]\n",
      "100%|██████████| 4/4 [00:15<00:00,  3.96s/it]\n",
      "100%|██████████| 4/4 [00:15<00:00,  3.97s/it]\n",
      "100%|██████████| 4/4 [00:15<00:00,  3.97s/it]\n",
      "100%|██████████| 4/4 [00:15<00:00,  3.97s/it]\n",
      "100%|██████████| 4/4 [00:15<00:00,  3.97s/it]\n",
      "100%|██████████| 4/4 [00:15<00:00,  3.97s/it]\n",
      "100%|██████████| 4/4 [00:15<00:00,  3.98s/it]\n"
     ]
    },
    {
     "name": "stdout",
     "output_type": "stream",
     "text": [
      "iter 5360: loss 5.6305, time 15931.16ms\n"
     ]
    },
    {
     "name": "stderr",
     "output_type": "stream",
     "text": [
      "100%|██████████| 4/4 [00:15<00:00,  3.97s/it]\n",
      "100%|██████████| 4/4 [00:15<00:00,  3.97s/it]\n",
      "100%|██████████| 4/4 [00:15<00:00,  3.97s/it]\n",
      "100%|██████████| 4/4 [00:15<00:00,  3.97s/it]\n",
      "100%|██████████| 4/4 [00:15<00:00,  3.97s/it]\n",
      "100%|██████████| 4/4 [00:15<00:00,  3.97s/it]\n",
      "100%|██████████| 4/4 [00:15<00:00,  3.97s/it]\n",
      "100%|██████████| 4/4 [00:15<00:00,  3.98s/it]\n",
      "100%|██████████| 4/4 [00:15<00:00,  3.97s/it]\n",
      "100%|██████████| 4/4 [00:15<00:00,  3.97s/it]\n",
      "100%|██████████| 4/4 [00:15<00:00,  3.97s/it]\n",
      "100%|██████████| 4/4 [00:15<00:00,  3.97s/it]\n",
      "100%|██████████| 4/4 [00:15<00:00,  3.97s/it]\n",
      "100%|██████████| 4/4 [00:15<00:00,  3.97s/it]\n",
      "100%|██████████| 4/4 [00:15<00:00,  3.97s/it]\n",
      "100%|██████████| 4/4 [00:15<00:00,  3.97s/it]\n",
      "100%|██████████| 4/4 [00:15<00:00,  3.97s/it]\n",
      "100%|██████████| 4/4 [00:15<00:00,  3.97s/it]\n",
      "100%|██████████| 4/4 [00:15<00:00,  3.97s/it]\n",
      "100%|██████████| 4/4 [00:15<00:00,  3.97s/it]\n"
     ]
    },
    {
     "name": "stdout",
     "output_type": "stream",
     "text": [
      "iter 5380: loss 5.9732, time 15906.67ms\n"
     ]
    },
    {
     "name": "stderr",
     "output_type": "stream",
     "text": [
      "100%|██████████| 4/4 [00:15<00:00,  3.96s/it]\n",
      "100%|██████████| 4/4 [00:15<00:00,  3.97s/it]\n",
      "100%|██████████| 4/4 [00:15<00:00,  3.97s/it]\n",
      "100%|██████████| 4/4 [00:15<00:00,  3.97s/it]\n",
      "100%|██████████| 4/4 [00:15<00:00,  3.97s/it]\n",
      "100%|██████████| 4/4 [00:15<00:00,  3.97s/it]\n",
      "100%|██████████| 4/4 [00:15<00:00,  3.90s/it]\n",
      "100%|██████████| 4/4 [00:15<00:00,  3.86s/it]\n",
      "100%|██████████| 4/4 [00:15<00:00,  3.86s/it]\n",
      "100%|██████████| 4/4 [00:15<00:00,  3.86s/it]\n",
      "100%|██████████| 4/4 [00:15<00:00,  3.88s/it]\n",
      "100%|██████████| 4/4 [00:15<00:00,  3.87s/it]\n",
      "100%|██████████| 4/4 [00:15<00:00,  3.87s/it]\n",
      "100%|██████████| 4/4 [00:15<00:00,  3.87s/it]\n",
      "100%|██████████| 4/4 [00:15<00:00,  3.88s/it]\n",
      "100%|██████████| 4/4 [00:15<00:00,  3.87s/it]\n",
      "100%|██████████| 4/4 [00:15<00:00,  3.87s/it]\n",
      "100%|██████████| 4/4 [00:15<00:00,  3.88s/it]\n",
      "100%|██████████| 4/4 [00:15<00:00,  3.87s/it]\n"
     ]
    },
    {
     "name": "stdout",
     "output_type": "stream",
     "text": [
      "step 5400: train loss 5.7287, val loss 5.7022\n",
      "train ppl 307.58, val ppl 299.54\n",
      "📈 Train/Val Gap: -0.0265 (-0.46%)\n",
      "✅ 新的最佳驗證損失: 5.7022\n"
     ]
    },
    {
     "name": "stderr",
     "output_type": "stream",
     "text": [
      "100%|██████████| 4/4 [00:15<00:00,  3.87s/it]\n"
     ]
    },
    {
     "name": "stdout",
     "output_type": "stream",
     "text": [
      "iter 5400: loss 5.9247, time 111090.72ms\n"
     ]
    },
    {
     "name": "stderr",
     "output_type": "stream",
     "text": [
      "100%|██████████| 4/4 [00:15<00:00,  3.86s/it]\n",
      "100%|██████████| 4/4 [00:15<00:00,  3.87s/it]\n",
      "100%|██████████| 4/4 [00:15<00:00,  3.87s/it]\n",
      "100%|██████████| 4/4 [00:15<00:00,  3.87s/it]\n",
      "100%|██████████| 4/4 [00:15<00:00,  3.87s/it]\n",
      "100%|██████████| 4/4 [00:15<00:00,  3.87s/it]\n",
      "100%|██████████| 4/4 [00:15<00:00,  3.87s/it]\n",
      "100%|██████████| 4/4 [00:15<00:00,  3.87s/it]\n",
      "100%|██████████| 4/4 [00:15<00:00,  3.87s/it]\n",
      "100%|██████████| 4/4 [00:15<00:00,  3.87s/it]\n",
      "100%|██████████| 4/4 [00:15<00:00,  3.87s/it]\n",
      "100%|██████████| 4/4 [00:15<00:00,  3.88s/it]\n",
      "100%|██████████| 4/4 [00:15<00:00,  3.87s/it]\n",
      "100%|██████████| 4/4 [00:15<00:00,  3.87s/it]\n",
      "100%|██████████| 4/4 [00:15<00:00,  3.87s/it]\n",
      "100%|██████████| 4/4 [00:15<00:00,  3.89s/it]\n",
      "100%|██████████| 4/4 [00:15<00:00,  3.87s/it]\n",
      "100%|██████████| 4/4 [00:15<00:00,  3.86s/it]\n",
      "100%|██████████| 4/4 [00:15<00:00,  3.86s/it]\n",
      "100%|██████████| 4/4 [00:15<00:00,  3.86s/it]\n"
     ]
    },
    {
     "name": "stdout",
     "output_type": "stream",
     "text": [
      "iter 5420: loss 5.4072, time 15480.11ms\n"
     ]
    },
    {
     "name": "stderr",
     "output_type": "stream",
     "text": [
      "100%|██████████| 4/4 [00:15<00:00,  3.86s/it]\n",
      "100%|██████████| 4/4 [00:15<00:00,  3.87s/it]\n",
      "100%|██████████| 4/4 [00:15<00:00,  3.85s/it]\n",
      "100%|██████████| 4/4 [00:15<00:00,  3.85s/it]\n",
      "100%|██████████| 4/4 [00:15<00:00,  3.85s/it]\n",
      "100%|██████████| 4/4 [00:15<00:00,  3.86s/it]\n",
      "100%|██████████| 4/4 [00:15<00:00,  3.86s/it]\n",
      "100%|██████████| 4/4 [00:15<00:00,  3.87s/it]\n",
      "100%|██████████| 4/4 [00:15<00:00,  3.86s/it]\n",
      "100%|██████████| 4/4 [00:15<00:00,  3.86s/it]\n",
      "100%|██████████| 4/4 [00:15<00:00,  3.85s/it]\n",
      "100%|██████████| 4/4 [00:15<00:00,  3.85s/it]\n",
      "100%|██████████| 4/4 [00:15<00:00,  3.85s/it]\n",
      "100%|██████████| 4/4 [00:15<00:00,  3.85s/it]\n",
      "100%|██████████| 4/4 [00:15<00:00,  3.86s/it]\n",
      "100%|██████████| 4/4 [00:15<00:00,  3.85s/it]\n",
      "100%|██████████| 4/4 [00:15<00:00,  3.86s/it]\n",
      "100%|██████████| 4/4 [00:15<00:00,  3.86s/it]\n",
      "100%|██████████| 4/4 [00:15<00:00,  3.86s/it]\n",
      "100%|██████████| 4/4 [00:15<00:00,  3.85s/it]\n"
     ]
    },
    {
     "name": "stdout",
     "output_type": "stream",
     "text": [
      "iter 5440: loss 6.0422, time 15431.83ms\n"
     ]
    },
    {
     "name": "stderr",
     "output_type": "stream",
     "text": [
      "100%|██████████| 4/4 [00:15<00:00,  3.85s/it]\n",
      "100%|██████████| 4/4 [00:15<00:00,  3.85s/it]\n",
      "100%|██████████| 4/4 [00:15<00:00,  3.86s/it]\n",
      "100%|██████████| 4/4 [00:15<00:00,  3.87s/it]\n",
      "100%|██████████| 4/4 [00:15<00:00,  3.85s/it]\n",
      "100%|██████████| 4/4 [00:15<00:00,  3.85s/it]\n",
      "100%|██████████| 4/4 [00:15<00:00,  3.85s/it]\n",
      "100%|██████████| 4/4 [00:15<00:00,  3.85s/it]\n",
      "100%|██████████| 4/4 [00:15<00:00,  3.85s/it]\n",
      "100%|██████████| 4/4 [00:15<00:00,  3.86s/it]\n",
      "100%|██████████| 4/4 [00:15<00:00,  3.85s/it]\n",
      "100%|██████████| 4/4 [00:15<00:00,  3.85s/it]\n",
      "100%|██████████| 4/4 [00:15<00:00,  3.85s/it]\n",
      "100%|██████████| 4/4 [00:15<00:00,  3.86s/it]\n",
      "100%|██████████| 4/4 [00:15<00:00,  3.85s/it]\n",
      "100%|██████████| 4/4 [00:15<00:00,  3.85s/it]\n",
      "100%|██████████| 4/4 [00:15<00:00,  3.85s/it]\n",
      "100%|██████████| 4/4 [00:15<00:00,  3.86s/it]\n",
      "100%|██████████| 4/4 [00:15<00:00,  3.85s/it]\n",
      "100%|██████████| 4/4 [00:15<00:00,  3.85s/it]\n"
     ]
    },
    {
     "name": "stdout",
     "output_type": "stream",
     "text": [
      "iter 5460: loss 5.6115, time 15425.00ms\n"
     ]
    },
    {
     "name": "stderr",
     "output_type": "stream",
     "text": [
      "100%|██████████| 4/4 [00:15<00:00,  3.85s/it]\n",
      "100%|██████████| 4/4 [00:15<00:00,  3.86s/it]\n",
      "100%|██████████| 4/4 [00:15<00:00,  3.85s/it]\n",
      "100%|██████████| 4/4 [00:15<00:00,  3.85s/it]\n",
      "100%|██████████| 4/4 [00:15<00:00,  3.85s/it]\n",
      "100%|██████████| 4/4 [00:15<00:00,  3.86s/it]\n",
      "100%|██████████| 4/4 [00:15<00:00,  3.85s/it]\n",
      "100%|██████████| 4/4 [00:15<00:00,  3.85s/it]\n",
      "100%|██████████| 4/4 [00:15<00:00,  3.85s/it]\n",
      "100%|██████████| 4/4 [00:15<00:00,  3.86s/it]\n",
      "100%|██████████| 4/4 [00:15<00:00,  3.85s/it]\n",
      "100%|██████████| 4/4 [00:15<00:00,  3.85s/it]\n",
      "100%|██████████| 4/4 [00:15<00:00,  3.85s/it]\n",
      "100%|██████████| 4/4 [00:15<00:00,  3.85s/it]\n",
      "100%|██████████| 4/4 [00:15<00:00,  3.85s/it]\n",
      "100%|██████████| 4/4 [00:15<00:00,  3.85s/it]\n",
      "100%|██████████| 4/4 [00:15<00:00,  3.85s/it]\n",
      "100%|██████████| 4/4 [00:15<00:00,  3.86s/it]\n",
      "100%|██████████| 4/4 [00:15<00:00,  3.85s/it]\n",
      "100%|██████████| 4/4 [00:15<00:00,  3.85s/it]\n"
     ]
    },
    {
     "name": "stdout",
     "output_type": "stream",
     "text": [
      "iter 5480: loss 5.7392, time 15425.03ms\n"
     ]
    },
    {
     "name": "stderr",
     "output_type": "stream",
     "text": [
      "100%|██████████| 4/4 [00:15<00:00,  3.85s/it]\n",
      "100%|██████████| 4/4 [00:15<00:00,  3.85s/it]\n",
      "100%|██████████| 4/4 [00:15<00:00,  3.85s/it]\n",
      "100%|██████████| 4/4 [00:15<00:00,  3.85s/it]\n",
      "100%|██████████| 4/4 [00:15<00:00,  3.86s/it]\n",
      "100%|██████████| 4/4 [00:15<00:00,  3.85s/it]\n",
      "100%|██████████| 4/4 [00:15<00:00,  3.85s/it]\n",
      "100%|██████████| 4/4 [00:15<00:00,  3.85s/it]\n",
      "100%|██████████| 4/4 [00:15<00:00,  3.86s/it]\n",
      "100%|██████████| 4/4 [00:15<00:00,  3.85s/it]\n",
      "100%|██████████| 4/4 [00:15<00:00,  3.85s/it]\n",
      "100%|██████████| 4/4 [00:15<00:00,  3.85s/it]\n",
      "100%|██████████| 4/4 [00:15<00:00,  3.85s/it]\n",
      "100%|██████████| 4/4 [00:15<00:00,  3.85s/it]\n",
      "100%|██████████| 4/4 [00:15<00:00,  3.86s/it]\n",
      "100%|██████████| 4/4 [00:15<00:00,  3.85s/it]\n",
      "100%|██████████| 4/4 [00:15<00:00,  3.86s/it]\n",
      "100%|██████████| 4/4 [00:15<00:00,  3.85s/it]\n",
      "100%|██████████| 4/4 [00:15<00:00,  3.85s/it]\n",
      "100%|██████████| 4/4 [00:15<00:00,  3.85s/it]\n"
     ]
    },
    {
     "name": "stdout",
     "output_type": "stream",
     "text": [
      "iter 5500: loss 5.7925, time 15427.70ms\n"
     ]
    },
    {
     "name": "stderr",
     "output_type": "stream",
     "text": [
      "100%|██████████| 4/4 [00:15<00:00,  3.85s/it]\n",
      "100%|██████████| 4/4 [00:15<00:00,  3.85s/it]\n",
      "100%|██████████| 4/4 [00:15<00:00,  3.86s/it]\n",
      "100%|██████████| 4/4 [00:15<00:00,  3.85s/it]\n",
      "100%|██████████| 4/4 [00:15<00:00,  3.86s/it]\n",
      "100%|██████████| 4/4 [00:15<00:00,  3.85s/it]\n",
      "100%|██████████| 4/4 [00:15<00:00,  3.86s/it]\n",
      "100%|██████████| 4/4 [00:15<00:00,  3.85s/it]\n",
      "100%|██████████| 4/4 [00:15<00:00,  3.86s/it]\n",
      "100%|██████████| 4/4 [00:15<00:00,  3.85s/it]\n",
      "100%|██████████| 4/4 [00:15<00:00,  3.86s/it]\n",
      "100%|██████████| 4/4 [00:15<00:00,  3.86s/it]\n",
      "100%|██████████| 4/4 [00:15<00:00,  3.86s/it]\n",
      "100%|██████████| 4/4 [00:15<00:00,  3.86s/it]\n",
      "100%|██████████| 4/4 [00:15<00:00,  3.86s/it]\n",
      "100%|██████████| 4/4 [00:15<00:00,  3.85s/it]\n",
      "100%|██████████| 4/4 [00:15<00:00,  3.86s/it]\n",
      "100%|██████████| 4/4 [00:15<00:00,  3.85s/it]\n",
      "100%|██████████| 4/4 [00:15<00:00,  3.85s/it]\n",
      "100%|██████████| 4/4 [00:15<00:00,  3.86s/it]\n"
     ]
    },
    {
     "name": "stdout",
     "output_type": "stream",
     "text": [
      "iter 5520: loss 5.0350, time 15474.65ms\n"
     ]
    },
    {
     "name": "stderr",
     "output_type": "stream",
     "text": [
      "100%|██████████| 4/4 [00:15<00:00,  3.85s/it]\n",
      "100%|██████████| 4/4 [00:15<00:00,  3.85s/it]\n",
      "100%|██████████| 4/4 [00:15<00:00,  3.85s/it]\n",
      "100%|██████████| 4/4 [00:15<00:00,  3.86s/it]\n",
      "100%|██████████| 4/4 [00:15<00:00,  3.85s/it]\n",
      "100%|██████████| 4/4 [00:15<00:00,  3.86s/it]\n",
      "100%|██████████| 4/4 [00:15<00:00,  3.86s/it]\n",
      "100%|██████████| 4/4 [00:15<00:00,  3.86s/it]\n",
      "100%|██████████| 4/4 [00:15<00:00,  3.85s/it]\n",
      "100%|██████████| 4/4 [00:15<00:00,  3.86s/it]\n",
      "100%|██████████| 4/4 [00:15<00:00,  3.86s/it]\n",
      "100%|██████████| 4/4 [00:15<00:00,  3.86s/it]\n",
      "100%|██████████| 4/4 [00:15<00:00,  3.85s/it]\n",
      "100%|██████████| 4/4 [00:15<00:00,  3.86s/it]\n",
      "100%|██████████| 4/4 [00:15<00:00,  3.86s/it]\n",
      "100%|██████████| 4/4 [00:15<00:00,  3.86s/it]\n",
      "100%|██████████| 4/4 [00:15<00:00,  3.86s/it]\n",
      "100%|██████████| 4/4 [00:15<00:00,  3.85s/it]\n",
      "100%|██████████| 4/4 [00:15<00:00,  3.86s/it]\n",
      "100%|██████████| 4/4 [00:15<00:00,  3.86s/it]\n"
     ]
    },
    {
     "name": "stdout",
     "output_type": "stream",
     "text": [
      "iter 5540: loss 6.0897, time 15471.34ms\n"
     ]
    },
    {
     "name": "stderr",
     "output_type": "stream",
     "text": [
      "100%|██████████| 4/4 [00:15<00:00,  3.85s/it]\n",
      "100%|██████████| 4/4 [00:15<00:00,  3.86s/it]\n",
      "100%|██████████| 4/4 [00:15<00:00,  3.86s/it]\n",
      "100%|██████████| 4/4 [00:15<00:00,  3.86s/it]\n",
      "100%|██████████| 4/4 [00:15<00:00,  3.86s/it]\n",
      "100%|██████████| 4/4 [00:15<00:00,  3.86s/it]\n",
      "100%|██████████| 4/4 [00:15<00:00,  3.86s/it]\n",
      "100%|██████████| 4/4 [00:15<00:00,  3.87s/it]\n",
      "100%|██████████| 4/4 [00:15<00:00,  3.85s/it]\n",
      "100%|██████████| 4/4 [00:15<00:00,  3.85s/it]\n",
      "100%|██████████| 4/4 [00:15<00:00,  3.87s/it]\n",
      "100%|██████████| 4/4 [00:15<00:00,  3.86s/it]\n",
      "100%|██████████| 4/4 [00:15<00:00,  3.86s/it]\n",
      "100%|██████████| 4/4 [00:15<00:00,  3.85s/it]\n",
      "100%|██████████| 4/4 [00:15<00:00,  3.87s/it]\n",
      "100%|██████████| 4/4 [00:15<00:00,  3.86s/it]\n",
      "100%|██████████| 4/4 [00:15<00:00,  3.86s/it]\n",
      "100%|██████████| 4/4 [00:15<00:00,  3.86s/it]\n",
      "100%|██████████| 4/4 [00:15<00:00,  3.86s/it]\n",
      "100%|██████████| 4/4 [00:15<00:00,  3.86s/it]\n"
     ]
    },
    {
     "name": "stdout",
     "output_type": "stream",
     "text": [
      "iter 5560: loss 5.6078, time 15470.69ms\n"
     ]
    },
    {
     "name": "stderr",
     "output_type": "stream",
     "text": [
      "100%|██████████| 4/4 [00:15<00:00,  3.85s/it]\n",
      "100%|██████████| 4/4 [00:15<00:00,  3.85s/it]\n",
      "100%|██████████| 4/4 [00:15<00:00,  3.87s/it]\n",
      "100%|██████████| 4/4 [00:15<00:00,  3.86s/it]\n",
      "100%|██████████| 4/4 [00:15<00:00,  3.85s/it]\n",
      "100%|██████████| 4/4 [00:15<00:00,  3.85s/it]\n",
      "100%|██████████| 4/4 [00:15<00:00,  3.86s/it]\n",
      "100%|██████████| 4/4 [00:15<00:00,  3.86s/it]\n",
      "100%|██████████| 4/4 [00:15<00:00,  3.85s/it]\n",
      "100%|██████████| 4/4 [00:15<00:00,  3.85s/it]\n",
      "100%|██████████| 4/4 [00:15<00:00,  3.87s/it]\n",
      "100%|██████████| 4/4 [00:15<00:00,  3.86s/it]\n",
      "100%|██████████| 4/4 [00:15<00:00,  3.86s/it]\n",
      "100%|██████████| 4/4 [00:15<00:00,  3.86s/it]\n",
      "100%|██████████| 4/4 [00:15<00:00,  3.86s/it]\n",
      "100%|██████████| 4/4 [00:15<00:00,  3.86s/it]\n",
      "100%|██████████| 4/4 [00:15<00:00,  3.86s/it]\n",
      "100%|██████████| 4/4 [00:15<00:00,  3.85s/it]\n",
      "100%|██████████| 4/4 [00:15<00:00,  3.86s/it]\n",
      "100%|██████████| 4/4 [00:15<00:00,  3.86s/it]\n"
     ]
    },
    {
     "name": "stdout",
     "output_type": "stream",
     "text": [
      "iter 5580: loss 5.5209, time 15455.01ms\n"
     ]
    },
    {
     "name": "stderr",
     "output_type": "stream",
     "text": [
      "100%|██████████| 4/4 [00:15<00:00,  3.85s/it]\n",
      "100%|██████████| 4/4 [00:15<00:00,  3.85s/it]\n",
      "100%|██████████| 4/4 [00:15<00:00,  3.86s/it]\n",
      "100%|██████████| 4/4 [00:15<00:00,  3.85s/it]\n",
      "100%|██████████| 4/4 [00:15<00:00,  3.86s/it]\n",
      "100%|██████████| 4/4 [00:15<00:00,  3.86s/it]\n",
      "100%|██████████| 4/4 [00:15<00:00,  3.86s/it]\n",
      "100%|██████████| 4/4 [00:15<00:00,  3.85s/it]\n",
      "100%|██████████| 4/4 [00:15<00:00,  3.86s/it]\n",
      "100%|██████████| 4/4 [00:15<00:00,  3.86s/it]\n",
      "100%|██████████| 4/4 [00:15<00:00,  3.85s/it]\n",
      "100%|██████████| 4/4 [00:15<00:00,  3.85s/it]\n",
      "100%|██████████| 4/4 [00:15<00:00,  3.85s/it]\n",
      "100%|██████████| 4/4 [00:15<00:00,  3.86s/it]\n",
      "100%|██████████| 4/4 [00:15<00:00,  3.86s/it]\n",
      "100%|██████████| 4/4 [00:15<00:00,  3.86s/it]\n",
      "100%|██████████| 4/4 [00:15<00:00,  3.86s/it]\n",
      "100%|██████████| 4/4 [00:15<00:00,  3.86s/it]\n",
      "100%|██████████| 4/4 [00:15<00:00,  3.85s/it]\n"
     ]
    },
    {
     "name": "stdout",
     "output_type": "stream",
     "text": [
      "step 5600: train loss 5.7243, val loss 5.6876\n",
      "train ppl 306.22, val ppl 295.18\n",
      "📈 Train/Val Gap: -0.0367 (-0.64%)\n",
      "✅ 新的最佳驗證損失: 5.6876\n"
     ]
    },
    {
     "name": "stderr",
     "output_type": "stream",
     "text": [
      "100%|██████████| 4/4 [00:15<00:00,  3.85s/it]\n"
     ]
    },
    {
     "name": "stdout",
     "output_type": "stream",
     "text": [
      "iter 5600: loss 6.0609, time 110831.49ms\n"
     ]
    },
    {
     "name": "stderr",
     "output_type": "stream",
     "text": [
      "100%|██████████| 4/4 [00:15<00:00,  3.85s/it]\n",
      "100%|██████████| 4/4 [00:15<00:00,  3.85s/it]\n",
      "100%|██████████| 4/4 [00:15<00:00,  3.86s/it]\n",
      "100%|██████████| 4/4 [00:15<00:00,  3.86s/it]\n",
      "100%|██████████| 4/4 [00:15<00:00,  3.86s/it]\n",
      "100%|██████████| 4/4 [00:15<00:00,  3.87s/it]\n",
      "100%|██████████| 4/4 [00:15<00:00,  3.88s/it]\n",
      "100%|██████████| 4/4 [00:15<00:00,  3.87s/it]\n",
      "100%|██████████| 4/4 [00:15<00:00,  3.86s/it]\n",
      "100%|██████████| 4/4 [00:15<00:00,  3.86s/it]\n",
      "100%|██████████| 4/4 [00:15<00:00,  3.86s/it]\n",
      "100%|██████████| 4/4 [00:15<00:00,  3.86s/it]\n",
      "100%|██████████| 4/4 [00:15<00:00,  3.85s/it]\n",
      "100%|██████████| 4/4 [00:15<00:00,  3.87s/it]\n",
      "100%|██████████| 4/4 [00:15<00:00,  3.86s/it]\n",
      "100%|██████████| 4/4 [00:15<00:00,  3.86s/it]\n",
      "100%|██████████| 4/4 [00:15<00:00,  3.86s/it]\n",
      "100%|██████████| 4/4 [00:15<00:00,  3.85s/it]\n",
      "100%|██████████| 4/4 [00:15<00:00,  3.86s/it]\n",
      "100%|██████████| 4/4 [00:15<00:00,  3.86s/it]\n"
     ]
    },
    {
     "name": "stdout",
     "output_type": "stream",
     "text": [
      "iter 5620: loss 5.2107, time 15453.70ms\n"
     ]
    },
    {
     "name": "stderr",
     "output_type": "stream",
     "text": [
      "100%|██████████| 4/4 [00:15<00:00,  3.85s/it]\n",
      "100%|██████████| 4/4 [00:15<00:00,  3.85s/it]\n",
      "100%|██████████| 4/4 [00:15<00:00,  3.86s/it]\n",
      "100%|██████████| 4/4 [00:15<00:00,  3.86s/it]\n",
      "100%|██████████| 4/4 [00:15<00:00,  3.85s/it]\n",
      "100%|██████████| 4/4 [00:15<00:00,  3.88s/it]\n",
      "100%|██████████| 4/4 [00:15<00:00,  3.86s/it]\n",
      "100%|██████████| 4/4 [00:15<00:00,  3.85s/it]\n",
      "100%|██████████| 4/4 [00:15<00:00,  3.85s/it]\n",
      "100%|██████████| 4/4 [00:15<00:00,  3.86s/it]\n",
      "100%|██████████| 4/4 [00:15<00:00,  3.86s/it]\n",
      "100%|██████████| 4/4 [00:15<00:00,  3.85s/it]\n",
      "100%|██████████| 4/4 [00:15<00:00,  3.86s/it]\n",
      "100%|██████████| 4/4 [00:15<00:00,  3.86s/it]\n",
      "100%|██████████| 4/4 [00:15<00:00,  3.86s/it]\n",
      "100%|██████████| 4/4 [00:15<00:00,  3.86s/it]\n",
      "100%|██████████| 4/4 [00:15<00:00,  3.85s/it]\n",
      "100%|██████████| 4/4 [00:15<00:00,  3.86s/it]\n",
      "100%|██████████| 4/4 [00:15<00:00,  3.86s/it]\n",
      "100%|██████████| 4/4 [00:15<00:00,  3.86s/it]\n"
     ]
    },
    {
     "name": "stdout",
     "output_type": "stream",
     "text": [
      "iter 5640: loss 5.7197, time 15461.15ms\n"
     ]
    },
    {
     "name": "stderr",
     "output_type": "stream",
     "text": [
      "100%|██████████| 4/4 [00:15<00:00,  3.85s/it]\n",
      "100%|██████████| 4/4 [00:15<00:00,  3.88s/it]\n",
      "100%|██████████| 4/4 [00:15<00:00,  3.85s/it]\n",
      "100%|██████████| 4/4 [00:15<00:00,  3.86s/it]\n",
      "100%|██████████| 4/4 [00:15<00:00,  3.86s/it]\n",
      "100%|██████████| 4/4 [00:15<00:00,  3.86s/it]\n",
      "100%|██████████| 4/4 [00:15<00:00,  3.85s/it]\n",
      "100%|██████████| 4/4 [00:15<00:00,  3.86s/it]\n",
      "100%|██████████| 4/4 [00:15<00:00,  3.86s/it]\n",
      "100%|██████████| 4/4 [00:15<00:00,  3.87s/it]\n",
      "100%|██████████| 4/4 [00:15<00:00,  3.86s/it]\n",
      "100%|██████████| 4/4 [00:15<00:00,  3.86s/it]\n",
      "100%|██████████| 4/4 [00:15<00:00,  3.86s/it]\n",
      "100%|██████████| 4/4 [00:15<00:00,  3.86s/it]\n",
      "100%|██████████| 4/4 [00:15<00:00,  3.85s/it]\n",
      "100%|██████████| 4/4 [00:15<00:00,  3.86s/it]\n",
      "100%|██████████| 4/4 [00:15<00:00,  3.86s/it]\n",
      "100%|██████████| 4/4 [00:15<00:00,  3.86s/it]\n",
      "100%|██████████| 4/4 [00:15<00:00,  3.86s/it]\n",
      "100%|██████████| 4/4 [00:15<00:00,  3.86s/it]\n"
     ]
    },
    {
     "name": "stdout",
     "output_type": "stream",
     "text": [
      "iter 5660: loss 5.8741, time 15464.67ms\n"
     ]
    },
    {
     "name": "stderr",
     "output_type": "stream",
     "text": [
      "100%|██████████| 4/4 [00:15<00:00,  3.85s/it]\n",
      "100%|██████████| 4/4 [00:15<00:00,  3.86s/it]\n",
      "100%|██████████| 4/4 [00:15<00:00,  3.86s/it]\n",
      "100%|██████████| 4/4 [00:15<00:00,  3.86s/it]\n",
      "100%|██████████| 4/4 [00:15<00:00,  3.85s/it]\n",
      "100%|██████████| 4/4 [00:15<00:00,  3.87s/it]\n",
      "100%|██████████| 4/4 [00:15<00:00,  3.87s/it]\n",
      "100%|██████████| 4/4 [00:15<00:00,  3.87s/it]\n",
      "100%|██████████| 4/4 [00:15<00:00,  3.88s/it]\n",
      "100%|██████████| 4/4 [00:15<00:00,  3.87s/it]\n",
      "100%|██████████| 4/4 [00:15<00:00,  3.87s/it]\n",
      "100%|██████████| 4/4 [00:15<00:00,  3.87s/it]\n",
      "100%|██████████| 4/4 [00:15<00:00,  3.87s/it]\n",
      "100%|██████████| 4/4 [00:15<00:00,  3.87s/it]\n",
      "100%|██████████| 4/4 [00:15<00:00,  3.87s/it]\n",
      "100%|██████████| 4/4 [00:15<00:00,  3.87s/it]\n",
      "100%|██████████| 4/4 [00:15<00:00,  3.88s/it]\n",
      "100%|██████████| 4/4 [00:15<00:00,  3.87s/it]\n",
      "100%|██████████| 4/4 [00:15<00:00,  3.87s/it]\n",
      "100%|██████████| 4/4 [00:15<00:00,  3.87s/it]\n"
     ]
    },
    {
     "name": "stdout",
     "output_type": "stream",
     "text": [
      "iter 5680: loss 5.4288, time 15498.27ms\n"
     ]
    },
    {
     "name": "stderr",
     "output_type": "stream",
     "text": [
      "100%|██████████| 4/4 [00:15<00:00,  3.87s/it]\n",
      "100%|██████████| 4/4 [00:15<00:00,  3.87s/it]\n",
      "100%|██████████| 4/4 [00:15<00:00,  3.87s/it]\n",
      "100%|██████████| 4/4 [00:15<00:00,  3.87s/it]\n",
      "100%|██████████| 4/4 [00:15<00:00,  3.88s/it]\n",
      "100%|██████████| 4/4 [00:15<00:00,  3.87s/it]\n",
      "100%|██████████| 4/4 [00:15<00:00,  3.87s/it]\n",
      "100%|██████████| 4/4 [00:15<00:00,  3.87s/it]\n",
      "100%|██████████| 4/4 [00:15<00:00,  3.87s/it]\n",
      "100%|██████████| 4/4 [00:15<00:00,  3.87s/it]\n",
      "100%|██████████| 4/4 [00:15<00:00,  3.87s/it]\n",
      "100%|██████████| 4/4 [00:15<00:00,  3.87s/it]\n",
      "100%|██████████| 4/4 [00:15<00:00,  3.87s/it]\n",
      "100%|██████████| 4/4 [00:15<00:00,  3.87s/it]\n",
      "100%|██████████| 4/4 [00:15<00:00,  3.87s/it]\n",
      "100%|██████████| 4/4 [00:15<00:00,  3.87s/it]\n",
      "100%|██████████| 4/4 [00:15<00:00,  3.87s/it]\n",
      "100%|██████████| 4/4 [00:15<00:00,  3.87s/it]\n",
      "100%|██████████| 4/4 [00:15<00:00,  3.87s/it]\n",
      "100%|██████████| 4/4 [00:15<00:00,  3.87s/it]\n"
     ]
    },
    {
     "name": "stdout",
     "output_type": "stream",
     "text": [
      "iter 5700: loss 6.0602, time 15522.05ms\n"
     ]
    },
    {
     "name": "stderr",
     "output_type": "stream",
     "text": [
      "100%|██████████| 4/4 [00:15<00:00,  3.87s/it]\n",
      "100%|██████████| 4/4 [00:15<00:00,  3.87s/it]\n",
      "100%|██████████| 4/4 [00:15<00:00,  3.87s/it]\n",
      "100%|██████████| 4/4 [00:15<00:00,  3.88s/it]\n",
      "100%|██████████| 4/4 [00:15<00:00,  3.87s/it]\n",
      "100%|██████████| 4/4 [00:15<00:00,  3.87s/it]\n",
      "100%|██████████| 4/4 [00:15<00:00,  3.87s/it]\n",
      "100%|██████████| 4/4 [00:15<00:00,  3.88s/it]\n",
      "100%|██████████| 4/4 [00:15<00:00,  3.87s/it]\n",
      "100%|██████████| 4/4 [00:15<00:00,  3.87s/it]\n",
      "100%|██████████| 4/4 [00:15<00:00,  3.87s/it]\n",
      "100%|██████████| 4/4 [00:15<00:00,  3.87s/it]\n",
      "100%|██████████| 4/4 [00:15<00:00,  3.87s/it]\n",
      "100%|██████████| 4/4 [00:15<00:00,  3.87s/it]\n",
      "100%|██████████| 4/4 [00:15<00:00,  3.87s/it]\n",
      "100%|██████████| 4/4 [00:15<00:00,  3.87s/it]\n",
      "100%|██████████| 4/4 [00:15<00:00,  3.87s/it]\n",
      "100%|██████████| 4/4 [00:15<00:00,  3.87s/it]\n",
      "100%|██████████| 4/4 [00:15<00:00,  3.87s/it]\n",
      "100%|██████████| 4/4 [00:15<00:00,  3.87s/it]\n"
     ]
    },
    {
     "name": "stdout",
     "output_type": "stream",
     "text": [
      "iter 5720: loss 6.2693, time 15520.18ms\n"
     ]
    },
    {
     "name": "stderr",
     "output_type": "stream",
     "text": [
      "100%|██████████| 4/4 [00:15<00:00,  3.86s/it]\n",
      "100%|██████████| 4/4 [00:15<00:00,  3.87s/it]\n",
      "100%|██████████| 4/4 [00:15<00:00,  3.85s/it]\n",
      "100%|██████████| 4/4 [00:15<00:00,  3.86s/it]\n",
      "100%|██████████| 4/4 [00:15<00:00,  3.86s/it]\n",
      "100%|██████████| 4/4 [00:15<00:00,  3.86s/it]\n",
      "100%|██████████| 4/4 [00:15<00:00,  3.86s/it]\n",
      "100%|██████████| 4/4 [00:15<00:00,  3.86s/it]\n",
      "100%|██████████| 4/4 [00:15<00:00,  3.86s/it]\n",
      "100%|██████████| 4/4 [00:15<00:00,  3.85s/it]\n",
      "100%|██████████| 4/4 [00:15<00:00,  3.86s/it]\n",
      "100%|██████████| 4/4 [00:15<00:00,  3.86s/it]\n",
      "100%|██████████| 4/4 [00:15<00:00,  3.86s/it]\n",
      "100%|██████████| 4/4 [00:15<00:00,  3.86s/it]\n",
      "100%|██████████| 4/4 [00:15<00:00,  3.86s/it]\n",
      "100%|██████████| 4/4 [00:15<00:00,  3.86s/it]\n",
      "100%|██████████| 4/4 [00:15<00:00,  3.85s/it]\n",
      "100%|██████████| 4/4 [00:15<00:00,  3.85s/it]\n",
      "100%|██████████| 4/4 [00:15<00:00,  3.86s/it]\n",
      "100%|██████████| 4/4 [00:15<00:00,  3.85s/it]\n"
     ]
    },
    {
     "name": "stdout",
     "output_type": "stream",
     "text": [
      "iter 5740: loss 4.9162, time 15437.36ms\n"
     ]
    },
    {
     "name": "stderr",
     "output_type": "stream",
     "text": [
      "100%|██████████| 4/4 [00:15<00:00,  3.85s/it]\n",
      "100%|██████████| 4/4 [00:15<00:00,  3.85s/it]\n",
      "100%|██████████| 4/4 [00:15<00:00,  3.86s/it]\n",
      "100%|██████████| 4/4 [00:15<00:00,  3.85s/it]\n",
      "100%|██████████| 4/4 [00:15<00:00,  3.86s/it]\n",
      "100%|██████████| 4/4 [00:15<00:00,  3.86s/it]\n",
      "100%|██████████| 4/4 [00:15<00:00,  3.86s/it]\n",
      "100%|██████████| 4/4 [00:15<00:00,  3.85s/it]\n",
      "100%|██████████| 4/4 [00:15<00:00,  3.86s/it]\n",
      "100%|██████████| 4/4 [00:15<00:00,  3.86s/it]\n",
      "100%|██████████| 4/4 [00:15<00:00,  3.86s/it]\n",
      "100%|██████████| 4/4 [00:15<00:00,  3.85s/it]\n",
      "100%|██████████| 4/4 [00:15<00:00,  3.86s/it]\n",
      "100%|██████████| 4/4 [00:15<00:00,  3.86s/it]\n",
      "100%|██████████| 4/4 [00:15<00:00,  3.86s/it]\n",
      "100%|██████████| 4/4 [00:15<00:00,  3.86s/it]\n",
      "100%|██████████| 4/4 [00:15<00:00,  3.86s/it]\n",
      "100%|██████████| 4/4 [00:15<00:00,  3.86s/it]\n",
      "100%|██████████| 4/4 [00:15<00:00,  3.86s/it]\n",
      "100%|██████████| 4/4 [00:15<00:00,  3.85s/it]\n"
     ]
    },
    {
     "name": "stdout",
     "output_type": "stream",
     "text": [
      "iter 5760: loss 5.4620, time 15444.10ms\n"
     ]
    },
    {
     "name": "stderr",
     "output_type": "stream",
     "text": [
      "100%|██████████| 4/4 [00:15<00:00,  3.85s/it]\n",
      "100%|██████████| 4/4 [00:15<00:00,  3.85s/it]\n",
      "100%|██████████| 4/4 [00:15<00:00,  3.85s/it]\n",
      "100%|██████████| 4/4 [00:15<00:00,  3.85s/it]\n",
      "100%|██████████| 4/4 [00:15<00:00,  3.85s/it]\n",
      "100%|██████████| 4/4 [00:15<00:00,  3.86s/it]\n",
      "100%|██████████| 4/4 [00:15<00:00,  3.86s/it]\n",
      "100%|██████████| 4/4 [00:15<00:00,  3.86s/it]\n",
      "100%|██████████| 4/4 [00:15<00:00,  3.86s/it]\n",
      "100%|██████████| 4/4 [00:15<00:00,  3.86s/it]\n",
      "100%|██████████| 4/4 [00:15<00:00,  3.85s/it]\n",
      "100%|██████████| 4/4 [00:15<00:00,  3.86s/it]\n",
      "100%|██████████| 4/4 [00:15<00:00,  3.85s/it]\n",
      "100%|██████████| 4/4 [00:15<00:00,  3.86s/it]\n",
      "100%|██████████| 4/4 [00:15<00:00,  3.86s/it]\n",
      "100%|██████████| 4/4 [00:15<00:00,  3.85s/it]\n",
      "100%|██████████| 4/4 [00:15<00:00,  3.85s/it]\n",
      "100%|██████████| 4/4 [00:15<00:00,  3.84s/it]\n",
      "100%|██████████| 4/4 [00:15<00:00,  3.79s/it]\n",
      "100%|██████████| 4/4 [00:15<00:00,  3.79s/it]\n"
     ]
    },
    {
     "name": "stdout",
     "output_type": "stream",
     "text": [
      "iter 5780: loss 5.7832, time 15168.33ms\n"
     ]
    },
    {
     "name": "stderr",
     "output_type": "stream",
     "text": [
      "100%|██████████| 4/4 [00:15<00:00,  3.78s/it]\n",
      "100%|██████████| 4/4 [00:15<00:00,  3.80s/it]\n",
      "100%|██████████| 4/4 [00:15<00:00,  3.79s/it]\n",
      "100%|██████████| 4/4 [00:15<00:00,  3.79s/it]\n",
      "100%|██████████| 4/4 [00:15<00:00,  3.79s/it]\n",
      "100%|██████████| 4/4 [00:15<00:00,  3.80s/it]\n",
      "100%|██████████| 4/4 [00:15<00:00,  3.79s/it]\n",
      "100%|██████████| 4/4 [00:15<00:00,  3.79s/it]\n",
      "100%|██████████| 4/4 [00:15<00:00,  3.78s/it]\n",
      "100%|██████████| 4/4 [00:15<00:00,  3.79s/it]\n",
      "100%|██████████| 4/4 [00:15<00:00,  3.79s/it]\n",
      "100%|██████████| 4/4 [00:15<00:00,  3.79s/it]\n",
      "100%|██████████| 4/4 [00:15<00:00,  3.79s/it]\n",
      "100%|██████████| 4/4 [00:15<00:00,  3.79s/it]\n",
      "100%|██████████| 4/4 [00:15<00:00,  3.79s/it]\n",
      "100%|██████████| 4/4 [00:15<00:00,  3.79s/it]\n",
      "100%|██████████| 4/4 [00:15<00:00,  3.79s/it]\n",
      "100%|██████████| 4/4 [00:15<00:00,  3.79s/it]\n",
      "100%|██████████| 4/4 [00:15<00:00,  3.79s/it]\n"
     ]
    },
    {
     "name": "stdout",
     "output_type": "stream",
     "text": [
      "step 5800: train loss 5.7130, val loss 5.6707\n",
      "train ppl 302.77, val ppl 290.24\n",
      "📈 Train/Val Gap: -0.0423 (-0.74%)\n",
      "✅ 新的最佳驗證損失: 5.6707\n"
     ]
    },
    {
     "name": "stderr",
     "output_type": "stream",
     "text": [
      "100%|██████████| 4/4 [00:14<00:00,  3.75s/it]\n"
     ]
    },
    {
     "name": "stdout",
     "output_type": "stream",
     "text": [
      "iter 5800: loss 4.9747, time 103700.74ms\n"
     ]
    },
    {
     "name": "stderr",
     "output_type": "stream",
     "text": [
      "100%|██████████| 4/4 [00:14<00:00,  3.75s/it]\n",
      "100%|██████████| 4/4 [00:14<00:00,  3.75s/it]\n",
      "100%|██████████| 4/4 [00:14<00:00,  3.75s/it]\n",
      "100%|██████████| 4/4 [00:15<00:00,  3.75s/it]\n",
      "100%|██████████| 4/4 [00:14<00:00,  3.75s/it]\n",
      "100%|██████████| 4/4 [00:14<00:00,  3.75s/it]\n",
      "100%|██████████| 4/4 [00:14<00:00,  3.75s/it]\n",
      "100%|██████████| 4/4 [00:15<00:00,  3.75s/it]\n",
      "100%|██████████| 4/4 [00:14<00:00,  3.75s/it]\n",
      "100%|██████████| 4/4 [00:14<00:00,  3.75s/it]\n",
      "100%|██████████| 4/4 [00:15<00:00,  3.75s/it]\n",
      "100%|██████████| 4/4 [00:15<00:00,  3.76s/it]\n",
      "100%|██████████| 4/4 [00:14<00:00,  3.75s/it]\n",
      "100%|██████████| 4/4 [00:15<00:00,  3.75s/it]\n",
      "100%|██████████| 4/4 [00:15<00:00,  3.77s/it]\n",
      "100%|██████████| 4/4 [00:15<00:00,  3.75s/it]\n",
      "100%|██████████| 4/4 [00:15<00:00,  3.75s/it]\n",
      "100%|██████████| 4/4 [00:14<00:00,  3.75s/it]\n",
      "100%|██████████| 4/4 [00:15<00:00,  3.75s/it]\n",
      "100%|██████████| 4/4 [00:15<00:00,  3.76s/it]\n"
     ]
    },
    {
     "name": "stdout",
     "output_type": "stream",
     "text": [
      "iter 5820: loss 5.8321, time 15051.92ms\n"
     ]
    },
    {
     "name": "stderr",
     "output_type": "stream",
     "text": [
      "100%|██████████| 4/4 [00:14<00:00,  3.74s/it]\n",
      "100%|██████████| 4/4 [00:15<00:00,  3.76s/it]\n",
      "100%|██████████| 4/4 [00:14<00:00,  3.75s/it]\n",
      "100%|██████████| 4/4 [00:15<00:00,  3.75s/it]\n",
      "100%|██████████| 4/4 [00:14<00:00,  3.75s/it]\n",
      "100%|██████████| 4/4 [00:15<00:00,  3.75s/it]\n",
      "100%|██████████| 4/4 [00:15<00:00,  3.77s/it]\n",
      "100%|██████████| 4/4 [00:15<00:00,  3.76s/it]\n",
      "100%|██████████| 4/4 [00:15<00:00,  3.75s/it]\n",
      "100%|██████████| 4/4 [00:15<00:00,  3.75s/it]\n",
      "100%|██████████| 4/4 [00:15<00:00,  3.75s/it]\n",
      "100%|██████████| 4/4 [00:15<00:00,  3.76s/it]\n",
      "100%|██████████| 4/4 [00:15<00:00,  3.75s/it]\n",
      "100%|██████████| 4/4 [00:14<00:00,  3.75s/it]\n",
      "100%|██████████| 4/4 [00:15<00:00,  3.75s/it]\n",
      "100%|██████████| 4/4 [00:15<00:00,  3.76s/it]\n",
      "100%|██████████| 4/4 [00:14<00:00,  3.75s/it]\n",
      "100%|██████████| 4/4 [00:15<00:00,  3.75s/it]\n",
      "100%|██████████| 4/4 [00:15<00:00,  3.75s/it]\n",
      "100%|██████████| 4/4 [00:15<00:00,  3.76s/it]\n"
     ]
    },
    {
     "name": "stdout",
     "output_type": "stream",
     "text": [
      "iter 5840: loss 6.0211, time 15060.71ms\n"
     ]
    },
    {
     "name": "stderr",
     "output_type": "stream",
     "text": [
      "100%|██████████| 4/4 [00:14<00:00,  3.74s/it]\n",
      "100%|██████████| 4/4 [00:14<00:00,  3.75s/it]\n",
      "100%|██████████| 4/4 [00:15<00:00,  3.77s/it]\n",
      "100%|██████████| 4/4 [00:15<00:00,  3.76s/it]\n",
      "100%|██████████| 4/4 [00:15<00:00,  3.75s/it]\n",
      "100%|██████████| 4/4 [00:15<00:00,  3.75s/it]\n",
      "100%|██████████| 4/4 [00:14<00:00,  3.75s/it]\n",
      "100%|██████████| 4/4 [00:15<00:00,  3.75s/it]\n",
      "100%|██████████| 4/4 [00:14<00:00,  3.75s/it]\n",
      "100%|██████████| 4/4 [00:14<00:00,  3.75s/it]\n",
      "100%|██████████| 4/4 [00:15<00:00,  3.75s/it]\n",
      "100%|██████████| 4/4 [00:15<00:00,  3.75s/it]\n",
      "100%|██████████| 4/4 [00:14<00:00,  3.75s/it]\n",
      "100%|██████████| 4/4 [00:14<00:00,  3.75s/it]\n",
      "100%|██████████| 4/4 [00:15<00:00,  3.75s/it]\n",
      "100%|██████████| 4/4 [00:15<00:00,  3.76s/it]\n",
      "100%|██████████| 4/4 [00:14<00:00,  3.75s/it]\n",
      "100%|██████████| 4/4 [00:14<00:00,  3.75s/it]\n",
      "100%|██████████| 4/4 [00:14<00:00,  3.75s/it]\n",
      "100%|██████████| 4/4 [00:15<00:00,  3.76s/it]\n"
     ]
    },
    {
     "name": "stdout",
     "output_type": "stream",
     "text": [
      "iter 5860: loss 5.8233, time 15054.81ms\n"
     ]
    },
    {
     "name": "stderr",
     "output_type": "stream",
     "text": [
      "100%|██████████| 4/4 [00:14<00:00,  3.74s/it]\n",
      "100%|██████████| 4/4 [00:14<00:00,  3.75s/it]\n",
      "100%|██████████| 4/4 [00:15<00:00,  3.75s/it]\n",
      "100%|██████████| 4/4 [00:15<00:00,  3.76s/it]\n",
      "100%|██████████| 4/4 [00:14<00:00,  3.75s/it]\n",
      "100%|██████████| 4/4 [00:14<00:00,  3.75s/it]\n",
      "100%|██████████| 4/4 [00:15<00:00,  3.75s/it]\n",
      "100%|██████████| 4/4 [00:15<00:00,  3.76s/it]\n",
      "100%|██████████| 4/4 [00:15<00:00,  3.75s/it]\n",
      "100%|██████████| 4/4 [00:14<00:00,  3.75s/it]\n",
      "100%|██████████| 4/4 [00:14<00:00,  3.75s/it]\n",
      "100%|██████████| 4/4 [00:15<00:00,  3.75s/it]\n",
      "100%|██████████| 4/4 [00:14<00:00,  3.75s/it]\n",
      "100%|██████████| 4/4 [00:15<00:00,  3.75s/it]\n",
      "100%|██████████| 4/4 [00:15<00:00,  3.75s/it]\n",
      "100%|██████████| 4/4 [00:15<00:00,  3.75s/it]\n",
      "100%|██████████| 4/4 [00:14<00:00,  3.75s/it]\n",
      "100%|██████████| 4/4 [00:14<00:00,  3.75s/it]\n",
      "100%|██████████| 4/4 [00:14<00:00,  3.75s/it]\n",
      "100%|██████████| 4/4 [00:14<00:00,  3.75s/it]\n"
     ]
    },
    {
     "name": "stdout",
     "output_type": "stream",
     "text": [
      "iter 5880: loss 5.9719, time 15022.20ms\n"
     ]
    },
    {
     "name": "stderr",
     "output_type": "stream",
     "text": [
      "100%|██████████| 4/4 [00:14<00:00,  3.74s/it]\n",
      "100%|██████████| 4/4 [00:14<00:00,  3.75s/it]\n",
      "100%|██████████| 4/4 [00:15<00:00,  3.75s/it]\n",
      "100%|██████████| 4/4 [00:15<00:00,  3.75s/it]\n",
      "100%|██████████| 4/4 [00:14<00:00,  3.75s/it]\n",
      "100%|██████████| 4/4 [00:14<00:00,  3.75s/it]\n",
      "100%|██████████| 4/4 [00:14<00:00,  3.75s/it]\n",
      "100%|██████████| 4/4 [00:15<00:00,  3.75s/it]\n",
      "100%|██████████| 4/4 [00:14<00:00,  3.75s/it]\n",
      "100%|██████████| 4/4 [00:14<00:00,  3.75s/it]\n",
      "100%|██████████| 4/4 [00:14<00:00,  3.75s/it]\n",
      "100%|██████████| 4/4 [00:15<00:00,  3.76s/it]\n",
      "100%|██████████| 4/4 [00:15<00:00,  3.75s/it]\n",
      "100%|██████████| 4/4 [00:14<00:00,  3.75s/it]\n",
      "100%|██████████| 4/4 [00:14<00:00,  3.75s/it]\n",
      "100%|██████████| 4/4 [00:15<00:00,  3.75s/it]\n",
      "100%|██████████| 4/4 [00:15<00:00,  3.75s/it]\n",
      "100%|██████████| 4/4 [00:15<00:00,  3.75s/it]\n",
      "100%|██████████| 4/4 [00:14<00:00,  3.75s/it]\n",
      "100%|██████████| 4/4 [00:15<00:00,  3.75s/it]\n"
     ]
    },
    {
     "name": "stdout",
     "output_type": "stream",
     "text": [
      "iter 5900: loss 5.6944, time 15035.75ms\n"
     ]
    },
    {
     "name": "stderr",
     "output_type": "stream",
     "text": [
      "100%|██████████| 4/4 [00:14<00:00,  3.74s/it]\n",
      "100%|██████████| 4/4 [00:14<00:00,  3.75s/it]\n",
      "100%|██████████| 4/4 [00:14<00:00,  3.75s/it]\n",
      "100%|██████████| 4/4 [00:15<00:00,  3.76s/it]\n",
      "100%|██████████| 4/4 [00:15<00:00,  3.75s/it]\n",
      "100%|██████████| 4/4 [00:14<00:00,  3.75s/it]\n",
      "100%|██████████| 4/4 [00:14<00:00,  3.75s/it]\n",
      "100%|██████████| 4/4 [00:15<00:00,  3.76s/it]\n",
      "100%|██████████| 4/4 [00:14<00:00,  3.75s/it]\n",
      "100%|██████████| 4/4 [00:15<00:00,  3.76s/it]\n",
      "100%|██████████| 4/4 [00:14<00:00,  3.75s/it]\n",
      "100%|██████████| 4/4 [00:15<00:00,  3.76s/it]\n",
      "100%|██████████| 4/4 [00:15<00:00,  3.75s/it]\n",
      "100%|██████████| 4/4 [00:15<00:00,  3.75s/it]\n",
      "100%|██████████| 4/4 [00:15<00:00,  3.75s/it]\n",
      "100%|██████████| 4/4 [00:15<00:00,  3.75s/it]\n",
      "100%|██████████| 4/4 [00:14<00:00,  3.75s/it]\n",
      "100%|██████████| 4/4 [00:15<00:00,  3.76s/it]\n",
      "100%|██████████| 4/4 [00:14<00:00,  3.75s/it]\n",
      "100%|██████████| 4/4 [00:15<00:00,  3.75s/it]\n"
     ]
    },
    {
     "name": "stdout",
     "output_type": "stream",
     "text": [
      "iter 5920: loss 5.9085, time 15031.09ms\n"
     ]
    },
    {
     "name": "stderr",
     "output_type": "stream",
     "text": [
      "100%|██████████| 4/4 [00:14<00:00,  3.74s/it]\n",
      "100%|██████████| 4/4 [00:15<00:00,  3.75s/it]\n",
      "100%|██████████| 4/4 [00:14<00:00,  3.75s/it]\n",
      "100%|██████████| 4/4 [00:15<00:00,  3.83s/it]\n",
      "100%|██████████| 4/4 [00:15<00:00,  3.82s/it]\n",
      "100%|██████████| 4/4 [00:15<00:00,  3.83s/it]\n",
      "100%|██████████| 4/4 [00:15<00:00,  3.84s/it]\n",
      "100%|██████████| 4/4 [00:15<00:00,  3.83s/it]\n",
      "100%|██████████| 4/4 [00:15<00:00,  3.83s/it]\n",
      "100%|██████████| 4/4 [00:15<00:00,  3.82s/it]\n",
      "100%|██████████| 4/4 [00:15<00:00,  3.84s/it]\n",
      "100%|██████████| 4/4 [00:15<00:00,  3.83s/it]\n",
      "100%|██████████| 4/4 [00:15<00:00,  3.82s/it]\n",
      "100%|██████████| 4/4 [00:15<00:00,  3.83s/it]\n",
      "100%|██████████| 4/4 [00:15<00:00,  3.84s/it]\n",
      "100%|██████████| 4/4 [00:15<00:00,  3.83s/it]\n",
      "100%|██████████| 4/4 [00:15<00:00,  3.83s/it]\n",
      "100%|██████████| 4/4 [00:15<00:00,  3.83s/it]\n",
      "100%|██████████| 4/4 [00:15<00:00,  3.83s/it]\n",
      "100%|██████████| 4/4 [00:15<00:00,  3.83s/it]\n"
     ]
    },
    {
     "name": "stdout",
     "output_type": "stream",
     "text": [
      "iter 5940: loss 5.8341, time 15337.69ms\n"
     ]
    },
    {
     "name": "stderr",
     "output_type": "stream",
     "text": [
      "100%|██████████| 4/4 [00:15<00:00,  3.82s/it]\n",
      "100%|██████████| 4/4 [00:15<00:00,  3.83s/it]\n",
      "100%|██████████| 4/4 [00:15<00:00,  3.83s/it]\n",
      "100%|██████████| 4/4 [00:15<00:00,  3.83s/it]\n",
      "100%|██████████| 4/4 [00:15<00:00,  3.83s/it]\n",
      "100%|██████████| 4/4 [00:15<00:00,  3.83s/it]\n",
      "100%|██████████| 4/4 [00:15<00:00,  3.83s/it]\n",
      "100%|██████████| 4/4 [00:15<00:00,  3.83s/it]\n",
      "100%|██████████| 4/4 [00:15<00:00,  3.83s/it]\n",
      "100%|██████████| 4/4 [00:15<00:00,  3.83s/it]\n",
      "100%|██████████| 4/4 [00:15<00:00,  3.83s/it]\n",
      "100%|██████████| 4/4 [00:15<00:00,  3.83s/it]\n",
      "100%|██████████| 4/4 [00:15<00:00,  3.83s/it]\n",
      "100%|██████████| 4/4 [00:15<00:00,  3.83s/it]\n",
      "100%|██████████| 4/4 [00:15<00:00,  3.84s/it]\n",
      "100%|██████████| 4/4 [00:15<00:00,  3.83s/it]\n",
      "100%|██████████| 4/4 [00:15<00:00,  3.83s/it]\n",
      "100%|██████████| 4/4 [00:15<00:00,  3.83s/it]\n",
      "100%|██████████| 4/4 [00:15<00:00,  3.84s/it]\n",
      "100%|██████████| 4/4 [00:15<00:00,  3.83s/it]\n"
     ]
    },
    {
     "name": "stdout",
     "output_type": "stream",
     "text": [
      "iter 5960: loss 5.7072, time 15326.53ms\n"
     ]
    },
    {
     "name": "stderr",
     "output_type": "stream",
     "text": [
      "100%|██████████| 4/4 [00:15<00:00,  3.82s/it]\n",
      "100%|██████████| 4/4 [00:15<00:00,  3.83s/it]\n",
      "100%|██████████| 4/4 [00:15<00:00,  3.83s/it]\n",
      "100%|██████████| 4/4 [00:15<00:00,  3.83s/it]\n",
      "100%|██████████| 4/4 [00:15<00:00,  3.82s/it]\n",
      "100%|██████████| 4/4 [00:15<00:00,  3.83s/it]\n",
      "100%|██████████| 4/4 [00:15<00:00,  3.84s/it]\n",
      "100%|██████████| 4/4 [00:15<00:00,  3.83s/it]\n",
      "100%|██████████| 4/4 [00:15<00:00,  3.83s/it]\n",
      "100%|██████████| 4/4 [00:15<00:00,  3.83s/it]\n",
      "100%|██████████| 4/4 [00:15<00:00,  3.83s/it]\n",
      "100%|██████████| 4/4 [00:15<00:00,  3.83s/it]\n",
      "100%|██████████| 4/4 [00:15<00:00,  3.83s/it]\n",
      "100%|██████████| 4/4 [00:15<00:00,  3.83s/it]\n",
      "100%|██████████| 4/4 [00:15<00:00,  3.83s/it]\n",
      "100%|██████████| 4/4 [00:15<00:00,  3.83s/it]\n",
      "100%|██████████| 4/4 [00:15<00:00,  3.83s/it]\n",
      "100%|██████████| 4/4 [00:15<00:00,  3.84s/it]\n",
      "100%|██████████| 4/4 [00:15<00:00,  3.83s/it]\n",
      "100%|██████████| 4/4 [00:15<00:00,  3.83s/it]\n"
     ]
    },
    {
     "name": "stdout",
     "output_type": "stream",
     "text": [
      "iter 5980: loss 5.8288, time 15341.74ms\n"
     ]
    },
    {
     "name": "stderr",
     "output_type": "stream",
     "text": [
      "100%|██████████| 4/4 [00:15<00:00,  3.82s/it]\n",
      "100%|██████████| 4/4 [00:15<00:00,  3.83s/it]\n",
      "100%|██████████| 4/4 [00:15<00:00,  3.83s/it]\n",
      "100%|██████████| 4/4 [00:15<00:00,  3.82s/it]\n",
      "100%|██████████| 4/4 [00:15<00:00,  3.83s/it]\n",
      "100%|██████████| 4/4 [00:15<00:00,  3.83s/it]\n",
      "100%|██████████| 4/4 [00:15<00:00,  3.83s/it]\n",
      "100%|██████████| 4/4 [00:15<00:00,  3.83s/it]\n",
      "100%|██████████| 4/4 [00:15<00:00,  3.83s/it]\n",
      "100%|██████████| 4/4 [00:15<00:00,  3.83s/it]\n",
      "100%|██████████| 4/4 [00:15<00:00,  3.82s/it]\n",
      "100%|██████████| 4/4 [00:15<00:00,  3.83s/it]\n",
      "100%|██████████| 4/4 [00:15<00:00,  3.83s/it]\n",
      "100%|██████████| 4/4 [00:15<00:00,  3.84s/it]\n",
      "100%|██████████| 4/4 [00:15<00:00,  3.82s/it]\n",
      "100%|██████████| 4/4 [00:15<00:00,  3.76s/it]\n",
      "100%|██████████| 4/4 [00:15<00:00,  3.77s/it]\n",
      "100%|██████████| 4/4 [00:15<00:00,  3.83s/it]\n",
      "100%|██████████| 4/4 [00:15<00:00,  3.82s/it]\n"
     ]
    },
    {
     "name": "stdout",
     "output_type": "stream",
     "text": [
      "step 6000: train loss 5.6614, val loss 5.7024\n",
      "train ppl 287.56, val ppl 299.58\n",
      "📈 Train/Val Gap: 0.0410 (0.72%)\n"
     ]
    },
    {
     "name": "stderr",
     "output_type": "stream",
     "text": [
      "100%|██████████| 4/4 [00:15<00:00,  3.83s/it]\n"
     ]
    },
    {
     "name": "stdout",
     "output_type": "stream",
     "text": [
      "iter 6000: loss 5.1006, time 102739.93ms\n"
     ]
    },
    {
     "name": "stderr",
     "output_type": "stream",
     "text": [
      "100%|██████████| 4/4 [00:15<00:00,  3.82s/it]\n",
      "100%|██████████| 4/4 [00:15<00:00,  3.83s/it]\n",
      "100%|██████████| 4/4 [00:15<00:00,  3.83s/it]\n",
      "100%|██████████| 4/4 [00:15<00:00,  3.83s/it]\n",
      "100%|██████████| 4/4 [00:15<00:00,  3.83s/it]\n",
      "100%|██████████| 4/4 [00:15<00:00,  3.83s/it]\n",
      "100%|██████████| 4/4 [00:15<00:00,  3.83s/it]\n",
      "100%|██████████| 4/4 [00:15<00:00,  3.83s/it]\n",
      "100%|██████████| 4/4 [00:15<00:00,  3.83s/it]\n",
      "100%|██████████| 4/4 [00:15<00:00,  3.83s/it]\n",
      "100%|██████████| 4/4 [00:15<00:00,  3.83s/it]\n",
      "100%|██████████| 4/4 [00:15<00:00,  3.83s/it]\n",
      "100%|██████████| 4/4 [00:15<00:00,  3.83s/it]\n",
      "100%|██████████| 4/4 [00:15<00:00,  3.83s/it]\n",
      "100%|██████████| 4/4 [00:15<00:00,  3.82s/it]\n",
      "100%|██████████| 4/4 [00:15<00:00,  3.85s/it]\n",
      "100%|██████████| 4/4 [00:15<00:00,  3.83s/it]\n",
      "100%|██████████| 4/4 [00:15<00:00,  3.83s/it]\n",
      "100%|██████████| 4/4 [00:15<00:00,  3.82s/it]\n",
      "100%|██████████| 4/4 [00:15<00:00,  3.84s/it]\n"
     ]
    },
    {
     "name": "stdout",
     "output_type": "stream",
     "text": [
      "iter 6020: loss 5.9979, time 15367.86ms\n"
     ]
    },
    {
     "name": "stderr",
     "output_type": "stream",
     "text": [
      "100%|██████████| 4/4 [00:15<00:00,  3.82s/it]\n",
      "100%|██████████| 4/4 [00:15<00:00,  3.83s/it]\n",
      "100%|██████████| 4/4 [00:15<00:00,  3.83s/it]\n",
      "100%|██████████| 4/4 [00:15<00:00,  3.83s/it]\n",
      "100%|██████████| 4/4 [00:15<00:00,  3.82s/it]\n",
      "100%|██████████| 4/4 [00:15<00:00,  3.82s/it]\n",
      "100%|██████████| 4/4 [00:15<00:00,  3.88s/it]\n",
      "100%|██████████| 4/4 [00:15<00:00,  3.96s/it]\n",
      "100%|██████████| 4/4 [00:15<00:00,  3.94s/it]\n",
      "100%|██████████| 4/4 [00:15<00:00,  3.94s/it]\n",
      "100%|██████████| 4/4 [00:15<00:00,  3.94s/it]\n",
      "100%|██████████| 4/4 [00:15<00:00,  3.94s/it]\n",
      "100%|██████████| 4/4 [00:15<00:00,  3.94s/it]\n",
      "100%|██████████| 4/4 [00:15<00:00,  3.94s/it]\n",
      "100%|██████████| 4/4 [00:15<00:00,  3.95s/it]\n",
      "100%|██████████| 4/4 [00:15<00:00,  3.94s/it]\n",
      "100%|██████████| 4/4 [00:15<00:00,  3.94s/it]\n",
      "100%|██████████| 4/4 [00:15<00:00,  3.94s/it]\n",
      "100%|██████████| 4/4 [00:15<00:00,  3.94s/it]\n",
      "100%|██████████| 4/4 [00:15<00:00,  3.94s/it]\n"
     ]
    },
    {
     "name": "stdout",
     "output_type": "stream",
     "text": [
      "iter 6040: loss 5.7310, time 15796.43ms\n"
     ]
    },
    {
     "name": "stderr",
     "output_type": "stream",
     "text": [
      "100%|██████████| 4/4 [00:15<00:00,  3.93s/it]\n",
      "100%|██████████| 4/4 [00:15<00:00,  3.94s/it]\n",
      "100%|██████████| 4/4 [00:15<00:00,  3.94s/it]\n",
      "100%|██████████| 4/4 [00:15<00:00,  3.96s/it]\n",
      "100%|██████████| 4/4 [00:15<00:00,  3.94s/it]\n",
      "100%|██████████| 4/4 [00:15<00:00,  3.94s/it]\n",
      "100%|██████████| 4/4 [00:15<00:00,  3.94s/it]\n",
      "100%|██████████| 4/4 [00:15<00:00,  3.94s/it]\n",
      "100%|██████████| 4/4 [00:15<00:00,  3.94s/it]\n",
      "100%|██████████| 4/4 [00:15<00:00,  3.95s/it]\n",
      "100%|██████████| 4/4 [00:15<00:00,  3.94s/it]\n",
      "100%|██████████| 4/4 [00:15<00:00,  3.94s/it]\n",
      "100%|██████████| 4/4 [00:15<00:00,  3.94s/it]\n",
      "100%|██████████| 4/4 [00:15<00:00,  3.95s/it]\n",
      "100%|██████████| 4/4 [00:15<00:00,  3.94s/it]\n",
      "100%|██████████| 4/4 [00:15<00:00,  3.94s/it]\n",
      "100%|██████████| 4/4 [00:15<00:00,  3.94s/it]\n",
      "100%|██████████| 4/4 [00:15<00:00,  3.95s/it]\n",
      "100%|██████████| 4/4 [00:15<00:00,  3.94s/it]\n",
      "100%|██████████| 4/4 [00:15<00:00,  3.95s/it]\n"
     ]
    },
    {
     "name": "stdout",
     "output_type": "stream",
     "text": [
      "iter 6060: loss 5.8667, time 15806.91ms\n"
     ]
    },
    {
     "name": "stderr",
     "output_type": "stream",
     "text": [
      "100%|██████████| 4/4 [00:15<00:00,  3.93s/it]\n",
      "100%|██████████| 4/4 [00:15<00:00,  3.94s/it]\n",
      "100%|██████████| 4/4 [00:15<00:00,  3.94s/it]\n",
      "100%|██████████| 4/4 [00:15<00:00,  3.95s/it]\n",
      "100%|██████████| 4/4 [00:15<00:00,  3.94s/it]\n",
      "100%|██████████| 4/4 [00:15<00:00,  3.94s/it]\n",
      "100%|██████████| 4/4 [00:15<00:00,  3.94s/it]\n",
      "100%|██████████| 4/4 [00:15<00:00,  3.94s/it]\n",
      "100%|██████████| 4/4 [00:15<00:00,  3.95s/it]\n",
      "100%|██████████| 4/4 [00:15<00:00,  3.94s/it]\n",
      "100%|██████████| 4/4 [00:15<00:00,  3.94s/it]\n",
      "100%|██████████| 4/4 [00:15<00:00,  3.94s/it]\n",
      "100%|██████████| 4/4 [00:15<00:00,  3.95s/it]\n",
      "100%|██████████| 4/4 [00:15<00:00,  3.94s/it]\n",
      "100%|██████████| 4/4 [00:15<00:00,  3.94s/it]\n",
      "100%|██████████| 4/4 [00:15<00:00,  3.94s/it]\n",
      "100%|██████████| 4/4 [00:15<00:00,  3.95s/it]\n",
      "100%|██████████| 4/4 [00:15<00:00,  3.94s/it]\n",
      "100%|██████████| 4/4 [00:15<00:00,  3.94s/it]\n",
      "100%|██████████| 4/4 [00:15<00:00,  3.94s/it]\n"
     ]
    },
    {
     "name": "stdout",
     "output_type": "stream",
     "text": [
      "iter 6080: loss 5.7481, time 15789.33ms\n"
     ]
    },
    {
     "name": "stderr",
     "output_type": "stream",
     "text": [
      "100%|██████████| 4/4 [00:15<00:00,  3.94s/it]\n",
      "100%|██████████| 4/4 [00:15<00:00,  3.94s/it]\n",
      "100%|██████████| 4/4 [00:15<00:00,  3.94s/it]\n",
      "100%|██████████| 4/4 [00:15<00:00,  3.95s/it]\n",
      "100%|██████████| 4/4 [00:15<00:00,  3.94s/it]\n",
      "100%|██████████| 4/4 [00:15<00:00,  3.94s/it]\n",
      "100%|██████████| 4/4 [00:15<00:00,  3.94s/it]\n",
      "100%|██████████| 4/4 [00:15<00:00,  3.94s/it]\n",
      "100%|██████████| 4/4 [00:15<00:00,  3.94s/it]\n",
      "100%|██████████| 4/4 [00:15<00:00,  3.94s/it]\n",
      "100%|██████████| 4/4 [00:15<00:00,  3.94s/it]\n",
      "100%|██████████| 4/4 [00:15<00:00,  3.95s/it]\n",
      "100%|██████████| 4/4 [00:15<00:00,  3.94s/it]\n",
      "100%|██████████| 4/4 [00:15<00:00,  3.94s/it]\n",
      "100%|██████████| 4/4 [00:15<00:00,  3.94s/it]\n",
      "100%|██████████| 4/4 [00:16<00:00,  4.01s/it]\n",
      "100%|██████████| 4/4 [00:16<00:00,  4.03s/it]\n",
      "100%|██████████| 4/4 [00:16<00:00,  4.03s/it]\n",
      "100%|██████████| 4/4 [00:16<00:00,  4.05s/it]\n",
      "100%|██████████| 4/4 [00:16<00:00,  4.04s/it]\n"
     ]
    },
    {
     "name": "stdout",
     "output_type": "stream",
     "text": [
      "iter 6100: loss 5.7764, time 16180.50ms\n"
     ]
    },
    {
     "name": "stderr",
     "output_type": "stream",
     "text": [
      "100%|██████████| 4/4 [00:16<00:00,  4.03s/it]\n",
      "100%|██████████| 4/4 [00:16<00:00,  4.03s/it]\n",
      "100%|██████████| 4/4 [00:16<00:00,  4.04s/it]\n",
      "100%|██████████| 4/4 [00:16<00:00,  4.04s/it]\n",
      "100%|██████████| 4/4 [00:16<00:00,  4.03s/it]\n",
      "100%|██████████| 4/4 [00:16<00:00,  4.03s/it]\n",
      "100%|██████████| 4/4 [00:16<00:00,  4.04s/it]\n",
      "100%|██████████| 4/4 [00:16<00:00,  4.03s/it]\n",
      "100%|██████████| 4/4 [00:16<00:00,  4.03s/it]\n",
      "100%|██████████| 4/4 [00:16<00:00,  4.03s/it]\n",
      "100%|██████████| 4/4 [00:16<00:00,  4.05s/it]\n",
      "100%|██████████| 4/4 [00:16<00:00,  4.03s/it]\n",
      "100%|██████████| 4/4 [00:16<00:00,  4.03s/it]\n",
      "100%|██████████| 4/4 [00:16<00:00,  4.04s/it]\n",
      "100%|██████████| 4/4 [00:16<00:00,  4.03s/it]\n",
      "100%|██████████| 4/4 [00:16<00:00,  4.03s/it]\n",
      "100%|██████████| 4/4 [00:16<00:00,  4.03s/it]\n",
      "100%|██████████| 4/4 [00:16<00:00,  4.03s/it]\n",
      "100%|██████████| 4/4 [00:16<00:00,  4.03s/it]\n",
      "100%|██████████| 4/4 [00:16<00:00,  4.03s/it]\n"
     ]
    },
    {
     "name": "stdout",
     "output_type": "stream",
     "text": [
      "iter 6120: loss 6.1974, time 16146.07ms\n"
     ]
    },
    {
     "name": "stderr",
     "output_type": "stream",
     "text": [
      "100%|██████████| 4/4 [00:16<00:00,  4.03s/it]\n",
      "100%|██████████| 4/4 [00:16<00:00,  4.03s/it]\n",
      "100%|██████████| 4/4 [00:16<00:00,  4.03s/it]\n",
      "100%|██████████| 4/4 [00:16<00:00,  4.03s/it]\n",
      "100%|██████████| 4/4 [00:16<00:00,  4.03s/it]\n",
      "100%|██████████| 4/4 [00:16<00:00,  4.03s/it]\n",
      "100%|██████████| 4/4 [00:16<00:00,  4.03s/it]\n",
      "100%|██████████| 4/4 [00:16<00:00,  4.03s/it]\n",
      "100%|██████████| 4/4 [00:16<00:00,  4.04s/it]\n",
      "100%|██████████| 4/4 [00:16<00:00,  4.03s/it]\n",
      "100%|██████████| 4/4 [00:16<00:00,  4.03s/it]\n",
      "100%|██████████| 4/4 [00:16<00:00,  4.03s/it]\n",
      "100%|██████████| 4/4 [00:16<00:00,  4.03s/it]\n",
      "100%|██████████| 4/4 [00:16<00:00,  4.03s/it]\n",
      "100%|██████████| 4/4 [00:16<00:00,  4.03s/it]\n",
      "100%|██████████| 4/4 [00:16<00:00,  4.03s/it]\n",
      "100%|██████████| 4/4 [00:16<00:00,  4.05s/it]\n",
      "100%|██████████| 4/4 [00:16<00:00,  4.03s/it]\n",
      "100%|██████████| 4/4 [00:16<00:00,  4.03s/it]\n",
      "100%|██████████| 4/4 [00:16<00:00,  4.03s/it]\n"
     ]
    },
    {
     "name": "stdout",
     "output_type": "stream",
     "text": [
      "iter 6140: loss 6.1029, time 16162.38ms\n"
     ]
    },
    {
     "name": "stderr",
     "output_type": "stream",
     "text": [
      "100%|██████████| 4/4 [00:16<00:00,  4.03s/it]\n",
      "100%|██████████| 4/4 [00:16<00:00,  4.03s/it]\n",
      "100%|██████████| 4/4 [00:16<00:00,  4.03s/it]\n",
      "100%|██████████| 4/4 [00:16<00:00,  4.04s/it]\n",
      "100%|██████████| 4/4 [00:16<00:00,  4.03s/it]\n",
      "100%|██████████| 4/4 [00:16<00:00,  4.03s/it]\n",
      "100%|██████████| 4/4 [00:16<00:00,  4.03s/it]\n",
      "100%|██████████| 4/4 [00:16<00:00,  4.03s/it]\n",
      "100%|██████████| 4/4 [00:16<00:00,  4.03s/it]\n",
      "100%|██████████| 4/4 [00:16<00:00,  4.03s/it]\n",
      "100%|██████████| 4/4 [00:16<00:00,  4.04s/it]\n",
      "100%|██████████| 4/4 [00:16<00:00,  4.03s/it]\n",
      "100%|██████████| 4/4 [00:16<00:00,  4.03s/it]\n",
      "100%|██████████| 4/4 [00:16<00:00,  4.04s/it]\n",
      "100%|██████████| 4/4 [00:16<00:00,  4.04s/it]\n",
      "100%|██████████| 4/4 [00:16<00:00,  4.03s/it]\n",
      "100%|██████████| 4/4 [00:16<00:00,  4.03s/it]\n",
      "100%|██████████| 4/4 [00:16<00:00,  4.03s/it]\n",
      "100%|██████████| 4/4 [00:16<00:00,  4.04s/it]\n",
      "100%|██████████| 4/4 [00:16<00:00,  4.03s/it]\n"
     ]
    },
    {
     "name": "stdout",
     "output_type": "stream",
     "text": [
      "iter 6160: loss 5.7572, time 16138.71ms\n"
     ]
    },
    {
     "name": "stderr",
     "output_type": "stream",
     "text": [
      "100%|██████████| 4/4 [00:16<00:00,  4.03s/it]\n",
      "100%|██████████| 4/4 [00:16<00:00,  4.03s/it]\n",
      "100%|██████████| 4/4 [00:16<00:00,  4.04s/it]\n",
      "100%|██████████| 4/4 [00:16<00:00,  4.03s/it]\n",
      "100%|██████████| 4/4 [00:16<00:00,  4.03s/it]\n",
      "100%|██████████| 4/4 [00:16<00:00,  4.04s/it]\n",
      "100%|██████████| 4/4 [00:16<00:00,  4.03s/it]\n",
      "100%|██████████| 4/4 [00:16<00:00,  4.03s/it]\n",
      "100%|██████████| 4/4 [00:16<00:00,  4.03s/it]\n",
      "100%|██████████| 4/4 [00:16<00:00,  4.03s/it]\n",
      "100%|██████████| 4/4 [00:16<00:00,  4.03s/it]\n",
      "100%|██████████| 4/4 [00:16<00:00,  4.03s/it]\n",
      "100%|██████████| 4/4 [00:16<00:00,  4.03s/it]\n",
      "100%|██████████| 4/4 [00:16<00:00,  4.03s/it]\n",
      "100%|██████████| 4/4 [00:16<00:00,  4.04s/it]\n",
      "100%|██████████| 4/4 [00:16<00:00,  4.03s/it]\n",
      "100%|██████████| 4/4 [00:16<00:00,  4.04s/it]\n",
      "100%|██████████| 4/4 [00:16<00:00,  4.03s/it]\n",
      "100%|██████████| 4/4 [00:16<00:00,  4.03s/it]\n",
      "100%|██████████| 4/4 [00:16<00:00,  4.03s/it]\n"
     ]
    },
    {
     "name": "stdout",
     "output_type": "stream",
     "text": [
      "iter 6180: loss 6.0238, time 16166.19ms\n"
     ]
    },
    {
     "name": "stderr",
     "output_type": "stream",
     "text": [
      "100%|██████████| 4/4 [00:16<00:00,  4.03s/it]\n",
      "100%|██████████| 4/4 [00:16<00:00,  4.03s/it]\n",
      "100%|██████████| 4/4 [00:16<00:00,  4.03s/it]\n",
      "100%|██████████| 4/4 [00:16<00:00,  4.03s/it]\n",
      "100%|██████████| 4/4 [00:16<00:00,  4.04s/it]\n",
      "100%|██████████| 4/4 [00:16<00:00,  4.03s/it]\n",
      "100%|██████████| 4/4 [00:16<00:00,  4.03s/it]\n",
      "100%|██████████| 4/4 [00:16<00:00,  4.03s/it]\n",
      "100%|██████████| 4/4 [00:16<00:00,  4.05s/it]\n",
      "100%|██████████| 4/4 [00:16<00:00,  4.03s/it]\n",
      "100%|██████████| 4/4 [00:16<00:00,  4.03s/it]\n",
      "100%|██████████| 4/4 [00:16<00:00,  4.04s/it]\n",
      "100%|██████████| 4/4 [00:16<00:00,  4.03s/it]\n",
      "100%|██████████| 4/4 [00:16<00:00,  4.03s/it]\n",
      "100%|██████████| 4/4 [00:16<00:00,  4.04s/it]\n",
      "100%|██████████| 4/4 [00:16<00:00,  4.03s/it]\n",
      "100%|██████████| 4/4 [00:16<00:00,  4.04s/it]\n",
      "100%|██████████| 4/4 [00:16<00:00,  4.03s/it]\n",
      "100%|██████████| 4/4 [00:16<00:00,  4.03s/it]\n"
     ]
    },
    {
     "name": "stdout",
     "output_type": "stream",
     "text": [
      "step 6200: train loss 5.6727, val loss 5.6852\n",
      "train ppl 290.83, val ppl 294.47\n",
      "📈 Train/Val Gap: 0.0124 (0.22%)\n"
     ]
    },
    {
     "name": "stderr",
     "output_type": "stream",
     "text": [
      "100%|██████████| 4/4 [00:16<00:00,  4.03s/it]\n"
     ]
    },
    {
     "name": "stdout",
     "output_type": "stream",
     "text": [
      "iter 6200: loss 5.7814, time 111792.80ms\n"
     ]
    },
    {
     "name": "stderr",
     "output_type": "stream",
     "text": [
      "100%|██████████| 4/4 [00:16<00:00,  4.03s/it]\n",
      "100%|██████████| 4/4 [00:16<00:00,  4.04s/it]\n",
      "100%|██████████| 4/4 [00:16<00:00,  4.03s/it]\n",
      "100%|██████████| 4/4 [00:16<00:00,  4.03s/it]\n",
      "100%|██████████| 4/4 [00:16<00:00,  4.04s/it]\n",
      "100%|██████████| 4/4 [00:16<00:00,  4.03s/it]\n",
      "100%|██████████| 4/4 [00:16<00:00,  4.03s/it]\n",
      "100%|██████████| 4/4 [00:16<00:00,  4.03s/it]\n",
      "100%|██████████| 4/4 [00:16<00:00,  4.04s/it]\n",
      "100%|██████████| 4/4 [00:16<00:00,  4.03s/it]\n",
      "100%|██████████| 4/4 [00:16<00:00,  4.03s/it]\n",
      "100%|██████████| 4/4 [00:16<00:00,  4.04s/it]\n",
      "100%|██████████| 4/4 [00:16<00:00,  4.04s/it]\n",
      "100%|██████████| 4/4 [00:16<00:00,  4.05s/it]\n",
      "100%|██████████| 4/4 [00:16<00:00,  4.03s/it]\n",
      "100%|██████████| 4/4 [00:16<00:00,  4.04s/it]\n",
      "100%|██████████| 4/4 [00:16<00:00,  4.03s/it]\n",
      "100%|██████████| 4/4 [00:16<00:00,  4.03s/it]\n",
      "100%|██████████| 4/4 [00:16<00:00,  4.03s/it]\n",
      "100%|██████████| 4/4 [00:16<00:00,  4.03s/it]\n"
     ]
    },
    {
     "name": "stdout",
     "output_type": "stream",
     "text": [
      "iter 6220: loss 5.7528, time 16160.05ms\n"
     ]
    },
    {
     "name": "stderr",
     "output_type": "stream",
     "text": [
      "100%|██████████| 4/4 [00:16<00:00,  4.02s/it]\n",
      "100%|██████████| 4/4 [00:16<00:00,  4.03s/it]\n",
      "100%|██████████| 4/4 [00:16<00:00,  4.03s/it]\n",
      "100%|██████████| 4/4 [00:16<00:00,  4.03s/it]\n",
      "100%|██████████| 4/4 [00:16<00:00,  4.03s/it]\n",
      "100%|██████████| 4/4 [00:16<00:00,  4.05s/it]\n",
      "100%|██████████| 4/4 [00:16<00:00,  4.03s/it]\n",
      "100%|██████████| 4/4 [00:16<00:00,  4.03s/it]\n",
      "100%|██████████| 4/4 [00:16<00:00,  4.03s/it]\n",
      "100%|██████████| 4/4 [00:16<00:00,  4.03s/it]\n",
      "100%|██████████| 4/4 [00:16<00:00,  4.04s/it]\n",
      "100%|██████████| 4/4 [00:16<00:00,  4.03s/it]\n",
      "100%|██████████| 4/4 [00:16<00:00,  4.03s/it]\n",
      "100%|██████████| 4/4 [00:16<00:00,  4.03s/it]\n",
      "100%|██████████| 4/4 [00:16<00:00,  4.04s/it]\n",
      "100%|██████████| 4/4 [00:16<00:00,  4.03s/it]\n",
      "100%|██████████| 4/4 [00:16<00:00,  4.03s/it]\n",
      "100%|██████████| 4/4 [00:16<00:00,  4.03s/it]\n",
      "100%|██████████| 4/4 [00:16<00:00,  4.03s/it]\n",
      "100%|██████████| 4/4 [00:16<00:00,  4.03s/it]\n"
     ]
    },
    {
     "name": "stdout",
     "output_type": "stream",
     "text": [
      "iter 6240: loss 5.7890, time 16156.54ms\n"
     ]
    },
    {
     "name": "stderr",
     "output_type": "stream",
     "text": [
      "100%|██████████| 4/4 [00:16<00:00,  4.03s/it]\n",
      "100%|██████████| 4/4 [00:16<00:00,  4.06s/it]\n",
      "100%|██████████| 4/4 [00:16<00:00,  4.03s/it]\n",
      "100%|██████████| 4/4 [00:16<00:00,  4.03s/it]\n",
      "100%|██████████| 4/4 [00:16<00:00,  4.03s/it]\n",
      "100%|██████████| 4/4 [00:16<00:00,  4.04s/it]\n",
      "100%|██████████| 4/4 [00:16<00:00,  4.04s/it]\n",
      "100%|██████████| 4/4 [00:16<00:00,  4.03s/it]\n",
      "100%|██████████| 4/4 [00:16<00:00,  4.04s/it]\n",
      "100%|██████████| 4/4 [00:16<00:00,  4.04s/it]\n",
      "100%|██████████| 4/4 [00:16<00:00,  4.04s/it]\n",
      "100%|██████████| 4/4 [00:16<00:00,  4.03s/it]\n",
      "100%|██████████| 4/4 [00:16<00:00,  4.04s/it]\n",
      "100%|██████████| 4/4 [00:16<00:00,  4.04s/it]\n",
      "100%|██████████| 4/4 [00:16<00:00,  4.04s/it]\n",
      "100%|██████████| 4/4 [00:16<00:00,  4.03s/it]\n",
      "100%|██████████| 4/4 [00:16<00:00,  4.04s/it]\n",
      "100%|██████████| 4/4 [00:16<00:00,  4.04s/it]\n",
      "100%|██████████| 4/4 [00:16<00:00,  4.03s/it]\n",
      "100%|██████████| 4/4 [00:16<00:00,  4.03s/it]\n"
     ]
    },
    {
     "name": "stdout",
     "output_type": "stream",
     "text": [
      "iter 6260: loss 5.6703, time 16159.02ms\n"
     ]
    },
    {
     "name": "stderr",
     "output_type": "stream",
     "text": [
      "100%|██████████| 4/4 [00:16<00:00,  4.03s/it]\n",
      "100%|██████████| 4/4 [00:16<00:00,  4.03s/it]\n",
      "100%|██████████| 4/4 [00:16<00:00,  4.03s/it]\n",
      "100%|██████████| 4/4 [00:16<00:00,  4.04s/it]\n",
      "100%|██████████| 4/4 [00:16<00:00,  4.03s/it]\n",
      "100%|██████████| 4/4 [00:16<00:00,  4.03s/it]\n",
      "100%|██████████| 4/4 [00:16<00:00,  4.03s/it]\n",
      "100%|██████████| 4/4 [00:16<00:00,  4.04s/it]\n",
      "100%|██████████| 4/4 [00:16<00:00,  4.03s/it]\n",
      "100%|██████████| 4/4 [00:16<00:00,  4.03s/it]\n",
      "100%|██████████| 4/4 [00:16<00:00,  4.03s/it]\n",
      "100%|██████████| 4/4 [00:16<00:00,  4.03s/it]\n",
      "100%|██████████| 4/4 [00:16<00:00,  4.03s/it]\n",
      "100%|██████████| 4/4 [00:16<00:00,  4.03s/it]\n",
      "100%|██████████| 4/4 [00:16<00:00,  4.03s/it]\n",
      "100%|██████████| 4/4 [00:16<00:00,  4.03s/it]\n",
      "100%|██████████| 4/4 [00:16<00:00,  4.03s/it]\n",
      "100%|██████████| 4/4 [00:16<00:00,  4.03s/it]\n",
      "100%|██████████| 4/4 [00:16<00:00,  4.04s/it]\n",
      "100%|██████████| 4/4 [00:16<00:00,  4.03s/it]\n"
     ]
    },
    {
     "name": "stdout",
     "output_type": "stream",
     "text": [
      "iter 6280: loss 5.7033, time 16150.24ms\n"
     ]
    },
    {
     "name": "stderr",
     "output_type": "stream",
     "text": [
      "100%|██████████| 4/4 [00:16<00:00,  4.03s/it]\n",
      "100%|██████████| 4/4 [00:16<00:00,  4.03s/it]\n",
      "100%|██████████| 4/4 [00:16<00:00,  4.04s/it]\n",
      "100%|██████████| 4/4 [00:16<00:00,  4.03s/it]\n",
      "100%|██████████| 4/4 [00:16<00:00,  4.03s/it]\n",
      "100%|██████████| 4/4 [00:16<00:00,  4.03s/it]\n",
      "100%|██████████| 4/4 [00:16<00:00,  4.04s/it]\n",
      "100%|██████████| 4/4 [00:16<00:00,  4.03s/it]\n",
      "100%|██████████| 4/4 [00:16<00:00,  4.03s/it]\n",
      "100%|██████████| 4/4 [00:16<00:00,  4.03s/it]\n",
      "100%|██████████| 4/4 [00:16<00:00,  4.03s/it]\n",
      "100%|██████████| 4/4 [00:16<00:00,  4.03s/it]\n",
      "100%|██████████| 4/4 [00:16<00:00,  4.03s/it]\n",
      "100%|██████████| 4/4 [00:16<00:00,  4.03s/it]\n",
      "100%|██████████| 4/4 [00:16<00:00,  4.03s/it]\n",
      "100%|██████████| 4/4 [00:16<00:00,  4.03s/it]\n",
      "100%|██████████| 4/4 [00:16<00:00,  4.03s/it]\n",
      "100%|██████████| 4/4 [00:16<00:00,  4.03s/it]\n",
      "100%|██████████| 4/4 [00:16<00:00,  4.03s/it]\n",
      "100%|██████████| 4/4 [00:16<00:00,  4.03s/it]\n"
     ]
    },
    {
     "name": "stdout",
     "output_type": "stream",
     "text": [
      "iter 6300: loss 5.7651, time 16153.41ms\n"
     ]
    },
    {
     "name": "stderr",
     "output_type": "stream",
     "text": [
      "100%|██████████| 4/4 [00:16<00:00,  4.03s/it]\n",
      "100%|██████████| 4/4 [00:16<00:00,  4.03s/it]\n",
      "100%|██████████| 4/4 [00:16<00:00,  4.03s/it]\n",
      "100%|██████████| 4/4 [00:16<00:00,  4.04s/it]\n",
      "100%|██████████| 4/4 [00:16<00:00,  4.04s/it]\n",
      "100%|██████████| 4/4 [00:16<00:00,  4.03s/it]\n",
      "100%|██████████| 4/4 [00:16<00:00,  4.03s/it]\n",
      "100%|██████████| 4/4 [00:16<00:00,  4.03s/it]\n",
      "100%|██████████| 4/4 [00:16<00:00,  4.04s/it]\n",
      "100%|██████████| 4/4 [00:16<00:00,  4.04s/it]\n",
      "100%|██████████| 4/4 [00:16<00:00,  4.03s/it]\n",
      "100%|██████████| 4/4 [00:16<00:00,  4.03s/it]\n",
      "100%|██████████| 4/4 [00:16<00:00,  4.03s/it]\n",
      "100%|██████████| 4/4 [00:16<00:00,  4.03s/it]\n",
      "100%|██████████| 4/4 [00:16<00:00,  4.03s/it]\n",
      "100%|██████████| 4/4 [00:16<00:00,  4.04s/it]\n",
      "100%|██████████| 4/4 [00:16<00:00,  4.03s/it]\n",
      "100%|██████████| 4/4 [00:16<00:00,  4.03s/it]\n",
      "100%|██████████| 4/4 [00:16<00:00,  4.03s/it]\n",
      "100%|██████████| 4/4 [00:16<00:00,  4.03s/it]\n"
     ]
    },
    {
     "name": "stdout",
     "output_type": "stream",
     "text": [
      "iter 6320: loss 5.7703, time 16165.60ms\n"
     ]
    },
    {
     "name": "stderr",
     "output_type": "stream",
     "text": [
      "100%|██████████| 4/4 [00:16<00:00,  4.02s/it]\n",
      "100%|██████████| 4/4 [00:16<00:00,  4.03s/it]\n",
      "100%|██████████| 4/4 [00:16<00:00,  4.03s/it]\n",
      "100%|██████████| 4/4 [00:16<00:00,  4.04s/it]\n",
      "100%|██████████| 4/4 [00:16<00:00,  4.03s/it]\n",
      "100%|██████████| 4/4 [00:16<00:00,  4.03s/it]\n",
      "100%|██████████| 4/4 [00:16<00:00,  4.03s/it]\n",
      "100%|██████████| 4/4 [00:16<00:00,  4.03s/it]\n",
      "100%|██████████| 4/4 [00:16<00:00,  4.03s/it]\n",
      "100%|██████████| 4/4 [00:16<00:00,  4.04s/it]\n",
      "100%|██████████| 4/4 [00:16<00:00,  4.04s/it]\n",
      "100%|██████████| 4/4 [00:16<00:00,  4.03s/it]\n",
      "100%|██████████| 4/4 [00:16<00:00,  4.03s/it]\n",
      "100%|██████████| 4/4 [00:16<00:00,  4.03s/it]\n",
      "100%|██████████| 4/4 [00:16<00:00,  4.03s/it]\n",
      "100%|██████████| 4/4 [00:16<00:00,  4.03s/it]\n",
      "100%|██████████| 4/4 [00:16<00:00,  4.03s/it]\n",
      "100%|██████████| 4/4 [00:16<00:00,  4.03s/it]\n",
      "100%|██████████| 4/4 [00:16<00:00,  4.05s/it]\n",
      "100%|██████████| 4/4 [00:16<00:00,  4.03s/it]\n"
     ]
    },
    {
     "name": "stdout",
     "output_type": "stream",
     "text": [
      "iter 6340: loss 5.2085, time 16156.40ms\n"
     ]
    },
    {
     "name": "stderr",
     "output_type": "stream",
     "text": [
      "100%|██████████| 4/4 [00:16<00:00,  4.02s/it]\n",
      "100%|██████████| 4/4 [00:16<00:00,  4.04s/it]\n",
      "100%|██████████| 4/4 [00:16<00:00,  4.03s/it]\n",
      "100%|██████████| 4/4 [00:16<00:00,  4.03s/it]\n",
      "100%|██████████| 4/4 [00:16<00:00,  4.03s/it]\n",
      "100%|██████████| 4/4 [00:16<00:00,  4.04s/it]\n",
      "100%|██████████| 4/4 [00:16<00:00,  4.03s/it]\n",
      "100%|██████████| 4/4 [00:16<00:00,  4.03s/it]\n",
      "100%|██████████| 4/4 [00:16<00:00,  4.03s/it]\n",
      "100%|██████████| 4/4 [00:16<00:00,  4.04s/it]\n",
      "100%|██████████| 4/4 [00:16<00:00,  4.03s/it]\n",
      "100%|██████████| 4/4 [00:16<00:00,  4.03s/it]\n",
      "100%|██████████| 4/4 [00:16<00:00,  4.04s/it]\n",
      "100%|██████████| 4/4 [00:16<00:00,  4.03s/it]\n",
      "100%|██████████| 4/4 [00:16<00:00,  4.04s/it]\n",
      "100%|██████████| 4/4 [00:16<00:00,  4.03s/it]\n",
      "100%|██████████| 4/4 [00:16<00:00,  4.04s/it]\n",
      "100%|██████████| 4/4 [00:16<00:00,  4.04s/it]\n",
      "100%|██████████| 4/4 [00:16<00:00,  4.03s/it]\n",
      "100%|██████████| 4/4 [00:16<00:00,  4.03s/it]\n"
     ]
    },
    {
     "name": "stdout",
     "output_type": "stream",
     "text": [
      "iter 6360: loss 5.2410, time 16151.09ms\n"
     ]
    },
    {
     "name": "stderr",
     "output_type": "stream",
     "text": [
      "100%|██████████| 4/4 [00:16<00:00,  4.03s/it]\n",
      "100%|██████████| 4/4 [00:16<00:00,  4.03s/it]\n",
      "100%|██████████| 4/4 [00:16<00:00,  4.03s/it]\n",
      "100%|██████████| 4/4 [00:16<00:00,  4.03s/it]\n",
      "100%|██████████| 4/4 [00:16<00:00,  4.04s/it]\n",
      "100%|██████████| 4/4 [00:16<00:00,  4.03s/it]\n",
      "100%|██████████| 4/4 [00:16<00:00,  4.04s/it]\n",
      "100%|██████████| 4/4 [00:16<00:00,  4.04s/it]\n",
      "100%|██████████| 4/4 [00:16<00:00,  4.03s/it]\n",
      "100%|██████████| 4/4 [00:16<00:00,  4.03s/it]\n",
      "100%|██████████| 4/4 [00:16<00:00,  4.04s/it]\n",
      "100%|██████████| 4/4 [00:16<00:00,  4.03s/it]\n",
      "100%|██████████| 4/4 [00:16<00:00,  4.03s/it]\n",
      "100%|██████████| 4/4 [00:16<00:00,  4.04s/it]\n",
      "100%|██████████| 4/4 [00:16<00:00,  4.03s/it]\n",
      "100%|██████████| 4/4 [00:16<00:00,  4.04s/it]\n",
      "100%|██████████| 4/4 [00:16<00:00,  4.03s/it]\n",
      "100%|██████████| 4/4 [00:16<00:00,  4.03s/it]\n",
      "100%|██████████| 4/4 [00:16<00:00,  4.04s/it]\n",
      "100%|██████████| 4/4 [00:16<00:00,  4.03s/it]\n"
     ]
    },
    {
     "name": "stdout",
     "output_type": "stream",
     "text": [
      "iter 6380: loss 5.5699, time 16157.58ms\n"
     ]
    },
    {
     "name": "stderr",
     "output_type": "stream",
     "text": [
      "100%|██████████| 4/4 [00:16<00:00,  4.03s/it]\n",
      "100%|██████████| 4/4 [00:16<00:00,  4.04s/it]\n",
      "100%|██████████| 4/4 [00:16<00:00,  4.04s/it]\n",
      "100%|██████████| 4/4 [00:16<00:00,  4.03s/it]\n",
      "100%|██████████| 4/4 [00:16<00:00,  4.03s/it]\n",
      "100%|██████████| 4/4 [00:16<00:00,  4.03s/it]\n",
      "100%|██████████| 4/4 [00:16<00:00,  4.03s/it]\n",
      "100%|██████████| 4/4 [00:16<00:00,  4.03s/it]\n",
      "100%|██████████| 4/4 [00:16<00:00,  4.03s/it]\n",
      "100%|██████████| 4/4 [00:16<00:00,  4.03s/it]\n",
      "100%|██████████| 4/4 [00:16<00:00,  4.04s/it]\n",
      "100%|██████████| 4/4 [00:16<00:00,  4.03s/it]\n",
      "100%|██████████| 4/4 [00:16<00:00,  4.03s/it]\n",
      "100%|██████████| 4/4 [00:16<00:00,  4.03s/it]\n",
      "100%|██████████| 4/4 [00:16<00:00,  4.03s/it]\n",
      "100%|██████████| 4/4 [00:16<00:00,  4.04s/it]\n",
      "100%|██████████| 4/4 [00:16<00:00,  4.03s/it]\n",
      "100%|██████████| 4/4 [00:16<00:00,  4.04s/it]\n",
      "100%|██████████| 4/4 [00:16<00:00,  4.03s/it]\n"
     ]
    },
    {
     "name": "stdout",
     "output_type": "stream",
     "text": [
      "step 6400: train loss 5.6765, val loss 5.6356\n",
      "train ppl 291.92, val ppl 280.22\n",
      "📈 Train/Val Gap: -0.0409 (-0.72%)\n",
      "✅ 新的最佳驗證損失: 5.6356\n"
     ]
    },
    {
     "name": "stderr",
     "output_type": "stream",
     "text": [
      "100%|██████████| 4/4 [00:16<00:00,  4.03s/it]\n"
     ]
    },
    {
     "name": "stdout",
     "output_type": "stream",
     "text": [
      "iter 6400: loss 5.6863, time 111653.71ms\n"
     ]
    },
    {
     "name": "stderr",
     "output_type": "stream",
     "text": [
      "100%|██████████| 4/4 [00:16<00:00,  4.03s/it]\n",
      "100%|██████████| 4/4 [00:16<00:00,  4.03s/it]\n",
      "100%|██████████| 4/4 [00:16<00:00,  4.03s/it]\n",
      "100%|██████████| 4/4 [00:16<00:00,  4.03s/it]\n",
      "100%|██████████| 4/4 [00:16<00:00,  4.03s/it]\n",
      "100%|██████████| 4/4 [00:16<00:00,  4.03s/it]\n",
      "100%|██████████| 4/4 [00:16<00:00,  4.03s/it]\n",
      "100%|██████████| 4/4 [00:16<00:00,  4.03s/it]\n",
      "100%|██████████| 4/4 [00:16<00:00,  4.04s/it]\n",
      "100%|██████████| 4/4 [00:16<00:00,  4.04s/it]\n",
      "100%|██████████| 4/4 [00:16<00:00,  4.04s/it]\n",
      "100%|██████████| 4/4 [00:16<00:00,  4.04s/it]\n",
      "100%|██████████| 4/4 [00:16<00:00,  4.03s/it]\n",
      "100%|██████████| 4/4 [00:16<00:00,  4.04s/it]\n",
      "100%|██████████| 4/4 [00:16<00:00,  4.05s/it]\n",
      "100%|██████████| 4/4 [00:16<00:00,  4.03s/it]\n",
      "100%|██████████| 4/4 [00:16<00:00,  4.03s/it]\n",
      "100%|██████████| 4/4 [00:16<00:00,  4.03s/it]\n",
      "100%|██████████| 4/4 [00:16<00:00,  4.03s/it]\n",
      "100%|██████████| 4/4 [00:16<00:00,  4.03s/it]\n"
     ]
    },
    {
     "name": "stdout",
     "output_type": "stream",
     "text": [
      "iter 6420: loss 5.5966, time 16154.72ms\n"
     ]
    },
    {
     "name": "stderr",
     "output_type": "stream",
     "text": [
      "100%|██████████| 4/4 [00:16<00:00,  4.03s/it]\n",
      "100%|██████████| 4/4 [00:16<00:00,  4.03s/it]\n",
      "100%|██████████| 4/4 [00:16<00:00,  4.04s/it]\n",
      "100%|██████████| 4/4 [00:16<00:00,  4.03s/it]\n",
      "100%|██████████| 4/4 [00:16<00:00,  4.03s/it]\n",
      "100%|██████████| 4/4 [00:16<00:00,  4.03s/it]\n",
      "100%|██████████| 4/4 [00:16<00:00,  4.05s/it]\n",
      "100%|██████████| 4/4 [00:15<00:00,  3.91s/it]\n",
      "100%|██████████| 4/4 [00:15<00:00,  3.92s/it]\n",
      "100%|██████████| 4/4 [00:15<00:00,  3.91s/it]\n",
      "100%|██████████| 4/4 [00:15<00:00,  3.91s/it]\n",
      "100%|██████████| 4/4 [00:15<00:00,  3.91s/it]\n",
      "100%|██████████| 4/4 [00:15<00:00,  3.92s/it]\n",
      "100%|██████████| 4/4 [00:15<00:00,  3.91s/it]\n",
      "100%|██████████| 4/4 [00:15<00:00,  3.91s/it]\n",
      "100%|██████████| 4/4 [00:15<00:00,  3.91s/it]\n",
      "100%|██████████| 4/4 [00:15<00:00,  3.87s/it]\n",
      "100%|██████████| 4/4 [00:15<00:00,  3.87s/it]\n",
      "100%|██████████| 4/4 [00:15<00:00,  3.87s/it]\n",
      "100%|██████████| 4/4 [00:15<00:00,  3.87s/it]\n"
     ]
    },
    {
     "name": "stdout",
     "output_type": "stream",
     "text": [
      "iter 6440: loss 5.9702, time 15502.21ms\n"
     ]
    },
    {
     "name": "stderr",
     "output_type": "stream",
     "text": [
      "100%|██████████| 4/4 [00:15<00:00,  3.86s/it]\n",
      "100%|██████████| 4/4 [00:15<00:00,  3.86s/it]\n",
      "100%|██████████| 4/4 [00:15<00:00,  3.89s/it]\n",
      "100%|██████████| 4/4 [00:15<00:00,  3.87s/it]\n",
      "100%|██████████| 4/4 [00:15<00:00,  3.87s/it]\n",
      "100%|██████████| 4/4 [00:15<00:00,  3.87s/it]\n",
      "100%|██████████| 4/4 [00:15<00:00,  3.87s/it]\n",
      "100%|██████████| 4/4 [00:15<00:00,  3.87s/it]\n",
      "100%|██████████| 4/4 [00:15<00:00,  3.87s/it]\n",
      "100%|██████████| 4/4 [00:15<00:00,  3.87s/it]\n",
      "100%|██████████| 4/4 [00:15<00:00,  3.87s/it]\n",
      "100%|██████████| 4/4 [00:15<00:00,  3.91s/it]\n",
      "100%|██████████| 4/4 [00:16<00:00,  4.02s/it]\n",
      "100%|██████████| 4/4 [00:16<00:00,  4.02s/it]\n",
      "100%|██████████| 4/4 [00:16<00:00,  4.02s/it]\n",
      "100%|██████████| 4/4 [00:16<00:00,  4.03s/it]\n",
      "100%|██████████| 4/4 [00:16<00:00,  4.02s/it]\n",
      "100%|██████████| 4/4 [00:16<00:00,  4.02s/it]\n",
      "100%|██████████| 4/4 [00:16<00:00,  4.02s/it]\n",
      "100%|██████████| 4/4 [00:16<00:00,  4.03s/it]\n"
     ]
    },
    {
     "name": "stdout",
     "output_type": "stream",
     "text": [
      "iter 6460: loss 5.4315, time 16125.31ms\n"
     ]
    },
    {
     "name": "stderr",
     "output_type": "stream",
     "text": [
      "100%|██████████| 4/4 [00:16<00:00,  4.01s/it]\n",
      "100%|██████████| 4/4 [00:16<00:00,  4.02s/it]\n",
      "100%|██████████| 4/4 [00:16<00:00,  4.02s/it]\n",
      "100%|██████████| 4/4 [00:16<00:00,  4.02s/it]\n",
      "100%|██████████| 4/4 [00:16<00:00,  4.02s/it]\n",
      "100%|██████████| 4/4 [00:16<00:00,  4.02s/it]\n",
      "100%|██████████| 4/4 [00:16<00:00,  4.02s/it]\n",
      "100%|██████████| 4/4 [00:16<00:00,  4.02s/it]\n",
      "100%|██████████| 4/4 [00:16<00:00,  4.02s/it]\n",
      "100%|██████████| 4/4 [00:16<00:00,  4.02s/it]\n",
      "100%|██████████| 4/4 [00:16<00:00,  4.02s/it]\n",
      "100%|██████████| 4/4 [00:16<00:00,  4.02s/it]\n",
      "100%|██████████| 4/4 [00:16<00:00,  4.02s/it]\n",
      "100%|██████████| 4/4 [00:16<00:00,  4.02s/it]\n",
      "100%|██████████| 4/4 [00:16<00:00,  4.03s/it]\n",
      "100%|██████████| 4/4 [00:16<00:00,  4.02s/it]\n",
      "100%|██████████| 4/4 [00:16<00:00,  4.02s/it]\n",
      "100%|██████████| 4/4 [00:16<00:00,  4.03s/it]\n",
      "100%|██████████| 4/4 [00:16<00:00,  4.02s/it]\n",
      "100%|██████████| 4/4 [00:16<00:00,  4.02s/it]\n"
     ]
    },
    {
     "name": "stdout",
     "output_type": "stream",
     "text": [
      "iter 6480: loss 5.6507, time 16108.65ms\n"
     ]
    },
    {
     "name": "stderr",
     "output_type": "stream",
     "text": [
      "100%|██████████| 4/4 [00:16<00:00,  4.01s/it]\n",
      "100%|██████████| 4/4 [00:16<00:00,  4.03s/it]\n",
      "100%|██████████| 4/4 [00:16<00:00,  4.03s/it]\n",
      "100%|██████████| 4/4 [00:16<00:00,  4.02s/it]\n",
      "100%|██████████| 4/4 [00:16<00:00,  4.02s/it]\n",
      "100%|██████████| 4/4 [00:16<00:00,  4.03s/it]\n",
      "100%|██████████| 4/4 [00:16<00:00,  4.03s/it]\n",
      "100%|██████████| 4/4 [00:16<00:00,  4.02s/it]\n",
      "100%|██████████| 4/4 [00:16<00:00,  4.02s/it]\n",
      "100%|██████████| 4/4 [00:16<00:00,  4.03s/it]\n",
      "100%|██████████| 4/4 [00:16<00:00,  4.02s/it]\n",
      "100%|██████████| 4/4 [00:16<00:00,  4.02s/it]\n",
      "100%|██████████| 4/4 [00:16<00:00,  4.03s/it]\n",
      "100%|██████████| 4/4 [00:16<00:00,  4.02s/it]\n",
      "100%|██████████| 4/4 [00:16<00:00,  4.02s/it]\n",
      "100%|██████████| 4/4 [00:16<00:00,  4.02s/it]\n",
      "100%|██████████| 4/4 [00:16<00:00,  4.02s/it]\n",
      "100%|██████████| 4/4 [00:16<00:00,  4.02s/it]\n",
      "100%|██████████| 4/4 [00:16<00:00,  4.02s/it]\n",
      "100%|██████████| 4/4 [00:16<00:00,  4.02s/it]\n"
     ]
    },
    {
     "name": "stdout",
     "output_type": "stream",
     "text": [
      "iter 6500: loss 5.7186, time 16104.86ms\n"
     ]
    },
    {
     "name": "stderr",
     "output_type": "stream",
     "text": [
      "100%|██████████| 4/4 [00:16<00:00,  4.01s/it]\n",
      "100%|██████████| 4/4 [00:16<00:00,  4.02s/it]\n",
      "100%|██████████| 4/4 [00:16<00:00,  4.02s/it]\n",
      "100%|██████████| 4/4 [00:16<00:00,  4.02s/it]\n",
      "100%|██████████| 4/4 [00:16<00:00,  4.02s/it]\n",
      "100%|██████████| 4/4 [00:16<00:00,  4.02s/it]\n",
      "100%|██████████| 4/4 [00:16<00:00,  4.02s/it]\n",
      "100%|██████████| 4/4 [00:16<00:00,  4.03s/it]\n",
      "100%|██████████| 4/4 [00:16<00:00,  4.02s/it]\n",
      "100%|██████████| 4/4 [00:16<00:00,  4.02s/it]\n",
      "100%|██████████| 4/4 [00:16<00:00,  4.02s/it]\n",
      "100%|██████████| 4/4 [00:16<00:00,  4.03s/it]\n",
      "100%|██████████| 4/4 [00:16<00:00,  4.02s/it]\n",
      "100%|██████████| 4/4 [00:16<00:00,  4.02s/it]\n",
      "100%|██████████| 4/4 [00:16<00:00,  4.02s/it]\n",
      "100%|██████████| 4/4 [00:16<00:00,  4.03s/it]\n",
      "100%|██████████| 4/4 [00:16<00:00,  4.02s/it]\n",
      "100%|██████████| 4/4 [00:16<00:00,  4.02s/it]\n",
      "100%|██████████| 4/4 [00:16<00:00,  4.03s/it]\n",
      "100%|██████████| 4/4 [00:16<00:00,  4.02s/it]\n"
     ]
    },
    {
     "name": "stdout",
     "output_type": "stream",
     "text": [
      "iter 6520: loss 5.5514, time 16123.67ms\n"
     ]
    },
    {
     "name": "stderr",
     "output_type": "stream",
     "text": [
      "100%|██████████| 4/4 [00:16<00:00,  4.02s/it]\n",
      "100%|██████████| 4/4 [00:16<00:00,  4.02s/it]\n",
      "100%|██████████| 4/4 [00:16<00:00,  4.04s/it]\n",
      "100%|██████████| 4/4 [00:16<00:00,  4.02s/it]\n",
      "100%|██████████| 4/4 [00:16<00:00,  4.02s/it]\n",
      "100%|██████████| 4/4 [00:16<00:00,  4.02s/it]\n",
      "100%|██████████| 4/4 [00:16<00:00,  4.04s/it]\n",
      "100%|██████████| 4/4 [00:16<00:00,  4.02s/it]\n",
      "100%|██████████| 4/4 [00:16<00:00,  4.02s/it]\n",
      "100%|██████████| 4/4 [00:16<00:00,  4.02s/it]\n",
      "100%|██████████| 4/4 [00:16<00:00,  4.02s/it]\n",
      "100%|██████████| 4/4 [00:16<00:00,  4.03s/it]\n",
      "100%|██████████| 4/4 [00:16<00:00,  4.02s/it]\n",
      "100%|██████████| 4/4 [00:16<00:00,  4.02s/it]\n",
      "100%|██████████| 4/4 [00:16<00:00,  4.02s/it]\n",
      "100%|██████████| 4/4 [00:16<00:00,  4.02s/it]\n",
      "100%|██████████| 4/4 [00:16<00:00,  4.02s/it]\n",
      "100%|██████████| 4/4 [00:16<00:00,  4.03s/it]\n",
      "100%|██████████| 4/4 [00:16<00:00,  4.02s/it]\n",
      "100%|██████████| 4/4 [00:16<00:00,  4.02s/it]\n"
     ]
    },
    {
     "name": "stdout",
     "output_type": "stream",
     "text": [
      "iter 6540: loss 5.9285, time 16124.33ms\n"
     ]
    },
    {
     "name": "stderr",
     "output_type": "stream",
     "text": [
      "100%|██████████| 4/4 [00:16<00:00,  4.02s/it]\n",
      "100%|██████████| 4/4 [00:16<00:00,  4.03s/it]\n",
      "100%|██████████| 4/4 [00:16<00:00,  4.02s/it]\n",
      "100%|██████████| 4/4 [00:16<00:00,  4.02s/it]\n",
      "100%|██████████| 4/4 [00:16<00:00,  4.03s/it]\n",
      "100%|██████████| 4/4 [00:16<00:00,  4.03s/it]\n",
      "100%|██████████| 4/4 [00:16<00:00,  4.03s/it]\n",
      "100%|██████████| 4/4 [00:16<00:00,  4.03s/it]\n",
      "100%|██████████| 4/4 [00:16<00:00,  4.04s/it]\n",
      "100%|██████████| 4/4 [00:16<00:00,  4.03s/it]\n",
      "100%|██████████| 4/4 [00:16<00:00,  4.04s/it]\n",
      "100%|██████████| 4/4 [00:16<00:00,  4.03s/it]\n",
      "100%|██████████| 4/4 [00:16<00:00,  4.04s/it]\n",
      "100%|██████████| 4/4 [00:16<00:00,  4.03s/it]\n",
      "100%|██████████| 4/4 [00:16<00:00,  4.03s/it]\n",
      "100%|██████████| 4/4 [00:16<00:00,  4.03s/it]\n",
      "100%|██████████| 4/4 [00:16<00:00,  4.04s/it]\n",
      "100%|██████████| 4/4 [00:16<00:00,  4.03s/it]\n",
      "100%|██████████| 4/4 [00:16<00:00,  4.03s/it]\n",
      "100%|██████████| 4/4 [00:16<00:00,  4.03s/it]\n"
     ]
    },
    {
     "name": "stdout",
     "output_type": "stream",
     "text": [
      "iter 6560: loss 5.8792, time 16150.70ms\n"
     ]
    },
    {
     "name": "stderr",
     "output_type": "stream",
     "text": [
      "100%|██████████| 4/4 [00:16<00:00,  4.03s/it]\n",
      "100%|██████████| 4/4 [00:16<00:00,  4.03s/it]\n",
      "100%|██████████| 4/4 [00:16<00:00,  4.03s/it]\n",
      "100%|██████████| 4/4 [00:16<00:00,  4.04s/it]\n",
      "100%|██████████| 4/4 [00:16<00:00,  4.03s/it]\n",
      "100%|██████████| 4/4 [00:16<00:00,  4.03s/it]\n",
      "100%|██████████| 4/4 [00:16<00:00,  4.03s/it]\n",
      "100%|██████████| 4/4 [00:16<00:00,  4.04s/it]\n",
      "100%|██████████| 4/4 [00:16<00:00,  4.03s/it]\n",
      "100%|██████████| 4/4 [00:16<00:00,  4.03s/it]\n",
      "100%|██████████| 4/4 [00:16<00:00,  4.03s/it]\n",
      "100%|██████████| 4/4 [00:16<00:00,  4.03s/it]\n",
      "100%|██████████| 4/4 [00:16<00:00,  4.03s/it]\n",
      "100%|██████████| 4/4 [00:16<00:00,  4.03s/it]\n",
      "100%|██████████| 4/4 [00:16<00:00,  4.03s/it]\n",
      "100%|██████████| 4/4 [00:16<00:00,  4.03s/it]\n",
      "100%|██████████| 4/4 [00:16<00:00,  4.03s/it]\n",
      "100%|██████████| 4/4 [00:16<00:00,  4.03s/it]\n",
      "100%|██████████| 4/4 [00:16<00:00,  4.03s/it]\n",
      "100%|██████████| 4/4 [00:16<00:00,  4.03s/it]\n"
     ]
    },
    {
     "name": "stdout",
     "output_type": "stream",
     "text": [
      "iter 6580: loss 5.6958, time 16157.51ms\n"
     ]
    },
    {
     "name": "stderr",
     "output_type": "stream",
     "text": [
      "100%|██████████| 4/4 [00:16<00:00,  4.02s/it]\n",
      "100%|██████████| 4/4 [00:16<00:00,  4.03s/it]\n",
      "100%|██████████| 4/4 [00:16<00:00,  4.04s/it]\n",
      "100%|██████████| 4/4 [00:16<00:00,  4.03s/it]\n",
      "100%|██████████| 4/4 [00:16<00:00,  4.03s/it]\n",
      "100%|██████████| 4/4 [00:16<00:00,  4.03s/it]\n",
      "100%|██████████| 4/4 [00:16<00:00,  4.03s/it]\n",
      "100%|██████████| 4/4 [00:16<00:00,  4.03s/it]\n",
      "100%|██████████| 4/4 [00:15<00:00,  3.95s/it]\n",
      "100%|██████████| 4/4 [00:15<00:00,  3.92s/it]\n",
      "100%|██████████| 4/4 [00:15<00:00,  3.92s/it]\n",
      "100%|██████████| 4/4 [00:15<00:00,  3.92s/it]\n",
      "100%|██████████| 4/4 [00:15<00:00,  3.92s/it]\n",
      "100%|██████████| 4/4 [00:15<00:00,  3.92s/it]\n",
      "100%|██████████| 4/4 [00:15<00:00,  3.92s/it]\n",
      "100%|██████████| 4/4 [00:15<00:00,  3.92s/it]\n",
      "100%|██████████| 4/4 [00:15<00:00,  3.91s/it]\n",
      "100%|██████████| 4/4 [00:15<00:00,  3.92s/it]\n",
      "100%|██████████| 4/4 [00:15<00:00,  3.91s/it]\n"
     ]
    },
    {
     "name": "stdout",
     "output_type": "stream",
     "text": [
      "step 6600: train loss 5.5060, val loss 5.6322\n",
      "train ppl 246.17, val ppl 279.27\n",
      "📈 Train/Val Gap: 0.1262 (2.29%)\n",
      "✅ 新的最佳驗證損失: 5.6322\n"
     ]
    },
    {
     "name": "stderr",
     "output_type": "stream",
     "text": [
      "100%|██████████| 4/4 [00:16<00:00,  4.01s/it]\n"
     ]
    },
    {
     "name": "stdout",
     "output_type": "stream",
     "text": [
      "iter 6600: loss 5.8858, time 110454.86ms\n"
     ]
    },
    {
     "name": "stderr",
     "output_type": "stream",
     "text": [
      "100%|██████████| 4/4 [00:16<00:00,  4.01s/it]\n",
      "100%|██████████| 4/4 [00:16<00:00,  4.02s/it]\n",
      "100%|██████████| 4/4 [00:16<00:00,  4.02s/it]\n",
      "100%|██████████| 4/4 [00:16<00:00,  4.02s/it]\n",
      "100%|██████████| 4/4 [00:16<00:00,  4.02s/it]\n",
      "100%|██████████| 4/4 [00:16<00:00,  4.02s/it]\n",
      "100%|██████████| 4/4 [00:16<00:00,  4.02s/it]\n",
      "100%|██████████| 4/4 [00:16<00:00,  4.02s/it]\n",
      "100%|██████████| 4/4 [00:16<00:00,  4.02s/it]\n",
      "100%|██████████| 4/4 [00:16<00:00,  4.02s/it]\n",
      "100%|██████████| 4/4 [00:16<00:00,  4.02s/it]\n",
      "100%|██████████| 4/4 [00:16<00:00,  4.02s/it]\n",
      "100%|██████████| 4/4 [00:16<00:00,  4.02s/it]\n",
      "100%|██████████| 4/4 [00:16<00:00,  4.03s/it]\n",
      "100%|██████████| 4/4 [00:16<00:00,  4.02s/it]\n",
      "100%|██████████| 4/4 [00:16<00:00,  4.04s/it]\n",
      "100%|██████████| 4/4 [00:16<00:00,  4.02s/it]\n",
      "100%|██████████| 4/4 [00:16<00:00,  4.02s/it]\n",
      "100%|██████████| 4/4 [00:16<00:00,  4.02s/it]\n",
      "100%|██████████| 4/4 [00:16<00:00,  4.02s/it]\n"
     ]
    },
    {
     "name": "stdout",
     "output_type": "stream",
     "text": [
      "iter 6620: loss 5.9298, time 16105.06ms\n"
     ]
    },
    {
     "name": "stderr",
     "output_type": "stream",
     "text": [
      "100%|██████████| 4/4 [00:16<00:00,  4.01s/it]\n",
      "100%|██████████| 4/4 [00:16<00:00,  4.02s/it]\n",
      "100%|██████████| 4/4 [00:16<00:00,  4.02s/it]\n",
      "100%|██████████| 4/4 [00:16<00:00,  4.02s/it]\n",
      "100%|██████████| 4/4 [00:16<00:00,  4.02s/it]\n",
      "100%|██████████| 4/4 [00:16<00:00,  4.02s/it]\n",
      "100%|██████████| 4/4 [00:16<00:00,  4.02s/it]\n",
      "100%|██████████| 4/4 [00:16<00:00,  4.04s/it]\n",
      "100%|██████████| 4/4 [00:16<00:00,  4.03s/it]\n",
      "100%|██████████| 4/4 [00:16<00:00,  4.02s/it]\n",
      "100%|██████████| 4/4 [00:16<00:00,  4.02s/it]\n",
      "100%|██████████| 4/4 [00:16<00:00,  4.02s/it]\n",
      "100%|██████████| 4/4 [00:16<00:00,  4.02s/it]\n",
      "100%|██████████| 4/4 [00:16<00:00,  4.02s/it]\n",
      "100%|██████████| 4/4 [00:16<00:00,  4.02s/it]\n",
      "100%|██████████| 4/4 [00:16<00:00,  4.02s/it]\n",
      "100%|██████████| 4/4 [00:16<00:00,  4.02s/it]\n",
      "100%|██████████| 4/4 [00:16<00:00,  4.02s/it]\n",
      "100%|██████████| 4/4 [00:16<00:00,  4.02s/it]\n",
      "100%|██████████| 4/4 [00:16<00:00,  4.02s/it]\n"
     ]
    },
    {
     "name": "stdout",
     "output_type": "stream",
     "text": [
      "iter 6640: loss 5.6967, time 16112.42ms\n"
     ]
    },
    {
     "name": "stderr",
     "output_type": "stream",
     "text": [
      "100%|██████████| 4/4 [00:16<00:00,  4.02s/it]\n",
      "100%|██████████| 4/4 [00:16<00:00,  4.02s/it]\n",
      "100%|██████████| 4/4 [00:16<00:00,  4.02s/it]\n",
      "100%|██████████| 4/4 [00:16<00:00,  4.04s/it]\n",
      "100%|██████████| 4/4 [00:16<00:00,  4.02s/it]\n",
      "100%|██████████| 4/4 [00:16<00:00,  4.02s/it]\n",
      "100%|██████████| 4/4 [00:16<00:00,  4.02s/it]\n",
      "100%|██████████| 4/4 [00:16<00:00,  4.02s/it]\n",
      "100%|██████████| 4/4 [00:16<00:00,  4.02s/it]\n",
      "100%|██████████| 4/4 [00:16<00:00,  4.02s/it]\n",
      "100%|██████████| 4/4 [00:16<00:00,  4.02s/it]\n",
      "100%|██████████| 4/4 [00:16<00:00,  4.02s/it]\n",
      "100%|██████████| 4/4 [00:16<00:00,  4.02s/it]\n",
      "100%|██████████| 4/4 [00:16<00:00,  4.02s/it]\n",
      "100%|██████████| 4/4 [00:16<00:00,  4.02s/it]\n",
      "100%|██████████| 4/4 [00:16<00:00,  4.02s/it]\n",
      "100%|██████████| 4/4 [00:16<00:00,  4.02s/it]\n",
      "100%|██████████| 4/4 [00:16<00:00,  4.02s/it]\n",
      "100%|██████████| 4/4 [00:16<00:00,  4.02s/it]\n",
      "100%|██████████| 4/4 [00:16<00:00,  4.02s/it]\n"
     ]
    },
    {
     "name": "stdout",
     "output_type": "stream",
     "text": [
      "iter 6660: loss 5.6618, time 16108.60ms\n"
     ]
    },
    {
     "name": "stderr",
     "output_type": "stream",
     "text": [
      "100%|██████████| 4/4 [00:16<00:00,  4.02s/it]\n",
      "100%|██████████| 4/4 [00:16<00:00,  4.02s/it]\n",
      "100%|██████████| 4/4 [00:16<00:00,  4.02s/it]\n",
      "100%|██████████| 4/4 [00:16<00:00,  4.02s/it]\n",
      "100%|██████████| 4/4 [00:16<00:00,  4.01s/it]\n",
      "100%|██████████| 4/4 [00:16<00:00,  4.02s/it]\n",
      "100%|██████████| 4/4 [00:16<00:00,  4.02s/it]\n",
      "100%|██████████| 4/4 [00:16<00:00,  4.02s/it]\n",
      "100%|██████████| 4/4 [00:16<00:00,  4.02s/it]\n",
      "100%|██████████| 4/4 [00:16<00:00,  4.03s/it]\n",
      "100%|██████████| 4/4 [00:16<00:00,  4.02s/it]\n",
      "100%|██████████| 4/4 [00:16<00:00,  4.02s/it]\n",
      "100%|██████████| 4/4 [00:16<00:00,  4.02s/it]\n",
      "100%|██████████| 4/4 [00:16<00:00,  4.02s/it]\n",
      "100%|██████████| 4/4 [00:16<00:00,  4.02s/it]\n",
      "100%|██████████| 4/4 [00:16<00:00,  4.02s/it]\n",
      "100%|██████████| 4/4 [00:16<00:00,  4.02s/it]\n",
      "100%|██████████| 4/4 [00:16<00:00,  4.02s/it]\n",
      "100%|██████████| 4/4 [00:16<00:00,  4.02s/it]\n",
      "100%|██████████| 4/4 [00:16<00:00,  4.02s/it]\n"
     ]
    },
    {
     "name": "stdout",
     "output_type": "stream",
     "text": [
      "iter 6680: loss 6.0206, time 16099.84ms\n"
     ]
    },
    {
     "name": "stderr",
     "output_type": "stream",
     "text": [
      "100%|██████████| 4/4 [00:16<00:00,  4.01s/it]\n",
      "100%|██████████| 4/4 [00:16<00:00,  4.02s/it]\n",
      "100%|██████████| 4/4 [00:16<00:00,  4.02s/it]\n",
      "100%|██████████| 4/4 [00:16<00:00,  4.02s/it]\n",
      "100%|██████████| 4/4 [00:16<00:00,  4.02s/it]\n",
      "100%|██████████| 4/4 [00:16<00:00,  4.02s/it]\n",
      "100%|██████████| 4/4 [00:16<00:00,  4.01s/it]\n",
      "100%|██████████| 4/4 [00:16<00:00,  4.02s/it]\n",
      "100%|██████████| 4/4 [00:16<00:00,  4.02s/it]\n",
      "100%|██████████| 4/4 [00:16<00:00,  4.02s/it]\n",
      "100%|██████████| 4/4 [00:16<00:00,  4.02s/it]\n",
      "100%|██████████| 4/4 [00:16<00:00,  4.02s/it]\n",
      "100%|██████████| 4/4 [00:16<00:00,  4.02s/it]\n",
      "100%|██████████| 4/4 [00:16<00:00,  4.02s/it]\n",
      "100%|██████████| 4/4 [00:16<00:00,  4.02s/it]\n",
      "100%|██████████| 4/4 [00:16<00:00,  4.02s/it]\n",
      "100%|██████████| 4/4 [00:16<00:00,  4.02s/it]\n",
      "100%|██████████| 4/4 [00:16<00:00,  4.03s/it]\n",
      "100%|██████████| 4/4 [00:16<00:00,  4.02s/it]\n",
      "100%|██████████| 4/4 [00:16<00:00,  4.03s/it]\n"
     ]
    },
    {
     "name": "stdout",
     "output_type": "stream",
     "text": [
      "iter 6700: loss 4.9569, time 16139.68ms\n"
     ]
    },
    {
     "name": "stderr",
     "output_type": "stream",
     "text": [
      "100%|██████████| 4/4 [00:16<00:00,  4.02s/it]\n",
      "100%|██████████| 4/4 [00:16<00:00,  4.02s/it]\n",
      "100%|██████████| 4/4 [00:16<00:00,  4.02s/it]\n",
      "100%|██████████| 4/4 [00:16<00:00,  4.02s/it]\n",
      "100%|██████████| 4/4 [00:16<00:00,  4.02s/it]\n",
      "100%|██████████| 4/4 [00:16<00:00,  4.02s/it]\n",
      "100%|██████████| 4/4 [00:16<00:00,  4.04s/it]\n",
      "100%|██████████| 4/4 [00:16<00:00,  4.02s/it]\n",
      "100%|██████████| 4/4 [00:16<00:00,  4.02s/it]\n",
      "100%|██████████| 4/4 [00:16<00:00,  4.02s/it]\n",
      "100%|██████████| 4/4 [00:16<00:00,  4.03s/it]\n",
      "100%|██████████| 4/4 [00:16<00:00,  4.02s/it]\n",
      "100%|██████████| 4/4 [00:16<00:00,  4.02s/it]\n",
      "100%|██████████| 4/4 [00:16<00:00,  4.02s/it]\n",
      "100%|██████████| 4/4 [00:16<00:00,  4.02s/it]\n",
      "100%|██████████| 4/4 [00:16<00:00,  4.02s/it]\n",
      "100%|██████████| 4/4 [00:16<00:00,  4.02s/it]\n",
      "100%|██████████| 4/4 [00:16<00:00,  4.02s/it]\n",
      "100%|██████████| 4/4 [00:16<00:00,  4.02s/it]\n",
      "100%|██████████| 4/4 [00:16<00:00,  4.02s/it]\n"
     ]
    },
    {
     "name": "stdout",
     "output_type": "stream",
     "text": [
      "iter 6720: loss 5.8378, time 16101.48ms\n"
     ]
    },
    {
     "name": "stderr",
     "output_type": "stream",
     "text": [
      "100%|██████████| 4/4 [00:16<00:00,  4.02s/it]\n",
      "100%|██████████| 4/4 [00:16<00:00,  4.02s/it]\n",
      "100%|██████████| 4/4 [00:16<00:00,  4.02s/it]\n",
      "100%|██████████| 4/4 [00:16<00:00,  4.02s/it]\n",
      "100%|██████████| 4/4 [00:16<00:00,  4.01s/it]\n",
      "100%|██████████| 4/4 [00:16<00:00,  4.02s/it]\n",
      "100%|██████████| 4/4 [00:16<00:00,  4.02s/it]\n",
      "100%|██████████| 4/4 [00:16<00:00,  4.02s/it]\n",
      "100%|██████████| 4/4 [00:16<00:00,  4.02s/it]\n",
      "100%|██████████| 4/4 [00:16<00:00,  4.02s/it]\n",
      "100%|██████████| 4/4 [00:16<00:00,  4.02s/it]\n",
      "100%|██████████| 4/4 [00:16<00:00,  4.02s/it]\n",
      "100%|██████████| 4/4 [00:16<00:00,  4.02s/it]\n",
      "100%|██████████| 4/4 [00:16<00:00,  4.02s/it]\n",
      "100%|██████████| 4/4 [00:16<00:00,  4.02s/it]\n",
      "100%|██████████| 4/4 [00:16<00:00,  4.02s/it]\n",
      "100%|██████████| 4/4 [00:16<00:00,  4.02s/it]\n",
      "100%|██████████| 4/4 [00:16<00:00,  4.02s/it]\n",
      "100%|██████████| 4/4 [00:16<00:00,  4.02s/it]\n",
      "100%|██████████| 4/4 [00:16<00:00,  4.02s/it]\n"
     ]
    },
    {
     "name": "stdout",
     "output_type": "stream",
     "text": [
      "iter 6740: loss 5.8509, time 16111.17ms\n"
     ]
    },
    {
     "name": "stderr",
     "output_type": "stream",
     "text": [
      "100%|██████████| 4/4 [00:16<00:00,  4.02s/it]\n",
      "100%|██████████| 4/4 [00:16<00:00,  4.02s/it]\n",
      "100%|██████████| 4/4 [00:16<00:00,  4.02s/it]\n",
      "100%|██████████| 4/4 [00:16<00:00,  4.02s/it]\n",
      "100%|██████████| 4/4 [00:16<00:00,  4.03s/it]\n",
      "100%|██████████| 4/4 [00:16<00:00,  4.02s/it]\n",
      "100%|██████████| 4/4 [00:16<00:00,  4.02s/it]\n",
      "100%|██████████| 4/4 [00:16<00:00,  4.02s/it]\n",
      "100%|██████████| 4/4 [00:16<00:00,  4.02s/it]\n",
      "100%|██████████| 4/4 [00:16<00:00,  4.02s/it]\n",
      "100%|██████████| 4/4 [00:16<00:00,  4.01s/it]\n",
      "100%|██████████| 4/4 [00:16<00:00,  4.02s/it]\n",
      "100%|██████████| 4/4 [00:16<00:00,  4.02s/it]\n",
      "100%|██████████| 4/4 [00:16<00:00,  4.02s/it]\n",
      "100%|██████████| 4/4 [00:16<00:00,  4.02s/it]\n",
      "100%|██████████| 4/4 [00:16<00:00,  4.03s/it]\n",
      "100%|██████████| 4/4 [00:16<00:00,  4.03s/it]\n",
      "100%|██████████| 4/4 [00:16<00:00,  4.03s/it]\n",
      "100%|██████████| 4/4 [00:16<00:00,  4.04s/it]\n",
      "100%|██████████| 4/4 [00:16<00:00,  4.03s/it]\n"
     ]
    },
    {
     "name": "stdout",
     "output_type": "stream",
     "text": [
      "iter 6760: loss 5.4946, time 16151.13ms\n"
     ]
    },
    {
     "name": "stderr",
     "output_type": "stream",
     "text": [
      "100%|██████████| 4/4 [00:16<00:00,  4.02s/it]\n",
      "100%|██████████| 4/4 [00:16<00:00,  4.03s/it]\n",
      "100%|██████████| 4/4 [00:16<00:00,  4.04s/it]\n",
      "100%|██████████| 4/4 [00:16<00:00,  4.03s/it]\n",
      "100%|██████████| 4/4 [00:16<00:00,  4.03s/it]\n",
      "100%|██████████| 4/4 [00:16<00:00,  4.03s/it]\n",
      "100%|██████████| 4/4 [00:16<00:00,  4.04s/it]\n",
      "100%|██████████| 4/4 [00:16<00:00,  4.03s/it]\n",
      "100%|██████████| 4/4 [00:16<00:00,  4.03s/it]\n",
      "100%|██████████| 4/4 [00:16<00:00,  4.04s/it]\n",
      "100%|██████████| 4/4 [00:16<00:00,  4.04s/it]\n",
      "100%|██████████| 4/4 [00:16<00:00,  4.03s/it]\n",
      "100%|██████████| 4/4 [00:16<00:00,  4.03s/it]\n",
      "100%|██████████| 4/4 [00:16<00:00,  4.04s/it]\n",
      "100%|██████████| 4/4 [00:16<00:00,  4.03s/it]\n",
      "100%|██████████| 4/4 [00:16<00:00,  4.03s/it]\n",
      "100%|██████████| 4/4 [00:16<00:00,  4.03s/it]\n",
      "100%|██████████| 4/4 [00:16<00:00,  4.04s/it]\n",
      "100%|██████████| 4/4 [00:16<00:00,  4.02s/it]\n",
      "100%|██████████| 4/4 [00:16<00:00,  4.03s/it]\n"
     ]
    },
    {
     "name": "stdout",
     "output_type": "stream",
     "text": [
      "iter 6780: loss 5.4645, time 16148.97ms\n"
     ]
    },
    {
     "name": "stderr",
     "output_type": "stream",
     "text": [
      "100%|██████████| 4/4 [00:16<00:00,  4.02s/it]\n",
      "100%|██████████| 4/4 [00:16<00:00,  4.03s/it]\n",
      "100%|██████████| 4/4 [00:16<00:00,  4.03s/it]\n",
      "100%|██████████| 4/4 [00:16<00:00,  4.03s/it]\n",
      "100%|██████████| 4/4 [00:16<00:00,  4.03s/it]\n",
      "100%|██████████| 4/4 [00:16<00:00,  4.04s/it]\n",
      "100%|██████████| 4/4 [00:16<00:00,  4.03s/it]\n",
      "100%|██████████| 4/4 [00:16<00:00,  4.03s/it]\n",
      "100%|██████████| 4/4 [00:16<00:00,  4.03s/it]\n",
      "100%|██████████| 4/4 [00:16<00:00,  4.03s/it]\n",
      "100%|██████████| 4/4 [00:16<00:00,  4.03s/it]\n",
      "100%|██████████| 4/4 [00:16<00:00,  4.02s/it]\n",
      "100%|██████████| 4/4 [00:16<00:00,  4.04s/it]\n",
      "100%|██████████| 4/4 [00:16<00:00,  4.03s/it]\n",
      "100%|██████████| 4/4 [00:16<00:00,  4.03s/it]\n",
      "100%|██████████| 4/4 [00:16<00:00,  4.03s/it]\n",
      "100%|██████████| 4/4 [00:16<00:00,  4.03s/it]\n",
      "100%|██████████| 4/4 [00:16<00:00,  4.03s/it]\n",
      "100%|██████████| 4/4 [00:16<00:00,  4.03s/it]\n"
     ]
    },
    {
     "name": "stdout",
     "output_type": "stream",
     "text": [
      "step 6800: train loss 5.6166, val loss 5.5586\n",
      "train ppl 274.95, val ppl 259.45\n",
      "📈 Train/Val Gap: -0.0580 (-1.03%)\n",
      "✅ 新的最佳驗證損失: 5.5586\n"
     ]
    },
    {
     "name": "stderr",
     "output_type": "stream",
     "text": [
      "100%|██████████| 4/4 [00:16<00:00,  4.03s/it]\n"
     ]
    },
    {
     "name": "stdout",
     "output_type": "stream",
     "text": [
      "iter 6800: loss 5.6080, time 111953.26ms\n"
     ]
    },
    {
     "name": "stderr",
     "output_type": "stream",
     "text": [
      "100%|██████████| 4/4 [00:16<00:00,  4.03s/it]\n",
      "100%|██████████| 4/4 [00:16<00:00,  4.04s/it]\n",
      "100%|██████████| 4/4 [00:16<00:00,  4.03s/it]\n",
      "100%|██████████| 4/4 [00:16<00:00,  4.03s/it]\n",
      "100%|██████████| 4/4 [00:16<00:00,  4.03s/it]\n",
      "100%|██████████| 4/4 [00:16<00:00,  4.03s/it]\n",
      "100%|██████████| 4/4 [00:16<00:00,  4.03s/it]\n",
      "100%|██████████| 4/4 [00:16<00:00,  4.03s/it]\n",
      "100%|██████████| 4/4 [00:16<00:00,  4.04s/it]\n",
      "100%|██████████| 4/4 [00:16<00:00,  4.04s/it]\n",
      "100%|██████████| 4/4 [00:16<00:00,  4.03s/it]\n",
      "100%|██████████| 4/4 [00:16<00:00,  4.03s/it]\n",
      "100%|██████████| 4/4 [00:16<00:00,  4.04s/it]\n",
      "100%|██████████| 4/4 [00:16<00:00,  4.05s/it]\n",
      "100%|██████████| 4/4 [00:16<00:00,  4.03s/it]\n",
      "100%|██████████| 4/4 [00:16<00:00,  4.03s/it]\n",
      "100%|██████████| 4/4 [00:16<00:00,  4.03s/it]\n",
      "100%|██████████| 4/4 [00:16<00:00,  4.04s/it]\n",
      "100%|██████████| 4/4 [00:16<00:00,  4.03s/it]\n",
      "100%|██████████| 4/4 [00:16<00:00,  4.03s/it]\n"
     ]
    },
    {
     "name": "stdout",
     "output_type": "stream",
     "text": [
      "iter 6820: loss 5.9202, time 16161.72ms\n"
     ]
    },
    {
     "name": "stderr",
     "output_type": "stream",
     "text": [
      "100%|██████████| 4/4 [00:16<00:00,  4.02s/it]\n",
      "100%|██████████| 4/4 [00:16<00:00,  4.04s/it]\n",
      "100%|██████████| 4/4 [00:16<00:00,  4.04s/it]\n",
      "100%|██████████| 4/4 [00:16<00:00,  4.04s/it]\n",
      "100%|██████████| 4/4 [00:16<00:00,  4.03s/it]\n",
      "100%|██████████| 4/4 [00:16<00:00,  4.05s/it]\n",
      "100%|██████████| 4/4 [00:16<00:00,  4.03s/it]\n",
      "100%|██████████| 4/4 [00:16<00:00,  4.04s/it]\n",
      "100%|██████████| 4/4 [00:16<00:00,  4.03s/it]\n",
      "100%|██████████| 4/4 [00:16<00:00,  4.03s/it]\n",
      "100%|██████████| 4/4 [00:16<00:00,  4.03s/it]\n",
      "100%|██████████| 4/4 [00:16<00:00,  4.04s/it]\n",
      "100%|██████████| 4/4 [00:16<00:00,  4.03s/it]\n",
      "100%|██████████| 4/4 [00:16<00:00,  4.03s/it]\n",
      "100%|██████████| 4/4 [00:16<00:00,  4.03s/it]\n",
      "100%|██████████| 4/4 [00:16<00:00,  4.03s/it]\n",
      "100%|██████████| 4/4 [00:16<00:00,  4.02s/it]\n",
      "100%|██████████| 4/4 [00:16<00:00,  4.03s/it]\n",
      "100%|██████████| 4/4 [00:16<00:00,  4.03s/it]\n",
      "100%|██████████| 4/4 [00:16<00:00,  4.03s/it]\n"
     ]
    },
    {
     "name": "stdout",
     "output_type": "stream",
     "text": [
      "iter 6840: loss 6.0354, time 16136.99ms\n"
     ]
    },
    {
     "name": "stderr",
     "output_type": "stream",
     "text": [
      "100%|██████████| 4/4 [00:16<00:00,  4.02s/it]\n",
      "100%|██████████| 4/4 [00:16<00:00,  4.05s/it]\n",
      "100%|██████████| 4/4 [00:16<00:00,  4.04s/it]\n",
      "100%|██████████| 4/4 [00:16<00:00,  4.03s/it]\n",
      "100%|██████████| 4/4 [00:16<00:00,  4.03s/it]\n",
      "100%|██████████| 4/4 [00:16<00:00,  4.04s/it]\n",
      "100%|██████████| 4/4 [00:16<00:00,  4.03s/it]\n",
      "100%|██████████| 4/4 [00:16<00:00,  4.03s/it]\n",
      "100%|██████████| 4/4 [00:16<00:00,  4.03s/it]\n",
      "100%|██████████| 4/4 [00:16<00:00,  4.04s/it]\n",
      "100%|██████████| 4/4 [00:16<00:00,  4.03s/it]\n",
      "100%|██████████| 4/4 [00:16<00:00,  4.03s/it]\n",
      "100%|██████████| 4/4 [00:16<00:00,  4.03s/it]\n",
      "100%|██████████| 4/4 [00:16<00:00,  4.04s/it]\n",
      "100%|██████████| 4/4 [00:16<00:00,  4.03s/it]\n",
      "100%|██████████| 4/4 [00:16<00:00,  4.03s/it]\n",
      "100%|██████████| 4/4 [00:16<00:00,  4.03s/it]\n",
      "100%|██████████| 4/4 [00:16<00:00,  4.03s/it]\n",
      "100%|██████████| 4/4 [00:16<00:00,  4.03s/it]\n",
      "100%|██████████| 4/4 [00:16<00:00,  4.03s/it]\n"
     ]
    },
    {
     "name": "stdout",
     "output_type": "stream",
     "text": [
      "iter 6860: loss 6.0583, time 16164.95ms\n"
     ]
    },
    {
     "name": "stderr",
     "output_type": "stream",
     "text": [
      "100%|██████████| 4/4 [00:16<00:00,  4.03s/it]\n",
      "100%|██████████| 4/4 [00:16<00:00,  4.03s/it]\n",
      "100%|██████████| 4/4 [00:16<00:00,  4.03s/it]\n",
      "100%|██████████| 4/4 [00:16<00:00,  4.03s/it]\n",
      "100%|██████████| 4/4 [00:16<00:00,  4.03s/it]\n",
      "100%|██████████| 4/4 [00:16<00:00,  4.03s/it]\n",
      "100%|██████████| 4/4 [00:16<00:00,  4.03s/it]\n",
      "100%|██████████| 4/4 [00:16<00:00,  4.03s/it]\n",
      "100%|██████████| 4/4 [00:16<00:00,  4.04s/it]\n",
      "100%|██████████| 4/4 [00:16<00:00,  4.03s/it]\n",
      "100%|██████████| 4/4 [00:16<00:00,  4.03s/it]\n",
      "100%|██████████| 4/4 [00:16<00:00,  4.05s/it]\n",
      "100%|██████████| 4/4 [00:16<00:00,  4.04s/it]\n",
      "100%|██████████| 4/4 [00:16<00:00,  4.03s/it]\n",
      "100%|██████████| 4/4 [00:16<00:00,  4.03s/it]\n",
      "100%|██████████| 4/4 [00:16<00:00,  4.04s/it]\n",
      "100%|██████████| 4/4 [00:16<00:00,  4.03s/it]\n",
      "100%|██████████| 4/4 [00:16<00:00,  4.03s/it]\n",
      "100%|██████████| 4/4 [00:16<00:00,  4.03s/it]\n",
      "100%|██████████| 4/4 [00:16<00:00,  4.04s/it]\n"
     ]
    },
    {
     "name": "stdout",
     "output_type": "stream",
     "text": [
      "iter 6880: loss 5.7186, time 16165.38ms\n"
     ]
    },
    {
     "name": "stderr",
     "output_type": "stream",
     "text": [
      "100%|██████████| 4/4 [00:16<00:00,  4.03s/it]\n",
      "100%|██████████| 4/4 [00:16<00:00,  4.03s/it]\n",
      "100%|██████████| 4/4 [00:16<00:00,  4.03s/it]\n",
      "100%|██████████| 4/4 [00:16<00:00,  4.03s/it]\n",
      "100%|██████████| 4/4 [00:16<00:00,  4.03s/it]\n",
      "100%|██████████| 4/4 [00:16<00:00,  4.03s/it]\n",
      "100%|██████████| 4/4 [00:16<00:00,  4.03s/it]\n",
      "100%|██████████| 4/4 [00:16<00:00,  4.03s/it]\n",
      "100%|██████████| 4/4 [00:16<00:00,  4.03s/it]\n",
      "100%|██████████| 4/4 [00:16<00:00,  4.03s/it]\n",
      "100%|██████████| 4/4 [00:16<00:00,  4.03s/it]\n",
      "100%|██████████| 4/4 [00:16<00:00,  4.03s/it]\n",
      "100%|██████████| 4/4 [00:16<00:00,  4.03s/it]\n",
      "100%|██████████| 4/4 [00:16<00:00,  4.03s/it]\n",
      "100%|██████████| 4/4 [00:16<00:00,  4.06s/it]\n",
      "100%|██████████| 4/4 [00:16<00:00,  4.06s/it]\n",
      "100%|██████████| 4/4 [00:16<00:00,  4.06s/it]\n",
      "100%|██████████| 4/4 [00:16<00:00,  4.07s/it]\n",
      "100%|██████████| 4/4 [00:16<00:00,  4.06s/it]\n",
      "100%|██████████| 4/4 [00:16<00:00,  4.06s/it]\n"
     ]
    },
    {
     "name": "stdout",
     "output_type": "stream",
     "text": [
      "iter 6900: loss 5.5290, time 16269.36ms\n"
     ]
    },
    {
     "name": "stderr",
     "output_type": "stream",
     "text": [
      "100%|██████████| 4/4 [00:16<00:00,  4.06s/it]\n",
      "100%|██████████| 4/4 [00:16<00:00,  4.07s/it]\n",
      "100%|██████████| 4/4 [00:16<00:00,  4.06s/it]\n",
      "100%|██████████| 4/4 [00:16<00:00,  4.06s/it]\n",
      "100%|██████████| 4/4 [00:16<00:00,  4.06s/it]\n",
      "100%|██████████| 4/4 [00:16<00:00,  4.06s/it]\n",
      "100%|██████████| 4/4 [00:16<00:00,  4.06s/it]\n",
      "100%|██████████| 4/4 [00:16<00:00,  4.07s/it]\n",
      "100%|██████████| 4/4 [00:16<00:00,  4.06s/it]\n",
      "100%|██████████| 4/4 [00:16<00:00,  4.06s/it]\n",
      "100%|██████████| 4/4 [00:16<00:00,  4.06s/it]\n",
      "100%|██████████| 4/4 [00:16<00:00,  4.06s/it]\n",
      "100%|██████████| 4/4 [00:16<00:00,  4.06s/it]\n",
      "100%|██████████| 4/4 [00:16<00:00,  4.06s/it]\n",
      "100%|██████████| 4/4 [00:16<00:00,  4.06s/it]\n",
      "100%|██████████| 4/4 [00:16<00:00,  4.07s/it]\n",
      "100%|██████████| 4/4 [00:16<00:00,  4.07s/it]\n",
      "100%|██████████| 4/4 [00:16<00:00,  4.06s/it]\n",
      "100%|██████████| 4/4 [00:16<00:00,  4.06s/it]\n",
      "100%|██████████| 4/4 [00:16<00:00,  4.06s/it]\n"
     ]
    },
    {
     "name": "stdout",
     "output_type": "stream",
     "text": [
      "iter 6920: loss 5.1491, time 16278.86ms\n"
     ]
    },
    {
     "name": "stderr",
     "output_type": "stream",
     "text": [
      "100%|██████████| 4/4 [00:16<00:00,  4.06s/it]\n",
      "100%|██████████| 4/4 [00:16<00:00,  4.06s/it]\n",
      "100%|██████████| 4/4 [00:16<00:00,  4.06s/it]\n",
      "100%|██████████| 4/4 [00:16<00:00,  4.06s/it]\n",
      "100%|██████████| 4/4 [00:16<00:00,  4.06s/it]\n",
      "100%|██████████| 4/4 [00:16<00:00,  4.06s/it]\n",
      "100%|██████████| 4/4 [00:16<00:00,  4.06s/it]\n",
      "100%|██████████| 4/4 [00:16<00:00,  4.07s/it]\n",
      "100%|██████████| 4/4 [00:16<00:00,  4.06s/it]\n",
      "100%|██████████| 4/4 [00:16<00:00,  4.06s/it]\n",
      "100%|██████████| 4/4 [00:16<00:00,  4.07s/it]\n",
      "100%|██████████| 4/4 [00:16<00:00,  4.07s/it]\n",
      "100%|██████████| 4/4 [00:16<00:00,  4.06s/it]\n",
      "100%|██████████| 4/4 [00:16<00:00,  4.06s/it]\n",
      "100%|██████████| 4/4 [00:16<00:00,  4.06s/it]\n",
      "100%|██████████| 4/4 [00:16<00:00,  4.06s/it]\n",
      "100%|██████████| 4/4 [00:16<00:00,  4.07s/it]\n",
      "100%|██████████| 4/4 [00:16<00:00,  4.06s/it]\n",
      "100%|██████████| 4/4 [00:16<00:00,  4.07s/it]\n",
      "100%|██████████| 4/4 [00:16<00:00,  4.06s/it]\n"
     ]
    },
    {
     "name": "stdout",
     "output_type": "stream",
     "text": [
      "iter 6940: loss 5.2195, time 16268.26ms\n"
     ]
    },
    {
     "name": "stderr",
     "output_type": "stream",
     "text": [
      "100%|██████████| 4/4 [00:16<00:00,  4.06s/it]\n",
      "100%|██████████| 4/4 [00:16<00:00,  4.06s/it]\n",
      "100%|██████████| 4/4 [00:16<00:00,  4.07s/it]\n",
      "100%|██████████| 4/4 [00:16<00:00,  4.06s/it]\n",
      "100%|██████████| 4/4 [00:16<00:00,  4.06s/it]\n",
      "100%|██████████| 4/4 [00:16<00:00,  4.07s/it]\n",
      "100%|██████████| 4/4 [00:16<00:00,  4.06s/it]\n",
      "100%|██████████| 4/4 [00:16<00:00,  4.06s/it]\n",
      "100%|██████████| 4/4 [00:16<00:00,  4.06s/it]\n",
      "100%|██████████| 4/4 [00:16<00:00,  4.06s/it]\n",
      "100%|██████████| 4/4 [00:16<00:00,  4.06s/it]\n",
      "100%|██████████| 4/4 [00:16<00:00,  4.06s/it]\n",
      "100%|██████████| 4/4 [00:16<00:00,  4.06s/it]\n",
      "100%|██████████| 4/4 [00:16<00:00,  4.07s/it]\n",
      "100%|██████████| 4/4 [00:16<00:00,  4.06s/it]\n",
      "100%|██████████| 4/4 [00:16<00:00,  4.06s/it]\n",
      "100%|██████████| 4/4 [00:16<00:00,  4.06s/it]\n",
      "100%|██████████| 4/4 [00:16<00:00,  4.06s/it]\n",
      "100%|██████████| 4/4 [00:16<00:00,  4.06s/it]\n",
      "100%|██████████| 4/4 [00:16<00:00,  4.06s/it]\n"
     ]
    },
    {
     "name": "stdout",
     "output_type": "stream",
     "text": [
      "iter 6960: loss 5.1447, time 16283.50ms\n"
     ]
    },
    {
     "name": "stderr",
     "output_type": "stream",
     "text": [
      "100%|██████████| 4/4 [00:16<00:00,  4.06s/it]\n",
      "100%|██████████| 4/4 [00:16<00:00,  4.06s/it]\n",
      "100%|██████████| 4/4 [00:16<00:00,  4.06s/it]\n",
      "100%|██████████| 4/4 [00:16<00:00,  4.06s/it]\n",
      "100%|██████████| 4/4 [00:16<00:00,  4.06s/it]\n",
      "100%|██████████| 4/4 [00:16<00:00,  4.06s/it]\n",
      "100%|██████████| 4/4 [00:16<00:00,  4.06s/it]\n",
      "100%|██████████| 4/4 [00:16<00:00,  4.06s/it]\n",
      "100%|██████████| 4/4 [00:16<00:00,  4.06s/it]\n",
      "100%|██████████| 4/4 [00:16<00:00,  4.06s/it]\n",
      "100%|██████████| 4/4 [00:16<00:00,  4.06s/it]\n",
      "100%|██████████| 4/4 [00:16<00:00,  4.07s/it]\n",
      "100%|██████████| 4/4 [00:16<00:00,  4.06s/it]\n",
      "100%|██████████| 4/4 [00:16<00:00,  4.06s/it]\n",
      "100%|██████████| 4/4 [00:16<00:00,  4.06s/it]\n",
      "100%|██████████| 4/4 [00:16<00:00,  4.06s/it]\n",
      "100%|██████████| 4/4 [00:16<00:00,  4.06s/it]\n",
      "100%|██████████| 4/4 [00:16<00:00,  4.06s/it]\n",
      "100%|██████████| 4/4 [00:16<00:00,  4.06s/it]\n",
      "100%|██████████| 4/4 [00:16<00:00,  4.06s/it]\n"
     ]
    },
    {
     "name": "stdout",
     "output_type": "stream",
     "text": [
      "iter 6980: loss 5.8080, time 16258.96ms\n"
     ]
    },
    {
     "name": "stderr",
     "output_type": "stream",
     "text": [
      "100%|██████████| 4/4 [00:16<00:00,  4.06s/it]\n",
      "100%|██████████| 4/4 [00:16<00:00,  4.06s/it]\n",
      "100%|██████████| 4/4 [00:16<00:00,  4.07s/it]\n",
      "100%|██████████| 4/4 [00:16<00:00,  4.06s/it]\n",
      "100%|██████████| 4/4 [00:16<00:00,  4.06s/it]\n",
      "100%|██████████| 4/4 [00:16<00:00,  4.06s/it]\n",
      "100%|██████████| 4/4 [00:16<00:00,  4.07s/it]\n",
      "100%|██████████| 4/4 [00:16<00:00,  4.06s/it]\n",
      "100%|██████████| 4/4 [00:16<00:00,  4.06s/it]\n",
      "100%|██████████| 4/4 [00:16<00:00,  4.06s/it]\n",
      "100%|██████████| 4/4 [00:16<00:00,  4.06s/it]\n",
      "100%|██████████| 4/4 [00:16<00:00,  4.06s/it]\n",
      "100%|██████████| 4/4 [00:16<00:00,  4.06s/it]\n",
      "100%|██████████| 4/4 [00:16<00:00,  4.07s/it]\n",
      "100%|██████████| 4/4 [00:16<00:00,  4.06s/it]\n",
      "100%|██████████| 4/4 [00:16<00:00,  4.06s/it]\n",
      "100%|██████████| 4/4 [00:16<00:00,  4.06s/it]\n",
      "100%|██████████| 4/4 [00:16<00:00,  4.06s/it]\n",
      "100%|██████████| 4/4 [00:16<00:00,  4.06s/it]\n"
     ]
    },
    {
     "name": "stdout",
     "output_type": "stream",
     "text": [
      "step 7000: train loss 5.5023, val loss 5.6430\n",
      "train ppl 245.26, val ppl 282.31\n",
      "📈 Train/Val Gap: 0.1407 (2.56%)\n"
     ]
    },
    {
     "name": "stderr",
     "output_type": "stream",
     "text": [
      "100%|██████████| 4/4 [00:16<00:00,  4.06s/it]\n"
     ]
    },
    {
     "name": "stdout",
     "output_type": "stream",
     "text": [
      "iter 7000: loss 5.8001, time 111976.89ms\n"
     ]
    },
    {
     "name": "stderr",
     "output_type": "stream",
     "text": [
      "100%|██████████| 4/4 [00:16<00:00,  4.06s/it]\n",
      "100%|██████████| 4/4 [00:16<00:00,  4.06s/it]\n",
      "100%|██████████| 4/4 [00:16<00:00,  4.07s/it]\n",
      "100%|██████████| 4/4 [00:16<00:00,  4.06s/it]\n",
      "100%|██████████| 4/4 [00:16<00:00,  4.06s/it]\n",
      "100%|██████████| 4/4 [00:16<00:00,  4.07s/it]\n",
      "100%|██████████| 4/4 [00:16<00:00,  4.06s/it]\n",
      "100%|██████████| 4/4 [00:16<00:00,  4.07s/it]\n",
      "100%|██████████| 4/4 [00:16<00:00,  4.07s/it]\n",
      "100%|██████████| 4/4 [00:16<00:00,  4.07s/it]\n",
      "100%|██████████| 4/4 [00:16<00:00,  4.06s/it]\n",
      "100%|██████████| 4/4 [00:16<00:00,  4.06s/it]\n",
      "100%|██████████| 4/4 [00:16<00:00,  4.06s/it]\n",
      "100%|██████████| 4/4 [00:16<00:00,  4.06s/it]\n",
      "100%|██████████| 4/4 [00:16<00:00,  4.04s/it]\n",
      "100%|██████████| 4/4 [00:16<00:00,  4.02s/it]\n",
      "100%|██████████| 4/4 [00:16<00:00,  4.02s/it]\n",
      "100%|██████████| 4/4 [00:16<00:00,  4.02s/it]\n",
      "100%|██████████| 4/4 [00:16<00:00,  4.02s/it]\n",
      "100%|██████████| 4/4 [00:16<00:00,  4.02s/it]\n"
     ]
    },
    {
     "name": "stdout",
     "output_type": "stream",
     "text": [
      "iter 7020: loss 5.8631, time 16099.58ms\n"
     ]
    },
    {
     "name": "stderr",
     "output_type": "stream",
     "text": [
      "100%|██████████| 4/4 [00:16<00:00,  4.01s/it]\n",
      "100%|██████████| 4/4 [00:16<00:00,  4.02s/it]\n",
      "100%|██████████| 4/4 [00:16<00:00,  4.02s/it]\n",
      "100%|██████████| 4/4 [00:16<00:00,  4.02s/it]\n",
      "100%|██████████| 4/4 [00:16<00:00,  4.03s/it]\n",
      "100%|██████████| 4/4 [00:16<00:00,  4.02s/it]\n",
      "100%|██████████| 4/4 [00:16<00:00,  4.04s/it]\n",
      "100%|██████████| 4/4 [00:16<00:00,  4.02s/it]\n",
      "100%|██████████| 4/4 [00:16<00:00,  4.02s/it]\n",
      "100%|██████████| 4/4 [00:16<00:00,  4.02s/it]\n",
      "100%|██████████| 4/4 [00:16<00:00,  4.02s/it]\n",
      "100%|██████████| 4/4 [00:16<00:00,  4.02s/it]\n",
      "100%|██████████| 4/4 [00:16<00:00,  4.03s/it]\n",
      "100%|██████████| 4/4 [00:16<00:00,  4.02s/it]\n",
      "100%|██████████| 4/4 [00:16<00:00,  4.02s/it]\n",
      "100%|██████████| 4/4 [00:16<00:00,  4.03s/it]\n",
      "100%|██████████| 4/4 [00:16<00:00,  4.02s/it]\n",
      "100%|██████████| 4/4 [00:16<00:00,  4.02s/it]\n",
      "100%|██████████| 4/4 [00:16<00:00,  4.02s/it]\n",
      "100%|██████████| 4/4 [00:16<00:00,  4.03s/it]\n"
     ]
    },
    {
     "name": "stdout",
     "output_type": "stream",
     "text": [
      "iter 7040: loss 5.3764, time 16163.07ms\n"
     ]
    },
    {
     "name": "stderr",
     "output_type": "stream",
     "text": [
      "100%|██████████| 4/4 [00:16<00:00,  4.02s/it]\n",
      "100%|██████████| 4/4 [00:16<00:00,  4.02s/it]\n",
      "100%|██████████| 4/4 [00:16<00:00,  4.04s/it]\n",
      "100%|██████████| 4/4 [00:16<00:00,  4.02s/it]\n",
      "100%|██████████| 4/4 [00:16<00:00,  4.02s/it]\n",
      "100%|██████████| 4/4 [00:16<00:00,  4.02s/it]\n",
      "100%|██████████| 4/4 [00:16<00:00,  4.02s/it]\n",
      "100%|██████████| 4/4 [00:16<00:00,  4.03s/it]\n",
      "100%|██████████| 4/4 [00:16<00:00,  4.02s/it]\n",
      "100%|██████████| 4/4 [00:16<00:00,  4.02s/it]\n",
      "100%|██████████| 4/4 [00:16<00:00,  4.02s/it]\n",
      "100%|██████████| 4/4 [00:16<00:00,  4.02s/it]\n",
      "100%|██████████| 4/4 [00:16<00:00,  4.02s/it]\n",
      "100%|██████████| 4/4 [00:16<00:00,  4.02s/it]\n",
      "100%|██████████| 4/4 [00:16<00:00,  4.02s/it]\n",
      "100%|██████████| 4/4 [00:16<00:00,  4.02s/it]\n",
      "100%|██████████| 4/4 [00:16<00:00,  4.02s/it]\n",
      "100%|██████████| 4/4 [00:16<00:00,  4.02s/it]\n",
      "100%|██████████| 4/4 [00:16<00:00,  4.02s/it]\n",
      "100%|██████████| 4/4 [00:16<00:00,  4.02s/it]\n"
     ]
    },
    {
     "name": "stdout",
     "output_type": "stream",
     "text": [
      "iter 7060: loss 5.6726, time 16087.25ms\n"
     ]
    },
    {
     "name": "stderr",
     "output_type": "stream",
     "text": [
      "100%|██████████| 4/4 [00:16<00:00,  4.01s/it]\n",
      "100%|██████████| 4/4 [00:16<00:00,  4.02s/it]\n",
      "100%|██████████| 4/4 [00:16<00:00,  4.02s/it]\n",
      "100%|██████████| 4/4 [00:16<00:00,  4.02s/it]\n",
      "100%|██████████| 4/4 [00:16<00:00,  4.02s/it]\n",
      "100%|██████████| 4/4 [00:16<00:00,  4.02s/it]\n",
      "100%|██████████| 4/4 [00:16<00:00,  4.02s/it]\n",
      "100%|██████████| 4/4 [00:16<00:00,  4.02s/it]\n",
      "100%|██████████| 4/4 [00:16<00:00,  4.02s/it]\n",
      "100%|██████████| 4/4 [00:16<00:00,  4.03s/it]\n",
      "100%|██████████| 4/4 [00:16<00:00,  4.02s/it]\n",
      "100%|██████████| 4/4 [00:16<00:00,  4.02s/it]\n",
      "100%|██████████| 4/4 [00:16<00:00,  4.02s/it]\n",
      "100%|██████████| 4/4 [00:16<00:00,  4.02s/it]\n",
      "100%|██████████| 4/4 [00:16<00:00,  4.02s/it]\n",
      "100%|██████████| 4/4 [00:16<00:00,  4.02s/it]\n",
      "100%|██████████| 4/4 [00:16<00:00,  4.03s/it]\n",
      "100%|██████████| 4/4 [00:16<00:00,  4.02s/it]\n",
      "100%|██████████| 4/4 [00:16<00:00,  4.02s/it]\n",
      "100%|██████████| 4/4 [00:16<00:00,  4.02s/it]\n"
     ]
    },
    {
     "name": "stdout",
     "output_type": "stream",
     "text": [
      "iter 7080: loss 5.6957, time 16102.58ms\n"
     ]
    },
    {
     "name": "stderr",
     "output_type": "stream",
     "text": [
      "100%|██████████| 4/4 [00:16<00:00,  4.02s/it]\n",
      "100%|██████████| 4/4 [00:16<00:00,  4.02s/it]\n",
      "100%|██████████| 4/4 [00:16<00:00,  4.02s/it]\n",
      "100%|██████████| 4/4 [00:16<00:00,  4.02s/it]\n",
      "100%|██████████| 4/4 [00:16<00:00,  4.04s/it]\n",
      "100%|██████████| 4/4 [00:16<00:00,  4.01s/it]\n",
      "100%|██████████| 4/4 [00:16<00:00,  4.02s/it]\n",
      "100%|██████████| 4/4 [00:16<00:00,  4.02s/it]\n",
      "100%|██████████| 4/4 [00:16<00:00,  4.03s/it]\n",
      "100%|██████████| 4/4 [00:16<00:00,  4.02s/it]\n",
      "100%|██████████| 4/4 [00:16<00:00,  4.02s/it]\n",
      "100%|██████████| 4/4 [00:16<00:00,  4.02s/it]\n",
      "100%|██████████| 4/4 [00:16<00:00,  4.02s/it]\n",
      "100%|██████████| 4/4 [00:16<00:00,  4.02s/it]\n",
      "100%|██████████| 4/4 [00:16<00:00,  4.02s/it]\n",
      "100%|██████████| 4/4 [00:16<00:00,  4.02s/it]\n",
      "100%|██████████| 4/4 [00:16<00:00,  4.02s/it]\n",
      "100%|██████████| 4/4 [00:16<00:00,  4.02s/it]\n",
      "100%|██████████| 4/4 [00:16<00:00,  4.02s/it]\n",
      "100%|██████████| 4/4 [00:16<00:00,  4.02s/it]\n"
     ]
    },
    {
     "name": "stdout",
     "output_type": "stream",
     "text": [
      "iter 7100: loss 5.8355, time 16109.42ms\n"
     ]
    },
    {
     "name": "stderr",
     "output_type": "stream",
     "text": [
      "100%|██████████| 4/4 [00:16<00:00,  4.01s/it]\n",
      "100%|██████████| 4/4 [00:16<00:00,  4.02s/it]\n",
      "100%|██████████| 4/4 [00:16<00:00,  4.02s/it]\n",
      "100%|██████████| 4/4 [00:16<00:00,  4.02s/it]\n",
      "100%|██████████| 4/4 [00:16<00:00,  4.02s/it]\n",
      "100%|██████████| 4/4 [00:16<00:00,  4.02s/it]\n",
      "100%|██████████| 4/4 [00:16<00:00,  4.02s/it]\n",
      "100%|██████████| 4/4 [00:16<00:00,  4.02s/it]\n",
      "100%|██████████| 4/4 [00:16<00:00,  4.02s/it]\n",
      "100%|██████████| 4/4 [00:16<00:00,  4.02s/it]\n",
      "100%|██████████| 4/4 [00:16<00:00,  4.02s/it]\n",
      "100%|██████████| 4/4 [00:16<00:00,  4.02s/it]\n",
      "100%|██████████| 4/4 [00:16<00:00,  4.02s/it]\n",
      "100%|██████████| 4/4 [00:16<00:00,  4.02s/it]\n",
      "100%|██████████| 4/4 [00:16<00:00,  4.03s/it]\n",
      "100%|██████████| 4/4 [00:16<00:00,  4.02s/it]\n",
      "100%|██████████| 4/4 [00:16<00:00,  4.02s/it]\n",
      "100%|██████████| 4/4 [00:16<00:00,  4.03s/it]\n",
      "100%|██████████| 4/4 [00:16<00:00,  4.02s/it]\n",
      "100%|██████████| 4/4 [00:16<00:00,  4.02s/it]\n"
     ]
    },
    {
     "name": "stdout",
     "output_type": "stream",
     "text": [
      "iter 7120: loss 5.7826, time 16102.83ms\n"
     ]
    },
    {
     "name": "stderr",
     "output_type": "stream",
     "text": [
      "100%|██████████| 4/4 [00:16<00:00,  4.02s/it]\n",
      "100%|██████████| 4/4 [00:16<00:00,  4.04s/it]\n",
      "100%|██████████| 4/4 [00:16<00:00,  4.02s/it]\n",
      "100%|██████████| 4/4 [00:16<00:00,  4.02s/it]\n",
      "100%|██████████| 4/4 [00:16<00:00,  4.02s/it]\n",
      "100%|██████████| 4/4 [00:16<00:00,  4.02s/it]\n",
      "100%|██████████| 4/4 [00:16<00:00,  4.02s/it]\n",
      "100%|██████████| 4/4 [00:16<00:00,  4.02s/it]\n",
      "100%|██████████| 4/4 [00:16<00:00,  4.02s/it]\n",
      "100%|██████████| 4/4 [00:16<00:00,  4.02s/it]\n",
      "100%|██████████| 4/4 [00:16<00:00,  4.02s/it]\n",
      "100%|██████████| 4/4 [00:16<00:00,  4.02s/it]\n",
      "100%|██████████| 4/4 [00:16<00:00,  4.02s/it]\n",
      "100%|██████████| 4/4 [00:16<00:00,  4.02s/it]\n",
      "100%|██████████| 4/4 [00:16<00:00,  4.02s/it]\n",
      "100%|██████████| 4/4 [00:16<00:00,  4.02s/it]\n",
      "100%|██████████| 4/4 [00:16<00:00,  4.02s/it]\n",
      "100%|██████████| 4/4 [00:16<00:00,  4.02s/it]\n",
      "100%|██████████| 4/4 [00:16<00:00,  4.02s/it]\n",
      "100%|██████████| 4/4 [00:16<00:00,  4.02s/it]\n"
     ]
    },
    {
     "name": "stdout",
     "output_type": "stream",
     "text": [
      "iter 7140: loss 5.3405, time 16107.01ms\n"
     ]
    },
    {
     "name": "stderr",
     "output_type": "stream",
     "text": [
      "100%|██████████| 4/4 [00:16<00:00,  4.02s/it]\n",
      "100%|██████████| 4/4 [00:16<00:00,  4.02s/it]\n",
      "100%|██████████| 4/4 [00:16<00:00,  4.02s/it]\n",
      "100%|██████████| 4/4 [00:16<00:00,  4.03s/it]\n",
      "100%|██████████| 4/4 [00:16<00:00,  4.03s/it]\n",
      "100%|██████████| 4/4 [00:16<00:00,  4.02s/it]\n",
      "100%|██████████| 4/4 [00:16<00:00,  4.02s/it]\n",
      "100%|██████████| 4/4 [00:16<00:00,  4.03s/it]\n",
      "100%|██████████| 4/4 [00:16<00:00,  4.02s/it]\n",
      "100%|██████████| 4/4 [00:16<00:00,  4.02s/it]\n",
      "100%|██████████| 4/4 [00:16<00:00,  4.02s/it]\n",
      "100%|██████████| 4/4 [00:16<00:00,  4.03s/it]\n",
      "100%|██████████| 4/4 [00:16<00:00,  4.02s/it]\n",
      "100%|██████████| 4/4 [00:16<00:00,  4.02s/it]\n",
      "100%|██████████| 4/4 [00:16<00:00,  4.02s/it]\n",
      "100%|██████████| 4/4 [00:16<00:00,  4.03s/it]\n",
      "100%|██████████| 4/4 [00:16<00:00,  4.02s/it]\n",
      "100%|██████████| 4/4 [00:16<00:00,  4.02s/it]\n",
      "100%|██████████| 4/4 [00:16<00:00,  4.02s/it]\n",
      "100%|██████████| 4/4 [00:15<00:00,  3.94s/it]\n"
     ]
    },
    {
     "name": "stdout",
     "output_type": "stream",
     "text": [
      "iter 7160: loss 6.2135, time 15786.22ms\n"
     ]
    },
    {
     "name": "stderr",
     "output_type": "stream",
     "text": [
      "100%|██████████| 4/4 [00:15<00:00,  3.93s/it]\n",
      "100%|██████████| 4/4 [00:15<00:00,  3.94s/it]\n",
      "100%|██████████| 4/4 [00:15<00:00,  3.94s/it]\n",
      "100%|██████████| 4/4 [00:15<00:00,  3.94s/it]\n",
      "100%|██████████| 4/4 [00:15<00:00,  3.94s/it]\n",
      "100%|██████████| 4/4 [00:15<00:00,  3.94s/it]\n",
      "100%|██████████| 4/4 [00:15<00:00,  3.94s/it]\n",
      "100%|██████████| 4/4 [00:15<00:00,  3.93s/it]\n",
      "100%|██████████| 4/4 [00:15<00:00,  3.93s/it]\n",
      "100%|██████████| 4/4 [00:15<00:00,  3.94s/it]\n",
      "100%|██████████| 4/4 [00:15<00:00,  3.94s/it]\n",
      "100%|██████████| 4/4 [00:15<00:00,  3.93s/it]\n",
      "100%|██████████| 4/4 [00:15<00:00,  3.94s/it]\n",
      "100%|██████████| 4/4 [00:15<00:00,  3.94s/it]\n",
      "100%|██████████| 4/4 [00:15<00:00,  3.94s/it]\n",
      "100%|██████████| 4/4 [00:15<00:00,  3.94s/it]\n",
      "100%|██████████| 4/4 [00:15<00:00,  3.94s/it]\n",
      "100%|██████████| 4/4 [00:15<00:00,  3.94s/it]\n",
      "100%|██████████| 4/4 [00:15<00:00,  3.94s/it]\n",
      "100%|██████████| 4/4 [00:15<00:00,  3.94s/it]\n"
     ]
    },
    {
     "name": "stdout",
     "output_type": "stream",
     "text": [
      "iter 7180: loss 5.1415, time 15767.11ms\n"
     ]
    },
    {
     "name": "stderr",
     "output_type": "stream",
     "text": [
      "100%|██████████| 4/4 [00:15<00:00,  3.93s/it]\n",
      "100%|██████████| 4/4 [00:15<00:00,  3.94s/it]\n",
      "100%|██████████| 4/4 [00:15<00:00,  3.94s/it]\n",
      "100%|██████████| 4/4 [00:15<00:00,  3.94s/it]\n",
      "100%|██████████| 4/4 [00:15<00:00,  3.94s/it]\n",
      "100%|██████████| 4/4 [00:15<00:00,  3.94s/it]\n",
      "100%|██████████| 4/4 [00:15<00:00,  3.94s/it]\n",
      "100%|██████████| 4/4 [00:15<00:00,  3.94s/it]\n",
      "100%|██████████| 4/4 [00:15<00:00,  3.93s/it]\n",
      "100%|██████████| 4/4 [00:15<00:00,  3.94s/it]\n",
      "100%|██████████| 4/4 [00:15<00:00,  3.94s/it]\n",
      "100%|██████████| 4/4 [00:15<00:00,  3.94s/it]\n",
      "100%|██████████| 4/4 [00:15<00:00,  3.93s/it]\n",
      "100%|██████████| 4/4 [00:15<00:00,  3.94s/it]\n",
      "100%|██████████| 4/4 [00:15<00:00,  3.94s/it]\n",
      "100%|██████████| 4/4 [00:15<00:00,  3.94s/it]\n",
      "100%|██████████| 4/4 [00:15<00:00,  3.94s/it]\n",
      "100%|██████████| 4/4 [00:15<00:00,  3.94s/it]\n",
      "100%|██████████| 4/4 [00:15<00:00,  3.94s/it]\n"
     ]
    },
    {
     "name": "stdout",
     "output_type": "stream",
     "text": [
      "step 7200: train loss 5.5761, val loss 5.5946\n",
      "train ppl 264.04, val ppl 268.96\n",
      "📈 Train/Val Gap: 0.0185 (0.33%)\n"
     ]
    },
    {
     "name": "stderr",
     "output_type": "stream",
     "text": [
      "100%|██████████| 4/4 [00:15<00:00,  3.94s/it]\n"
     ]
    },
    {
     "name": "stdout",
     "output_type": "stream",
     "text": [
      "iter 7200: loss 5.0281, time 105788.90ms\n"
     ]
    },
    {
     "name": "stderr",
     "output_type": "stream",
     "text": [
      "100%|██████████| 4/4 [00:15<00:00,  3.93s/it]\n",
      "100%|██████████| 4/4 [00:15<00:00,  3.93s/it]\n",
      "100%|██████████| 4/4 [00:15<00:00,  3.94s/it]\n",
      "100%|██████████| 4/4 [00:15<00:00,  3.94s/it]\n",
      "100%|██████████| 4/4 [00:15<00:00,  3.94s/it]\n",
      "100%|██████████| 4/4 [00:15<00:00,  3.94s/it]\n",
      "100%|██████████| 4/4 [00:15<00:00,  3.94s/it]\n",
      "100%|██████████| 4/4 [00:15<00:00,  3.94s/it]\n",
      "100%|██████████| 4/4 [00:15<00:00,  3.94s/it]\n",
      "100%|██████████| 4/4 [00:15<00:00,  3.94s/it]\n",
      "100%|██████████| 4/4 [00:15<00:00,  3.94s/it]\n",
      "100%|██████████| 4/4 [00:15<00:00,  3.94s/it]\n",
      "100%|██████████| 4/4 [00:15<00:00,  3.94s/it]\n",
      "100%|██████████| 4/4 [00:15<00:00,  3.94s/it]\n",
      "100%|██████████| 4/4 [00:15<00:00,  3.94s/it]\n",
      "100%|██████████| 4/4 [00:15<00:00,  3.96s/it]\n",
      "100%|██████████| 4/4 [00:15<00:00,  3.94s/it]\n",
      "100%|██████████| 4/4 [00:15<00:00,  3.94s/it]\n",
      "100%|██████████| 4/4 [00:15<00:00,  3.94s/it]\n",
      "100%|██████████| 4/4 [00:15<00:00,  3.94s/it]\n"
     ]
    },
    {
     "name": "stdout",
     "output_type": "stream",
     "text": [
      "iter 7220: loss 5.2597, time 15768.60ms\n"
     ]
    },
    {
     "name": "stderr",
     "output_type": "stream",
     "text": [
      "100%|██████████| 4/4 [00:15<00:00,  3.94s/it]\n",
      "100%|██████████| 4/4 [00:15<00:00,  3.94s/it]\n",
      "100%|██████████| 4/4 [00:15<00:00,  3.94s/it]\n",
      "100%|██████████| 4/4 [00:15<00:00,  3.94s/it]\n",
      "100%|██████████| 4/4 [00:15<00:00,  3.94s/it]\n",
      "100%|██████████| 4/4 [00:15<00:00,  3.95s/it]\n",
      "100%|██████████| 4/4 [00:15<00:00,  3.94s/it]\n",
      "100%|██████████| 4/4 [00:15<00:00,  3.96s/it]\n",
      "100%|██████████| 4/4 [00:15<00:00,  3.94s/it]\n",
      "100%|██████████| 4/4 [00:15<00:00,  3.94s/it]\n",
      "100%|██████████| 4/4 [00:15<00:00,  3.94s/it]\n",
      "100%|██████████| 4/4 [00:15<00:00,  3.94s/it]\n",
      "100%|██████████| 4/4 [00:15<00:00,  3.94s/it]\n",
      "100%|██████████| 4/4 [00:15<00:00,  3.94s/it]\n",
      "100%|██████████| 4/4 [00:15<00:00,  3.94s/it]\n",
      "100%|██████████| 4/4 [00:15<00:00,  3.94s/it]\n",
      "100%|██████████| 4/4 [00:15<00:00,  3.94s/it]\n",
      "100%|██████████| 4/4 [00:15<00:00,  3.93s/it]\n",
      "100%|██████████| 4/4 [00:15<00:00,  3.94s/it]\n",
      "100%|██████████| 4/4 [00:15<00:00,  3.94s/it]\n"
     ]
    },
    {
     "name": "stdout",
     "output_type": "stream",
     "text": [
      "iter 7240: loss 4.9599, time 15769.42ms\n"
     ]
    },
    {
     "name": "stderr",
     "output_type": "stream",
     "text": [
      "100%|██████████| 4/4 [00:15<00:00,  3.94s/it]\n",
      "100%|██████████| 4/4 [00:15<00:00,  3.94s/it]\n",
      "100%|██████████| 4/4 [00:15<00:00,  3.94s/it]\n",
      "100%|██████████| 4/4 [00:15<00:00,  3.96s/it]\n",
      "100%|██████████| 4/4 [00:15<00:00,  3.94s/it]\n",
      "100%|██████████| 4/4 [00:15<00:00,  3.94s/it]\n",
      "100%|██████████| 4/4 [00:15<00:00,  3.94s/it]\n",
      "100%|██████████| 4/4 [00:15<00:00,  3.94s/it]\n",
      "100%|██████████| 4/4 [00:15<00:00,  3.94s/it]\n",
      "100%|██████████| 4/4 [00:15<00:00,  3.94s/it]\n",
      "100%|██████████| 4/4 [00:15<00:00,  3.94s/it]\n",
      "100%|██████████| 4/4 [00:15<00:00,  3.94s/it]\n",
      "100%|██████████| 4/4 [00:15<00:00,  3.94s/it]\n",
      "100%|██████████| 4/4 [00:15<00:00,  3.94s/it]\n",
      "100%|██████████| 4/4 [00:15<00:00,  3.94s/it]\n",
      "100%|██████████| 4/4 [00:15<00:00,  3.94s/it]\n",
      "100%|██████████| 4/4 [00:15<00:00,  3.94s/it]\n",
      "100%|██████████| 4/4 [00:15<00:00,  3.94s/it]\n",
      "100%|██████████| 4/4 [00:15<00:00,  3.94s/it]\n",
      "100%|██████████| 4/4 [00:15<00:00,  3.94s/it]\n"
     ]
    },
    {
     "name": "stdout",
     "output_type": "stream",
     "text": [
      "iter 7260: loss 5.5544, time 15799.59ms\n"
     ]
    },
    {
     "name": "stderr",
     "output_type": "stream",
     "text": [
      "100%|██████████| 4/4 [00:15<00:00,  3.94s/it]\n",
      "100%|██████████| 4/4 [00:15<00:00,  3.94s/it]\n",
      "100%|██████████| 4/4 [00:15<00:00,  3.94s/it]\n",
      "100%|██████████| 4/4 [00:15<00:00,  3.94s/it]\n",
      "100%|██████████| 4/4 [00:15<00:00,  3.94s/it]\n",
      "100%|██████████| 4/4 [00:15<00:00,  3.94s/it]\n",
      "100%|██████████| 4/4 [00:15<00:00,  3.94s/it]\n",
      "100%|██████████| 4/4 [00:15<00:00,  3.94s/it]\n",
      "100%|██████████| 4/4 [00:15<00:00,  3.94s/it]\n",
      "100%|██████████| 4/4 [00:15<00:00,  3.94s/it]\n",
      "100%|██████████| 4/4 [00:15<00:00,  3.94s/it]\n",
      "100%|██████████| 4/4 [00:15<00:00,  3.94s/it]\n",
      "100%|██████████| 4/4 [00:15<00:00,  3.94s/it]\n",
      "100%|██████████| 4/4 [00:15<00:00,  3.94s/it]\n",
      "100%|██████████| 4/4 [00:15<00:00,  3.94s/it]\n",
      "100%|██████████| 4/4 [00:15<00:00,  3.94s/it]\n",
      "100%|██████████| 4/4 [00:15<00:00,  3.93s/it]\n",
      "100%|██████████| 4/4 [00:15<00:00,  3.94s/it]\n",
      "100%|██████████| 4/4 [00:15<00:00,  3.94s/it]\n",
      "100%|██████████| 4/4 [00:15<00:00,  3.94s/it]\n"
     ]
    },
    {
     "name": "stdout",
     "output_type": "stream",
     "text": [
      "iter 7280: loss 5.5821, time 15767.24ms\n"
     ]
    },
    {
     "name": "stderr",
     "output_type": "stream",
     "text": [
      "100%|██████████| 4/4 [00:15<00:00,  3.93s/it]\n",
      "100%|██████████| 4/4 [00:15<00:00,  3.94s/it]\n",
      "100%|██████████| 4/4 [00:15<00:00,  3.94s/it]\n",
      "100%|██████████| 4/4 [00:15<00:00,  3.94s/it]\n",
      "100%|██████████| 4/4 [00:15<00:00,  3.94s/it]\n",
      "100%|██████████| 4/4 [00:15<00:00,  3.94s/it]\n",
      "100%|██████████| 4/4 [00:15<00:00,  3.94s/it]\n",
      "100%|██████████| 4/4 [00:15<00:00,  3.93s/it]\n",
      "100%|██████████| 4/4 [00:15<00:00,  3.93s/it]\n",
      "100%|██████████| 4/4 [00:15<00:00,  3.94s/it]\n",
      "100%|██████████| 4/4 [00:15<00:00,  3.94s/it]\n",
      "100%|██████████| 4/4 [00:15<00:00,  3.94s/it]\n",
      "100%|██████████| 4/4 [00:15<00:00,  3.94s/it]\n",
      "100%|██████████| 4/4 [00:15<00:00,  3.94s/it]\n",
      "100%|██████████| 4/4 [00:15<00:00,  3.94s/it]\n",
      "100%|██████████| 4/4 [00:15<00:00,  3.94s/it]\n",
      "100%|██████████| 4/4 [00:15<00:00,  3.94s/it]\n",
      "100%|██████████| 4/4 [00:15<00:00,  3.94s/it]\n",
      "100%|██████████| 4/4 [00:15<00:00,  3.93s/it]\n",
      "100%|██████████| 4/4 [00:15<00:00,  3.94s/it]\n"
     ]
    },
    {
     "name": "stdout",
     "output_type": "stream",
     "text": [
      "iter 7300: loss 5.5769, time 15769.57ms\n"
     ]
    },
    {
     "name": "stderr",
     "output_type": "stream",
     "text": [
      "100%|██████████| 4/4 [00:15<00:00,  3.93s/it]\n",
      "100%|██████████| 4/4 [00:15<00:00,  3.94s/it]\n",
      "100%|██████████| 4/4 [00:15<00:00,  3.94s/it]\n",
      "100%|██████████| 4/4 [00:15<00:00,  3.94s/it]\n",
      "100%|██████████| 4/4 [00:15<00:00,  3.94s/it]\n",
      "100%|██████████| 4/4 [00:15<00:00,  3.94s/it]\n",
      "100%|██████████| 4/4 [00:15<00:00,  3.93s/it]\n",
      "100%|██████████| 4/4 [00:15<00:00,  3.94s/it]\n",
      "100%|██████████| 4/4 [00:15<00:00,  3.94s/it]\n",
      "100%|██████████| 4/4 [00:15<00:00,  3.94s/it]\n",
      "100%|██████████| 4/4 [00:15<00:00,  3.94s/it]\n",
      "100%|██████████| 4/4 [00:15<00:00,  3.94s/it]\n",
      "100%|██████████| 4/4 [00:15<00:00,  3.94s/it]\n",
      "100%|██████████| 4/4 [00:15<00:00,  3.94s/it]\n",
      "100%|██████████| 4/4 [00:15<00:00,  3.94s/it]\n",
      "100%|██████████| 4/4 [00:15<00:00,  3.94s/it]\n",
      "100%|██████████| 4/4 [00:15<00:00,  3.94s/it]\n",
      "100%|██████████| 4/4 [00:15<00:00,  3.94s/it]\n",
      "100%|██████████| 4/4 [00:15<00:00,  3.94s/it]\n",
      "100%|██████████| 4/4 [00:15<00:00,  3.94s/it]\n"
     ]
    },
    {
     "name": "stdout",
     "output_type": "stream",
     "text": [
      "iter 7320: loss 5.9896, time 15784.22ms\n"
     ]
    },
    {
     "name": "stderr",
     "output_type": "stream",
     "text": [
      "100%|██████████| 4/4 [00:15<00:00,  3.93s/it]\n",
      "100%|██████████| 4/4 [00:15<00:00,  3.94s/it]\n",
      "100%|██████████| 4/4 [00:15<00:00,  3.94s/it]\n",
      "100%|██████████| 4/4 [00:15<00:00,  3.94s/it]\n",
      "100%|██████████| 4/4 [00:15<00:00,  3.94s/it]\n",
      "100%|██████████| 4/4 [00:15<00:00,  3.93s/it]\n",
      "100%|██████████| 4/4 [00:15<00:00,  3.94s/it]\n",
      "100%|██████████| 4/4 [00:15<00:00,  3.94s/it]\n",
      "100%|██████████| 4/4 [00:15<00:00,  3.94s/it]\n",
      "100%|██████████| 4/4 [00:15<00:00,  3.94s/it]\n",
      "100%|██████████| 4/4 [00:15<00:00,  3.94s/it]\n",
      "100%|██████████| 4/4 [00:15<00:00,  3.94s/it]\n",
      "100%|██████████| 4/4 [00:15<00:00,  3.94s/it]\n",
      "100%|██████████| 4/4 [00:15<00:00,  3.94s/it]\n",
      "100%|██████████| 4/4 [00:15<00:00,  3.94s/it]\n",
      "100%|██████████| 4/4 [00:15<00:00,  3.94s/it]\n",
      "100%|██████████| 4/4 [00:15<00:00,  3.94s/it]\n",
      "100%|██████████| 4/4 [00:15<00:00,  3.94s/it]\n",
      "100%|██████████| 4/4 [00:15<00:00,  3.94s/it]\n",
      "100%|██████████| 4/4 [00:15<00:00,  3.94s/it]\n"
     ]
    },
    {
     "name": "stdout",
     "output_type": "stream",
     "text": [
      "iter 7340: loss 5.7844, time 15777.00ms\n"
     ]
    },
    {
     "name": "stderr",
     "output_type": "stream",
     "text": [
      "100%|██████████| 4/4 [00:15<00:00,  3.93s/it]\n",
      "100%|██████████| 4/4 [00:15<00:00,  3.94s/it]\n",
      "100%|██████████| 4/4 [00:15<00:00,  3.94s/it]\n",
      "100%|██████████| 4/4 [00:15<00:00,  3.94s/it]\n",
      "100%|██████████| 4/4 [00:15<00:00,  3.94s/it]\n",
      "100%|██████████| 4/4 [00:15<00:00,  3.94s/it]\n",
      "100%|██████████| 4/4 [00:15<00:00,  3.94s/it]\n",
      "100%|██████████| 4/4 [00:15<00:00,  3.94s/it]\n",
      "100%|██████████| 4/4 [00:15<00:00,  3.94s/it]\n",
      "100%|██████████| 4/4 [00:15<00:00,  3.94s/it]\n",
      "100%|██████████| 4/4 [00:15<00:00,  3.94s/it]\n",
      "100%|██████████| 4/4 [00:15<00:00,  3.94s/it]\n",
      "100%|██████████| 4/4 [00:15<00:00,  3.94s/it]\n",
      "100%|██████████| 4/4 [00:15<00:00,  3.94s/it]\n",
      "100%|██████████| 4/4 [00:15<00:00,  3.94s/it]\n",
      "100%|██████████| 4/4 [00:15<00:00,  3.94s/it]\n",
      "100%|██████████| 4/4 [00:15<00:00,  3.94s/it]\n",
      "100%|██████████| 4/4 [00:15<00:00,  3.94s/it]\n",
      "100%|██████████| 4/4 [00:15<00:00,  3.94s/it]\n",
      "100%|██████████| 4/4 [00:15<00:00,  3.94s/it]\n"
     ]
    },
    {
     "name": "stdout",
     "output_type": "stream",
     "text": [
      "iter 7360: loss 5.8601, time 15782.35ms\n"
     ]
    },
    {
     "name": "stderr",
     "output_type": "stream",
     "text": [
      "100%|██████████| 4/4 [00:15<00:00,  3.93s/it]\n",
      "100%|██████████| 4/4 [00:15<00:00,  3.93s/it]\n",
      "100%|██████████| 4/4 [00:15<00:00,  3.94s/it]\n",
      "100%|██████████| 4/4 [00:15<00:00,  3.93s/it]\n",
      "100%|██████████| 4/4 [00:15<00:00,  3.94s/it]\n",
      "100%|██████████| 4/4 [00:15<00:00,  3.94s/it]\n",
      "100%|██████████| 4/4 [00:15<00:00,  3.94s/it]\n",
      "100%|██████████| 4/4 [00:15<00:00,  3.94s/it]\n",
      "100%|██████████| 4/4 [00:15<00:00,  3.94s/it]\n",
      "100%|██████████| 4/4 [00:15<00:00,  3.94s/it]\n",
      "100%|██████████| 4/4 [00:15<00:00,  3.93s/it]\n",
      "100%|██████████| 4/4 [00:15<00:00,  3.94s/it]\n",
      "100%|██████████| 4/4 [00:15<00:00,  3.94s/it]\n",
      "100%|██████████| 4/4 [00:15<00:00,  3.94s/it]\n",
      "100%|██████████| 4/4 [00:15<00:00,  3.94s/it]\n",
      "100%|██████████| 4/4 [00:15<00:00,  3.94s/it]\n",
      "100%|██████████| 4/4 [00:15<00:00,  3.94s/it]\n",
      "100%|██████████| 4/4 [00:15<00:00,  3.94s/it]\n",
      "100%|██████████| 4/4 [00:15<00:00,  3.93s/it]\n",
      "100%|██████████| 4/4 [00:15<00:00,  3.94s/it]\n"
     ]
    },
    {
     "name": "stdout",
     "output_type": "stream",
     "text": [
      "iter 7380: loss 5.5400, time 15775.51ms\n"
     ]
    },
    {
     "name": "stderr",
     "output_type": "stream",
     "text": [
      "100%|██████████| 4/4 [00:15<00:00,  3.93s/it]\n",
      "100%|██████████| 4/4 [00:15<00:00,  3.94s/it]\n",
      "100%|██████████| 4/4 [00:15<00:00,  3.93s/it]\n",
      "100%|██████████| 4/4 [00:15<00:00,  3.94s/it]\n",
      "100%|██████████| 4/4 [00:15<00:00,  3.94s/it]\n",
      "100%|██████████| 4/4 [00:15<00:00,  3.94s/it]\n",
      "100%|██████████| 4/4 [00:15<00:00,  3.94s/it]\n",
      "100%|██████████| 4/4 [00:15<00:00,  3.94s/it]\n",
      "100%|██████████| 4/4 [00:15<00:00,  3.94s/it]\n",
      "100%|██████████| 4/4 [00:15<00:00,  3.94s/it]\n",
      "100%|██████████| 4/4 [00:15<00:00,  3.94s/it]\n",
      "100%|██████████| 4/4 [00:15<00:00,  3.94s/it]\n",
      "100%|██████████| 4/4 [00:15<00:00,  3.94s/it]\n",
      "100%|██████████| 4/4 [00:15<00:00,  3.93s/it]\n",
      "100%|██████████| 4/4 [00:15<00:00,  3.94s/it]\n",
      "100%|██████████| 4/4 [00:15<00:00,  3.94s/it]\n",
      "100%|██████████| 4/4 [00:15<00:00,  3.94s/it]\n",
      "100%|██████████| 4/4 [00:15<00:00,  3.93s/it]\n",
      "100%|██████████| 4/4 [00:15<00:00,  3.94s/it]\n"
     ]
    },
    {
     "name": "stdout",
     "output_type": "stream",
     "text": [
      "step 7400: train loss 5.5685, val loss 5.4677\n",
      "train ppl 262.03, val ppl 236.92\n",
      "📈 Train/Val Gap: -0.1007 (-1.81%)\n",
      "✅ 新的最佳驗證損失: 5.4677\n"
     ]
    },
    {
     "name": "stderr",
     "output_type": "stream",
     "text": [
      "100%|██████████| 4/4 [00:15<00:00,  3.93s/it]\n"
     ]
    },
    {
     "name": "stdout",
     "output_type": "stream",
     "text": [
      "iter 7400: loss 5.4306, time 105685.70ms\n"
     ]
    },
    {
     "name": "stderr",
     "output_type": "stream",
     "text": [
      "100%|██████████| 4/4 [00:15<00:00,  3.93s/it]\n",
      "100%|██████████| 4/4 [00:15<00:00,  3.93s/it]\n",
      "100%|██████████| 4/4 [00:15<00:00,  3.94s/it]\n",
      "100%|██████████| 4/4 [00:15<00:00,  3.94s/it]\n",
      "100%|██████████| 4/4 [00:15<00:00,  3.95s/it]\n",
      "100%|██████████| 4/4 [00:16<00:00,  4.01s/it]\n",
      "100%|██████████| 4/4 [00:15<00:00,  3.94s/it]\n",
      "100%|██████████| 4/4 [00:15<00:00,  3.94s/it]\n",
      "100%|██████████| 4/4 [00:15<00:00,  3.94s/it]\n",
      "100%|██████████| 4/4 [00:15<00:00,  3.94s/it]\n",
      "100%|██████████| 4/4 [00:15<00:00,  3.94s/it]\n",
      "100%|██████████| 4/4 [00:15<00:00,  3.94s/it]\n",
      "100%|██████████| 4/4 [00:15<00:00,  3.94s/it]\n",
      "100%|██████████| 4/4 [00:15<00:00,  3.96s/it]\n",
      "100%|██████████| 4/4 [00:15<00:00,  3.94s/it]\n",
      "100%|██████████| 4/4 [00:15<00:00,  3.94s/it]\n",
      "100%|██████████| 4/4 [00:15<00:00,  3.94s/it]\n",
      "100%|██████████| 4/4 [00:15<00:00,  3.94s/it]\n",
      "100%|██████████| 4/4 [00:15<00:00,  3.94s/it]\n",
      "100%|██████████| 4/4 [00:15<00:00,  3.94s/it]\n"
     ]
    },
    {
     "name": "stdout",
     "output_type": "stream",
     "text": [
      "iter 7420: loss 5.6979, time 15770.52ms\n"
     ]
    },
    {
     "name": "stderr",
     "output_type": "stream",
     "text": [
      "100%|██████████| 4/4 [00:15<00:00,  3.93s/it]\n",
      "100%|██████████| 4/4 [00:15<00:00,  3.94s/it]\n",
      "100%|██████████| 4/4 [00:15<00:00,  3.93s/it]\n",
      "100%|██████████| 4/4 [00:15<00:00,  3.94s/it]\n",
      "100%|██████████| 4/4 [00:15<00:00,  3.94s/it]\n",
      "100%|██████████| 4/4 [00:15<00:00,  3.96s/it]\n",
      "100%|██████████| 4/4 [00:15<00:00,  3.94s/it]\n",
      "100%|██████████| 4/4 [00:15<00:00,  3.93s/it]\n",
      "100%|██████████| 4/4 [00:15<00:00,  3.95s/it]\n",
      "100%|██████████| 4/4 [00:15<00:00,  3.94s/it]\n",
      "100%|██████████| 4/4 [00:15<00:00,  3.94s/it]\n",
      "100%|██████████| 4/4 [00:15<00:00,  3.94s/it]\n",
      "100%|██████████| 4/4 [00:15<00:00,  3.94s/it]\n",
      "100%|██████████| 4/4 [00:15<00:00,  3.94s/it]\n",
      "100%|██████████| 4/4 [00:15<00:00,  3.94s/it]\n",
      "100%|██████████| 4/4 [00:15<00:00,  3.94s/it]\n",
      "100%|██████████| 4/4 [00:15<00:00,  3.94s/it]\n",
      "100%|██████████| 4/4 [00:15<00:00,  3.94s/it]\n",
      "100%|██████████| 4/4 [00:15<00:00,  3.94s/it]\n",
      "100%|██████████| 4/4 [00:15<00:00,  3.94s/it]\n"
     ]
    },
    {
     "name": "stdout",
     "output_type": "stream",
     "text": [
      "iter 7440: loss 5.8069, time 15772.24ms\n"
     ]
    },
    {
     "name": "stderr",
     "output_type": "stream",
     "text": [
      "100%|██████████| 4/4 [00:15<00:00,  3.94s/it]\n",
      "100%|██████████| 4/4 [00:15<00:00,  3.95s/it]\n",
      "100%|██████████| 4/4 [00:15<00:00,  3.94s/it]\n",
      "100%|██████████| 4/4 [00:15<00:00,  3.94s/it]\n",
      "100%|██████████| 4/4 [00:15<00:00,  3.94s/it]\n",
      "100%|██████████| 4/4 [00:15<00:00,  3.94s/it]\n",
      "100%|██████████| 4/4 [00:15<00:00,  3.94s/it]\n",
      "100%|██████████| 4/4 [00:15<00:00,  3.95s/it]\n",
      "100%|██████████| 4/4 [00:15<00:00,  3.94s/it]\n",
      "100%|██████████| 4/4 [00:15<00:00,  3.94s/it]\n",
      "100%|██████████| 4/4 [00:15<00:00,  3.94s/it]\n",
      "100%|██████████| 4/4 [00:15<00:00,  3.94s/it]\n",
      "100%|██████████| 4/4 [00:15<00:00,  3.94s/it]\n",
      "100%|██████████| 4/4 [00:15<00:00,  3.94s/it]\n",
      "100%|██████████| 4/4 [00:15<00:00,  3.94s/it]\n",
      "100%|██████████| 4/4 [00:15<00:00,  3.94s/it]\n",
      "100%|██████████| 4/4 [00:15<00:00,  3.94s/it]\n",
      "100%|██████████| 4/4 [00:15<00:00,  3.94s/it]\n",
      "100%|██████████| 4/4 [00:15<00:00,  3.94s/it]\n",
      "100%|██████████| 4/4 [00:15<00:00,  3.94s/it]\n"
     ]
    },
    {
     "name": "stdout",
     "output_type": "stream",
     "text": [
      "iter 7460: loss 5.7323, time 15779.18ms\n"
     ]
    },
    {
     "name": "stderr",
     "output_type": "stream",
     "text": [
      "100%|██████████| 4/4 [00:15<00:00,  3.93s/it]\n",
      "100%|██████████| 4/4 [00:15<00:00,  3.94s/it]\n",
      "100%|██████████| 4/4 [00:15<00:00,  3.94s/it]\n",
      "100%|██████████| 4/4 [00:15<00:00,  3.94s/it]\n",
      "100%|██████████| 4/4 [00:15<00:00,  3.94s/it]\n",
      "100%|██████████| 4/4 [00:15<00:00,  3.94s/it]\n",
      "100%|██████████| 4/4 [00:15<00:00,  3.95s/it]\n",
      "100%|██████████| 4/4 [00:15<00:00,  3.94s/it]\n",
      "100%|██████████| 4/4 [00:15<00:00,  3.94s/it]\n",
      "100%|██████████| 4/4 [00:15<00:00,  3.94s/it]\n",
      "100%|██████████| 4/4 [00:15<00:00,  3.95s/it]\n",
      "100%|██████████| 4/4 [00:15<00:00,  3.94s/it]\n",
      "100%|██████████| 4/4 [00:15<00:00,  3.94s/it]\n",
      "100%|██████████| 4/4 [00:15<00:00,  3.94s/it]\n",
      "100%|██████████| 4/4 [00:15<00:00,  3.94s/it]\n",
      "100%|██████████| 4/4 [00:15<00:00,  3.94s/it]\n",
      "100%|██████████| 4/4 [00:15<00:00,  3.94s/it]\n",
      "100%|██████████| 4/4 [00:15<00:00,  3.94s/it]\n",
      "100%|██████████| 4/4 [00:15<00:00,  3.94s/it]\n",
      "100%|██████████| 4/4 [00:15<00:00,  3.94s/it]\n"
     ]
    },
    {
     "name": "stdout",
     "output_type": "stream",
     "text": [
      "iter 7480: loss 5.6434, time 15764.69ms\n"
     ]
    },
    {
     "name": "stderr",
     "output_type": "stream",
     "text": [
      "100%|██████████| 4/4 [00:15<00:00,  3.93s/it]\n",
      "100%|██████████| 4/4 [00:15<00:00,  3.94s/it]\n",
      "100%|██████████| 4/4 [00:15<00:00,  3.94s/it]\n",
      "100%|██████████| 4/4 [00:15<00:00,  3.94s/it]\n",
      "100%|██████████| 4/4 [00:15<00:00,  3.94s/it]\n",
      "100%|██████████| 4/4 [00:15<00:00,  3.95s/it]\n",
      "100%|██████████| 4/4 [00:15<00:00,  3.94s/it]\n",
      "100%|██████████| 4/4 [00:15<00:00,  3.94s/it]\n",
      "100%|██████████| 4/4 [00:15<00:00,  3.94s/it]\n",
      "100%|██████████| 4/4 [00:15<00:00,  3.95s/it]\n",
      "100%|██████████| 4/4 [00:15<00:00,  3.94s/it]\n",
      "100%|██████████| 4/4 [00:15<00:00,  3.94s/it]\n",
      "100%|██████████| 4/4 [00:15<00:00,  3.94s/it]\n",
      "100%|██████████| 4/4 [00:15<00:00,  3.94s/it]\n",
      "100%|██████████| 4/4 [00:15<00:00,  3.94s/it]\n",
      "100%|██████████| 4/4 [00:15<00:00,  3.94s/it]\n",
      "100%|██████████| 4/4 [00:15<00:00,  3.93s/it]\n",
      "100%|██████████| 4/4 [00:15<00:00,  3.94s/it]\n",
      "100%|██████████| 4/4 [00:15<00:00,  3.94s/it]\n",
      "100%|██████████| 4/4 [00:15<00:00,  3.94s/it]\n"
     ]
    },
    {
     "name": "stdout",
     "output_type": "stream",
     "text": [
      "iter 7500: loss 5.7466, time 15788.62ms\n"
     ]
    },
    {
     "name": "stderr",
     "output_type": "stream",
     "text": [
      "100%|██████████| 4/4 [00:15<00:00,  3.94s/it]\n",
      "100%|██████████| 4/4 [00:15<00:00,  3.94s/it]\n",
      "100%|██████████| 4/4 [00:15<00:00,  3.94s/it]\n",
      "100%|██████████| 4/4 [00:15<00:00,  3.94s/it]\n",
      "100%|██████████| 4/4 [00:15<00:00,  3.94s/it]\n",
      "100%|██████████| 4/4 [00:15<00:00,  3.94s/it]\n",
      "100%|██████████| 4/4 [00:15<00:00,  3.94s/it]\n",
      "100%|██████████| 4/4 [00:15<00:00,  3.94s/it]\n",
      "100%|██████████| 4/4 [00:15<00:00,  3.94s/it]\n",
      "100%|██████████| 4/4 [00:15<00:00,  3.94s/it]\n",
      "100%|██████████| 4/4 [00:15<00:00,  3.94s/it]\n",
      "100%|██████████| 4/4 [00:15<00:00,  3.94s/it]\n",
      "100%|██████████| 4/4 [00:15<00:00,  3.94s/it]\n",
      "100%|██████████| 4/4 [00:15<00:00,  3.94s/it]\n",
      "100%|██████████| 4/4 [00:15<00:00,  3.94s/it]\n",
      "100%|██████████| 4/4 [00:15<00:00,  3.94s/it]\n",
      "100%|██████████| 4/4 [00:15<00:00,  3.94s/it]\n",
      "100%|██████████| 4/4 [00:15<00:00,  3.94s/it]\n",
      "100%|██████████| 4/4 [00:15<00:00,  3.94s/it]\n",
      "100%|██████████| 4/4 [00:15<00:00,  3.94s/it]\n"
     ]
    },
    {
     "name": "stdout",
     "output_type": "stream",
     "text": [
      "iter 7520: loss 5.3091, time 15791.94ms\n"
     ]
    },
    {
     "name": "stderr",
     "output_type": "stream",
     "text": [
      "100%|██████████| 4/4 [00:15<00:00,  3.93s/it]\n",
      "100%|██████████| 4/4 [00:15<00:00,  3.94s/it]\n",
      "100%|██████████| 4/4 [00:15<00:00,  3.94s/it]\n",
      "100%|██████████| 4/4 [00:15<00:00,  3.94s/it]\n",
      "100%|██████████| 4/4 [00:15<00:00,  3.94s/it]\n",
      "100%|██████████| 4/4 [00:15<00:00,  3.94s/it]\n",
      "100%|██████████| 4/4 [00:15<00:00,  3.94s/it]\n",
      "100%|██████████| 4/4 [00:15<00:00,  3.94s/it]\n",
      "100%|██████████| 4/4 [00:15<00:00,  3.93s/it]\n",
      "100%|██████████| 4/4 [00:15<00:00,  3.94s/it]\n",
      "100%|██████████| 4/4 [00:15<00:00,  3.93s/it]\n",
      "100%|██████████| 4/4 [00:15<00:00,  3.94s/it]\n",
      "100%|██████████| 4/4 [00:15<00:00,  3.94s/it]\n",
      "100%|██████████| 4/4 [00:15<00:00,  3.94s/it]\n",
      "100%|██████████| 4/4 [00:15<00:00,  3.94s/it]\n",
      "100%|██████████| 4/4 [00:15<00:00,  3.94s/it]\n",
      "100%|██████████| 4/4 [00:15<00:00,  3.94s/it]\n",
      "100%|██████████| 4/4 [00:15<00:00,  3.94s/it]\n",
      "100%|██████████| 4/4 [00:15<00:00,  3.94s/it]\n",
      "100%|██████████| 4/4 [00:15<00:00,  3.94s/it]\n"
     ]
    },
    {
     "name": "stdout",
     "output_type": "stream",
     "text": [
      "iter 7540: loss 5.7748, time 15784.92ms\n"
     ]
    },
    {
     "name": "stderr",
     "output_type": "stream",
     "text": [
      "100%|██████████| 4/4 [00:15<00:00,  3.93s/it]\n",
      "100%|██████████| 4/4 [00:15<00:00,  3.94s/it]\n",
      "100%|██████████| 4/4 [00:15<00:00,  3.94s/it]\n",
      "100%|██████████| 4/4 [00:15<00:00,  3.94s/it]\n",
      "100%|██████████| 4/4 [00:15<00:00,  3.94s/it]\n",
      "100%|██████████| 4/4 [00:15<00:00,  3.94s/it]\n",
      "100%|██████████| 4/4 [00:15<00:00,  3.94s/it]\n",
      "100%|██████████| 4/4 [00:15<00:00,  3.94s/it]\n",
      "100%|██████████| 4/4 [00:15<00:00,  3.94s/it]\n",
      "100%|██████████| 4/4 [00:15<00:00,  3.93s/it]\n",
      "100%|██████████| 4/4 [00:15<00:00,  3.94s/it]\n",
      "100%|██████████| 4/4 [00:15<00:00,  3.94s/it]\n",
      "100%|██████████| 4/4 [00:15<00:00,  3.93s/it]\n",
      "100%|██████████| 4/4 [00:15<00:00,  3.94s/it]\n",
      "100%|██████████| 4/4 [00:15<00:00,  3.94s/it]\n",
      "100%|██████████| 4/4 [00:15<00:00,  3.94s/it]\n",
      "100%|██████████| 4/4 [00:15<00:00,  3.94s/it]\n",
      "100%|██████████| 4/4 [00:15<00:00,  3.94s/it]\n",
      "100%|██████████| 4/4 [00:15<00:00,  3.95s/it]\n",
      "100%|██████████| 4/4 [00:15<00:00,  3.94s/it]\n"
     ]
    },
    {
     "name": "stdout",
     "output_type": "stream",
     "text": [
      "iter 7560: loss 5.7457, time 15769.71ms\n"
     ]
    },
    {
     "name": "stderr",
     "output_type": "stream",
     "text": [
      "100%|██████████| 4/4 [00:15<00:00,  3.93s/it]\n",
      "100%|██████████| 4/4 [00:15<00:00,  3.94s/it]\n",
      "100%|██████████| 4/4 [00:15<00:00,  3.94s/it]\n",
      "100%|██████████| 4/4 [00:15<00:00,  3.94s/it]\n",
      "100%|██████████| 4/4 [00:15<00:00,  3.94s/it]\n",
      "100%|██████████| 4/4 [00:15<00:00,  3.94s/it]\n",
      "100%|██████████| 4/4 [00:15<00:00,  3.94s/it]\n",
      "100%|██████████| 4/4 [00:15<00:00,  3.94s/it]\n",
      "100%|██████████| 4/4 [00:15<00:00,  3.94s/it]\n",
      "100%|██████████| 4/4 [00:15<00:00,  3.94s/it]\n",
      "100%|██████████| 4/4 [00:15<00:00,  3.93s/it]\n",
      "100%|██████████| 4/4 [00:15<00:00,  3.94s/it]\n",
      "100%|██████████| 4/4 [00:15<00:00,  3.94s/it]\n",
      "100%|██████████| 4/4 [00:15<00:00,  3.94s/it]\n",
      "100%|██████████| 4/4 [00:15<00:00,  3.94s/it]\n",
      "100%|██████████| 4/4 [00:15<00:00,  3.94s/it]\n",
      "100%|██████████| 4/4 [00:15<00:00,  3.93s/it]\n",
      "100%|██████████| 4/4 [00:15<00:00,  3.94s/it]\n",
      "100%|██████████| 4/4 [00:15<00:00,  3.94s/it]\n",
      "100%|██████████| 4/4 [00:15<00:00,  3.94s/it]\n"
     ]
    },
    {
     "name": "stdout",
     "output_type": "stream",
     "text": [
      "iter 7580: loss 5.7022, time 15792.12ms\n"
     ]
    },
    {
     "name": "stderr",
     "output_type": "stream",
     "text": [
      "100%|██████████| 4/4 [00:15<00:00,  3.93s/it]\n",
      "100%|██████████| 4/4 [00:15<00:00,  3.94s/it]\n",
      "100%|██████████| 4/4 [00:15<00:00,  3.94s/it]\n",
      "100%|██████████| 4/4 [00:15<00:00,  3.94s/it]\n",
      "100%|██████████| 4/4 [00:15<00:00,  3.94s/it]\n",
      "100%|██████████| 4/4 [00:15<00:00,  3.94s/it]\n",
      "100%|██████████| 4/4 [00:15<00:00,  3.94s/it]\n",
      "100%|██████████| 4/4 [00:15<00:00,  3.94s/it]\n",
      "100%|██████████| 4/4 [00:15<00:00,  3.94s/it]\n",
      "100%|██████████| 4/4 [00:15<00:00,  3.94s/it]\n",
      "100%|██████████| 4/4 [00:15<00:00,  3.94s/it]\n",
      "100%|██████████| 4/4 [00:15<00:00,  3.94s/it]\n",
      "100%|██████████| 4/4 [00:15<00:00,  3.94s/it]\n",
      "100%|██████████| 4/4 [00:15<00:00,  3.93s/it]\n",
      "100%|██████████| 4/4 [00:15<00:00,  3.94s/it]\n",
      "100%|██████████| 4/4 [00:15<00:00,  3.94s/it]\n",
      "100%|██████████| 4/4 [00:15<00:00,  3.94s/it]\n",
      "100%|██████████| 4/4 [00:15<00:00,  3.94s/it]\n",
      "100%|██████████| 4/4 [00:15<00:00,  3.94s/it]\n"
     ]
    },
    {
     "name": "stdout",
     "output_type": "stream",
     "text": [
      "step 7600: train loss 5.4548, val loss 5.4915\n",
      "train ppl 233.89, val ppl 242.63\n",
      "📈 Train/Val Gap: 0.0367 (0.67%)\n"
     ]
    },
    {
     "name": "stderr",
     "output_type": "stream",
     "text": [
      "100%|██████████| 4/4 [00:15<00:00,  3.93s/it]\n"
     ]
    },
    {
     "name": "stdout",
     "output_type": "stream",
     "text": [
      "iter 7600: loss 5.9425, time 105568.63ms\n"
     ]
    },
    {
     "name": "stderr",
     "output_type": "stream",
     "text": [
      "100%|██████████| 4/4 [00:15<00:00,  3.94s/it]\n",
      "100%|██████████| 4/4 [00:15<00:00,  3.94s/it]\n",
      "100%|██████████| 4/4 [00:15<00:00,  3.94s/it]\n",
      "100%|██████████| 4/4 [00:15<00:00,  3.94s/it]\n",
      "100%|██████████| 4/4 [00:15<00:00,  3.93s/it]\n",
      "100%|██████████| 4/4 [00:15<00:00,  3.95s/it]\n",
      "100%|██████████| 4/4 [00:15<00:00,  3.94s/it]\n",
      "100%|██████████| 4/4 [00:15<00:00,  3.94s/it]\n",
      "100%|██████████| 4/4 [00:15<00:00,  3.94s/it]\n",
      "100%|██████████| 4/4 [00:15<00:00,  3.94s/it]\n",
      "100%|██████████| 4/4 [00:15<00:00,  3.94s/it]\n",
      "100%|██████████| 4/4 [00:15<00:00,  3.94s/it]\n",
      "100%|██████████| 4/4 [00:15<00:00,  3.94s/it]\n",
      "100%|██████████| 4/4 [00:15<00:00,  3.94s/it]\n",
      "100%|██████████| 4/4 [00:15<00:00,  3.96s/it]\n",
      "100%|██████████| 4/4 [00:15<00:00,  3.94s/it]\n",
      "100%|██████████| 4/4 [00:15<00:00,  3.94s/it]\n",
      "100%|██████████| 4/4 [00:15<00:00,  3.94s/it]\n",
      "100%|██████████| 4/4 [00:15<00:00,  3.94s/it]\n",
      "100%|██████████| 4/4 [00:15<00:00,  3.94s/it]\n"
     ]
    },
    {
     "name": "stdout",
     "output_type": "stream",
     "text": [
      "iter 7620: loss 5.6375, time 15767.28ms\n"
     ]
    },
    {
     "name": "stderr",
     "output_type": "stream",
     "text": [
      "100%|██████████| 4/4 [00:15<00:00,  3.94s/it]\n",
      "100%|██████████| 4/4 [00:15<00:00,  3.94s/it]\n",
      "100%|██████████| 4/4 [00:15<00:00,  3.94s/it]\n",
      "100%|██████████| 4/4 [00:15<00:00,  3.94s/it]\n",
      "100%|██████████| 4/4 [00:15<00:00,  3.94s/it]\n",
      "100%|██████████| 4/4 [00:15<00:00,  3.94s/it]\n",
      "100%|██████████| 4/4 [00:15<00:00,  3.95s/it]\n",
      "100%|██████████| 4/4 [00:15<00:00,  3.94s/it]\n",
      "100%|██████████| 4/4 [00:15<00:00,  3.94s/it]\n",
      "100%|██████████| 4/4 [00:15<00:00,  3.93s/it]\n",
      "100%|██████████| 4/4 [00:15<00:00,  3.94s/it]\n",
      "100%|██████████| 4/4 [00:15<00:00,  3.94s/it]\n",
      "100%|██████████| 4/4 [00:15<00:00,  3.94s/it]\n",
      "100%|██████████| 4/4 [00:15<00:00,  3.94s/it]\n",
      "100%|██████████| 4/4 [00:15<00:00,  3.94s/it]\n",
      "100%|██████████| 4/4 [00:15<00:00,  3.94s/it]\n",
      "100%|██████████| 4/4 [00:15<00:00,  3.94s/it]\n",
      "100%|██████████| 4/4 [00:15<00:00,  3.94s/it]\n",
      "100%|██████████| 4/4 [00:15<00:00,  3.93s/it]\n",
      "100%|██████████| 4/4 [00:15<00:00,  3.95s/it]\n"
     ]
    },
    {
     "name": "stdout",
     "output_type": "stream",
     "text": [
      "iter 7640: loss 5.8062, time 15805.58ms\n"
     ]
    },
    {
     "name": "stderr",
     "output_type": "stream",
     "text": [
      "100%|██████████| 4/4 [00:15<00:00,  3.93s/it]\n",
      "100%|██████████| 4/4 [00:15<00:00,  3.94s/it]\n",
      "100%|██████████| 4/4 [00:15<00:00,  3.96s/it]\n",
      "100%|██████████| 4/4 [00:15<00:00,  3.95s/it]\n",
      "100%|██████████| 4/4 [00:15<00:00,  3.94s/it]\n",
      "100%|██████████| 4/4 [00:15<00:00,  3.94s/it]\n",
      "100%|██████████| 4/4 [00:15<00:00,  3.94s/it]\n",
      "100%|██████████| 4/4 [00:15<00:00,  3.94s/it]\n",
      "100%|██████████| 4/4 [00:15<00:00,  3.94s/it]\n",
      "100%|██████████| 4/4 [00:15<00:00,  3.94s/it]\n",
      "100%|██████████| 4/4 [00:15<00:00,  3.94s/it]\n",
      "100%|██████████| 4/4 [00:15<00:00,  3.94s/it]\n",
      "100%|██████████| 4/4 [00:15<00:00,  3.94s/it]\n",
      "100%|██████████| 4/4 [00:15<00:00,  3.94s/it]\n",
      "100%|██████████| 4/4 [00:15<00:00,  3.94s/it]\n",
      "100%|██████████| 4/4 [00:15<00:00,  3.94s/it]\n",
      "100%|██████████| 4/4 [00:15<00:00,  3.94s/it]\n",
      "100%|██████████| 4/4 [00:15<00:00,  3.94s/it]\n",
      "100%|██████████| 4/4 [00:15<00:00,  3.94s/it]\n",
      "100%|██████████| 4/4 [00:15<00:00,  3.94s/it]\n"
     ]
    },
    {
     "name": "stdout",
     "output_type": "stream",
     "text": [
      "iter 7660: loss 5.7369, time 15775.91ms\n"
     ]
    },
    {
     "name": "stderr",
     "output_type": "stream",
     "text": [
      "100%|██████████| 4/4 [00:15<00:00,  3.93s/it]\n",
      "100%|██████████| 4/4 [00:15<00:00,  3.94s/it]\n",
      "100%|██████████| 4/4 [00:15<00:00,  3.94s/it]\n",
      "100%|██████████| 4/4 [00:15<00:00,  3.94s/it]\n",
      "100%|██████████| 4/4 [00:15<00:00,  3.94s/it]\n",
      "100%|██████████| 4/4 [00:15<00:00,  3.94s/it]\n",
      "100%|██████████| 4/4 [00:15<00:00,  3.94s/it]\n",
      "100%|██████████| 4/4 [00:15<00:00,  3.94s/it]\n",
      "100%|██████████| 4/4 [00:15<00:00,  3.94s/it]\n",
      "100%|██████████| 4/4 [00:15<00:00,  3.93s/it]\n",
      "100%|██████████| 4/4 [00:15<00:00,  3.94s/it]\n",
      "100%|██████████| 4/4 [00:15<00:00,  3.94s/it]\n",
      "100%|██████████| 4/4 [00:15<00:00,  3.93s/it]\n",
      "100%|██████████| 4/4 [00:15<00:00,  3.98s/it]\n",
      "100%|██████████| 4/4 [00:16<00:00,  4.02s/it]\n",
      "100%|██████████| 4/4 [00:16<00:00,  4.02s/it]\n",
      "100%|██████████| 4/4 [00:16<00:00,  4.02s/it]\n",
      "100%|██████████| 4/4 [00:16<00:00,  4.03s/it]\n",
      "100%|██████████| 4/4 [00:16<00:00,  4.02s/it]\n",
      "100%|██████████| 4/4 [00:16<00:00,  4.02s/it]\n"
     ]
    },
    {
     "name": "stdout",
     "output_type": "stream",
     "text": [
      "iter 7680: loss 4.7477, time 16105.49ms\n"
     ]
    },
    {
     "name": "stderr",
     "output_type": "stream",
     "text": [
      "100%|██████████| 4/4 [00:16<00:00,  4.01s/it]\n",
      "100%|██████████| 4/4 [00:16<00:00,  4.03s/it]\n",
      "100%|██████████| 4/4 [00:16<00:00,  4.02s/it]\n",
      "100%|██████████| 4/4 [00:16<00:00,  4.02s/it]\n",
      "100%|██████████| 4/4 [00:16<00:00,  4.02s/it]\n",
      "100%|██████████| 4/4 [00:16<00:00,  4.03s/it]\n",
      "100%|██████████| 4/4 [00:16<00:00,  4.03s/it]\n",
      "100%|██████████| 4/4 [00:16<00:00,  4.02s/it]\n",
      "100%|██████████| 4/4 [00:16<00:00,  4.04s/it]\n",
      "100%|██████████| 4/4 [00:16<00:00,  4.02s/it]\n",
      "100%|██████████| 4/4 [00:16<00:00,  4.02s/it]\n",
      "100%|██████████| 4/4 [00:16<00:00,  4.02s/it]\n",
      "100%|██████████| 4/4 [00:16<00:00,  4.03s/it]\n",
      "100%|██████████| 4/4 [00:16<00:00,  4.02s/it]\n",
      "100%|██████████| 4/4 [00:16<00:00,  4.02s/it]\n",
      "100%|██████████| 4/4 [00:16<00:00,  4.02s/it]\n",
      "100%|██████████| 4/4 [00:16<00:00,  4.03s/it]\n",
      "100%|██████████| 4/4 [00:16<00:00,  4.02s/it]\n",
      "100%|██████████| 4/4 [00:16<00:00,  4.02s/it]\n",
      "100%|██████████| 4/4 [00:16<00:00,  4.02s/it]\n"
     ]
    },
    {
     "name": "stdout",
     "output_type": "stream",
     "text": [
      "iter 7700: loss 5.5840, time 16114.31ms\n"
     ]
    },
    {
     "name": "stderr",
     "output_type": "stream",
     "text": [
      "100%|██████████| 4/4 [00:16<00:00,  4.02s/it]\n",
      "100%|██████████| 4/4 [00:16<00:00,  4.02s/it]\n",
      "100%|██████████| 4/4 [00:16<00:00,  4.02s/it]\n",
      "100%|██████████| 4/4 [00:16<00:00,  4.02s/it]\n",
      "100%|██████████| 4/4 [00:16<00:00,  4.02s/it]\n",
      "100%|██████████| 4/4 [00:16<00:00,  4.02s/it]\n",
      "100%|██████████| 4/4 [00:16<00:00,  4.02s/it]\n",
      "100%|██████████| 4/4 [00:16<00:00,  4.03s/it]\n",
      "100%|██████████| 4/4 [00:16<00:00,  4.02s/it]\n",
      "100%|██████████| 4/4 [00:16<00:00,  4.02s/it]\n",
      "100%|██████████| 4/4 [00:16<00:00,  4.02s/it]\n",
      "100%|██████████| 4/4 [00:16<00:00,  4.03s/it]\n",
      "100%|██████████| 4/4 [00:16<00:00,  4.02s/it]\n",
      "100%|██████████| 4/4 [00:16<00:00,  4.02s/it]\n",
      "100%|██████████| 4/4 [00:16<00:00,  4.03s/it]\n",
      "100%|██████████| 4/4 [00:16<00:00,  4.02s/it]\n",
      "100%|██████████| 4/4 [00:16<00:00,  4.02s/it]\n",
      "100%|██████████| 4/4 [00:16<00:00,  4.02s/it]\n",
      "100%|██████████| 4/4 [00:16<00:00,  4.03s/it]\n",
      "100%|██████████| 4/4 [00:16<00:00,  4.02s/it]\n"
     ]
    },
    {
     "name": "stdout",
     "output_type": "stream",
     "text": [
      "iter 7720: loss 5.3683, time 16113.48ms\n"
     ]
    },
    {
     "name": "stderr",
     "output_type": "stream",
     "text": [
      "100%|██████████| 4/4 [00:16<00:00,  4.01s/it]\n",
      "100%|██████████| 4/4 [00:16<00:00,  4.02s/it]\n",
      "100%|██████████| 4/4 [00:16<00:00,  4.03s/it]\n",
      "100%|██████████| 4/4 [00:16<00:00,  4.03s/it]\n",
      "100%|██████████| 4/4 [00:16<00:00,  4.02s/it]\n",
      "100%|██████████| 4/4 [00:16<00:00,  4.02s/it]\n",
      "100%|██████████| 4/4 [00:16<00:00,  4.03s/it]\n",
      "100%|██████████| 4/4 [00:16<00:00,  4.02s/it]\n",
      "100%|██████████| 4/4 [00:16<00:00,  4.02s/it]\n",
      "100%|██████████| 4/4 [00:16<00:00,  4.02s/it]\n",
      "100%|██████████| 4/4 [00:16<00:00,  4.02s/it]\n",
      "100%|██████████| 4/4 [00:16<00:00,  4.02s/it]\n",
      "100%|██████████| 4/4 [00:16<00:00,  4.02s/it]\n",
      "100%|██████████| 4/4 [00:16<00:00,  4.02s/it]\n",
      "100%|██████████| 4/4 [00:16<00:00,  4.02s/it]\n",
      "100%|██████████| 4/4 [00:16<00:00,  4.02s/it]\n",
      "100%|██████████| 4/4 [00:16<00:00,  4.02s/it]\n",
      "100%|██████████| 4/4 [00:16<00:00,  4.02s/it]\n",
      "100%|██████████| 4/4 [00:16<00:00,  4.02s/it]\n",
      "100%|██████████| 4/4 [00:16<00:00,  4.02s/it]\n"
     ]
    },
    {
     "name": "stdout",
     "output_type": "stream",
     "text": [
      "iter 7740: loss 5.6852, time 16110.90ms\n"
     ]
    },
    {
     "name": "stderr",
     "output_type": "stream",
     "text": [
      "100%|██████████| 4/4 [00:16<00:00,  4.02s/it]\n",
      "100%|██████████| 4/4 [00:16<00:00,  4.02s/it]\n",
      "100%|██████████| 4/4 [00:16<00:00,  4.02s/it]\n",
      "100%|██████████| 4/4 [00:16<00:00,  4.02s/it]\n",
      "100%|██████████| 4/4 [00:16<00:00,  4.03s/it]\n",
      "100%|██████████| 4/4 [00:16<00:00,  4.02s/it]\n",
      "100%|██████████| 4/4 [00:16<00:00,  4.02s/it]\n",
      "100%|██████████| 4/4 [00:16<00:00,  4.02s/it]\n",
      "100%|██████████| 4/4 [00:16<00:00,  4.03s/it]\n",
      "100%|██████████| 4/4 [00:16<00:00,  4.02s/it]\n",
      "100%|██████████| 4/4 [00:16<00:00,  4.06s/it]\n",
      "100%|██████████| 4/4 [00:16<00:00,  4.06s/it]\n",
      "100%|██████████| 4/4 [00:16<00:00,  4.08s/it]\n",
      "100%|██████████| 4/4 [00:16<00:00,  4.06s/it]\n",
      "100%|██████████| 4/4 [00:16<00:00,  4.06s/it]\n",
      "100%|██████████| 4/4 [00:16<00:00,  4.07s/it]\n",
      "100%|██████████| 4/4 [00:16<00:00,  4.06s/it]\n",
      "100%|██████████| 4/4 [00:16<00:00,  4.06s/it]\n",
      "100%|██████████| 4/4 [00:16<00:00,  4.07s/it]\n",
      "100%|██████████| 4/4 [00:16<00:00,  4.06s/it]\n"
     ]
    },
    {
     "name": "stdout",
     "output_type": "stream",
     "text": [
      "iter 7760: loss 5.8309, time 16274.38ms\n"
     ]
    },
    {
     "name": "stderr",
     "output_type": "stream",
     "text": [
      "100%|██████████| 4/4 [00:16<00:00,  4.06s/it]\n",
      "100%|██████████| 4/4 [00:16<00:00,  4.07s/it]\n",
      "100%|██████████| 4/4 [00:16<00:00,  4.06s/it]\n",
      "100%|██████████| 4/4 [00:16<00:00,  4.06s/it]\n",
      "100%|██████████| 4/4 [00:16<00:00,  4.06s/it]\n",
      "100%|██████████| 4/4 [00:16<00:00,  4.06s/it]\n",
      "100%|██████████| 4/4 [00:16<00:00,  4.06s/it]\n",
      "100%|██████████| 4/4 [00:16<00:00,  4.06s/it]\n",
      "100%|██████████| 4/4 [00:16<00:00,  4.06s/it]\n",
      "100%|██████████| 4/4 [00:16<00:00,  4.06s/it]\n",
      "100%|██████████| 4/4 [00:16<00:00,  4.07s/it]\n",
      "100%|██████████| 4/4 [00:16<00:00,  4.06s/it]\n",
      "100%|██████████| 4/4 [00:16<00:00,  4.06s/it]\n",
      "100%|██████████| 4/4 [00:16<00:00,  4.06s/it]\n",
      "100%|██████████| 4/4 [00:16<00:00,  4.06s/it]\n",
      "100%|██████████| 4/4 [00:16<00:00,  4.06s/it]\n",
      "100%|██████████| 4/4 [00:16<00:00,  4.06s/it]\n",
      "100%|██████████| 4/4 [00:16<00:00,  4.06s/it]\n",
      "100%|██████████| 4/4 [00:16<00:00,  4.06s/it]\n",
      "100%|██████████| 4/4 [00:16<00:00,  4.06s/it]\n"
     ]
    },
    {
     "name": "stdout",
     "output_type": "stream",
     "text": [
      "iter 7780: loss 5.6827, time 16256.78ms\n"
     ]
    },
    {
     "name": "stderr",
     "output_type": "stream",
     "text": [
      "100%|██████████| 4/4 [00:16<00:00,  4.06s/it]\n",
      "100%|██████████| 4/4 [00:16<00:00,  4.07s/it]\n",
      "100%|██████████| 4/4 [00:16<00:00,  4.06s/it]\n",
      "100%|██████████| 4/4 [00:16<00:00,  4.06s/it]\n",
      "100%|██████████| 4/4 [00:16<00:00,  4.06s/it]\n",
      "100%|██████████| 4/4 [00:16<00:00,  4.07s/it]\n",
      "100%|██████████| 4/4 [00:16<00:00,  4.07s/it]\n",
      "100%|██████████| 4/4 [00:16<00:00,  4.06s/it]\n",
      "100%|██████████| 4/4 [00:16<00:00,  4.06s/it]\n",
      "100%|██████████| 4/4 [00:16<00:00,  4.06s/it]\n",
      "100%|██████████| 4/4 [00:16<00:00,  4.06s/it]\n",
      "100%|██████████| 4/4 [00:16<00:00,  4.07s/it]\n",
      "100%|██████████| 4/4 [00:16<00:00,  4.06s/it]\n",
      "100%|██████████| 4/4 [00:16<00:00,  4.06s/it]\n",
      "100%|██████████| 4/4 [00:16<00:00,  4.06s/it]\n",
      "100%|██████████| 4/4 [00:16<00:00,  4.06s/it]\n",
      "100%|██████████| 4/4 [00:16<00:00,  4.07s/it]\n",
      "100%|██████████| 4/4 [00:16<00:00,  4.06s/it]\n",
      "100%|██████████| 4/4 [00:16<00:00,  4.06s/it]\n"
     ]
    },
    {
     "name": "stdout",
     "output_type": "stream",
     "text": [
      "step 7800: train loss 5.5931, val loss 5.6079\n",
      "train ppl 268.56, val ppl 272.58\n",
      "📈 Train/Val Gap: 0.0149 (0.27%)\n"
     ]
    },
    {
     "name": "stderr",
     "output_type": "stream",
     "text": [
      "100%|██████████| 4/4 [00:16<00:00,  4.06s/it]\n"
     ]
    },
    {
     "name": "stdout",
     "output_type": "stream",
     "text": [
      "iter 7800: loss 5.7831, time 111816.57ms\n"
     ]
    },
    {
     "name": "stderr",
     "output_type": "stream",
     "text": [
      "100%|██████████| 4/4 [00:16<00:00,  4.06s/it]\n",
      "100%|██████████| 4/4 [00:16<00:00,  4.06s/it]\n",
      "100%|██████████| 4/4 [00:16<00:00,  4.06s/it]\n",
      "100%|██████████| 4/4 [00:16<00:00,  4.06s/it]\n",
      "100%|██████████| 4/4 [00:16<00:00,  4.06s/it]\n",
      "100%|██████████| 4/4 [00:16<00:00,  4.06s/it]\n",
      "100%|██████████| 4/4 [00:16<00:00,  4.06s/it]\n",
      "100%|██████████| 4/4 [00:16<00:00,  4.06s/it]\n",
      "100%|██████████| 4/4 [00:16<00:00,  4.07s/it]\n",
      "100%|██████████| 4/4 [00:16<00:00,  4.06s/it]\n",
      "100%|██████████| 4/4 [00:16<00:00,  4.06s/it]\n",
      "100%|██████████| 4/4 [00:16<00:00,  4.06s/it]\n",
      "100%|██████████| 4/4 [00:16<00:00,  4.04s/it]\n",
      "100%|██████████| 4/4 [00:15<00:00,  3.99s/it]\n",
      "100%|██████████| 4/4 [00:15<00:00,  3.99s/it]\n",
      "100%|██████████| 4/4 [00:16<00:00,  4.01s/it]\n",
      "100%|██████████| 4/4 [00:15<00:00,  3.99s/it]\n",
      "100%|██████████| 4/4 [00:15<00:00,  3.99s/it]\n",
      "100%|██████████| 4/4 [00:15<00:00,  4.00s/it]\n",
      "100%|██████████| 4/4 [00:15<00:00,  3.99s/it]\n"
     ]
    },
    {
     "name": "stdout",
     "output_type": "stream",
     "text": [
      "iter 7820: loss 5.1261, time 15994.75ms\n"
     ]
    },
    {
     "name": "stderr",
     "output_type": "stream",
     "text": [
      "100%|██████████| 4/4 [00:15<00:00,  3.98s/it]\n",
      "100%|██████████| 4/4 [00:15<00:00,  3.99s/it]\n",
      "100%|██████████| 4/4 [00:15<00:00,  3.99s/it]\n",
      "100%|██████████| 4/4 [00:15<00:00,  3.99s/it]\n",
      "100%|██████████| 4/4 [00:15<00:00,  3.99s/it]\n",
      "100%|██████████| 4/4 [00:15<00:00,  3.99s/it]\n",
      "100%|██████████| 4/4 [00:15<00:00,  3.99s/it]\n",
      "100%|██████████| 4/4 [00:16<00:00,  4.01s/it]\n",
      "100%|██████████| 4/4 [00:15<00:00,  3.99s/it]\n",
      "100%|██████████| 4/4 [00:15<00:00,  3.99s/it]\n",
      "100%|██████████| 4/4 [00:15<00:00,  3.98s/it]\n",
      "100%|██████████| 4/4 [00:15<00:00,  3.98s/it]\n",
      "100%|██████████| 4/4 [00:15<00:00,  3.98s/it]\n",
      "100%|██████████| 4/4 [00:15<00:00,  3.98s/it]\n",
      "100%|██████████| 4/4 [00:15<00:00,  3.98s/it]\n",
      "100%|██████████| 4/4 [00:15<00:00,  3.98s/it]\n",
      "100%|██████████| 4/4 [00:15<00:00,  3.97s/it]\n",
      "100%|██████████| 4/4 [00:15<00:00,  3.98s/it]\n",
      "100%|██████████| 4/4 [00:15<00:00,  3.98s/it]\n",
      "100%|██████████| 4/4 [00:15<00:00,  3.98s/it]\n"
     ]
    },
    {
     "name": "stdout",
     "output_type": "stream",
     "text": [
      "iter 7840: loss 5.4030, time 15940.69ms\n"
     ]
    },
    {
     "name": "stderr",
     "output_type": "stream",
     "text": [
      "100%|██████████| 4/4 [00:15<00:00,  3.97s/it]\n",
      "100%|██████████| 4/4 [00:15<00:00,  3.98s/it]\n",
      "100%|██████████| 4/4 [00:15<00:00,  3.98s/it]\n",
      "100%|██████████| 4/4 [00:16<00:00,  4.00s/it]\n",
      "100%|██████████| 4/4 [00:15<00:00,  3.98s/it]\n",
      "100%|██████████| 4/4 [00:15<00:00,  3.98s/it]\n",
      "100%|██████████| 4/4 [00:15<00:00,  3.98s/it]\n",
      "100%|██████████| 4/4 [00:15<00:00,  3.98s/it]\n",
      "100%|██████████| 4/4 [00:15<00:00,  3.98s/it]\n",
      "100%|██████████| 4/4 [00:15<00:00,  3.98s/it]\n",
      "100%|██████████| 4/4 [00:15<00:00,  3.98s/it]\n",
      "100%|██████████| 4/4 [00:15<00:00,  3.98s/it]\n",
      "100%|██████████| 4/4 [00:15<00:00,  3.98s/it]\n",
      "100%|██████████| 4/4 [00:15<00:00,  3.98s/it]\n",
      "100%|██████████| 4/4 [00:15<00:00,  3.98s/it]\n",
      "100%|██████████| 4/4 [00:15<00:00,  3.98s/it]\n",
      "100%|██████████| 4/4 [00:15<00:00,  3.98s/it]\n",
      "100%|██████████| 4/4 [00:15<00:00,  3.98s/it]\n",
      "100%|██████████| 4/4 [00:15<00:00,  3.98s/it]\n",
      "100%|██████████| 4/4 [00:15<00:00,  3.98s/it]\n"
     ]
    },
    {
     "name": "stdout",
     "output_type": "stream",
     "text": [
      "iter 7860: loss 6.1359, time 15937.57ms\n"
     ]
    },
    {
     "name": "stderr",
     "output_type": "stream",
     "text": [
      "100%|██████████| 4/4 [00:15<00:00,  3.97s/it]\n",
      "100%|██████████| 4/4 [00:15<00:00,  3.99s/it]\n",
      "100%|██████████| 4/4 [00:15<00:00,  3.98s/it]\n",
      "100%|██████████| 4/4 [00:15<00:00,  3.98s/it]\n",
      "100%|██████████| 4/4 [00:15<00:00,  3.98s/it]\n",
      "100%|██████████| 4/4 [00:15<00:00,  3.99s/it]\n",
      "100%|██████████| 4/4 [00:15<00:00,  3.98s/it]\n",
      "100%|██████████| 4/4 [00:15<00:00,  3.98s/it]\n",
      "100%|██████████| 4/4 [00:15<00:00,  3.98s/it]\n",
      "100%|██████████| 4/4 [00:15<00:00,  3.94s/it]\n",
      "100%|██████████| 4/4 [00:15<00:00,  3.94s/it]\n",
      "100%|██████████| 4/4 [00:15<00:00,  3.94s/it]\n",
      "100%|██████████| 4/4 [00:15<00:00,  3.95s/it]\n",
      "100%|██████████| 4/4 [00:15<00:00,  3.95s/it]\n",
      "100%|██████████| 4/4 [00:15<00:00,  3.95s/it]\n",
      "100%|██████████| 4/4 [00:15<00:00,  3.95s/it]\n",
      "100%|██████████| 4/4 [00:15<00:00,  3.96s/it]\n",
      "100%|██████████| 4/4 [00:15<00:00,  3.95s/it]\n",
      "100%|██████████| 4/4 [00:15<00:00,  3.95s/it]\n",
      "100%|██████████| 4/4 [00:15<00:00,  3.95s/it]\n"
     ]
    },
    {
     "name": "stdout",
     "output_type": "stream",
     "text": [
      "iter 7880: loss 5.3182, time 15827.24ms\n"
     ]
    },
    {
     "name": "stderr",
     "output_type": "stream",
     "text": [
      "100%|██████████| 4/4 [00:15<00:00,  3.94s/it]\n",
      "100%|██████████| 4/4 [00:15<00:00,  3.96s/it]\n",
      "100%|██████████| 4/4 [00:15<00:00,  3.95s/it]\n",
      "100%|██████████| 4/4 [00:15<00:00,  3.95s/it]\n",
      "100%|██████████| 4/4 [00:15<00:00,  3.95s/it]\n",
      "100%|██████████| 4/4 [00:15<00:00,  3.95s/it]\n",
      "100%|██████████| 4/4 [00:15<00:00,  3.95s/it]\n",
      "100%|██████████| 4/4 [00:15<00:00,  3.95s/it]\n",
      "100%|██████████| 4/4 [00:15<00:00,  3.95s/it]\n",
      "100%|██████████| 4/4 [00:15<00:00,  3.95s/it]\n",
      "100%|██████████| 4/4 [00:15<00:00,  3.95s/it]\n",
      "100%|██████████| 4/4 [00:15<00:00,  3.96s/it]\n",
      "100%|██████████| 4/4 [00:15<00:00,  3.95s/it]\n",
      "100%|██████████| 4/4 [00:15<00:00,  3.95s/it]\n",
      "100%|██████████| 4/4 [00:15<00:00,  3.95s/it]\n",
      "100%|██████████| 4/4 [00:15<00:00,  3.96s/it]\n",
      "100%|██████████| 4/4 [00:15<00:00,  3.95s/it]\n",
      "100%|██████████| 4/4 [00:15<00:00,  3.95s/it]\n",
      "100%|██████████| 4/4 [00:15<00:00,  3.95s/it]\n",
      "100%|██████████| 4/4 [00:15<00:00,  3.95s/it]\n"
     ]
    },
    {
     "name": "stdout",
     "output_type": "stream",
     "text": [
      "iter 7900: loss 5.6167, time 15840.02ms\n"
     ]
    },
    {
     "name": "stderr",
     "output_type": "stream",
     "text": [
      "100%|██████████| 4/4 [00:15<00:00,  3.95s/it]\n",
      "100%|██████████| 4/4 [00:15<00:00,  3.95s/it]\n",
      "100%|██████████| 4/4 [00:15<00:00,  3.95s/it]\n",
      "100%|██████████| 4/4 [00:15<00:00,  3.95s/it]\n",
      "100%|██████████| 4/4 [00:15<00:00,  3.95s/it]\n",
      "100%|██████████| 4/4 [00:15<00:00,  3.95s/it]\n",
      "100%|██████████| 4/4 [00:15<00:00,  3.95s/it]\n",
      "100%|██████████| 4/4 [00:15<00:00,  3.95s/it]\n",
      "100%|██████████| 4/4 [00:15<00:00,  3.95s/it]\n",
      "100%|██████████| 4/4 [00:15<00:00,  3.95s/it]\n",
      "100%|██████████| 4/4 [00:15<00:00,  3.96s/it]\n",
      "100%|██████████| 4/4 [00:15<00:00,  3.95s/it]\n",
      "100%|██████████| 4/4 [00:15<00:00,  3.95s/it]\n",
      "100%|██████████| 4/4 [00:15<00:00,  3.95s/it]\n",
      "100%|██████████| 4/4 [00:15<00:00,  3.96s/it]\n",
      "100%|██████████| 4/4 [00:15<00:00,  3.95s/it]\n",
      "100%|██████████| 4/4 [00:15<00:00,  3.95s/it]\n",
      "100%|██████████| 4/4 [00:15<00:00,  3.95s/it]\n",
      "100%|██████████| 4/4 [00:15<00:00,  3.95s/it]\n",
      "100%|██████████| 4/4 [00:15<00:00,  3.95s/it]\n"
     ]
    },
    {
     "name": "stdout",
     "output_type": "stream",
     "text": [
      "iter 7920: loss 5.4195, time 15829.93ms\n"
     ]
    },
    {
     "name": "stderr",
     "output_type": "stream",
     "text": [
      "100%|██████████| 4/4 [00:15<00:00,  3.95s/it]\n",
      "100%|██████████| 4/4 [00:15<00:00,  3.96s/it]\n",
      "100%|██████████| 4/4 [00:15<00:00,  3.95s/it]\n",
      "100%|██████████| 4/4 [00:15<00:00,  3.95s/it]\n",
      "100%|██████████| 4/4 [00:15<00:00,  3.95s/it]\n",
      "100%|██████████| 4/4 [00:15<00:00,  3.96s/it]\n",
      "100%|██████████| 4/4 [00:15<00:00,  3.95s/it]\n",
      "100%|██████████| 4/4 [00:15<00:00,  3.95s/it]\n",
      "100%|██████████| 4/4 [00:15<00:00,  3.95s/it]\n",
      "100%|██████████| 4/4 [00:15<00:00,  3.95s/it]\n",
      "100%|██████████| 4/4 [00:15<00:00,  3.95s/it]\n",
      "100%|██████████| 4/4 [00:15<00:00,  3.95s/it]\n",
      "100%|██████████| 4/4 [00:15<00:00,  3.95s/it]\n",
      "100%|██████████| 4/4 [00:15<00:00,  3.95s/it]\n",
      "100%|██████████| 4/4 [00:15<00:00,  3.95s/it]\n",
      "100%|██████████| 4/4 [00:15<00:00,  3.95s/it]\n",
      "100%|██████████| 4/4 [00:15<00:00,  3.95s/it]\n",
      "100%|██████████| 4/4 [00:15<00:00,  3.96s/it]\n",
      "100%|██████████| 4/4 [00:15<00:00,  3.95s/it]\n",
      "100%|██████████| 4/4 [00:15<00:00,  3.95s/it]\n"
     ]
    },
    {
     "name": "stdout",
     "output_type": "stream",
     "text": [
      "iter 7940: loss 5.7471, time 15827.17ms\n"
     ]
    },
    {
     "name": "stderr",
     "output_type": "stream",
     "text": [
      "100%|██████████| 4/4 [00:15<00:00,  3.95s/it]\n",
      "100%|██████████| 4/4 [00:15<00:00,  3.95s/it]\n",
      "100%|██████████| 4/4 [00:15<00:00,  3.95s/it]\n",
      "100%|██████████| 4/4 [00:15<00:00,  3.95s/it]\n",
      "100%|██████████| 4/4 [00:15<00:00,  3.95s/it]\n",
      "100%|██████████| 4/4 [00:15<00:00,  3.96s/it]\n",
      "100%|██████████| 4/4 [00:15<00:00,  3.95s/it]\n",
      "100%|██████████| 4/4 [00:15<00:00,  3.95s/it]\n",
      "100%|██████████| 4/4 [00:15<00:00,  3.95s/it]\n",
      "100%|██████████| 4/4 [00:15<00:00,  3.95s/it]\n",
      "100%|██████████| 4/4 [00:15<00:00,  3.95s/it]\n",
      "100%|██████████| 4/4 [00:15<00:00,  3.95s/it]\n",
      "100%|██████████| 4/4 [00:15<00:00,  3.96s/it]\n",
      "100%|██████████| 4/4 [00:15<00:00,  3.95s/it]\n",
      "100%|██████████| 4/4 [00:15<00:00,  3.95s/it]\n",
      "100%|██████████| 4/4 [00:15<00:00,  3.95s/it]\n",
      "100%|██████████| 4/4 [00:15<00:00,  3.95s/it]\n",
      "100%|██████████| 4/4 [00:15<00:00,  3.95s/it]\n",
      "100%|██████████| 4/4 [00:15<00:00,  3.95s/it]\n",
      "100%|██████████| 4/4 [00:15<00:00,  3.95s/it]\n"
     ]
    },
    {
     "name": "stdout",
     "output_type": "stream",
     "text": [
      "iter 7960: loss 5.5319, time 15824.18ms\n"
     ]
    },
    {
     "name": "stderr",
     "output_type": "stream",
     "text": [
      "100%|██████████| 4/4 [00:15<00:00,  3.95s/it]\n",
      "100%|██████████| 4/4 [00:15<00:00,  3.95s/it]\n",
      "100%|██████████| 4/4 [00:15<00:00,  3.95s/it]\n",
      "100%|██████████| 4/4 [00:15<00:00,  3.93s/it]\n",
      "100%|██████████| 4/4 [00:15<00:00,  3.87s/it]\n",
      "100%|██████████| 4/4 [00:15<00:00,  3.87s/it]\n",
      "100%|██████████| 4/4 [00:15<00:00,  3.87s/it]\n",
      "100%|██████████| 4/4 [00:15<00:00,  3.88s/it]\n",
      "100%|██████████| 4/4 [00:15<00:00,  3.87s/it]\n",
      "100%|██████████| 4/4 [00:15<00:00,  3.87s/it]\n",
      "100%|██████████| 4/4 [00:15<00:00,  3.88s/it]\n",
      "100%|██████████| 4/4 [00:15<00:00,  3.88s/it]\n",
      "100%|██████████| 4/4 [00:15<00:00,  3.87s/it]\n",
      "100%|██████████| 4/4 [00:15<00:00,  3.88s/it]\n",
      "100%|██████████| 4/4 [00:15<00:00,  3.87s/it]\n",
      "100%|██████████| 4/4 [00:15<00:00,  3.88s/it]\n",
      "100%|██████████| 4/4 [00:15<00:00,  3.87s/it]\n",
      "100%|██████████| 4/4 [00:15<00:00,  3.87s/it]\n",
      "100%|██████████| 4/4 [00:15<00:00,  3.86s/it]\n",
      "100%|██████████| 4/4 [00:15<00:00,  3.86s/it]\n"
     ]
    },
    {
     "name": "stdout",
     "output_type": "stream",
     "text": [
      "iter 7980: loss 5.1155, time 15465.42ms\n"
     ]
    },
    {
     "name": "stderr",
     "output_type": "stream",
     "text": [
      "100%|██████████| 4/4 [00:15<00:00,  3.86s/it]\n",
      "100%|██████████| 4/4 [00:15<00:00,  3.86s/it]\n",
      "100%|██████████| 4/4 [00:15<00:00,  3.86s/it]\n",
      "100%|██████████| 4/4 [00:15<00:00,  3.87s/it]\n",
      "100%|██████████| 4/4 [00:15<00:00,  3.86s/it]\n",
      "100%|██████████| 4/4 [00:15<00:00,  3.86s/it]\n",
      "100%|██████████| 4/4 [00:15<00:00,  3.86s/it]\n",
      "100%|██████████| 4/4 [00:15<00:00,  3.86s/it]\n",
      "100%|██████████| 4/4 [00:15<00:00,  3.86s/it]\n",
      "100%|██████████| 4/4 [00:15<00:00,  3.86s/it]\n",
      "100%|██████████| 4/4 [00:15<00:00,  3.87s/it]\n",
      "100%|██████████| 4/4 [00:15<00:00,  3.93s/it]\n",
      "100%|██████████| 4/4 [00:15<00:00,  3.93s/it]\n",
      "100%|██████████| 4/4 [00:15<00:00,  3.93s/it]\n",
      "100%|██████████| 4/4 [00:15<00:00,  3.93s/it]\n",
      "100%|██████████| 4/4 [00:15<00:00,  3.93s/it]\n",
      "100%|██████████| 4/4 [00:15<00:00,  3.93s/it]\n",
      "100%|██████████| 4/4 [00:15<00:00,  3.93s/it]\n",
      "100%|██████████| 4/4 [00:15<00:00,  3.93s/it]\n"
     ]
    },
    {
     "name": "stdout",
     "output_type": "stream",
     "text": [
      "step 8000: train loss 5.5639, val loss 5.6689\n",
      "train ppl 260.85, val ppl 289.71\n",
      "📈 Train/Val Gap: 0.1049 (1.89%)\n"
     ]
    },
    {
     "name": "stderr",
     "output_type": "stream",
     "text": [
      "100%|██████████| 4/4 [00:15<00:00,  3.93s/it]\n"
     ]
    },
    {
     "name": "stdout",
     "output_type": "stream",
     "text": [
      "iter 8000: loss 4.1350, time 111021.95ms\n"
     ]
    },
    {
     "name": "stderr",
     "output_type": "stream",
     "text": [
      "100%|██████████| 4/4 [00:15<00:00,  3.93s/it]\n",
      "100%|██████████| 4/4 [00:15<00:00,  3.93s/it]\n",
      "100%|██████████| 4/4 [00:15<00:00,  3.93s/it]\n",
      "100%|██████████| 4/4 [00:15<00:00,  3.93s/it]\n",
      "100%|██████████| 4/4 [00:15<00:00,  3.93s/it]\n",
      "100%|██████████| 4/4 [00:15<00:00,  3.93s/it]\n",
      "100%|██████████| 4/4 [00:15<00:00,  3.93s/it]\n",
      "100%|██████████| 4/4 [00:15<00:00,  3.94s/it]\n",
      "100%|██████████| 4/4 [00:15<00:00,  3.93s/it]\n",
      "100%|██████████| 4/4 [00:15<00:00,  3.93s/it]\n",
      "100%|██████████| 4/4 [00:15<00:00,  3.93s/it]\n",
      "100%|██████████| 4/4 [00:15<00:00,  3.94s/it]\n",
      "100%|██████████| 4/4 [00:15<00:00,  3.93s/it]\n",
      "100%|██████████| 4/4 [00:15<00:00,  3.95s/it]\n",
      "100%|██████████| 4/4 [00:15<00:00,  3.93s/it]\n",
      "100%|██████████| 4/4 [00:15<00:00,  3.93s/it]\n",
      "100%|██████████| 4/4 [00:15<00:00,  3.93s/it]\n",
      "100%|██████████| 4/4 [00:15<00:00,  3.93s/it]\n",
      "100%|██████████| 4/4 [00:15<00:00,  3.93s/it]\n",
      "100%|██████████| 4/4 [00:15<00:00,  3.94s/it]\n"
     ]
    },
    {
     "name": "stdout",
     "output_type": "stream",
     "text": [
      "iter 8020: loss 5.3131, time 15774.46ms\n"
     ]
    },
    {
     "name": "stderr",
     "output_type": "stream",
     "text": [
      "100%|██████████| 4/4 [00:15<00:00,  3.93s/it]\n",
      "100%|██████████| 4/4 [00:15<00:00,  3.93s/it]\n",
      "100%|██████████| 4/4 [00:15<00:00,  3.93s/it]\n",
      "100%|██████████| 4/4 [00:15<00:00,  3.93s/it]\n",
      "100%|██████████| 4/4 [00:15<00:00,  3.93s/it]\n",
      "100%|██████████| 4/4 [00:15<00:00,  3.95s/it]\n",
      "100%|██████████| 4/4 [00:15<00:00,  3.93s/it]\n",
      "100%|██████████| 4/4 [00:15<00:00,  3.93s/it]\n",
      "100%|██████████| 4/4 [00:15<00:00,  3.93s/it]\n",
      "100%|██████████| 4/4 [00:15<00:00,  3.93s/it]\n",
      "100%|██████████| 4/4 [00:15<00:00,  3.93s/it]\n",
      "100%|██████████| 4/4 [00:15<00:00,  3.93s/it]\n",
      "100%|██████████| 4/4 [00:15<00:00,  3.93s/it]\n",
      "100%|██████████| 4/4 [00:15<00:00,  3.93s/it]\n",
      "100%|██████████| 4/4 [00:15<00:00,  3.94s/it]\n",
      "100%|██████████| 4/4 [00:15<00:00,  3.93s/it]\n",
      "100%|██████████| 4/4 [00:15<00:00,  3.93s/it]\n",
      "100%|██████████| 4/4 [00:15<00:00,  3.93s/it]\n",
      "100%|██████████| 4/4 [00:15<00:00,  3.94s/it]\n",
      "100%|██████████| 4/4 [00:15<00:00,  3.93s/it]\n"
     ]
    },
    {
     "name": "stdout",
     "output_type": "stream",
     "text": [
      "iter 8040: loss 5.4061, time 15739.73ms\n"
     ]
    },
    {
     "name": "stderr",
     "output_type": "stream",
     "text": [
      "100%|██████████| 4/4 [00:15<00:00,  3.92s/it]\n",
      "100%|██████████| 4/4 [00:15<00:00,  3.96s/it]\n",
      "100%|██████████| 4/4 [00:15<00:00,  3.93s/it]\n",
      "100%|██████████| 4/4 [00:15<00:00,  3.93s/it]\n",
      "100%|██████████| 4/4 [00:15<00:00,  3.93s/it]\n",
      "100%|██████████| 4/4 [00:15<00:00,  3.93s/it]\n",
      "100%|██████████| 4/4 [00:15<00:00,  3.93s/it]\n",
      "100%|██████████| 4/4 [00:15<00:00,  3.93s/it]\n",
      "100%|██████████| 4/4 [00:15<00:00,  3.93s/it]\n",
      "100%|██████████| 4/4 [00:15<00:00,  3.93s/it]\n",
      "100%|██████████| 4/4 [00:15<00:00,  3.93s/it]\n",
      "100%|██████████| 4/4 [00:15<00:00,  3.93s/it]\n",
      "100%|██████████| 4/4 [00:15<00:00,  3.93s/it]\n",
      "100%|██████████| 4/4 [00:15<00:00,  3.94s/it]\n",
      "100%|██████████| 4/4 [00:15<00:00,  3.93s/it]\n",
      "100%|██████████| 4/4 [00:15<00:00,  3.93s/it]\n",
      "100%|██████████| 4/4 [00:15<00:00,  3.93s/it]\n",
      "100%|██████████| 4/4 [00:15<00:00,  3.93s/it]\n",
      "100%|██████████| 4/4 [00:15<00:00,  3.93s/it]\n",
      "100%|██████████| 4/4 [00:15<00:00,  3.93s/it]\n"
     ]
    },
    {
     "name": "stdout",
     "output_type": "stream",
     "text": [
      "iter 8060: loss 5.7900, time 15745.83ms\n"
     ]
    },
    {
     "name": "stderr",
     "output_type": "stream",
     "text": [
      "100%|██████████| 4/4 [00:15<00:00,  3.93s/it]\n",
      "100%|██████████| 4/4 [00:15<00:00,  3.93s/it]\n",
      "100%|██████████| 4/4 [00:15<00:00,  3.93s/it]\n",
      "100%|██████████| 4/4 [00:15<00:00,  3.93s/it]\n",
      "100%|██████████| 4/4 [00:15<00:00,  3.93s/it]\n",
      "100%|██████████| 4/4 [00:15<00:00,  3.93s/it]\n",
      "100%|██████████| 4/4 [00:15<00:00,  3.93s/it]\n",
      "100%|██████████| 4/4 [00:15<00:00,  3.93s/it]\n",
      "100%|██████████| 4/4 [00:15<00:00,  3.93s/it]\n",
      "100%|██████████| 4/4 [00:15<00:00,  3.93s/it]\n",
      "100%|██████████| 4/4 [00:15<00:00,  3.93s/it]\n",
      "100%|██████████| 4/4 [00:15<00:00,  3.93s/it]\n",
      "100%|██████████| 4/4 [00:15<00:00,  3.93s/it]\n",
      "100%|██████████| 4/4 [00:15<00:00,  3.93s/it]\n",
      "100%|██████████| 4/4 [00:15<00:00,  3.93s/it]\n",
      "100%|██████████| 4/4 [00:15<00:00,  3.93s/it]\n",
      "100%|██████████| 4/4 [00:15<00:00,  3.94s/it]\n",
      "100%|██████████| 4/4 [00:15<00:00,  3.93s/it]\n",
      "100%|██████████| 4/4 [00:15<00:00,  3.93s/it]\n",
      "100%|██████████| 4/4 [00:15<00:00,  3.93s/it]\n"
     ]
    },
    {
     "name": "stdout",
     "output_type": "stream",
     "text": [
      "iter 8080: loss 6.2723, time 15759.26ms\n"
     ]
    },
    {
     "name": "stderr",
     "output_type": "stream",
     "text": [
      "100%|██████████| 4/4 [00:15<00:00,  3.93s/it]\n",
      "100%|██████████| 4/4 [00:15<00:00,  3.93s/it]\n",
      "100%|██████████| 4/4 [00:15<00:00,  3.93s/it]\n",
      "100%|██████████| 4/4 [00:15<00:00,  3.94s/it]\n",
      "100%|██████████| 4/4 [00:15<00:00,  3.93s/it]\n",
      "100%|██████████| 4/4 [00:15<00:00,  3.93s/it]\n",
      "100%|██████████| 4/4 [00:15<00:00,  3.93s/it]\n",
      "100%|██████████| 4/4 [00:15<00:00,  3.94s/it]\n",
      "100%|██████████| 4/4 [00:15<00:00,  3.93s/it]\n",
      "100%|██████████| 4/4 [00:15<00:00,  3.93s/it]\n",
      "100%|██████████| 4/4 [00:15<00:00,  3.93s/it]\n",
      "100%|██████████| 4/4 [00:15<00:00,  3.94s/it]\n",
      "100%|██████████| 4/4 [00:15<00:00,  3.93s/it]\n",
      "100%|██████████| 4/4 [00:15<00:00,  3.93s/it]\n",
      "100%|██████████| 4/4 [00:15<00:00,  3.93s/it]\n",
      "100%|██████████| 4/4 [00:15<00:00,  3.94s/it]\n",
      "100%|██████████| 4/4 [00:15<00:00,  3.93s/it]\n",
      "100%|██████████| 4/4 [00:15<00:00,  3.93s/it]\n",
      "100%|██████████| 4/4 [00:15<00:00,  3.94s/it]\n",
      "100%|██████████| 4/4 [00:15<00:00,  3.91s/it]\n"
     ]
    },
    {
     "name": "stdout",
     "output_type": "stream",
     "text": [
      "iter 8100: loss 6.1321, time 15676.68ms\n"
     ]
    },
    {
     "name": "stderr",
     "output_type": "stream",
     "text": [
      "100%|██████████| 4/4 [00:15<00:00,  3.90s/it]\n",
      "100%|██████████| 4/4 [00:15<00:00,  3.90s/it]\n",
      "100%|██████████| 4/4 [00:15<00:00,  3.94s/it]\n",
      "100%|██████████| 4/4 [00:15<00:00,  3.95s/it]\n",
      "100%|██████████| 4/4 [00:15<00:00,  3.94s/it]\n",
      "100%|██████████| 4/4 [00:15<00:00,  3.95s/it]\n",
      "100%|██████████| 4/4 [00:15<00:00,  3.95s/it]\n",
      "100%|██████████| 4/4 [00:15<00:00,  3.94s/it]\n",
      "100%|██████████| 4/4 [00:15<00:00,  3.95s/it]\n",
      "100%|██████████| 4/4 [00:15<00:00,  3.94s/it]\n",
      "100%|██████████| 4/4 [00:15<00:00,  3.95s/it]\n",
      "100%|██████████| 4/4 [00:15<00:00,  3.95s/it]\n",
      "100%|██████████| 4/4 [00:15<00:00,  3.95s/it]\n",
      "100%|██████████| 4/4 [00:15<00:00,  3.94s/it]\n",
      "100%|██████████| 4/4 [00:15<00:00,  3.95s/it]\n",
      "100%|██████████| 4/4 [00:15<00:00,  3.94s/it]\n",
      "100%|██████████| 4/4 [00:15<00:00,  3.95s/it]\n",
      "100%|██████████| 4/4 [00:15<00:00,  3.95s/it]\n",
      "100%|██████████| 4/4 [00:15<00:00,  3.95s/it]\n",
      "100%|██████████| 4/4 [00:15<00:00,  3.95s/it]\n"
     ]
    },
    {
     "name": "stdout",
     "output_type": "stream",
     "text": [
      "iter 8120: loss 5.9392, time 15826.22ms\n"
     ]
    },
    {
     "name": "stderr",
     "output_type": "stream",
     "text": [
      "100%|██████████| 4/4 [00:15<00:00,  3.94s/it]\n",
      "100%|██████████| 4/4 [00:15<00:00,  3.95s/it]\n",
      "100%|██████████| 4/4 [00:15<00:00,  3.94s/it]\n",
      "100%|██████████| 4/4 [00:15<00:00,  3.95s/it]\n",
      "100%|██████████| 4/4 [00:15<00:00,  3.95s/it]\n",
      "100%|██████████| 4/4 [00:15<00:00,  3.95s/it]\n",
      "100%|██████████| 4/4 [00:15<00:00,  3.95s/it]\n",
      "100%|██████████| 4/4 [00:15<00:00,  3.94s/it]\n",
      "100%|██████████| 4/4 [00:15<00:00,  3.95s/it]\n",
      "100%|██████████| 4/4 [00:15<00:00,  3.95s/it]\n",
      "100%|██████████| 4/4 [00:15<00:00,  3.94s/it]\n",
      "100%|██████████| 4/4 [00:15<00:00,  3.95s/it]\n",
      "100%|██████████| 4/4 [00:15<00:00,  3.94s/it]\n",
      "100%|██████████| 4/4 [00:15<00:00,  3.95s/it]\n",
      "100%|██████████| 4/4 [00:15<00:00,  3.95s/it]\n",
      "100%|██████████| 4/4 [00:15<00:00,  3.95s/it]\n",
      "100%|██████████| 4/4 [00:15<00:00,  3.95s/it]\n",
      "100%|██████████| 4/4 [00:15<00:00,  3.95s/it]\n",
      "100%|██████████| 4/4 [00:15<00:00,  3.94s/it]\n",
      "100%|██████████| 4/4 [00:15<00:00,  3.95s/it]\n"
     ]
    },
    {
     "name": "stdout",
     "output_type": "stream",
     "text": [
      "iter 8140: loss 5.6486, time 15807.09ms\n"
     ]
    },
    {
     "name": "stderr",
     "output_type": "stream",
     "text": [
      "100%|██████████| 4/4 [00:15<00:00,  3.95s/it]\n",
      "100%|██████████| 4/4 [00:15<00:00,  3.95s/it]\n",
      "100%|██████████| 4/4 [00:15<00:00,  3.95s/it]\n",
      "100%|██████████| 4/4 [00:15<00:00,  3.95s/it]\n",
      "100%|██████████| 4/4 [00:15<00:00,  3.95s/it]\n",
      "100%|██████████| 4/4 [00:15<00:00,  3.95s/it]\n",
      "100%|██████████| 4/4 [00:15<00:00,  3.95s/it]\n",
      "100%|██████████| 4/4 [00:15<00:00,  3.95s/it]\n",
      "100%|██████████| 4/4 [00:15<00:00,  3.95s/it]\n",
      "100%|██████████| 4/4 [00:15<00:00,  3.95s/it]\n",
      "100%|██████████| 4/4 [00:15<00:00,  3.95s/it]\n",
      "100%|██████████| 4/4 [00:15<00:00,  3.96s/it]\n",
      "100%|██████████| 4/4 [00:15<00:00,  3.95s/it]\n",
      "100%|██████████| 4/4 [00:15<00:00,  3.95s/it]\n",
      "100%|██████████| 4/4 [00:15<00:00,  3.95s/it]\n",
      "100%|██████████| 4/4 [00:15<00:00,  3.96s/it]\n",
      "100%|██████████| 4/4 [00:15<00:00,  3.95s/it]\n",
      "100%|██████████| 4/4 [00:15<00:00,  3.95s/it]\n",
      "100%|██████████| 4/4 [00:15<00:00,  3.95s/it]\n",
      "100%|██████████| 4/4 [00:15<00:00,  3.96s/it]\n"
     ]
    },
    {
     "name": "stdout",
     "output_type": "stream",
     "text": [
      "iter 8160: loss 5.8584, time 15851.66ms\n"
     ]
    },
    {
     "name": "stderr",
     "output_type": "stream",
     "text": [
      "100%|██████████| 4/4 [00:15<00:00,  3.94s/it]\n",
      "100%|██████████| 4/4 [00:15<00:00,  3.95s/it]\n",
      "100%|██████████| 4/4 [00:15<00:00,  3.94s/it]\n",
      "100%|██████████| 4/4 [00:15<00:00,  3.96s/it]\n",
      "100%|██████████| 4/4 [00:15<00:00,  3.95s/it]\n",
      "100%|██████████| 4/4 [00:15<00:00,  3.95s/it]\n",
      "100%|██████████| 4/4 [00:15<00:00,  3.95s/it]\n",
      "100%|██████████| 4/4 [00:15<00:00,  3.95s/it]\n",
      "100%|██████████| 4/4 [00:15<00:00,  3.95s/it]\n",
      "100%|██████████| 4/4 [00:15<00:00,  3.95s/it]\n",
      "100%|██████████| 4/4 [00:15<00:00,  3.95s/it]\n",
      "100%|██████████| 4/4 [00:15<00:00,  3.96s/it]\n",
      "100%|██████████| 4/4 [00:15<00:00,  3.95s/it]\n",
      "100%|██████████| 4/4 [00:15<00:00,  3.95s/it]\n",
      "100%|██████████| 4/4 [00:15<00:00,  3.95s/it]\n",
      "100%|██████████| 4/4 [00:15<00:00,  3.95s/it]\n",
      "100%|██████████| 4/4 [00:15<00:00,  3.96s/it]\n",
      "100%|██████████| 4/4 [00:15<00:00,  3.95s/it]\n",
      "100%|██████████| 4/4 [00:15<00:00,  3.96s/it]\n",
      "100%|██████████| 4/4 [00:15<00:00,  3.96s/it]\n"
     ]
    },
    {
     "name": "stdout",
     "output_type": "stream",
     "text": [
      "iter 8180: loss 5.5254, time 15854.49ms\n"
     ]
    },
    {
     "name": "stderr",
     "output_type": "stream",
     "text": [
      "100%|██████████| 4/4 [00:15<00:00,  3.95s/it]\n",
      "100%|██████████| 4/4 [00:15<00:00,  3.95s/it]\n",
      "100%|██████████| 4/4 [00:15<00:00,  3.96s/it]\n",
      "100%|██████████| 4/4 [00:15<00:00,  3.95s/it]\n",
      "100%|██████████| 4/4 [00:15<00:00,  3.95s/it]\n",
      "100%|██████████| 4/4 [00:15<00:00,  3.95s/it]\n",
      "100%|██████████| 4/4 [00:15<00:00,  3.96s/it]\n",
      "100%|██████████| 4/4 [00:15<00:00,  3.95s/it]\n",
      "100%|██████████| 4/4 [00:15<00:00,  3.95s/it]\n",
      "100%|██████████| 4/4 [00:15<00:00,  3.95s/it]\n",
      "100%|██████████| 4/4 [00:15<00:00,  3.96s/it]\n",
      "100%|██████████| 4/4 [00:15<00:00,  3.96s/it]\n",
      "100%|██████████| 4/4 [00:15<00:00,  3.95s/it]\n",
      "100%|██████████| 4/4 [00:15<00:00,  3.96s/it]\n",
      "100%|██████████| 4/4 [00:15<00:00,  3.95s/it]\n",
      "100%|██████████| 4/4 [00:15<00:00,  3.95s/it]\n",
      "100%|██████████| 4/4 [00:15<00:00,  3.95s/it]\n",
      "100%|██████████| 4/4 [00:15<00:00,  3.95s/it]\n",
      "100%|██████████| 4/4 [00:15<00:00,  3.95s/it]\n"
     ]
    },
    {
     "name": "stdout",
     "output_type": "stream",
     "text": [
      "step 8200: train loss 5.5587, val loss 5.5480\n",
      "train ppl 259.48, val ppl 256.73\n",
      "📈 Train/Val Gap: -0.0107 (-0.19%)\n"
     ]
    },
    {
     "name": "stderr",
     "output_type": "stream",
     "text": [
      "100%|██████████| 4/4 [00:15<00:00,  3.95s/it]\n"
     ]
    },
    {
     "name": "stdout",
     "output_type": "stream",
     "text": [
      "iter 8200: loss 5.8994, time 106756.48ms\n"
     ]
    },
    {
     "name": "stderr",
     "output_type": "stream",
     "text": [
      "100%|██████████| 4/4 [00:15<00:00,  3.94s/it]\n",
      "100%|██████████| 4/4 [00:15<00:00,  3.95s/it]\n",
      "100%|██████████| 4/4 [00:15<00:00,  3.95s/it]\n",
      "100%|██████████| 4/4 [00:15<00:00,  3.96s/it]\n",
      "100%|██████████| 4/4 [00:15<00:00,  3.95s/it]\n",
      "100%|██████████| 4/4 [00:15<00:00,  3.95s/it]\n",
      "100%|██████████| 4/4 [00:15<00:00,  3.95s/it]\n",
      "100%|██████████| 4/4 [00:15<00:00,  3.96s/it]\n",
      "100%|██████████| 4/4 [00:15<00:00,  3.95s/it]\n",
      "100%|██████████| 4/4 [00:15<00:00,  3.95s/it]\n",
      "100%|██████████| 4/4 [00:15<00:00,  3.95s/it]\n",
      "100%|██████████| 4/4 [00:15<00:00,  3.95s/it]\n",
      "100%|██████████| 4/4 [00:15<00:00,  3.95s/it]\n",
      "100%|██████████| 4/4 [00:15<00:00,  3.95s/it]\n",
      "100%|██████████| 4/4 [00:15<00:00,  3.97s/it]\n",
      "100%|██████████| 4/4 [00:15<00:00,  3.95s/it]\n",
      "100%|██████████| 4/4 [00:15<00:00,  3.95s/it]\n",
      "100%|██████████| 4/4 [00:15<00:00,  3.95s/it]\n",
      "100%|██████████| 4/4 [00:15<00:00,  3.96s/it]\n",
      "100%|██████████| 4/4 [00:15<00:00,  3.95s/it]\n"
     ]
    },
    {
     "name": "stdout",
     "output_type": "stream",
     "text": [
      "iter 8220: loss 5.0746, time 15821.58ms\n"
     ]
    },
    {
     "name": "stderr",
     "output_type": "stream",
     "text": [
      "100%|██████████| 4/4 [00:15<00:00,  3.94s/it]\n",
      "100%|██████████| 4/4 [00:15<00:00,  3.95s/it]\n",
      "100%|██████████| 4/4 [00:15<00:00,  3.95s/it]\n",
      "100%|██████████| 4/4 [00:15<00:00,  3.95s/it]\n",
      "100%|██████████| 4/4 [00:15<00:00,  3.95s/it]\n",
      "100%|██████████| 4/4 [00:15<00:00,  3.95s/it]\n",
      "100%|██████████| 4/4 [00:15<00:00,  3.97s/it]\n",
      "100%|██████████| 4/4 [00:15<00:00,  3.95s/it]\n",
      "100%|██████████| 4/4 [00:15<00:00,  3.95s/it]\n",
      "100%|██████████| 4/4 [00:15<00:00,  3.96s/it]\n",
      "100%|██████████| 4/4 [00:15<00:00,  3.95s/it]\n",
      "100%|██████████| 4/4 [00:15<00:00,  3.95s/it]\n",
      "100%|██████████| 4/4 [00:15<00:00,  3.95s/it]\n",
      "100%|██████████| 4/4 [00:15<00:00,  3.96s/it]\n",
      "100%|██████████| 4/4 [00:15<00:00,  3.95s/it]\n",
      "100%|██████████| 4/4 [00:15<00:00,  3.95s/it]\n",
      "100%|██████████| 4/4 [00:15<00:00,  3.95s/it]\n",
      "100%|██████████| 4/4 [00:15<00:00,  3.95s/it]\n",
      "100%|██████████| 4/4 [00:15<00:00,  3.95s/it]\n",
      "100%|██████████| 4/4 [00:15<00:00,  3.95s/it]\n"
     ]
    },
    {
     "name": "stdout",
     "output_type": "stream",
     "text": [
      "iter 8240: loss 5.6633, time 15824.42ms\n"
     ]
    },
    {
     "name": "stderr",
     "output_type": "stream",
     "text": [
      "100%|██████████| 4/4 [00:15<00:00,  3.95s/it]\n",
      "100%|██████████| 4/4 [00:15<00:00,  3.96s/it]\n",
      "100%|██████████| 4/4 [00:15<00:00,  3.97s/it]\n",
      "100%|██████████| 4/4 [00:15<00:00,  3.95s/it]\n",
      "100%|██████████| 4/4 [00:15<00:00,  3.95s/it]\n",
      "100%|██████████| 4/4 [00:15<00:00,  3.96s/it]\n",
      "100%|██████████| 4/4 [00:15<00:00,  3.96s/it]\n",
      "100%|██████████| 4/4 [00:15<00:00,  3.95s/it]\n",
      "100%|██████████| 4/4 [00:15<00:00,  3.96s/it]\n",
      "100%|██████████| 4/4 [00:15<00:00,  3.95s/it]\n",
      "100%|██████████| 4/4 [00:15<00:00,  3.95s/it]\n",
      "100%|██████████| 4/4 [00:15<00:00,  3.95s/it]\n",
      "100%|██████████| 4/4 [00:15<00:00,  3.96s/it]\n",
      "100%|██████████| 4/4 [00:15<00:00,  3.95s/it]\n",
      "100%|██████████| 4/4 [00:15<00:00,  3.95s/it]\n",
      "100%|██████████| 4/4 [00:15<00:00,  3.95s/it]\n",
      "100%|██████████| 4/4 [00:15<00:00,  3.96s/it]\n",
      "100%|██████████| 4/4 [00:15<00:00,  3.95s/it]\n",
      "100%|██████████| 4/4 [00:15<00:00,  3.96s/it]\n",
      "100%|██████████| 4/4 [00:15<00:00,  3.95s/it]\n"
     ]
    },
    {
     "name": "stdout",
     "output_type": "stream",
     "text": [
      "iter 8260: loss 5.6624, time 15833.99ms\n"
     ]
    },
    {
     "name": "stderr",
     "output_type": "stream",
     "text": [
      "100%|██████████| 4/4 [00:15<00:00,  3.95s/it]\n",
      "100%|██████████| 4/4 [00:15<00:00,  3.96s/it]\n",
      "100%|██████████| 4/4 [00:15<00:00,  3.95s/it]\n",
      "100%|██████████| 4/4 [00:15<00:00,  3.96s/it]\n",
      "100%|██████████| 4/4 [00:15<00:00,  3.95s/it]\n",
      "100%|██████████| 4/4 [00:15<00:00,  3.95s/it]\n",
      "100%|██████████| 4/4 [00:15<00:00,  3.95s/it]\n",
      "100%|██████████| 4/4 [00:15<00:00,  3.95s/it]\n",
      "100%|██████████| 4/4 [00:15<00:00,  3.95s/it]\n",
      "100%|██████████| 4/4 [00:15<00:00,  3.95s/it]\n",
      "100%|██████████| 4/4 [00:15<00:00,  3.95s/it]\n",
      "100%|██████████| 4/4 [00:15<00:00,  3.95s/it]\n",
      "100%|██████████| 4/4 [00:15<00:00,  3.95s/it]\n",
      "100%|██████████| 4/4 [00:15<00:00,  3.95s/it]\n",
      "100%|██████████| 4/4 [00:15<00:00,  3.95s/it]\n",
      "100%|██████████| 4/4 [00:15<00:00,  3.89s/it]\n",
      "100%|██████████| 4/4 [00:15<00:00,  3.87s/it]\n",
      "100%|██████████| 4/4 [00:15<00:00,  3.86s/it]\n",
      "100%|██████████| 4/4 [00:15<00:00,  3.86s/it]\n",
      "100%|██████████| 4/4 [00:15<00:00,  3.88s/it]\n"
     ]
    },
    {
     "name": "stdout",
     "output_type": "stream",
     "text": [
      "iter 8280: loss 5.3984, time 15532.78ms\n"
     ]
    },
    {
     "name": "stderr",
     "output_type": "stream",
     "text": [
      "100%|██████████| 4/4 [00:15<00:00,  3.86s/it]\n",
      "100%|██████████| 4/4 [00:15<00:00,  3.86s/it]\n",
      "100%|██████████| 4/4 [00:15<00:00,  3.87s/it]\n",
      "100%|██████████| 4/4 [00:15<00:00,  3.86s/it]\n",
      "100%|██████████| 4/4 [00:15<00:00,  3.86s/it]\n",
      "100%|██████████| 4/4 [00:15<00:00,  3.86s/it]\n",
      "100%|██████████| 4/4 [00:15<00:00,  3.87s/it]\n",
      "100%|██████████| 4/4 [00:15<00:00,  3.86s/it]\n",
      "100%|██████████| 4/4 [00:15<00:00,  3.86s/it]\n",
      "100%|██████████| 4/4 [00:15<00:00,  3.86s/it]\n",
      "100%|██████████| 4/4 [00:15<00:00,  3.87s/it]\n",
      "100%|██████████| 4/4 [00:15<00:00,  3.86s/it]\n",
      "100%|██████████| 4/4 [00:15<00:00,  3.86s/it]\n",
      "100%|██████████| 4/4 [00:15<00:00,  3.86s/it]\n",
      "100%|██████████| 4/4 [00:15<00:00,  3.87s/it]\n",
      "100%|██████████| 4/4 [00:15<00:00,  3.86s/it]\n",
      "100%|██████████| 4/4 [00:15<00:00,  3.86s/it]\n",
      "100%|██████████| 4/4 [00:15<00:00,  3.87s/it]\n",
      "100%|██████████| 4/4 [00:15<00:00,  3.86s/it]\n",
      "100%|██████████| 4/4 [00:15<00:00,  3.86s/it]\n"
     ]
    },
    {
     "name": "stdout",
     "output_type": "stream",
     "text": [
      "iter 8300: loss 5.1278, time 15471.06ms\n"
     ]
    },
    {
     "name": "stderr",
     "output_type": "stream",
     "text": [
      "100%|██████████| 4/4 [00:15<00:00,  3.86s/it]\n",
      "100%|██████████| 4/4 [00:15<00:00,  3.87s/it]\n",
      "100%|██████████| 4/4 [00:15<00:00,  3.87s/it]\n",
      "100%|██████████| 4/4 [00:15<00:00,  3.87s/it]\n",
      "100%|██████████| 4/4 [00:15<00:00,  3.86s/it]\n",
      "100%|██████████| 4/4 [00:15<00:00,  3.86s/it]\n",
      "100%|██████████| 4/4 [00:15<00:00,  3.86s/it]\n",
      "100%|██████████| 4/4 [00:15<00:00,  3.86s/it]\n",
      "100%|██████████| 4/4 [00:15<00:00,  3.86s/it]\n",
      "100%|██████████| 4/4 [00:15<00:00,  3.86s/it]\n",
      "100%|██████████| 4/4 [00:15<00:00,  3.88s/it]\n",
      "100%|██████████| 4/4 [00:15<00:00,  3.86s/it]\n",
      "100%|██████████| 4/4 [00:15<00:00,  3.86s/it]\n",
      "100%|██████████| 4/4 [00:15<00:00,  3.87s/it]\n",
      "100%|██████████| 4/4 [00:15<00:00,  3.86s/it]\n",
      "100%|██████████| 4/4 [00:15<00:00,  3.86s/it]\n",
      "100%|██████████| 4/4 [00:15<00:00,  3.86s/it]\n",
      "100%|██████████| 4/4 [00:15<00:00,  3.87s/it]\n",
      "100%|██████████| 4/4 [00:15<00:00,  3.90s/it]\n",
      "100%|██████████| 4/4 [00:15<00:00,  3.89s/it]\n"
     ]
    },
    {
     "name": "stdout",
     "output_type": "stream",
     "text": [
      "iter 8320: loss 4.8869, time 15587.62ms\n"
     ]
    },
    {
     "name": "stderr",
     "output_type": "stream",
     "text": [
      "100%|██████████| 4/4 [00:15<00:00,  3.85s/it]\n",
      "100%|██████████| 4/4 [00:15<00:00,  3.86s/it]\n",
      "100%|██████████| 4/4 [00:15<00:00,  3.86s/it]\n",
      "100%|██████████| 4/4 [00:15<00:00,  3.86s/it]\n",
      "100%|██████████| 4/4 [00:15<00:00,  3.86s/it]\n",
      "100%|██████████| 4/4 [00:15<00:00,  3.86s/it]\n",
      "100%|██████████| 4/4 [00:15<00:00,  3.86s/it]\n",
      "100%|██████████| 4/4 [00:15<00:00,  3.85s/it]\n",
      "100%|██████████| 4/4 [00:15<00:00,  3.86s/it]\n",
      "100%|██████████| 4/4 [00:15<00:00,  3.86s/it]\n",
      "100%|██████████| 4/4 [00:15<00:00,  3.86s/it]\n",
      "100%|██████████| 4/4 [00:15<00:00,  3.86s/it]\n",
      "100%|██████████| 4/4 [00:15<00:00,  3.86s/it]\n",
      "100%|██████████| 4/4 [00:15<00:00,  3.90s/it]\n",
      "100%|██████████| 4/4 [00:15<00:00,  3.92s/it]\n",
      "100%|██████████| 4/4 [00:15<00:00,  3.92s/it]\n",
      "100%|██████████| 4/4 [00:15<00:00,  3.92s/it]\n",
      "100%|██████████| 4/4 [00:15<00:00,  3.93s/it]\n",
      "100%|██████████| 4/4 [00:15<00:00,  3.93s/it]\n",
      "100%|██████████| 4/4 [00:15<00:00,  3.92s/it]\n"
     ]
    },
    {
     "name": "stdout",
     "output_type": "stream",
     "text": [
      "iter 8340: loss 5.4573, time 15721.89ms\n"
     ]
    },
    {
     "name": "stderr",
     "output_type": "stream",
     "text": [
      "100%|██████████| 4/4 [00:15<00:00,  3.92s/it]\n",
      "100%|██████████| 4/4 [00:15<00:00,  3.93s/it]\n",
      "100%|██████████| 4/4 [00:15<00:00,  3.93s/it]\n",
      "100%|██████████| 4/4 [00:15<00:00,  3.92s/it]\n",
      "100%|██████████| 4/4 [00:15<00:00,  3.93s/it]\n",
      "100%|██████████| 4/4 [00:15<00:00,  3.91s/it]\n",
      "100%|██████████| 4/4 [00:15<00:00,  3.86s/it]\n",
      "100%|██████████| 4/4 [00:15<00:00,  3.86s/it]\n",
      "100%|██████████| 4/4 [00:15<00:00,  3.86s/it]\n",
      "100%|██████████| 4/4 [00:15<00:00,  3.86s/it]\n",
      "100%|██████████| 4/4 [00:15<00:00,  3.87s/it]\n",
      "100%|██████████| 4/4 [00:15<00:00,  3.86s/it]\n",
      "100%|██████████| 4/4 [00:15<00:00,  3.87s/it]\n",
      "100%|██████████| 4/4 [00:15<00:00,  3.87s/it]\n",
      "100%|██████████| 4/4 [00:15<00:00,  3.87s/it]\n",
      "100%|██████████| 4/4 [00:15<00:00,  3.87s/it]\n",
      "100%|██████████| 4/4 [00:15<00:00,  3.86s/it]\n",
      "100%|██████████| 4/4 [00:15<00:00,  3.86s/it]\n",
      "100%|██████████| 4/4 [00:15<00:00,  3.86s/it]\n",
      "100%|██████████| 4/4 [00:15<00:00,  3.86s/it]\n"
     ]
    },
    {
     "name": "stdout",
     "output_type": "stream",
     "text": [
      "iter 8360: loss 5.7486, time 15483.19ms\n"
     ]
    },
    {
     "name": "stderr",
     "output_type": "stream",
     "text": [
      "100%|██████████| 4/4 [00:15<00:00,  3.87s/it]\n",
      "100%|██████████| 4/4 [00:15<00:00,  3.87s/it]\n",
      "100%|██████████| 4/4 [00:15<00:00,  3.86s/it]\n",
      "100%|██████████| 4/4 [00:15<00:00,  3.86s/it]\n",
      "100%|██████████| 4/4 [00:15<00:00,  3.86s/it]\n",
      "100%|██████████| 4/4 [00:15<00:00,  3.86s/it]\n",
      "100%|██████████| 4/4 [00:15<00:00,  3.86s/it]\n",
      "100%|██████████| 4/4 [00:15<00:00,  3.86s/it]\n",
      "100%|██████████| 4/4 [00:15<00:00,  3.86s/it]\n",
      "100%|██████████| 4/4 [00:15<00:00,  3.86s/it]\n",
      "100%|██████████| 4/4 [00:15<00:00,  3.86s/it]\n",
      "100%|██████████| 4/4 [00:15<00:00,  3.86s/it]\n",
      "100%|██████████| 4/4 [00:15<00:00,  3.86s/it]\n",
      "100%|██████████| 4/4 [00:15<00:00,  3.86s/it]\n",
      "100%|██████████| 4/4 [00:15<00:00,  3.86s/it]\n",
      "100%|██████████| 4/4 [00:15<00:00,  3.87s/it]\n",
      "100%|██████████| 4/4 [00:15<00:00,  3.86s/it]\n",
      "100%|██████████| 4/4 [00:15<00:00,  3.86s/it]\n",
      "100%|██████████| 4/4 [00:15<00:00,  3.86s/it]\n",
      "100%|██████████| 4/4 [00:15<00:00,  3.87s/it]\n"
     ]
    },
    {
     "name": "stdout",
     "output_type": "stream",
     "text": [
      "iter 8380: loss 5.0639, time 15496.47ms\n"
     ]
    },
    {
     "name": "stderr",
     "output_type": "stream",
     "text": [
      "100%|██████████| 4/4 [00:15<00:00,  3.86s/it]\n",
      "100%|██████████| 4/4 [00:15<00:00,  3.86s/it]\n",
      "100%|██████████| 4/4 [00:15<00:00,  3.87s/it]\n",
      "100%|██████████| 4/4 [00:15<00:00,  3.87s/it]\n",
      "100%|██████████| 4/4 [00:15<00:00,  3.86s/it]\n",
      "100%|██████████| 4/4 [00:15<00:00,  3.87s/it]\n",
      "100%|██████████| 4/4 [00:15<00:00,  3.87s/it]\n",
      "100%|██████████| 4/4 [00:15<00:00,  3.87s/it]\n",
      "100%|██████████| 4/4 [00:15<00:00,  3.87s/it]\n",
      "100%|██████████| 4/4 [00:15<00:00,  3.87s/it]\n",
      "100%|██████████| 4/4 [00:15<00:00,  3.86s/it]\n",
      "100%|██████████| 4/4 [00:15<00:00,  3.87s/it]\n",
      "100%|██████████| 4/4 [00:15<00:00,  3.86s/it]\n",
      "100%|██████████| 4/4 [00:15<00:00,  3.86s/it]\n",
      "100%|██████████| 4/4 [00:15<00:00,  3.86s/it]\n",
      "100%|██████████| 4/4 [00:15<00:00,  3.87s/it]\n",
      "100%|██████████| 4/4 [00:15<00:00,  3.86s/it]\n",
      "100%|██████████| 4/4 [00:15<00:00,  3.86s/it]\n",
      "100%|██████████| 4/4 [00:15<00:00,  3.85s/it]\n"
     ]
    },
    {
     "name": "stdout",
     "output_type": "stream",
     "text": [
      "step 8400: train loss 5.4839, val loss 5.6306\n",
      "train ppl 240.77, val ppl 278.84\n",
      "📈 Train/Val Gap: 0.1468 (2.68%)\n"
     ]
    },
    {
     "name": "stderr",
     "output_type": "stream",
     "text": [
      "100%|██████████| 4/4 [00:15<00:00,  3.79s/it]\n"
     ]
    },
    {
     "name": "stdout",
     "output_type": "stream",
     "text": [
      "iter 8400: loss 5.9566, time 106005.56ms\n"
     ]
    },
    {
     "name": "stderr",
     "output_type": "stream",
     "text": [
      "100%|██████████| 4/4 [00:15<00:00,  3.79s/it]\n",
      "100%|██████████| 4/4 [00:15<00:00,  3.80s/it]\n",
      "100%|██████████| 4/4 [00:15<00:00,  3.80s/it]\n",
      "100%|██████████| 4/4 [00:15<00:00,  3.79s/it]\n",
      "100%|██████████| 4/4 [00:15<00:00,  3.80s/it]\n",
      "100%|██████████| 4/4 [00:15<00:00,  3.80s/it]\n",
      "100%|██████████| 4/4 [00:15<00:00,  3.87s/it]\n",
      "100%|██████████| 4/4 [00:15<00:00,  3.87s/it]\n",
      "100%|██████████| 4/4 [00:15<00:00,  3.87s/it]\n",
      "100%|██████████| 4/4 [00:15<00:00,  3.87s/it]\n",
      "100%|██████████| 4/4 [00:15<00:00,  3.87s/it]\n",
      "100%|██████████| 4/4 [00:15<00:00,  3.87s/it]\n",
      "100%|██████████| 4/4 [00:15<00:00,  3.88s/it]\n",
      "100%|██████████| 4/4 [00:15<00:00,  3.87s/it]\n",
      "100%|██████████| 4/4 [00:15<00:00,  3.87s/it]\n",
      "100%|██████████| 4/4 [00:15<00:00,  3.89s/it]\n",
      "100%|██████████| 4/4 [00:15<00:00,  3.88s/it]\n",
      "100%|██████████| 4/4 [00:15<00:00,  3.87s/it]\n",
      "100%|██████████| 4/4 [00:15<00:00,  3.87s/it]\n",
      "100%|██████████| 4/4 [00:15<00:00,  3.87s/it]\n"
     ]
    },
    {
     "name": "stdout",
     "output_type": "stream",
     "text": [
      "iter 8420: loss 5.0150, time 15505.60ms\n"
     ]
    },
    {
     "name": "stderr",
     "output_type": "stream",
     "text": [
      "100%|██████████| 4/4 [00:15<00:00,  3.87s/it]\n",
      "100%|██████████| 4/4 [00:15<00:00,  3.88s/it]\n",
      "100%|██████████| 4/4 [00:15<00:00,  3.87s/it]\n",
      "100%|██████████| 4/4 [00:15<00:00,  3.87s/it]\n",
      "100%|██████████| 4/4 [00:15<00:00,  3.88s/it]\n",
      "100%|██████████| 4/4 [00:15<00:00,  3.88s/it]\n",
      "100%|██████████| 4/4 [00:15<00:00,  3.87s/it]\n",
      "100%|██████████| 4/4 [00:15<00:00,  3.89s/it]\n",
      "100%|██████████| 4/4 [00:15<00:00,  3.88s/it]\n",
      "100%|██████████| 4/4 [00:15<00:00,  3.87s/it]\n",
      "100%|██████████| 4/4 [00:15<00:00,  3.87s/it]\n",
      "100%|██████████| 4/4 [00:15<00:00,  3.87s/it]\n",
      "100%|██████████| 4/4 [00:15<00:00,  3.87s/it]\n",
      "100%|██████████| 4/4 [00:15<00:00,  3.88s/it]\n",
      "100%|██████████| 4/4 [00:15<00:00,  3.87s/it]\n",
      "100%|██████████| 4/4 [00:15<00:00,  3.88s/it]\n",
      "100%|██████████| 4/4 [00:15<00:00,  3.87s/it]\n",
      "100%|██████████| 4/4 [00:15<00:00,  3.87s/it]\n",
      "100%|██████████| 4/4 [00:15<00:00,  3.87s/it]\n",
      "100%|██████████| 4/4 [00:15<00:00,  3.88s/it]\n"
     ]
    },
    {
     "name": "stdout",
     "output_type": "stream",
     "text": [
      "iter 8440: loss 5.7114, time 15534.96ms\n"
     ]
    },
    {
     "name": "stderr",
     "output_type": "stream",
     "text": [
      "100%|██████████| 4/4 [00:15<00:00,  3.86s/it]\n",
      "100%|██████████| 4/4 [00:15<00:00,  3.87s/it]\n",
      "100%|██████████| 4/4 [00:15<00:00,  3.87s/it]\n",
      "100%|██████████| 4/4 [00:15<00:00,  3.90s/it]\n",
      "100%|██████████| 4/4 [00:15<00:00,  3.87s/it]\n",
      "100%|██████████| 4/4 [00:15<00:00,  3.87s/it]\n",
      "100%|██████████| 4/4 [00:15<00:00,  3.88s/it]\n",
      "100%|██████████| 4/4 [00:15<00:00,  3.87s/it]\n",
      "100%|██████████| 4/4 [00:15<00:00,  3.87s/it]\n",
      "100%|██████████| 4/4 [00:15<00:00,  3.87s/it]\n",
      "100%|██████████| 4/4 [00:15<00:00,  3.87s/it]\n",
      "100%|██████████| 4/4 [00:15<00:00,  3.87s/it]\n",
      "100%|██████████| 4/4 [00:15<00:00,  3.88s/it]\n",
      "100%|██████████| 4/4 [00:15<00:00,  3.87s/it]\n",
      "100%|██████████| 4/4 [00:15<00:00,  3.87s/it]\n",
      "100%|██████████| 4/4 [00:15<00:00,  3.88s/it]\n",
      "100%|██████████| 4/4 [00:15<00:00,  3.87s/it]\n",
      "100%|██████████| 4/4 [00:15<00:00,  3.87s/it]\n",
      "100%|██████████| 4/4 [00:15<00:00,  3.88s/it]\n",
      "100%|██████████| 4/4 [00:15<00:00,  3.88s/it]\n"
     ]
    },
    {
     "name": "stdout",
     "output_type": "stream",
     "text": [
      "iter 8460: loss 6.0732, time 15524.91ms\n"
     ]
    },
    {
     "name": "stderr",
     "output_type": "stream",
     "text": [
      "100%|██████████| 4/4 [00:15<00:00,  3.87s/it]\n",
      "100%|██████████| 4/4 [00:15<00:00,  3.88s/it]\n",
      "100%|██████████| 4/4 [00:15<00:00,  3.88s/it]\n",
      "100%|██████████| 4/4 [00:15<00:00,  3.87s/it]\n",
      "100%|██████████| 4/4 [00:15<00:00,  3.87s/it]\n",
      "100%|██████████| 4/4 [00:15<00:00,  3.87s/it]\n",
      "100%|██████████| 4/4 [00:15<00:00,  3.88s/it]\n",
      "100%|██████████| 4/4 [00:15<00:00,  3.87s/it]\n",
      "100%|██████████| 4/4 [00:15<00:00,  3.87s/it]\n",
      "100%|██████████| 4/4 [00:15<00:00,  3.87s/it]\n",
      "100%|██████████| 4/4 [00:15<00:00,  3.88s/it]\n",
      "100%|██████████| 4/4 [00:15<00:00,  3.87s/it]\n",
      "100%|██████████| 4/4 [00:15<00:00,  3.87s/it]\n",
      "100%|██████████| 4/4 [00:15<00:00,  3.87s/it]\n",
      "100%|██████████| 4/4 [00:15<00:00,  3.88s/it]\n",
      "100%|██████████| 4/4 [00:15<00:00,  3.87s/it]\n",
      "100%|██████████| 4/4 [00:15<00:00,  3.87s/it]\n",
      "100%|██████████| 4/4 [00:15<00:00,  3.87s/it]\n",
      "100%|██████████| 4/4 [00:15<00:00,  3.88s/it]\n",
      "100%|██████████| 4/4 [00:15<00:00,  3.87s/it]\n"
     ]
    },
    {
     "name": "stdout",
     "output_type": "stream",
     "text": [
      "iter 8480: loss 5.4109, time 15514.97ms\n"
     ]
    },
    {
     "name": "stderr",
     "output_type": "stream",
     "text": [
      "100%|██████████| 4/4 [00:15<00:00,  3.87s/it]\n",
      "100%|██████████| 4/4 [00:15<00:00,  3.87s/it]\n",
      "100%|██████████| 4/4 [00:15<00:00,  3.87s/it]\n",
      "100%|██████████| 4/4 [00:15<00:00,  3.87s/it]\n",
      "100%|██████████| 4/4 [00:15<00:00,  3.87s/it]\n",
      "100%|██████████| 4/4 [00:15<00:00,  3.87s/it]\n",
      "100%|██████████| 4/4 [00:15<00:00,  3.88s/it]\n",
      "100%|██████████| 4/4 [00:15<00:00,  3.87s/it]\n",
      "100%|██████████| 4/4 [00:15<00:00,  3.87s/it]\n",
      "100%|██████████| 4/4 [00:15<00:00,  3.87s/it]\n",
      "100%|██████████| 4/4 [00:15<00:00,  3.87s/it]\n",
      "100%|██████████| 4/4 [00:15<00:00,  3.88s/it]\n",
      "100%|██████████| 4/4 [00:15<00:00,  3.87s/it]\n",
      "100%|██████████| 4/4 [00:15<00:00,  3.88s/it]\n",
      "100%|██████████| 4/4 [00:15<00:00,  3.87s/it]\n",
      "100%|██████████| 4/4 [00:15<00:00,  3.88s/it]\n",
      "100%|██████████| 4/4 [00:15<00:00,  3.87s/it]\n",
      "100%|██████████| 4/4 [00:15<00:00,  3.88s/it]\n",
      "100%|██████████| 4/4 [00:15<00:00,  3.88s/it]\n",
      "100%|██████████| 4/4 [00:15<00:00,  3.87s/it]\n"
     ]
    },
    {
     "name": "stdout",
     "output_type": "stream",
     "text": [
      "iter 8500: loss 5.0653, time 15512.68ms\n"
     ]
    },
    {
     "name": "stderr",
     "output_type": "stream",
     "text": [
      "100%|██████████| 4/4 [00:15<00:00,  3.86s/it]\n",
      "100%|██████████| 4/4 [00:15<00:00,  3.88s/it]\n",
      "100%|██████████| 4/4 [00:15<00:00,  3.88s/it]\n",
      "100%|██████████| 4/4 [00:15<00:00,  3.87s/it]\n",
      "100%|██████████| 4/4 [00:15<00:00,  3.87s/it]\n",
      "100%|██████████| 4/4 [00:15<00:00,  3.88s/it]\n",
      "100%|██████████| 4/4 [00:15<00:00,  3.87s/it]\n",
      "100%|██████████| 4/4 [00:15<00:00,  3.87s/it]\n",
      "100%|██████████| 4/4 [00:15<00:00,  3.87s/it]\n",
      "100%|██████████| 4/4 [00:15<00:00,  3.88s/it]\n",
      "100%|██████████| 4/4 [00:15<00:00,  3.87s/it]\n",
      "100%|██████████| 4/4 [00:15<00:00,  3.87s/it]\n",
      "100%|██████████| 4/4 [00:15<00:00,  3.87s/it]\n",
      "100%|██████████| 4/4 [00:15<00:00,  3.88s/it]\n",
      "100%|██████████| 4/4 [00:15<00:00,  3.87s/it]\n",
      "100%|██████████| 4/4 [00:15<00:00,  3.87s/it]\n",
      "100%|██████████| 4/4 [00:15<00:00,  3.88s/it]\n",
      "100%|██████████| 4/4 [00:15<00:00,  3.87s/it]\n",
      "100%|██████████| 4/4 [00:15<00:00,  3.87s/it]\n",
      "100%|██████████| 4/4 [00:15<00:00,  3.87s/it]\n"
     ]
    },
    {
     "name": "stdout",
     "output_type": "stream",
     "text": [
      "iter 8520: loss 5.9583, time 15510.46ms\n"
     ]
    },
    {
     "name": "stderr",
     "output_type": "stream",
     "text": [
      "100%|██████████| 4/4 [00:15<00:00,  3.87s/it]\n",
      "100%|██████████| 4/4 [00:15<00:00,  3.88s/it]\n",
      "100%|██████████| 4/4 [00:15<00:00,  3.87s/it]\n",
      "100%|██████████| 4/4 [00:15<00:00,  3.87s/it]\n",
      "100%|██████████| 4/4 [00:15<00:00,  3.88s/it]\n",
      "100%|██████████| 4/4 [00:15<00:00,  3.87s/it]\n",
      "100%|██████████| 4/4 [00:15<00:00,  3.87s/it]\n",
      "100%|██████████| 4/4 [00:15<00:00,  3.89s/it]\n",
      "100%|██████████| 4/4 [00:15<00:00,  3.93s/it]\n",
      "100%|██████████| 4/4 [00:15<00:00,  3.91s/it]\n",
      "100%|██████████| 4/4 [00:15<00:00,  3.91s/it]\n",
      "100%|██████████| 4/4 [00:15<00:00,  3.91s/it]\n",
      "100%|██████████| 4/4 [00:15<00:00,  3.91s/it]\n",
      "100%|██████████| 4/4 [00:15<00:00,  3.91s/it]\n",
      "100%|██████████| 4/4 [00:15<00:00,  3.91s/it]\n",
      "100%|██████████| 4/4 [00:15<00:00,  3.91s/it]\n",
      "100%|██████████| 4/4 [00:15<00:00,  3.95s/it]\n",
      "100%|██████████| 4/4 [00:15<00:00,  3.95s/it]\n",
      "100%|██████████| 4/4 [00:15<00:00,  3.95s/it]\n",
      "100%|██████████| 4/4 [00:15<00:00,  3.94s/it]\n"
     ]
    },
    {
     "name": "stdout",
     "output_type": "stream",
     "text": [
      "iter 8540: loss 5.1063, time 15767.50ms\n"
     ]
    },
    {
     "name": "stderr",
     "output_type": "stream",
     "text": [
      "100%|██████████| 4/4 [00:15<00:00,  3.90s/it]\n",
      "100%|██████████| 4/4 [00:15<00:00,  3.90s/it]\n",
      "100%|██████████| 4/4 [00:15<00:00,  3.90s/it]\n",
      "100%|██████████| 4/4 [00:15<00:00,  3.91s/it]\n",
      "100%|██████████| 4/4 [00:15<00:00,  3.91s/it]\n",
      "100%|██████████| 4/4 [00:15<00:00,  3.91s/it]\n",
      "100%|██████████| 4/4 [00:15<00:00,  3.90s/it]\n",
      "100%|██████████| 4/4 [00:15<00:00,  3.91s/it]\n",
      "100%|██████████| 4/4 [00:15<00:00,  3.91s/it]\n",
      "100%|██████████| 4/4 [00:15<00:00,  3.90s/it]\n",
      "100%|██████████| 4/4 [00:15<00:00,  3.90s/it]\n",
      "100%|██████████| 4/4 [00:15<00:00,  3.91s/it]\n",
      "100%|██████████| 4/4 [00:15<00:00,  3.90s/it]\n",
      "100%|██████████| 4/4 [00:15<00:00,  3.90s/it]\n",
      "100%|██████████| 4/4 [00:15<00:00,  3.90s/it]\n",
      "100%|██████████| 4/4 [00:15<00:00,  3.90s/it]\n",
      "100%|██████████| 4/4 [00:15<00:00,  3.90s/it]\n",
      "100%|██████████| 4/4 [00:15<00:00,  3.90s/it]\n",
      "100%|██████████| 4/4 [00:15<00:00,  3.90s/it]\n",
      "100%|██████████| 4/4 [00:15<00:00,  3.91s/it]\n"
     ]
    },
    {
     "name": "stdout",
     "output_type": "stream",
     "text": [
      "iter 8560: loss 5.0365, time 15655.99ms\n"
     ]
    },
    {
     "name": "stderr",
     "output_type": "stream",
     "text": [
      "100%|██████████| 4/4 [00:15<00:00,  3.89s/it]\n",
      "100%|██████████| 4/4 [00:15<00:00,  3.90s/it]\n",
      "100%|██████████| 4/4 [00:15<00:00,  3.90s/it]\n",
      "100%|██████████| 4/4 [00:15<00:00,  3.84s/it]\n",
      "100%|██████████| 4/4 [00:15<00:00,  3.83s/it]\n",
      "100%|██████████| 4/4 [00:15<00:00,  3.83s/it]\n",
      "100%|██████████| 4/4 [00:15<00:00,  3.84s/it]\n",
      "100%|██████████| 4/4 [00:15<00:00,  3.83s/it]\n",
      "100%|██████████| 4/4 [00:15<00:00,  3.83s/it]\n",
      "100%|██████████| 4/4 [00:15<00:00,  3.83s/it]\n",
      "100%|██████████| 4/4 [00:15<00:00,  3.84s/it]\n",
      "100%|██████████| 4/4 [00:15<00:00,  3.83s/it]\n",
      "100%|██████████| 4/4 [00:15<00:00,  3.83s/it]\n",
      "100%|██████████| 4/4 [00:15<00:00,  3.83s/it]\n",
      "100%|██████████| 4/4 [00:15<00:00,  3.83s/it]\n",
      "100%|██████████| 4/4 [00:15<00:00,  3.84s/it]\n",
      "100%|██████████| 4/4 [00:15<00:00,  3.83s/it]\n",
      "100%|██████████| 4/4 [00:15<00:00,  3.83s/it]\n",
      "100%|██████████| 4/4 [00:15<00:00,  3.84s/it]\n",
      "100%|██████████| 4/4 [00:15<00:00,  3.84s/it]\n"
     ]
    },
    {
     "name": "stdout",
     "output_type": "stream",
     "text": [
      "iter 8580: loss 5.7856, time 15366.53ms\n"
     ]
    },
    {
     "name": "stderr",
     "output_type": "stream",
     "text": [
      "100%|██████████| 4/4 [00:15<00:00,  3.83s/it]\n",
      "100%|██████████| 4/4 [00:15<00:00,  3.83s/it]\n",
      "100%|██████████| 4/4 [00:15<00:00,  3.83s/it]\n",
      "100%|██████████| 4/4 [00:15<00:00,  3.83s/it]\n",
      "100%|██████████| 4/4 [00:15<00:00,  3.83s/it]\n",
      "100%|██████████| 4/4 [00:15<00:00,  3.83s/it]\n",
      "100%|██████████| 4/4 [00:15<00:00,  3.84s/it]\n",
      "100%|██████████| 4/4 [00:15<00:00,  3.83s/it]\n",
      "100%|██████████| 4/4 [00:15<00:00,  3.83s/it]\n",
      "100%|██████████| 4/4 [00:15<00:00,  3.83s/it]\n",
      "100%|██████████| 4/4 [00:15<00:00,  3.84s/it]\n",
      "100%|██████████| 4/4 [00:15<00:00,  3.83s/it]\n",
      "100%|██████████| 4/4 [00:15<00:00,  3.83s/it]\n",
      "100%|██████████| 4/4 [00:15<00:00,  3.83s/it]\n",
      "100%|██████████| 4/4 [00:15<00:00,  3.84s/it]\n",
      "100%|██████████| 4/4 [00:15<00:00,  3.83s/it]\n",
      "100%|██████████| 4/4 [00:15<00:00,  3.83s/it]\n",
      "100%|██████████| 4/4 [00:15<00:00,  3.83s/it]\n",
      "100%|██████████| 4/4 [00:15<00:00,  3.84s/it]\n"
     ]
    },
    {
     "name": "stdout",
     "output_type": "stream",
     "text": [
      "step 8600: train loss 5.5921, val loss 5.6245\n",
      "train ppl 268.30, val ppl 277.13\n",
      "📈 Train/Val Gap: 0.0324 (0.58%)\n"
     ]
    },
    {
     "name": "stderr",
     "output_type": "stream",
     "text": [
      "100%|██████████| 4/4 [00:15<00:00,  3.83s/it]\n"
     ]
    },
    {
     "name": "stdout",
     "output_type": "stream",
     "text": [
      "iter 8600: loss 5.6303, time 109006.29ms\n"
     ]
    },
    {
     "name": "stderr",
     "output_type": "stream",
     "text": [
      "100%|██████████| 4/4 [00:15<00:00,  3.82s/it]\n",
      "100%|██████████| 4/4 [00:15<00:00,  3.83s/it]\n",
      "100%|██████████| 4/4 [00:15<00:00,  3.84s/it]\n",
      "100%|██████████| 4/4 [00:15<00:00,  3.83s/it]\n",
      "100%|██████████| 4/4 [00:15<00:00,  3.83s/it]\n",
      "100%|██████████| 4/4 [00:15<00:00,  3.83s/it]\n",
      "100%|██████████| 4/4 [00:15<00:00,  3.83s/it]\n",
      "100%|██████████| 4/4 [00:15<00:00,  3.83s/it]\n",
      "100%|██████████| 4/4 [00:15<00:00,  3.83s/it]\n",
      "100%|██████████| 4/4 [00:15<00:00,  3.83s/it]\n",
      "100%|██████████| 4/4 [00:15<00:00,  3.83s/it]\n",
      "100%|██████████| 4/4 [00:15<00:00,  3.84s/it]\n",
      "100%|██████████| 4/4 [00:15<00:00,  3.85s/it]\n",
      "100%|██████████| 4/4 [00:15<00:00,  3.92s/it]\n",
      "100%|██████████| 4/4 [00:15<00:00,  3.90s/it]\n",
      "100%|██████████| 4/4 [00:15<00:00,  3.87s/it]\n",
      "100%|██████████| 4/4 [00:15<00:00,  3.83s/it]\n",
      "100%|██████████| 4/4 [00:15<00:00,  3.82s/it]\n",
      "100%|██████████| 4/4 [00:15<00:00,  3.87s/it]\n",
      "100%|██████████| 4/4 [00:15<00:00,  3.91s/it]\n"
     ]
    },
    {
     "name": "stdout",
     "output_type": "stream",
     "text": [
      "iter 8620: loss 4.8029, time 15679.30ms\n"
     ]
    },
    {
     "name": "stderr",
     "output_type": "stream",
     "text": [
      "100%|██████████| 4/4 [00:15<00:00,  3.91s/it]\n",
      "100%|██████████| 4/4 [00:15<00:00,  3.92s/it]\n",
      "100%|██████████| 4/4 [00:15<00:00,  3.92s/it]\n",
      "100%|██████████| 4/4 [00:15<00:00,  3.93s/it]\n",
      "100%|██████████| 4/4 [00:15<00:00,  3.92s/it]\n",
      "100%|██████████| 4/4 [00:15<00:00,  3.94s/it]\n",
      "100%|██████████| 4/4 [00:15<00:00,  3.92s/it]\n",
      "100%|██████████| 4/4 [00:15<00:00,  3.93s/it]\n",
      "100%|██████████| 4/4 [00:15<00:00,  3.92s/it]\n",
      "100%|██████████| 4/4 [00:15<00:00,  3.92s/it]\n",
      "100%|██████████| 4/4 [00:15<00:00,  3.92s/it]\n",
      "100%|██████████| 4/4 [00:15<00:00,  3.92s/it]\n",
      "100%|██████████| 4/4 [00:15<00:00,  3.92s/it]\n",
      "100%|██████████| 4/4 [00:15<00:00,  3.92s/it]\n",
      "100%|██████████| 4/4 [00:15<00:00,  3.92s/it]\n",
      "100%|██████████| 4/4 [00:15<00:00,  3.93s/it]\n",
      "100%|██████████| 4/4 [00:15<00:00,  3.92s/it]\n",
      "100%|██████████| 4/4 [00:15<00:00,  3.92s/it]\n",
      "100%|██████████| 4/4 [00:15<00:00,  3.93s/it]\n",
      "100%|██████████| 4/4 [00:15<00:00,  3.92s/it]\n"
     ]
    },
    {
     "name": "stdout",
     "output_type": "stream",
     "text": [
      "iter 8640: loss 5.8587, time 15718.03ms\n"
     ]
    },
    {
     "name": "stderr",
     "output_type": "stream",
     "text": [
      "100%|██████████| 4/4 [00:15<00:00,  3.92s/it]\n",
      "100%|██████████| 4/4 [00:15<00:00,  3.94s/it]\n",
      "100%|██████████| 4/4 [00:15<00:00,  3.93s/it]\n",
      "100%|██████████| 4/4 [00:15<00:00,  3.93s/it]\n",
      "100%|██████████| 4/4 [00:15<00:00,  3.92s/it]\n",
      "100%|██████████| 4/4 [00:15<00:00,  3.92s/it]\n",
      "100%|██████████| 4/4 [00:15<00:00,  3.93s/it]\n",
      "100%|██████████| 4/4 [00:15<00:00,  3.92s/it]\n",
      "100%|██████████| 4/4 [00:15<00:00,  3.92s/it]\n",
      "100%|██████████| 4/4 [00:15<00:00,  3.93s/it]\n",
      "100%|██████████| 4/4 [00:15<00:00,  3.92s/it]\n",
      "100%|██████████| 4/4 [00:15<00:00,  3.92s/it]\n",
      "100%|██████████| 4/4 [00:15<00:00,  3.92s/it]\n",
      "100%|██████████| 4/4 [00:15<00:00,  3.93s/it]\n",
      "100%|██████████| 4/4 [00:15<00:00,  3.92s/it]\n",
      "100%|██████████| 4/4 [00:15<00:00,  3.92s/it]\n",
      "100%|██████████| 4/4 [00:15<00:00,  3.92s/it]\n",
      "100%|██████████| 4/4 [00:15<00:00,  3.92s/it]\n",
      "100%|██████████| 4/4 [00:15<00:00,  3.92s/it]\n",
      "100%|██████████| 4/4 [00:15<00:00,  3.92s/it]\n"
     ]
    },
    {
     "name": "stdout",
     "output_type": "stream",
     "text": [
      "iter 8660: loss 5.7308, time 15701.36ms\n"
     ]
    },
    {
     "name": "stderr",
     "output_type": "stream",
     "text": [
      "100%|██████████| 4/4 [00:15<00:00,  3.92s/it]\n",
      "100%|██████████| 4/4 [00:15<00:00,  3.93s/it]\n",
      "100%|██████████| 4/4 [00:15<00:00,  3.92s/it]\n",
      "100%|██████████| 4/4 [00:15<00:00,  3.92s/it]\n",
      "100%|██████████| 4/4 [00:15<00:00,  3.92s/it]\n",
      "100%|██████████| 4/4 [00:15<00:00,  3.85s/it]\n",
      "100%|██████████| 4/4 [00:15<00:00,  3.83s/it]\n",
      "100%|██████████| 4/4 [00:15<00:00,  3.83s/it]\n",
      "100%|██████████| 4/4 [00:15<00:00,  3.83s/it]\n",
      "100%|██████████| 4/4 [00:15<00:00,  3.86s/it]\n",
      "100%|██████████| 4/4 [00:15<00:00,  3.86s/it]\n",
      "100%|██████████| 4/4 [00:15<00:00,  3.84s/it]\n",
      "100%|██████████| 4/4 [00:15<00:00,  3.84s/it]\n",
      "100%|██████████| 4/4 [00:15<00:00,  3.83s/it]\n",
      "100%|██████████| 4/4 [00:15<00:00,  3.83s/it]\n",
      "100%|██████████| 4/4 [00:15<00:00,  3.83s/it]\n",
      "100%|██████████| 4/4 [00:15<00:00,  3.84s/it]\n",
      "100%|██████████| 4/4 [00:15<00:00,  3.83s/it]\n",
      "100%|██████████| 4/4 [00:15<00:00,  3.83s/it]\n",
      "100%|██████████| 4/4 [00:15<00:00,  3.83s/it]\n"
     ]
    },
    {
     "name": "stdout",
     "output_type": "stream",
     "text": [
      "iter 8680: loss 5.6890, time 15355.33ms\n"
     ]
    },
    {
     "name": "stderr",
     "output_type": "stream",
     "text": [
      "100%|██████████| 4/4 [00:15<00:00,  3.83s/it]\n",
      "100%|██████████| 4/4 [00:15<00:00,  3.83s/it]\n",
      "100%|██████████| 4/4 [00:15<00:00,  3.83s/it]\n",
      "100%|██████████| 4/4 [00:15<00:00,  3.83s/it]\n",
      "100%|██████████| 4/4 [00:15<00:00,  3.91s/it]\n",
      "100%|██████████| 4/4 [00:16<00:00,  4.03s/it]\n",
      "100%|██████████| 4/4 [00:16<00:00,  4.03s/it]\n",
      "100%|██████████| 4/4 [00:16<00:00,  4.03s/it]\n",
      "100%|██████████| 4/4 [00:16<00:00,  4.03s/it]\n",
      "100%|██████████| 4/4 [00:16<00:00,  4.03s/it]\n",
      "100%|██████████| 4/4 [00:16<00:00,  4.03s/it]\n",
      "100%|██████████| 4/4 [00:16<00:00,  4.03s/it]\n",
      "100%|██████████| 4/4 [00:16<00:00,  4.04s/it]\n",
      "100%|██████████| 4/4 [00:16<00:00,  4.03s/it]\n",
      "100%|██████████| 4/4 [00:16<00:00,  4.03s/it]\n",
      "100%|██████████| 4/4 [00:16<00:00,  4.05s/it]\n",
      "100%|██████████| 4/4 [00:15<00:00,  3.98s/it]\n",
      "100%|██████████| 4/4 [00:15<00:00,  3.99s/it]\n",
      "100%|██████████| 4/4 [00:15<00:00,  3.99s/it]\n",
      "100%|██████████| 4/4 [00:15<00:00,  4.00s/it]\n"
     ]
    },
    {
     "name": "stdout",
     "output_type": "stream",
     "text": [
      "iter 8700: loss 5.9375, time 16019.99ms\n"
     ]
    },
    {
     "name": "stderr",
     "output_type": "stream",
     "text": [
      "100%|██████████| 4/4 [00:15<00:00,  3.98s/it]\n",
      "100%|██████████| 4/4 [00:15<00:00,  3.99s/it]\n",
      "100%|██████████| 4/4 [00:15<00:00,  3.99s/it]\n",
      "100%|██████████| 4/4 [00:16<00:00,  4.00s/it]\n",
      "100%|██████████| 4/4 [00:15<00:00,  3.98s/it]\n",
      "100%|██████████| 4/4 [00:15<00:00,  3.99s/it]\n",
      "100%|██████████| 4/4 [00:15<00:00,  3.99s/it]\n",
      "100%|██████████| 4/4 [00:16<00:00,  4.00s/it]\n",
      "100%|██████████| 4/4 [00:15<00:00,  3.99s/it]\n",
      "100%|██████████| 4/4 [00:15<00:00,  3.99s/it]\n",
      "100%|██████████| 4/4 [00:16<00:00,  4.00s/it]\n",
      "100%|██████████| 4/4 [00:15<00:00,  3.99s/it]\n",
      "100%|██████████| 4/4 [00:15<00:00,  3.99s/it]\n",
      "100%|██████████| 4/4 [00:15<00:00,  3.99s/it]\n",
      "100%|██████████| 4/4 [00:15<00:00,  3.99s/it]\n",
      "100%|██████████| 4/4 [00:15<00:00,  3.99s/it]\n",
      "100%|██████████| 4/4 [00:15<00:00,  3.99s/it]\n",
      "100%|██████████| 4/4 [00:15<00:00,  3.99s/it]\n",
      "100%|██████████| 4/4 [00:15<00:00,  3.99s/it]\n",
      "100%|██████████| 4/4 [00:15<00:00,  3.99s/it]\n"
     ]
    },
    {
     "name": "stdout",
     "output_type": "stream",
     "text": [
      "iter 8720: loss 5.2169, time 15968.30ms\n"
     ]
    },
    {
     "name": "stderr",
     "output_type": "stream",
     "text": [
      "100%|██████████| 4/4 [00:15<00:00,  3.98s/it]\n",
      "100%|██████████| 4/4 [00:15<00:00,  3.99s/it]\n",
      "100%|██████████| 4/4 [00:15<00:00,  3.99s/it]\n",
      "100%|██████████| 4/4 [00:15<00:00,  3.99s/it]\n",
      "100%|██████████| 4/4 [00:15<00:00,  3.99s/it]\n",
      "100%|██████████| 4/4 [00:15<00:00,  3.99s/it]\n",
      "100%|██████████| 4/4 [00:15<00:00,  3.99s/it]\n",
      "100%|██████████| 4/4 [00:15<00:00,  3.99s/it]\n",
      "100%|██████████| 4/4 [00:15<00:00,  3.99s/it]\n",
      "100%|██████████| 4/4 [00:15<00:00,  3.95s/it]\n",
      "100%|██████████| 4/4 [00:15<00:00,  3.89s/it]\n",
      "100%|██████████| 4/4 [00:15<00:00,  3.89s/it]\n",
      "100%|██████████| 4/4 [00:15<00:00,  3.89s/it]\n",
      "100%|██████████| 4/4 [00:15<00:00,  3.90s/it]\n",
      "100%|██████████| 4/4 [00:15<00:00,  3.90s/it]\n",
      "100%|██████████| 4/4 [00:15<00:00,  3.89s/it]\n",
      "100%|██████████| 4/4 [00:15<00:00,  3.90s/it]\n",
      "100%|██████████| 4/4 [00:15<00:00,  3.90s/it]\n",
      "100%|██████████| 4/4 [00:15<00:00,  3.89s/it]\n",
      "100%|██████████| 4/4 [00:15<00:00,  3.90s/it]\n"
     ]
    },
    {
     "name": "stdout",
     "output_type": "stream",
     "text": [
      "iter 8740: loss 5.7046, time 15607.52ms\n"
     ]
    },
    {
     "name": "stderr",
     "output_type": "stream",
     "text": [
      "100%|██████████| 4/4 [00:15<00:00,  3.89s/it]\n",
      "100%|██████████| 4/4 [00:15<00:00,  3.90s/it]\n",
      "100%|██████████| 4/4 [00:15<00:00,  3.89s/it]\n",
      "100%|██████████| 4/4 [00:15<00:00,  3.89s/it]\n",
      "100%|██████████| 4/4 [00:15<00:00,  3.89s/it]\n",
      "100%|██████████| 4/4 [00:15<00:00,  3.89s/it]\n",
      "100%|██████████| 4/4 [00:15<00:00,  3.89s/it]\n",
      "100%|██████████| 4/4 [00:15<00:00,  3.89s/it]\n",
      "100%|██████████| 4/4 [00:15<00:00,  3.90s/it]\n",
      "100%|██████████| 4/4 [00:15<00:00,  3.89s/it]\n",
      "100%|██████████| 4/4 [00:15<00:00,  3.89s/it]\n",
      "100%|██████████| 4/4 [00:15<00:00,  3.89s/it]\n",
      "100%|██████████| 4/4 [00:15<00:00,  3.90s/it]\n",
      "100%|██████████| 4/4 [00:15<00:00,  3.90s/it]\n",
      "100%|██████████| 4/4 [00:15<00:00,  3.89s/it]\n",
      "100%|██████████| 4/4 [00:15<00:00,  3.89s/it]\n",
      "100%|██████████| 4/4 [00:15<00:00,  3.90s/it]\n",
      "100%|██████████| 4/4 [00:15<00:00,  3.89s/it]\n",
      "100%|██████████| 4/4 [00:15<00:00,  3.89s/it]\n",
      "100%|██████████| 4/4 [00:15<00:00,  3.89s/it]\n"
     ]
    },
    {
     "name": "stdout",
     "output_type": "stream",
     "text": [
      "iter 8760: loss 6.1786, time 15595.57ms\n"
     ]
    },
    {
     "name": "stderr",
     "output_type": "stream",
     "text": [
      "100%|██████████| 4/4 [00:15<00:00,  3.89s/it]\n",
      "100%|██████████| 4/4 [00:15<00:00,  3.89s/it]\n",
      "100%|██████████| 4/4 [00:15<00:00,  3.89s/it]\n",
      "100%|██████████| 4/4 [00:15<00:00,  3.89s/it]\n",
      "100%|██████████| 4/4 [00:15<00:00,  3.93s/it]\n",
      "100%|██████████| 4/4 [00:15<00:00,  3.98s/it]\n",
      "100%|██████████| 4/4 [00:15<00:00,  3.81s/it]\n",
      "100%|██████████| 4/4 [00:15<00:00,  3.81s/it]\n",
      "100%|██████████| 4/4 [00:15<00:00,  3.81s/it]\n",
      "100%|██████████| 4/4 [00:15<00:00,  3.81s/it]\n",
      "100%|██████████| 4/4 [00:15<00:00,  3.80s/it]\n",
      "100%|██████████| 4/4 [00:15<00:00,  3.80s/it]\n",
      "100%|██████████| 4/4 [00:15<00:00,  3.81s/it]\n",
      "100%|██████████| 4/4 [00:15<00:00,  3.81s/it]\n",
      "100%|██████████| 4/4 [00:15<00:00,  3.81s/it]\n",
      "100%|██████████| 4/4 [00:15<00:00,  3.81s/it]\n",
      "100%|██████████| 4/4 [00:15<00:00,  3.81s/it]\n",
      "100%|██████████| 4/4 [00:15<00:00,  3.80s/it]\n",
      "100%|██████████| 4/4 [00:15<00:00,  3.81s/it]\n",
      "100%|██████████| 4/4 [00:15<00:00,  3.82s/it]\n"
     ]
    },
    {
     "name": "stdout",
     "output_type": "stream",
     "text": [
      "iter 8780: loss 5.8205, time 15286.39ms\n"
     ]
    },
    {
     "name": "stderr",
     "output_type": "stream",
     "text": [
      "100%|██████████| 4/4 [00:15<00:00,  3.80s/it]\n",
      "100%|██████████| 4/4 [00:15<00:00,  3.80s/it]\n",
      "100%|██████████| 4/4 [00:15<00:00,  3.80s/it]\n",
      "100%|██████████| 4/4 [00:15<00:00,  3.81s/it]\n",
      "100%|██████████| 4/4 [00:15<00:00,  3.81s/it]\n",
      "100%|██████████| 4/4 [00:15<00:00,  3.81s/it]\n",
      "100%|██████████| 4/4 [00:15<00:00,  3.80s/it]\n",
      "100%|██████████| 4/4 [00:15<00:00,  3.81s/it]\n",
      "100%|██████████| 4/4 [00:15<00:00,  3.81s/it]\n",
      "100%|██████████| 4/4 [00:15<00:00,  3.80s/it]\n",
      "100%|██████████| 4/4 [00:15<00:00,  3.80s/it]\n",
      "100%|██████████| 4/4 [00:15<00:00,  3.82s/it]\n",
      "100%|██████████| 4/4 [00:15<00:00,  3.81s/it]\n",
      "100%|██████████| 4/4 [00:15<00:00,  3.81s/it]\n",
      "100%|██████████| 4/4 [00:15<00:00,  3.80s/it]\n",
      "100%|██████████| 4/4 [00:15<00:00,  3.81s/it]\n",
      "100%|██████████| 4/4 [00:15<00:00,  3.81s/it]\n",
      "100%|██████████| 4/4 [00:15<00:00,  3.81s/it]\n",
      "100%|██████████| 4/4 [00:15<00:00,  3.80s/it]\n"
     ]
    },
    {
     "name": "stdout",
     "output_type": "stream",
     "text": [
      "step 8800: train loss 5.5652, val loss 5.5314\n",
      "train ppl 261.18, val ppl 252.49\n",
      "📈 Train/Val Gap: -0.0339 (-0.61%)\n"
     ]
    },
    {
     "name": "stderr",
     "output_type": "stream",
     "text": [
      "100%|██████████| 4/4 [00:15<00:00,  3.80s/it]\n"
     ]
    },
    {
     "name": "stdout",
     "output_type": "stream",
     "text": [
      "iter 8800: loss 5.4310, time 106564.19ms\n"
     ]
    },
    {
     "name": "stderr",
     "output_type": "stream",
     "text": [
      "100%|██████████| 4/4 [00:15<00:00,  3.80s/it]\n",
      "100%|██████████| 4/4 [00:15<00:00,  3.81s/it]\n",
      "100%|██████████| 4/4 [00:15<00:00,  3.81s/it]\n",
      "100%|██████████| 4/4 [00:15<00:00,  3.80s/it]\n",
      "100%|██████████| 4/4 [00:15<00:00,  3.80s/it]\n",
      "100%|██████████| 4/4 [00:15<00:00,  3.81s/it]\n",
      "100%|██████████| 4/4 [00:15<00:00,  3.81s/it]\n",
      "100%|██████████| 4/4 [00:15<00:00,  3.81s/it]\n",
      "100%|██████████| 4/4 [00:15<00:00,  3.80s/it]\n",
      "100%|██████████| 4/4 [00:15<00:00,  3.81s/it]\n",
      "100%|██████████| 4/4 [00:15<00:00,  3.80s/it]\n",
      "100%|██████████| 4/4 [00:15<00:00,  3.80s/it]\n",
      "100%|██████████| 4/4 [00:15<00:00,  3.81s/it]\n",
      "100%|██████████| 4/4 [00:15<00:00,  3.81s/it]\n",
      "100%|██████████| 4/4 [00:15<00:00,  3.82s/it]\n",
      "100%|██████████| 4/4 [00:15<00:00,  3.80s/it]\n",
      "100%|██████████| 4/4 [00:15<00:00,  3.80s/it]\n",
      "100%|██████████| 4/4 [00:15<00:00,  3.81s/it]\n",
      "100%|██████████| 4/4 [00:15<00:00,  3.80s/it]\n",
      "100%|██████████| 4/4 [00:15<00:00,  3.81s/it]\n"
     ]
    },
    {
     "name": "stdout",
     "output_type": "stream",
     "text": [
      "iter 8820: loss 5.1082, time 15251.63ms\n"
     ]
    },
    {
     "name": "stderr",
     "output_type": "stream",
     "text": [
      "100%|██████████| 4/4 [00:15<00:00,  3.80s/it]\n",
      "100%|██████████| 4/4 [00:15<00:00,  3.81s/it]\n",
      "100%|██████████| 4/4 [00:15<00:00,  3.80s/it]\n",
      "100%|██████████| 4/4 [00:15<00:00,  3.80s/it]\n",
      "100%|██████████| 4/4 [00:15<00:00,  3.80s/it]\n",
      "100%|██████████| 4/4 [00:15<00:00,  3.81s/it]\n",
      "100%|██████████| 4/4 [00:15<00:00,  3.83s/it]\n",
      "100%|██████████| 4/4 [00:15<00:00,  3.80s/it]\n",
      "100%|██████████| 4/4 [00:15<00:00,  3.81s/it]\n",
      "100%|██████████| 4/4 [00:15<00:00,  3.81s/it]\n",
      "100%|██████████| 4/4 [00:15<00:00,  3.80s/it]\n",
      "100%|██████████| 4/4 [00:15<00:00,  3.81s/it]\n",
      "100%|██████████| 4/4 [00:15<00:00,  3.82s/it]\n",
      "100%|██████████| 4/4 [00:15<00:00,  3.81s/it]\n",
      "100%|██████████| 4/4 [00:15<00:00,  3.80s/it]\n",
      "100%|██████████| 4/4 [00:15<00:00,  3.81s/it]\n",
      "100%|██████████| 4/4 [00:15<00:00,  3.81s/it]\n",
      "100%|██████████| 4/4 [00:15<00:00,  3.81s/it]\n",
      "100%|██████████| 4/4 [00:15<00:00,  3.80s/it]\n",
      "100%|██████████| 4/4 [00:15<00:00,  3.80s/it]\n"
     ]
    },
    {
     "name": "stdout",
     "output_type": "stream",
     "text": [
      "iter 8840: loss 5.5405, time 15238.99ms\n"
     ]
    },
    {
     "name": "stderr",
     "output_type": "stream",
     "text": [
      "100%|██████████| 4/4 [00:15<00:00,  3.80s/it]\n",
      "100%|██████████| 4/4 [00:15<00:00,  3.80s/it]\n",
      "100%|██████████| 4/4 [00:15<00:00,  3.82s/it]\n",
      "100%|██████████| 4/4 [00:15<00:00,  3.80s/it]\n",
      "100%|██████████| 4/4 [00:15<00:00,  3.81s/it]\n",
      "100%|██████████| 4/4 [00:15<00:00,  3.80s/it]\n",
      "100%|██████████| 4/4 [00:15<00:00,  3.80s/it]\n",
      "100%|██████████| 4/4 [00:15<00:00,  3.81s/it]\n",
      "100%|██████████| 4/4 [00:15<00:00,  3.81s/it]\n",
      "100%|██████████| 4/4 [00:15<00:00,  3.80s/it]\n",
      "100%|██████████| 4/4 [00:15<00:00,  3.80s/it]\n",
      "100%|██████████| 4/4 [00:15<00:00,  3.80s/it]\n",
      "100%|██████████| 4/4 [00:15<00:00,  3.81s/it]\n",
      "100%|██████████| 4/4 [00:15<00:00,  3.80s/it]\n",
      "100%|██████████| 4/4 [00:15<00:00,  3.81s/it]\n",
      "100%|██████████| 4/4 [00:15<00:00,  3.81s/it]\n",
      "100%|██████████| 4/4 [00:15<00:00,  3.80s/it]\n",
      "100%|██████████| 4/4 [00:15<00:00,  3.80s/it]\n",
      "100%|██████████| 4/4 [00:15<00:00,  3.80s/it]\n",
      "100%|██████████| 4/4 [00:15<00:00,  3.80s/it]\n"
     ]
    },
    {
     "name": "stdout",
     "output_type": "stream",
     "text": [
      "iter 8860: loss 5.9455, time 15241.08ms\n"
     ]
    },
    {
     "name": "stderr",
     "output_type": "stream",
     "text": [
      "100%|██████████| 4/4 [00:15<00:00,  3.81s/it]\n",
      "100%|██████████| 4/4 [00:15<00:00,  3.80s/it]\n",
      "100%|██████████| 4/4 [00:15<00:00,  3.81s/it]\n",
      "100%|██████████| 4/4 [00:15<00:00,  3.81s/it]\n",
      "100%|██████████| 4/4 [00:15<00:00,  3.81s/it]\n",
      "100%|██████████| 4/4 [00:15<00:00,  3.81s/it]\n",
      "100%|██████████| 4/4 [00:15<00:00,  3.80s/it]\n",
      "100%|██████████| 4/4 [00:15<00:00,  3.81s/it]\n",
      "100%|██████████| 4/4 [00:15<00:00,  3.81s/it]\n",
      "100%|██████████| 4/4 [00:15<00:00,  3.81s/it]\n",
      "100%|██████████| 4/4 [00:15<00:00,  3.81s/it]\n",
      "100%|██████████| 4/4 [00:15<00:00,  3.80s/it]\n",
      "100%|██████████| 4/4 [00:15<00:00,  3.81s/it]\n",
      "100%|██████████| 4/4 [00:15<00:00,  3.81s/it]\n",
      "100%|██████████| 4/4 [00:15<00:00,  3.80s/it]\n",
      "100%|██████████| 4/4 [00:15<00:00,  3.81s/it]\n",
      "100%|██████████| 4/4 [00:15<00:00,  3.81s/it]\n",
      "100%|██████████| 4/4 [00:15<00:00,  3.80s/it]\n",
      "100%|██████████| 4/4 [00:15<00:00,  3.80s/it]\n",
      "100%|██████████| 4/4 [00:15<00:00,  3.81s/it]\n"
     ]
    },
    {
     "name": "stdout",
     "output_type": "stream",
     "text": [
      "iter 8880: loss 5.7669, time 15248.67ms\n"
     ]
    },
    {
     "name": "stderr",
     "output_type": "stream",
     "text": [
      "100%|██████████| 4/4 [00:15<00:00,  3.81s/it]\n",
      "100%|██████████| 4/4 [00:15<00:00,  3.81s/it]\n",
      "100%|██████████| 4/4 [00:15<00:00,  3.81s/it]\n",
      "100%|██████████| 4/4 [00:15<00:00,  3.81s/it]\n",
      "100%|██████████| 4/4 [00:15<00:00,  3.81s/it]\n",
      "100%|██████████| 4/4 [00:15<00:00,  3.81s/it]\n",
      "100%|██████████| 4/4 [00:15<00:00,  3.80s/it]\n",
      "100%|██████████| 4/4 [00:15<00:00,  3.81s/it]\n",
      "100%|██████████| 4/4 [00:15<00:00,  3.81s/it]\n",
      "100%|██████████| 4/4 [00:15<00:00,  3.81s/it]\n",
      "100%|██████████| 4/4 [00:15<00:00,  3.81s/it]\n",
      "100%|██████████| 4/4 [00:15<00:00,  3.81s/it]\n",
      "100%|██████████| 4/4 [00:15<00:00,  3.80s/it]\n",
      "100%|██████████| 4/4 [00:15<00:00,  3.81s/it]\n",
      "100%|██████████| 4/4 [00:15<00:00,  3.80s/it]\n",
      "100%|██████████| 4/4 [00:15<00:00,  3.81s/it]\n",
      "100%|██████████| 4/4 [00:15<00:00,  3.80s/it]\n",
      "100%|██████████| 4/4 [00:15<00:00,  3.81s/it]\n",
      "100%|██████████| 4/4 [00:15<00:00,  3.80s/it]\n",
      "100%|██████████| 4/4 [00:15<00:00,  3.81s/it]\n"
     ]
    },
    {
     "name": "stdout",
     "output_type": "stream",
     "text": [
      "iter 8900: loss 5.9733, time 15271.55ms\n"
     ]
    },
    {
     "name": "stderr",
     "output_type": "stream",
     "text": [
      "100%|██████████| 4/4 [00:15<00:00,  3.80s/it]\n",
      "100%|██████████| 4/4 [00:15<00:00,  3.81s/it]\n",
      "100%|██████████| 4/4 [00:15<00:00,  3.80s/it]\n",
      "100%|██████████| 4/4 [00:15<00:00,  3.81s/it]\n",
      "100%|██████████| 4/4 [00:15<00:00,  3.80s/it]\n",
      "100%|██████████| 4/4 [00:15<00:00,  3.81s/it]\n",
      "100%|██████████| 4/4 [00:15<00:00,  3.81s/it]\n",
      "100%|██████████| 4/4 [00:15<00:00,  3.81s/it]\n",
      "100%|██████████| 4/4 [00:15<00:00,  3.81s/it]\n",
      "100%|██████████| 4/4 [00:15<00:00,  3.81s/it]\n",
      "100%|██████████| 4/4 [00:15<00:00,  3.80s/it]\n",
      "100%|██████████| 4/4 [00:15<00:00,  3.85s/it]\n",
      "100%|██████████| 4/4 [00:15<00:00,  3.85s/it]\n",
      "100%|██████████| 4/4 [00:15<00:00,  3.85s/it]\n",
      "100%|██████████| 4/4 [00:15<00:00,  3.85s/it]\n",
      "100%|██████████| 4/4 [00:15<00:00,  3.85s/it]\n",
      "100%|██████████| 4/4 [00:15<00:00,  3.85s/it]\n",
      "100%|██████████| 4/4 [00:15<00:00,  3.85s/it]\n",
      "100%|██████████| 4/4 [00:15<00:00,  3.85s/it]\n",
      "100%|██████████| 4/4 [00:15<00:00,  3.85s/it]\n"
     ]
    },
    {
     "name": "stdout",
     "output_type": "stream",
     "text": [
      "iter 8920: loss 5.1362, time 15434.02ms\n"
     ]
    },
    {
     "name": "stderr",
     "output_type": "stream",
     "text": [
      "100%|██████████| 4/4 [00:15<00:00,  3.85s/it]\n",
      "100%|██████████| 4/4 [00:15<00:00,  3.85s/it]\n",
      "100%|██████████| 4/4 [00:15<00:00,  3.85s/it]\n",
      "100%|██████████| 4/4 [00:15<00:00,  3.85s/it]\n",
      "100%|██████████| 4/4 [00:15<00:00,  3.85s/it]\n",
      "100%|██████████| 4/4 [00:15<00:00,  3.86s/it]\n",
      "100%|██████████| 4/4 [00:15<00:00,  3.85s/it]\n",
      "100%|██████████| 4/4 [00:15<00:00,  3.85s/it]\n",
      "100%|██████████| 4/4 [00:15<00:00,  3.85s/it]\n",
      "100%|██████████| 4/4 [00:15<00:00,  3.85s/it]\n",
      "100%|██████████| 4/4 [00:15<00:00,  3.85s/it]\n",
      "100%|██████████| 4/4 [00:15<00:00,  3.86s/it]\n",
      "100%|██████████| 4/4 [00:15<00:00,  3.85s/it]\n",
      "100%|██████████| 4/4 [00:15<00:00,  3.85s/it]\n",
      "100%|██████████| 4/4 [00:15<00:00,  3.86s/it]\n",
      "100%|██████████| 4/4 [00:15<00:00,  3.85s/it]\n",
      "100%|██████████| 4/4 [00:15<00:00,  3.85s/it]\n",
      "100%|██████████| 4/4 [00:15<00:00,  3.85s/it]\n",
      "100%|██████████| 4/4 [00:15<00:00,  3.86s/it]\n",
      "100%|██████████| 4/4 [00:15<00:00,  3.85s/it]\n"
     ]
    },
    {
     "name": "stdout",
     "output_type": "stream",
     "text": [
      "iter 8940: loss 4.6876, time 15428.93ms\n"
     ]
    },
    {
     "name": "stderr",
     "output_type": "stream",
     "text": [
      "100%|██████████| 4/4 [00:15<00:00,  3.84s/it]\n",
      "100%|██████████| 4/4 [00:15<00:00,  3.85s/it]\n",
      "100%|██████████| 4/4 [00:15<00:00,  3.85s/it]\n",
      "100%|██████████| 4/4 [00:15<00:00,  3.85s/it]\n",
      "100%|██████████| 4/4 [00:15<00:00,  3.85s/it]\n",
      "100%|██████████| 4/4 [00:15<00:00,  3.85s/it]\n",
      "100%|██████████| 4/4 [00:15<00:00,  3.86s/it]\n",
      "100%|██████████| 4/4 [00:15<00:00,  3.85s/it]\n",
      "100%|██████████| 4/4 [00:15<00:00,  3.85s/it]\n",
      "100%|██████████| 4/4 [00:15<00:00,  3.85s/it]\n",
      "100%|██████████| 4/4 [00:15<00:00,  3.85s/it]\n",
      "100%|██████████| 4/4 [00:15<00:00,  3.85s/it]\n",
      "100%|██████████| 4/4 [00:15<00:00,  3.85s/it]\n",
      "100%|██████████| 4/4 [00:15<00:00,  3.85s/it]\n",
      "100%|██████████| 4/4 [00:15<00:00,  3.92s/it]\n",
      "100%|██████████| 4/4 [00:15<00:00,  3.91s/it]\n",
      "100%|██████████| 4/4 [00:15<00:00,  3.91s/it]\n",
      "100%|██████████| 4/4 [00:15<00:00,  3.91s/it]\n",
      "100%|██████████| 4/4 [00:15<00:00,  3.91s/it]\n",
      "100%|██████████| 4/4 [00:15<00:00,  3.91s/it]\n"
     ]
    },
    {
     "name": "stdout",
     "output_type": "stream",
     "text": [
      "iter 8960: loss 5.6398, time 15680.28ms\n"
     ]
    },
    {
     "name": "stderr",
     "output_type": "stream",
     "text": [
      "100%|██████████| 4/4 [00:15<00:00,  3.91s/it]\n",
      "100%|██████████| 4/4 [00:15<00:00,  3.91s/it]\n",
      "100%|██████████| 4/4 [00:15<00:00,  3.91s/it]\n",
      "100%|██████████| 4/4 [00:15<00:00,  3.91s/it]\n",
      "100%|██████████| 4/4 [00:15<00:00,  3.91s/it]\n",
      "100%|██████████| 4/4 [00:15<00:00,  3.91s/it]\n",
      "100%|██████████| 4/4 [00:15<00:00,  3.92s/it]\n",
      "100%|██████████| 4/4 [00:15<00:00,  3.92s/it]\n",
      "100%|██████████| 4/4 [00:15<00:00,  3.91s/it]\n",
      "100%|██████████| 4/4 [00:15<00:00,  3.88s/it]\n",
      "100%|██████████| 4/4 [00:15<00:00,  3.82s/it]\n",
      "100%|██████████| 4/4 [00:15<00:00,  3.82s/it]\n",
      "100%|██████████| 4/4 [00:15<00:00,  3.82s/it]\n",
      "100%|██████████| 4/4 [00:15<00:00,  3.83s/it]\n",
      "100%|██████████| 4/4 [00:15<00:00,  3.82s/it]\n",
      "100%|██████████| 4/4 [00:15<00:00,  3.83s/it]\n",
      "100%|██████████| 4/4 [00:15<00:00,  3.82s/it]\n",
      "100%|██████████| 4/4 [00:15<00:00,  3.83s/it]\n",
      "100%|██████████| 4/4 [00:15<00:00,  3.82s/it]\n",
      "100%|██████████| 4/4 [00:15<00:00,  3.82s/it]\n"
     ]
    },
    {
     "name": "stdout",
     "output_type": "stream",
     "text": [
      "iter 8980: loss 5.6620, time 15315.63ms\n"
     ]
    },
    {
     "name": "stderr",
     "output_type": "stream",
     "text": [
      "100%|██████████| 4/4 [00:15<00:00,  3.82s/it]\n",
      "100%|██████████| 4/4 [00:15<00:00,  3.83s/it]\n",
      "100%|██████████| 4/4 [00:15<00:00,  3.83s/it]\n",
      "100%|██████████| 4/4 [00:15<00:00,  3.82s/it]\n",
      "100%|██████████| 4/4 [00:15<00:00,  3.83s/it]\n",
      "100%|██████████| 4/4 [00:15<00:00,  3.86s/it]\n",
      "100%|██████████| 4/4 [00:15<00:00,  3.85s/it]\n",
      "100%|██████████| 4/4 [00:15<00:00,  3.85s/it]\n",
      "100%|██████████| 4/4 [00:15<00:00,  3.85s/it]\n",
      "100%|██████████| 4/4 [00:15<00:00,  3.92s/it]\n",
      "100%|██████████| 4/4 [00:15<00:00,  3.91s/it]\n",
      "100%|██████████| 4/4 [00:15<00:00,  3.92s/it]\n",
      "100%|██████████| 4/4 [00:15<00:00,  3.92s/it]\n",
      "100%|██████████| 4/4 [00:15<00:00,  3.96s/it]\n",
      "100%|██████████| 4/4 [00:15<00:00,  3.96s/it]\n",
      "100%|██████████| 4/4 [00:15<00:00,  3.96s/it]\n",
      "100%|██████████| 4/4 [00:15<00:00,  3.96s/it]\n",
      "100%|██████████| 4/4 [00:15<00:00,  3.96s/it]\n",
      "100%|██████████| 4/4 [00:15<00:00,  3.96s/it]\n"
     ]
    },
    {
     "name": "stdout",
     "output_type": "stream",
     "text": [
      "step 9000: train loss 5.4626, val loss 5.5231\n",
      "train ppl 235.71, val ppl 250.41\n",
      "📈 Train/Val Gap: 0.0605 (1.11%)\n"
     ]
    },
    {
     "name": "stderr",
     "output_type": "stream",
     "text": [
      "100%|██████████| 4/4 [00:15<00:00,  3.95s/it]\n"
     ]
    },
    {
     "name": "stdout",
     "output_type": "stream",
     "text": [
      "iter 9000: loss 5.8760, time 106258.80ms\n"
     ]
    },
    {
     "name": "stderr",
     "output_type": "stream",
     "text": [
      "100%|██████████| 4/4 [00:15<00:00,  3.95s/it]\n",
      "100%|██████████| 4/4 [00:15<00:00,  3.95s/it]\n",
      "100%|██████████| 4/4 [00:15<00:00,  3.96s/it]\n",
      "100%|██████████| 4/4 [00:15<00:00,  3.95s/it]\n",
      "100%|██████████| 4/4 [00:15<00:00,  3.96s/it]\n",
      "100%|██████████| 4/4 [00:15<00:00,  3.96s/it]\n",
      "100%|██████████| 4/4 [00:15<00:00,  3.96s/it]\n",
      "100%|██████████| 4/4 [00:15<00:00,  3.96s/it]\n",
      "100%|██████████| 4/4 [00:15<00:00,  3.96s/it]\n",
      "100%|██████████| 4/4 [00:15<00:00,  3.96s/it]\n",
      "100%|██████████| 4/4 [00:15<00:00,  3.96s/it]\n",
      "100%|██████████| 4/4 [00:15<00:00,  3.95s/it]\n",
      "100%|██████████| 4/4 [00:15<00:00,  3.96s/it]\n",
      "100%|██████████| 4/4 [00:15<00:00,  3.96s/it]\n",
      "100%|██████████| 4/4 [00:15<00:00,  3.95s/it]\n",
      "100%|██████████| 4/4 [00:15<00:00,  3.98s/it]\n",
      "100%|██████████| 4/4 [00:15<00:00,  3.96s/it]\n",
      "100%|██████████| 4/4 [00:15<00:00,  3.96s/it]\n",
      "100%|██████████| 4/4 [00:15<00:00,  3.96s/it]\n",
      "100%|██████████| 4/4 [00:15<00:00,  3.96s/it]\n"
     ]
    },
    {
     "name": "stdout",
     "output_type": "stream",
     "text": [
      "iter 9020: loss 5.5194, time 15852.03ms\n"
     ]
    },
    {
     "name": "stderr",
     "output_type": "stream",
     "text": [
      "100%|██████████| 4/4 [00:15<00:00,  3.95s/it]\n",
      "100%|██████████| 4/4 [00:15<00:00,  3.96s/it]\n",
      "100%|██████████| 4/4 [00:15<00:00,  3.95s/it]\n",
      "100%|██████████| 4/4 [00:15<00:00,  3.96s/it]\n",
      "100%|██████████| 4/4 [00:15<00:00,  3.96s/it]\n",
      "100%|██████████| 4/4 [00:15<00:00,  3.96s/it]\n",
      "100%|██████████| 4/4 [00:15<00:00,  3.96s/it]\n",
      "100%|██████████| 4/4 [00:15<00:00,  3.98s/it]\n",
      "100%|██████████| 4/4 [00:15<00:00,  3.96s/it]\n",
      "100%|██████████| 4/4 [00:15<00:00,  3.96s/it]\n",
      "100%|██████████| 4/4 [00:15<00:00,  3.94s/it]\n",
      "100%|██████████| 4/4 [00:15<00:00,  3.91s/it]\n",
      "100%|██████████| 4/4 [00:15<00:00,  3.92s/it]\n",
      "100%|██████████| 4/4 [00:15<00:00,  3.92s/it]\n",
      "100%|██████████| 4/4 [00:15<00:00,  3.92s/it]\n",
      "100%|██████████| 4/4 [00:15<00:00,  3.92s/it]\n",
      "100%|██████████| 4/4 [00:15<00:00,  3.92s/it]\n",
      "100%|██████████| 4/4 [00:15<00:00,  3.91s/it]\n",
      "100%|██████████| 4/4 [00:15<00:00,  3.91s/it]\n",
      "100%|██████████| 4/4 [00:15<00:00,  3.91s/it]\n"
     ]
    },
    {
     "name": "stdout",
     "output_type": "stream",
     "text": [
      "iter 9040: loss 5.2353, time 15682.79ms\n"
     ]
    },
    {
     "name": "stderr",
     "output_type": "stream",
     "text": [
      "100%|██████████| 4/4 [00:15<00:00,  3.91s/it]\n",
      "100%|██████████| 4/4 [00:15<00:00,  3.91s/it]\n",
      "100%|██████████| 4/4 [00:15<00:00,  3.91s/it]\n",
      "100%|██████████| 4/4 [00:15<00:00,  3.93s/it]\n",
      "100%|██████████| 4/4 [00:15<00:00,  3.91s/it]\n",
      "100%|██████████| 4/4 [00:15<00:00,  3.91s/it]\n",
      "100%|██████████| 4/4 [00:15<00:00,  3.92s/it]\n",
      "100%|██████████| 4/4 [00:15<00:00,  3.91s/it]\n",
      "100%|██████████| 4/4 [00:15<00:00,  3.92s/it]\n",
      "100%|██████████| 4/4 [00:15<00:00,  3.91s/it]\n",
      "100%|██████████| 4/4 [00:15<00:00,  3.91s/it]\n",
      "100%|██████████| 4/4 [00:15<00:00,  3.92s/it]\n",
      "100%|██████████| 4/4 [00:15<00:00,  3.91s/it]\n",
      "100%|██████████| 4/4 [00:15<00:00,  3.91s/it]\n",
      "100%|██████████| 4/4 [00:15<00:00,  3.91s/it]\n",
      "100%|██████████| 4/4 [00:15<00:00,  3.92s/it]\n",
      "100%|██████████| 4/4 [00:15<00:00,  3.91s/it]\n",
      "100%|██████████| 4/4 [00:15<00:00,  3.91s/it]\n",
      "100%|██████████| 4/4 [00:15<00:00,  3.91s/it]\n",
      "100%|██████████| 4/4 [00:15<00:00,  3.92s/it]\n"
     ]
    },
    {
     "name": "stdout",
     "output_type": "stream",
     "text": [
      "iter 9060: loss 5.5142, time 15703.67ms\n"
     ]
    },
    {
     "name": "stderr",
     "output_type": "stream",
     "text": [
      "100%|██████████| 4/4 [00:15<00:00,  3.90s/it]\n",
      "100%|██████████| 4/4 [00:15<00:00,  3.91s/it]\n",
      "100%|██████████| 4/4 [00:15<00:00,  3.91s/it]\n",
      "100%|██████████| 4/4 [00:15<00:00,  3.92s/it]\n",
      "100%|██████████| 4/4 [00:15<00:00,  3.91s/it]\n",
      "100%|██████████| 4/4 [00:15<00:00,  3.91s/it]\n",
      "100%|██████████| 4/4 [00:15<00:00,  3.91s/it]\n",
      "100%|██████████| 4/4 [00:15<00:00,  3.91s/it]\n",
      "100%|██████████| 4/4 [00:15<00:00,  3.91s/it]\n",
      "100%|██████████| 4/4 [00:15<00:00,  3.92s/it]\n",
      "100%|██████████| 4/4 [00:15<00:00,  3.91s/it]\n",
      "100%|██████████| 4/4 [00:15<00:00,  3.91s/it]\n",
      "100%|██████████| 4/4 [00:15<00:00,  3.91s/it]\n",
      "100%|██████████| 4/4 [00:15<00:00,  3.91s/it]\n",
      "100%|██████████| 4/4 [00:15<00:00,  3.91s/it]\n",
      "100%|██████████| 4/4 [00:15<00:00,  3.91s/it]\n",
      "100%|██████████| 4/4 [00:15<00:00,  3.92s/it]\n",
      "100%|██████████| 4/4 [00:15<00:00,  3.92s/it]\n",
      "100%|██████████| 4/4 [00:15<00:00,  3.89s/it]\n",
      "100%|██████████| 4/4 [00:15<00:00,  3.83s/it]\n"
     ]
    },
    {
     "name": "stdout",
     "output_type": "stream",
     "text": [
      "iter 9080: loss 5.7077, time 15326.44ms\n"
     ]
    },
    {
     "name": "stderr",
     "output_type": "stream",
     "text": [
      "100%|██████████| 4/4 [00:15<00:00,  3.82s/it]\n",
      "100%|██████████| 4/4 [00:15<00:00,  3.83s/it]\n",
      "100%|██████████| 4/4 [00:15<00:00,  3.83s/it]\n",
      "100%|██████████| 4/4 [00:15<00:00,  3.82s/it]\n",
      "100%|██████████| 4/4 [00:15<00:00,  3.82s/it]\n",
      "100%|██████████| 4/4 [00:15<00:00,  3.82s/it]\n",
      "100%|██████████| 4/4 [00:15<00:00,  3.82s/it]\n",
      "100%|██████████| 4/4 [00:15<00:00,  3.82s/it]\n",
      "100%|██████████| 4/4 [00:15<00:00,  3.82s/it]\n",
      "100%|██████████| 4/4 [00:15<00:00,  3.82s/it]\n",
      "100%|██████████| 4/4 [00:15<00:00,  3.83s/it]\n",
      "100%|██████████| 4/4 [00:15<00:00,  3.82s/it]\n",
      "100%|██████████| 4/4 [00:15<00:00,  3.82s/it]\n",
      "100%|██████████| 4/4 [00:15<00:00,  3.83s/it]\n",
      "100%|██████████| 4/4 [00:15<00:00,  3.83s/it]\n",
      "100%|██████████| 4/4 [00:15<00:00,  3.82s/it]\n",
      "100%|██████████| 4/4 [00:15<00:00,  3.82s/it]\n",
      "100%|██████████| 4/4 [00:15<00:00,  3.83s/it]\n",
      "100%|██████████| 4/4 [00:15<00:00,  3.83s/it]\n",
      "100%|██████████| 4/4 [00:15<00:00,  3.82s/it]\n"
     ]
    },
    {
     "name": "stdout",
     "output_type": "stream",
     "text": [
      "iter 9100: loss 5.2230, time 15312.56ms\n"
     ]
    },
    {
     "name": "stderr",
     "output_type": "stream",
     "text": [
      "100%|██████████| 4/4 [00:15<00:00,  3.82s/it]\n",
      "100%|██████████| 4/4 [00:15<00:00,  3.82s/it]\n",
      "100%|██████████| 4/4 [00:15<00:00,  3.83s/it]\n",
      "100%|██████████| 4/4 [00:15<00:00,  3.82s/it]\n",
      "100%|██████████| 4/4 [00:15<00:00,  3.82s/it]\n",
      "100%|██████████| 4/4 [00:15<00:00,  3.83s/it]\n",
      "100%|██████████| 4/4 [00:15<00:00,  3.83s/it]\n",
      "100%|██████████| 4/4 [00:15<00:00,  3.82s/it]\n",
      "100%|██████████| 4/4 [00:15<00:00,  3.82s/it]\n",
      "100%|██████████| 4/4 [00:15<00:00,  3.83s/it]\n",
      "100%|██████████| 4/4 [00:15<00:00,  3.82s/it]\n",
      "100%|██████████| 4/4 [00:15<00:00,  3.82s/it]\n",
      "100%|██████████| 4/4 [00:15<00:00,  3.82s/it]\n",
      "100%|██████████| 4/4 [00:15<00:00,  3.83s/it]\n",
      "100%|██████████| 4/4 [00:15<00:00,  3.82s/it]\n",
      "100%|██████████| 4/4 [00:15<00:00,  3.82s/it]\n",
      "100%|██████████| 4/4 [00:15<00:00,  3.82s/it]\n",
      "100%|██████████| 4/4 [00:15<00:00,  3.83s/it]\n",
      "100%|██████████| 4/4 [00:15<00:00,  3.83s/it]\n",
      "100%|██████████| 4/4 [00:15<00:00,  3.82s/it]\n"
     ]
    },
    {
     "name": "stdout",
     "output_type": "stream",
     "text": [
      "iter 9120: loss 4.3986, time 15310.41ms\n"
     ]
    },
    {
     "name": "stderr",
     "output_type": "stream",
     "text": [
      "100%|██████████| 4/4 [00:15<00:00,  3.82s/it]\n",
      "100%|██████████| 4/4 [00:15<00:00,  3.83s/it]\n",
      "100%|██████████| 4/4 [00:15<00:00,  3.82s/it]\n",
      "100%|██████████| 4/4 [00:15<00:00,  3.82s/it]\n",
      "100%|██████████| 4/4 [00:15<00:00,  3.82s/it]\n",
      "100%|██████████| 4/4 [00:15<00:00,  3.83s/it]\n",
      "100%|██████████| 4/4 [00:15<00:00,  3.82s/it]\n",
      "100%|██████████| 4/4 [00:15<00:00,  3.82s/it]\n",
      "100%|██████████| 4/4 [00:15<00:00,  3.82s/it]\n",
      "100%|██████████| 4/4 [00:15<00:00,  3.84s/it]\n",
      "100%|██████████| 4/4 [00:15<00:00,  3.83s/it]\n",
      "100%|██████████| 4/4 [00:15<00:00,  3.83s/it]\n",
      "100%|██████████| 4/4 [00:15<00:00,  3.82s/it]\n",
      "100%|██████████| 4/4 [00:15<00:00,  3.83s/it]\n",
      "100%|██████████| 4/4 [00:15<00:00,  3.82s/it]\n",
      "100%|██████████| 4/4 [00:15<00:00,  3.82s/it]\n",
      "100%|██████████| 4/4 [00:15<00:00,  3.82s/it]\n",
      "100%|██████████| 4/4 [00:15<00:00,  3.82s/it]\n",
      "100%|██████████| 4/4 [00:15<00:00,  3.82s/it]\n",
      "100%|██████████| 4/4 [00:15<00:00,  3.96s/it]\n"
     ]
    },
    {
     "name": "stdout",
     "output_type": "stream",
     "text": [
      "iter 9140: loss 5.1878, time 15848.72ms\n"
     ]
    },
    {
     "name": "stderr",
     "output_type": "stream",
     "text": [
      "100%|██████████| 4/4 [00:15<00:00,  3.95s/it]\n",
      "100%|██████████| 4/4 [00:15<00:00,  3.95s/it]\n",
      "100%|██████████| 4/4 [00:15<00:00,  3.96s/it]\n",
      "100%|██████████| 4/4 [00:15<00:00,  3.96s/it]\n",
      "100%|██████████| 4/4 [00:15<00:00,  3.96s/it]\n",
      "100%|██████████| 4/4 [00:15<00:00,  3.96s/it]\n",
      "100%|██████████| 4/4 [00:15<00:00,  3.96s/it]\n",
      "100%|██████████| 4/4 [00:15<00:00,  3.95s/it]\n",
      "100%|██████████| 4/4 [00:15<00:00,  3.95s/it]\n",
      "100%|██████████| 4/4 [00:15<00:00,  3.91s/it]\n",
      "100%|██████████| 4/4 [00:15<00:00,  3.91s/it]\n",
      "100%|██████████| 4/4 [00:15<00:00,  3.92s/it]\n",
      "100%|██████████| 4/4 [00:15<00:00,  3.92s/it]\n",
      "100%|██████████| 4/4 [00:15<00:00,  3.91s/it]\n",
      "100%|██████████| 4/4 [00:15<00:00,  3.91s/it]\n",
      "100%|██████████| 4/4 [00:15<00:00,  3.91s/it]\n",
      "100%|██████████| 4/4 [00:15<00:00,  3.91s/it]\n",
      "100%|██████████| 4/4 [00:15<00:00,  3.91s/it]\n",
      "100%|██████████| 4/4 [00:15<00:00,  3.91s/it]\n",
      "100%|██████████| 4/4 [00:15<00:00,  3.91s/it]\n"
     ]
    },
    {
     "name": "stdout",
     "output_type": "stream",
     "text": [
      "iter 9160: loss 5.3356, time 15671.84ms\n"
     ]
    },
    {
     "name": "stderr",
     "output_type": "stream",
     "text": [
      "100%|██████████| 4/4 [00:15<00:00,  3.91s/it]\n",
      "100%|██████████| 4/4 [00:15<00:00,  3.91s/it]\n",
      "100%|██████████| 4/4 [00:15<00:00,  3.91s/it]\n",
      "100%|██████████| 4/4 [00:15<00:00,  3.91s/it]\n",
      "100%|██████████| 4/4 [00:15<00:00,  3.92s/it]\n",
      "100%|██████████| 4/4 [00:15<00:00,  3.91s/it]\n",
      "100%|██████████| 4/4 [00:15<00:00,  3.91s/it]\n",
      "100%|██████████| 4/4 [00:15<00:00,  3.92s/it]\n",
      "100%|██████████| 4/4 [00:15<00:00,  3.91s/it]\n",
      "100%|██████████| 4/4 [00:15<00:00,  3.91s/it]\n",
      "100%|██████████| 4/4 [00:15<00:00,  3.91s/it]\n",
      "100%|██████████| 4/4 [00:15<00:00,  3.92s/it]\n",
      "100%|██████████| 4/4 [00:15<00:00,  3.91s/it]\n",
      "100%|██████████| 4/4 [00:15<00:00,  3.91s/it]\n",
      "100%|██████████| 4/4 [00:15<00:00,  3.91s/it]\n",
      "100%|██████████| 4/4 [00:15<00:00,  3.91s/it]\n",
      "100%|██████████| 4/4 [00:15<00:00,  3.91s/it]\n",
      "100%|██████████| 4/4 [00:15<00:00,  3.91s/it]\n",
      "100%|██████████| 4/4 [00:15<00:00,  3.91s/it]\n",
      "100%|██████████| 4/4 [00:15<00:00,  3.91s/it]\n"
     ]
    },
    {
     "name": "stdout",
     "output_type": "stream",
     "text": [
      "iter 9180: loss 5.7924, time 15683.49ms\n"
     ]
    },
    {
     "name": "stderr",
     "output_type": "stream",
     "text": [
      "100%|██████████| 4/4 [00:15<00:00,  3.91s/it]\n",
      "100%|██████████| 4/4 [00:15<00:00,  3.91s/it]\n",
      "100%|██████████| 4/4 [00:15<00:00,  3.91s/it]\n",
      "100%|██████████| 4/4 [00:15<00:00,  3.92s/it]\n",
      "100%|██████████| 4/4 [00:15<00:00,  3.91s/it]\n",
      "100%|██████████| 4/4 [00:15<00:00,  3.91s/it]\n",
      "100%|██████████| 4/4 [00:15<00:00,  3.92s/it]\n",
      "100%|██████████| 4/4 [00:15<00:00,  3.92s/it]\n",
      "100%|██████████| 4/4 [00:15<00:00,  3.91s/it]\n",
      "100%|██████████| 4/4 [00:15<00:00,  3.92s/it]\n",
      "100%|██████████| 4/4 [00:15<00:00,  3.93s/it]\n",
      "100%|██████████| 4/4 [00:15<00:00,  3.91s/it]\n",
      "100%|██████████| 4/4 [00:15<00:00,  3.91s/it]\n",
      "100%|██████████| 4/4 [00:15<00:00,  3.91s/it]\n",
      "100%|██████████| 4/4 [00:15<00:00,  3.92s/it]\n",
      "100%|██████████| 4/4 [00:15<00:00,  3.91s/it]\n",
      "100%|██████████| 4/4 [00:15<00:00,  3.91s/it]\n",
      "100%|██████████| 4/4 [00:15<00:00,  3.91s/it]\n",
      "100%|██████████| 4/4 [00:15<00:00,  3.92s/it]\n"
     ]
    },
    {
     "name": "stdout",
     "output_type": "stream",
     "text": [
      "step 9200: train loss 5.4532, val loss 5.5282\n",
      "train ppl 233.51, val ppl 251.70\n",
      "📈 Train/Val Gap: 0.0750 (1.38%)\n"
     ]
    },
    {
     "name": "stderr",
     "output_type": "stream",
     "text": [
      "100%|██████████| 4/4 [00:15<00:00,  3.91s/it]\n"
     ]
    },
    {
     "name": "stdout",
     "output_type": "stream",
     "text": [
      "iter 9200: loss 5.7936, time 103119.11ms\n"
     ]
    },
    {
     "name": "stderr",
     "output_type": "stream",
     "text": [
      "100%|██████████| 4/4 [00:15<00:00,  3.92s/it]\n",
      "100%|██████████| 4/4 [00:15<00:00,  3.92s/it]\n",
      "100%|██████████| 4/4 [00:15<00:00,  3.92s/it]\n",
      "100%|██████████| 4/4 [00:15<00:00,  3.92s/it]\n",
      "100%|██████████| 4/4 [00:15<00:00,  3.92s/it]\n",
      "100%|██████████| 4/4 [00:15<00:00,  3.91s/it]\n",
      "100%|██████████| 4/4 [00:15<00:00,  3.91s/it]\n",
      "100%|██████████| 4/4 [00:15<00:00,  3.91s/it]\n",
      "100%|██████████| 4/4 [00:15<00:00,  3.92s/it]\n",
      "100%|██████████| 4/4 [00:15<00:00,  3.91s/it]\n",
      "100%|██████████| 4/4 [00:15<00:00,  3.92s/it]\n",
      "100%|██████████| 4/4 [00:15<00:00,  3.92s/it]\n",
      "100%|██████████| 4/4 [00:15<00:00,  3.92s/it]\n",
      "100%|██████████| 4/4 [00:15<00:00,  3.93s/it]\n",
      "100%|██████████| 4/4 [00:15<00:00,  3.91s/it]\n",
      "100%|██████████| 4/4 [00:15<00:00,  3.91s/it]\n",
      "100%|██████████| 4/4 [00:15<00:00,  3.91s/it]\n",
      "100%|██████████| 4/4 [00:15<00:00,  3.91s/it]\n",
      "100%|██████████| 4/4 [00:15<00:00,  3.92s/it]\n",
      "100%|██████████| 4/4 [00:15<00:00,  3.92s/it]\n"
     ]
    },
    {
     "name": "stdout",
     "output_type": "stream",
     "text": [
      "iter 9220: loss 5.4721, time 15697.18ms\n"
     ]
    },
    {
     "name": "stderr",
     "output_type": "stream",
     "text": [
      "100%|██████████| 4/4 [00:15<00:00,  3.91s/it]\n",
      "100%|██████████| 4/4 [00:15<00:00,  3.92s/it]\n",
      "100%|██████████| 4/4 [00:15<00:00,  3.91s/it]\n",
      "100%|██████████| 4/4 [00:15<00:00,  3.92s/it]\n",
      "100%|██████████| 4/4 [00:15<00:00,  3.92s/it]\n",
      "100%|██████████| 4/4 [00:15<00:00,  3.93s/it]\n",
      "100%|██████████| 4/4 [00:15<00:00,  3.91s/it]\n",
      "100%|██████████| 4/4 [00:15<00:00,  3.92s/it]\n",
      "100%|██████████| 4/4 [00:15<00:00,  3.91s/it]\n",
      "100%|██████████| 4/4 [00:15<00:00,  3.92s/it]\n",
      "100%|██████████| 4/4 [00:15<00:00,  3.91s/it]\n",
      "100%|██████████| 4/4 [00:15<00:00,  3.91s/it]\n",
      "100%|██████████| 4/4 [00:15<00:00,  3.91s/it]\n",
      "100%|██████████| 4/4 [00:15<00:00,  3.92s/it]\n",
      "100%|██████████| 4/4 [00:15<00:00,  3.91s/it]\n",
      "100%|██████████| 4/4 [00:15<00:00,  3.92s/it]\n",
      "100%|██████████| 4/4 [00:15<00:00,  3.91s/it]\n",
      "100%|██████████| 4/4 [00:15<00:00,  3.91s/it]\n",
      "100%|██████████| 4/4 [00:15<00:00,  3.91s/it]\n",
      "100%|██████████| 4/4 [00:15<00:00,  3.91s/it]\n"
     ]
    },
    {
     "name": "stdout",
     "output_type": "stream",
     "text": [
      "iter 9240: loss 5.7246, time 15676.51ms\n"
     ]
    },
    {
     "name": "stderr",
     "output_type": "stream",
     "text": [
      "100%|██████████| 4/4 [00:15<00:00,  3.91s/it]\n",
      "100%|██████████| 4/4 [00:15<00:00,  3.93s/it]\n",
      "100%|██████████| 4/4 [00:15<00:00,  3.92s/it]\n",
      "100%|██████████| 4/4 [00:15<00:00,  3.92s/it]\n",
      "100%|██████████| 4/4 [00:15<00:00,  3.91s/it]\n",
      "100%|██████████| 4/4 [00:15<00:00,  3.92s/it]\n",
      "100%|██████████| 4/4 [00:15<00:00,  3.92s/it]\n",
      "100%|██████████| 4/4 [00:15<00:00,  3.91s/it]\n",
      "100%|██████████| 4/4 [00:15<00:00,  3.91s/it]\n",
      "100%|██████████| 4/4 [00:15<00:00,  3.92s/it]\n",
      "100%|██████████| 4/4 [00:15<00:00,  3.92s/it]\n",
      "100%|██████████| 4/4 [00:15<00:00,  3.91s/it]\n",
      "100%|██████████| 4/4 [00:15<00:00,  3.91s/it]\n",
      "100%|██████████| 4/4 [00:15<00:00,  3.91s/it]\n",
      "100%|██████████| 4/4 [00:15<00:00,  3.92s/it]\n",
      "100%|██████████| 4/4 [00:15<00:00,  3.92s/it]\n",
      "100%|██████████| 4/4 [00:15<00:00,  3.91s/it]\n",
      "100%|██████████| 4/4 [00:15<00:00,  3.92s/it]\n",
      "100%|██████████| 4/4 [00:15<00:00,  3.91s/it]\n",
      "100%|██████████| 4/4 [00:15<00:00,  3.91s/it]\n"
     ]
    },
    {
     "name": "stdout",
     "output_type": "stream",
     "text": [
      "iter 9260: loss 4.6999, time 15673.08ms\n"
     ]
    },
    {
     "name": "stderr",
     "output_type": "stream",
     "text": [
      "100%|██████████| 4/4 [00:15<00:00,  3.91s/it]\n",
      "100%|██████████| 4/4 [00:15<00:00,  3.92s/it]\n",
      "100%|██████████| 4/4 [00:15<00:00,  3.92s/it]\n",
      "100%|██████████| 4/4 [00:15<00:00,  3.91s/it]\n",
      "100%|██████████| 4/4 [00:15<00:00,  3.91s/it]\n",
      "100%|██████████| 4/4 [00:15<00:00,  3.92s/it]\n",
      "100%|██████████| 4/4 [00:15<00:00,  3.91s/it]\n",
      "100%|██████████| 4/4 [00:15<00:00,  3.91s/it]\n",
      "100%|██████████| 4/4 [00:15<00:00,  3.91s/it]\n",
      "100%|██████████| 4/4 [00:15<00:00,  3.92s/it]\n",
      "100%|██████████| 4/4 [00:15<00:00,  3.91s/it]\n",
      "100%|██████████| 4/4 [00:15<00:00,  3.91s/it]\n",
      "100%|██████████| 4/4 [00:15<00:00,  3.91s/it]\n",
      "100%|██████████| 4/4 [00:15<00:00,  3.92s/it]\n",
      "100%|██████████| 4/4 [00:15<00:00,  3.91s/it]\n",
      "100%|██████████| 4/4 [00:15<00:00,  3.91s/it]\n",
      "100%|██████████| 4/4 [00:15<00:00,  3.91s/it]\n",
      "100%|██████████| 4/4 [00:15<00:00,  3.92s/it]\n",
      "100%|██████████| 4/4 [00:15<00:00,  3.91s/it]\n",
      "100%|██████████| 4/4 [00:15<00:00,  3.91s/it]\n"
     ]
    },
    {
     "name": "stdout",
     "output_type": "stream",
     "text": [
      "iter 9280: loss 5.2080, time 15679.47ms\n"
     ]
    },
    {
     "name": "stderr",
     "output_type": "stream",
     "text": [
      "100%|██████████| 4/4 [00:15<00:00,  3.91s/it]\n",
      "100%|██████████| 4/4 [00:15<00:00,  3.91s/it]\n",
      "100%|██████████| 4/4 [00:15<00:00,  3.91s/it]\n",
      "100%|██████████| 4/4 [00:15<00:00,  3.91s/it]\n",
      "100%|██████████| 4/4 [00:15<00:00,  3.92s/it]\n",
      "100%|██████████| 4/4 [00:15<00:00,  3.91s/it]\n",
      "100%|██████████| 4/4 [00:15<00:00,  3.91s/it]\n",
      "100%|██████████| 4/4 [00:15<00:00,  3.91s/it]\n",
      "100%|██████████| 4/4 [00:15<00:00,  3.97s/it]\n",
      "100%|██████████| 4/4 [00:16<00:00,  4.02s/it]\n",
      "100%|██████████| 4/4 [00:16<00:00,  4.02s/it]\n",
      "100%|██████████| 4/4 [00:16<00:00,  4.02s/it]\n",
      "100%|██████████| 4/4 [00:16<00:00,  4.02s/it]\n",
      "100%|██████████| 4/4 [00:16<00:00,  4.02s/it]\n",
      "100%|██████████| 4/4 [00:16<00:00,  4.02s/it]\n",
      "100%|██████████| 4/4 [00:16<00:00,  4.02s/it]\n",
      "100%|██████████| 4/4 [00:15<00:00,  3.95s/it]\n",
      "100%|██████████| 4/4 [00:15<00:00,  3.96s/it]\n",
      "100%|██████████| 4/4 [00:15<00:00,  3.95s/it]\n",
      "100%|██████████| 4/4 [00:15<00:00,  3.96s/it]\n"
     ]
    },
    {
     "name": "stdout",
     "output_type": "stream",
     "text": [
      "iter 9300: loss 5.6051, time 15847.59ms\n"
     ]
    },
    {
     "name": "stderr",
     "output_type": "stream",
     "text": [
      "100%|██████████| 4/4 [00:15<00:00,  3.95s/it]\n",
      "100%|██████████| 4/4 [00:15<00:00,  3.95s/it]\n",
      "100%|██████████| 4/4 [00:15<00:00,  3.95s/it]\n",
      "100%|██████████| 4/4 [00:15<00:00,  3.96s/it]\n",
      "100%|██████████| 4/4 [00:15<00:00,  3.95s/it]\n",
      "100%|██████████| 4/4 [00:15<00:00,  3.95s/it]\n",
      "100%|██████████| 4/4 [00:15<00:00,  3.96s/it]\n",
      "100%|██████████| 4/4 [00:15<00:00,  3.96s/it]\n",
      "100%|██████████| 4/4 [00:15<00:00,  3.96s/it]\n",
      "100%|██████████| 4/4 [00:15<00:00,  3.95s/it]\n",
      "100%|██████████| 4/4 [00:15<00:00,  3.96s/it]\n",
      "100%|██████████| 4/4 [00:15<00:00,  3.96s/it]\n",
      "100%|██████████| 4/4 [00:15<00:00,  3.95s/it]\n",
      "100%|██████████| 4/4 [00:15<00:00,  3.95s/it]\n",
      "100%|██████████| 4/4 [00:15<00:00,  3.95s/it]\n",
      "100%|██████████| 4/4 [00:15<00:00,  3.95s/it]\n",
      "100%|██████████| 4/4 [00:15<00:00,  3.96s/it]\n",
      "100%|██████████| 4/4 [00:15<00:00,  3.96s/it]\n",
      "100%|██████████| 4/4 [00:15<00:00,  3.96s/it]\n",
      "100%|██████████| 4/4 [00:15<00:00,  3.95s/it]\n"
     ]
    },
    {
     "name": "stdout",
     "output_type": "stream",
     "text": [
      "iter 9320: loss 5.4032, time 15839.32ms\n"
     ]
    },
    {
     "name": "stderr",
     "output_type": "stream",
     "text": [
      "100%|██████████| 4/4 [00:15<00:00,  3.95s/it]\n",
      "100%|██████████| 4/4 [00:15<00:00,  3.95s/it]\n",
      "100%|██████████| 4/4 [00:15<00:00,  3.96s/it]\n",
      "100%|██████████| 4/4 [00:15<00:00,  3.96s/it]\n",
      "100%|██████████| 4/4 [00:15<00:00,  3.95s/it]\n",
      "100%|██████████| 4/4 [00:15<00:00,  3.96s/it]\n",
      "100%|██████████| 4/4 [00:16<00:00,  4.02s/it]\n",
      "100%|██████████| 4/4 [00:16<00:00,  4.02s/it]\n",
      "100%|██████████| 4/4 [00:16<00:00,  4.02s/it]\n",
      "100%|██████████| 4/4 [00:16<00:00,  4.03s/it]\n",
      "100%|██████████| 4/4 [00:16<00:00,  4.03s/it]\n",
      "100%|██████████| 4/4 [00:16<00:00,  4.02s/it]\n",
      "100%|██████████| 4/4 [00:16<00:00,  4.02s/it]\n",
      "100%|██████████| 4/4 [00:16<00:00,  4.03s/it]\n",
      "100%|██████████| 4/4 [00:16<00:00,  4.02s/it]\n",
      "100%|██████████| 4/4 [00:16<00:00,  4.02s/it]\n",
      "100%|██████████| 4/4 [00:16<00:00,  4.02s/it]\n",
      "100%|██████████| 4/4 [00:15<00:00,  3.95s/it]\n",
      "100%|██████████| 4/4 [00:15<00:00,  3.94s/it]\n",
      "100%|██████████| 4/4 [00:15<00:00,  3.94s/it]\n"
     ]
    },
    {
     "name": "stdout",
     "output_type": "stream",
     "text": [
      "iter 9340: loss 5.4830, time 15800.63ms\n"
     ]
    },
    {
     "name": "stderr",
     "output_type": "stream",
     "text": [
      "100%|██████████| 4/4 [00:15<00:00,  3.94s/it]\n",
      "100%|██████████| 4/4 [00:15<00:00,  3.99s/it]\n",
      "100%|██████████| 4/4 [00:15<00:00,  3.98s/it]\n",
      "100%|██████████| 4/4 [00:15<00:00,  3.99s/it]\n",
      "100%|██████████| 4/4 [00:15<00:00,  4.00s/it]\n",
      "100%|██████████| 4/4 [00:15<00:00,  3.99s/it]\n",
      "100%|██████████| 4/4 [00:15<00:00,  3.98s/it]\n",
      "100%|██████████| 4/4 [00:15<00:00,  3.98s/it]\n",
      "100%|██████████| 4/4 [00:15<00:00,  4.00s/it]\n",
      "100%|██████████| 4/4 [00:15<00:00,  3.99s/it]\n",
      "100%|██████████| 4/4 [00:15<00:00,  3.99s/it]\n",
      "100%|██████████| 4/4 [00:15<00:00,  3.99s/it]\n",
      "100%|██████████| 4/4 [00:15<00:00,  4.00s/it]\n",
      "100%|██████████| 4/4 [00:15<00:00,  3.99s/it]\n",
      "100%|██████████| 4/4 [00:15<00:00,  3.98s/it]\n",
      "100%|██████████| 4/4 [00:15<00:00,  3.99s/it]\n",
      "100%|██████████| 4/4 [00:16<00:00,  4.00s/it]\n",
      "100%|██████████| 4/4 [00:15<00:00,  3.99s/it]\n",
      "100%|██████████| 4/4 [00:15<00:00,  3.99s/it]\n",
      "100%|██████████| 4/4 [00:15<00:00,  3.99s/it]\n"
     ]
    },
    {
     "name": "stdout",
     "output_type": "stream",
     "text": [
      "iter 9360: loss 5.4361, time 15984.50ms\n"
     ]
    },
    {
     "name": "stderr",
     "output_type": "stream",
     "text": [
      "100%|██████████| 4/4 [00:15<00:00,  3.98s/it]\n",
      "100%|██████████| 4/4 [00:15<00:00,  3.99s/it]\n",
      "100%|██████████| 4/4 [00:15<00:00,  3.99s/it]\n",
      "100%|██████████| 4/4 [00:15<00:00,  4.00s/it]\n",
      "100%|██████████| 4/4 [00:15<00:00,  3.99s/it]\n",
      "100%|██████████| 4/4 [00:15<00:00,  3.98s/it]\n",
      "100%|██████████| 4/4 [00:15<00:00,  3.99s/it]\n",
      "100%|██████████| 4/4 [00:15<00:00,  3.99s/it]\n",
      "100%|██████████| 4/4 [00:15<00:00,  3.99s/it]\n",
      "100%|██████████| 4/4 [00:15<00:00,  3.99s/it]\n",
      "100%|██████████| 4/4 [00:15<00:00,  3.98s/it]\n",
      "100%|██████████| 4/4 [00:15<00:00,  4.00s/it]\n",
      "100%|██████████| 4/4 [00:15<00:00,  3.99s/it]\n",
      "100%|██████████| 4/4 [00:15<00:00,  3.98s/it]\n",
      "100%|██████████| 4/4 [00:15<00:00,  3.99s/it]\n",
      "100%|██████████| 4/4 [00:15<00:00,  3.99s/it]\n",
      "100%|██████████| 4/4 [00:15<00:00,  3.99s/it]\n",
      "100%|██████████| 4/4 [00:15<00:00,  3.99s/it]\n",
      "100%|██████████| 4/4 [00:15<00:00,  3.99s/it]\n",
      "100%|██████████| 4/4 [00:15<00:00,  3.99s/it]\n"
     ]
    },
    {
     "name": "stdout",
     "output_type": "stream",
     "text": [
      "iter 9380: loss 5.1316, time 15971.71ms\n"
     ]
    },
    {
     "name": "stderr",
     "output_type": "stream",
     "text": [
      "100%|██████████| 4/4 [00:15<00:00,  3.98s/it]\n",
      "100%|██████████| 4/4 [00:15<00:00,  3.99s/it]\n",
      "100%|██████████| 4/4 [00:15<00:00,  3.99s/it]\n",
      "100%|██████████| 4/4 [00:15<00:00,  3.98s/it]\n",
      "100%|██████████| 4/4 [00:15<00:00,  3.98s/it]\n",
      "100%|██████████| 4/4 [00:15<00:00,  3.99s/it]\n",
      "100%|██████████| 4/4 [00:15<00:00,  3.99s/it]\n",
      "100%|██████████| 4/4 [00:15<00:00,  3.99s/it]\n",
      "100%|██████████| 4/4 [00:15<00:00,  3.98s/it]\n",
      "100%|██████████| 4/4 [00:15<00:00,  3.98s/it]\n",
      "100%|██████████| 4/4 [00:15<00:00,  3.99s/it]\n",
      "100%|██████████| 4/4 [00:15<00:00,  3.99s/it]\n",
      "100%|██████████| 4/4 [00:15<00:00,  3.98s/it]\n",
      "100%|██████████| 4/4 [00:15<00:00,  3.99s/it]\n",
      "100%|██████████| 4/4 [00:15<00:00,  3.99s/it]\n",
      "100%|██████████| 4/4 [00:15<00:00,  3.98s/it]\n",
      "100%|██████████| 4/4 [00:15<00:00,  3.99s/it]\n",
      "100%|██████████| 4/4 [00:15<00:00,  3.99s/it]\n",
      "100%|██████████| 4/4 [00:15<00:00,  3.99s/it]\n"
     ]
    },
    {
     "name": "stdout",
     "output_type": "stream",
     "text": [
      "step 9400: train loss 5.5280, val loss 5.4976\n",
      "train ppl 251.65, val ppl 244.10\n",
      "📈 Train/Val Gap: -0.0305 (-0.55%)\n"
     ]
    },
    {
     "name": "stderr",
     "output_type": "stream",
     "text": [
      "100%|██████████| 4/4 [00:15<00:00,  3.98s/it]\n"
     ]
    },
    {
     "name": "stdout",
     "output_type": "stream",
     "text": [
      "iter 9400: loss 5.8633, time 106345.00ms\n"
     ]
    },
    {
     "name": "stderr",
     "output_type": "stream",
     "text": [
      "100%|██████████| 4/4 [00:15<00:00,  3.98s/it]\n",
      "100%|██████████| 4/4 [00:15<00:00,  3.99s/it]\n",
      "100%|██████████| 4/4 [00:15<00:00,  3.98s/it]\n",
      "100%|██████████| 4/4 [00:15<00:00,  3.99s/it]\n",
      "100%|██████████| 4/4 [00:15<00:00,  3.99s/it]\n",
      "100%|██████████| 4/4 [00:15<00:00,  3.98s/it]\n",
      "100%|██████████| 4/4 [00:15<00:00,  3.99s/it]\n",
      "100%|██████████| 4/4 [00:15<00:00,  3.98s/it]\n",
      "100%|██████████| 4/4 [00:15<00:00,  3.98s/it]\n",
      "100%|██████████| 4/4 [00:15<00:00,  3.98s/it]\n",
      "100%|██████████| 4/4 [00:15<00:00,  3.99s/it]\n",
      "100%|██████████| 4/4 [00:15<00:00,  3.99s/it]\n",
      "100%|██████████| 4/4 [00:15<00:00,  3.98s/it]\n",
      "100%|██████████| 4/4 [00:15<00:00,  3.99s/it]\n",
      "100%|██████████| 4/4 [00:16<00:00,  4.02s/it]\n",
      "100%|██████████| 4/4 [00:15<00:00,  3.98s/it]\n",
      "100%|██████████| 4/4 [00:15<00:00,  3.98s/it]\n",
      "100%|██████████| 4/4 [00:15<00:00,  3.98s/it]\n",
      "100%|██████████| 4/4 [00:15<00:00,  3.99s/it]\n",
      "100%|██████████| 4/4 [00:15<00:00,  3.98s/it]\n"
     ]
    },
    {
     "name": "stdout",
     "output_type": "stream",
     "text": [
      "iter 9420: loss 5.6864, time 15947.64ms\n"
     ]
    },
    {
     "name": "stderr",
     "output_type": "stream",
     "text": [
      "100%|██████████| 4/4 [00:15<00:00,  3.98s/it]\n",
      "100%|██████████| 4/4 [00:15<00:00,  3.99s/it]\n",
      "100%|██████████| 4/4 [00:15<00:00,  3.98s/it]\n",
      "100%|██████████| 4/4 [00:15<00:00,  3.98s/it]\n",
      "100%|██████████| 4/4 [00:15<00:00,  3.98s/it]\n",
      "100%|██████████| 4/4 [00:15<00:00,  3.99s/it]\n",
      "100%|██████████| 4/4 [00:16<00:00,  4.01s/it]\n",
      "100%|██████████| 4/4 [00:15<00:00,  3.99s/it]\n",
      "100%|██████████| 4/4 [00:15<00:00,  3.98s/it]\n",
      "100%|██████████| 4/4 [00:15<00:00,  3.99s/it]\n",
      "100%|██████████| 4/4 [00:15<00:00,  3.99s/it]\n",
      "100%|██████████| 4/4 [00:15<00:00,  3.98s/it]\n",
      "100%|██████████| 4/4 [00:15<00:00,  3.99s/it]\n",
      "100%|██████████| 4/4 [00:15<00:00,  3.99s/it]\n",
      "100%|██████████| 4/4 [00:15<00:00,  3.99s/it]\n",
      "100%|██████████| 4/4 [00:15<00:00,  3.99s/it]\n",
      "100%|██████████| 4/4 [00:15<00:00,  3.99s/it]\n",
      "100%|██████████| 4/4 [00:15<00:00,  3.99s/it]\n",
      "100%|██████████| 4/4 [00:15<00:00,  3.99s/it]\n",
      "100%|██████████| 4/4 [00:15<00:00,  3.98s/it]\n"
     ]
    },
    {
     "name": "stdout",
     "output_type": "stream",
     "text": [
      "iter 9440: loss 5.9789, time 15959.94ms\n"
     ]
    },
    {
     "name": "stderr",
     "output_type": "stream",
     "text": [
      "100%|██████████| 4/4 [00:15<00:00,  3.99s/it]\n",
      "100%|██████████| 4/4 [00:15<00:00,  3.99s/it]\n",
      "100%|██████████| 4/4 [00:16<00:00,  4.01s/it]\n",
      "100%|██████████| 4/4 [00:15<00:00,  3.99s/it]\n",
      "100%|██████████| 4/4 [00:15<00:00,  3.99s/it]\n",
      "100%|██████████| 4/4 [00:15<00:00,  3.99s/it]\n",
      "100%|██████████| 4/4 [00:15<00:00,  3.99s/it]\n",
      "100%|██████████| 4/4 [00:15<00:00,  3.99s/it]\n",
      "100%|██████████| 4/4 [00:15<00:00,  3.99s/it]\n",
      "100%|██████████| 4/4 [00:15<00:00,  3.99s/it]\n",
      "100%|██████████| 4/4 [00:15<00:00,  3.98s/it]\n",
      "100%|██████████| 4/4 [00:15<00:00,  3.99s/it]\n",
      "100%|██████████| 4/4 [00:15<00:00,  3.98s/it]\n",
      "100%|██████████| 4/4 [00:15<00:00,  3.98s/it]\n",
      "100%|██████████| 4/4 [00:15<00:00,  3.99s/it]\n",
      "100%|██████████| 4/4 [00:15<00:00,  4.00s/it]\n",
      "100%|██████████| 4/4 [00:15<00:00,  3.99s/it]\n",
      "100%|██████████| 4/4 [00:15<00:00,  3.99s/it]\n",
      "100%|██████████| 4/4 [00:15<00:00,  3.98s/it]\n",
      "100%|██████████| 4/4 [00:15<00:00,  4.00s/it]\n"
     ]
    },
    {
     "name": "stdout",
     "output_type": "stream",
     "text": [
      "iter 9460: loss 5.1273, time 16006.99ms\n"
     ]
    },
    {
     "name": "stderr",
     "output_type": "stream",
     "text": [
      "100%|██████████| 4/4 [00:15<00:00,  3.98s/it]\n",
      "100%|██████████| 4/4 [00:15<00:00,  3.99s/it]\n",
      "100%|██████████| 4/4 [00:15<00:00,  3.98s/it]\n",
      "100%|██████████| 4/4 [00:15<00:00,  4.00s/it]\n",
      "100%|██████████| 4/4 [00:15<00:00,  3.99s/it]\n",
      "100%|██████████| 4/4 [00:15<00:00,  3.99s/it]\n",
      "100%|██████████| 4/4 [00:15<00:00,  3.98s/it]\n",
      "100%|██████████| 4/4 [00:15<00:00,  3.99s/it]\n",
      "100%|██████████| 4/4 [00:15<00:00,  3.99s/it]\n",
      "100%|██████████| 4/4 [00:15<00:00,  3.99s/it]\n",
      "100%|██████████| 4/4 [00:15<00:00,  4.00s/it]\n",
      "100%|██████████| 4/4 [00:15<00:00,  3.98s/it]\n",
      "100%|██████████| 4/4 [00:15<00:00,  3.98s/it]\n",
      "100%|██████████| 4/4 [00:15<00:00,  3.99s/it]\n",
      "100%|██████████| 4/4 [00:15<00:00,  3.99s/it]\n",
      "100%|██████████| 4/4 [00:15<00:00,  3.98s/it]\n",
      "100%|██████████| 4/4 [00:15<00:00,  3.99s/it]\n",
      "100%|██████████| 4/4 [00:15<00:00,  3.99s/it]\n",
      "100%|██████████| 4/4 [00:15<00:00,  3.99s/it]\n",
      "100%|██████████| 4/4 [00:15<00:00,  3.99s/it]\n"
     ]
    },
    {
     "name": "stdout",
     "output_type": "stream",
     "text": [
      "iter 9480: loss 5.3823, time 15965.99ms\n"
     ]
    },
    {
     "name": "stderr",
     "output_type": "stream",
     "text": [
      "100%|██████████| 4/4 [00:15<00:00,  3.98s/it]\n",
      "100%|██████████| 4/4 [00:15<00:00,  3.99s/it]\n",
      "100%|██████████| 4/4 [00:15<00:00,  3.99s/it]\n",
      "100%|██████████| 4/4 [00:15<00:00,  3.99s/it]\n",
      "100%|██████████| 4/4 [00:15<00:00,  3.99s/it]\n",
      "100%|██████████| 4/4 [00:15<00:00,  3.99s/it]\n",
      "100%|██████████| 4/4 [00:15<00:00,  3.98s/it]\n",
      "100%|██████████| 4/4 [00:15<00:00,  3.99s/it]\n",
      "100%|██████████| 4/4 [00:15<00:00,  3.99s/it]\n",
      "100%|██████████| 4/4 [00:15<00:00,  3.99s/it]\n",
      "100%|██████████| 4/4 [00:15<00:00,  3.99s/it]\n",
      "100%|██████████| 4/4 [00:15<00:00,  3.99s/it]\n",
      "100%|██████████| 4/4 [00:15<00:00,  3.98s/it]\n",
      "100%|██████████| 4/4 [00:15<00:00,  3.99s/it]\n",
      "100%|██████████| 4/4 [00:15<00:00,  3.98s/it]\n",
      "100%|██████████| 4/4 [00:15<00:00,  3.98s/it]\n",
      "100%|██████████| 4/4 [00:15<00:00,  3.99s/it]\n",
      "100%|██████████| 4/4 [00:15<00:00,  3.99s/it]\n",
      "100%|██████████| 4/4 [00:15<00:00,  3.98s/it]\n",
      "100%|██████████| 4/4 [00:15<00:00,  3.99s/it]\n"
     ]
    },
    {
     "name": "stdout",
     "output_type": "stream",
     "text": [
      "iter 9500: loss 5.6172, time 15971.20ms\n"
     ]
    },
    {
     "name": "stderr",
     "output_type": "stream",
     "text": [
      "100%|██████████| 4/4 [00:15<00:00,  3.98s/it]\n",
      "100%|██████████| 4/4 [00:15<00:00,  3.99s/it]\n",
      "100%|██████████| 4/4 [00:15<00:00,  3.98s/it]\n",
      "100%|██████████| 4/4 [00:15<00:00,  3.98s/it]\n",
      "100%|██████████| 4/4 [00:15<00:00,  4.00s/it]\n",
      "100%|██████████| 4/4 [00:16<00:00,  4.02s/it]\n",
      "100%|██████████| 4/4 [00:16<00:00,  4.02s/it]\n",
      "100%|██████████| 4/4 [00:16<00:00,  4.02s/it]\n",
      "100%|██████████| 4/4 [00:16<00:00,  4.02s/it]\n",
      "100%|██████████| 4/4 [00:16<00:00,  4.02s/it]\n",
      "100%|██████████| 4/4 [00:16<00:00,  4.02s/it]\n",
      "100%|██████████| 4/4 [00:16<00:00,  4.02s/it]\n",
      "100%|██████████| 4/4 [00:16<00:00,  4.02s/it]\n",
      "100%|██████████| 4/4 [00:16<00:00,  4.02s/it]\n",
      "100%|██████████| 4/4 [00:16<00:00,  4.02s/it]\n",
      "100%|██████████| 4/4 [00:16<00:00,  4.02s/it]\n",
      "100%|██████████| 4/4 [00:16<00:00,  4.02s/it]\n",
      "100%|██████████| 4/4 [00:16<00:00,  4.02s/it]\n",
      "100%|██████████| 4/4 [00:16<00:00,  4.02s/it]\n",
      "100%|██████████| 4/4 [00:16<00:00,  4.03s/it]\n"
     ]
    },
    {
     "name": "stdout",
     "output_type": "stream",
     "text": [
      "iter 9520: loss 5.7782, time 16127.37ms\n"
     ]
    },
    {
     "name": "stderr",
     "output_type": "stream",
     "text": [
      "100%|██████████| 4/4 [00:16<00:00,  4.01s/it]\n",
      "100%|██████████| 4/4 [00:16<00:00,  4.02s/it]\n",
      "100%|██████████| 4/4 [00:16<00:00,  4.02s/it]\n",
      "100%|██████████| 4/4 [00:16<00:00,  4.03s/it]\n",
      "100%|██████████| 4/4 [00:16<00:00,  4.02s/it]\n",
      "100%|██████████| 4/4 [00:16<00:00,  4.02s/it]\n",
      "100%|██████████| 4/4 [00:16<00:00,  4.03s/it]\n",
      "100%|██████████| 4/4 [00:16<00:00,  4.02s/it]\n",
      "100%|██████████| 4/4 [00:16<00:00,  4.02s/it]\n",
      "100%|██████████| 4/4 [00:16<00:00,  4.02s/it]\n",
      "100%|██████████| 4/4 [00:16<00:00,  4.02s/it]\n",
      "100%|██████████| 4/4 [00:16<00:00,  4.02s/it]\n",
      "100%|██████████| 4/4 [00:16<00:00,  4.02s/it]\n",
      "100%|██████████| 4/4 [00:16<00:00,  4.02s/it]\n",
      "100%|██████████| 4/4 [00:16<00:00,  4.02s/it]\n",
      "100%|██████████| 4/4 [00:16<00:00,  4.02s/it]\n",
      "100%|██████████| 4/4 [00:16<00:00,  4.02s/it]\n",
      "100%|██████████| 4/4 [00:16<00:00,  4.02s/it]\n",
      "100%|██████████| 4/4 [00:16<00:00,  4.02s/it]\n",
      "100%|██████████| 4/4 [00:16<00:00,  4.01s/it]\n"
     ]
    },
    {
     "name": "stdout",
     "output_type": "stream",
     "text": [
      "iter 9540: loss 5.7875, time 16073.77ms\n"
     ]
    },
    {
     "name": "stderr",
     "output_type": "stream",
     "text": [
      "100%|██████████| 4/4 [00:16<00:00,  4.01s/it]\n",
      "100%|██████████| 4/4 [00:16<00:00,  4.01s/it]\n",
      "100%|██████████| 4/4 [00:16<00:00,  4.01s/it]\n",
      "100%|██████████| 4/4 [00:16<00:00,  4.01s/it]\n",
      "100%|██████████| 4/4 [00:16<00:00,  4.01s/it]\n",
      "100%|██████████| 4/4 [00:16<00:00,  4.01s/it]\n",
      "100%|██████████| 4/4 [00:16<00:00,  4.01s/it]\n",
      "100%|██████████| 4/4 [00:16<00:00,  4.01s/it]\n",
      "100%|██████████| 4/4 [00:16<00:00,  4.01s/it]\n",
      "100%|██████████| 4/4 [00:16<00:00,  4.01s/it]\n",
      "100%|██████████| 4/4 [00:16<00:00,  4.01s/it]\n",
      "100%|██████████| 4/4 [00:16<00:00,  4.01s/it]\n",
      "100%|██████████| 4/4 [00:16<00:00,  4.01s/it]\n",
      "100%|██████████| 4/4 [00:16<00:00,  4.01s/it]\n",
      "100%|██████████| 4/4 [00:16<00:00,  4.01s/it]\n",
      "100%|██████████| 4/4 [00:16<00:00,  4.01s/it]\n",
      "100%|██████████| 4/4 [00:16<00:00,  4.01s/it]\n",
      "100%|██████████| 4/4 [00:16<00:00,  4.01s/it]\n",
      "100%|██████████| 4/4 [00:16<00:00,  4.01s/it]\n",
      "100%|██████████| 4/4 [00:16<00:00,  4.01s/it]\n"
     ]
    },
    {
     "name": "stdout",
     "output_type": "stream",
     "text": [
      "iter 9560: loss 5.6105, time 16074.94ms\n"
     ]
    },
    {
     "name": "stderr",
     "output_type": "stream",
     "text": [
      "100%|██████████| 4/4 [00:16<00:00,  4.01s/it]\n",
      "100%|██████████| 4/4 [00:16<00:00,  4.01s/it]\n",
      "100%|██████████| 4/4 [00:16<00:00,  4.01s/it]\n",
      "100%|██████████| 4/4 [00:16<00:00,  4.01s/it]\n",
      "100%|██████████| 4/4 [00:16<00:00,  4.05s/it]\n",
      "100%|██████████| 4/4 [00:16<00:00,  4.03s/it]\n",
      "100%|██████████| 4/4 [00:16<00:00,  4.02s/it]\n",
      "100%|██████████| 4/4 [00:16<00:00,  4.02s/it]\n",
      "100%|██████████| 4/4 [00:16<00:00,  4.02s/it]\n",
      "100%|██████████| 4/4 [00:16<00:00,  4.02s/it]\n",
      "100%|██████████| 4/4 [00:16<00:00,  4.02s/it]\n",
      "100%|██████████| 4/4 [00:16<00:00,  4.03s/it]\n",
      "100%|██████████| 4/4 [00:16<00:00,  4.02s/it]\n",
      "100%|██████████| 4/4 [00:16<00:00,  4.02s/it]\n",
      "100%|██████████| 4/4 [00:16<00:00,  4.02s/it]\n",
      "100%|██████████| 4/4 [00:16<00:00,  4.03s/it]\n",
      "100%|██████████| 4/4 [00:16<00:00,  4.02s/it]\n",
      "100%|██████████| 4/4 [00:16<00:00,  4.02s/it]\n",
      "100%|██████████| 4/4 [00:16<00:00,  4.02s/it]\n",
      "100%|██████████| 4/4 [00:16<00:00,  4.02s/it]\n"
     ]
    },
    {
     "name": "stdout",
     "output_type": "stream",
     "text": [
      "iter 9580: loss 5.5412, time 16119.12ms\n"
     ]
    },
    {
     "name": "stderr",
     "output_type": "stream",
     "text": [
      "100%|██████████| 4/4 [00:16<00:00,  4.01s/it]\n",
      "100%|██████████| 4/4 [00:16<00:00,  4.02s/it]\n",
      "100%|██████████| 4/4 [00:16<00:00,  4.03s/it]\n",
      "100%|██████████| 4/4 [00:16<00:00,  4.02s/it]\n",
      "100%|██████████| 4/4 [00:16<00:00,  4.02s/it]\n",
      "100%|██████████| 4/4 [00:16<00:00,  4.02s/it]\n",
      "100%|██████████| 4/4 [00:16<00:00,  4.01s/it]\n",
      "100%|██████████| 4/4 [00:15<00:00,  3.96s/it]\n",
      "100%|██████████| 4/4 [00:15<00:00,  3.96s/it]\n",
      "100%|██████████| 4/4 [00:15<00:00,  3.96s/it]\n",
      "100%|██████████| 4/4 [00:15<00:00,  3.96s/it]\n",
      "100%|██████████| 4/4 [00:15<00:00,  3.95s/it]\n",
      "100%|██████████| 4/4 [00:15<00:00,  3.96s/it]\n",
      "100%|██████████| 4/4 [00:15<00:00,  3.95s/it]\n",
      "100%|██████████| 4/4 [00:15<00:00,  3.96s/it]\n",
      "100%|██████████| 4/4 [00:15<00:00,  3.95s/it]\n",
      "100%|██████████| 4/4 [00:15<00:00,  3.96s/it]\n",
      "100%|██████████| 4/4 [00:15<00:00,  3.96s/it]\n",
      "100%|██████████| 4/4 [00:15<00:00,  3.95s/it]\n"
     ]
    },
    {
     "name": "stdout",
     "output_type": "stream",
     "text": [
      "step 9600: train loss 5.5777, val loss 5.5689\n",
      "train ppl 264.47, val ppl 262.13\n",
      "📈 Train/Val Gap: -0.0089 (-0.16%)\n"
     ]
    },
    {
     "name": "stderr",
     "output_type": "stream",
     "text": [
      "100%|██████████| 4/4 [00:15<00:00,  3.95s/it]"
     ]
    },
    {
     "name": "stdout",
     "output_type": "stream",
     "text": [
      "iter 9600: loss 5.7583, time 106191.17ms\n",
      "訓練完成！\n",
      "最佳驗證損失: 5.4677\n"
     ]
    },
    {
     "name": "stderr",
     "output_type": "stream",
     "text": [
      "\n"
     ]
    }
   ],
   "source": [
    "# 🚀 執行訓練循環\n",
    "\n",
    "# 統計變量\n",
    "iter_num = 0\n",
    "best_val_loss = 1e9\n",
    "t0 = time.time()\n",
    "\n",
    "# 預取第一個批次\n",
    "x, y = get_batch('train')\n",
    "\n",
    "print(\"\\\\n🚀 開始訓練循環...\")\n",
    "print(f\"總迭代次數: {max_iters}\")\n",
    "print(f\"評估間隔: {eval_interval}\")\n",
    "print(f\"每次迭代處理 tokens: {tokens_per_iter:,}\")\n",
    "\n",
    "# ========================================\n",
    "# 主訓練循環\n",
    "# ========================================\n",
    "while True:\n",
    "    \n",
    "    # ========================================\n",
    "    # 1. 設置學習率\n",
    "    # ========================================\n",
    "    lr = get_lr(iter_num, warmup_iters, lr_decay_iters, learning_rate, min_lr, decay_lr=True)\n",
    "    for param_group in optimizer.param_groups:\n",
    "        param_group['lr'] = lr\n",
    "    \n",
    "    # ========================================\n",
    "    # 2. 評估和檢查點保存\n",
    "    # ========================================\n",
    "    if iter_num % eval_interval == 0:\n",
    "        losses = estimate_loss(iter_num)\n",
    "        train_loss = losses['train']['loss']\n",
    "        val_loss = losses['val']['loss']\n",
    "        \n",
    "        print(f\"step {iter_num}: train loss {train_loss:.4f}, val loss {val_loss:.4f}\")\n",
    "        print(f\"train ppl {losses['train']['ppl']:.2f}, val ppl {losses['val']['ppl']:.2f}\")\n",
    "        \n",
    "        # Train/Val gap 監控\n",
    "        gap = val_loss - train_loss\n",
    "        gap_ratio = gap / train_loss if train_loss > 0 else 0\n",
    "        print(f\"📈 Train/Val Gap: {gap:.4f} ({gap_ratio*100:.2f}%)\")\n",
    "        \n",
    "        # PreCo 詳細統計\n",
    "        if model_name == \"preco\":\n",
    "            print(f\"PRECO 詳細統計:\")\n",
    "            print(f\"CE Loss: {losses['train']['ce_loss']:.4f} / {losses['val']['ce_loss']:.4f}\")\n",
    "            print(f\"Kalman 統計: mean={losses['train']['kalman_mean']:.4f}, std={losses['train']['kalman_std']:.4f}\")\n",
    "        \n",
    "        # wandb 記錄\n",
    "        if use_wandb:\n",
    "            log_data = {\n",
    "                \"train/loss\": train_loss, \"val/loss\": val_loss,\n",
    "                \"train/ppl\": losses['train']['ppl'], \"val/ppl\": losses['val']['ppl'],\n",
    "                \"learning_rate\": lr, \"iter\": iter_num,\n",
    "            }\n",
    "            \n",
    "            if model_name == \"preco\":\n",
    "                log_data.update({\n",
    "                    \"preco/adaptive_ttt_lr\": \"native\",\n",
    "                    \"preco/kalman_mean\": losses['train']['kalman_mean'],\n",
    "                    \"preco/kalman_std\": losses['train']['kalman_std'],\n",
    "                })\n",
    "            \n",
    "            wandb.log(log_data)\n",
    "        \n",
    "        # 保存最佳檢查點\n",
    "        if val_loss < best_val_loss:\n",
    "            best_val_loss = val_loss\n",
    "            print(f\"✅ 新的最佳驗證損失: {best_val_loss:.4f}\")\n",
    "    \n",
    "    # ========================================\n",
    "    # 3. 前向和反向傳播\n",
    "    # ========================================\n",
    "    for micro_step in tqdm(range(gradient_accumulation_steps)):\n",
    "        with ctx:\n",
    "            if model_name == \"ttt\":\n",
    "                outputs = model(input_ids=x, labels=y)\n",
    "                if isinstance(outputs, tuple):\n",
    "                    logits, loss = outputs[0], outputs[1]\n",
    "                else:\n",
    "                    logits, loss = outputs.logits, outputs.loss\n",
    "                loss = loss / gradient_accumulation_steps\n",
    "                \n",
    "            elif model_name == \"preco\":\n",
    "                logits, loss_dict = model(x, y, compute_branch_loss=False)\n",
    "                loss = loss_dict['total_loss'] / gradient_accumulation_steps\n",
    "                \n",
    "            else:\n",
    "                logits, loss = model(x, y)\n",
    "                loss = loss / gradient_accumulation_steps\n",
    "        \n",
    "        # 異步預取下一個批次\n",
    "        x, y = get_batch('train')\n",
    "        scaler.scale(loss).backward()\n",
    "    \n",
    "    # ========================================\n",
    "    # 4. 梯度裁剪和優化器步驟\n",
    "    # ========================================\n",
    "    if grad_clip != 0.0:\n",
    "        scaler.unscale_(optimizer)\n",
    "        torch.nn.utils.clip_grad_norm_(model.parameters(), grad_clip)\n",
    "    \n",
    "    scaler.step(optimizer)\n",
    "    scaler.update()\n",
    "    optimizer.zero_grad(set_to_none=True)\n",
    "    \n",
    "    # ========================================\n",
    "    # 5. 日誌記錄\n",
    "    # ========================================\n",
    "    t1 = time.time()\n",
    "    dt = t1 - t0\n",
    "    t0 = t1\n",
    "    \n",
    "    if iter_num % (log_interval * 2) == 0:\n",
    "        lossf = loss.item() * gradient_accumulation_steps\n",
    "        print(f\"iter {iter_num}: loss {lossf:.4f}, time {dt*1000:.2f}ms\")\n",
    "        \n",
    "        if model_name == \"preco\":\n",
    "            print(f\"TTT 自適應學習率: 原生機制\")\n",
    "    \n",
    "    iter_num += 1\n",
    "    \n",
    "    # ========================================\n",
    "    # 6. 終止條件\n",
    "    # ========================================\n",
    "    if iter_num > max_iters:\n",
    "        break\n",
    "\n",
    "# 清理\n",
    "if use_wandb:\n",
    "    wandb.finish()\n",
    "\n",
    "print(\"訓練完成！\")\n",
    "print(f\"最佳驗證損失: {best_val_loss:.4f}\")\n"
   ]
  }
 ],
 "metadata": {
  "kernelspec": {
   "display_name": "longhorn",
   "language": "python",
   "name": "python3"
  },
  "language_info": {
   "codemirror_mode": {
    "name": "ipython",
    "version": 3
   },
   "file_extension": ".py",
   "mimetype": "text/x-python",
   "name": "python",
   "nbconvert_exporter": "python",
   "pygments_lexer": "ipython3",
   "version": "3.10.9"
  }
 },
 "nbformat": 4,
 "nbformat_minor": 5
}
